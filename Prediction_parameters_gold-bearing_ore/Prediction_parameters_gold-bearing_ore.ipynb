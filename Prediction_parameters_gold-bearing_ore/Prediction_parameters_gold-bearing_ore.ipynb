{
 "cells": [
  {
   "cell_type": "markdown",
   "metadata": {},
   "source": [
    "# Восстановление золота из руды"
   ]
  },
  {
   "cell_type": "markdown",
   "metadata": {},
   "source": [
    "Нужно подготовить прототип модели машинного обучения для «Цифры». Компания разрабатывает решения для эффективной работы промышленных предприятий.\n",
    "\n",
    "Модель должна предсказать коэффициент восстановления золота из золотосодержащей руды. Используем данные с параметрами добычи и очистки. \n",
    "\n",
    "Модель поможет оптимизировать производство, чтобы не запускать предприятие с убыточными характеристиками.\n"
   ]
  },
  {
   "cell_type": "markdown",
   "metadata": {},
   "source": [
    "**Описание данных**\n",
    "\n",
    "Технологический процесс\n",
    "\n",
    "* Rougher feed — исходное сырье\n",
    "\n",
    "* Rougher additions (или reagent additions) — флотационные реагенты: Xanthate, Sulphate, Depressant\n",
    "\n",
    "* Xanthate — ксантогенат (промотер, или активатор флотации);\n",
    "\n",
    "* Sulphate — сульфат (на данном производстве сульфид натрия);\n",
    "\n",
    "* Depressant — депрессант (силикат натрия).\n",
    "\n",
    "* Rougher process (англ. «грубый процесс») — флотация\n",
    "\n",
    "* Rougher tails — отвальные хвосты\n",
    "\n",
    "* Float banks — флотационная установка\n",
    "\n",
    "* Cleaner process — очистка\n",
    "\n",
    "* Rougher Au — черновой концентрат золота\n",
    "\n",
    "* Final Au — финальный концентрат золота\n",
    "\n",
    "Параметры этапов\n",
    "\n",
    "* air amount — объём воздуха\n",
    "\n",
    "* fluid levels — уровень жидкости\n",
    "\n",
    "* feed size — размер гранул сырья\n",
    "\n",
    "* feed rate — скорость подачи\n",
    "\n",
    "Наименование признаков\n",
    "\n",
    "Наименование признаков должно быть такое:\n",
    "[этап].[тип_параметра].[название_параметра]\n",
    "Пример: rougher.input.feed_ag\n",
    "\n",
    "Возможные значения для блока [этап]:\n",
    "\n",
    "* rougher — флотация\n",
    "\n",
    "* primary_cleaner — первичная очистка\n",
    "\n",
    "* secondary_cleaner — вторичная очистка\n",
    "\n",
    "* final — финальные характеристики\n",
    "\n",
    "Возможные значения для блока [тип_параметра]:\n",
    "\n",
    "* input — параметры сырья\n",
    "\n",
    "* output — параметры продукта\n",
    "\n",
    "* state — параметры, характеризующие текущее состояние этапа\n",
    "\n",
    "* calculation — расчётные характеристики"
   ]
  },
  {
   "cell_type": "markdown",
   "metadata": {
    "toc": true
   },
   "source": [
    "<h1>Содержание<span class=\"tocSkip\"></span></h1>\n",
    "\n",
    "<div class=\"toc\"><ul class=\"toc-item\"><li><span><a href=\"#Подготовка-данных\" data-toc-modified-id=\"Подготовка-данных-1\"><span class=\"toc-item-num\">1&nbsp;&nbsp;</span>Подготовка данных</a></span><ul class=\"toc-item\"><li><span><a href=\"#Вывод\" data-toc-modified-id=\"Вывод-1.1\"><span class=\"toc-item-num\">1.1&nbsp;&nbsp;</span>Вывод</a></span></li></ul></li><li><span><a href=\"#Анализ-данных\" data-toc-modified-id=\"Анализ-данных-2\"><span class=\"toc-item-num\">2&nbsp;&nbsp;</span>Анализ данных</a></span><ul class=\"toc-item\"><li><span><a href=\"#Вывод\" data-toc-modified-id=\"Вывод-2.1\"><span class=\"toc-item-num\">2.1&nbsp;&nbsp;</span>Вывод</a></span></li></ul></li><li><span><a href=\"#Модель\" data-toc-modified-id=\"Модель-3\"><span class=\"toc-item-num\">3&nbsp;&nbsp;</span>Модель</a></span><ul class=\"toc-item\"><li><span><a href=\"#DecisionTreeRegressor\" data-toc-modified-id=\"DecisionTreeRegressor-3.1\"><span class=\"toc-item-num\">3.1&nbsp;&nbsp;</span>DecisionTreeRegressor</a></span></li><li><span><a href=\"#RandomForestRegressor\" data-toc-modified-id=\"RandomForestRegressor-3.2\"><span class=\"toc-item-num\">3.2&nbsp;&nbsp;</span>RandomForestRegressor</a></span></li><li><span><a href=\"#LinearRegression\" data-toc-modified-id=\"LinearRegression-3.3\"><span class=\"toc-item-num\">3.3&nbsp;&nbsp;</span>LinearRegression</a></span></li><li><span><a href=\"#Лучшая-модель\" data-toc-modified-id=\"Лучшая-модель-3.4\"><span class=\"toc-item-num\">3.4&nbsp;&nbsp;</span>Лучшая модель</a></span></li><li><span><a href=\"#Вывод\" data-toc-modified-id=\"Вывод-3.5\"><span class=\"toc-item-num\">3.5&nbsp;&nbsp;</span>Вывод</a></span></li></ul></li><li><span><a href=\"#Чек-лист-готовности-проекта\" data-toc-modified-id=\"Чек-лист-готовности-проекта-4\"><span class=\"toc-item-num\">4&nbsp;&nbsp;</span>Чек-лист готовности проекта</a></span></li></ul></div>"
   ]
  },
  {
   "cell_type": "markdown",
   "metadata": {},
   "source": [
    "## Подготовка данных"
   ]
  },
  {
   "cell_type": "code",
   "execution_count": 1,
   "metadata": {},
   "outputs": [],
   "source": [
    "# импортируем библиотеки\n",
    "import pandas as pd\n",
    "from sklearn.metrics import mean_absolute_error\n",
    "import matplotlib.pyplot as plt \n",
    "import numpy as np\n",
    "from sklearn.metrics import fbeta_score, make_scorer\n",
    "from sklearn.tree import DecisionTreeRegressor\n",
    "from sklearn.model_selection import cross_val_score\n",
    "from sklearn.model_selection import GridSearchCV\n",
    "from sklearn.tree import DecisionTreeRegressor\n",
    "from sklearn.ensemble import RandomForestRegressor\n",
    "from sklearn.linear_model import LinearRegression\n",
    "from sklearn.dummy import DummyRegressor\n",
    "import warnings\n",
    "warnings.simplefilter('ignore')"
   ]
  },
  {
   "cell_type": "code",
   "execution_count": 2,
   "metadata": {},
   "outputs": [],
   "source": [
    "# открываем файлы\n",
    "gold_recovery_train_new = pd.read_csv('/Users/dmitrijvolgin/Downloads/Я_Практикум/Проекты/Сборный проект 2/gold_recovery_train_new.csv',\n",
    "                                      index_col='date', parse_dates=['date'])\n",
    "\n",
    "gold_recovery_test_new = pd.read_csv('/Users/dmitrijvolgin/Downloads/Я_Практикум/Проекты/Сборный проект 2/gold_recovery_test_new.csv',\n",
    "                                     index_col='date', parse_dates=['date'])\n",
    "\n",
    "gold_recovery_full_new = pd.read_csv('/Users/dmitrijvolgin/Downloads/Я_Практикум/Проекты/Сборный проект 2/gold_recovery_full_new.csv',\n",
    "                                     index_col='date', parse_dates=['date'])\n"
   ]
  },
  {
   "cell_type": "code",
   "execution_count": 3,
   "metadata": {
    "scrolled": true
   },
   "outputs": [
    {
     "name": "stdout",
     "output_type": "stream",
     "text": [
      "<class 'pandas.core.frame.DataFrame'>\n",
      "DatetimeIndex: 14149 entries, 2016-01-15 00:00:00 to 2018-08-18 10:59:59\n",
      "Data columns (total 86 columns):\n",
      " #   Column                                              Non-Null Count  Dtype  \n",
      "---  ------                                              --------------  -----  \n",
      " 0   final.output.concentrate_ag                         14148 non-null  float64\n",
      " 1   final.output.concentrate_pb                         14148 non-null  float64\n",
      " 2   final.output.concentrate_sol                        13938 non-null  float64\n",
      " 3   final.output.concentrate_au                         14149 non-null  float64\n",
      " 4   final.output.recovery                               14149 non-null  float64\n",
      " 5   final.output.tail_ag                                14149 non-null  float64\n",
      " 6   final.output.tail_pb                                14049 non-null  float64\n",
      " 7   final.output.tail_sol                               14144 non-null  float64\n",
      " 8   final.output.tail_au                                14149 non-null  float64\n",
      " 9   primary_cleaner.input.sulfate                       14129 non-null  float64\n",
      " 10  primary_cleaner.input.depressant                    14117 non-null  float64\n",
      " 11  primary_cleaner.input.feed_size                     14149 non-null  float64\n",
      " 12  primary_cleaner.input.xanthate                      14049 non-null  float64\n",
      " 13  primary_cleaner.output.concentrate_ag               14149 non-null  float64\n",
      " 14  primary_cleaner.output.concentrate_pb               14063 non-null  float64\n",
      " 15  primary_cleaner.output.concentrate_sol              13863 non-null  float64\n",
      " 16  primary_cleaner.output.concentrate_au               14149 non-null  float64\n",
      " 17  primary_cleaner.output.tail_ag                      14148 non-null  float64\n",
      " 18  primary_cleaner.output.tail_pb                      14134 non-null  float64\n",
      " 19  primary_cleaner.output.tail_sol                     14103 non-null  float64\n",
      " 20  primary_cleaner.output.tail_au                      14149 non-null  float64\n",
      " 21  primary_cleaner.state.floatbank8_a_air              14145 non-null  float64\n",
      " 22  primary_cleaner.state.floatbank8_a_level            14148 non-null  float64\n",
      " 23  primary_cleaner.state.floatbank8_b_air              14145 non-null  float64\n",
      " 24  primary_cleaner.state.floatbank8_b_level            14148 non-null  float64\n",
      " 25  primary_cleaner.state.floatbank8_c_air              14147 non-null  float64\n",
      " 26  primary_cleaner.state.floatbank8_c_level            14148 non-null  float64\n",
      " 27  primary_cleaner.state.floatbank8_d_air              14146 non-null  float64\n",
      " 28  primary_cleaner.state.floatbank8_d_level            14148 non-null  float64\n",
      " 29  rougher.calculation.sulfate_to_au_concentrate       14148 non-null  float64\n",
      " 30  rougher.calculation.floatbank10_sulfate_to_au_feed  14148 non-null  float64\n",
      " 31  rougher.calculation.floatbank11_sulfate_to_au_feed  14148 non-null  float64\n",
      " 32  rougher.calculation.au_pb_ratio                     14149 non-null  float64\n",
      " 33  rougher.input.feed_ag                               14149 non-null  float64\n",
      " 34  rougher.input.feed_pb                               14049 non-null  float64\n",
      " 35  rougher.input.feed_rate                             14141 non-null  float64\n",
      " 36  rougher.input.feed_size                             14005 non-null  float64\n",
      " 37  rougher.input.feed_sol                              14071 non-null  float64\n",
      " 38  rougher.input.feed_au                               14149 non-null  float64\n",
      " 39  rougher.input.floatbank10_sulfate                   14120 non-null  float64\n",
      " 40  rougher.input.floatbank10_xanthate                  14141 non-null  float64\n",
      " 41  rougher.input.floatbank11_sulfate                   14113 non-null  float64\n",
      " 42  rougher.input.floatbank11_xanthate                  13721 non-null  float64\n",
      " 43  rougher.output.concentrate_ag                       14149 non-null  float64\n",
      " 44  rougher.output.concentrate_pb                       14149 non-null  float64\n",
      " 45  rougher.output.concentrate_sol                      14127 non-null  float64\n",
      " 46  rougher.output.concentrate_au                       14149 non-null  float64\n",
      " 47  rougher.output.recovery                             14149 non-null  float64\n",
      " 48  rougher.output.tail_ag                              14148 non-null  float64\n",
      " 49  rougher.output.tail_pb                              14149 non-null  float64\n",
      " 50  rougher.output.tail_sol                             14149 non-null  float64\n",
      " 51  rougher.output.tail_au                              14149 non-null  float64\n",
      " 52  rougher.state.floatbank10_a_air                     14148 non-null  float64\n",
      " 53  rougher.state.floatbank10_a_level                   14148 non-null  float64\n",
      " 54  rougher.state.floatbank10_b_air                     14148 non-null  float64\n",
      " 55  rougher.state.floatbank10_b_level                   14148 non-null  float64\n",
      " 56  rougher.state.floatbank10_c_air                     14148 non-null  float64\n",
      " 57  rougher.state.floatbank10_c_level                   14148 non-null  float64\n",
      " 58  rougher.state.floatbank10_d_air                     14149 non-null  float64\n",
      " 59  rougher.state.floatbank10_d_level                   14149 non-null  float64\n",
      " 60  rougher.state.floatbank10_e_air                     13713 non-null  float64\n",
      " 61  rougher.state.floatbank10_e_level                   14149 non-null  float64\n",
      " 62  rougher.state.floatbank10_f_air                     14149 non-null  float64\n",
      " 63  rougher.state.floatbank10_f_level                   14149 non-null  float64\n",
      " 64  secondary_cleaner.output.tail_ag                    14147 non-null  float64\n",
      " 65  secondary_cleaner.output.tail_pb                    14139 non-null  float64\n",
      " 66  secondary_cleaner.output.tail_sol                   12544 non-null  float64\n",
      " 67  secondary_cleaner.output.tail_au                    14149 non-null  float64\n",
      " 68  secondary_cleaner.state.floatbank2_a_air            13932 non-null  float64\n",
      " 69  secondary_cleaner.state.floatbank2_a_level          14148 non-null  float64\n",
      " 70  secondary_cleaner.state.floatbank2_b_air            14128 non-null  float64\n",
      " 71  secondary_cleaner.state.floatbank2_b_level          14148 non-null  float64\n",
      " 72  secondary_cleaner.state.floatbank3_a_air            14145 non-null  float64\n",
      " 73  secondary_cleaner.state.floatbank3_a_level          14148 non-null  float64\n",
      " 74  secondary_cleaner.state.floatbank3_b_air            14148 non-null  float64\n",
      " 75  secondary_cleaner.state.floatbank3_b_level          14148 non-null  float64\n",
      " 76  secondary_cleaner.state.floatbank4_a_air            14143 non-null  float64\n",
      " 77  secondary_cleaner.state.floatbank4_a_level          14148 non-null  float64\n",
      " 78  secondary_cleaner.state.floatbank4_b_air            14148 non-null  float64\n",
      " 79  secondary_cleaner.state.floatbank4_b_level          14148 non-null  float64\n",
      " 80  secondary_cleaner.state.floatbank5_a_air            14148 non-null  float64\n",
      " 81  secondary_cleaner.state.floatbank5_a_level          14148 non-null  float64\n",
      " 82  secondary_cleaner.state.floatbank5_b_air            14148 non-null  float64\n",
      " 83  secondary_cleaner.state.floatbank5_b_level          14148 non-null  float64\n",
      " 84  secondary_cleaner.state.floatbank6_a_air            14147 non-null  float64\n",
      " 85  secondary_cleaner.state.floatbank6_a_level          14148 non-null  float64\n",
      "dtypes: float64(86)\n",
      "memory usage: 9.4 MB\n",
      "None\n",
      "\n",
      "final.output.concentrate_ag                     1\n",
      "final.output.concentrate_pb                     1\n",
      "final.output.concentrate_sol                  211\n",
      "final.output.concentrate_au                     0\n",
      "final.output.recovery                           0\n",
      "                                             ... \n",
      "secondary_cleaner.state.floatbank5_a_level      1\n",
      "secondary_cleaner.state.floatbank5_b_air        1\n",
      "secondary_cleaner.state.floatbank5_b_level      1\n",
      "secondary_cleaner.state.floatbank6_a_air        2\n",
      "secondary_cleaner.state.floatbank6_a_level      1\n",
      "Length: 86, dtype: int64\n",
      "\n",
      "Сумма дубликатов = 0\n",
      "\n"
     ]
    },
    {
     "data": {
      "text/html": [
       "<div>\n",
       "<style scoped>\n",
       "    .dataframe tbody tr th:only-of-type {\n",
       "        vertical-align: middle;\n",
       "    }\n",
       "\n",
       "    .dataframe tbody tr th {\n",
       "        vertical-align: top;\n",
       "    }\n",
       "\n",
       "    .dataframe thead th {\n",
       "        text-align: right;\n",
       "    }\n",
       "</style>\n",
       "<table border=\"1\" class=\"dataframe\">\n",
       "  <thead>\n",
       "    <tr style=\"text-align: right;\">\n",
       "      <th></th>\n",
       "      <th>final.output.concentrate_ag</th>\n",
       "      <th>final.output.concentrate_pb</th>\n",
       "      <th>final.output.concentrate_sol</th>\n",
       "      <th>final.output.concentrate_au</th>\n",
       "      <th>final.output.recovery</th>\n",
       "      <th>final.output.tail_ag</th>\n",
       "      <th>final.output.tail_pb</th>\n",
       "      <th>final.output.tail_sol</th>\n",
       "      <th>final.output.tail_au</th>\n",
       "      <th>primary_cleaner.input.sulfate</th>\n",
       "      <th>...</th>\n",
       "      <th>secondary_cleaner.state.floatbank4_a_air</th>\n",
       "      <th>secondary_cleaner.state.floatbank4_a_level</th>\n",
       "      <th>secondary_cleaner.state.floatbank4_b_air</th>\n",
       "      <th>secondary_cleaner.state.floatbank4_b_level</th>\n",
       "      <th>secondary_cleaner.state.floatbank5_a_air</th>\n",
       "      <th>secondary_cleaner.state.floatbank5_a_level</th>\n",
       "      <th>secondary_cleaner.state.floatbank5_b_air</th>\n",
       "      <th>secondary_cleaner.state.floatbank5_b_level</th>\n",
       "      <th>secondary_cleaner.state.floatbank6_a_air</th>\n",
       "      <th>secondary_cleaner.state.floatbank6_a_level</th>\n",
       "    </tr>\n",
       "    <tr>\n",
       "      <th>date</th>\n",
       "      <th></th>\n",
       "      <th></th>\n",
       "      <th></th>\n",
       "      <th></th>\n",
       "      <th></th>\n",
       "      <th></th>\n",
       "      <th></th>\n",
       "      <th></th>\n",
       "      <th></th>\n",
       "      <th></th>\n",
       "      <th></th>\n",
       "      <th></th>\n",
       "      <th></th>\n",
       "      <th></th>\n",
       "      <th></th>\n",
       "      <th></th>\n",
       "      <th></th>\n",
       "      <th></th>\n",
       "      <th></th>\n",
       "      <th></th>\n",
       "      <th></th>\n",
       "    </tr>\n",
       "  </thead>\n",
       "  <tbody>\n",
       "    <tr>\n",
       "      <th>2016-01-15 00:00:00</th>\n",
       "      <td>6.055403</td>\n",
       "      <td>9.889648</td>\n",
       "      <td>5.507324</td>\n",
       "      <td>42.192020</td>\n",
       "      <td>70.541216</td>\n",
       "      <td>10.411962</td>\n",
       "      <td>0.895447</td>\n",
       "      <td>16.904297</td>\n",
       "      <td>2.143149</td>\n",
       "      <td>127.092003</td>\n",
       "      <td>...</td>\n",
       "      <td>14.016835</td>\n",
       "      <td>-502.488007</td>\n",
       "      <td>12.099931</td>\n",
       "      <td>-504.715942</td>\n",
       "      <td>9.925633</td>\n",
       "      <td>-498.310211</td>\n",
       "      <td>8.079666</td>\n",
       "      <td>-500.470978</td>\n",
       "      <td>14.151341</td>\n",
       "      <td>-605.841980</td>\n",
       "    </tr>\n",
       "    <tr>\n",
       "      <th>2016-01-15 01:00:00</th>\n",
       "      <td>6.029369</td>\n",
       "      <td>9.968944</td>\n",
       "      <td>5.257781</td>\n",
       "      <td>42.701629</td>\n",
       "      <td>69.266198</td>\n",
       "      <td>10.462676</td>\n",
       "      <td>0.927452</td>\n",
       "      <td>16.634514</td>\n",
       "      <td>2.224930</td>\n",
       "      <td>125.629232</td>\n",
       "      <td>...</td>\n",
       "      <td>13.992281</td>\n",
       "      <td>-505.503262</td>\n",
       "      <td>11.950531</td>\n",
       "      <td>-501.331529</td>\n",
       "      <td>10.039245</td>\n",
       "      <td>-500.169983</td>\n",
       "      <td>7.984757</td>\n",
       "      <td>-500.582168</td>\n",
       "      <td>13.998353</td>\n",
       "      <td>-599.787184</td>\n",
       "    </tr>\n",
       "    <tr>\n",
       "      <th>2016-01-15 02:00:00</th>\n",
       "      <td>6.055926</td>\n",
       "      <td>10.213995</td>\n",
       "      <td>5.383759</td>\n",
       "      <td>42.657501</td>\n",
       "      <td>68.116445</td>\n",
       "      <td>10.507046</td>\n",
       "      <td>0.953716</td>\n",
       "      <td>16.208849</td>\n",
       "      <td>2.257889</td>\n",
       "      <td>123.819808</td>\n",
       "      <td>...</td>\n",
       "      <td>14.015015</td>\n",
       "      <td>-502.520901</td>\n",
       "      <td>11.912783</td>\n",
       "      <td>-501.133383</td>\n",
       "      <td>10.070913</td>\n",
       "      <td>-500.129135</td>\n",
       "      <td>8.013877</td>\n",
       "      <td>-500.517572</td>\n",
       "      <td>14.028663</td>\n",
       "      <td>-601.427363</td>\n",
       "    </tr>\n",
       "    <tr>\n",
       "      <th>2016-01-15 03:00:00</th>\n",
       "      <td>6.047977</td>\n",
       "      <td>9.977019</td>\n",
       "      <td>4.858634</td>\n",
       "      <td>42.689819</td>\n",
       "      <td>68.347543</td>\n",
       "      <td>10.422762</td>\n",
       "      <td>0.883763</td>\n",
       "      <td>16.532835</td>\n",
       "      <td>2.146849</td>\n",
       "      <td>122.270188</td>\n",
       "      <td>...</td>\n",
       "      <td>14.036510</td>\n",
       "      <td>-500.857308</td>\n",
       "      <td>11.999550</td>\n",
       "      <td>-501.193686</td>\n",
       "      <td>9.970366</td>\n",
       "      <td>-499.201640</td>\n",
       "      <td>7.977324</td>\n",
       "      <td>-500.255908</td>\n",
       "      <td>14.005551</td>\n",
       "      <td>-599.996129</td>\n",
       "    </tr>\n",
       "    <tr>\n",
       "      <th>2016-01-15 04:00:00</th>\n",
       "      <td>6.148599</td>\n",
       "      <td>10.142511</td>\n",
       "      <td>4.939416</td>\n",
       "      <td>42.774141</td>\n",
       "      <td>66.927016</td>\n",
       "      <td>10.360302</td>\n",
       "      <td>0.792826</td>\n",
       "      <td>16.525686</td>\n",
       "      <td>2.055292</td>\n",
       "      <td>117.988169</td>\n",
       "      <td>...</td>\n",
       "      <td>14.027298</td>\n",
       "      <td>-499.838632</td>\n",
       "      <td>11.953070</td>\n",
       "      <td>-501.053894</td>\n",
       "      <td>9.925709</td>\n",
       "      <td>-501.686727</td>\n",
       "      <td>7.894242</td>\n",
       "      <td>-500.356035</td>\n",
       "      <td>13.996647</td>\n",
       "      <td>-601.496691</td>\n",
       "    </tr>\n",
       "  </tbody>\n",
       "</table>\n",
       "<p>5 rows × 86 columns</p>\n",
       "</div>"
      ],
      "text/plain": [
       "                     final.output.concentrate_ag  final.output.concentrate_pb  \\\n",
       "date                                                                            \n",
       "2016-01-15 00:00:00                     6.055403                     9.889648   \n",
       "2016-01-15 01:00:00                     6.029369                     9.968944   \n",
       "2016-01-15 02:00:00                     6.055926                    10.213995   \n",
       "2016-01-15 03:00:00                     6.047977                     9.977019   \n",
       "2016-01-15 04:00:00                     6.148599                    10.142511   \n",
       "\n",
       "                     final.output.concentrate_sol  \\\n",
       "date                                                \n",
       "2016-01-15 00:00:00                      5.507324   \n",
       "2016-01-15 01:00:00                      5.257781   \n",
       "2016-01-15 02:00:00                      5.383759   \n",
       "2016-01-15 03:00:00                      4.858634   \n",
       "2016-01-15 04:00:00                      4.939416   \n",
       "\n",
       "                     final.output.concentrate_au  final.output.recovery  \\\n",
       "date                                                                      \n",
       "2016-01-15 00:00:00                    42.192020              70.541216   \n",
       "2016-01-15 01:00:00                    42.701629              69.266198   \n",
       "2016-01-15 02:00:00                    42.657501              68.116445   \n",
       "2016-01-15 03:00:00                    42.689819              68.347543   \n",
       "2016-01-15 04:00:00                    42.774141              66.927016   \n",
       "\n",
       "                     final.output.tail_ag  final.output.tail_pb  \\\n",
       "date                                                              \n",
       "2016-01-15 00:00:00             10.411962              0.895447   \n",
       "2016-01-15 01:00:00             10.462676              0.927452   \n",
       "2016-01-15 02:00:00             10.507046              0.953716   \n",
       "2016-01-15 03:00:00             10.422762              0.883763   \n",
       "2016-01-15 04:00:00             10.360302              0.792826   \n",
       "\n",
       "                     final.output.tail_sol  final.output.tail_au  \\\n",
       "date                                                               \n",
       "2016-01-15 00:00:00              16.904297              2.143149   \n",
       "2016-01-15 01:00:00              16.634514              2.224930   \n",
       "2016-01-15 02:00:00              16.208849              2.257889   \n",
       "2016-01-15 03:00:00              16.532835              2.146849   \n",
       "2016-01-15 04:00:00              16.525686              2.055292   \n",
       "\n",
       "                     primary_cleaner.input.sulfate  ...  \\\n",
       "date                                                ...   \n",
       "2016-01-15 00:00:00                     127.092003  ...   \n",
       "2016-01-15 01:00:00                     125.629232  ...   \n",
       "2016-01-15 02:00:00                     123.819808  ...   \n",
       "2016-01-15 03:00:00                     122.270188  ...   \n",
       "2016-01-15 04:00:00                     117.988169  ...   \n",
       "\n",
       "                     secondary_cleaner.state.floatbank4_a_air  \\\n",
       "date                                                            \n",
       "2016-01-15 00:00:00                                 14.016835   \n",
       "2016-01-15 01:00:00                                 13.992281   \n",
       "2016-01-15 02:00:00                                 14.015015   \n",
       "2016-01-15 03:00:00                                 14.036510   \n",
       "2016-01-15 04:00:00                                 14.027298   \n",
       "\n",
       "                     secondary_cleaner.state.floatbank4_a_level  \\\n",
       "date                                                              \n",
       "2016-01-15 00:00:00                                 -502.488007   \n",
       "2016-01-15 01:00:00                                 -505.503262   \n",
       "2016-01-15 02:00:00                                 -502.520901   \n",
       "2016-01-15 03:00:00                                 -500.857308   \n",
       "2016-01-15 04:00:00                                 -499.838632   \n",
       "\n",
       "                     secondary_cleaner.state.floatbank4_b_air  \\\n",
       "date                                                            \n",
       "2016-01-15 00:00:00                                 12.099931   \n",
       "2016-01-15 01:00:00                                 11.950531   \n",
       "2016-01-15 02:00:00                                 11.912783   \n",
       "2016-01-15 03:00:00                                 11.999550   \n",
       "2016-01-15 04:00:00                                 11.953070   \n",
       "\n",
       "                     secondary_cleaner.state.floatbank4_b_level  \\\n",
       "date                                                              \n",
       "2016-01-15 00:00:00                                 -504.715942   \n",
       "2016-01-15 01:00:00                                 -501.331529   \n",
       "2016-01-15 02:00:00                                 -501.133383   \n",
       "2016-01-15 03:00:00                                 -501.193686   \n",
       "2016-01-15 04:00:00                                 -501.053894   \n",
       "\n",
       "                     secondary_cleaner.state.floatbank5_a_air  \\\n",
       "date                                                            \n",
       "2016-01-15 00:00:00                                  9.925633   \n",
       "2016-01-15 01:00:00                                 10.039245   \n",
       "2016-01-15 02:00:00                                 10.070913   \n",
       "2016-01-15 03:00:00                                  9.970366   \n",
       "2016-01-15 04:00:00                                  9.925709   \n",
       "\n",
       "                     secondary_cleaner.state.floatbank5_a_level  \\\n",
       "date                                                              \n",
       "2016-01-15 00:00:00                                 -498.310211   \n",
       "2016-01-15 01:00:00                                 -500.169983   \n",
       "2016-01-15 02:00:00                                 -500.129135   \n",
       "2016-01-15 03:00:00                                 -499.201640   \n",
       "2016-01-15 04:00:00                                 -501.686727   \n",
       "\n",
       "                     secondary_cleaner.state.floatbank5_b_air  \\\n",
       "date                                                            \n",
       "2016-01-15 00:00:00                                  8.079666   \n",
       "2016-01-15 01:00:00                                  7.984757   \n",
       "2016-01-15 02:00:00                                  8.013877   \n",
       "2016-01-15 03:00:00                                  7.977324   \n",
       "2016-01-15 04:00:00                                  7.894242   \n",
       "\n",
       "                     secondary_cleaner.state.floatbank5_b_level  \\\n",
       "date                                                              \n",
       "2016-01-15 00:00:00                                 -500.470978   \n",
       "2016-01-15 01:00:00                                 -500.582168   \n",
       "2016-01-15 02:00:00                                 -500.517572   \n",
       "2016-01-15 03:00:00                                 -500.255908   \n",
       "2016-01-15 04:00:00                                 -500.356035   \n",
       "\n",
       "                     secondary_cleaner.state.floatbank6_a_air  \\\n",
       "date                                                            \n",
       "2016-01-15 00:00:00                                 14.151341   \n",
       "2016-01-15 01:00:00                                 13.998353   \n",
       "2016-01-15 02:00:00                                 14.028663   \n",
       "2016-01-15 03:00:00                                 14.005551   \n",
       "2016-01-15 04:00:00                                 13.996647   \n",
       "\n",
       "                     secondary_cleaner.state.floatbank6_a_level  \n",
       "date                                                             \n",
       "2016-01-15 00:00:00                                 -605.841980  \n",
       "2016-01-15 01:00:00                                 -599.787184  \n",
       "2016-01-15 02:00:00                                 -601.427363  \n",
       "2016-01-15 03:00:00                                 -599.996129  \n",
       "2016-01-15 04:00:00                                 -601.496691  \n",
       "\n",
       "[5 rows x 86 columns]"
      ]
     },
     "metadata": {},
     "output_type": "display_data"
    },
    {
     "name": "stdout",
     "output_type": "stream",
     "text": [
      "################################\n",
      "<class 'pandas.core.frame.DataFrame'>\n",
      "DatetimeIndex: 5290 entries, 2016-09-01 00:59:59 to 2017-12-31 23:59:59\n",
      "Data columns (total 52 columns):\n",
      " #   Column                                      Non-Null Count  Dtype  \n",
      "---  ------                                      --------------  -----  \n",
      " 0   primary_cleaner.input.sulfate               5286 non-null   float64\n",
      " 1   primary_cleaner.input.depressant            5285 non-null   float64\n",
      " 2   primary_cleaner.input.feed_size             5290 non-null   float64\n",
      " 3   primary_cleaner.input.xanthate              5286 non-null   float64\n",
      " 4   primary_cleaner.state.floatbank8_a_air      5290 non-null   float64\n",
      " 5   primary_cleaner.state.floatbank8_a_level    5290 non-null   float64\n",
      " 6   primary_cleaner.state.floatbank8_b_air      5290 non-null   float64\n",
      " 7   primary_cleaner.state.floatbank8_b_level    5290 non-null   float64\n",
      " 8   primary_cleaner.state.floatbank8_c_air      5290 non-null   float64\n",
      " 9   primary_cleaner.state.floatbank8_c_level    5290 non-null   float64\n",
      " 10  primary_cleaner.state.floatbank8_d_air      5290 non-null   float64\n",
      " 11  primary_cleaner.state.floatbank8_d_level    5290 non-null   float64\n",
      " 12  rougher.input.feed_ag                       5290 non-null   float64\n",
      " 13  rougher.input.feed_pb                       5290 non-null   float64\n",
      " 14  rougher.input.feed_rate                     5287 non-null   float64\n",
      " 15  rougher.input.feed_size                     5289 non-null   float64\n",
      " 16  rougher.input.feed_sol                      5269 non-null   float64\n",
      " 17  rougher.input.feed_au                       5290 non-null   float64\n",
      " 18  rougher.input.floatbank10_sulfate           5285 non-null   float64\n",
      " 19  rougher.input.floatbank10_xanthate          5290 non-null   float64\n",
      " 20  rougher.input.floatbank11_sulfate           5282 non-null   float64\n",
      " 21  rougher.input.floatbank11_xanthate          5265 non-null   float64\n",
      " 22  rougher.state.floatbank10_a_air             5290 non-null   float64\n",
      " 23  rougher.state.floatbank10_a_level           5290 non-null   float64\n",
      " 24  rougher.state.floatbank10_b_air             5290 non-null   float64\n",
      " 25  rougher.state.floatbank10_b_level           5290 non-null   float64\n",
      " 26  rougher.state.floatbank10_c_air             5290 non-null   float64\n",
      " 27  rougher.state.floatbank10_c_level           5290 non-null   float64\n",
      " 28  rougher.state.floatbank10_d_air             5290 non-null   float64\n",
      " 29  rougher.state.floatbank10_d_level           5290 non-null   float64\n",
      " 30  rougher.state.floatbank10_e_air             5290 non-null   float64\n",
      " 31  rougher.state.floatbank10_e_level           5290 non-null   float64\n",
      " 32  rougher.state.floatbank10_f_air             5290 non-null   float64\n",
      " 33  rougher.state.floatbank10_f_level           5290 non-null   float64\n",
      " 34  secondary_cleaner.state.floatbank2_a_air    5287 non-null   float64\n",
      " 35  secondary_cleaner.state.floatbank2_a_level  5290 non-null   float64\n",
      " 36  secondary_cleaner.state.floatbank2_b_air    5288 non-null   float64\n",
      " 37  secondary_cleaner.state.floatbank2_b_level  5290 non-null   float64\n",
      " 38  secondary_cleaner.state.floatbank3_a_air    5281 non-null   float64\n",
      " 39  secondary_cleaner.state.floatbank3_a_level  5290 non-null   float64\n",
      " 40  secondary_cleaner.state.floatbank3_b_air    5290 non-null   float64\n",
      " 41  secondary_cleaner.state.floatbank3_b_level  5290 non-null   float64\n",
      " 42  secondary_cleaner.state.floatbank4_a_air    5290 non-null   float64\n",
      " 43  secondary_cleaner.state.floatbank4_a_level  5290 non-null   float64\n",
      " 44  secondary_cleaner.state.floatbank4_b_air    5290 non-null   float64\n",
      " 45  secondary_cleaner.state.floatbank4_b_level  5290 non-null   float64\n",
      " 46  secondary_cleaner.state.floatbank5_a_air    5290 non-null   float64\n",
      " 47  secondary_cleaner.state.floatbank5_a_level  5290 non-null   float64\n",
      " 48  secondary_cleaner.state.floatbank5_b_air    5290 non-null   float64\n",
      " 49  secondary_cleaner.state.floatbank5_b_level  5290 non-null   float64\n",
      " 50  secondary_cleaner.state.floatbank6_a_air    5290 non-null   float64\n",
      " 51  secondary_cleaner.state.floatbank6_a_level  5290 non-null   float64\n",
      "dtypes: float64(52)\n",
      "memory usage: 2.1 MB\n",
      "None\n",
      "\n",
      "primary_cleaner.input.sulfate                  4\n",
      "primary_cleaner.input.depressant               5\n",
      "primary_cleaner.input.feed_size                0\n",
      "primary_cleaner.input.xanthate                 4\n",
      "primary_cleaner.state.floatbank8_a_air         0\n",
      "primary_cleaner.state.floatbank8_a_level       0\n",
      "primary_cleaner.state.floatbank8_b_air         0\n",
      "primary_cleaner.state.floatbank8_b_level       0\n",
      "primary_cleaner.state.floatbank8_c_air         0\n",
      "primary_cleaner.state.floatbank8_c_level       0\n",
      "primary_cleaner.state.floatbank8_d_air         0\n",
      "primary_cleaner.state.floatbank8_d_level       0\n",
      "rougher.input.feed_ag                          0\n",
      "rougher.input.feed_pb                          0\n",
      "rougher.input.feed_rate                        3\n",
      "rougher.input.feed_size                        1\n",
      "rougher.input.feed_sol                        21\n",
      "rougher.input.feed_au                          0\n",
      "rougher.input.floatbank10_sulfate              5\n",
      "rougher.input.floatbank10_xanthate             0\n",
      "rougher.input.floatbank11_sulfate              8\n",
      "rougher.input.floatbank11_xanthate            25\n",
      "rougher.state.floatbank10_a_air                0\n",
      "rougher.state.floatbank10_a_level              0\n",
      "rougher.state.floatbank10_b_air                0\n",
      "rougher.state.floatbank10_b_level              0\n",
      "rougher.state.floatbank10_c_air                0\n",
      "rougher.state.floatbank10_c_level              0\n",
      "rougher.state.floatbank10_d_air                0\n",
      "rougher.state.floatbank10_d_level              0\n",
      "rougher.state.floatbank10_e_air                0\n",
      "rougher.state.floatbank10_e_level              0\n",
      "rougher.state.floatbank10_f_air                0\n",
      "rougher.state.floatbank10_f_level              0\n",
      "secondary_cleaner.state.floatbank2_a_air       3\n",
      "secondary_cleaner.state.floatbank2_a_level     0\n",
      "secondary_cleaner.state.floatbank2_b_air       2\n",
      "secondary_cleaner.state.floatbank2_b_level     0\n",
      "secondary_cleaner.state.floatbank3_a_air       9\n",
      "secondary_cleaner.state.floatbank3_a_level     0\n",
      "secondary_cleaner.state.floatbank3_b_air       0\n",
      "secondary_cleaner.state.floatbank3_b_level     0\n",
      "secondary_cleaner.state.floatbank4_a_air       0\n",
      "secondary_cleaner.state.floatbank4_a_level     0\n",
      "secondary_cleaner.state.floatbank4_b_air       0\n",
      "secondary_cleaner.state.floatbank4_b_level     0\n",
      "secondary_cleaner.state.floatbank5_a_air       0\n",
      "secondary_cleaner.state.floatbank5_a_level     0\n",
      "secondary_cleaner.state.floatbank5_b_air       0\n",
      "secondary_cleaner.state.floatbank5_b_level     0\n",
      "secondary_cleaner.state.floatbank6_a_air       0\n",
      "secondary_cleaner.state.floatbank6_a_level     0\n",
      "dtype: int64\n",
      "\n",
      "Сумма дубликатов = 0\n",
      "\n"
     ]
    },
    {
     "data": {
      "text/html": [
       "<div>\n",
       "<style scoped>\n",
       "    .dataframe tbody tr th:only-of-type {\n",
       "        vertical-align: middle;\n",
       "    }\n",
       "\n",
       "    .dataframe tbody tr th {\n",
       "        vertical-align: top;\n",
       "    }\n",
       "\n",
       "    .dataframe thead th {\n",
       "        text-align: right;\n",
       "    }\n",
       "</style>\n",
       "<table border=\"1\" class=\"dataframe\">\n",
       "  <thead>\n",
       "    <tr style=\"text-align: right;\">\n",
       "      <th></th>\n",
       "      <th>primary_cleaner.input.sulfate</th>\n",
       "      <th>primary_cleaner.input.depressant</th>\n",
       "      <th>primary_cleaner.input.feed_size</th>\n",
       "      <th>primary_cleaner.input.xanthate</th>\n",
       "      <th>primary_cleaner.state.floatbank8_a_air</th>\n",
       "      <th>primary_cleaner.state.floatbank8_a_level</th>\n",
       "      <th>primary_cleaner.state.floatbank8_b_air</th>\n",
       "      <th>primary_cleaner.state.floatbank8_b_level</th>\n",
       "      <th>primary_cleaner.state.floatbank8_c_air</th>\n",
       "      <th>primary_cleaner.state.floatbank8_c_level</th>\n",
       "      <th>...</th>\n",
       "      <th>secondary_cleaner.state.floatbank4_a_air</th>\n",
       "      <th>secondary_cleaner.state.floatbank4_a_level</th>\n",
       "      <th>secondary_cleaner.state.floatbank4_b_air</th>\n",
       "      <th>secondary_cleaner.state.floatbank4_b_level</th>\n",
       "      <th>secondary_cleaner.state.floatbank5_a_air</th>\n",
       "      <th>secondary_cleaner.state.floatbank5_a_level</th>\n",
       "      <th>secondary_cleaner.state.floatbank5_b_air</th>\n",
       "      <th>secondary_cleaner.state.floatbank5_b_level</th>\n",
       "      <th>secondary_cleaner.state.floatbank6_a_air</th>\n",
       "      <th>secondary_cleaner.state.floatbank6_a_level</th>\n",
       "    </tr>\n",
       "    <tr>\n",
       "      <th>date</th>\n",
       "      <th></th>\n",
       "      <th></th>\n",
       "      <th></th>\n",
       "      <th></th>\n",
       "      <th></th>\n",
       "      <th></th>\n",
       "      <th></th>\n",
       "      <th></th>\n",
       "      <th></th>\n",
       "      <th></th>\n",
       "      <th></th>\n",
       "      <th></th>\n",
       "      <th></th>\n",
       "      <th></th>\n",
       "      <th></th>\n",
       "      <th></th>\n",
       "      <th></th>\n",
       "      <th></th>\n",
       "      <th></th>\n",
       "      <th></th>\n",
       "      <th></th>\n",
       "    </tr>\n",
       "  </thead>\n",
       "  <tbody>\n",
       "    <tr>\n",
       "      <th>2016-09-01 00:59:59</th>\n",
       "      <td>210.800909</td>\n",
       "      <td>14.993118</td>\n",
       "      <td>8.080000</td>\n",
       "      <td>1.005021</td>\n",
       "      <td>1398.981301</td>\n",
       "      <td>-500.225577</td>\n",
       "      <td>1399.144926</td>\n",
       "      <td>-499.919735</td>\n",
       "      <td>1400.102998</td>\n",
       "      <td>-500.704369</td>\n",
       "      <td>...</td>\n",
       "      <td>12.023554</td>\n",
       "      <td>-497.795834</td>\n",
       "      <td>8.016656</td>\n",
       "      <td>-501.289139</td>\n",
       "      <td>7.946562</td>\n",
       "      <td>-432.317850</td>\n",
       "      <td>4.872511</td>\n",
       "      <td>-500.037437</td>\n",
       "      <td>26.705889</td>\n",
       "      <td>-499.709414</td>\n",
       "    </tr>\n",
       "    <tr>\n",
       "      <th>2016-09-01 01:59:59</th>\n",
       "      <td>215.392455</td>\n",
       "      <td>14.987471</td>\n",
       "      <td>8.080000</td>\n",
       "      <td>0.990469</td>\n",
       "      <td>1398.777912</td>\n",
       "      <td>-500.057435</td>\n",
       "      <td>1398.055362</td>\n",
       "      <td>-499.778182</td>\n",
       "      <td>1396.151033</td>\n",
       "      <td>-499.240168</td>\n",
       "      <td>...</td>\n",
       "      <td>12.058140</td>\n",
       "      <td>-498.695773</td>\n",
       "      <td>8.130979</td>\n",
       "      <td>-499.634209</td>\n",
       "      <td>7.958270</td>\n",
       "      <td>-525.839648</td>\n",
       "      <td>4.878850</td>\n",
       "      <td>-500.162375</td>\n",
       "      <td>25.019940</td>\n",
       "      <td>-499.819438</td>\n",
       "    </tr>\n",
       "    <tr>\n",
       "      <th>2016-09-01 02:59:59</th>\n",
       "      <td>215.259946</td>\n",
       "      <td>12.884934</td>\n",
       "      <td>7.786667</td>\n",
       "      <td>0.996043</td>\n",
       "      <td>1398.493666</td>\n",
       "      <td>-500.868360</td>\n",
       "      <td>1398.860436</td>\n",
       "      <td>-499.764529</td>\n",
       "      <td>1398.075709</td>\n",
       "      <td>-502.151509</td>\n",
       "      <td>...</td>\n",
       "      <td>11.962366</td>\n",
       "      <td>-498.767484</td>\n",
       "      <td>8.096893</td>\n",
       "      <td>-500.827423</td>\n",
       "      <td>8.071056</td>\n",
       "      <td>-500.801673</td>\n",
       "      <td>4.905125</td>\n",
       "      <td>-499.828510</td>\n",
       "      <td>24.994862</td>\n",
       "      <td>-500.622559</td>\n",
       "    </tr>\n",
       "    <tr>\n",
       "      <th>2016-09-01 03:59:59</th>\n",
       "      <td>215.336236</td>\n",
       "      <td>12.006805</td>\n",
       "      <td>7.640000</td>\n",
       "      <td>0.863514</td>\n",
       "      <td>1399.618111</td>\n",
       "      <td>-498.863574</td>\n",
       "      <td>1397.440120</td>\n",
       "      <td>-499.211024</td>\n",
       "      <td>1400.129303</td>\n",
       "      <td>-498.355873</td>\n",
       "      <td>...</td>\n",
       "      <td>12.033091</td>\n",
       "      <td>-498.350935</td>\n",
       "      <td>8.074946</td>\n",
       "      <td>-499.474407</td>\n",
       "      <td>7.897085</td>\n",
       "      <td>-500.868509</td>\n",
       "      <td>4.931400</td>\n",
       "      <td>-499.963623</td>\n",
       "      <td>24.948919</td>\n",
       "      <td>-498.709987</td>\n",
       "    </tr>\n",
       "    <tr>\n",
       "      <th>2016-09-01 04:59:59</th>\n",
       "      <td>199.099327</td>\n",
       "      <td>10.682530</td>\n",
       "      <td>7.530000</td>\n",
       "      <td>0.805575</td>\n",
       "      <td>1401.268123</td>\n",
       "      <td>-500.808305</td>\n",
       "      <td>1398.128818</td>\n",
       "      <td>-499.504543</td>\n",
       "      <td>1402.172226</td>\n",
       "      <td>-500.810606</td>\n",
       "      <td>...</td>\n",
       "      <td>12.025367</td>\n",
       "      <td>-500.786497</td>\n",
       "      <td>8.054678</td>\n",
       "      <td>-500.397500</td>\n",
       "      <td>8.107890</td>\n",
       "      <td>-509.526725</td>\n",
       "      <td>4.957674</td>\n",
       "      <td>-500.360026</td>\n",
       "      <td>25.003331</td>\n",
       "      <td>-500.856333</td>\n",
       "    </tr>\n",
       "  </tbody>\n",
       "</table>\n",
       "<p>5 rows × 52 columns</p>\n",
       "</div>"
      ],
      "text/plain": [
       "                     primary_cleaner.input.sulfate  \\\n",
       "date                                                 \n",
       "2016-09-01 00:59:59                     210.800909   \n",
       "2016-09-01 01:59:59                     215.392455   \n",
       "2016-09-01 02:59:59                     215.259946   \n",
       "2016-09-01 03:59:59                     215.336236   \n",
       "2016-09-01 04:59:59                     199.099327   \n",
       "\n",
       "                     primary_cleaner.input.depressant  \\\n",
       "date                                                    \n",
       "2016-09-01 00:59:59                         14.993118   \n",
       "2016-09-01 01:59:59                         14.987471   \n",
       "2016-09-01 02:59:59                         12.884934   \n",
       "2016-09-01 03:59:59                         12.006805   \n",
       "2016-09-01 04:59:59                         10.682530   \n",
       "\n",
       "                     primary_cleaner.input.feed_size  \\\n",
       "date                                                   \n",
       "2016-09-01 00:59:59                         8.080000   \n",
       "2016-09-01 01:59:59                         8.080000   \n",
       "2016-09-01 02:59:59                         7.786667   \n",
       "2016-09-01 03:59:59                         7.640000   \n",
       "2016-09-01 04:59:59                         7.530000   \n",
       "\n",
       "                     primary_cleaner.input.xanthate  \\\n",
       "date                                                  \n",
       "2016-09-01 00:59:59                        1.005021   \n",
       "2016-09-01 01:59:59                        0.990469   \n",
       "2016-09-01 02:59:59                        0.996043   \n",
       "2016-09-01 03:59:59                        0.863514   \n",
       "2016-09-01 04:59:59                        0.805575   \n",
       "\n",
       "                     primary_cleaner.state.floatbank8_a_air  \\\n",
       "date                                                          \n",
       "2016-09-01 00:59:59                             1398.981301   \n",
       "2016-09-01 01:59:59                             1398.777912   \n",
       "2016-09-01 02:59:59                             1398.493666   \n",
       "2016-09-01 03:59:59                             1399.618111   \n",
       "2016-09-01 04:59:59                             1401.268123   \n",
       "\n",
       "                     primary_cleaner.state.floatbank8_a_level  \\\n",
       "date                                                            \n",
       "2016-09-01 00:59:59                               -500.225577   \n",
       "2016-09-01 01:59:59                               -500.057435   \n",
       "2016-09-01 02:59:59                               -500.868360   \n",
       "2016-09-01 03:59:59                               -498.863574   \n",
       "2016-09-01 04:59:59                               -500.808305   \n",
       "\n",
       "                     primary_cleaner.state.floatbank8_b_air  \\\n",
       "date                                                          \n",
       "2016-09-01 00:59:59                             1399.144926   \n",
       "2016-09-01 01:59:59                             1398.055362   \n",
       "2016-09-01 02:59:59                             1398.860436   \n",
       "2016-09-01 03:59:59                             1397.440120   \n",
       "2016-09-01 04:59:59                             1398.128818   \n",
       "\n",
       "                     primary_cleaner.state.floatbank8_b_level  \\\n",
       "date                                                            \n",
       "2016-09-01 00:59:59                               -499.919735   \n",
       "2016-09-01 01:59:59                               -499.778182   \n",
       "2016-09-01 02:59:59                               -499.764529   \n",
       "2016-09-01 03:59:59                               -499.211024   \n",
       "2016-09-01 04:59:59                               -499.504543   \n",
       "\n",
       "                     primary_cleaner.state.floatbank8_c_air  \\\n",
       "date                                                          \n",
       "2016-09-01 00:59:59                             1400.102998   \n",
       "2016-09-01 01:59:59                             1396.151033   \n",
       "2016-09-01 02:59:59                             1398.075709   \n",
       "2016-09-01 03:59:59                             1400.129303   \n",
       "2016-09-01 04:59:59                             1402.172226   \n",
       "\n",
       "                     primary_cleaner.state.floatbank8_c_level  ...  \\\n",
       "date                                                           ...   \n",
       "2016-09-01 00:59:59                               -500.704369  ...   \n",
       "2016-09-01 01:59:59                               -499.240168  ...   \n",
       "2016-09-01 02:59:59                               -502.151509  ...   \n",
       "2016-09-01 03:59:59                               -498.355873  ...   \n",
       "2016-09-01 04:59:59                               -500.810606  ...   \n",
       "\n",
       "                     secondary_cleaner.state.floatbank4_a_air  \\\n",
       "date                                                            \n",
       "2016-09-01 00:59:59                                 12.023554   \n",
       "2016-09-01 01:59:59                                 12.058140   \n",
       "2016-09-01 02:59:59                                 11.962366   \n",
       "2016-09-01 03:59:59                                 12.033091   \n",
       "2016-09-01 04:59:59                                 12.025367   \n",
       "\n",
       "                     secondary_cleaner.state.floatbank4_a_level  \\\n",
       "date                                                              \n",
       "2016-09-01 00:59:59                                 -497.795834   \n",
       "2016-09-01 01:59:59                                 -498.695773   \n",
       "2016-09-01 02:59:59                                 -498.767484   \n",
       "2016-09-01 03:59:59                                 -498.350935   \n",
       "2016-09-01 04:59:59                                 -500.786497   \n",
       "\n",
       "                     secondary_cleaner.state.floatbank4_b_air  \\\n",
       "date                                                            \n",
       "2016-09-01 00:59:59                                  8.016656   \n",
       "2016-09-01 01:59:59                                  8.130979   \n",
       "2016-09-01 02:59:59                                  8.096893   \n",
       "2016-09-01 03:59:59                                  8.074946   \n",
       "2016-09-01 04:59:59                                  8.054678   \n",
       "\n",
       "                     secondary_cleaner.state.floatbank4_b_level  \\\n",
       "date                                                              \n",
       "2016-09-01 00:59:59                                 -501.289139   \n",
       "2016-09-01 01:59:59                                 -499.634209   \n",
       "2016-09-01 02:59:59                                 -500.827423   \n",
       "2016-09-01 03:59:59                                 -499.474407   \n",
       "2016-09-01 04:59:59                                 -500.397500   \n",
       "\n",
       "                     secondary_cleaner.state.floatbank5_a_air  \\\n",
       "date                                                            \n",
       "2016-09-01 00:59:59                                  7.946562   \n",
       "2016-09-01 01:59:59                                  7.958270   \n",
       "2016-09-01 02:59:59                                  8.071056   \n",
       "2016-09-01 03:59:59                                  7.897085   \n",
       "2016-09-01 04:59:59                                  8.107890   \n",
       "\n",
       "                     secondary_cleaner.state.floatbank5_a_level  \\\n",
       "date                                                              \n",
       "2016-09-01 00:59:59                                 -432.317850   \n",
       "2016-09-01 01:59:59                                 -525.839648   \n",
       "2016-09-01 02:59:59                                 -500.801673   \n",
       "2016-09-01 03:59:59                                 -500.868509   \n",
       "2016-09-01 04:59:59                                 -509.526725   \n",
       "\n",
       "                     secondary_cleaner.state.floatbank5_b_air  \\\n",
       "date                                                            \n",
       "2016-09-01 00:59:59                                  4.872511   \n",
       "2016-09-01 01:59:59                                  4.878850   \n",
       "2016-09-01 02:59:59                                  4.905125   \n",
       "2016-09-01 03:59:59                                  4.931400   \n",
       "2016-09-01 04:59:59                                  4.957674   \n",
       "\n",
       "                     secondary_cleaner.state.floatbank5_b_level  \\\n",
       "date                                                              \n",
       "2016-09-01 00:59:59                                 -500.037437   \n",
       "2016-09-01 01:59:59                                 -500.162375   \n",
       "2016-09-01 02:59:59                                 -499.828510   \n",
       "2016-09-01 03:59:59                                 -499.963623   \n",
       "2016-09-01 04:59:59                                 -500.360026   \n",
       "\n",
       "                     secondary_cleaner.state.floatbank6_a_air  \\\n",
       "date                                                            \n",
       "2016-09-01 00:59:59                                 26.705889   \n",
       "2016-09-01 01:59:59                                 25.019940   \n",
       "2016-09-01 02:59:59                                 24.994862   \n",
       "2016-09-01 03:59:59                                 24.948919   \n",
       "2016-09-01 04:59:59                                 25.003331   \n",
       "\n",
       "                     secondary_cleaner.state.floatbank6_a_level  \n",
       "date                                                             \n",
       "2016-09-01 00:59:59                                 -499.709414  \n",
       "2016-09-01 01:59:59                                 -499.819438  \n",
       "2016-09-01 02:59:59                                 -500.622559  \n",
       "2016-09-01 03:59:59                                 -498.709987  \n",
       "2016-09-01 04:59:59                                 -500.856333  \n",
       "\n",
       "[5 rows x 52 columns]"
      ]
     },
     "metadata": {},
     "output_type": "display_data"
    },
    {
     "name": "stdout",
     "output_type": "stream",
     "text": [
      "################################\n",
      "<class 'pandas.core.frame.DataFrame'>\n",
      "DatetimeIndex: 19439 entries, 2016-01-15 00:00:00 to 2018-08-18 10:59:59\n",
      "Data columns (total 86 columns):\n",
      " #   Column                                              Non-Null Count  Dtype  \n",
      "---  ------                                              --------------  -----  \n",
      " 0   final.output.concentrate_ag                         19438 non-null  float64\n",
      " 1   final.output.concentrate_pb                         19438 non-null  float64\n",
      " 2   final.output.concentrate_sol                        19228 non-null  float64\n",
      " 3   final.output.concentrate_au                         19439 non-null  float64\n",
      " 4   final.output.recovery                               19439 non-null  float64\n",
      " 5   final.output.tail_ag                                19438 non-null  float64\n",
      " 6   final.output.tail_pb                                19338 non-null  float64\n",
      " 7   final.output.tail_sol                               19433 non-null  float64\n",
      " 8   final.output.tail_au                                19439 non-null  float64\n",
      " 9   primary_cleaner.input.sulfate                       19415 non-null  float64\n",
      " 10  primary_cleaner.input.depressant                    19402 non-null  float64\n",
      " 11  primary_cleaner.input.feed_size                     19439 non-null  float64\n",
      " 12  primary_cleaner.input.xanthate                      19335 non-null  float64\n",
      " 13  primary_cleaner.output.concentrate_ag               19439 non-null  float64\n",
      " 14  primary_cleaner.output.concentrate_pb               19323 non-null  float64\n",
      " 15  primary_cleaner.output.concentrate_sol              19069 non-null  float64\n",
      " 16  primary_cleaner.output.concentrate_au               19439 non-null  float64\n",
      " 17  primary_cleaner.output.tail_ag                      19435 non-null  float64\n",
      " 18  primary_cleaner.output.tail_pb                      19418 non-null  float64\n",
      " 19  primary_cleaner.output.tail_sol                     19377 non-null  float64\n",
      " 20  primary_cleaner.output.tail_au                      19439 non-null  float64\n",
      " 21  primary_cleaner.state.floatbank8_a_air              19435 non-null  float64\n",
      " 22  primary_cleaner.state.floatbank8_a_level            19438 non-null  float64\n",
      " 23  primary_cleaner.state.floatbank8_b_air              19435 non-null  float64\n",
      " 24  primary_cleaner.state.floatbank8_b_level            19438 non-null  float64\n",
      " 25  primary_cleaner.state.floatbank8_c_air              19437 non-null  float64\n",
      " 26  primary_cleaner.state.floatbank8_c_level            19438 non-null  float64\n",
      " 27  primary_cleaner.state.floatbank8_d_air              19436 non-null  float64\n",
      " 28  primary_cleaner.state.floatbank8_d_level            19438 non-null  float64\n",
      " 29  rougher.calculation.sulfate_to_au_concentrate       19437 non-null  float64\n",
      " 30  rougher.calculation.floatbank10_sulfate_to_au_feed  19437 non-null  float64\n",
      " 31  rougher.calculation.floatbank11_sulfate_to_au_feed  19437 non-null  float64\n",
      " 32  rougher.calculation.au_pb_ratio                     19439 non-null  float64\n",
      " 33  rougher.input.feed_ag                               19439 non-null  float64\n",
      " 34  rougher.input.feed_pb                               19339 non-null  float64\n",
      " 35  rougher.input.feed_rate                             19428 non-null  float64\n",
      " 36  rougher.input.feed_size                             19294 non-null  float64\n",
      " 37  rougher.input.feed_sol                              19340 non-null  float64\n",
      " 38  rougher.input.feed_au                               19439 non-null  float64\n",
      " 39  rougher.input.floatbank10_sulfate                   19405 non-null  float64\n",
      " 40  rougher.input.floatbank10_xanthate                  19431 non-null  float64\n",
      " 41  rougher.input.floatbank11_sulfate                   19395 non-null  float64\n",
      " 42  rougher.input.floatbank11_xanthate                  18986 non-null  float64\n",
      " 43  rougher.output.concentrate_ag                       19439 non-null  float64\n",
      " 44  rougher.output.concentrate_pb                       19439 non-null  float64\n",
      " 45  rougher.output.concentrate_sol                      19416 non-null  float64\n",
      " 46  rougher.output.concentrate_au                       19439 non-null  float64\n",
      " 47  rougher.output.recovery                             19439 non-null  float64\n",
      " 48  rougher.output.tail_ag                              19438 non-null  float64\n",
      " 49  rougher.output.tail_pb                              19439 non-null  float64\n",
      " 50  rougher.output.tail_sol                             19439 non-null  float64\n",
      " 51  rougher.output.tail_au                              19439 non-null  float64\n",
      " 52  rougher.state.floatbank10_a_air                     19438 non-null  float64\n",
      " 53  rougher.state.floatbank10_a_level                   19438 non-null  float64\n",
      " 54  rougher.state.floatbank10_b_air                     19438 non-null  float64\n",
      " 55  rougher.state.floatbank10_b_level                   19438 non-null  float64\n",
      " 56  rougher.state.floatbank10_c_air                     19438 non-null  float64\n",
      " 57  rougher.state.floatbank10_c_level                   19438 non-null  float64\n",
      " 58  rougher.state.floatbank10_d_air                     19439 non-null  float64\n",
      " 59  rougher.state.floatbank10_d_level                   19439 non-null  float64\n",
      " 60  rougher.state.floatbank10_e_air                     19003 non-null  float64\n",
      " 61  rougher.state.floatbank10_e_level                   19439 non-null  float64\n",
      " 62  rougher.state.floatbank10_f_air                     19439 non-null  float64\n",
      " 63  rougher.state.floatbank10_f_level                   19439 non-null  float64\n",
      " 64  secondary_cleaner.output.tail_ag                    19437 non-null  float64\n",
      " 65  secondary_cleaner.output.tail_pb                    19427 non-null  float64\n",
      " 66  secondary_cleaner.output.tail_sol                   17691 non-null  float64\n",
      " 67  secondary_cleaner.output.tail_au                    19439 non-null  float64\n",
      " 68  secondary_cleaner.state.floatbank2_a_air            19219 non-null  float64\n",
      " 69  secondary_cleaner.state.floatbank2_a_level          19438 non-null  float64\n",
      " 70  secondary_cleaner.state.floatbank2_b_air            19416 non-null  float64\n",
      " 71  secondary_cleaner.state.floatbank2_b_level          19438 non-null  float64\n",
      " 72  secondary_cleaner.state.floatbank3_a_air            19426 non-null  float64\n",
      " 73  secondary_cleaner.state.floatbank3_a_level          19438 non-null  float64\n",
      " 74  secondary_cleaner.state.floatbank3_b_air            19438 non-null  float64\n",
      " 75  secondary_cleaner.state.floatbank3_b_level          19438 non-null  float64\n",
      " 76  secondary_cleaner.state.floatbank4_a_air            19433 non-null  float64\n",
      " 77  secondary_cleaner.state.floatbank4_a_level          19438 non-null  float64\n",
      " 78  secondary_cleaner.state.floatbank4_b_air            19438 non-null  float64\n",
      " 79  secondary_cleaner.state.floatbank4_b_level          19438 non-null  float64\n",
      " 80  secondary_cleaner.state.floatbank5_a_air            19438 non-null  float64\n",
      " 81  secondary_cleaner.state.floatbank5_a_level          19438 non-null  float64\n",
      " 82  secondary_cleaner.state.floatbank5_b_air            19438 non-null  float64\n",
      " 83  secondary_cleaner.state.floatbank5_b_level          19438 non-null  float64\n",
      " 84  secondary_cleaner.state.floatbank6_a_air            19437 non-null  float64\n",
      " 85  secondary_cleaner.state.floatbank6_a_level          19438 non-null  float64\n",
      "dtypes: float64(86)\n",
      "memory usage: 12.9 MB\n",
      "None\n",
      "\n",
      "final.output.concentrate_ag                     1\n",
      "final.output.concentrate_pb                     1\n",
      "final.output.concentrate_sol                  211\n",
      "final.output.concentrate_au                     0\n",
      "final.output.recovery                           0\n",
      "                                             ... \n",
      "secondary_cleaner.state.floatbank5_a_level      1\n",
      "secondary_cleaner.state.floatbank5_b_air        1\n",
      "secondary_cleaner.state.floatbank5_b_level      1\n",
      "secondary_cleaner.state.floatbank6_a_air        2\n",
      "secondary_cleaner.state.floatbank6_a_level      1\n",
      "Length: 86, dtype: int64\n",
      "\n",
      "Сумма дубликатов = 0\n",
      "\n"
     ]
    },
    {
     "data": {
      "text/html": [
       "<div>\n",
       "<style scoped>\n",
       "    .dataframe tbody tr th:only-of-type {\n",
       "        vertical-align: middle;\n",
       "    }\n",
       "\n",
       "    .dataframe tbody tr th {\n",
       "        vertical-align: top;\n",
       "    }\n",
       "\n",
       "    .dataframe thead th {\n",
       "        text-align: right;\n",
       "    }\n",
       "</style>\n",
       "<table border=\"1\" class=\"dataframe\">\n",
       "  <thead>\n",
       "    <tr style=\"text-align: right;\">\n",
       "      <th></th>\n",
       "      <th>final.output.concentrate_ag</th>\n",
       "      <th>final.output.concentrate_pb</th>\n",
       "      <th>final.output.concentrate_sol</th>\n",
       "      <th>final.output.concentrate_au</th>\n",
       "      <th>final.output.recovery</th>\n",
       "      <th>final.output.tail_ag</th>\n",
       "      <th>final.output.tail_pb</th>\n",
       "      <th>final.output.tail_sol</th>\n",
       "      <th>final.output.tail_au</th>\n",
       "      <th>primary_cleaner.input.sulfate</th>\n",
       "      <th>...</th>\n",
       "      <th>secondary_cleaner.state.floatbank4_a_air</th>\n",
       "      <th>secondary_cleaner.state.floatbank4_a_level</th>\n",
       "      <th>secondary_cleaner.state.floatbank4_b_air</th>\n",
       "      <th>secondary_cleaner.state.floatbank4_b_level</th>\n",
       "      <th>secondary_cleaner.state.floatbank5_a_air</th>\n",
       "      <th>secondary_cleaner.state.floatbank5_a_level</th>\n",
       "      <th>secondary_cleaner.state.floatbank5_b_air</th>\n",
       "      <th>secondary_cleaner.state.floatbank5_b_level</th>\n",
       "      <th>secondary_cleaner.state.floatbank6_a_air</th>\n",
       "      <th>secondary_cleaner.state.floatbank6_a_level</th>\n",
       "    </tr>\n",
       "    <tr>\n",
       "      <th>date</th>\n",
       "      <th></th>\n",
       "      <th></th>\n",
       "      <th></th>\n",
       "      <th></th>\n",
       "      <th></th>\n",
       "      <th></th>\n",
       "      <th></th>\n",
       "      <th></th>\n",
       "      <th></th>\n",
       "      <th></th>\n",
       "      <th></th>\n",
       "      <th></th>\n",
       "      <th></th>\n",
       "      <th></th>\n",
       "      <th></th>\n",
       "      <th></th>\n",
       "      <th></th>\n",
       "      <th></th>\n",
       "      <th></th>\n",
       "      <th></th>\n",
       "      <th></th>\n",
       "    </tr>\n",
       "  </thead>\n",
       "  <tbody>\n",
       "    <tr>\n",
       "      <th>2016-01-15 00:00:00</th>\n",
       "      <td>6.055403</td>\n",
       "      <td>9.889648</td>\n",
       "      <td>5.507324</td>\n",
       "      <td>42.192020</td>\n",
       "      <td>70.541216</td>\n",
       "      <td>10.411962</td>\n",
       "      <td>0.895447</td>\n",
       "      <td>16.904297</td>\n",
       "      <td>2.143149</td>\n",
       "      <td>127.092003</td>\n",
       "      <td>...</td>\n",
       "      <td>14.016835</td>\n",
       "      <td>-502.488007</td>\n",
       "      <td>12.099931</td>\n",
       "      <td>-504.715942</td>\n",
       "      <td>9.925633</td>\n",
       "      <td>-498.310211</td>\n",
       "      <td>8.079666</td>\n",
       "      <td>-500.470978</td>\n",
       "      <td>14.151341</td>\n",
       "      <td>-605.841980</td>\n",
       "    </tr>\n",
       "    <tr>\n",
       "      <th>2016-01-15 01:00:00</th>\n",
       "      <td>6.029369</td>\n",
       "      <td>9.968944</td>\n",
       "      <td>5.257781</td>\n",
       "      <td>42.701629</td>\n",
       "      <td>69.266198</td>\n",
       "      <td>10.462676</td>\n",
       "      <td>0.927452</td>\n",
       "      <td>16.634514</td>\n",
       "      <td>2.224930</td>\n",
       "      <td>125.629232</td>\n",
       "      <td>...</td>\n",
       "      <td>13.992281</td>\n",
       "      <td>-505.503262</td>\n",
       "      <td>11.950531</td>\n",
       "      <td>-501.331529</td>\n",
       "      <td>10.039245</td>\n",
       "      <td>-500.169983</td>\n",
       "      <td>7.984757</td>\n",
       "      <td>-500.582168</td>\n",
       "      <td>13.998353</td>\n",
       "      <td>-599.787184</td>\n",
       "    </tr>\n",
       "    <tr>\n",
       "      <th>2016-01-15 02:00:00</th>\n",
       "      <td>6.055926</td>\n",
       "      <td>10.213995</td>\n",
       "      <td>5.383759</td>\n",
       "      <td>42.657501</td>\n",
       "      <td>68.116445</td>\n",
       "      <td>10.507046</td>\n",
       "      <td>0.953716</td>\n",
       "      <td>16.208849</td>\n",
       "      <td>2.257889</td>\n",
       "      <td>123.819808</td>\n",
       "      <td>...</td>\n",
       "      <td>14.015015</td>\n",
       "      <td>-502.520901</td>\n",
       "      <td>11.912783</td>\n",
       "      <td>-501.133383</td>\n",
       "      <td>10.070913</td>\n",
       "      <td>-500.129135</td>\n",
       "      <td>8.013877</td>\n",
       "      <td>-500.517572</td>\n",
       "      <td>14.028663</td>\n",
       "      <td>-601.427363</td>\n",
       "    </tr>\n",
       "    <tr>\n",
       "      <th>2016-01-15 03:00:00</th>\n",
       "      <td>6.047977</td>\n",
       "      <td>9.977019</td>\n",
       "      <td>4.858634</td>\n",
       "      <td>42.689819</td>\n",
       "      <td>68.347543</td>\n",
       "      <td>10.422762</td>\n",
       "      <td>0.883763</td>\n",
       "      <td>16.532835</td>\n",
       "      <td>2.146849</td>\n",
       "      <td>122.270188</td>\n",
       "      <td>...</td>\n",
       "      <td>14.036510</td>\n",
       "      <td>-500.857308</td>\n",
       "      <td>11.999550</td>\n",
       "      <td>-501.193686</td>\n",
       "      <td>9.970366</td>\n",
       "      <td>-499.201640</td>\n",
       "      <td>7.977324</td>\n",
       "      <td>-500.255908</td>\n",
       "      <td>14.005551</td>\n",
       "      <td>-599.996129</td>\n",
       "    </tr>\n",
       "    <tr>\n",
       "      <th>2016-01-15 04:00:00</th>\n",
       "      <td>6.148599</td>\n",
       "      <td>10.142511</td>\n",
       "      <td>4.939416</td>\n",
       "      <td>42.774141</td>\n",
       "      <td>66.927016</td>\n",
       "      <td>10.360302</td>\n",
       "      <td>0.792826</td>\n",
       "      <td>16.525686</td>\n",
       "      <td>2.055292</td>\n",
       "      <td>117.988169</td>\n",
       "      <td>...</td>\n",
       "      <td>14.027298</td>\n",
       "      <td>-499.838632</td>\n",
       "      <td>11.953070</td>\n",
       "      <td>-501.053894</td>\n",
       "      <td>9.925709</td>\n",
       "      <td>-501.686727</td>\n",
       "      <td>7.894242</td>\n",
       "      <td>-500.356035</td>\n",
       "      <td>13.996647</td>\n",
       "      <td>-601.496691</td>\n",
       "    </tr>\n",
       "  </tbody>\n",
       "</table>\n",
       "<p>5 rows × 86 columns</p>\n",
       "</div>"
      ],
      "text/plain": [
       "                     final.output.concentrate_ag  final.output.concentrate_pb  \\\n",
       "date                                                                            \n",
       "2016-01-15 00:00:00                     6.055403                     9.889648   \n",
       "2016-01-15 01:00:00                     6.029369                     9.968944   \n",
       "2016-01-15 02:00:00                     6.055926                    10.213995   \n",
       "2016-01-15 03:00:00                     6.047977                     9.977019   \n",
       "2016-01-15 04:00:00                     6.148599                    10.142511   \n",
       "\n",
       "                     final.output.concentrate_sol  \\\n",
       "date                                                \n",
       "2016-01-15 00:00:00                      5.507324   \n",
       "2016-01-15 01:00:00                      5.257781   \n",
       "2016-01-15 02:00:00                      5.383759   \n",
       "2016-01-15 03:00:00                      4.858634   \n",
       "2016-01-15 04:00:00                      4.939416   \n",
       "\n",
       "                     final.output.concentrate_au  final.output.recovery  \\\n",
       "date                                                                      \n",
       "2016-01-15 00:00:00                    42.192020              70.541216   \n",
       "2016-01-15 01:00:00                    42.701629              69.266198   \n",
       "2016-01-15 02:00:00                    42.657501              68.116445   \n",
       "2016-01-15 03:00:00                    42.689819              68.347543   \n",
       "2016-01-15 04:00:00                    42.774141              66.927016   \n",
       "\n",
       "                     final.output.tail_ag  final.output.tail_pb  \\\n",
       "date                                                              \n",
       "2016-01-15 00:00:00             10.411962              0.895447   \n",
       "2016-01-15 01:00:00             10.462676              0.927452   \n",
       "2016-01-15 02:00:00             10.507046              0.953716   \n",
       "2016-01-15 03:00:00             10.422762              0.883763   \n",
       "2016-01-15 04:00:00             10.360302              0.792826   \n",
       "\n",
       "                     final.output.tail_sol  final.output.tail_au  \\\n",
       "date                                                               \n",
       "2016-01-15 00:00:00              16.904297              2.143149   \n",
       "2016-01-15 01:00:00              16.634514              2.224930   \n",
       "2016-01-15 02:00:00              16.208849              2.257889   \n",
       "2016-01-15 03:00:00              16.532835              2.146849   \n",
       "2016-01-15 04:00:00              16.525686              2.055292   \n",
       "\n",
       "                     primary_cleaner.input.sulfate  ...  \\\n",
       "date                                                ...   \n",
       "2016-01-15 00:00:00                     127.092003  ...   \n",
       "2016-01-15 01:00:00                     125.629232  ...   \n",
       "2016-01-15 02:00:00                     123.819808  ...   \n",
       "2016-01-15 03:00:00                     122.270188  ...   \n",
       "2016-01-15 04:00:00                     117.988169  ...   \n",
       "\n",
       "                     secondary_cleaner.state.floatbank4_a_air  \\\n",
       "date                                                            \n",
       "2016-01-15 00:00:00                                 14.016835   \n",
       "2016-01-15 01:00:00                                 13.992281   \n",
       "2016-01-15 02:00:00                                 14.015015   \n",
       "2016-01-15 03:00:00                                 14.036510   \n",
       "2016-01-15 04:00:00                                 14.027298   \n",
       "\n",
       "                     secondary_cleaner.state.floatbank4_a_level  \\\n",
       "date                                                              \n",
       "2016-01-15 00:00:00                                 -502.488007   \n",
       "2016-01-15 01:00:00                                 -505.503262   \n",
       "2016-01-15 02:00:00                                 -502.520901   \n",
       "2016-01-15 03:00:00                                 -500.857308   \n",
       "2016-01-15 04:00:00                                 -499.838632   \n",
       "\n",
       "                     secondary_cleaner.state.floatbank4_b_air  \\\n",
       "date                                                            \n",
       "2016-01-15 00:00:00                                 12.099931   \n",
       "2016-01-15 01:00:00                                 11.950531   \n",
       "2016-01-15 02:00:00                                 11.912783   \n",
       "2016-01-15 03:00:00                                 11.999550   \n",
       "2016-01-15 04:00:00                                 11.953070   \n",
       "\n",
       "                     secondary_cleaner.state.floatbank4_b_level  \\\n",
       "date                                                              \n",
       "2016-01-15 00:00:00                                 -504.715942   \n",
       "2016-01-15 01:00:00                                 -501.331529   \n",
       "2016-01-15 02:00:00                                 -501.133383   \n",
       "2016-01-15 03:00:00                                 -501.193686   \n",
       "2016-01-15 04:00:00                                 -501.053894   \n",
       "\n",
       "                     secondary_cleaner.state.floatbank5_a_air  \\\n",
       "date                                                            \n",
       "2016-01-15 00:00:00                                  9.925633   \n",
       "2016-01-15 01:00:00                                 10.039245   \n",
       "2016-01-15 02:00:00                                 10.070913   \n",
       "2016-01-15 03:00:00                                  9.970366   \n",
       "2016-01-15 04:00:00                                  9.925709   \n",
       "\n",
       "                     secondary_cleaner.state.floatbank5_a_level  \\\n",
       "date                                                              \n",
       "2016-01-15 00:00:00                                 -498.310211   \n",
       "2016-01-15 01:00:00                                 -500.169983   \n",
       "2016-01-15 02:00:00                                 -500.129135   \n",
       "2016-01-15 03:00:00                                 -499.201640   \n",
       "2016-01-15 04:00:00                                 -501.686727   \n",
       "\n",
       "                     secondary_cleaner.state.floatbank5_b_air  \\\n",
       "date                                                            \n",
       "2016-01-15 00:00:00                                  8.079666   \n",
       "2016-01-15 01:00:00                                  7.984757   \n",
       "2016-01-15 02:00:00                                  8.013877   \n",
       "2016-01-15 03:00:00                                  7.977324   \n",
       "2016-01-15 04:00:00                                  7.894242   \n",
       "\n",
       "                     secondary_cleaner.state.floatbank5_b_level  \\\n",
       "date                                                              \n",
       "2016-01-15 00:00:00                                 -500.470978   \n",
       "2016-01-15 01:00:00                                 -500.582168   \n",
       "2016-01-15 02:00:00                                 -500.517572   \n",
       "2016-01-15 03:00:00                                 -500.255908   \n",
       "2016-01-15 04:00:00                                 -500.356035   \n",
       "\n",
       "                     secondary_cleaner.state.floatbank6_a_air  \\\n",
       "date                                                            \n",
       "2016-01-15 00:00:00                                 14.151341   \n",
       "2016-01-15 01:00:00                                 13.998353   \n",
       "2016-01-15 02:00:00                                 14.028663   \n",
       "2016-01-15 03:00:00                                 14.005551   \n",
       "2016-01-15 04:00:00                                 13.996647   \n",
       "\n",
       "                     secondary_cleaner.state.floatbank6_a_level  \n",
       "date                                                             \n",
       "2016-01-15 00:00:00                                 -605.841980  \n",
       "2016-01-15 01:00:00                                 -599.787184  \n",
       "2016-01-15 02:00:00                                 -601.427363  \n",
       "2016-01-15 03:00:00                                 -599.996129  \n",
       "2016-01-15 04:00:00                                 -601.496691  \n",
       "\n",
       "[5 rows x 86 columns]"
      ]
     },
     "metadata": {},
     "output_type": "display_data"
    },
    {
     "name": "stdout",
     "output_type": "stream",
     "text": [
      "################################\n"
     ]
    }
   ],
   "source": [
    "# знакомимся с данными\n",
    "df_list = [gold_recovery_train_new, gold_recovery_test_new, gold_recovery_full_new]\n",
    "\n",
    "def info (df):\n",
    "    for i in df:\n",
    "        print(i.info())\n",
    "        print()\n",
    "        print(i.isna().sum())\n",
    "        print()\n",
    "        print('Сумма дубликатов =',i.duplicated().sum())\n",
    "        print()\n",
    "        display(i.head())\n",
    "        print('################################')\n",
    "        \n",
    "info(df_list)"
   ]
  },
  {
   "cell_type": "code",
   "execution_count": 4,
   "metadata": {},
   "outputs": [],
   "source": [
    "# функция расчета признака rougher.output.recovery\n",
    "def recovery (c, f, t):\n",
    "    result = (c*(f-t))/(f*(c-t))*100\n",
    "    return result"
   ]
  },
  {
   "cell_type": "code",
   "execution_count": 5,
   "metadata": {},
   "outputs": [],
   "source": [
    "# применение финкции для расчета признака rougher.output.recovery\n",
    "gold_recovery_train_new['recovery'] = recovery(gold_recovery_train_new['rougher.output.concentrate_au'],\n",
    "                                              gold_recovery_train_new['rougher.input.feed_au'],\n",
    "                                              gold_recovery_train_new['rougher.output.tail_au'])"
   ]
  },
  {
   "cell_type": "code",
   "execution_count": 6,
   "metadata": {},
   "outputs": [
    {
     "name": "stdout",
     "output_type": "stream",
     "text": [
      "9.73512347450521e-15\n"
     ]
    }
   ],
   "source": [
    "# расчет MAE для оценки корректности значений rougher.output.recovery в данных с нашим расчетом\n",
    "print(mean_absolute_error(gold_recovery_train_new['rougher.output.recovery'], gold_recovery_train_new['recovery']))"
   ]
  },
  {
   "cell_type": "code",
   "execution_count": 7,
   "metadata": {
    "scrolled": true
   },
   "outputs": [
    {
     "data": {
      "text/plain": [
       "['final.output.concentrate_ag',\n",
       " 'final.output.concentrate_pb',\n",
       " 'final.output.concentrate_sol',\n",
       " 'final.output.concentrate_au',\n",
       " 'final.output.recovery',\n",
       " 'final.output.tail_ag',\n",
       " 'final.output.tail_pb',\n",
       " 'final.output.tail_sol',\n",
       " 'final.output.tail_au',\n",
       " 'primary_cleaner.output.concentrate_ag',\n",
       " 'primary_cleaner.output.concentrate_pb',\n",
       " 'primary_cleaner.output.concentrate_sol',\n",
       " 'primary_cleaner.output.concentrate_au',\n",
       " 'primary_cleaner.output.tail_ag',\n",
       " 'primary_cleaner.output.tail_pb',\n",
       " 'primary_cleaner.output.tail_sol',\n",
       " 'primary_cleaner.output.tail_au',\n",
       " 'rougher.calculation.sulfate_to_au_concentrate',\n",
       " 'rougher.calculation.floatbank10_sulfate_to_au_feed',\n",
       " 'rougher.calculation.floatbank11_sulfate_to_au_feed',\n",
       " 'rougher.calculation.au_pb_ratio',\n",
       " 'rougher.output.concentrate_ag',\n",
       " 'rougher.output.concentrate_pb',\n",
       " 'rougher.output.concentrate_sol',\n",
       " 'rougher.output.concentrate_au',\n",
       " 'rougher.output.recovery',\n",
       " 'rougher.output.tail_ag',\n",
       " 'rougher.output.tail_pb',\n",
       " 'rougher.output.tail_sol',\n",
       " 'rougher.output.tail_au',\n",
       " 'secondary_cleaner.output.tail_ag',\n",
       " 'secondary_cleaner.output.tail_pb',\n",
       " 'secondary_cleaner.output.tail_sol',\n",
       " 'secondary_cleaner.output.tail_au',\n",
       " 'recovery']"
      ]
     },
     "execution_count": 7,
     "metadata": {},
     "output_type": "execute_result"
    }
   ],
   "source": [
    "# сравним признаки в обучающей и тестовой выборк, и выделим разницу\n",
    "gold_recovery_test_new_columns = gold_recovery_test_new.columns\n",
    "gold_recovery_train_new_columns = gold_recovery_train_new.columns\n",
    "\n",
    "missing_columns = []\n",
    "\n",
    "for i in range(len(gold_recovery_train_new_columns)):\n",
    "    if gold_recovery_train_new_columns[i] not in gold_recovery_test_new_columns:\n",
    "        missing_columns.append(gold_recovery_train_new_columns[i])\n",
    "        \n",
    "missing_columns"
   ]
  },
  {
   "cell_type": "code",
   "execution_count": 8,
   "metadata": {},
   "outputs": [],
   "source": [
    "# заменим в тестовых и обучающих выборках пропуски на соседние значения \n",
    "gold_recovery_train_new = gold_recovery_train_new.ffill(axis = 1)\n",
    "gold_recovery_train_new = gold_recovery_train_new.bfill(axis = 1)\n",
    "\n",
    "gold_recovery_test_new = gold_recovery_test_new.ffill(axis = 1)\n",
    "gold_recovery_test_new = gold_recovery_test_new.bfill(axis = 1)"
   ]
  },
  {
   "cell_type": "code",
   "execution_count": 9,
   "metadata": {
    "scrolled": true
   },
   "outputs": [
    {
     "data": {
      "text/plain": [
       "final.output.concentrate_ag                   0\n",
       "final.output.concentrate_pb                   0\n",
       "final.output.concentrate_sol                  0\n",
       "final.output.concentrate_au                   0\n",
       "final.output.recovery                         0\n",
       "                                             ..\n",
       "secondary_cleaner.state.floatbank5_b_air      0\n",
       "secondary_cleaner.state.floatbank5_b_level    0\n",
       "secondary_cleaner.state.floatbank6_a_air      0\n",
       "secondary_cleaner.state.floatbank6_a_level    0\n",
       "recovery                                      0\n",
       "Length: 87, dtype: int64"
      ]
     },
     "execution_count": 9,
     "metadata": {},
     "output_type": "execute_result"
    }
   ],
   "source": [
    "gold_recovery_train_new.isna().sum()"
   ]
  },
  {
   "cell_type": "code",
   "execution_count": 10,
   "metadata": {
    "scrolled": true
   },
   "outputs": [
    {
     "data": {
      "text/plain": [
       "primary_cleaner.input.sulfate                 0\n",
       "primary_cleaner.input.depressant              0\n",
       "primary_cleaner.input.feed_size               0\n",
       "primary_cleaner.input.xanthate                0\n",
       "primary_cleaner.state.floatbank8_a_air        0\n",
       "primary_cleaner.state.floatbank8_a_level      0\n",
       "primary_cleaner.state.floatbank8_b_air        0\n",
       "primary_cleaner.state.floatbank8_b_level      0\n",
       "primary_cleaner.state.floatbank8_c_air        0\n",
       "primary_cleaner.state.floatbank8_c_level      0\n",
       "primary_cleaner.state.floatbank8_d_air        0\n",
       "primary_cleaner.state.floatbank8_d_level      0\n",
       "rougher.input.feed_ag                         0\n",
       "rougher.input.feed_pb                         0\n",
       "rougher.input.feed_rate                       0\n",
       "rougher.input.feed_size                       0\n",
       "rougher.input.feed_sol                        0\n",
       "rougher.input.feed_au                         0\n",
       "rougher.input.floatbank10_sulfate             0\n",
       "rougher.input.floatbank10_xanthate            0\n",
       "rougher.input.floatbank11_sulfate             0\n",
       "rougher.input.floatbank11_xanthate            0\n",
       "rougher.state.floatbank10_a_air               0\n",
       "rougher.state.floatbank10_a_level             0\n",
       "rougher.state.floatbank10_b_air               0\n",
       "rougher.state.floatbank10_b_level             0\n",
       "rougher.state.floatbank10_c_air               0\n",
       "rougher.state.floatbank10_c_level             0\n",
       "rougher.state.floatbank10_d_air               0\n",
       "rougher.state.floatbank10_d_level             0\n",
       "rougher.state.floatbank10_e_air               0\n",
       "rougher.state.floatbank10_e_level             0\n",
       "rougher.state.floatbank10_f_air               0\n",
       "rougher.state.floatbank10_f_level             0\n",
       "secondary_cleaner.state.floatbank2_a_air      0\n",
       "secondary_cleaner.state.floatbank2_a_level    0\n",
       "secondary_cleaner.state.floatbank2_b_air      0\n",
       "secondary_cleaner.state.floatbank2_b_level    0\n",
       "secondary_cleaner.state.floatbank3_a_air      0\n",
       "secondary_cleaner.state.floatbank3_a_level    0\n",
       "secondary_cleaner.state.floatbank3_b_air      0\n",
       "secondary_cleaner.state.floatbank3_b_level    0\n",
       "secondary_cleaner.state.floatbank4_a_air      0\n",
       "secondary_cleaner.state.floatbank4_a_level    0\n",
       "secondary_cleaner.state.floatbank4_b_air      0\n",
       "secondary_cleaner.state.floatbank4_b_level    0\n",
       "secondary_cleaner.state.floatbank5_a_air      0\n",
       "secondary_cleaner.state.floatbank5_a_level    0\n",
       "secondary_cleaner.state.floatbank5_b_air      0\n",
       "secondary_cleaner.state.floatbank5_b_level    0\n",
       "secondary_cleaner.state.floatbank6_a_air      0\n",
       "secondary_cleaner.state.floatbank6_a_level    0\n",
       "dtype: int64"
      ]
     },
     "execution_count": 10,
     "metadata": {},
     "output_type": "execute_result"
    }
   ],
   "source": [
    "gold_recovery_test_new.isna().sum()"
   ]
  },
  {
   "cell_type": "markdown",
   "metadata": {},
   "source": [
    "### Вывод"
   ]
  },
  {
   "cell_type": "markdown",
   "metadata": {},
   "source": [
    "Ознакомились с данными, также была проведена проверка правильности расчета признака rougher.output.recovery - рассчатав данный признак самостоятельно и сравнив с помощью подсчета MAE с данными в датафрейме мы видим, что MAE стремится к нулю, поэтому можно считать, что признак rougher.output.recovery рассчитан верно. Также в обучающих и тестовых выборках были обноружены пропуски, ввиду того cоседние по времени параметры часто похожи, заменили пропуски как раз на них. \n",
    "\n",
    "Также сравнив признаки в обучающей и тестовой выборках стало понятно, что они отличаются. В тестовой отсутствуют признаки final.output, primary_cleaner.output, rougher.calculation, rougher.output, secondary_cleaner.output этапов, т.е. в тестовой выборке только признаки сырья до флотации. Поэтому нужно привести их к единообразию и удалить из тренировочной лишнее, что и было сделано."
   ]
  },
  {
   "cell_type": "markdown",
   "metadata": {},
   "source": [
    "## Анализ данных"
   ]
  },
  {
   "cell_type": "code",
   "execution_count": 11,
   "metadata": {},
   "outputs": [],
   "source": [
    "# функция построения гистограмм концетраций металлов на различных этапах очистки.\n",
    "def hist_metal(raw, rougher, primary, final, name):\n",
    "    \n",
    "    plt.figure(figsize=(12, 7))\n",
    "    plt.hist(raw, bins=70, alpha=0.5, label='Исходное сырьё', histtype='step', linewidth=3)\n",
    "    plt.hist(rougher, bins=70, alpha=0.5, label='После флотации', histtype='step', linewidth=3)\n",
    "    plt.hist(primary, bins=70, alpha=0.5, label='После первого этапа очистки', histtype='step', linewidth=3)\n",
    "    plt.hist(final, bins=70, alpha=0.5, label='После второго этапа очистки', histtype='step', linewidth=3)\n",
    "    plt.grid(ls=':')\n",
    "    plt.title(name)\n",
    "    plt.xlabel('Концентрация')\n",
    "    plt.ylabel('Количество')\n",
    "    plt.legend()\n",
    "    plt.show()\n",
    " \n"
   ]
  },
  {
   "cell_type": "code",
   "execution_count": 12,
   "metadata": {
    "scrolled": true
   },
   "outputs": [
    {
     "data": {
      "image/png": "[encoded data removed]",
      "text/plain": [
       "<Figure size 864x504 with 1 Axes>"
      ]
     },
     "metadata": {
      "needs_background": "light"
     },
     "output_type": "display_data"
    }
   ],
   "source": [
    "# рассмотрим концетрацию золота на различных этапах очистки\n",
    "hist_metal(gold_recovery_full_new['rougher.input.feed_au'], \n",
    "           gold_recovery_full_new['rougher.output.concentrate_au'], \n",
    "           gold_recovery_full_new['primary_cleaner.output.concentrate_au'], \n",
    "           gold_recovery_full_new['final.output.concentrate_au'], \n",
    "           'Au')"
   ]
  },
  {
   "cell_type": "markdown",
   "metadata": {},
   "source": [
    "Видим, что концктрация золота после каждого этапа очистки увеличивается. Однако стоит отметить, что присутствуют нулевые значения после на каждом этапе очистки."
   ]
  },
  {
   "cell_type": "code",
   "execution_count": 13,
   "metadata": {
    "scrolled": true
   },
   "outputs": [
    {
     "data": {
      "image/png": "[encoded data removed]",
      "text/plain": [
       "<Figure size 864x504 with 1 Axes>"
      ]
     },
     "metadata": {
      "needs_background": "light"
     },
     "output_type": "display_data"
    }
   ],
   "source": [
    "# рассмотрим концетрацию серебра на различных этапах очистки\n",
    "hist_metal(gold_recovery_full_new['rougher.input.feed_ag'], \n",
    "           gold_recovery_full_new['rougher.output.concentrate_ag'], \n",
    "           gold_recovery_full_new['primary_cleaner.output.concentrate_ag'], \n",
    "           gold_recovery_full_new['final.output.concentrate_ag'], \n",
    "           'Ag')"
   ]
  },
  {
   "cell_type": "markdown",
   "metadata": {},
   "source": [
    "В ситуации с серебром уже не все так очевидно. Концетрация серебра не падает в зависисимости от от исходного сырья к финальному этапу. Так например распределение концетрации серебра на этапе сырья похоже на распредление концетрации после первого этапа очистки, но все же после второго этапа очистки концетрация серебра меньше всего. Стоит отметить, что присутствуют нулевые значения после на каждом этапе очистки."
   ]
  },
  {
   "cell_type": "code",
   "execution_count": 14,
   "metadata": {
    "scrolled": true
   },
   "outputs": [
    {
     "data": {
      "image/png": "[encoded data removed]",
      "text/plain": [
       "<Figure size 864x504 with 1 Axes>"
      ]
     },
     "metadata": {
      "needs_background": "light"
     },
     "output_type": "display_data"
    }
   ],
   "source": [
    "# рассмотрим концетрацию свинца на различных этапах очистки\n",
    "hist_metal(gold_recovery_full_new['rougher.input.feed_pb'], \n",
    "           gold_recovery_full_new['rougher.output.concentrate_pb'], \n",
    "           gold_recovery_full_new['primary_cleaner.output.concentrate_pb'], \n",
    "           gold_recovery_full_new['final.output.concentrate_pb'], \n",
    "           'Pb')"
   ]
  },
  {
   "cell_type": "markdown",
   "metadata": {},
   "source": [
    "И совсем иная ситуация со свинцом. Концетрация увеличивается к финальным этапам очистки. Стоит отметить, что присутствуют нулевые значения после на каждом этапе очистки. "
   ]
  },
  {
   "cell_type": "code",
   "execution_count": 15,
   "metadata": {
    "scrolled": true
   },
   "outputs": [
    {
     "data": {
      "image/png": "[encoded data removed]",
      "text/plain": [
       "<Figure size 864x504 with 1 Axes>"
      ]
     },
     "metadata": {
      "needs_background": "light"
     },
     "output_type": "display_data"
    }
   ],
   "source": [
    "# строим гистограмму распределения размеров гранул сырья на обучающей и тестовой выборках\n",
    "plt.figure(figsize=(12, 7))\n",
    "plt.hist(gold_recovery_train_new['primary_cleaner.input.feed_size'], bins=70, alpha=0.5, \n",
    "         label='Обучающая выборка', histtype='step', linewidth=3)\n",
    "plt.hist(gold_recovery_test_new['primary_cleaner.input.feed_size'], bins=70, alpha=0.5, \n",
    "         label='Тестовая выборка', histtype='step', linewidth=3)\n",
    "plt.grid(ls=':')\n",
    "plt.title('feed size')\n",
    "plt.xlabel('Размер гранул')\n",
    "plt.ylabel('Количество')\n",
    "plt.legend()\n",
    "plt.show()"
   ]
  },
  {
   "cell_type": "markdown",
   "metadata": {},
   "source": [
    "Видно, что распределения размеров гранул сырья на обучающей и тестовой выборках отличается не сильно, поэтому ожидаем правильную оценку модели."
   ]
  },
  {
   "cell_type": "code",
   "execution_count": 16,
   "metadata": {},
   "outputs": [],
   "source": [
    "# Исследуем суммарную концентрацию всех веществ на разных стадиях: в сырье, в черновом и финальном концентратах. Для этого посчитаем их сумму\n",
    "gold_recovery_full_new['total_raw'] = (gold_recovery_full_new['rougher.input.feed_ag'] + gold_recovery_full_new['rougher.input.feed_pb'] + \n",
    "                                        gold_recovery_full_new['rougher.input.feed_sol'] + gold_recovery_full_new['rougher.input.feed_au'])\n",
    "\n",
    "gold_recovery_full_new['total_rougher'] = (gold_recovery_full_new['rougher.output.concentrate_ag'] + gold_recovery_full_new['rougher.output.concentrate_pb'] + \n",
    "                                            gold_recovery_full_new['rougher.output.concentrate_sol'] + gold_recovery_full_new['rougher.output.concentrate_au'])\n",
    "\n",
    "gold_recovery_full_new['total_final'] = (gold_recovery_full_new['final.output.concentrate_ag'] + gold_recovery_full_new['final.output.concentrate_pb'] + \n",
    "                                            gold_recovery_full_new['final.output.concentrate_sol'] + gold_recovery_full_new['final.output.concentrate_au'])\n"
   ]
  },
  {
   "cell_type": "code",
   "execution_count": 17,
   "metadata": {
    "scrolled": false
   },
   "outputs": [
    {
     "data": {
      "image/png": "[encoded data removed]",
      "text/plain": [
       "<Figure size 864x504 with 1 Axes>"
      ]
     },
     "metadata": {
      "needs_background": "light"
     },
     "output_type": "display_data"
    }
   ],
   "source": [
    "# построим распределения суммарных концетраций\n",
    "plt.figure(figsize=(12, 7))\n",
    "plt.hist(gold_recovery_full_new['total_raw'], bins=70, alpha=0.5, label='Исходное сырье', histtype='step', linewidth=3)\n",
    "plt.hist(gold_recovery_full_new['total_rougher'], bins=70, alpha=0.5, label='Черновой концетрат', histtype='step', linewidth=3)\n",
    "plt.hist(gold_recovery_full_new['total_final'], bins=70, alpha=0.5, label='Финальный концетрат', histtype='step', linewidth=3)\n",
    "plt.grid(ls=':')\n",
    "plt.title('feed size')\n",
    "plt.xlabel('Суммарная концетрация')\n",
    "plt.ylabel('Количество')\n",
    "plt.legend()\n",
    "plt.show()"
   ]
  },
  {
   "cell_type": "markdown",
   "metadata": {},
   "source": [
    "Рассмотрев суммарные распределения веществ на различных этапах мы видим, что снова присутствуют нулевые значения, думаю, что это явно какая-то ошибка, поэтому далее я уберу данные значения из обучающей и тестовых выборок."
   ]
  },
  {
   "cell_type": "code",
   "execution_count": 18,
   "metadata": {},
   "outputs": [],
   "source": [
    "# выделяем необходимые признаки\n",
    "features_raw = ['rougher.input.feed_ag', 'rougher.input.feed_pb',\n",
    "               'rougher.input.feed_sol', 'rougher.input.feed_au']\n",
    "\n",
    "features_rougher = ['rougher.output.concentrate_ag', 'rougher.output.concentrate_pb',\n",
    "                   'rougher.output.concentrate_sol', 'rougher.output.concentrate_au']\n",
    "\n",
    "features_final = ['final.output.concentrate_ag', 'final.output.concentrate_pb',\n",
    "                 'final.output.concentrate_sol', 'final.output.concentrate_au']"
   ]
  },
  {
   "cell_type": "code",
   "execution_count": 19,
   "metadata": {
    "scrolled": true
   },
   "outputs": [],
   "source": [
    "# убираем из тестовой и обучающей выборки позиции с нулевой суммарной концетрацией веществ\n",
    "\n",
    "df_train = gold_recovery_train_new[gold_recovery_train_new[features_raw].sum(1) > 0]\n",
    "df_train = df_train[df_train[features_rougher].sum(1) > 0]\n",
    "df_train = df_train[df_train[features_final].sum(1) > 0]\n",
    "\n",
    "df_full = gold_recovery_full_new.loc[gold_recovery_test_new.index]\n",
    "\n",
    "df_test = gold_recovery_test_new[df_full[features_raw].sum(1) > 0]\n",
    "df_test = df_test[df_full[features_rougher].sum(1) > 0]\n",
    "df_test = df_test[df_full[features_final].sum(1) > 0]"
   ]
  },
  {
   "cell_type": "code",
   "execution_count": 20,
   "metadata": {},
   "outputs": [],
   "source": [
    "# удаляем из обучающей выборки признаки, чтобы привести в соотвествие с тестовой выборкой\n",
    "df_train = df_train.drop(['final.output.concentrate_ag', 'final.output.concentrate_pb', 'final.output.concentrate_sol',\n",
    "                          'final.output.concentrate_au', 'final.output.tail_ag',\n",
    "                          'final.output.tail_pb', 'final.output.tail_sol', 'final.output.tail_au',\n",
    "                          'primary_cleaner.output.concentrate_ag', 'primary_cleaner.output.concentrate_pb',\n",
    "                          'primary_cleaner.output.concentrate_sol', 'primary_cleaner.output.concentrate_au',\n",
    "                          'primary_cleaner.output.tail_ag', 'primary_cleaner.output.tail_pb', 'primary_cleaner.output.tail_sol',\n",
    "                          'primary_cleaner.output.tail_au', 'rougher.calculation.sulfate_to_au_concentrate', 'rougher.calculation.floatbank10_sulfate_to_au_feed',\n",
    "                          'rougher.calculation.floatbank11_sulfate_to_au_feed', 'rougher.calculation.au_pb_ratio', 'rougher.output.concentrate_ag',\n",
    "                          'rougher.output.concentrate_pb', 'rougher.output.concentrate_sol', 'rougher.output.concentrate_au',\n",
    "                          'rougher.output.tail_ag', 'rougher.output.tail_pb', 'rougher.output.tail_sol', 'rougher.output.tail_au', 'secondary_cleaner.output.tail_ag',\n",
    "                          'secondary_cleaner.output.tail_pb', 'secondary_cleaner.output.tail_sol', 'secondary_cleaner.output.tail_au',\n",
    "                          'recovery'], axis = 1)"
   ]
  },
  {
   "cell_type": "markdown",
   "metadata": {},
   "source": [
    "### Вывод"
   ]
  },
  {
   "cell_type": "markdown",
   "metadata": {},
   "source": [
    "В процессе рассмотрения концетрации веществ на различных этапах очистки нельзя сделать общий вывод для всех вещества, так как картина везде разная - например концетрация свинца увеличивается к финальным этапам очистки. В процессе беглового анализа сети на предмет технелогического процесса получения золота из сырья я понял, что далее следуют доплнительные этапы отделения веществ друг от друга, поэтому считаю полученную картину нормой технологического процесса.\n",
    "\n",
    "В процессе анализа размеров гранул сырья видно, что распределения размеров гранул сырья на обучающей и тестовой выборках отличается не сильно, поэтому ожидаем правильную оценку модели.\n",
    "\n",
    "Рассмотрев суммарную концетрацию веществ на различных этапах мы видим, что есть позиции с нулевой значимостью, вероятнее всего это какая-то ошибка, поэтому необходимо убрать данные значения из обучающей и тестовых выборок.\n",
    "\n",
    "Для подготовки к следующему этапу обучающая и тестовая выборки были приведены к единообразию и лишние признаци были удалены из обучающей выборки."
   ]
  },
  {
   "cell_type": "markdown",
   "metadata": {},
   "source": [
    "## Модель"
   ]
  },
  {
   "cell_type": "code",
   "execution_count": 21,
   "metadata": {},
   "outputs": [],
   "source": [
    "# функция для вычисления итоговой sMAPE\n",
    "def final_smape(y, y_hat):\n",
    "   y_rougher = y.iloc[:, 0]\n",
    "   y_hat_rougher = y_hat[:, 0]\n",
    "   rougher_num = np.abs(y_rougher - y_hat_rougher)\n",
    "   rougher_den = (np.abs(y_rougher) + np.abs(y_hat_rougher)) / 2\n",
    "   smape_rougher = np.mean(rougher_num / rougher_den) * 100\n",
    "   y_final = y.iloc[:, 1]\n",
    "   y_hat_final = y_hat[:, 1]\n",
    "   final_num = np.abs(y_final - y_hat_final)\n",
    "   final_den = (np.abs(y_final) + np.abs(y_hat_final)) / 2\n",
    "   smape_final = np.mean(final_num / final_den) * 100\n",
    "   final_smape = smape_rougher * 0.25 + smape_final * 0.75\n",
    "   return final_smape\n",
    "\n",
    "smape_score = make_scorer(final_smape, greater_is_better=False)"
   ]
  },
  {
   "cell_type": "code",
   "execution_count": 22,
   "metadata": {
    "scrolled": false
   },
   "outputs": [],
   "source": [
    "# определяем целевой и прочие признаки для моделей\n",
    "target_test = df_full[['final.output.recovery', 'rougher.output.recovery']].loc[df_test.index]\n",
    "features_test = df_test\n",
    "\n",
    "target_train = df_train[['final.output.recovery', 'rougher.output.recovery']].reset_index(drop=True)\n",
    "features_train = df_train.drop(['final.output.recovery', 'rougher.output.recovery'], axis=1)"
   ]
  },
  {
   "cell_type": "markdown",
   "metadata": {},
   "source": [
    "### DecisionTreeRegressor"
   ]
  },
  {
   "cell_type": "code",
   "execution_count": 23,
   "metadata": {},
   "outputs": [
    {
     "name": "stdout",
     "output_type": "stream",
     "text": [
      "CPU times: user 2 µs, sys: 1 µs, total: 3 µs\n",
      "Wall time: 6.2 µs\n"
     ]
    },
    {
     "data": {
      "text/plain": [
       "GridSearchCV(cv=5, estimator=DecisionTreeRegressor(random_state=12345),\n",
       "             param_grid={'max_depth': range(1, 30, 2)},\n",
       "             scoring=make_scorer(final_smape, greater_is_better=False))"
      ]
     },
     "execution_count": 23,
     "metadata": {},
     "output_type": "execute_result"
    }
   ],
   "source": [
    "%time\n",
    "# подбираем параметра для решающего дерева\n",
    "clf = DecisionTreeRegressor(random_state=12345)\n",
    "\n",
    "parametrs = { \n",
    "             'max_depth': range (1,30, 2)\n",
    "            }\n",
    "\n",
    "grid = GridSearchCV(clf, parametrs, cv=5, scoring = smape_score)\n",
    "grid.fit(features_train, target_train)\n"
   ]
  },
  {
   "cell_type": "code",
   "execution_count": 24,
   "metadata": {},
   "outputs": [
    {
     "name": "stdout",
     "output_type": "stream",
     "text": [
      "{'max_depth': 1}\n"
     ]
    },
    {
     "data": {
      "text/plain": [
       "-7.695434118832995"
      ]
     },
     "execution_count": 24,
     "metadata": {},
     "output_type": "execute_result"
    }
   ],
   "source": [
    "print(grid.best_params_)\n",
    "grid.best_score_"
   ]
  },
  {
   "cell_type": "markdown",
   "metadata": {},
   "source": [
    "### RandomForestRegressor"
   ]
  },
  {
   "cell_type": "code",
   "execution_count": 25,
   "metadata": {
    "scrolled": false
   },
   "outputs": [
    {
     "name": "stdout",
     "output_type": "stream",
     "text": [
      "CPU times: user 1 µs, sys: 1e+03 ns, total: 2 µs\n",
      "Wall time: 3.1 µs\n"
     ]
    },
    {
     "data": {
      "text/plain": [
       "GridSearchCV(cv=5, estimator=RandomForestRegressor(random_state=12345),\n",
       "             param_grid={'max_depth': range(1, 20, 3),\n",
       "                         'n_estimators': range(1, 20, 3)},\n",
       "             scoring=make_scorer(final_smape, greater_is_better=False))"
      ]
     },
     "execution_count": 25,
     "metadata": {},
     "output_type": "execute_result"
    }
   ],
   "source": [
    "%time\n",
    "# подбираем параметры для случайного леса\n",
    "clf = RandomForestRegressor(random_state=12345)\n",
    "\n",
    "parametrs = {'n_estimators': range (1, 20,3), \n",
    "             'max_depth': range (1,20,3)\n",
    "            }\n",
    "\n",
    "grid = GridSearchCV(clf, parametrs, cv=5, scoring = smape_score)\n",
    "grid.fit(features_train, target_train)\n"
   ]
  },
  {
   "cell_type": "code",
   "execution_count": 26,
   "metadata": {},
   "outputs": [
    {
     "name": "stdout",
     "output_type": "stream",
     "text": [
      "{'max_depth': 4, 'n_estimators': 13}\n"
     ]
    },
    {
     "data": {
      "text/plain": [
       "-7.29424923769742"
      ]
     },
     "execution_count": 26,
     "metadata": {},
     "output_type": "execute_result"
    }
   ],
   "source": [
    "print(grid.best_params_)\n",
    "grid.best_score_"
   ]
  },
  {
   "cell_type": "markdown",
   "metadata": {},
   "source": [
    "### LinearRegression"
   ]
  },
  {
   "cell_type": "code",
   "execution_count": 27,
   "metadata": {},
   "outputs": [
    {
     "name": "stdout",
     "output_type": "stream",
     "text": [
      "CPU times: user 1e+03 ns, sys: 0 ns, total: 1e+03 ns\n",
      "Wall time: 9.06 µs\n"
     ]
    },
    {
     "data": {
      "text/plain": [
       "-8.419154727148438"
      ]
     },
     "execution_count": 27,
     "metadata": {},
     "output_type": "execute_result"
    }
   ],
   "source": [
    "%time\n",
    "# проверяем качество кросс-валидацией\n",
    "model_lr =  LinearRegression()\n",
    "\n",
    "scores_lr = cross_val_score(model_lr, features_train, target_train, cv=5, scoring = smape_score)\n",
    "\n",
    "final_score_lr = sum(scores_lr) / len(scores_lr)\n",
    "\n",
    "final_score_lr"
   ]
  },
  {
   "cell_type": "markdown",
   "metadata": {},
   "source": [
    "### Лучшая модель"
   ]
  },
  {
   "cell_type": "code",
   "execution_count": 29,
   "metadata": {},
   "outputs": [
    {
     "name": "stdout",
     "output_type": "stream",
     "text": [
      "CPU times: user 7 µs, sys: 2 µs, total: 9 µs\n",
      "Wall time: 18.4 µs\n"
     ]
    },
    {
     "data": {
      "text/plain": [
       "5.868107202253755"
      ]
     },
     "execution_count": 29,
     "metadata": {},
     "output_type": "execute_result"
    }
   ],
   "source": [
    "%time\n",
    "# проверяем качество предсказания модели случайного леса на тестовой выборке\n",
    "model_rf = RandomForestRegressor(random_state=12345, max_depth = 4, n_estimators = 13)\n",
    "model_rf.fit(features_train, target_train) \n",
    "predictions = model_rf.predict(features_test)\n",
    "\n",
    "calculate_final_smape_test = final_smape(target_test, predictions)\n",
    "\n",
    "calculate_final_smape_test"
   ]
  },
  {
   "cell_type": "code",
   "execution_count": 30,
   "metadata": {},
   "outputs": [
    {
     "name": "stdout",
     "output_type": "stream",
     "text": [
      "CPU times: user 7 µs, sys: 2 µs, total: 9 µs\n",
      "Wall time: 17.9 µs\n"
     ]
    },
    {
     "data": {
      "text/plain": [
       "6.174713273554232"
      ]
     },
     "execution_count": 30,
     "metadata": {},
     "output_type": "execute_result"
    }
   ],
   "source": [
    "%time\n",
    "# проверяем качество предсказания константной модели на тестовой выборке\n",
    "\n",
    "model_dr = DummyRegressor()\n",
    "\n",
    "model_dr.fit(features_train,target_train)\n",
    "\n",
    "predictions_dr = model_dr.predict(features_test)\n",
    "\n",
    "calculate_final_smape_test_ds = final_smape(target_test, predictions_dr)\n",
    "\n",
    "calculate_final_smape_test_ds"
   ]
  },
  {
   "cell_type": "markdown",
   "metadata": {},
   "source": [
    "### Вывод"
   ]
  },
  {
   "cell_type": "markdown",
   "metadata": {},
   "source": [
    "В результате обучения моделей решающего дерева, случайного леса и линейной регрессии и проверки их качества кросс-валидацией(в которую мы через make_scorer() поместили нашу функцию для проверки sMAPE) лучший результат показала модель случайного леса. Пременив ее на тестовой выборке мы получули более лучший результат чем на обучающих данных, что свидельствует о небольшом недообучении модели. Также при сравнении с константной моделью видим, что результат функции подсчета итогового sMAPE в модели случайного леса получился лучше, что свидельствует о адекватности предсказания нашей модели."
   ]
  }
 ],
 "metadata": {
  "ExecuteTimeLog": [
   {
    "duration": 684,
    "start_time": "2022-04-04T13:00:55.011Z"
   },
   {
    "duration": 339,
    "start_time": "2022-04-04T13:03:32.129Z"
   },
   {
    "duration": 681,
    "start_time": "2022-04-04T13:05:00.401Z"
   },
   {
    "duration": 8,
    "start_time": "2022-04-04T13:07:47.028Z"
   },
   {
    "duration": 137,
    "start_time": "2022-04-04T13:08:09.874Z"
   },
   {
    "duration": 126,
    "start_time": "2022-04-04T13:08:29.344Z"
   },
   {
    "duration": 145,
    "start_time": "2022-04-04T13:08:34.615Z"
   },
   {
    "duration": 25262,
    "start_time": "2022-04-04T13:08:50.849Z"
   },
   {
    "duration": 1982,
    "start_time": "2022-04-04T13:09:31.020Z"
   },
   {
    "duration": 62048,
    "start_time": "2022-04-04T13:12:24.719Z"
   },
   {
    "duration": 609,
    "start_time": "2022-04-04T13:15:13.111Z"
   },
   {
    "duration": 62113,
    "start_time": "2022-04-04T13:15:50.653Z"
   },
   {
    "duration": 662,
    "start_time": "2022-04-04T13:17:27.339Z"
   },
   {
    "duration": 51,
    "start_time": "2022-04-04T13:22:14.384Z"
   },
   {
    "duration": 95000,
    "start_time": "2022-04-04T13:23:02.448Z"
   },
   {
    "duration": 49699,
    "start_time": "2022-04-04T13:25:09.406Z"
   },
   {
    "duration": 728,
    "start_time": "2022-04-04T13:27:04.770Z"
   },
   {
    "duration": 4,
    "start_time": "2022-04-04T13:43:23.104Z"
   },
   {
    "duration": 340,
    "start_time": "2022-04-04T13:44:02.256Z"
   },
   {
    "duration": 6,
    "start_time": "2022-04-04T15:06:28.012Z"
   },
   {
    "duration": 5,
    "start_time": "2022-04-04T15:07:07.814Z"
   },
   {
    "duration": 4,
    "start_time": "2022-04-04T15:07:24.693Z"
   },
   {
    "duration": 6,
    "start_time": "2022-04-04T15:07:53.267Z"
   },
   {
    "duration": 3,
    "start_time": "2022-04-04T15:22:09.389Z"
   },
   {
    "duration": 2,
    "start_time": "2022-04-04T15:22:09.902Z"
   },
   {
    "duration": 2,
    "start_time": "2022-04-04T15:22:55.398Z"
   },
   {
    "duration": 3,
    "start_time": "2022-04-04T15:32:09.892Z"
   },
   {
    "duration": 3,
    "start_time": "2022-04-04T15:32:32.698Z"
   },
   {
    "duration": 3,
    "start_time": "2022-04-04T15:33:35.681Z"
   },
   {
    "duration": 3,
    "start_time": "2022-04-04T15:33:37.416Z"
   },
   {
    "duration": 3,
    "start_time": "2022-04-04T15:34:23.097Z"
   },
   {
    "duration": 3,
    "start_time": "2022-04-04T15:34:26.221Z"
   },
   {
    "duration": 4,
    "start_time": "2022-04-04T15:34:49.460Z"
   },
   {
    "duration": 190,
    "start_time": "2022-04-04T15:35:55.265Z"
   },
   {
    "duration": 1154,
    "start_time": "2022-04-04T15:43:16.354Z"
   },
   {
    "duration": 3,
    "start_time": "2022-04-04T15:43:17.511Z"
   },
   {
    "duration": 18,
    "start_time": "2022-04-04T15:43:17.521Z"
   },
   {
    "duration": 20,
    "start_time": "2022-04-04T15:43:17.542Z"
   },
   {
    "duration": 15,
    "start_time": "2022-04-04T15:43:17.564Z"
   },
   {
    "duration": 17,
    "start_time": "2022-04-04T15:43:17.581Z"
   },
   {
    "duration": 24,
    "start_time": "2022-04-04T15:43:17.600Z"
   },
   {
    "duration": 344,
    "start_time": "2022-04-04T15:43:17.625Z"
   },
   {
    "duration": 1251,
    "start_time": "2022-04-05T06:56:11.409Z"
   },
   {
    "duration": 3,
    "start_time": "2022-04-05T06:56:12.663Z"
   },
   {
    "duration": 9,
    "start_time": "2022-04-05T06:56:12.673Z"
   },
   {
    "duration": 7,
    "start_time": "2022-04-05T06:56:12.684Z"
   },
   {
    "duration": 6,
    "start_time": "2022-04-05T06:56:12.694Z"
   },
   {
    "duration": 110,
    "start_time": "2022-04-05T06:56:12.702Z"
   },
   {
    "duration": 0,
    "start_time": "2022-04-05T06:56:12.814Z"
   },
   {
    "duration": 5,
    "start_time": "2022-04-05T06:56:26.447Z"
   },
   {
    "duration": 505,
    "start_time": "2022-04-05T07:13:14.911Z"
   },
   {
    "duration": 4,
    "start_time": "2022-04-05T07:32:29.604Z"
   },
   {
    "duration": 49,
    "start_time": "2022-04-05T13:37:21.040Z"
   },
   {
    "duration": 993,
    "start_time": "2022-04-05T13:37:29.588Z"
   },
   {
    "duration": 299,
    "start_time": "2022-04-05T13:37:30.583Z"
   },
   {
    "duration": 3,
    "start_time": "2022-04-05T13:37:30.884Z"
   },
   {
    "duration": 24,
    "start_time": "2022-04-05T13:37:30.888Z"
   },
   {
    "duration": 8,
    "start_time": "2022-04-05T13:37:30.915Z"
   },
   {
    "duration": 18,
    "start_time": "2022-04-05T13:37:30.925Z"
   },
   {
    "duration": 11,
    "start_time": "2022-04-05T13:37:30.945Z"
   },
   {
    "duration": 7,
    "start_time": "2022-04-05T13:37:30.958Z"
   },
   {
    "duration": 11,
    "start_time": "2022-04-05T13:37:30.967Z"
   },
   {
    "duration": 1966,
    "start_time": "2022-04-05T14:37:53.386Z"
   },
   {
    "duration": 299,
    "start_time": "2022-04-05T14:37:55.355Z"
   },
   {
    "duration": 3,
    "start_time": "2022-04-05T14:37:55.656Z"
   },
   {
    "duration": 7,
    "start_time": "2022-04-05T14:37:55.660Z"
   },
   {
    "duration": 8,
    "start_time": "2022-04-05T14:37:55.669Z"
   },
   {
    "duration": 6,
    "start_time": "2022-04-05T14:37:55.678Z"
   },
   {
    "duration": 6,
    "start_time": "2022-04-05T14:37:55.685Z"
   },
   {
    "duration": 6,
    "start_time": "2022-04-05T14:37:55.692Z"
   },
   {
    "duration": 11,
    "start_time": "2022-04-05T14:37:55.699Z"
   },
   {
    "duration": 6,
    "start_time": "2022-04-05T14:41:24.461Z"
   },
   {
    "duration": 5,
    "start_time": "2022-04-05T14:46:42.610Z"
   },
   {
    "duration": 10,
    "start_time": "2022-04-05T14:58:05.929Z"
   },
   {
    "duration": 3,
    "start_time": "2022-04-05T15:07:38.240Z"
   },
   {
    "duration": 4,
    "start_time": "2022-04-05T15:07:38.756Z"
   },
   {
    "duration": 4,
    "start_time": "2022-04-05T15:07:39.401Z"
   },
   {
    "duration": 1745,
    "start_time": "2022-04-05T15:28:12.349Z"
   },
   {
    "duration": 304,
    "start_time": "2022-04-05T15:28:14.096Z"
   },
   {
    "duration": 3,
    "start_time": "2022-04-05T15:28:14.402Z"
   },
   {
    "duration": 8,
    "start_time": "2022-04-05T15:28:14.406Z"
   },
   {
    "duration": 7,
    "start_time": "2022-04-05T15:28:14.416Z"
   },
   {
    "duration": 12,
    "start_time": "2022-04-05T15:28:14.425Z"
   },
   {
    "duration": 6,
    "start_time": "2022-04-05T15:28:14.439Z"
   },
   {
    "duration": 8,
    "start_time": "2022-04-05T15:28:14.447Z"
   },
   {
    "duration": 11,
    "start_time": "2022-04-05T15:28:14.456Z"
   },
   {
    "duration": 6,
    "start_time": "2022-04-05T15:28:14.468Z"
   },
   {
    "duration": 1734,
    "start_time": "2022-04-05T15:28:25.254Z"
   },
   {
    "duration": 308,
    "start_time": "2022-04-05T15:28:26.990Z"
   },
   {
    "duration": 3,
    "start_time": "2022-04-05T15:28:27.303Z"
   },
   {
    "duration": 5,
    "start_time": "2022-04-05T15:28:27.308Z"
   },
   {
    "duration": 23,
    "start_time": "2022-04-05T15:28:27.315Z"
   },
   {
    "duration": 4,
    "start_time": "2022-04-05T15:28:27.339Z"
   },
   {
    "duration": 6,
    "start_time": "2022-04-05T15:28:27.345Z"
   },
   {
    "duration": 9,
    "start_time": "2022-04-05T15:28:27.353Z"
   },
   {
    "duration": 11,
    "start_time": "2022-04-05T15:28:27.363Z"
   },
   {
    "duration": 5,
    "start_time": "2022-04-05T15:28:27.376Z"
   },
   {
    "duration": 5,
    "start_time": "2022-04-05T15:35:55.541Z"
   },
   {
    "duration": 5,
    "start_time": "2022-04-05T15:35:57.533Z"
   },
   {
    "duration": 2100,
    "start_time": "2022-04-05T15:36:17.150Z"
   },
   {
    "duration": 327,
    "start_time": "2022-04-05T15:36:19.252Z"
   },
   {
    "duration": 3,
    "start_time": "2022-04-05T15:36:19.581Z"
   },
   {
    "duration": 4,
    "start_time": "2022-04-05T15:36:19.586Z"
   },
   {
    "duration": 5,
    "start_time": "2022-04-05T15:36:19.593Z"
   },
   {
    "duration": 8,
    "start_time": "2022-04-05T15:36:19.599Z"
   },
   {
    "duration": 6,
    "start_time": "2022-04-05T15:36:19.608Z"
   },
   {
    "duration": 22,
    "start_time": "2022-04-05T15:36:19.616Z"
   },
   {
    "duration": 3,
    "start_time": "2022-04-05T15:36:19.640Z"
   },
   {
    "duration": 9,
    "start_time": "2022-04-05T15:36:19.645Z"
   },
   {
    "duration": 5,
    "start_time": "2022-04-05T15:36:19.656Z"
   },
   {
    "duration": 2,
    "start_time": "2022-04-05T15:41:34.585Z"
   },
   {
    "duration": 3,
    "start_time": "2022-04-05T15:41:35.205Z"
   },
   {
    "duration": 5,
    "start_time": "2022-04-05T15:41:35.894Z"
   },
   {
    "duration": 4,
    "start_time": "2022-04-05T15:41:36.586Z"
   },
   {
    "duration": 1965,
    "start_time": "2022-04-06T04:55:53.357Z"
   },
   {
    "duration": 328,
    "start_time": "2022-04-06T04:55:55.324Z"
   },
   {
    "duration": 3,
    "start_time": "2022-04-06T04:55:55.654Z"
   },
   {
    "duration": 6,
    "start_time": "2022-04-06T04:55:55.658Z"
   },
   {
    "duration": 5,
    "start_time": "2022-04-06T04:55:55.667Z"
   },
   {
    "duration": 6,
    "start_time": "2022-04-06T04:55:55.673Z"
   },
   {
    "duration": 22,
    "start_time": "2022-04-06T04:55:55.681Z"
   },
   {
    "duration": 6,
    "start_time": "2022-04-06T04:55:55.705Z"
   },
   {
    "duration": 11,
    "start_time": "2022-04-06T04:55:55.713Z"
   },
   {
    "duration": 2,
    "start_time": "2022-04-06T04:55:55.726Z"
   },
   {
    "duration": 8,
    "start_time": "2022-04-06T04:55:55.730Z"
   },
   {
    "duration": 4,
    "start_time": "2022-04-06T04:56:51.360Z"
   },
   {
    "duration": 6,
    "start_time": "2022-04-06T04:56:52.255Z"
   },
   {
    "duration": 3,
    "start_time": "2022-04-06T04:56:52.843Z"
   },
   {
    "duration": 5,
    "start_time": "2022-04-06T04:56:53.723Z"
   },
   {
    "duration": 3,
    "start_time": "2022-04-06T05:23:12.580Z"
   },
   {
    "duration": 3,
    "start_time": "2022-04-06T05:23:13.135Z"
   },
   {
    "duration": 3,
    "start_time": "2022-04-06T05:23:27.334Z"
   },
   {
    "duration": 2,
    "start_time": "2022-04-06T05:23:27.737Z"
   },
   {
    "duration": 6,
    "start_time": "2022-04-06T05:23:28.518Z"
   },
   {
    "duration": 4,
    "start_time": "2022-04-06T05:23:30.219Z"
   },
   {
    "duration": 96,
    "start_time": "2022-04-06T05:59:53.773Z"
   },
   {
    "duration": 165,
    "start_time": "2022-04-06T06:00:02.366Z"
   },
   {
    "duration": 4,
    "start_time": "2022-04-06T06:00:08.469Z"
   },
   {
    "duration": 4,
    "start_time": "2022-04-06T06:00:20.490Z"
   },
   {
    "duration": 4,
    "start_time": "2022-04-06T06:00:31.482Z"
   },
   {
    "duration": 9,
    "start_time": "2022-04-06T06:10:52.752Z"
   },
   {
    "duration": 4,
    "start_time": "2022-04-06T06:11:20.176Z"
   },
   {
    "duration": 132,
    "start_time": "2022-04-06T06:13:47.007Z"
   },
   {
    "duration": 43,
    "start_time": "2022-04-06T06:14:42.730Z"
   },
   {
    "duration": 37,
    "start_time": "2022-04-06T06:15:11.566Z"
   },
   {
    "duration": 35,
    "start_time": "2022-04-06T06:15:28.553Z"
   },
   {
    "duration": 35,
    "start_time": "2022-04-06T06:15:43.452Z"
   },
   {
    "duration": 4,
    "start_time": "2022-04-06T06:17:25.469Z"
   },
   {
    "duration": 9,
    "start_time": "2022-04-06T06:17:39.489Z"
   },
   {
    "duration": 4,
    "start_time": "2022-04-06T06:17:41.882Z"
   },
   {
    "duration": 11,
    "start_time": "2022-04-06T06:18:46.333Z"
   },
   {
    "duration": 4,
    "start_time": "2022-04-06T06:26:18.266Z"
   },
   {
    "duration": 21,
    "start_time": "2022-04-06T06:27:20.777Z"
   },
   {
    "duration": 14,
    "start_time": "2022-04-06T06:28:11.087Z"
   },
   {
    "duration": 1913,
    "start_time": "2022-04-06T06:28:25.529Z"
   },
   {
    "duration": 338,
    "start_time": "2022-04-06T06:28:27.445Z"
   },
   {
    "duration": 3,
    "start_time": "2022-04-06T06:28:27.785Z"
   },
   {
    "duration": 9,
    "start_time": "2022-04-06T06:28:27.800Z"
   },
   {
    "duration": 7,
    "start_time": "2022-04-06T06:28:27.812Z"
   },
   {
    "duration": 7,
    "start_time": "2022-04-06T06:28:27.821Z"
   },
   {
    "duration": 6,
    "start_time": "2022-04-06T06:28:27.830Z"
   },
   {
    "duration": 12,
    "start_time": "2022-04-06T06:28:27.838Z"
   },
   {
    "duration": 11,
    "start_time": "2022-04-06T06:28:27.852Z"
   },
   {
    "duration": 14,
    "start_time": "2022-04-06T06:28:27.865Z"
   },
   {
    "duration": 21,
    "start_time": "2022-04-06T06:28:27.880Z"
   },
   {
    "duration": 50,
    "start_time": "2022-04-06T06:28:27.903Z"
   },
   {
    "duration": 4,
    "start_time": "2022-04-06T06:28:27.955Z"
   },
   {
    "duration": 9,
    "start_time": "2022-04-06T06:28:27.961Z"
   },
   {
    "duration": 31,
    "start_time": "2022-04-06T06:28:27.972Z"
   },
   {
    "duration": 35,
    "start_time": "2022-04-06T06:29:13.010Z"
   },
   {
    "duration": 1977,
    "start_time": "2022-04-06T06:29:20.424Z"
   },
   {
    "duration": 337,
    "start_time": "2022-04-06T06:29:22.403Z"
   },
   {
    "duration": 4,
    "start_time": "2022-04-06T06:29:22.741Z"
   },
   {
    "duration": 10,
    "start_time": "2022-04-06T06:29:22.748Z"
   },
   {
    "duration": 6,
    "start_time": "2022-04-06T06:29:22.760Z"
   },
   {
    "duration": 5,
    "start_time": "2022-04-06T06:29:22.768Z"
   },
   {
    "duration": 7,
    "start_time": "2022-04-06T06:29:22.775Z"
   },
   {
    "duration": 4,
    "start_time": "2022-04-06T06:29:22.802Z"
   },
   {
    "duration": 7,
    "start_time": "2022-04-06T06:29:22.807Z"
   },
   {
    "duration": 8,
    "start_time": "2022-04-06T06:29:22.817Z"
   },
   {
    "duration": 14,
    "start_time": "2022-04-06T06:29:22.827Z"
   },
   {
    "duration": 70,
    "start_time": "2022-04-06T06:29:22.844Z"
   },
   {
    "duration": 5,
    "start_time": "2022-04-06T06:29:22.916Z"
   },
   {
    "duration": 10,
    "start_time": "2022-04-06T06:29:22.923Z"
   },
   {
    "duration": 16,
    "start_time": "2022-04-06T06:29:22.935Z"
   },
   {
    "duration": 9,
    "start_time": "2022-04-06T06:29:49.992Z"
   },
   {
    "duration": 4,
    "start_time": "2022-04-06T06:29:50.744Z"
   },
   {
    "duration": 5,
    "start_time": "2022-04-06T06:29:51.709Z"
   },
   {
    "duration": 8,
    "start_time": "2022-04-06T06:29:56.344Z"
   },
   {
    "duration": 110,
    "start_time": "2022-04-06T06:30:41.193Z"
   },
   {
    "duration": 2135,
    "start_time": "2022-04-06T06:30:50.631Z"
   },
   {
    "duration": 346,
    "start_time": "2022-04-06T06:30:52.769Z"
   },
   {
    "duration": 3,
    "start_time": "2022-04-06T06:30:53.118Z"
   },
   {
    "duration": 22,
    "start_time": "2022-04-06T06:30:53.123Z"
   },
   {
    "duration": 6,
    "start_time": "2022-04-06T06:30:53.148Z"
   },
   {
    "duration": 4,
    "start_time": "2022-04-06T06:30:53.156Z"
   },
   {
    "duration": 6,
    "start_time": "2022-04-06T06:30:53.162Z"
   },
   {
    "duration": 7,
    "start_time": "2022-04-06T06:30:53.170Z"
   },
   {
    "duration": 26,
    "start_time": "2022-04-06T06:30:53.179Z"
   },
   {
    "duration": 6,
    "start_time": "2022-04-06T06:30:53.207Z"
   },
   {
    "duration": 19,
    "start_time": "2022-04-06T06:30:53.215Z"
   },
   {
    "duration": 34,
    "start_time": "2022-04-06T06:30:53.236Z"
   },
   {
    "duration": 18,
    "start_time": "2022-04-06T06:30:53.272Z"
   },
   {
    "duration": 29,
    "start_time": "2022-04-06T06:30:53.292Z"
   },
   {
    "duration": 34,
    "start_time": "2022-04-06T06:30:53.323Z"
   },
   {
    "duration": 113,
    "start_time": "2022-04-06T06:32:49.320Z"
   },
   {
    "duration": 1981,
    "start_time": "2022-04-06T06:32:58.321Z"
   },
   {
    "duration": 345,
    "start_time": "2022-04-06T06:33:00.305Z"
   },
   {
    "duration": 3,
    "start_time": "2022-04-06T06:33:00.652Z"
   },
   {
    "duration": 36,
    "start_time": "2022-04-06T06:33:00.657Z"
   },
   {
    "duration": 11,
    "start_time": "2022-04-06T06:33:00.694Z"
   },
   {
    "duration": 28,
    "start_time": "2022-04-06T06:33:00.707Z"
   },
   {
    "duration": 34,
    "start_time": "2022-04-06T06:33:00.737Z"
   },
   {
    "duration": 11,
    "start_time": "2022-04-06T06:33:00.773Z"
   },
   {
    "duration": 32,
    "start_time": "2022-04-06T06:33:00.786Z"
   },
   {
    "duration": 13,
    "start_time": "2022-04-06T06:33:00.821Z"
   },
   {
    "duration": 25,
    "start_time": "2022-04-06T06:33:00.835Z"
   },
   {
    "duration": 31,
    "start_time": "2022-04-06T06:33:00.862Z"
   },
   {
    "duration": 19,
    "start_time": "2022-04-06T06:33:00.895Z"
   },
   {
    "duration": 126,
    "start_time": "2022-04-06T06:33:00.916Z"
   },
   {
    "duration": 0,
    "start_time": "2022-04-06T06:33:01.043Z"
   },
   {
    "duration": 5,
    "start_time": "2022-04-06T06:33:25.522Z"
   },
   {
    "duration": 1841,
    "start_time": "2022-04-06T06:40:50.806Z"
   },
   {
    "duration": 343,
    "start_time": "2022-04-06T06:40:52.650Z"
   },
   {
    "duration": 5,
    "start_time": "2022-04-06T06:40:52.996Z"
   },
   {
    "duration": 13,
    "start_time": "2022-04-06T06:40:53.004Z"
   },
   {
    "duration": 6,
    "start_time": "2022-04-06T06:40:53.020Z"
   },
   {
    "duration": 7,
    "start_time": "2022-04-06T06:40:53.028Z"
   },
   {
    "duration": 10,
    "start_time": "2022-04-06T06:40:53.037Z"
   },
   {
    "duration": 6,
    "start_time": "2022-04-06T06:40:53.049Z"
   },
   {
    "duration": 5,
    "start_time": "2022-04-06T06:40:53.057Z"
   },
   {
    "duration": 9,
    "start_time": "2022-04-06T06:40:53.064Z"
   },
   {
    "duration": 32,
    "start_time": "2022-04-06T06:40:53.074Z"
   },
   {
    "duration": 21,
    "start_time": "2022-04-06T06:40:53.108Z"
   },
   {
    "duration": 4,
    "start_time": "2022-04-06T06:40:53.131Z"
   },
   {
    "duration": 13,
    "start_time": "2022-04-06T06:40:53.138Z"
   },
   {
    "duration": 13,
    "start_time": "2022-04-06T06:40:53.153Z"
   },
   {
    "duration": 115,
    "start_time": "2022-04-06T06:54:26.920Z"
   },
   {
    "duration": 1880,
    "start_time": "2022-04-06T06:54:33.078Z"
   },
   {
    "duration": 344,
    "start_time": "2022-04-06T06:54:34.961Z"
   },
   {
    "duration": 4,
    "start_time": "2022-04-06T06:54:35.307Z"
   },
   {
    "duration": 12,
    "start_time": "2022-04-06T06:54:35.313Z"
   },
   {
    "duration": 5,
    "start_time": "2022-04-06T06:54:35.329Z"
   },
   {
    "duration": 7,
    "start_time": "2022-04-06T06:54:35.335Z"
   },
   {
    "duration": 8,
    "start_time": "2022-04-06T06:54:35.344Z"
   },
   {
    "duration": 7,
    "start_time": "2022-04-06T06:54:35.353Z"
   },
   {
    "duration": 7,
    "start_time": "2022-04-06T06:54:35.362Z"
   },
   {
    "duration": 30,
    "start_time": "2022-04-06T06:54:35.371Z"
   },
   {
    "duration": 16,
    "start_time": "2022-04-06T06:54:35.403Z"
   },
   {
    "duration": 37,
    "start_time": "2022-04-06T06:54:35.421Z"
   },
   {
    "duration": 5,
    "start_time": "2022-04-06T06:54:35.460Z"
   },
   {
    "duration": 9,
    "start_time": "2022-04-06T06:54:35.467Z"
   },
   {
    "duration": 17,
    "start_time": "2022-04-06T06:54:35.478Z"
   },
   {
    "duration": 34,
    "start_time": "2022-04-06T07:15:18.759Z"
   },
   {
    "duration": 9,
    "start_time": "2022-04-06T07:15:28.771Z"
   },
   {
    "duration": 9,
    "start_time": "2022-04-06T07:15:42.736Z"
   },
   {
    "duration": 1416,
    "start_time": "2022-04-06T07:15:57.211Z"
   },
   {
    "duration": 30,
    "start_time": "2022-04-06T07:15:59.150Z"
   },
   {
    "duration": 1973,
    "start_time": "2022-04-07T06:25:25.595Z"
   },
   {
    "duration": 308,
    "start_time": "2022-04-07T06:25:27.569Z"
   },
   {
    "duration": 3,
    "start_time": "2022-04-07T06:25:27.879Z"
   },
   {
    "duration": 18,
    "start_time": "2022-04-07T06:25:27.883Z"
   },
   {
    "duration": 5,
    "start_time": "2022-04-07T06:25:27.903Z"
   },
   {
    "duration": 5,
    "start_time": "2022-04-07T06:25:27.909Z"
   },
   {
    "duration": 4,
    "start_time": "2022-04-07T06:25:27.916Z"
   },
   {
    "duration": 5,
    "start_time": "2022-04-07T06:25:27.921Z"
   },
   {
    "duration": 4,
    "start_time": "2022-04-07T06:25:27.927Z"
   },
   {
    "duration": 4,
    "start_time": "2022-04-07T06:25:27.933Z"
   },
   {
    "duration": 12,
    "start_time": "2022-04-07T06:25:27.938Z"
   },
   {
    "duration": 18,
    "start_time": "2022-04-07T06:25:27.952Z"
   },
   {
    "duration": 30,
    "start_time": "2022-04-07T06:25:27.972Z"
   },
   {
    "duration": 3,
    "start_time": "2022-04-07T06:25:28.005Z"
   },
   {
    "duration": 10,
    "start_time": "2022-04-07T06:25:28.010Z"
   },
   {
    "duration": 1428,
    "start_time": "2022-04-07T06:25:28.022Z"
   },
   {
    "duration": 526,
    "start_time": "2022-04-07T06:25:29.452Z"
   },
   {
    "duration": 32,
    "start_time": "2022-04-07T06:25:29.979Z"
   },
   {
    "duration": 16,
    "start_time": "2022-04-07T06:25:30.012Z"
   },
   {
    "duration": 330,
    "start_time": "2022-04-07T06:35:57.072Z"
   },
   {
    "duration": 694,
    "start_time": "2022-04-07T06:36:19.838Z"
   },
   {
    "duration": 1813,
    "start_time": "2022-04-07T06:41:32.048Z"
   },
   {
    "duration": 288,
    "start_time": "2022-04-07T06:41:33.863Z"
   },
   {
    "duration": 3,
    "start_time": "2022-04-07T06:41:34.152Z"
   },
   {
    "duration": 10,
    "start_time": "2022-04-07T06:41:34.157Z"
   },
   {
    "duration": 5,
    "start_time": "2022-04-07T06:41:34.168Z"
   },
   {
    "duration": 3,
    "start_time": "2022-04-07T06:41:34.174Z"
   },
   {
    "duration": 4,
    "start_time": "2022-04-07T06:41:34.179Z"
   },
   {
    "duration": 6,
    "start_time": "2022-04-07T06:41:34.201Z"
   },
   {
    "duration": 4,
    "start_time": "2022-04-07T06:41:34.208Z"
   },
   {
    "duration": 6,
    "start_time": "2022-04-07T06:41:34.215Z"
   },
   {
    "duration": 14,
    "start_time": "2022-04-07T06:41:34.222Z"
   },
   {
    "duration": 29,
    "start_time": "2022-04-07T06:41:34.238Z"
   },
   {
    "duration": 4,
    "start_time": "2022-04-07T06:41:34.268Z"
   },
   {
    "duration": 12,
    "start_time": "2022-04-07T06:41:34.273Z"
   },
   {
    "duration": 15,
    "start_time": "2022-04-07T06:41:34.287Z"
   },
   {
    "duration": 7,
    "start_time": "2022-04-07T06:41:34.304Z"
   },
   {
    "duration": 5,
    "start_time": "2022-04-07T06:41:34.312Z"
   },
   {
    "duration": 11,
    "start_time": "2022-04-07T06:41:34.318Z"
   },
   {
    "duration": 8,
    "start_time": "2022-04-07T06:41:34.331Z"
   },
   {
    "duration": 230,
    "start_time": "2022-04-07T06:42:48.451Z"
   },
   {
    "duration": 2722,
    "start_time": "2022-04-07T06:55:41.649Z"
   },
   {
    "duration": 55,
    "start_time": "2022-04-07T12:38:40.211Z"
   },
   {
    "duration": 1748,
    "start_time": "2022-04-07T12:38:54.245Z"
   },
   {
    "duration": 329,
    "start_time": "2022-04-07T12:38:55.995Z"
   },
   {
    "duration": 3,
    "start_time": "2022-04-07T12:38:56.327Z"
   },
   {
    "duration": 8,
    "start_time": "2022-04-07T12:38:56.332Z"
   },
   {
    "duration": 4,
    "start_time": "2022-04-07T12:38:56.342Z"
   },
   {
    "duration": 4,
    "start_time": "2022-04-07T12:38:56.347Z"
   },
   {
    "duration": 4,
    "start_time": "2022-04-07T12:38:56.352Z"
   },
   {
    "duration": 5,
    "start_time": "2022-04-07T12:38:56.358Z"
   },
   {
    "duration": 4,
    "start_time": "2022-04-07T12:38:56.364Z"
   },
   {
    "duration": 5,
    "start_time": "2022-04-07T12:38:56.369Z"
   },
   {
    "duration": 9,
    "start_time": "2022-04-07T12:38:56.375Z"
   },
   {
    "duration": 21,
    "start_time": "2022-04-07T12:38:56.410Z"
   },
   {
    "duration": 6,
    "start_time": "2022-04-07T12:38:56.432Z"
   },
   {
    "duration": 4,
    "start_time": "2022-04-07T12:38:56.441Z"
   },
   {
    "duration": 8,
    "start_time": "2022-04-07T12:38:56.446Z"
   },
   {
    "duration": 8,
    "start_time": "2022-04-07T12:38:56.456Z"
   },
   {
    "duration": 4,
    "start_time": "2022-04-07T12:38:56.465Z"
   },
   {
    "duration": 46,
    "start_time": "2022-04-07T12:38:56.470Z"
   },
   {
    "duration": 11,
    "start_time": "2022-04-07T12:38:56.517Z"
   },
   {
    "duration": 15,
    "start_time": "2022-04-07T12:38:56.531Z"
   },
   {
    "duration": 111,
    "start_time": "2022-04-07T12:38:56.548Z"
   },
   {
    "duration": 21,
    "start_time": "2022-04-07T13:36:32.408Z"
   },
   {
    "duration": 7,
    "start_time": "2022-04-07T13:37:15.821Z"
   },
   {
    "duration": 13,
    "start_time": "2022-04-07T13:37:27.360Z"
   },
   {
    "duration": 4838,
    "start_time": "2022-04-07T13:38:23.919Z"
   },
   {
    "duration": 305,
    "start_time": "2022-04-07T13:38:28.759Z"
   },
   {
    "duration": 3,
    "start_time": "2022-04-07T13:38:29.065Z"
   },
   {
    "duration": 9,
    "start_time": "2022-04-07T13:38:29.070Z"
   },
   {
    "duration": 5,
    "start_time": "2022-04-07T13:38:29.081Z"
   },
   {
    "duration": 5,
    "start_time": "2022-04-07T13:38:29.087Z"
   },
   {
    "duration": 3,
    "start_time": "2022-04-07T13:38:29.111Z"
   },
   {
    "duration": 6,
    "start_time": "2022-04-07T13:38:29.115Z"
   },
   {
    "duration": 5,
    "start_time": "2022-04-07T13:38:29.122Z"
   },
   {
    "duration": 5,
    "start_time": "2022-04-07T13:38:29.128Z"
   },
   {
    "duration": 8,
    "start_time": "2022-04-07T13:38:29.134Z"
   },
   {
    "duration": 16,
    "start_time": "2022-04-07T13:38:29.144Z"
   },
   {
    "duration": 3,
    "start_time": "2022-04-07T13:38:29.162Z"
   },
   {
    "duration": 5,
    "start_time": "2022-04-07T13:38:29.167Z"
   },
   {
    "duration": 44,
    "start_time": "2022-04-07T13:38:29.173Z"
   },
   {
    "duration": 7,
    "start_time": "2022-04-07T13:38:29.219Z"
   },
   {
    "duration": 4,
    "start_time": "2022-04-07T13:38:29.228Z"
   },
   {
    "duration": 8,
    "start_time": "2022-04-07T13:38:29.233Z"
   },
   {
    "duration": 6,
    "start_time": "2022-04-07T13:38:29.243Z"
   },
   {
    "duration": 16,
    "start_time": "2022-04-07T13:38:29.250Z"
   },
   {
    "duration": 5,
    "start_time": "2022-04-07T13:38:29.267Z"
   },
   {
    "duration": 777,
    "start_time": "2022-04-07T13:38:29.274Z"
   },
   {
    "duration": 0,
    "start_time": "2022-04-07T13:38:30.052Z"
   },
   {
    "duration": 63,
    "start_time": "2022-04-07T14:16:02.312Z"
   },
   {
    "duration": 2206,
    "start_time": "2022-04-07T14:16:09.708Z"
   },
   {
    "duration": 310,
    "start_time": "2022-04-07T14:16:11.917Z"
   },
   {
    "duration": 3,
    "start_time": "2022-04-07T14:16:12.233Z"
   },
   {
    "duration": 10,
    "start_time": "2022-04-07T14:16:12.238Z"
   },
   {
    "duration": 5,
    "start_time": "2022-04-07T14:16:12.250Z"
   },
   {
    "duration": 6,
    "start_time": "2022-04-07T14:16:12.256Z"
   },
   {
    "duration": 9,
    "start_time": "2022-04-07T14:16:12.264Z"
   },
   {
    "duration": 6,
    "start_time": "2022-04-07T14:16:12.274Z"
   },
   {
    "duration": 5,
    "start_time": "2022-04-07T14:16:12.282Z"
   },
   {
    "duration": 5,
    "start_time": "2022-04-07T14:16:12.289Z"
   },
   {
    "duration": 7,
    "start_time": "2022-04-07T14:16:12.296Z"
   },
   {
    "duration": 16,
    "start_time": "2022-04-07T14:16:12.333Z"
   },
   {
    "duration": 3,
    "start_time": "2022-04-07T14:16:12.351Z"
   },
   {
    "duration": 4,
    "start_time": "2022-04-07T14:16:12.357Z"
   },
   {
    "duration": 8,
    "start_time": "2022-04-07T14:16:12.363Z"
   },
   {
    "duration": 8,
    "start_time": "2022-04-07T14:16:12.373Z"
   },
   {
    "duration": 3,
    "start_time": "2022-04-07T14:16:12.383Z"
   },
   {
    "duration": 8,
    "start_time": "2022-04-07T14:16:12.388Z"
   },
   {
    "duration": 7,
    "start_time": "2022-04-07T14:16:12.433Z"
   },
   {
    "duration": 13,
    "start_time": "2022-04-07T14:16:12.442Z"
   },
   {
    "duration": 5,
    "start_time": "2022-04-07T14:16:12.457Z"
   },
   {
    "duration": 671,
    "start_time": "2022-04-07T14:16:12.463Z"
   },
   {
    "duration": 0,
    "start_time": "2022-04-07T14:16:13.136Z"
   },
   {
    "duration": 627,
    "start_time": "2022-04-07T14:51:42.455Z"
   },
   {
    "duration": 509,
    "start_time": "2022-04-07T14:51:45.980Z"
   },
   {
    "duration": 610,
    "start_time": "2022-04-07T14:51:47.585Z"
   },
   {
    "duration": 1951,
    "start_time": "2022-04-07T14:52:07.068Z"
   },
   {
    "duration": 296,
    "start_time": "2022-04-07T14:52:09.021Z"
   },
   {
    "duration": 3,
    "start_time": "2022-04-07T14:52:09.319Z"
   },
   {
    "duration": 10,
    "start_time": "2022-04-07T14:52:09.333Z"
   },
   {
    "duration": 6,
    "start_time": "2022-04-07T14:52:09.345Z"
   },
   {
    "duration": 6,
    "start_time": "2022-04-07T14:52:09.353Z"
   },
   {
    "duration": 6,
    "start_time": "2022-04-07T14:52:09.361Z"
   },
   {
    "duration": 4,
    "start_time": "2022-04-07T14:52:09.369Z"
   },
   {
    "duration": 8,
    "start_time": "2022-04-07T14:52:09.375Z"
   },
   {
    "duration": 4,
    "start_time": "2022-04-07T14:52:09.386Z"
   },
   {
    "duration": 8,
    "start_time": "2022-04-07T14:52:09.391Z"
   },
   {
    "duration": 17,
    "start_time": "2022-04-07T14:52:09.434Z"
   },
   {
    "duration": 5,
    "start_time": "2022-04-07T14:52:09.452Z"
   },
   {
    "duration": 8,
    "start_time": "2022-04-07T14:52:09.458Z"
   },
   {
    "duration": 10,
    "start_time": "2022-04-07T14:52:09.468Z"
   },
   {
    "duration": 8,
    "start_time": "2022-04-07T14:52:09.480Z"
   },
   {
    "duration": 4,
    "start_time": "2022-04-07T14:52:09.490Z"
   },
   {
    "duration": 40,
    "start_time": "2022-04-07T14:52:09.496Z"
   },
   {
    "duration": 6,
    "start_time": "2022-04-07T14:52:09.538Z"
   },
   {
    "duration": 15,
    "start_time": "2022-04-07T14:52:09.546Z"
   },
   {
    "duration": 9,
    "start_time": "2022-04-07T14:52:09.562Z"
   },
   {
    "duration": 631,
    "start_time": "2022-04-07T14:52:09.573Z"
   },
   {
    "duration": 617,
    "start_time": "2022-04-07T14:52:10.206Z"
   },
   {
    "duration": 536,
    "start_time": "2022-04-07T14:52:10.832Z"
   },
   {
    "duration": 104,
    "start_time": "2022-04-07T14:52:11.370Z"
   },
   {
    "duration": 5,
    "start_time": "2022-04-07T15:17:02.786Z"
   },
   {
    "duration": 436,
    "start_time": "2022-04-07T15:17:05.889Z"
   },
   {
    "duration": 5,
    "start_time": "2022-04-07T15:17:33.029Z"
   },
   {
    "duration": 295,
    "start_time": "2022-04-07T15:17:33.694Z"
   },
   {
    "duration": 5,
    "start_time": "2022-04-07T15:18:22.588Z"
   },
   {
    "duration": 170,
    "start_time": "2022-04-07T15:18:23.094Z"
   },
   {
    "duration": 5,
    "start_time": "2022-04-07T15:18:30.271Z"
   },
   {
    "duration": 175,
    "start_time": "2022-04-07T15:18:30.589Z"
   },
   {
    "duration": 5,
    "start_time": "2022-04-07T15:18:38.042Z"
   },
   {
    "duration": 245,
    "start_time": "2022-04-07T15:18:38.465Z"
   },
   {
    "duration": 5,
    "start_time": "2022-04-07T15:19:06.266Z"
   },
   {
    "duration": 171,
    "start_time": "2022-04-07T15:19:07.459Z"
   },
   {
    "duration": 180,
    "start_time": "2022-04-07T15:19:08.654Z"
   },
   {
    "duration": 187,
    "start_time": "2022-04-07T15:19:17.623Z"
   },
   {
    "duration": 5,
    "start_time": "2022-04-07T15:20:18.373Z"
   },
   {
    "duration": 153,
    "start_time": "2022-04-07T15:20:20.128Z"
   },
   {
    "duration": 6,
    "start_time": "2022-04-07T15:21:10.757Z"
   },
   {
    "duration": 18,
    "start_time": "2022-04-07T15:21:11.444Z"
   },
   {
    "duration": 5,
    "start_time": "2022-04-07T15:21:43.561Z"
   },
   {
    "duration": 184,
    "start_time": "2022-04-07T15:21:44.014Z"
   },
   {
    "duration": 5,
    "start_time": "2022-04-07T15:21:59.268Z"
   },
   {
    "duration": 147,
    "start_time": "2022-04-07T15:22:00.596Z"
   },
   {
    "duration": 4,
    "start_time": "2022-04-07T15:23:47.783Z"
   },
   {
    "duration": 185,
    "start_time": "2022-04-07T15:23:47.931Z"
   },
   {
    "duration": 5,
    "start_time": "2022-04-07T15:24:43.724Z"
   },
   {
    "duration": 279,
    "start_time": "2022-04-07T15:24:44.194Z"
   },
   {
    "duration": 180,
    "start_time": "2022-04-07T15:24:44.638Z"
   },
   {
    "duration": 187,
    "start_time": "2022-04-07T15:24:45.047Z"
   },
   {
    "duration": 5,
    "start_time": "2022-04-07T15:28:52.679Z"
   },
   {
    "duration": 148,
    "start_time": "2022-04-07T15:28:54.625Z"
   },
   {
    "duration": 4,
    "start_time": "2022-04-07T15:29:23.150Z"
   },
   {
    "duration": 14,
    "start_time": "2022-04-07T15:29:25.483Z"
   },
   {
    "duration": 4,
    "start_time": "2022-04-07T15:30:35.401Z"
   },
   {
    "duration": 167,
    "start_time": "2022-04-07T15:30:36.168Z"
   },
   {
    "duration": 5,
    "start_time": "2022-04-07T15:35:44.773Z"
   },
   {
    "duration": 172,
    "start_time": "2022-04-07T15:35:45.838Z"
   },
   {
    "duration": 5,
    "start_time": "2022-04-07T15:36:12.443Z"
   },
   {
    "duration": 163,
    "start_time": "2022-04-07T15:36:12.878Z"
   },
   {
    "duration": 173,
    "start_time": "2022-04-07T15:36:15.030Z"
   },
   {
    "duration": 14,
    "start_time": "2022-04-07T15:36:23.278Z"
   },
   {
    "duration": 5,
    "start_time": "2022-04-07T15:36:23.946Z"
   },
   {
    "duration": 167,
    "start_time": "2022-04-07T15:36:25.032Z"
   },
   {
    "duration": 5,
    "start_time": "2022-04-07T15:36:52.130Z"
   },
   {
    "duration": 177,
    "start_time": "2022-04-07T15:36:52.757Z"
   },
   {
    "duration": 6,
    "start_time": "2022-04-07T15:37:22.954Z"
   },
   {
    "duration": 166,
    "start_time": "2022-04-07T15:37:23.692Z"
   },
   {
    "duration": 5,
    "start_time": "2022-04-07T15:38:17.640Z"
   },
   {
    "duration": 272,
    "start_time": "2022-04-07T15:38:18.195Z"
   },
   {
    "duration": 182,
    "start_time": "2022-04-07T15:38:19.662Z"
   },
   {
    "duration": 192,
    "start_time": "2022-04-07T15:38:33.206Z"
   },
   {
    "duration": 185,
    "start_time": "2022-04-07T16:15:33.125Z"
   },
   {
    "duration": 277,
    "start_time": "2022-04-07T16:16:07.416Z"
   },
   {
    "duration": 183,
    "start_time": "2022-04-07T16:18:37.744Z"
   },
   {
    "duration": 174,
    "start_time": "2022-04-07T16:31:21.706Z"
   },
   {
    "duration": 1940,
    "start_time": "2022-04-07T16:46:05.483Z"
   },
   {
    "duration": 307,
    "start_time": "2022-04-07T16:46:07.425Z"
   },
   {
    "duration": 3,
    "start_time": "2022-04-07T16:46:07.734Z"
   },
   {
    "duration": 9,
    "start_time": "2022-04-07T16:46:07.740Z"
   },
   {
    "duration": 4,
    "start_time": "2022-04-07T16:46:07.751Z"
   },
   {
    "duration": 4,
    "start_time": "2022-04-07T16:46:07.757Z"
   },
   {
    "duration": 4,
    "start_time": "2022-04-07T16:46:07.763Z"
   },
   {
    "duration": 6,
    "start_time": "2022-04-07T16:46:07.769Z"
   },
   {
    "duration": 6,
    "start_time": "2022-04-07T16:46:07.777Z"
   },
   {
    "duration": 5,
    "start_time": "2022-04-07T16:46:07.786Z"
   },
   {
    "duration": 8,
    "start_time": "2022-04-07T16:46:07.792Z"
   },
   {
    "duration": 17,
    "start_time": "2022-04-07T16:46:07.833Z"
   },
   {
    "duration": 4,
    "start_time": "2022-04-07T16:46:07.852Z"
   },
   {
    "duration": 5,
    "start_time": "2022-04-07T16:46:07.858Z"
   },
   {
    "duration": 10,
    "start_time": "2022-04-07T16:46:07.864Z"
   },
   {
    "duration": 9,
    "start_time": "2022-04-07T16:46:07.875Z"
   },
   {
    "duration": 4,
    "start_time": "2022-04-07T16:46:07.886Z"
   },
   {
    "duration": 43,
    "start_time": "2022-04-07T16:46:07.891Z"
   },
   {
    "duration": 6,
    "start_time": "2022-04-07T16:46:07.936Z"
   },
   {
    "duration": 14,
    "start_time": "2022-04-07T16:46:07.944Z"
   },
   {
    "duration": 5,
    "start_time": "2022-04-07T16:46:07.960Z"
   },
   {
    "duration": 227,
    "start_time": "2022-04-07T16:46:07.967Z"
   },
   {
    "duration": 194,
    "start_time": "2022-04-07T16:46:08.195Z"
   },
   {
    "duration": 197,
    "start_time": "2022-04-07T16:46:08.391Z"
   },
   {
    "duration": 195,
    "start_time": "2022-04-07T16:46:08.589Z"
   },
   {
    "duration": 1878,
    "start_time": "2022-04-08T06:46:14.765Z"
   },
   {
    "duration": 250,
    "start_time": "2022-04-08T06:46:16.645Z"
   },
   {
    "duration": 3,
    "start_time": "2022-04-08T06:46:16.896Z"
   },
   {
    "duration": 39,
    "start_time": "2022-04-08T06:46:16.901Z"
   },
   {
    "duration": 32,
    "start_time": "2022-04-08T06:46:16.941Z"
   },
   {
    "duration": 34,
    "start_time": "2022-04-08T06:46:16.974Z"
   },
   {
    "duration": 31,
    "start_time": "2022-04-08T06:46:17.010Z"
   },
   {
    "duration": 28,
    "start_time": "2022-04-08T06:46:17.043Z"
   },
   {
    "duration": 36,
    "start_time": "2022-04-08T06:46:17.072Z"
   },
   {
    "duration": 30,
    "start_time": "2022-04-08T06:46:17.111Z"
   },
   {
    "duration": 38,
    "start_time": "2022-04-08T06:46:17.143Z"
   },
   {
    "duration": 41,
    "start_time": "2022-04-08T06:46:17.183Z"
   },
   {
    "duration": 32,
    "start_time": "2022-04-08T06:46:17.226Z"
   },
   {
    "duration": 36,
    "start_time": "2022-04-08T06:46:17.260Z"
   },
   {
    "duration": 36,
    "start_time": "2022-04-08T06:46:17.297Z"
   },
   {
    "duration": 30,
    "start_time": "2022-04-08T06:46:17.334Z"
   },
   {
    "duration": 39,
    "start_time": "2022-04-08T06:46:17.365Z"
   },
   {
    "duration": 28,
    "start_time": "2022-04-08T06:46:17.405Z"
   },
   {
    "duration": 30,
    "start_time": "2022-04-08T06:46:17.435Z"
   },
   {
    "duration": 25,
    "start_time": "2022-04-08T06:46:17.467Z"
   },
   {
    "duration": 15,
    "start_time": "2022-04-08T06:46:17.494Z"
   },
   {
    "duration": 216,
    "start_time": "2022-04-08T06:46:17.511Z"
   },
   {
    "duration": 164,
    "start_time": "2022-04-08T06:46:17.728Z"
   },
   {
    "duration": 178,
    "start_time": "2022-04-08T06:46:17.894Z"
   },
   {
    "duration": 163,
    "start_time": "2022-04-08T06:46:18.074Z"
   },
   {
    "duration": 1668,
    "start_time": "2022-04-08T06:46:18.239Z"
   },
   {
    "duration": 4,
    "start_time": "2022-04-08T07:10:31.938Z"
   },
   {
    "duration": 1584,
    "start_time": "2022-04-08T07:18:58.095Z"
   },
   {
    "duration": 6,
    "start_time": "2022-04-08T07:19:56.520Z"
   },
   {
    "duration": 5,
    "start_time": "2022-04-08T07:20:22.725Z"
   },
   {
    "duration": 7,
    "start_time": "2022-04-08T07:24:14.634Z"
   },
   {
    "duration": 157,
    "start_time": "2022-04-08T07:29:23.815Z"
   },
   {
    "duration": 155,
    "start_time": "2022-04-08T07:30:44.325Z"
   },
   {
    "duration": 3653,
    "start_time": "2022-04-08T13:21:33.519Z"
   },
   {
    "duration": 548,
    "start_time": "2022-04-08T13:21:37.175Z"
   },
   {
    "duration": 5,
    "start_time": "2022-04-08T13:21:37.726Z"
   },
   {
    "duration": 17,
    "start_time": "2022-04-08T13:21:37.743Z"
   },
   {
    "duration": 11,
    "start_time": "2022-04-08T13:21:37.764Z"
   },
   {
    "duration": 9,
    "start_time": "2022-04-08T13:21:37.777Z"
   },
   {
    "duration": 6,
    "start_time": "2022-04-08T13:21:37.788Z"
   },
   {
    "duration": 11,
    "start_time": "2022-04-08T13:21:37.796Z"
   },
   {
    "duration": 36,
    "start_time": "2022-04-08T13:21:37.809Z"
   },
   {
    "duration": 18,
    "start_time": "2022-04-08T13:21:37.852Z"
   },
   {
    "duration": 15,
    "start_time": "2022-04-08T13:21:37.873Z"
   },
   {
    "duration": 24,
    "start_time": "2022-04-08T13:21:37.890Z"
   },
   {
    "duration": 6,
    "start_time": "2022-04-08T13:21:37.917Z"
   },
   {
    "duration": 6,
    "start_time": "2022-04-08T13:21:37.943Z"
   },
   {
    "duration": 33,
    "start_time": "2022-04-08T13:21:37.952Z"
   },
   {
    "duration": 12,
    "start_time": "2022-04-08T13:21:37.987Z"
   },
   {
    "duration": 5,
    "start_time": "2022-04-08T13:21:38.002Z"
   },
   {
    "duration": 37,
    "start_time": "2022-04-08T13:21:38.009Z"
   },
   {
    "duration": 11,
    "start_time": "2022-04-08T13:21:38.048Z"
   },
   {
    "duration": 10,
    "start_time": "2022-04-08T13:21:38.061Z"
   },
   {
    "duration": 406,
    "start_time": "2022-04-08T13:21:38.073Z"
   },
   {
    "duration": 349,
    "start_time": "2022-04-08T13:21:38.482Z"
   },
   {
    "duration": 384,
    "start_time": "2022-04-08T13:21:38.834Z"
   },
   {
    "duration": 370,
    "start_time": "2022-04-08T13:21:39.221Z"
   },
   {
    "duration": 20,
    "start_time": "2022-04-08T13:21:39.593Z"
   },
   {
    "duration": 36,
    "start_time": "2022-04-08T13:21:39.615Z"
   },
   {
    "duration": 338,
    "start_time": "2022-04-08T13:21:39.654Z"
   },
   {
    "duration": 31,
    "start_time": "2022-04-08T14:46:07.479Z"
   },
   {
    "duration": 39,
    "start_time": "2022-04-08T14:46:27.065Z"
   },
   {
    "duration": 15,
    "start_time": "2022-04-08T14:47:34.152Z"
   },
   {
    "duration": 168,
    "start_time": "2022-04-08T14:50:40.065Z"
   },
   {
    "duration": 7,
    "start_time": "2022-04-08T15:04:59.889Z"
   },
   {
    "duration": 5,
    "start_time": "2022-04-08T15:09:51.942Z"
   },
   {
    "duration": 12,
    "start_time": "2022-04-08T15:12:42.606Z"
   },
   {
    "duration": 23,
    "start_time": "2022-04-08T15:13:48.349Z"
   },
   {
    "duration": 30,
    "start_time": "2022-04-08T15:14:09.885Z"
   },
   {
    "duration": 22,
    "start_time": "2022-04-08T15:14:29.335Z"
   },
   {
    "duration": 24,
    "start_time": "2022-04-08T15:14:37.629Z"
   },
   {
    "duration": 189,
    "start_time": "2022-04-08T15:28:40.001Z"
   },
   {
    "duration": 5,
    "start_time": "2022-04-08T15:29:26.417Z"
   },
   {
    "duration": 12,
    "start_time": "2022-04-08T15:29:36.832Z"
   },
   {
    "duration": 8,
    "start_time": "2022-04-08T15:29:51.688Z"
   },
   {
    "duration": 3,
    "start_time": "2022-04-08T16:04:45.562Z"
   },
   {
    "duration": 5,
    "start_time": "2022-04-08T16:06:43.451Z"
   },
   {
    "duration": 10,
    "start_time": "2022-04-08T16:11:21.117Z"
   },
   {
    "duration": 25,
    "start_time": "2022-04-08T16:11:59.001Z"
   },
   {
    "duration": 2753,
    "start_time": "2022-04-08T16:13:34.007Z"
   },
   {
    "duration": 486,
    "start_time": "2022-04-08T16:13:36.763Z"
   },
   {
    "duration": 5,
    "start_time": "2022-04-08T16:13:37.251Z"
   },
   {
    "duration": 33,
    "start_time": "2022-04-08T16:13:37.258Z"
   },
   {
    "duration": 5,
    "start_time": "2022-04-08T16:13:37.295Z"
   },
   {
    "duration": 5,
    "start_time": "2022-04-08T16:13:37.303Z"
   },
   {
    "duration": 16,
    "start_time": "2022-04-08T16:13:37.310Z"
   },
   {
    "duration": 16,
    "start_time": "2022-04-08T16:13:37.328Z"
   },
   {
    "duration": 43,
    "start_time": "2022-04-08T16:13:37.346Z"
   },
   {
    "duration": 8,
    "start_time": "2022-04-08T16:13:37.391Z"
   },
   {
    "duration": 10,
    "start_time": "2022-04-08T16:13:37.401Z"
   },
   {
    "duration": 10,
    "start_time": "2022-04-08T16:13:37.413Z"
   },
   {
    "duration": 9,
    "start_time": "2022-04-08T16:13:37.425Z"
   },
   {
    "duration": 9,
    "start_time": "2022-04-08T16:13:37.437Z"
   },
   {
    "duration": 15,
    "start_time": "2022-04-08T16:13:37.448Z"
   },
   {
    "duration": 23,
    "start_time": "2022-04-08T16:13:37.466Z"
   },
   {
    "duration": 6,
    "start_time": "2022-04-08T16:13:37.492Z"
   },
   {
    "duration": 44,
    "start_time": "2022-04-08T16:13:37.500Z"
   },
   {
    "duration": 11,
    "start_time": "2022-04-08T16:13:37.546Z"
   },
   {
    "duration": 9,
    "start_time": "2022-04-08T16:13:37.560Z"
   },
   {
    "duration": 356,
    "start_time": "2022-04-08T16:13:37.571Z"
   },
   {
    "duration": 431,
    "start_time": "2022-04-08T16:13:37.929Z"
   },
   {
    "duration": 350,
    "start_time": "2022-04-08T16:13:38.362Z"
   },
   {
    "duration": 321,
    "start_time": "2022-04-08T16:13:38.714Z"
   },
   {
    "duration": 20,
    "start_time": "2022-04-08T16:13:39.037Z"
   },
   {
    "duration": 12,
    "start_time": "2022-04-08T16:13:39.060Z"
   },
   {
    "duration": 330,
    "start_time": "2022-04-08T16:13:39.074Z"
   },
   {
    "duration": 5,
    "start_time": "2022-04-08T16:13:39.406Z"
   },
   {
    "duration": 60,
    "start_time": "2022-04-08T16:13:39.413Z"
   },
   {
    "duration": 10,
    "start_time": "2022-04-08T16:13:39.476Z"
   },
   {
    "duration": 166,
    "start_time": "2022-04-08T16:22:47.103Z"
   },
   {
    "duration": 24,
    "start_time": "2022-04-08T16:23:07.595Z"
   },
   {
    "duration": 2712,
    "start_time": "2022-04-08T16:23:19.332Z"
   },
   {
    "duration": 473,
    "start_time": "2022-04-08T16:23:22.047Z"
   },
   {
    "duration": 5,
    "start_time": "2022-04-08T16:23:22.524Z"
   },
   {
    "duration": 14,
    "start_time": "2022-04-08T16:23:22.542Z"
   },
   {
    "duration": 7,
    "start_time": "2022-04-08T16:23:22.560Z"
   },
   {
    "duration": 5,
    "start_time": "2022-04-08T16:23:22.570Z"
   },
   {
    "duration": 10,
    "start_time": "2022-04-08T16:23:22.577Z"
   },
   {
    "duration": 12,
    "start_time": "2022-04-08T16:23:22.589Z"
   },
   {
    "duration": 42,
    "start_time": "2022-04-08T16:23:22.603Z"
   },
   {
    "duration": 9,
    "start_time": "2022-04-08T16:23:22.647Z"
   },
   {
    "duration": 13,
    "start_time": "2022-04-08T16:23:22.658Z"
   },
   {
    "duration": 10,
    "start_time": "2022-04-08T16:23:22.673Z"
   },
   {
    "duration": 11,
    "start_time": "2022-04-08T16:23:22.685Z"
   },
   {
    "duration": 8,
    "start_time": "2022-04-08T16:23:22.699Z"
   },
   {
    "duration": 40,
    "start_time": "2022-04-08T16:23:22.709Z"
   },
   {
    "duration": 26,
    "start_time": "2022-04-08T16:23:22.751Z"
   },
   {
    "duration": 6,
    "start_time": "2022-04-08T16:23:22.779Z"
   },
   {
    "duration": 21,
    "start_time": "2022-04-08T16:23:22.787Z"
   },
   {
    "duration": 33,
    "start_time": "2022-04-08T16:23:22.811Z"
   },
   {
    "duration": 8,
    "start_time": "2022-04-08T16:23:22.847Z"
   },
   {
    "duration": 341,
    "start_time": "2022-04-08T16:23:22.857Z"
   },
   {
    "duration": 332,
    "start_time": "2022-04-08T16:23:23.201Z"
   },
   {
    "duration": 337,
    "start_time": "2022-04-08T16:23:23.543Z"
   },
   {
    "duration": 424,
    "start_time": "2022-04-08T16:23:23.883Z"
   },
   {
    "duration": 37,
    "start_time": "2022-04-08T16:23:24.309Z"
   },
   {
    "duration": 12,
    "start_time": "2022-04-08T16:23:24.348Z"
   },
   {
    "duration": 320,
    "start_time": "2022-04-08T16:23:24.363Z"
   },
   {
    "duration": 4,
    "start_time": "2022-04-08T16:23:24.685Z"
   },
   {
    "duration": 72,
    "start_time": "2022-04-08T16:23:24.691Z"
   },
   {
    "duration": 9,
    "start_time": "2022-04-08T16:23:24.765Z"
   },
   {
    "duration": 157,
    "start_time": "2022-04-08T16:23:47.599Z"
   },
   {
    "duration": 23,
    "start_time": "2022-04-08T16:25:33.307Z"
   },
   {
    "duration": 13,
    "start_time": "2022-04-08T16:25:39.298Z"
   },
   {
    "duration": 25,
    "start_time": "2022-04-08T16:26:49.159Z"
   },
   {
    "duration": 50,
    "start_time": "2022-04-08T16:27:10.608Z"
   },
   {
    "duration": 32,
    "start_time": "2022-04-08T16:27:41.136Z"
   },
   {
    "duration": 19,
    "start_time": "2022-04-08T16:30:00.608Z"
   },
   {
    "duration": 2848,
    "start_time": "2022-04-08T16:30:24.506Z"
   },
   {
    "duration": 505,
    "start_time": "2022-04-08T16:30:27.356Z"
   },
   {
    "duration": 4,
    "start_time": "2022-04-08T16:30:27.864Z"
   },
   {
    "duration": 17,
    "start_time": "2022-04-08T16:30:27.870Z"
   },
   {
    "duration": 6,
    "start_time": "2022-04-08T16:30:27.890Z"
   },
   {
    "duration": 6,
    "start_time": "2022-04-08T16:30:27.898Z"
   },
   {
    "duration": 8,
    "start_time": "2022-04-08T16:30:27.906Z"
   },
   {
    "duration": 3,
    "start_time": "2022-04-08T16:30:27.944Z"
   },
   {
    "duration": 13,
    "start_time": "2022-04-08T16:30:27.949Z"
   },
   {
    "duration": 8,
    "start_time": "2022-04-08T16:30:27.964Z"
   },
   {
    "duration": 8,
    "start_time": "2022-04-08T16:30:27.974Z"
   },
   {
    "duration": 18,
    "start_time": "2022-04-08T16:30:27.984Z"
   },
   {
    "duration": 22,
    "start_time": "2022-04-08T16:30:28.004Z"
   },
   {
    "duration": 14,
    "start_time": "2022-04-08T16:30:28.030Z"
   },
   {
    "duration": 22,
    "start_time": "2022-04-08T16:30:28.046Z"
   },
   {
    "duration": 28,
    "start_time": "2022-04-08T16:30:28.071Z"
   },
   {
    "duration": 6,
    "start_time": "2022-04-08T16:30:28.101Z"
   },
   {
    "duration": 40,
    "start_time": "2022-04-08T16:30:28.109Z"
   },
   {
    "duration": 12,
    "start_time": "2022-04-08T16:30:28.151Z"
   },
   {
    "duration": 9,
    "start_time": "2022-04-08T16:30:28.165Z"
   },
   {
    "duration": 374,
    "start_time": "2022-04-08T16:30:28.176Z"
   },
   {
    "duration": 357,
    "start_time": "2022-04-08T16:30:28.552Z"
   },
   {
    "duration": 367,
    "start_time": "2022-04-08T16:30:28.912Z"
   },
   {
    "duration": 329,
    "start_time": "2022-04-08T16:30:29.281Z"
   },
   {
    "duration": 31,
    "start_time": "2022-04-08T16:30:29.612Z"
   },
   {
    "duration": 12,
    "start_time": "2022-04-08T16:30:29.645Z"
   },
   {
    "duration": 317,
    "start_time": "2022-04-08T16:30:29.659Z"
   },
   {
    "duration": 5,
    "start_time": "2022-04-08T16:30:29.978Z"
   },
   {
    "duration": 41,
    "start_time": "2022-04-08T16:30:29.985Z"
   },
   {
    "duration": 67,
    "start_time": "2022-04-08T16:30:30.028Z"
   },
   {
    "duration": 4,
    "start_time": "2022-04-08T16:30:30.097Z"
   },
   {
    "duration": 36,
    "start_time": "2022-04-08T16:50:03.663Z"
   },
   {
    "duration": 47,
    "start_time": "2022-04-08T16:50:54.447Z"
   },
   {
    "duration": 38,
    "start_time": "2022-04-08T16:53:21.958Z"
   },
   {
    "duration": 44,
    "start_time": "2022-04-08T16:53:36.320Z"
   },
   {
    "duration": 2725,
    "start_time": "2022-04-09T05:52:39.686Z"
   },
   {
    "duration": 492,
    "start_time": "2022-04-09T05:52:42.414Z"
   },
   {
    "duration": 4,
    "start_time": "2022-04-09T05:52:42.909Z"
   },
   {
    "duration": 32,
    "start_time": "2022-04-09T05:52:42.917Z"
   },
   {
    "duration": 7,
    "start_time": "2022-04-09T05:52:42.952Z"
   },
   {
    "duration": 4,
    "start_time": "2022-04-09T05:52:42.961Z"
   },
   {
    "duration": 7,
    "start_time": "2022-04-09T05:52:42.967Z"
   },
   {
    "duration": 6,
    "start_time": "2022-04-09T05:52:42.976Z"
   },
   {
    "duration": 11,
    "start_time": "2022-04-09T05:52:42.984Z"
   },
   {
    "duration": 6,
    "start_time": "2022-04-09T05:52:42.999Z"
   },
   {
    "duration": 4,
    "start_time": "2022-04-09T05:52:43.043Z"
   },
   {
    "duration": 8,
    "start_time": "2022-04-09T05:52:43.049Z"
   },
   {
    "duration": 9,
    "start_time": "2022-04-09T05:52:43.060Z"
   },
   {
    "duration": 8,
    "start_time": "2022-04-09T05:52:43.071Z"
   },
   {
    "duration": 17,
    "start_time": "2022-04-09T05:52:43.081Z"
   },
   {
    "duration": 61,
    "start_time": "2022-04-09T05:52:43.100Z"
   },
   {
    "duration": 5,
    "start_time": "2022-04-09T05:52:43.163Z"
   },
   {
    "duration": 16,
    "start_time": "2022-04-09T05:52:43.171Z"
   },
   {
    "duration": 9,
    "start_time": "2022-04-09T05:52:43.189Z"
   },
   {
    "duration": 25,
    "start_time": "2022-04-09T05:52:43.200Z"
   },
   {
    "duration": 332,
    "start_time": "2022-04-09T05:52:43.242Z"
   },
   {
    "duration": 332,
    "start_time": "2022-04-09T05:52:43.577Z"
   },
   {
    "duration": 340,
    "start_time": "2022-04-09T05:52:43.911Z"
   },
   {
    "duration": 322,
    "start_time": "2022-04-09T05:52:44.253Z"
   },
   {
    "duration": 20,
    "start_time": "2022-04-09T05:52:44.577Z"
   },
   {
    "duration": 11,
    "start_time": "2022-04-09T05:52:44.599Z"
   },
   {
    "duration": 367,
    "start_time": "2022-04-09T05:52:44.613Z"
   },
   {
    "duration": 5,
    "start_time": "2022-04-09T05:52:44.984Z"
   },
   {
    "duration": 87,
    "start_time": "2022-04-09T05:52:44.991Z"
   },
   {
    "duration": 4,
    "start_time": "2022-04-09T05:52:45.080Z"
   },
   {
    "duration": 2719,
    "start_time": "2022-04-09T06:42:44.006Z"
   },
   {
    "duration": 485,
    "start_time": "2022-04-09T06:42:46.728Z"
   },
   {
    "duration": 5,
    "start_time": "2022-04-09T06:42:47.216Z"
   },
   {
    "duration": 13,
    "start_time": "2022-04-09T06:42:47.245Z"
   },
   {
    "duration": 6,
    "start_time": "2022-04-09T06:42:47.261Z"
   },
   {
    "duration": 4,
    "start_time": "2022-04-09T06:42:47.270Z"
   },
   {
    "duration": 7,
    "start_time": "2022-04-09T06:42:47.277Z"
   },
   {
    "duration": 8,
    "start_time": "2022-04-09T06:42:47.287Z"
   },
   {
    "duration": 47,
    "start_time": "2022-04-09T06:42:47.297Z"
   },
   {
    "duration": 4,
    "start_time": "2022-04-09T06:42:47.348Z"
   },
   {
    "duration": 8,
    "start_time": "2022-04-09T06:42:47.354Z"
   },
   {
    "duration": 9,
    "start_time": "2022-04-09T06:42:47.364Z"
   },
   {
    "duration": 8,
    "start_time": "2022-04-09T06:42:47.375Z"
   },
   {
    "duration": 12,
    "start_time": "2022-04-09T06:42:47.385Z"
   },
   {
    "duration": 46,
    "start_time": "2022-04-09T06:42:47.399Z"
   },
   {
    "duration": 22,
    "start_time": "2022-04-09T06:42:47.447Z"
   },
   {
    "duration": 6,
    "start_time": "2022-04-09T06:42:47.471Z"
   },
   {
    "duration": 14,
    "start_time": "2022-04-09T06:42:47.480Z"
   },
   {
    "duration": 48,
    "start_time": "2022-04-09T06:42:47.497Z"
   },
   {
    "duration": 9,
    "start_time": "2022-04-09T06:42:47.548Z"
   },
   {
    "duration": 331,
    "start_time": "2022-04-09T06:42:47.559Z"
   },
   {
    "duration": 321,
    "start_time": "2022-04-09T06:42:47.892Z"
   },
   {
    "duration": 331,
    "start_time": "2022-04-09T06:42:48.215Z"
   },
   {
    "duration": 310,
    "start_time": "2022-04-09T06:42:48.548Z"
   },
   {
    "duration": 21,
    "start_time": "2022-04-09T06:42:48.861Z"
   },
   {
    "duration": 12,
    "start_time": "2022-04-09T06:42:48.884Z"
   },
   {
    "duration": 327,
    "start_time": "2022-04-09T06:42:48.898Z"
   },
   {
    "duration": 4,
    "start_time": "2022-04-09T06:42:49.229Z"
   },
   {
    "duration": 64,
    "start_time": "2022-04-09T06:42:49.243Z"
   },
   {
    "duration": 5,
    "start_time": "2022-04-09T06:42:49.310Z"
   },
   {
    "duration": 46,
    "start_time": "2022-04-09T06:49:54.906Z"
   },
   {
    "duration": 43,
    "start_time": "2022-04-09T06:49:59.449Z"
   },
   {
    "duration": 2992,
    "start_time": "2022-04-09T06:57:36.145Z"
   },
   {
    "duration": 16,
    "start_time": "2022-04-09T06:58:39.777Z"
   },
   {
    "duration": 15,
    "start_time": "2022-04-09T06:58:49.254Z"
   },
   {
    "duration": 11,
    "start_time": "2022-04-09T06:59:41.050Z"
   },
   {
    "duration": 63,
    "start_time": "2022-04-09T07:00:29.141Z"
   },
   {
    "duration": 46,
    "start_time": "2022-04-09T07:05:26.654Z"
   },
   {
    "duration": 41,
    "start_time": "2022-04-09T07:05:51.236Z"
   },
   {
    "duration": 45,
    "start_time": "2022-04-09T07:06:01.818Z"
   },
   {
    "duration": 40,
    "start_time": "2022-04-09T07:06:46.464Z"
   },
   {
    "duration": 47,
    "start_time": "2022-04-09T07:06:51.157Z"
   },
   {
    "duration": 45,
    "start_time": "2022-04-09T07:07:00.699Z"
   },
   {
    "duration": 2148,
    "start_time": "2022-04-09T14:10:12.772Z"
   },
   {
    "duration": 294,
    "start_time": "2022-04-09T14:10:14.922Z"
   },
   {
    "duration": 3,
    "start_time": "2022-04-09T14:10:15.217Z"
   },
   {
    "duration": 12,
    "start_time": "2022-04-09T14:10:15.222Z"
   },
   {
    "duration": 5,
    "start_time": "2022-04-09T14:10:15.235Z"
   },
   {
    "duration": 17,
    "start_time": "2022-04-09T14:10:15.241Z"
   },
   {
    "duration": 7,
    "start_time": "2022-04-09T14:10:15.260Z"
   },
   {
    "duration": 5,
    "start_time": "2022-04-09T14:10:15.269Z"
   },
   {
    "duration": 8,
    "start_time": "2022-04-09T14:10:15.275Z"
   },
   {
    "duration": 4,
    "start_time": "2022-04-09T14:10:15.285Z"
   },
   {
    "duration": 12,
    "start_time": "2022-04-09T14:10:15.291Z"
   },
   {
    "duration": 7,
    "start_time": "2022-04-09T14:10:15.304Z"
   },
   {
    "duration": 4,
    "start_time": "2022-04-09T14:10:15.313Z"
   },
   {
    "duration": 5,
    "start_time": "2022-04-09T14:10:15.319Z"
   },
   {
    "duration": 10,
    "start_time": "2022-04-09T14:10:15.325Z"
   },
   {
    "duration": 37,
    "start_time": "2022-04-09T14:10:15.336Z"
   },
   {
    "duration": 5,
    "start_time": "2022-04-09T14:10:15.375Z"
   },
   {
    "duration": 10,
    "start_time": "2022-04-09T14:10:15.381Z"
   },
   {
    "duration": 6,
    "start_time": "2022-04-09T14:10:15.393Z"
   },
   {
    "duration": 5,
    "start_time": "2022-04-09T14:10:15.400Z"
   },
   {
    "duration": 209,
    "start_time": "2022-04-09T14:10:15.406Z"
   },
   {
    "duration": 180,
    "start_time": "2022-04-09T14:10:15.617Z"
   },
   {
    "duration": 192,
    "start_time": "2022-04-09T14:10:15.798Z"
   },
   {
    "duration": 186,
    "start_time": "2022-04-09T14:10:15.991Z"
   },
   {
    "duration": 13,
    "start_time": "2022-04-09T14:10:16.178Z"
   },
   {
    "duration": 7,
    "start_time": "2022-04-09T14:10:16.193Z"
   },
   {
    "duration": 188,
    "start_time": "2022-04-09T14:10:16.202Z"
   },
   {
    "duration": 3,
    "start_time": "2022-04-09T14:10:16.393Z"
   },
   {
    "duration": 59,
    "start_time": "2022-04-09T14:10:16.397Z"
   },
   {
    "duration": 3,
    "start_time": "2022-04-09T14:10:16.458Z"
   },
   {
    "duration": 2039,
    "start_time": "2022-04-09T14:30:57.463Z"
   },
   {
    "duration": 299,
    "start_time": "2022-04-09T14:30:59.504Z"
   },
   {
    "duration": 3,
    "start_time": "2022-04-09T14:30:59.805Z"
   },
   {
    "duration": 11,
    "start_time": "2022-04-09T14:30:59.811Z"
   },
   {
    "duration": 4,
    "start_time": "2022-04-09T14:30:59.824Z"
   },
   {
    "duration": 5,
    "start_time": "2022-04-09T14:30:59.830Z"
   },
   {
    "duration": 22,
    "start_time": "2022-04-09T14:30:59.836Z"
   },
   {
    "duration": 2,
    "start_time": "2022-04-09T14:30:59.860Z"
   },
   {
    "duration": 9,
    "start_time": "2022-04-09T14:30:59.864Z"
   },
   {
    "duration": 7,
    "start_time": "2022-04-09T14:30:59.875Z"
   },
   {
    "duration": 5,
    "start_time": "2022-04-09T14:30:59.883Z"
   },
   {
    "duration": 5,
    "start_time": "2022-04-09T14:30:59.890Z"
   },
   {
    "duration": 6,
    "start_time": "2022-04-09T14:30:59.896Z"
   },
   {
    "duration": 6,
    "start_time": "2022-04-09T14:30:59.904Z"
   },
   {
    "duration": 10,
    "start_time": "2022-04-09T14:30:59.912Z"
   },
   {
    "duration": 43,
    "start_time": "2022-04-09T14:30:59.923Z"
   },
   {
    "duration": 4,
    "start_time": "2022-04-09T14:30:59.968Z"
   },
   {
    "duration": 9,
    "start_time": "2022-04-09T14:30:59.973Z"
   },
   {
    "duration": 5,
    "start_time": "2022-04-09T14:30:59.984Z"
   },
   {
    "duration": 5,
    "start_time": "2022-04-09T14:30:59.991Z"
   },
   {
    "duration": 211,
    "start_time": "2022-04-09T14:30:59.997Z"
   },
   {
    "duration": 185,
    "start_time": "2022-04-09T14:31:00.210Z"
   },
   {
    "duration": 203,
    "start_time": "2022-04-09T14:31:00.397Z"
   },
   {
    "duration": 209,
    "start_time": "2022-04-09T14:31:00.602Z"
   },
   {
    "duration": 13,
    "start_time": "2022-04-09T14:31:00.813Z"
   },
   {
    "duration": 9,
    "start_time": "2022-04-09T14:31:00.827Z"
   },
   {
    "duration": 182,
    "start_time": "2022-04-09T14:31:00.837Z"
   },
   {
    "duration": 3,
    "start_time": "2022-04-09T14:31:01.022Z"
   },
   {
    "duration": 52,
    "start_time": "2022-04-09T14:31:01.026Z"
   },
   {
    "duration": 8,
    "start_time": "2022-04-09T14:31:26.601Z"
   },
   {
    "duration": 4,
    "start_time": "2022-04-09T14:35:42.134Z"
   },
   {
    "duration": 3095,
    "start_time": "2022-04-11T11:23:50.465Z"
   },
   {
    "duration": 481,
    "start_time": "2022-04-11T11:23:53.563Z"
   },
   {
    "duration": 5,
    "start_time": "2022-04-11T11:23:54.049Z"
   },
   {
    "duration": 12,
    "start_time": "2022-04-11T11:23:54.069Z"
   },
   {
    "duration": 6,
    "start_time": "2022-04-11T11:23:54.083Z"
   },
   {
    "duration": 4,
    "start_time": "2022-04-11T11:23:54.091Z"
   },
   {
    "duration": 5,
    "start_time": "2022-04-11T11:23:54.097Z"
   },
   {
    "duration": 4,
    "start_time": "2022-04-11T11:23:54.104Z"
   },
   {
    "duration": 11,
    "start_time": "2022-04-11T11:23:54.110Z"
   },
   {
    "duration": 45,
    "start_time": "2022-04-11T11:23:54.125Z"
   },
   {
    "duration": 6,
    "start_time": "2022-04-11T11:23:54.172Z"
   },
   {
    "duration": 6,
    "start_time": "2022-04-11T11:23:54.180Z"
   },
   {
    "duration": 6,
    "start_time": "2022-04-11T11:23:54.188Z"
   },
   {
    "duration": 6,
    "start_time": "2022-04-11T11:23:54.196Z"
   },
   {
    "duration": 14,
    "start_time": "2022-04-11T11:23:54.205Z"
   },
   {
    "duration": 21,
    "start_time": "2022-04-11T11:23:54.268Z"
   },
   {
    "duration": 5,
    "start_time": "2022-04-11T11:23:54.292Z"
   },
   {
    "duration": 15,
    "start_time": "2022-04-11T11:23:54.299Z"
   },
   {
    "duration": 8,
    "start_time": "2022-04-11T11:23:54.316Z"
   },
   {
    "duration": 44,
    "start_time": "2022-04-11T11:23:54.326Z"
   },
   {
    "duration": 320,
    "start_time": "2022-04-11T11:23:54.372Z"
   },
   {
    "duration": 316,
    "start_time": "2022-04-11T11:23:54.694Z"
   },
   {
    "duration": 329,
    "start_time": "2022-04-11T11:23:55.012Z"
   },
   {
    "duration": 319,
    "start_time": "2022-04-11T11:23:55.343Z"
   },
   {
    "duration": 20,
    "start_time": "2022-04-11T11:23:55.667Z"
   },
   {
    "duration": 12,
    "start_time": "2022-04-11T11:23:55.689Z"
   },
   {
    "duration": 327,
    "start_time": "2022-04-11T11:23:55.703Z"
   },
   {
    "duration": 4,
    "start_time": "2022-04-11T11:23:56.037Z"
   },
   {
    "duration": 78,
    "start_time": "2022-04-11T11:23:56.043Z"
   },
   {
    "duration": 9,
    "start_time": "2022-04-11T11:23:56.123Z"
   },
   {
    "duration": 13,
    "start_time": "2022-04-11T11:23:56.134Z"
   },
   {
    "duration": 2624,
    "start_time": "2022-04-11T11:24:29.058Z"
   },
   {
    "duration": 524,
    "start_time": "2022-04-11T11:24:31.685Z"
   },
   {
    "duration": 5,
    "start_time": "2022-04-11T11:24:32.212Z"
   },
   {
    "duration": 17,
    "start_time": "2022-04-11T11:24:32.220Z"
   },
   {
    "duration": 26,
    "start_time": "2022-04-11T11:24:32.242Z"
   },
   {
    "duration": 4,
    "start_time": "2022-04-11T11:24:32.270Z"
   },
   {
    "duration": 7,
    "start_time": "2022-04-11T11:24:32.277Z"
   },
   {
    "duration": 10,
    "start_time": "2022-04-11T11:24:32.287Z"
   },
   {
    "duration": 14,
    "start_time": "2022-04-11T11:24:32.299Z"
   },
   {
    "duration": 5,
    "start_time": "2022-04-11T11:24:32.316Z"
   },
   {
    "duration": 45,
    "start_time": "2022-04-11T11:24:32.324Z"
   },
   {
    "duration": 12,
    "start_time": "2022-04-11T11:24:32.371Z"
   },
   {
    "duration": 8,
    "start_time": "2022-04-11T11:24:32.385Z"
   },
   {
    "duration": 10,
    "start_time": "2022-04-11T11:24:32.397Z"
   },
   {
    "duration": 15,
    "start_time": "2022-04-11T11:24:32.409Z"
   },
   {
    "duration": 52,
    "start_time": "2022-04-11T11:24:32.426Z"
   },
   {
    "duration": 4,
    "start_time": "2022-04-11T11:24:32.481Z"
   },
   {
    "duration": 16,
    "start_time": "2022-04-11T11:24:32.487Z"
   },
   {
    "duration": 9,
    "start_time": "2022-04-11T11:24:32.505Z"
   },
   {
    "duration": 8,
    "start_time": "2022-04-11T11:24:32.516Z"
   },
   {
    "duration": 369,
    "start_time": "2022-04-11T11:24:32.526Z"
   },
   {
    "duration": 324,
    "start_time": "2022-04-11T11:24:32.898Z"
   },
   {
    "duration": 345,
    "start_time": "2022-04-11T11:24:33.224Z"
   },
   {
    "duration": 323,
    "start_time": "2022-04-11T11:24:33.571Z"
   },
   {
    "duration": 20,
    "start_time": "2022-04-11T11:24:33.896Z"
   },
   {
    "duration": 12,
    "start_time": "2022-04-11T11:24:33.919Z"
   },
   {
    "duration": 356,
    "start_time": "2022-04-11T11:24:33.933Z"
   },
   {
    "duration": 4,
    "start_time": "2022-04-11T11:24:34.292Z"
   },
   {
    "duration": 78,
    "start_time": "2022-04-11T11:24:34.299Z"
   },
   {
    "duration": 9,
    "start_time": "2022-04-11T11:24:34.380Z"
   },
   {
    "duration": 9,
    "start_time": "2022-04-11T11:24:34.391Z"
   },
   {
    "duration": 177,
    "start_time": "2022-04-11T11:32:05.012Z"
   },
   {
    "duration": 7,
    "start_time": "2022-04-11T11:32:10.967Z"
   },
   {
    "duration": 18,
    "start_time": "2022-04-11T11:32:28.444Z"
   },
   {
    "duration": 263,
    "start_time": "2022-04-11T11:35:07.252Z"
   },
   {
    "duration": 41,
    "start_time": "2022-04-11T11:36:50.108Z"
   },
   {
    "duration": 3559,
    "start_time": "2022-04-11T11:39:56.728Z"
   },
   {
    "duration": 654,
    "start_time": "2022-04-11T11:40:00.291Z"
   },
   {
    "duration": 5,
    "start_time": "2022-04-11T11:40:00.948Z"
   },
   {
    "duration": 17,
    "start_time": "2022-04-11T11:40:00.967Z"
   },
   {
    "duration": 9,
    "start_time": "2022-04-11T11:40:00.988Z"
   },
   {
    "duration": 16,
    "start_time": "2022-04-11T11:40:00.999Z"
   },
   {
    "duration": 16,
    "start_time": "2022-04-11T11:40:01.017Z"
   },
   {
    "duration": 15,
    "start_time": "2022-04-11T11:40:01.035Z"
   },
   {
    "duration": 21,
    "start_time": "2022-04-11T11:40:01.053Z"
   },
   {
    "duration": 12,
    "start_time": "2022-04-11T11:40:01.078Z"
   },
   {
    "duration": 12,
    "start_time": "2022-04-11T11:40:01.093Z"
   },
   {
    "duration": 8,
    "start_time": "2022-04-11T11:40:01.107Z"
   },
   {
    "duration": 8,
    "start_time": "2022-04-11T11:40:01.118Z"
   },
   {
    "duration": 13,
    "start_time": "2022-04-11T11:40:01.130Z"
   },
   {
    "duration": 12,
    "start_time": "2022-04-11T11:40:01.168Z"
   },
   {
    "duration": 27,
    "start_time": "2022-04-11T11:40:01.182Z"
   },
   {
    "duration": 5,
    "start_time": "2022-04-11T11:40:01.211Z"
   },
   {
    "duration": 14,
    "start_time": "2022-04-11T11:40:01.219Z"
   },
   {
    "duration": 10,
    "start_time": "2022-04-11T11:40:01.266Z"
   },
   {
    "duration": 19,
    "start_time": "2022-04-11T11:40:01.278Z"
   },
   {
    "duration": 350,
    "start_time": "2022-04-11T11:40:01.299Z"
   },
   {
    "duration": 336,
    "start_time": "2022-04-11T11:40:01.652Z"
   },
   {
    "duration": 345,
    "start_time": "2022-04-11T11:40:01.990Z"
   },
   {
    "duration": 333,
    "start_time": "2022-04-11T11:40:02.337Z"
   },
   {
    "duration": 21,
    "start_time": "2022-04-11T11:40:02.673Z"
   },
   {
    "duration": 12,
    "start_time": "2022-04-11T11:40:02.696Z"
   },
   {
    "duration": 349,
    "start_time": "2022-04-11T11:40:02.711Z"
   },
   {
    "duration": 6,
    "start_time": "2022-04-11T11:40:03.062Z"
   },
   {
    "duration": 66,
    "start_time": "2022-04-11T11:40:03.071Z"
   },
   {
    "duration": 35,
    "start_time": "2022-04-11T11:40:03.139Z"
   },
   {
    "duration": 9,
    "start_time": "2022-04-11T11:40:03.177Z"
   },
   {
    "duration": 81,
    "start_time": "2022-04-11T11:40:03.189Z"
   },
   {
    "duration": 263,
    "start_time": "2022-04-11T11:40:03.272Z"
   },
   {
    "duration": 26,
    "start_time": "2022-04-11T11:44:20.547Z"
   },
   {
    "duration": 20,
    "start_time": "2022-04-11T11:44:38.322Z"
   },
   {
    "duration": 2589,
    "start_time": "2022-04-11T11:44:45.391Z"
   },
   {
    "duration": 523,
    "start_time": "2022-04-11T11:44:47.983Z"
   },
   {
    "duration": 4,
    "start_time": "2022-04-11T11:44:48.509Z"
   },
   {
    "duration": 14,
    "start_time": "2022-04-11T11:44:48.516Z"
   },
   {
    "duration": 6,
    "start_time": "2022-04-11T11:44:48.533Z"
   },
   {
    "duration": 9,
    "start_time": "2022-04-11T11:44:48.569Z"
   },
   {
    "duration": 10,
    "start_time": "2022-04-11T11:44:48.581Z"
   },
   {
    "duration": 7,
    "start_time": "2022-04-11T11:44:48.593Z"
   },
   {
    "duration": 13,
    "start_time": "2022-04-11T11:44:48.603Z"
   },
   {
    "duration": 5,
    "start_time": "2022-04-11T11:44:48.620Z"
   },
   {
    "duration": 41,
    "start_time": "2022-04-11T11:44:48.627Z"
   },
   {
    "duration": 10,
    "start_time": "2022-04-11T11:44:48.670Z"
   },
   {
    "duration": 9,
    "start_time": "2022-04-11T11:44:48.683Z"
   },
   {
    "duration": 7,
    "start_time": "2022-04-11T11:44:48.695Z"
   },
   {
    "duration": 12,
    "start_time": "2022-04-11T11:44:48.705Z"
   },
   {
    "duration": 62,
    "start_time": "2022-04-11T11:44:48.720Z"
   },
   {
    "duration": 6,
    "start_time": "2022-04-11T11:44:48.784Z"
   },
   {
    "duration": 14,
    "start_time": "2022-04-11T11:44:48.792Z"
   },
   {
    "duration": 9,
    "start_time": "2022-04-11T11:44:48.809Z"
   },
   {
    "duration": 9,
    "start_time": "2022-04-11T11:44:48.868Z"
   },
   {
    "duration": 342,
    "start_time": "2022-04-11T11:44:48.879Z"
   },
   {
    "duration": 327,
    "start_time": "2022-04-11T11:44:49.223Z"
   },
   {
    "duration": 338,
    "start_time": "2022-04-11T11:44:49.552Z"
   },
   {
    "duration": 325,
    "start_time": "2022-04-11T11:44:49.892Z"
   },
   {
    "duration": 22,
    "start_time": "2022-04-11T11:44:50.220Z"
   },
   {
    "duration": 33,
    "start_time": "2022-04-11T11:44:50.245Z"
   },
   {
    "duration": 329,
    "start_time": "2022-04-11T11:44:50.280Z"
   },
   {
    "duration": 4,
    "start_time": "2022-04-11T11:44:50.616Z"
   },
   {
    "duration": 85,
    "start_time": "2022-04-11T11:44:50.622Z"
   },
   {
    "duration": 9,
    "start_time": "2022-04-11T11:44:50.709Z"
   },
   {
    "duration": 10,
    "start_time": "2022-04-11T11:44:50.721Z"
   },
   {
    "duration": 180,
    "start_time": "2022-04-11T11:44:50.733Z"
   },
   {
    "duration": 2276,
    "start_time": "2022-04-11T11:45:16.461Z"
   },
   {
    "duration": 2597,
    "start_time": "2022-04-11T11:45:33.301Z"
   },
   {
    "duration": 483,
    "start_time": "2022-04-11T11:45:35.901Z"
   },
   {
    "duration": 4,
    "start_time": "2022-04-11T11:45:36.386Z"
   },
   {
    "duration": 18,
    "start_time": "2022-04-11T11:45:36.393Z"
   },
   {
    "duration": 7,
    "start_time": "2022-04-11T11:45:36.415Z"
   },
   {
    "duration": 5,
    "start_time": "2022-04-11T11:45:36.425Z"
   },
   {
    "duration": 4,
    "start_time": "2022-04-11T11:45:36.467Z"
   },
   {
    "duration": 6,
    "start_time": "2022-04-11T11:45:36.474Z"
   },
   {
    "duration": 11,
    "start_time": "2022-04-11T11:45:36.482Z"
   },
   {
    "duration": 10,
    "start_time": "2022-04-11T11:45:36.496Z"
   },
   {
    "duration": 8,
    "start_time": "2022-04-11T11:45:36.509Z"
   },
   {
    "duration": 47,
    "start_time": "2022-04-11T11:45:36.520Z"
   },
   {
    "duration": 7,
    "start_time": "2022-04-11T11:45:36.570Z"
   },
   {
    "duration": 6,
    "start_time": "2022-04-11T11:45:36.582Z"
   },
   {
    "duration": 17,
    "start_time": "2022-04-11T11:45:36.590Z"
   },
   {
    "duration": 58,
    "start_time": "2022-04-11T11:45:36.610Z"
   },
   {
    "duration": 5,
    "start_time": "2022-04-11T11:45:36.670Z"
   },
   {
    "duration": 21,
    "start_time": "2022-04-11T11:45:36.678Z"
   },
   {
    "duration": 11,
    "start_time": "2022-04-11T11:45:36.702Z"
   },
   {
    "duration": 11,
    "start_time": "2022-04-11T11:45:36.716Z"
   },
   {
    "duration": 505,
    "start_time": "2022-04-11T11:45:36.730Z"
   },
   {
    "duration": 476,
    "start_time": "2022-04-11T11:45:37.238Z"
   },
   {
    "duration": 501,
    "start_time": "2022-04-11T11:45:37.717Z"
   },
   {
    "duration": 332,
    "start_time": "2022-04-11T11:45:38.220Z"
   },
   {
    "duration": 24,
    "start_time": "2022-04-11T11:45:38.554Z"
   },
   {
    "duration": 12,
    "start_time": "2022-04-11T11:45:38.581Z"
   },
   {
    "duration": 344,
    "start_time": "2022-04-11T11:45:38.595Z"
   },
   {
    "duration": 5,
    "start_time": "2022-04-11T11:45:38.941Z"
   },
   {
    "duration": 76,
    "start_time": "2022-04-11T11:45:38.948Z"
   },
   {
    "duration": 10,
    "start_time": "2022-04-11T11:45:39.027Z"
   },
   {
    "duration": 29,
    "start_time": "2022-04-11T11:45:39.040Z"
   },
   {
    "duration": 2939,
    "start_time": "2022-04-11T11:45:39.072Z"
   },
   {
    "duration": 7,
    "start_time": "2022-04-11T11:46:02.631Z"
   },
   {
    "duration": 18,
    "start_time": "2022-04-11T11:46:19.581Z"
   },
   {
    "duration": 11,
    "start_time": "2022-04-11T11:47:38.024Z"
   },
   {
    "duration": 13,
    "start_time": "2022-04-11T11:48:15.384Z"
   },
   {
    "duration": 11,
    "start_time": "2022-04-11T12:10:02.320Z"
   },
   {
    "duration": 139,
    "start_time": "2022-04-11T12:15:42.545Z"
   },
   {
    "duration": 7,
    "start_time": "2022-04-11T12:17:56.942Z"
   },
   {
    "duration": 22,
    "start_time": "2022-04-11T12:36:16.655Z"
   },
   {
    "duration": 53,
    "start_time": "2022-04-11T12:36:48.564Z"
   },
   {
    "duration": 4,
    "start_time": "2022-04-11T12:45:29.930Z"
   },
   {
    "duration": 20,
    "start_time": "2022-04-11T12:46:56.808Z"
   },
   {
    "duration": 14,
    "start_time": "2022-04-11T12:50:42.807Z"
   },
   {
    "duration": 17,
    "start_time": "2022-04-11T12:52:00.292Z"
   },
   {
    "duration": 16,
    "start_time": "2022-04-11T12:52:10.711Z"
   },
   {
    "duration": 17,
    "start_time": "2022-04-11T12:52:37.930Z"
   },
   {
    "duration": 77,
    "start_time": "2022-04-11T12:53:03.189Z"
   },
   {
    "duration": 7493,
    "start_time": "2022-04-11T13:02:28.640Z"
   },
   {
    "duration": 7634,
    "start_time": "2022-04-11T13:02:59.041Z"
   },
   {
    "duration": 7713,
    "start_time": "2022-04-11T13:03:10.185Z"
   },
   {
    "duration": 5561,
    "start_time": "2022-04-11T13:08:50.611Z"
   },
   {
    "duration": 5578,
    "start_time": "2022-04-11T13:09:05.912Z"
   },
   {
    "duration": 2593,
    "start_time": "2022-04-11T13:14:38.377Z"
   },
   {
    "duration": 482,
    "start_time": "2022-04-11T13:14:40.973Z"
   },
   {
    "duration": 13,
    "start_time": "2022-04-11T13:14:41.457Z"
   },
   {
    "duration": 17,
    "start_time": "2022-04-11T13:14:41.473Z"
   },
   {
    "duration": 6,
    "start_time": "2022-04-11T13:14:41.494Z"
   },
   {
    "duration": 4,
    "start_time": "2022-04-11T13:14:41.503Z"
   },
   {
    "duration": 5,
    "start_time": "2022-04-11T13:14:41.509Z"
   },
   {
    "duration": 6,
    "start_time": "2022-04-11T13:14:41.517Z"
   },
   {
    "duration": 49,
    "start_time": "2022-04-11T13:14:41.525Z"
   },
   {
    "duration": 6,
    "start_time": "2022-04-11T13:14:41.576Z"
   },
   {
    "duration": 9,
    "start_time": "2022-04-11T13:14:41.584Z"
   },
   {
    "duration": 9,
    "start_time": "2022-04-11T13:14:41.595Z"
   },
   {
    "duration": 6,
    "start_time": "2022-04-11T13:14:41.607Z"
   },
   {
    "duration": 5,
    "start_time": "2022-04-11T13:14:41.618Z"
   },
   {
    "duration": 52,
    "start_time": "2022-04-11T13:14:41.625Z"
   },
   {
    "duration": 20,
    "start_time": "2022-04-11T13:14:41.679Z"
   },
   {
    "duration": 5,
    "start_time": "2022-04-11T13:14:41.701Z"
   },
   {
    "duration": 15,
    "start_time": "2022-04-11T13:14:41.708Z"
   },
   {
    "duration": 45,
    "start_time": "2022-04-11T13:14:41.726Z"
   },
   {
    "duration": 8,
    "start_time": "2022-04-11T13:14:41.774Z"
   },
   {
    "duration": 338,
    "start_time": "2022-04-11T13:14:41.784Z"
   },
   {
    "duration": 333,
    "start_time": "2022-04-11T13:14:42.124Z"
   },
   {
    "duration": 341,
    "start_time": "2022-04-11T13:14:42.459Z"
   },
   {
    "duration": 322,
    "start_time": "2022-04-11T13:14:42.803Z"
   },
   {
    "duration": 20,
    "start_time": "2022-04-11T13:14:43.128Z"
   },
   {
    "duration": 14,
    "start_time": "2022-04-11T13:14:43.168Z"
   },
   {
    "duration": 329,
    "start_time": "2022-04-11T13:14:43.184Z"
   },
   {
    "duration": 5,
    "start_time": "2022-04-11T13:14:43.515Z"
   },
   {
    "duration": 80,
    "start_time": "2022-04-11T13:14:43.523Z"
   },
   {
    "duration": 8,
    "start_time": "2022-04-11T13:14:43.606Z"
   },
   {
    "duration": 11,
    "start_time": "2022-04-11T13:14:43.617Z"
   },
   {
    "duration": 38,
    "start_time": "2022-04-11T13:14:43.630Z"
   },
   {
    "duration": 216,
    "start_time": "2022-04-11T13:14:43.670Z"
   },
   {
    "duration": 0,
    "start_time": "2022-04-11T13:14:43.888Z"
   },
   {
    "duration": 0,
    "start_time": "2022-04-11T13:14:43.889Z"
   },
   {
    "duration": 3037,
    "start_time": "2022-04-11T13:15:12.741Z"
   },
   {
    "duration": 520,
    "start_time": "2022-04-11T13:15:15.780Z"
   },
   {
    "duration": 4,
    "start_time": "2022-04-11T13:15:16.302Z"
   },
   {
    "duration": 20,
    "start_time": "2022-04-11T13:15:16.308Z"
   },
   {
    "duration": 9,
    "start_time": "2022-04-11T13:15:16.331Z"
   },
   {
    "duration": 4,
    "start_time": "2022-04-11T13:15:16.343Z"
   },
   {
    "duration": 3,
    "start_time": "2022-04-11T13:15:16.369Z"
   },
   {
    "duration": 9,
    "start_time": "2022-04-11T13:15:16.374Z"
   },
   {
    "duration": 14,
    "start_time": "2022-04-11T13:15:16.385Z"
   },
   {
    "duration": 7,
    "start_time": "2022-04-11T13:15:16.401Z"
   },
   {
    "duration": 9,
    "start_time": "2022-04-11T13:15:16.410Z"
   },
   {
    "duration": 7,
    "start_time": "2022-04-11T13:15:16.421Z"
   },
   {
    "duration": 39,
    "start_time": "2022-04-11T13:15:16.430Z"
   },
   {
    "duration": 6,
    "start_time": "2022-04-11T13:15:16.473Z"
   },
   {
    "duration": 13,
    "start_time": "2022-04-11T13:15:16.481Z"
   },
   {
    "duration": 21,
    "start_time": "2022-04-11T13:15:16.496Z"
   },
   {
    "duration": 4,
    "start_time": "2022-04-11T13:15:16.520Z"
   },
   {
    "duration": 47,
    "start_time": "2022-04-11T13:15:16.526Z"
   },
   {
    "duration": 16,
    "start_time": "2022-04-11T13:15:16.575Z"
   },
   {
    "duration": 8,
    "start_time": "2022-04-11T13:15:16.593Z"
   },
   {
    "duration": 345,
    "start_time": "2022-04-11T13:15:16.604Z"
   },
   {
    "duration": 319,
    "start_time": "2022-04-11T13:15:16.951Z"
   },
   {
    "duration": 330,
    "start_time": "2022-04-11T13:15:17.273Z"
   },
   {
    "duration": 321,
    "start_time": "2022-04-11T13:15:17.606Z"
   },
   {
    "duration": 21,
    "start_time": "2022-04-11T13:15:17.929Z"
   },
   {
    "duration": 12,
    "start_time": "2022-04-11T13:15:17.967Z"
   },
   {
    "duration": 329,
    "start_time": "2022-04-11T13:15:17.981Z"
   },
   {
    "duration": 4,
    "start_time": "2022-04-11T13:15:18.312Z"
   },
   {
    "duration": 83,
    "start_time": "2022-04-11T13:15:18.318Z"
   },
   {
    "duration": 9,
    "start_time": "2022-04-11T13:15:18.403Z"
   },
   {
    "duration": 11,
    "start_time": "2022-04-11T13:15:18.414Z"
   },
   {
    "duration": 15,
    "start_time": "2022-04-11T13:15:18.427Z"
   },
   {
    "duration": 5438,
    "start_time": "2022-04-11T13:15:18.444Z"
   },
   {
    "duration": 0,
    "start_time": "2022-04-11T13:15:23.885Z"
   },
   {
    "duration": 0,
    "start_time": "2022-04-11T13:15:23.887Z"
   },
   {
    "duration": 2647,
    "start_time": "2022-04-11T13:15:38.844Z"
   },
   {
    "duration": 483,
    "start_time": "2022-04-11T13:15:41.493Z"
   },
   {
    "duration": 4,
    "start_time": "2022-04-11T13:15:41.978Z"
   },
   {
    "duration": 13,
    "start_time": "2022-04-11T13:15:41.985Z"
   },
   {
    "duration": 6,
    "start_time": "2022-04-11T13:15:42.000Z"
   },
   {
    "duration": 6,
    "start_time": "2022-04-11T13:15:42.008Z"
   },
   {
    "duration": 5,
    "start_time": "2022-04-11T13:15:42.017Z"
   },
   {
    "duration": 6,
    "start_time": "2022-04-11T13:15:42.024Z"
   },
   {
    "duration": 42,
    "start_time": "2022-04-11T13:15:42.032Z"
   },
   {
    "duration": 5,
    "start_time": "2022-04-11T13:15:42.078Z"
   },
   {
    "duration": 7,
    "start_time": "2022-04-11T13:15:42.085Z"
   },
   {
    "duration": 8,
    "start_time": "2022-04-11T13:15:42.094Z"
   },
   {
    "duration": 8,
    "start_time": "2022-04-11T13:15:42.104Z"
   },
   {
    "duration": 8,
    "start_time": "2022-04-11T13:15:42.114Z"
   },
   {
    "duration": 53,
    "start_time": "2022-04-11T13:15:42.124Z"
   },
   {
    "duration": 21,
    "start_time": "2022-04-11T13:15:42.179Z"
   },
   {
    "duration": 6,
    "start_time": "2022-04-11T13:15:42.202Z"
   },
   {
    "duration": 22,
    "start_time": "2022-04-11T13:15:42.209Z"
   },
   {
    "duration": 40,
    "start_time": "2022-04-11T13:15:42.234Z"
   },
   {
    "duration": 9,
    "start_time": "2022-04-11T13:15:42.276Z"
   },
   {
    "duration": 334,
    "start_time": "2022-04-11T13:15:42.287Z"
   },
   {
    "duration": 353,
    "start_time": "2022-04-11T13:15:42.624Z"
   },
   {
    "duration": 338,
    "start_time": "2022-04-11T13:15:42.979Z"
   },
   {
    "duration": 322,
    "start_time": "2022-04-11T13:15:43.319Z"
   },
   {
    "duration": 20,
    "start_time": "2022-04-11T13:15:43.643Z"
   },
   {
    "duration": 13,
    "start_time": "2022-04-11T13:15:43.668Z"
   },
   {
    "duration": 552,
    "start_time": "2022-04-11T13:15:43.683Z"
   },
   {
    "duration": 4,
    "start_time": "2022-04-11T13:15:44.240Z"
   },
   {
    "duration": 73,
    "start_time": "2022-04-11T13:15:44.246Z"
   },
   {
    "duration": 8,
    "start_time": "2022-04-11T13:15:44.322Z"
   },
   {
    "duration": 10,
    "start_time": "2022-04-11T13:15:44.332Z"
   },
   {
    "duration": 33,
    "start_time": "2022-04-11T13:15:44.345Z"
   },
   {
    "duration": 5315,
    "start_time": "2022-04-11T13:15:44.380Z"
   },
   {
    "duration": 327105,
    "start_time": "2022-04-11T13:15:49.697Z"
   },
   {
    "duration": 3068,
    "start_time": "2022-04-11T13:21:16.805Z"
   },
   {
    "duration": 323,
    "start_time": "2022-04-11T14:21:25.267Z"
   },
   {
    "duration": 4,
    "start_time": "2022-04-11T14:21:52.446Z"
   },
   {
    "duration": 9,
    "start_time": "2022-04-11T14:21:53.415Z"
   },
   {
    "duration": 9,
    "start_time": "2022-04-11T14:21:53.977Z"
   },
   {
    "duration": 7,
    "start_time": "2022-04-11T14:57:00.690Z"
   },
   {
    "duration": 6,
    "start_time": "2022-04-11T15:39:26.439Z"
   },
   {
    "duration": 5313,
    "start_time": "2022-04-11T15:40:43.254Z"
   },
   {
    "duration": 2960,
    "start_time": "2022-04-11T15:41:05.779Z"
   },
   {
    "duration": 469,
    "start_time": "2022-04-11T15:41:08.741Z"
   },
   {
    "duration": 4,
    "start_time": "2022-04-11T15:41:09.212Z"
   },
   {
    "duration": 14,
    "start_time": "2022-04-11T15:41:09.218Z"
   },
   {
    "duration": 7,
    "start_time": "2022-04-11T15:41:09.235Z"
   },
   {
    "duration": 4,
    "start_time": "2022-04-11T15:41:09.268Z"
   },
   {
    "duration": 5,
    "start_time": "2022-04-11T15:41:09.274Z"
   },
   {
    "duration": 7,
    "start_time": "2022-04-11T15:41:09.281Z"
   },
   {
    "duration": 11,
    "start_time": "2022-04-11T15:41:09.290Z"
   },
   {
    "duration": 5,
    "start_time": "2022-04-11T15:41:09.303Z"
   },
   {
    "duration": 7,
    "start_time": "2022-04-11T15:41:09.309Z"
   },
   {
    "duration": 52,
    "start_time": "2022-04-11T15:41:09.318Z"
   },
   {
    "duration": 7,
    "start_time": "2022-04-11T15:41:09.373Z"
   },
   {
    "duration": 5,
    "start_time": "2022-04-11T15:41:09.385Z"
   },
   {
    "duration": 14,
    "start_time": "2022-04-11T15:41:09.392Z"
   },
   {
    "duration": 20,
    "start_time": "2022-04-11T15:41:09.408Z"
   },
   {
    "duration": 41,
    "start_time": "2022-04-11T15:41:09.430Z"
   },
   {
    "duration": 13,
    "start_time": "2022-04-11T15:41:09.473Z"
   },
   {
    "duration": 8,
    "start_time": "2022-04-11T15:41:09.489Z"
   },
   {
    "duration": 8,
    "start_time": "2022-04-11T15:41:09.499Z"
   },
   {
    "duration": 350,
    "start_time": "2022-04-11T15:41:09.509Z"
   },
   {
    "duration": 318,
    "start_time": "2022-04-11T15:41:09.867Z"
   },
   {
    "duration": 334,
    "start_time": "2022-04-11T15:41:10.187Z"
   },
   {
    "duration": 314,
    "start_time": "2022-04-11T15:41:10.524Z"
   },
   {
    "duration": 31,
    "start_time": "2022-04-11T15:41:10.841Z"
   },
   {
    "duration": 12,
    "start_time": "2022-04-11T15:41:10.875Z"
   },
   {
    "duration": 323,
    "start_time": "2022-04-11T15:41:10.889Z"
   },
   {
    "duration": 4,
    "start_time": "2022-04-11T15:41:11.215Z"
   },
   {
    "duration": 85,
    "start_time": "2022-04-11T15:41:11.222Z"
   },
   {
    "duration": 9,
    "start_time": "2022-04-11T15:41:11.310Z"
   },
   {
    "duration": 8,
    "start_time": "2022-04-11T15:41:11.321Z"
   },
   {
    "duration": 6,
    "start_time": "2022-04-11T15:41:11.332Z"
   },
   {
    "duration": 180,
    "start_time": "2022-04-11T15:41:11.341Z"
   },
   {
    "duration": 0,
    "start_time": "2022-04-11T15:41:11.524Z"
   },
   {
    "duration": 0,
    "start_time": "2022-04-11T15:41:11.526Z"
   },
   {
    "duration": 0,
    "start_time": "2022-04-11T15:41:11.528Z"
   },
   {
    "duration": 0,
    "start_time": "2022-04-11T15:41:11.530Z"
   },
   {
    "duration": 7,
    "start_time": "2022-04-11T15:42:09.784Z"
   },
   {
    "duration": 13,
    "start_time": "2022-04-11T15:42:12.605Z"
   },
   {
    "duration": 5370,
    "start_time": "2022-04-11T15:42:14.852Z"
   },
   {
    "duration": 2557,
    "start_time": "2022-04-11T15:43:10.404Z"
   },
   {
    "duration": 488,
    "start_time": "2022-04-11T15:43:12.964Z"
   },
   {
    "duration": 15,
    "start_time": "2022-04-11T15:43:13.454Z"
   },
   {
    "duration": 15,
    "start_time": "2022-04-11T15:43:13.471Z"
   },
   {
    "duration": 7,
    "start_time": "2022-04-11T15:43:13.489Z"
   },
   {
    "duration": 15,
    "start_time": "2022-04-11T15:43:13.498Z"
   },
   {
    "duration": 10,
    "start_time": "2022-04-11T15:43:13.515Z"
   },
   {
    "duration": 6,
    "start_time": "2022-04-11T15:43:13.527Z"
   },
   {
    "duration": 34,
    "start_time": "2022-04-11T15:43:13.535Z"
   },
   {
    "duration": 9,
    "start_time": "2022-04-11T15:43:13.571Z"
   },
   {
    "duration": 9,
    "start_time": "2022-04-11T15:43:13.582Z"
   },
   {
    "duration": 12,
    "start_time": "2022-04-11T15:43:13.593Z"
   },
   {
    "duration": 17,
    "start_time": "2022-04-11T15:43:13.608Z"
   },
   {
    "duration": 5,
    "start_time": "2022-04-11T15:43:13.631Z"
   },
   {
    "duration": 39,
    "start_time": "2022-04-11T15:43:13.639Z"
   },
   {
    "duration": 21,
    "start_time": "2022-04-11T15:43:13.681Z"
   },
   {
    "duration": 5,
    "start_time": "2022-04-11T15:43:13.705Z"
   },
   {
    "duration": 14,
    "start_time": "2022-04-11T15:43:13.712Z"
   },
   {
    "duration": 46,
    "start_time": "2022-04-11T15:43:13.728Z"
   },
   {
    "duration": 9,
    "start_time": "2022-04-11T15:43:13.776Z"
   },
   {
    "duration": 358,
    "start_time": "2022-04-11T15:43:13.787Z"
   },
   {
    "duration": 323,
    "start_time": "2022-04-11T15:43:14.147Z"
   },
   {
    "duration": 333,
    "start_time": "2022-04-11T15:43:14.472Z"
   },
   {
    "duration": 323,
    "start_time": "2022-04-11T15:43:14.807Z"
   },
   {
    "duration": 19,
    "start_time": "2022-04-11T15:43:15.132Z"
   },
   {
    "duration": 14,
    "start_time": "2022-04-11T15:43:15.167Z"
   },
   {
    "duration": 341,
    "start_time": "2022-04-11T15:43:15.184Z"
   },
   {
    "duration": 4,
    "start_time": "2022-04-11T15:43:15.527Z"
   },
   {
    "duration": 83,
    "start_time": "2022-04-11T15:43:15.534Z"
   },
   {
    "duration": 9,
    "start_time": "2022-04-11T15:43:15.620Z"
   },
   {
    "duration": 8,
    "start_time": "2022-04-11T15:43:15.632Z"
   },
   {
    "duration": 25,
    "start_time": "2022-04-11T15:43:15.643Z"
   },
   {
    "duration": 9,
    "start_time": "2022-04-11T15:43:15.671Z"
   },
   {
    "duration": 12,
    "start_time": "2022-04-11T15:43:15.682Z"
   },
   {
    "duration": 5327,
    "start_time": "2022-04-11T15:43:15.697Z"
   },
   {
    "duration": 320046,
    "start_time": "2022-04-11T15:43:21.026Z"
   },
   {
    "duration": 2593,
    "start_time": "2022-04-11T15:48:41.075Z"
   },
   {
    "duration": 316539,
    "start_time": "2022-04-11T15:54:39.808Z"
   },
   {
    "duration": 1518,
    "start_time": "2022-04-11T15:59:56.350Z"
   },
   {
    "duration": 5808,
    "start_time": "2022-04-11T16:25:32.382Z"
   },
   {
    "duration": 2755,
    "start_time": "2022-04-11T16:27:36.837Z"
   },
   {
    "duration": 488,
    "start_time": "2022-04-11T16:27:39.595Z"
   },
   {
    "duration": 5,
    "start_time": "2022-04-11T16:27:40.086Z"
   },
   {
    "duration": 13,
    "start_time": "2022-04-11T16:27:40.095Z"
   },
   {
    "duration": 7,
    "start_time": "2022-04-11T16:27:40.111Z"
   },
   {
    "duration": 5,
    "start_time": "2022-04-11T16:27:40.120Z"
   },
   {
    "duration": 4,
    "start_time": "2022-04-11T16:27:40.128Z"
   },
   {
    "duration": 10,
    "start_time": "2022-04-11T16:27:40.173Z"
   },
   {
    "duration": 11,
    "start_time": "2022-04-11T16:27:40.185Z"
   },
   {
    "duration": 5,
    "start_time": "2022-04-11T16:27:40.202Z"
   },
   {
    "duration": 8,
    "start_time": "2022-04-11T16:27:40.209Z"
   },
   {
    "duration": 8,
    "start_time": "2022-04-11T16:27:40.219Z"
   },
   {
    "duration": 47,
    "start_time": "2022-04-11T16:27:40.229Z"
   },
   {
    "duration": 11,
    "start_time": "2022-04-11T16:27:40.279Z"
   },
   {
    "duration": 16,
    "start_time": "2022-04-11T16:27:40.292Z"
   },
   {
    "duration": 21,
    "start_time": "2022-04-11T16:27:40.310Z"
   },
   {
    "duration": 41,
    "start_time": "2022-04-11T16:27:40.333Z"
   },
   {
    "duration": 20,
    "start_time": "2022-04-11T16:27:40.376Z"
   },
   {
    "duration": 9,
    "start_time": "2022-04-11T16:27:40.398Z"
   },
   {
    "duration": 8,
    "start_time": "2022-04-11T16:27:40.409Z"
   },
   {
    "duration": 371,
    "start_time": "2022-04-11T16:27:40.419Z"
   },
   {
    "duration": 336,
    "start_time": "2022-04-11T16:27:40.793Z"
   },
   {
    "duration": 336,
    "start_time": "2022-04-11T16:27:41.131Z"
   },
   {
    "duration": 329,
    "start_time": "2022-04-11T16:27:41.470Z"
   },
   {
    "duration": 21,
    "start_time": "2022-04-11T16:27:41.801Z"
   },
   {
    "duration": 12,
    "start_time": "2022-04-11T16:27:41.824Z"
   },
   {
    "duration": 309,
    "start_time": "2022-04-11T16:27:41.866Z"
   },
   {
    "duration": 4,
    "start_time": "2022-04-11T16:27:42.183Z"
   },
   {
    "duration": 91,
    "start_time": "2022-04-11T16:27:42.189Z"
   },
   {
    "duration": 10,
    "start_time": "2022-04-11T16:27:42.283Z"
   },
   {
    "duration": 11,
    "start_time": "2022-04-11T16:27:42.295Z"
   },
   {
    "duration": 7,
    "start_time": "2022-04-11T16:27:42.308Z"
   },
   {
    "duration": 11,
    "start_time": "2022-04-11T16:27:42.316Z"
   },
   {
    "duration": 17,
    "start_time": "2022-04-11T16:27:42.329Z"
   },
   {
    "duration": 164,
    "start_time": "2022-04-11T16:27:42.371Z"
   },
   {
    "duration": 1,
    "start_time": "2022-04-11T16:27:42.537Z"
   },
   {
    "duration": 0,
    "start_time": "2022-04-11T16:27:42.539Z"
   },
   {
    "duration": 0,
    "start_time": "2022-04-11T16:27:42.541Z"
   },
   {
    "duration": 76,
    "start_time": "2022-04-11T16:28:03.781Z"
   },
   {
    "duration": 15,
    "start_time": "2022-04-11T16:28:19.581Z"
   },
   {
    "duration": 2944,
    "start_time": "2022-04-11T16:28:41.819Z"
   },
   {
    "duration": 619,
    "start_time": "2022-04-11T16:28:44.774Z"
   },
   {
    "duration": 5,
    "start_time": "2022-04-11T16:28:45.395Z"
   },
   {
    "duration": 14,
    "start_time": "2022-04-11T16:28:45.402Z"
   },
   {
    "duration": 6,
    "start_time": "2022-04-11T16:28:45.419Z"
   },
   {
    "duration": 4,
    "start_time": "2022-04-11T16:28:45.427Z"
   },
   {
    "duration": 5,
    "start_time": "2022-04-11T16:28:45.467Z"
   },
   {
    "duration": 5,
    "start_time": "2022-04-11T16:28:45.475Z"
   },
   {
    "duration": 12,
    "start_time": "2022-04-11T16:28:45.483Z"
   },
   {
    "duration": 5,
    "start_time": "2022-04-11T16:28:45.497Z"
   },
   {
    "duration": 12,
    "start_time": "2022-04-11T16:28:45.505Z"
   },
   {
    "duration": 51,
    "start_time": "2022-04-11T16:28:45.519Z"
   },
   {
    "duration": 7,
    "start_time": "2022-04-11T16:28:45.572Z"
   },
   {
    "duration": 6,
    "start_time": "2022-04-11T16:28:45.584Z"
   },
   {
    "duration": 14,
    "start_time": "2022-04-11T16:28:45.593Z"
   },
   {
    "duration": 66,
    "start_time": "2022-04-11T16:28:45.609Z"
   },
   {
    "duration": 5,
    "start_time": "2022-04-11T16:28:45.677Z"
   },
   {
    "duration": 15,
    "start_time": "2022-04-11T16:28:45.685Z"
   },
   {
    "duration": 9,
    "start_time": "2022-04-11T16:28:45.703Z"
   },
   {
    "duration": 9,
    "start_time": "2022-04-11T16:28:45.714Z"
   },
   {
    "duration": 372,
    "start_time": "2022-04-11T16:28:45.769Z"
   },
   {
    "duration": 383,
    "start_time": "2022-04-11T16:28:46.143Z"
   },
   {
    "duration": 359,
    "start_time": "2022-04-11T16:28:46.528Z"
   },
   {
    "duration": 344,
    "start_time": "2022-04-11T16:28:46.890Z"
   },
   {
    "duration": 34,
    "start_time": "2022-04-11T16:28:47.236Z"
   },
   {
    "duration": 13,
    "start_time": "2022-04-11T16:28:47.273Z"
   },
   {
    "duration": 345,
    "start_time": "2022-04-11T16:28:47.289Z"
   },
   {
    "duration": 4,
    "start_time": "2022-04-11T16:28:47.636Z"
   },
   {
    "duration": 88,
    "start_time": "2022-04-11T16:28:47.643Z"
   },
   {
    "duration": 12,
    "start_time": "2022-04-11T16:28:47.734Z"
   },
   {
    "duration": 31,
    "start_time": "2022-04-11T16:28:47.749Z"
   },
   {
    "duration": 10,
    "start_time": "2022-04-11T16:28:47.783Z"
   },
   {
    "duration": 10,
    "start_time": "2022-04-11T16:28:47.795Z"
   },
   {
    "duration": 14,
    "start_time": "2022-04-11T16:28:47.807Z"
   },
   {
    "duration": 5681,
    "start_time": "2022-04-11T16:28:47.824Z"
   },
   {
    "duration": 5724,
    "start_time": "2022-04-11T16:28:53.508Z"
   },
   {
    "duration": 0,
    "start_time": "2022-04-11T16:28:59.235Z"
   },
   {
    "duration": 0,
    "start_time": "2022-04-11T16:28:59.237Z"
   },
   {
    "duration": 5624,
    "start_time": "2022-04-11T16:30:56.458Z"
   },
   {
    "duration": 12614,
    "start_time": "2022-04-11T16:46:01.993Z"
   },
   {
    "duration": 12377,
    "start_time": "2022-04-11T16:46:51.964Z"
   },
   {
    "duration": 111053,
    "start_time": "2022-04-11T16:47:19.983Z"
   },
   {
    "duration": 112101,
    "start_time": "2022-04-11T16:50:06.896Z"
   },
   {
    "duration": 233310,
    "start_time": "2022-04-11T16:54:17.621Z"
   },
   {
    "duration": 12607,
    "start_time": "2022-04-11T16:58:43.792Z"
   },
   {
    "duration": 565223,
    "start_time": "2022-04-11T16:59:07.503Z"
   },
   {
    "duration": 3497,
    "start_time": "2022-04-12T04:36:02.312Z"
   },
   {
    "duration": 594,
    "start_time": "2022-04-12T04:36:05.812Z"
   },
   {
    "duration": 4,
    "start_time": "2022-04-12T04:36:06.409Z"
   },
   {
    "duration": 19,
    "start_time": "2022-04-12T04:36:06.415Z"
   },
   {
    "duration": 7,
    "start_time": "2022-04-12T04:36:06.438Z"
   },
   {
    "duration": 6,
    "start_time": "2022-04-12T04:36:06.447Z"
   },
   {
    "duration": 41,
    "start_time": "2022-04-12T04:36:06.455Z"
   },
   {
    "duration": 7,
    "start_time": "2022-04-12T04:36:06.499Z"
   },
   {
    "duration": 17,
    "start_time": "2022-04-12T04:36:06.508Z"
   },
   {
    "duration": 11,
    "start_time": "2022-04-12T04:36:06.527Z"
   },
   {
    "duration": 21,
    "start_time": "2022-04-12T04:36:06.540Z"
   },
   {
    "duration": 6,
    "start_time": "2022-04-12T04:36:06.564Z"
   },
   {
    "duration": 22,
    "start_time": "2022-04-12T04:36:06.572Z"
   },
   {
    "duration": 6,
    "start_time": "2022-04-12T04:36:06.599Z"
   },
   {
    "duration": 16,
    "start_time": "2022-04-12T04:36:06.608Z"
   },
   {
    "duration": 28,
    "start_time": "2022-04-12T04:36:06.626Z"
   },
   {
    "duration": 39,
    "start_time": "2022-04-12T04:36:06.657Z"
   },
   {
    "duration": 19,
    "start_time": "2022-04-12T04:36:06.698Z"
   },
   {
    "duration": 10,
    "start_time": "2022-04-12T04:36:06.720Z"
   },
   {
    "duration": 10,
    "start_time": "2022-04-12T04:36:06.732Z"
   },
   {
    "duration": 474,
    "start_time": "2022-04-12T04:36:06.745Z"
   },
   {
    "duration": 438,
    "start_time": "2022-04-12T04:36:07.221Z"
   },
   {
    "duration": 452,
    "start_time": "2022-04-12T04:36:07.661Z"
   },
   {
    "duration": 432,
    "start_time": "2022-04-12T04:36:08.115Z"
   },
   {
    "duration": 26,
    "start_time": "2022-04-12T04:36:08.550Z"
   },
   {
    "duration": 15,
    "start_time": "2022-04-12T04:36:08.594Z"
   },
   {
    "duration": 426,
    "start_time": "2022-04-12T04:36:08.612Z"
   },
   {
    "duration": 6,
    "start_time": "2022-04-12T04:36:09.040Z"
   },
   {
    "duration": 79,
    "start_time": "2022-04-12T04:36:09.048Z"
   },
   {
    "duration": 9,
    "start_time": "2022-04-12T04:36:09.129Z"
   },
   {
    "duration": 11,
    "start_time": "2022-04-12T04:36:09.140Z"
   },
   {
    "duration": 8,
    "start_time": "2022-04-12T04:36:09.154Z"
   },
   {
    "duration": 11,
    "start_time": "2022-04-12T04:36:09.164Z"
   },
   {
    "duration": 12,
    "start_time": "2022-04-12T04:36:09.194Z"
   },
   {
    "duration": 5761,
    "start_time": "2022-04-12T04:36:09.208Z"
   },
   {
    "duration": 553264,
    "start_time": "2022-04-12T04:36:14.971Z"
   },
   {
    "duration": 5626,
    "start_time": "2022-04-12T04:45:28.238Z"
   },
   {
    "duration": 0,
    "start_time": "2022-04-12T04:45:33.867Z"
   },
   {
    "duration": 0,
    "start_time": "2022-04-12T04:45:33.868Z"
   },
   {
    "duration": 2735,
    "start_time": "2022-04-12T05:08:52.640Z"
   },
   {
    "duration": 476,
    "start_time": "2022-04-12T05:08:55.378Z"
   },
   {
    "duration": 4,
    "start_time": "2022-04-12T05:08:55.856Z"
   },
   {
    "duration": 32,
    "start_time": "2022-04-12T05:08:55.863Z"
   },
   {
    "duration": 6,
    "start_time": "2022-04-12T05:08:55.897Z"
   },
   {
    "duration": 7,
    "start_time": "2022-04-12T05:08:55.905Z"
   },
   {
    "duration": 6,
    "start_time": "2022-04-12T05:08:55.914Z"
   },
   {
    "duration": 5,
    "start_time": "2022-04-12T05:08:55.922Z"
   },
   {
    "duration": 12,
    "start_time": "2022-04-12T05:08:55.929Z"
   },
   {
    "duration": 5,
    "start_time": "2022-04-12T05:08:55.944Z"
   },
   {
    "duration": 44,
    "start_time": "2022-04-12T05:08:55.950Z"
   },
   {
    "duration": 12,
    "start_time": "2022-04-12T05:08:55.996Z"
   },
   {
    "duration": 8,
    "start_time": "2022-04-12T05:08:56.010Z"
   },
   {
    "duration": 8,
    "start_time": "2022-04-12T05:08:56.020Z"
   },
   {
    "duration": 13,
    "start_time": "2022-04-12T05:08:56.031Z"
   },
   {
    "duration": 61,
    "start_time": "2022-04-12T05:08:56.047Z"
   },
   {
    "duration": 5,
    "start_time": "2022-04-12T05:08:56.110Z"
   },
   {
    "duration": 14,
    "start_time": "2022-04-12T05:08:56.117Z"
   },
   {
    "duration": 8,
    "start_time": "2022-04-12T05:08:56.133Z"
   },
   {
    "duration": 8,
    "start_time": "2022-04-12T05:08:56.143Z"
   },
   {
    "duration": 342,
    "start_time": "2022-04-12T05:08:56.194Z"
   },
   {
    "duration": 428,
    "start_time": "2022-04-12T05:08:56.538Z"
   },
   {
    "duration": 339,
    "start_time": "2022-04-12T05:08:56.969Z"
   },
   {
    "duration": 335,
    "start_time": "2022-04-12T05:08:57.311Z"
   },
   {
    "duration": 20,
    "start_time": "2022-04-12T05:08:57.648Z"
   },
   {
    "duration": 29,
    "start_time": "2022-04-12T05:08:57.670Z"
   },
   {
    "duration": 331,
    "start_time": "2022-04-12T05:08:57.701Z"
   },
   {
    "duration": 5,
    "start_time": "2022-04-12T05:08:58.036Z"
   },
   {
    "duration": 84,
    "start_time": "2022-04-12T05:08:58.043Z"
   },
   {
    "duration": 9,
    "start_time": "2022-04-12T05:08:58.130Z"
   },
   {
    "duration": 9,
    "start_time": "2022-04-12T05:08:58.141Z"
   },
   {
    "duration": 7,
    "start_time": "2022-04-12T05:08:58.152Z"
   },
   {
    "duration": 32,
    "start_time": "2022-04-12T05:08:58.161Z"
   },
   {
    "duration": 13,
    "start_time": "2022-04-12T05:08:58.195Z"
   },
   {
    "duration": 90,
    "start_time": "2022-04-12T05:08:58.210Z"
   },
   {
    "duration": 194,
    "start_time": "2022-04-12T05:08:58.302Z"
   },
   {
    "duration": 0,
    "start_time": "2022-04-12T05:08:58.499Z"
   },
   {
    "duration": 0,
    "start_time": "2022-04-12T05:08:58.500Z"
   },
   {
    "duration": 0,
    "start_time": "2022-04-12T05:08:58.502Z"
   },
   {
    "duration": 0,
    "start_time": "2022-04-12T05:08:58.503Z"
   },
   {
    "duration": 3149,
    "start_time": "2022-04-12T05:09:43.662Z"
   },
   {
    "duration": 485,
    "start_time": "2022-04-12T05:09:46.814Z"
   },
   {
    "duration": 4,
    "start_time": "2022-04-12T05:09:47.301Z"
   },
   {
    "duration": 16,
    "start_time": "2022-04-12T05:09:47.307Z"
   },
   {
    "duration": 6,
    "start_time": "2022-04-12T05:09:47.325Z"
   },
   {
    "duration": 6,
    "start_time": "2022-04-12T05:09:47.334Z"
   },
   {
    "duration": 9,
    "start_time": "2022-04-12T05:09:47.342Z"
   },
   {
    "duration": 7,
    "start_time": "2022-04-12T05:09:47.353Z"
   },
   {
    "duration": 9,
    "start_time": "2022-04-12T05:09:47.392Z"
   },
   {
    "duration": 10,
    "start_time": "2022-04-12T05:09:47.403Z"
   },
   {
    "duration": 8,
    "start_time": "2022-04-12T05:09:47.415Z"
   },
   {
    "duration": 11,
    "start_time": "2022-04-12T05:09:47.425Z"
   },
   {
    "duration": 13,
    "start_time": "2022-04-12T05:09:47.438Z"
   },
   {
    "duration": 9,
    "start_time": "2022-04-12T05:09:47.456Z"
   },
   {
    "duration": 11,
    "start_time": "2022-04-12T05:09:47.494Z"
   },
   {
    "duration": 23,
    "start_time": "2022-04-12T05:09:47.507Z"
   },
   {
    "duration": 5,
    "start_time": "2022-04-12T05:09:47.532Z"
   },
   {
    "duration": 15,
    "start_time": "2022-04-12T05:09:47.539Z"
   },
   {
    "duration": 9,
    "start_time": "2022-04-12T05:09:47.594Z"
   },
   {
    "duration": 8,
    "start_time": "2022-04-12T05:09:47.605Z"
   },
   {
    "duration": 352,
    "start_time": "2022-04-12T05:09:47.615Z"
   },
   {
    "duration": 357,
    "start_time": "2022-04-12T05:09:47.970Z"
   },
   {
    "duration": 356,
    "start_time": "2022-04-12T05:09:48.329Z"
   },
   {
    "duration": 333,
    "start_time": "2022-04-12T05:09:48.687Z"
   },
   {
    "duration": 21,
    "start_time": "2022-04-12T05:09:49.022Z"
   },
   {
    "duration": 12,
    "start_time": "2022-04-12T05:09:49.045Z"
   },
   {
    "duration": 392,
    "start_time": "2022-04-12T05:09:49.060Z"
   },
   {
    "duration": 4,
    "start_time": "2022-04-12T05:09:49.455Z"
   },
   {
    "duration": 80,
    "start_time": "2022-04-12T05:09:49.461Z"
   },
   {
    "duration": 9,
    "start_time": "2022-04-12T05:09:49.544Z"
   },
   {
    "duration": 37,
    "start_time": "2022-04-12T05:09:49.555Z"
   },
   {
    "duration": 7,
    "start_time": "2022-04-12T05:09:49.595Z"
   },
   {
    "duration": 12,
    "start_time": "2022-04-12T05:09:49.604Z"
   },
   {
    "duration": 15,
    "start_time": "2022-04-12T05:09:49.618Z"
   },
   {
    "duration": 115,
    "start_time": "2022-04-12T05:09:49.635Z"
   },
   {
    "duration": 16713,
    "start_time": "2022-04-12T05:09:49.752Z"
   },
   {
    "duration": 5468,
    "start_time": "2022-04-12T05:10:06.467Z"
   },
   {
    "duration": 3191,
    "start_time": "2022-04-12T05:11:23.417Z"
   },
   {
    "duration": 472,
    "start_time": "2022-04-12T05:11:26.611Z"
   },
   {
    "duration": 9,
    "start_time": "2022-04-12T05:11:27.085Z"
   },
   {
    "duration": 18,
    "start_time": "2022-04-12T05:11:27.096Z"
   },
   {
    "duration": 5,
    "start_time": "2022-04-12T05:11:27.117Z"
   },
   {
    "duration": 11,
    "start_time": "2022-04-12T05:11:27.124Z"
   },
   {
    "duration": 7,
    "start_time": "2022-04-12T05:11:27.137Z"
   },
   {
    "duration": 11,
    "start_time": "2022-04-12T05:11:27.146Z"
   },
   {
    "duration": 12,
    "start_time": "2022-04-12T05:11:27.159Z"
   },
   {
    "duration": 7,
    "start_time": "2022-04-12T05:11:27.193Z"
   },
   {
    "duration": 9,
    "start_time": "2022-04-12T05:11:27.202Z"
   },
   {
    "duration": 8,
    "start_time": "2022-04-12T05:11:27.213Z"
   },
   {
    "duration": 7,
    "start_time": "2022-04-12T05:11:27.224Z"
   },
   {
    "duration": 7,
    "start_time": "2022-04-12T05:11:27.237Z"
   },
   {
    "duration": 54,
    "start_time": "2022-04-12T05:11:27.246Z"
   },
   {
    "duration": 21,
    "start_time": "2022-04-12T05:11:27.303Z"
   },
   {
    "duration": 6,
    "start_time": "2022-04-12T05:11:27.326Z"
   },
   {
    "duration": 14,
    "start_time": "2022-04-12T05:11:27.335Z"
   },
   {
    "duration": 47,
    "start_time": "2022-04-12T05:11:27.352Z"
   },
   {
    "duration": 13,
    "start_time": "2022-04-12T05:11:27.402Z"
   },
   {
    "duration": 347,
    "start_time": "2022-04-12T05:11:27.417Z"
   },
   {
    "duration": 350,
    "start_time": "2022-04-12T05:11:27.766Z"
   },
   {
    "duration": 346,
    "start_time": "2022-04-12T05:11:28.118Z"
   },
   {
    "duration": 326,
    "start_time": "2022-04-12T05:11:28.467Z"
   },
   {
    "duration": 22,
    "start_time": "2022-04-12T05:11:28.795Z"
   },
   {
    "duration": 14,
    "start_time": "2022-04-12T05:11:28.819Z"
   },
   {
    "duration": 378,
    "start_time": "2022-04-12T05:11:28.835Z"
   },
   {
    "duration": 5,
    "start_time": "2022-04-12T05:11:29.216Z"
   },
   {
    "duration": 86,
    "start_time": "2022-04-12T05:11:29.223Z"
   },
   {
    "duration": 12,
    "start_time": "2022-04-12T05:11:29.312Z"
   },
   {
    "duration": 14,
    "start_time": "2022-04-12T05:11:29.326Z"
   },
   {
    "duration": 9,
    "start_time": "2022-04-12T05:11:29.342Z"
   },
   {
    "duration": 11,
    "start_time": "2022-04-12T05:11:29.354Z"
   },
   {
    "duration": 35,
    "start_time": "2022-04-12T05:11:29.368Z"
   },
   {
    "duration": 100,
    "start_time": "2022-04-12T05:11:29.405Z"
   },
   {
    "duration": 56957,
    "start_time": "2022-04-12T05:11:29.508Z"
   },
   {
    "duration": 5409,
    "start_time": "2022-04-12T05:12:26.467Z"
   },
   {
    "duration": 4041,
    "start_time": "2022-04-12T12:27:02.673Z"
   },
   {
    "duration": 571,
    "start_time": "2022-04-12T12:27:06.718Z"
   },
   {
    "duration": 4,
    "start_time": "2022-04-12T12:27:07.292Z"
   },
   {
    "duration": 20,
    "start_time": "2022-04-12T12:27:07.299Z"
   },
   {
    "duration": 7,
    "start_time": "2022-04-12T12:27:07.323Z"
   },
   {
    "duration": 6,
    "start_time": "2022-04-12T12:27:07.333Z"
   },
   {
    "duration": 6,
    "start_time": "2022-04-12T12:27:07.342Z"
   },
   {
    "duration": 42,
    "start_time": "2022-04-12T12:27:07.350Z"
   },
   {
    "duration": 11,
    "start_time": "2022-04-12T12:27:07.396Z"
   },
   {
    "duration": 14,
    "start_time": "2022-04-12T12:27:07.424Z"
   },
   {
    "duration": 10,
    "start_time": "2022-04-12T12:27:07.441Z"
   },
   {
    "duration": 39,
    "start_time": "2022-04-12T12:27:07.454Z"
   },
   {
    "duration": 7,
    "start_time": "2022-04-12T12:27:07.497Z"
   },
   {
    "duration": 30,
    "start_time": "2022-04-12T12:27:07.507Z"
   },
   {
    "duration": 20,
    "start_time": "2022-04-12T12:27:07.540Z"
   },
   {
    "duration": 55,
    "start_time": "2022-04-12T12:27:07.563Z"
   },
   {
    "duration": 5,
    "start_time": "2022-04-12T12:27:07.621Z"
   },
   {
    "duration": 17,
    "start_time": "2022-04-12T12:27:07.629Z"
   },
   {
    "duration": 12,
    "start_time": "2022-04-12T12:27:07.649Z"
   },
   {
    "duration": 36,
    "start_time": "2022-04-12T12:27:07.664Z"
   },
   {
    "duration": 387,
    "start_time": "2022-04-12T12:27:07.703Z"
   },
   {
    "duration": 367,
    "start_time": "2022-04-12T12:27:08.093Z"
   },
   {
    "duration": 399,
    "start_time": "2022-04-12T12:27:08.462Z"
   },
   {
    "duration": 379,
    "start_time": "2022-04-12T12:27:08.863Z"
   },
   {
    "duration": 22,
    "start_time": "2022-04-12T12:27:09.244Z"
   },
   {
    "duration": 37,
    "start_time": "2022-04-12T12:27:09.268Z"
   },
   {
    "duration": 367,
    "start_time": "2022-04-12T12:27:09.309Z"
   },
   {
    "duration": 12,
    "start_time": "2022-04-12T12:27:09.682Z"
   },
   {
    "duration": 105,
    "start_time": "2022-04-12T12:27:09.697Z"
   },
   {
    "duration": 13,
    "start_time": "2022-04-12T12:27:09.805Z"
   },
   {
    "duration": 15,
    "start_time": "2022-04-12T12:27:09.822Z"
   },
   {
    "duration": 9,
    "start_time": "2022-04-12T12:27:09.840Z"
   },
   {
    "duration": 11,
    "start_time": "2022-04-12T12:27:09.852Z"
   },
   {
    "duration": 35,
    "start_time": "2022-04-12T12:27:09.866Z"
   },
   {
    "duration": 215,
    "start_time": "2022-04-12T12:27:09.904Z"
   },
   {
    "duration": 76303,
    "start_time": "2022-04-12T12:27:10.122Z"
   },
   {
    "duration": 633,
    "start_time": "2022-04-12T12:28:26.428Z"
   },
   {
    "duration": 2703,
    "start_time": "2022-04-12T12:31:28.422Z"
   },
   {
    "duration": 586,
    "start_time": "2022-04-12T12:31:31.128Z"
   },
   {
    "duration": 4,
    "start_time": "2022-04-12T12:31:31.716Z"
   },
   {
    "duration": 22,
    "start_time": "2022-04-12T12:31:31.722Z"
   },
   {
    "duration": 22,
    "start_time": "2022-04-12T12:31:31.748Z"
   },
   {
    "duration": 9,
    "start_time": "2022-04-12T12:31:31.772Z"
   },
   {
    "duration": 4,
    "start_time": "2022-04-12T12:31:31.792Z"
   },
   {
    "duration": 12,
    "start_time": "2022-04-12T12:31:31.798Z"
   },
   {
    "duration": 21,
    "start_time": "2022-04-12T12:31:31.812Z"
   },
   {
    "duration": 12,
    "start_time": "2022-04-12T12:31:31.835Z"
   },
   {
    "duration": 8,
    "start_time": "2022-04-12T12:31:31.850Z"
   },
   {
    "duration": 33,
    "start_time": "2022-04-12T12:31:31.861Z"
   },
   {
    "duration": 13,
    "start_time": "2022-04-12T12:31:31.897Z"
   },
   {
    "duration": 12,
    "start_time": "2022-04-12T12:31:31.915Z"
   },
   {
    "duration": 23,
    "start_time": "2022-04-12T12:31:31.930Z"
   },
   {
    "duration": 46,
    "start_time": "2022-04-12T12:31:31.955Z"
   },
   {
    "duration": 5,
    "start_time": "2022-04-12T12:31:32.003Z"
   },
   {
    "duration": 14,
    "start_time": "2022-04-12T12:31:32.011Z"
   },
   {
    "duration": 9,
    "start_time": "2022-04-12T12:31:32.027Z"
   },
   {
    "duration": 8,
    "start_time": "2022-04-12T12:31:32.039Z"
   },
   {
    "duration": 343,
    "start_time": "2022-04-12T12:31:32.093Z"
   },
   {
    "duration": 344,
    "start_time": "2022-04-12T12:31:32.439Z"
   },
   {
    "duration": 356,
    "start_time": "2022-04-12T12:31:32.792Z"
   },
   {
    "duration": 337,
    "start_time": "2022-04-12T12:31:33.150Z"
   },
   {
    "duration": 22,
    "start_time": "2022-04-12T12:31:33.493Z"
   },
   {
    "duration": 15,
    "start_time": "2022-04-12T12:31:33.517Z"
   },
   {
    "duration": 358,
    "start_time": "2022-04-12T12:31:33.535Z"
   },
   {
    "duration": 4,
    "start_time": "2022-04-12T12:31:33.895Z"
   },
   {
    "duration": 70,
    "start_time": "2022-04-12T12:31:33.902Z"
   },
   {
    "duration": 27,
    "start_time": "2022-04-12T12:31:33.974Z"
   },
   {
    "duration": 12,
    "start_time": "2022-04-12T12:31:34.003Z"
   },
   {
    "duration": 8,
    "start_time": "2022-04-12T12:31:34.017Z"
   },
   {
    "duration": 10,
    "start_time": "2022-04-12T12:31:34.029Z"
   },
   {
    "duration": 52,
    "start_time": "2022-04-12T12:31:34.042Z"
   },
   {
    "duration": 70,
    "start_time": "2022-04-12T12:31:34.096Z"
   },
   {
    "duration": 60064,
    "start_time": "2022-04-12T12:31:34.168Z"
   },
   {
    "duration": 496,
    "start_time": "2022-04-12T12:32:34.235Z"
   },
   {
    "duration": 503641,
    "start_time": "2022-04-12T12:32:34.733Z"
   },
   {
    "duration": 3528,
    "start_time": "2022-04-12T12:47:58.952Z"
   },
   {
    "duration": 704,
    "start_time": "2022-04-12T12:48:02.483Z"
   },
   {
    "duration": 5,
    "start_time": "2022-04-12T12:48:03.194Z"
   },
   {
    "duration": 24,
    "start_time": "2022-04-12T12:48:03.202Z"
   },
   {
    "duration": 7,
    "start_time": "2022-04-12T12:48:03.232Z"
   },
   {
    "duration": 13,
    "start_time": "2022-04-12T12:48:03.242Z"
   },
   {
    "duration": 44,
    "start_time": "2022-04-12T12:48:03.257Z"
   },
   {
    "duration": 39,
    "start_time": "2022-04-12T12:48:03.304Z"
   },
   {
    "duration": 8,
    "start_time": "2022-04-12T12:48:03.346Z"
   },
   {
    "duration": 46,
    "start_time": "2022-04-12T12:48:03.357Z"
   },
   {
    "duration": 13,
    "start_time": "2022-04-12T12:48:03.406Z"
   },
   {
    "duration": 10,
    "start_time": "2022-04-12T12:48:03.422Z"
   },
   {
    "duration": 467,
    "start_time": "2022-04-12T12:48:03.435Z"
   },
   {
    "duration": 467,
    "start_time": "2022-04-12T12:48:03.909Z"
   },
   {
    "duration": 363,
    "start_time": "2022-04-12T12:48:04.378Z"
   },
   {
    "duration": 483,
    "start_time": "2022-04-12T12:48:04.744Z"
   },
   {
    "duration": 29,
    "start_time": "2022-04-12T12:48:05.230Z"
   },
   {
    "duration": 38,
    "start_time": "2022-04-12T12:48:05.262Z"
   },
   {
    "duration": 581,
    "start_time": "2022-04-12T12:48:05.303Z"
   },
   {
    "duration": 5,
    "start_time": "2022-04-12T12:48:05.895Z"
   },
   {
    "duration": 97,
    "start_time": "2022-04-12T12:48:05.903Z"
   },
   {
    "duration": 11,
    "start_time": "2022-04-12T12:48:06.003Z"
   },
   {
    "duration": 13,
    "start_time": "2022-04-12T12:48:06.019Z"
   },
   {
    "duration": 10,
    "start_time": "2022-04-12T12:48:06.035Z"
   },
   {
    "duration": 20,
    "start_time": "2022-04-12T12:48:06.047Z"
   },
   {
    "duration": 35,
    "start_time": "2022-04-12T12:48:06.070Z"
   },
   {
    "duration": 110,
    "start_time": "2022-04-12T12:48:06.108Z"
   },
   {
    "duration": 71824,
    "start_time": "2022-04-12T12:48:06.221Z"
   },
   {
    "duration": 546,
    "start_time": "2022-04-12T12:49:18.048Z"
   },
   {
    "duration": 548763,
    "start_time": "2022-04-12T12:49:18.597Z"
   },
   {
    "duration": 10672,
    "start_time": "2022-04-12T12:58:27.364Z"
   },
   {
    "duration": 2258,
    "start_time": "2022-04-12T12:58:38.039Z"
   },
   {
    "duration": 3005,
    "start_time": "2022-04-12T13:09:59.856Z"
   },
   {
    "duration": 913,
    "start_time": "2022-04-12T14:04:28.957Z"
   },
   {
    "duration": 1065,
    "start_time": "2022-04-12T14:05:00.304Z"
   },
   {
    "duration": 3417,
    "start_time": "2022-04-12T14:07:36.226Z"
   },
   {
    "duration": 508,
    "start_time": "2022-04-12T14:07:39.646Z"
   },
   {
    "duration": 5,
    "start_time": "2022-04-12T14:07:40.157Z"
   },
   {
    "duration": 37,
    "start_time": "2022-04-12T14:07:40.166Z"
   },
   {
    "duration": 6,
    "start_time": "2022-04-12T14:07:40.206Z"
   },
   {
    "duration": 10,
    "start_time": "2022-04-12T14:07:40.214Z"
   },
   {
    "duration": 66,
    "start_time": "2022-04-12T14:07:40.227Z"
   },
   {
    "duration": 12,
    "start_time": "2022-04-12T14:07:40.296Z"
   },
   {
    "duration": 16,
    "start_time": "2022-04-12T14:07:40.310Z"
   },
   {
    "duration": 11,
    "start_time": "2022-04-12T14:07:40.331Z"
   },
   {
    "duration": 492,
    "start_time": "2022-04-12T14:07:40.345Z"
   },
   {
    "duration": 345,
    "start_time": "2022-04-12T14:07:40.839Z"
   },
   {
    "duration": 347,
    "start_time": "2022-04-12T14:07:41.186Z"
   },
   {
    "duration": 339,
    "start_time": "2022-04-12T14:07:41.535Z"
   },
   {
    "duration": 33,
    "start_time": "2022-04-12T14:07:41.877Z"
   },
   {
    "duration": 16,
    "start_time": "2022-04-12T14:07:41.913Z"
   },
   {
    "duration": 333,
    "start_time": "2022-04-12T14:07:41.932Z"
   },
   {
    "duration": 5,
    "start_time": "2022-04-12T14:07:42.268Z"
   },
   {
    "duration": 75,
    "start_time": "2022-04-12T14:07:42.292Z"
   },
   {
    "duration": 8,
    "start_time": "2022-04-12T14:07:42.369Z"
   },
   {
    "duration": 4,
    "start_time": "2022-04-12T14:07:42.392Z"
   },
   {
    "duration": 10,
    "start_time": "2022-04-12T14:07:42.398Z"
   },
   {
    "duration": 9,
    "start_time": "2022-04-12T14:07:42.411Z"
   },
   {
    "duration": 16,
    "start_time": "2022-04-12T14:07:42.422Z"
   },
   {
    "duration": 114,
    "start_time": "2022-04-12T14:07:42.440Z"
   },
   {
    "duration": 63608,
    "start_time": "2022-04-12T14:07:42.556Z"
   },
   {
    "duration": 491,
    "start_time": "2022-04-12T14:08:46.166Z"
   },
   {
    "duration": 443241,
    "start_time": "2022-04-12T14:08:46.662Z"
   },
   {
    "duration": 8536,
    "start_time": "2022-04-12T14:16:09.906Z"
   },
   {
    "duration": 1557,
    "start_time": "2022-04-12T14:16:18.444Z"
   },
   {
    "duration": 3343,
    "start_time": "2022-04-12T14:16:20.004Z"
   },
   {
    "duration": 2870,
    "start_time": "2022-04-13T06:04:03.437Z"
   },
   {
    "duration": 521,
    "start_time": "2022-04-13T06:04:06.310Z"
   },
   {
    "duration": 5,
    "start_time": "2022-04-13T06:04:06.834Z"
   },
   {
    "duration": 14,
    "start_time": "2022-04-13T06:04:06.843Z"
   },
   {
    "duration": 38,
    "start_time": "2022-04-13T06:04:06.859Z"
   },
   {
    "duration": 12,
    "start_time": "2022-04-13T06:04:06.899Z"
   },
   {
    "duration": 175,
    "start_time": "2022-04-13T06:04:06.914Z"
   },
   {
    "duration": 0,
    "start_time": "2022-04-13T06:04:07.094Z"
   },
   {
    "duration": 0,
    "start_time": "2022-04-13T06:04:07.096Z"
   },
   {
    "duration": 0,
    "start_time": "2022-04-13T06:04:07.098Z"
   },
   {
    "duration": 0,
    "start_time": "2022-04-13T06:04:07.100Z"
   },
   {
    "duration": 0,
    "start_time": "2022-04-13T06:04:07.103Z"
   },
   {
    "duration": 0,
    "start_time": "2022-04-13T06:04:07.105Z"
   },
   {
    "duration": 0,
    "start_time": "2022-04-13T06:04:07.107Z"
   },
   {
    "duration": 0,
    "start_time": "2022-04-13T06:04:07.109Z"
   },
   {
    "duration": 0,
    "start_time": "2022-04-13T06:04:07.111Z"
   },
   {
    "duration": 0,
    "start_time": "2022-04-13T06:04:07.113Z"
   },
   {
    "duration": 0,
    "start_time": "2022-04-13T06:04:07.117Z"
   },
   {
    "duration": 0,
    "start_time": "2022-04-13T06:04:07.119Z"
   },
   {
    "duration": 0,
    "start_time": "2022-04-13T06:04:07.121Z"
   },
   {
    "duration": 0,
    "start_time": "2022-04-13T06:04:07.123Z"
   },
   {
    "duration": 0,
    "start_time": "2022-04-13T06:04:07.126Z"
   },
   {
    "duration": 0,
    "start_time": "2022-04-13T06:04:07.128Z"
   },
   {
    "duration": 0,
    "start_time": "2022-04-13T06:04:07.130Z"
   },
   {
    "duration": 0,
    "start_time": "2022-04-13T06:04:07.132Z"
   },
   {
    "duration": 0,
    "start_time": "2022-04-13T06:04:07.194Z"
   },
   {
    "duration": 0,
    "start_time": "2022-04-13T06:04:07.196Z"
   },
   {
    "duration": 0,
    "start_time": "2022-04-13T06:04:07.198Z"
   },
   {
    "duration": 0,
    "start_time": "2022-04-13T06:04:07.200Z"
   },
   {
    "duration": 0,
    "start_time": "2022-04-13T06:04:07.203Z"
   },
   {
    "duration": 0,
    "start_time": "2022-04-13T06:04:07.205Z"
   },
   {
    "duration": 2644,
    "start_time": "2022-04-13T06:04:59.153Z"
   },
   {
    "duration": 483,
    "start_time": "2022-04-13T06:05:01.800Z"
   },
   {
    "duration": 5,
    "start_time": "2022-04-13T06:05:02.292Z"
   },
   {
    "duration": 19,
    "start_time": "2022-04-13T06:05:02.300Z"
   },
   {
    "duration": 6,
    "start_time": "2022-04-13T06:05:02.321Z"
   },
   {
    "duration": 11,
    "start_time": "2022-04-13T06:05:02.329Z"
   },
   {
    "duration": 29,
    "start_time": "2022-04-13T06:05:02.342Z"
   },
   {
    "duration": 15,
    "start_time": "2022-04-13T06:05:02.394Z"
   },
   {
    "duration": 9,
    "start_time": "2022-04-13T06:05:02.411Z"
   },
   {
    "duration": 9,
    "start_time": "2022-04-13T06:05:02.424Z"
   },
   {
    "duration": 7,
    "start_time": "2022-04-13T06:05:02.435Z"
   },
   {
    "duration": 354,
    "start_time": "2022-04-13T06:05:02.444Z"
   },
   {
    "duration": 313,
    "start_time": "2022-04-13T06:05:02.801Z"
   },
   {
    "duration": 336,
    "start_time": "2022-04-13T06:05:03.116Z"
   },
   {
    "duration": 307,
    "start_time": "2022-04-13T06:05:03.454Z"
   },
   {
    "duration": 33,
    "start_time": "2022-04-13T06:05:03.763Z"
   },
   {
    "duration": 13,
    "start_time": "2022-04-13T06:05:03.799Z"
   },
   {
    "duration": 321,
    "start_time": "2022-04-13T06:05:03.814Z"
   },
   {
    "duration": 5,
    "start_time": "2022-04-13T06:05:04.138Z"
   },
   {
    "duration": 182,
    "start_time": "2022-04-13T06:05:04.145Z"
   },
   {
    "duration": 0,
    "start_time": "2022-04-13T06:05:04.329Z"
   },
   {
    "duration": 0,
    "start_time": "2022-04-13T06:05:04.331Z"
   },
   {
    "duration": 0,
    "start_time": "2022-04-13T06:05:04.333Z"
   },
   {
    "duration": 1,
    "start_time": "2022-04-13T06:05:04.334Z"
   },
   {
    "duration": 0,
    "start_time": "2022-04-13T06:05:04.336Z"
   },
   {
    "duration": 0,
    "start_time": "2022-04-13T06:05:04.338Z"
   },
   {
    "duration": 0,
    "start_time": "2022-04-13T06:05:04.339Z"
   },
   {
    "duration": 0,
    "start_time": "2022-04-13T06:05:04.341Z"
   },
   {
    "duration": 0,
    "start_time": "2022-04-13T06:05:04.342Z"
   },
   {
    "duration": 0,
    "start_time": "2022-04-13T06:05:04.343Z"
   },
   {
    "duration": 0,
    "start_time": "2022-04-13T06:05:04.345Z"
   },
   {
    "duration": 2739,
    "start_time": "2022-04-13T06:41:58.688Z"
   },
   {
    "duration": 534,
    "start_time": "2022-04-13T06:42:01.430Z"
   },
   {
    "duration": 4,
    "start_time": "2022-04-13T06:42:01.966Z"
   },
   {
    "duration": 46,
    "start_time": "2022-04-13T06:42:01.972Z"
   },
   {
    "duration": 5,
    "start_time": "2022-04-13T06:42:02.022Z"
   },
   {
    "duration": 13,
    "start_time": "2022-04-13T06:42:02.030Z"
   },
   {
    "duration": 56,
    "start_time": "2022-04-13T06:42:02.046Z"
   },
   {
    "duration": 10,
    "start_time": "2022-04-13T06:42:02.104Z"
   },
   {
    "duration": 12,
    "start_time": "2022-04-13T06:42:02.116Z"
   },
   {
    "duration": 7,
    "start_time": "2022-04-13T06:42:02.130Z"
   },
   {
    "duration": 367,
    "start_time": "2022-04-13T06:42:02.139Z"
   },
   {
    "duration": 317,
    "start_time": "2022-04-13T06:42:02.508Z"
   },
   {
    "duration": 328,
    "start_time": "2022-04-13T06:42:02.827Z"
   },
   {
    "duration": 319,
    "start_time": "2022-04-13T06:42:03.159Z"
   },
   {
    "duration": 21,
    "start_time": "2022-04-13T06:42:03.480Z"
   },
   {
    "duration": 314,
    "start_time": "2022-04-13T06:42:03.503Z"
   },
   {
    "duration": 4,
    "start_time": "2022-04-13T06:42:03.819Z"
   },
   {
    "duration": 82,
    "start_time": "2022-04-13T06:42:03.825Z"
   },
   {
    "duration": 8,
    "start_time": "2022-04-13T06:42:03.910Z"
   },
   {
    "duration": 13,
    "start_time": "2022-04-13T06:42:03.920Z"
   },
   {
    "duration": 7,
    "start_time": "2022-04-13T06:42:03.935Z"
   },
   {
    "duration": 23,
    "start_time": "2022-04-13T06:42:03.944Z"
   },
   {
    "duration": 24,
    "start_time": "2022-04-13T06:42:03.969Z"
   },
   {
    "duration": 66,
    "start_time": "2022-04-13T06:42:03.995Z"
   },
   {
    "duration": 56039,
    "start_time": "2022-04-13T06:42:04.063Z"
   },
   {
    "duration": 482,
    "start_time": "2022-04-13T06:43:00.104Z"
   },
   {
    "duration": 440538,
    "start_time": "2022-04-13T06:43:00.588Z"
   },
   {
    "duration": 8024,
    "start_time": "2022-04-13T06:50:21.129Z"
   },
   {
    "duration": 1545,
    "start_time": "2022-04-13T06:50:29.156Z"
   },
   {
    "duration": 3046,
    "start_time": "2022-04-13T06:50:30.704Z"
   },
   {
    "duration": 15,
    "start_time": "2022-04-13T07:22:17.646Z"
   },
   {
    "duration": 11,
    "start_time": "2022-04-13T07:22:41.109Z"
   },
   {
    "duration": 2111,
    "start_time": "2022-04-13T13:05:28.605Z"
   },
   {
    "duration": 305,
    "start_time": "2022-04-13T13:05:30.719Z"
   },
   {
    "duration": 3,
    "start_time": "2022-04-13T13:05:31.026Z"
   },
   {
    "duration": 12,
    "start_time": "2022-04-13T13:05:31.030Z"
   },
   {
    "duration": 4,
    "start_time": "2022-04-13T13:05:31.045Z"
   },
   {
    "duration": 9,
    "start_time": "2022-04-13T13:05:31.051Z"
   },
   {
    "duration": 60,
    "start_time": "2022-04-13T13:05:31.061Z"
   },
   {
    "duration": 8,
    "start_time": "2022-04-13T13:05:31.123Z"
   },
   {
    "duration": 7,
    "start_time": "2022-04-13T13:05:31.133Z"
   },
   {
    "duration": 10,
    "start_time": "2022-04-13T13:05:31.141Z"
   },
   {
    "duration": 219,
    "start_time": "2022-04-13T13:05:31.152Z"
   },
   {
    "duration": 203,
    "start_time": "2022-04-13T13:05:31.373Z"
   },
   {
    "duration": 208,
    "start_time": "2022-04-13T13:05:31.578Z"
   },
   {
    "duration": 195,
    "start_time": "2022-04-13T13:05:31.789Z"
   },
   {
    "duration": 21,
    "start_time": "2022-04-13T13:05:31.986Z"
   },
   {
    "duration": 199,
    "start_time": "2022-04-13T13:05:32.009Z"
   },
   {
    "duration": 3,
    "start_time": "2022-04-13T13:05:32.210Z"
   },
   {
    "duration": 46,
    "start_time": "2022-04-13T13:05:32.214Z"
   },
   {
    "duration": 6,
    "start_time": "2022-04-13T13:05:32.261Z"
   },
   {
    "duration": 8,
    "start_time": "2022-04-13T13:05:32.268Z"
   },
   {
    "duration": 6,
    "start_time": "2022-04-13T13:05:32.277Z"
   },
   {
    "duration": 23,
    "start_time": "2022-04-13T13:05:32.284Z"
   },
   {
    "duration": 115,
    "start_time": "2022-04-13T13:05:32.308Z"
   },
   {
    "duration": 45014,
    "start_time": "2022-04-13T13:05:32.424Z"
   },
   {
    "duration": 373,
    "start_time": "2022-04-13T13:06:17.439Z"
   },
   {
    "duration": 351135,
    "start_time": "2022-04-13T13:06:17.814Z"
   },
   {
    "duration": 6529,
    "start_time": "2022-04-13T13:12:08.953Z"
   },
   {
    "duration": 1531,
    "start_time": "2022-04-13T13:12:15.484Z"
   },
   {
    "duration": 2500,
    "start_time": "2022-04-13T13:12:17.018Z"
   },
   {
    "duration": 173,
    "start_time": "2022-04-14T13:05:22.178Z"
   },
   {
    "duration": 4,
    "start_time": "2022-04-14T13:34:46.682Z"
   },
   {
    "duration": 46,
    "start_time": "2022-04-14T13:45:20.895Z"
   },
   {
    "duration": 2381,
    "start_time": "2022-04-14T13:45:31.873Z"
   },
   {
    "duration": 290,
    "start_time": "2022-04-14T13:45:34.256Z"
   },
   {
    "duration": 3,
    "start_time": "2022-04-14T13:45:34.547Z"
   },
   {
    "duration": 11,
    "start_time": "2022-04-14T13:45:34.551Z"
   },
   {
    "duration": 4,
    "start_time": "2022-04-14T13:45:34.564Z"
   },
   {
    "duration": 8,
    "start_time": "2022-04-14T13:45:34.569Z"
   },
   {
    "duration": 54,
    "start_time": "2022-04-14T13:45:34.579Z"
   },
   {
    "duration": 8,
    "start_time": "2022-04-14T13:45:34.635Z"
   },
   {
    "duration": 6,
    "start_time": "2022-04-14T13:45:34.645Z"
   },
   {
    "duration": 5,
    "start_time": "2022-04-14T13:45:34.653Z"
   },
   {
    "duration": 216,
    "start_time": "2022-04-14T13:45:34.659Z"
   },
   {
    "duration": 191,
    "start_time": "2022-04-14T13:45:34.876Z"
   },
   {
    "duration": 198,
    "start_time": "2022-04-14T13:45:35.069Z"
   },
   {
    "duration": 198,
    "start_time": "2022-04-14T13:45:35.270Z"
   },
   {
    "duration": 10,
    "start_time": "2022-04-14T13:45:35.469Z"
   },
   {
    "duration": 357,
    "start_time": "2022-04-14T13:45:35.480Z"
   },
   {
    "duration": 3,
    "start_time": "2022-04-14T13:45:35.839Z"
   },
   {
    "duration": 45,
    "start_time": "2022-04-14T13:45:35.844Z"
   },
   {
    "duration": 6,
    "start_time": "2022-04-14T13:45:35.891Z"
   },
   {
    "duration": 24,
    "start_time": "2022-04-14T13:45:35.898Z"
   },
   {
    "duration": 4,
    "start_time": "2022-04-14T13:45:35.924Z"
   },
   {
    "duration": 9,
    "start_time": "2022-04-14T13:45:35.930Z"
   },
   {
    "duration": 46095,
    "start_time": "2022-04-14T13:45:35.940Z"
   },
   {
    "duration": 401,
    "start_time": "2022-04-14T13:46:22.037Z"
   },
   {
    "duration": 364809,
    "start_time": "2022-04-14T13:46:22.440Z"
   },
   {
    "duration": 6659,
    "start_time": "2022-04-14T13:52:27.250Z"
   },
   {
    "duration": 1320,
    "start_time": "2022-04-14T13:52:33.910Z"
   },
   {
    "duration": 2485,
    "start_time": "2022-04-14T13:52:35.232Z"
   },
   {
    "duration": 110,
    "start_time": "2022-04-14T13:52:37.723Z"
   },
   {
    "duration": 2169,
    "start_time": "2022-04-14T14:01:34.220Z"
   },
   {
    "duration": 315,
    "start_time": "2022-04-14T14:01:36.391Z"
   },
   {
    "duration": 3,
    "start_time": "2022-04-14T14:01:36.707Z"
   },
   {
    "duration": 18,
    "start_time": "2022-04-14T14:01:36.712Z"
   },
   {
    "duration": 4,
    "start_time": "2022-04-14T14:01:36.732Z"
   },
   {
    "duration": 9,
    "start_time": "2022-04-14T14:01:36.738Z"
   },
   {
    "duration": 31,
    "start_time": "2022-04-14T14:01:36.748Z"
   },
   {
    "duration": 8,
    "start_time": "2022-04-14T14:01:36.780Z"
   },
   {
    "duration": 5,
    "start_time": "2022-04-14T14:01:36.789Z"
   },
   {
    "duration": 30,
    "start_time": "2022-04-14T14:01:36.796Z"
   },
   {
    "duration": 186,
    "start_time": "2022-04-14T14:01:36.835Z"
   },
   {
    "duration": 191,
    "start_time": "2022-04-14T14:01:37.023Z"
   },
   {
    "duration": 193,
    "start_time": "2022-04-14T14:01:37.216Z"
   },
   {
    "duration": 205,
    "start_time": "2022-04-14T14:01:37.411Z"
   },
   {
    "duration": 18,
    "start_time": "2022-04-14T14:01:37.618Z"
   },
   {
    "duration": 184,
    "start_time": "2022-04-14T14:01:37.638Z"
   },
   {
    "duration": 4,
    "start_time": "2022-04-14T14:01:37.826Z"
   },
   {
    "duration": 44,
    "start_time": "2022-04-14T14:01:37.832Z"
   },
   {
    "duration": 5,
    "start_time": "2022-04-14T14:01:37.878Z"
   },
   {
    "duration": 98,
    "start_time": "2022-04-14T14:01:37.885Z"
   },
   {
    "duration": 7,
    "start_time": "2022-04-14T14:01:37.985Z"
   },
   {
    "duration": 15,
    "start_time": "2022-04-14T14:01:37.993Z"
   },
   {
    "duration": 47672,
    "start_time": "2022-04-14T14:01:38.010Z"
   },
   {
    "duration": 197,
    "start_time": "2022-04-14T14:02:25.683Z"
   },
   {
    "duration": 0,
    "start_time": "2022-04-14T14:02:25.882Z"
   },
   {
    "duration": 0,
    "start_time": "2022-04-14T14:02:25.883Z"
   },
   {
    "duration": 0,
    "start_time": "2022-04-14T14:02:25.884Z"
   },
   {
    "duration": 0,
    "start_time": "2022-04-14T14:02:25.885Z"
   },
   {
    "duration": 0,
    "start_time": "2022-04-14T14:02:25.886Z"
   },
   {
    "duration": 2443,
    "start_time": "2022-04-14T14:08:30.095Z"
   },
   {
    "duration": 304,
    "start_time": "2022-04-14T14:08:32.540Z"
   },
   {
    "duration": 3,
    "start_time": "2022-04-14T14:08:32.845Z"
   },
   {
    "duration": 13,
    "start_time": "2022-04-14T14:08:32.850Z"
   },
   {
    "duration": 4,
    "start_time": "2022-04-14T14:08:32.864Z"
   },
   {
    "duration": 10,
    "start_time": "2022-04-14T14:08:32.870Z"
   },
   {
    "duration": 55,
    "start_time": "2022-04-14T14:08:32.881Z"
   },
   {
    "duration": 9,
    "start_time": "2022-04-14T14:08:32.938Z"
   },
   {
    "duration": 10,
    "start_time": "2022-04-14T14:08:32.949Z"
   },
   {
    "duration": 15,
    "start_time": "2022-04-14T14:08:32.961Z"
   },
   {
    "duration": 211,
    "start_time": "2022-04-14T14:08:32.978Z"
   },
   {
    "duration": 213,
    "start_time": "2022-04-14T14:08:33.191Z"
   },
   {
    "duration": 195,
    "start_time": "2022-04-14T14:08:33.406Z"
   },
   {
    "duration": 185,
    "start_time": "2022-04-14T14:08:33.604Z"
   },
   {
    "duration": 10,
    "start_time": "2022-04-14T14:08:33.790Z"
   },
   {
    "duration": 189,
    "start_time": "2022-04-14T14:08:33.802Z"
   },
   {
    "duration": 4,
    "start_time": "2022-04-14T14:08:33.993Z"
   },
   {
    "duration": 62,
    "start_time": "2022-04-14T14:08:33.999Z"
   },
   {
    "duration": 6,
    "start_time": "2022-04-14T14:08:34.063Z"
   },
   {
    "duration": 89,
    "start_time": "2022-04-14T14:08:34.071Z"
   },
   {
    "duration": 7,
    "start_time": "2022-04-14T14:08:34.162Z"
   },
   {
    "duration": 8,
    "start_time": "2022-04-14T14:08:34.171Z"
   },
   {
    "duration": 49905,
    "start_time": "2022-04-14T14:08:34.181Z"
   },
   {
    "duration": 401,
    "start_time": "2022-04-14T14:09:24.087Z"
   },
   {
    "duration": 360162,
    "start_time": "2022-04-14T14:09:24.490Z"
   },
   {
    "duration": 6619,
    "start_time": "2022-04-14T14:15:24.654Z"
   },
   {
    "duration": 1549,
    "start_time": "2022-04-14T14:15:31.275Z"
   },
   {
    "duration": 2416,
    "start_time": "2022-04-14T14:15:32.828Z"
   },
   {
    "duration": 120,
    "start_time": "2022-04-14T14:15:35.246Z"
   },
   {
    "duration": 2171,
    "start_time": "2022-04-14T14:31:48.886Z"
   },
   {
    "duration": 314,
    "start_time": "2022-04-14T14:31:51.059Z"
   },
   {
    "duration": 3,
    "start_time": "2022-04-14T14:31:51.375Z"
   },
   {
    "duration": 12,
    "start_time": "2022-04-14T14:31:51.379Z"
   },
   {
    "duration": 4,
    "start_time": "2022-04-14T14:31:51.393Z"
   },
   {
    "duration": 26,
    "start_time": "2022-04-14T14:31:51.398Z"
   },
   {
    "duration": 33,
    "start_time": "2022-04-14T14:31:51.425Z"
   },
   {
    "duration": 9,
    "start_time": "2022-04-14T14:31:51.460Z"
   },
   {
    "duration": 7,
    "start_time": "2022-04-14T14:31:51.471Z"
   },
   {
    "duration": 5,
    "start_time": "2022-04-14T14:31:51.480Z"
   },
   {
    "duration": 221,
    "start_time": "2022-04-14T14:31:51.487Z"
   },
   {
    "duration": 196,
    "start_time": "2022-04-14T14:31:51.710Z"
   },
   {
    "duration": 192,
    "start_time": "2022-04-14T14:31:51.907Z"
   },
   {
    "duration": 189,
    "start_time": "2022-04-14T14:31:52.103Z"
   },
   {
    "duration": 10,
    "start_time": "2022-04-14T14:31:52.294Z"
   },
   {
    "duration": 193,
    "start_time": "2022-04-14T14:31:52.306Z"
   },
   {
    "duration": 4,
    "start_time": "2022-04-14T14:31:52.501Z"
   },
   {
    "duration": 42,
    "start_time": "2022-04-14T14:31:52.522Z"
   },
   {
    "duration": 6,
    "start_time": "2022-04-14T14:31:52.566Z"
   },
   {
    "duration": 89,
    "start_time": "2022-04-14T14:31:52.574Z"
   },
   {
    "duration": 7,
    "start_time": "2022-04-14T14:31:52.665Z"
   },
   {
    "duration": 8,
    "start_time": "2022-04-14T14:31:52.674Z"
   },
   {
    "duration": 45708,
    "start_time": "2022-04-14T14:31:52.684Z"
   },
   {
    "duration": 369,
    "start_time": "2022-04-14T14:32:38.394Z"
   },
   {
    "duration": 352966,
    "start_time": "2022-04-14T14:32:38.765Z"
   },
   {
    "duration": 6496,
    "start_time": "2022-04-14T14:38:31.732Z"
   },
   {
    "duration": 1503,
    "start_time": "2022-04-14T14:38:38.230Z"
   },
   {
    "duration": 2434,
    "start_time": "2022-04-14T14:38:39.735Z"
   },
   {
    "duration": 110,
    "start_time": "2022-04-14T14:38:42.171Z"
   },
   {
    "duration": 6,
    "start_time": "2022-04-14T14:41:22.043Z"
   },
   {
    "duration": 5,
    "start_time": "2022-04-14T14:41:27.961Z"
   },
   {
    "duration": 8,
    "start_time": "2022-04-14T14:41:30.670Z"
   },
   {
    "duration": 45824,
    "start_time": "2022-04-14T14:41:31.964Z"
   },
   {
    "duration": 2026,
    "start_time": "2022-04-14T14:42:17.790Z"
   },
   {
    "duration": 2167,
    "start_time": "2022-04-14T14:46:55.122Z"
   },
   {
    "duration": 297,
    "start_time": "2022-04-14T14:46:57.291Z"
   },
   {
    "duration": 2,
    "start_time": "2022-04-14T14:46:57.590Z"
   },
   {
    "duration": 11,
    "start_time": "2022-04-14T14:46:57.594Z"
   },
   {
    "duration": 4,
    "start_time": "2022-04-14T14:46:57.606Z"
   },
   {
    "duration": 7,
    "start_time": "2022-04-14T14:46:57.622Z"
   },
   {
    "duration": 30,
    "start_time": "2022-04-14T14:46:57.630Z"
   },
   {
    "duration": 7,
    "start_time": "2022-04-14T14:46:57.661Z"
   },
   {
    "duration": 7,
    "start_time": "2022-04-14T14:46:57.670Z"
   },
   {
    "duration": 5,
    "start_time": "2022-04-14T14:46:57.680Z"
   },
   {
    "duration": 213,
    "start_time": "2022-04-14T14:46:57.686Z"
   },
   {
    "duration": 179,
    "start_time": "2022-04-14T14:46:57.901Z"
   },
   {
    "duration": 191,
    "start_time": "2022-04-14T14:46:58.081Z"
   },
   {
    "duration": 185,
    "start_time": "2022-04-14T14:46:58.273Z"
   },
   {
    "duration": 9,
    "start_time": "2022-04-14T14:46:58.459Z"
   },
   {
    "duration": 179,
    "start_time": "2022-04-14T14:46:58.469Z"
   },
   {
    "duration": 3,
    "start_time": "2022-04-14T14:46:58.650Z"
   },
   {
    "duration": 46,
    "start_time": "2022-04-14T14:46:58.654Z"
   },
   {
    "duration": 21,
    "start_time": "2022-04-14T14:46:58.702Z"
   },
   {
    "duration": 75,
    "start_time": "2022-04-14T14:46:58.724Z"
   },
   {
    "duration": 6,
    "start_time": "2022-04-14T14:46:58.801Z"
   },
   {
    "duration": 20,
    "start_time": "2022-04-14T14:46:58.808Z"
   },
   {
    "duration": 46344,
    "start_time": "2022-04-14T14:46:58.829Z"
   },
   {
    "duration": 391,
    "start_time": "2022-04-14T14:47:45.176Z"
   },
   {
    "duration": 353912,
    "start_time": "2022-04-14T14:47:45.570Z"
   },
   {
    "duration": 6623,
    "start_time": "2022-04-14T14:53:39.483Z"
   },
   {
    "duration": 1622,
    "start_time": "2022-04-14T14:53:46.108Z"
   },
   {
    "duration": 2441,
    "start_time": "2022-04-14T14:53:47.735Z"
   },
   {
    "duration": 114,
    "start_time": "2022-04-14T14:53:50.178Z"
   },
   {
    "duration": 4,
    "start_time": "2022-04-14T14:54:35.167Z"
   },
   {
    "duration": 2276,
    "start_time": "2022-04-14T14:55:19.450Z"
   },
   {
    "duration": 324,
    "start_time": "2022-04-14T14:55:21.728Z"
   },
   {
    "duration": 3,
    "start_time": "2022-04-14T14:55:22.055Z"
   },
   {
    "duration": 11,
    "start_time": "2022-04-14T14:55:22.061Z"
   },
   {
    "duration": 4,
    "start_time": "2022-04-14T14:55:22.074Z"
   },
   {
    "duration": 9,
    "start_time": "2022-04-14T14:55:22.080Z"
   },
   {
    "duration": 67,
    "start_time": "2022-04-14T14:55:22.091Z"
   },
   {
    "duration": 11,
    "start_time": "2022-04-14T14:55:22.160Z"
   },
   {
    "duration": 8,
    "start_time": "2022-04-14T14:55:22.173Z"
   },
   {
    "duration": 20,
    "start_time": "2022-04-14T14:55:22.185Z"
   },
   {
    "duration": 244,
    "start_time": "2022-04-14T14:55:22.207Z"
   },
   {
    "duration": 311,
    "start_time": "2022-04-14T14:55:22.453Z"
   },
   {
    "duration": 209,
    "start_time": "2022-04-14T14:55:22.765Z"
   },
   {
    "duration": 195,
    "start_time": "2022-04-14T14:55:22.976Z"
   },
   {
    "duration": 10,
    "start_time": "2022-04-14T14:55:23.172Z"
   },
   {
    "duration": 195,
    "start_time": "2022-04-14T14:55:23.183Z"
   },
   {
    "duration": 3,
    "start_time": "2022-04-14T14:55:23.380Z"
   },
   {
    "duration": 55,
    "start_time": "2022-04-14T14:55:23.385Z"
   },
   {
    "duration": 6,
    "start_time": "2022-04-14T14:55:23.442Z"
   },
   {
    "duration": 9,
    "start_time": "2022-04-14T14:55:23.451Z"
   },
   {
    "duration": 90,
    "start_time": "2022-04-14T14:55:23.462Z"
   },
   {
    "duration": 10,
    "start_time": "2022-04-14T14:55:23.554Z"
   },
   {
    "duration": 45096,
    "start_time": "2022-04-14T14:55:23.565Z"
   },
   {
    "duration": 368,
    "start_time": "2022-04-14T14:56:08.663Z"
   },
   {
    "duration": 358331,
    "start_time": "2022-04-14T14:56:09.032Z"
   },
   {
    "duration": 6572,
    "start_time": "2022-04-14T15:02:07.364Z"
   },
   {
    "duration": 1292,
    "start_time": "2022-04-14T15:02:13.938Z"
   },
   {
    "duration": 2712,
    "start_time": "2022-04-14T15:02:15.235Z"
   },
   {
    "duration": 114,
    "start_time": "2022-04-14T15:02:17.948Z"
   },
   {
    "duration": 2156,
    "start_time": "2022-04-14T15:03:58.176Z"
   },
   {
    "duration": 308,
    "start_time": "2022-04-14T15:04:00.334Z"
   },
   {
    "duration": 3,
    "start_time": "2022-04-14T15:04:00.644Z"
   },
   {
    "duration": 20,
    "start_time": "2022-04-14T15:04:00.648Z"
   },
   {
    "duration": 14,
    "start_time": "2022-04-14T15:04:00.670Z"
   },
   {
    "duration": 13,
    "start_time": "2022-04-14T15:04:00.686Z"
   },
   {
    "duration": 40,
    "start_time": "2022-04-14T15:04:00.700Z"
   },
   {
    "duration": 8,
    "start_time": "2022-04-14T15:04:00.742Z"
   },
   {
    "duration": 6,
    "start_time": "2022-04-14T15:04:00.752Z"
   },
   {
    "duration": 5,
    "start_time": "2022-04-14T15:04:00.760Z"
   },
   {
    "duration": 200,
    "start_time": "2022-04-14T15:04:00.767Z"
   },
   {
    "duration": 216,
    "start_time": "2022-04-14T15:04:00.968Z"
   },
   {
    "duration": 217,
    "start_time": "2022-04-14T15:04:01.185Z"
   },
   {
    "duration": 184,
    "start_time": "2022-04-14T15:04:01.405Z"
   },
   {
    "duration": 9,
    "start_time": "2022-04-14T15:04:01.590Z"
   },
   {
    "duration": 181,
    "start_time": "2022-04-14T15:04:01.600Z"
   },
   {
    "duration": 3,
    "start_time": "2022-04-14T15:04:01.783Z"
   },
   {
    "duration": 48,
    "start_time": "2022-04-14T15:04:01.787Z"
   },
   {
    "duration": 6,
    "start_time": "2022-04-14T15:04:01.836Z"
   },
   {
    "duration": 8,
    "start_time": "2022-04-14T15:04:01.843Z"
   },
   {
    "duration": 8,
    "start_time": "2022-04-14T15:04:01.852Z"
   },
   {
    "duration": 96,
    "start_time": "2022-04-14T15:04:01.862Z"
   },
   {
    "duration": 46488,
    "start_time": "2022-04-14T15:04:01.960Z"
   },
   {
    "duration": 363,
    "start_time": "2022-04-14T15:04:48.449Z"
   },
   {
    "duration": 353897,
    "start_time": "2022-04-14T15:04:48.814Z"
   },
   {
    "duration": 6595,
    "start_time": "2022-04-14T15:10:42.713Z"
   },
   {
    "duration": 1523,
    "start_time": "2022-04-14T15:10:49.310Z"
   },
   {
    "duration": 874,
    "start_time": "2022-04-14T15:10:50.836Z"
   },
   {
    "duration": 0,
    "start_time": "2022-04-14T15:10:51.712Z"
   },
   {
    "duration": 1637,
    "start_time": "2022-04-14T15:13:40.909Z"
   },
   {
    "duration": 11,
    "start_time": "2022-04-14T15:30:14.952Z"
   },
   {
    "duration": 11,
    "start_time": "2022-04-14T15:30:55.018Z"
   },
   {
    "duration": 2353,
    "start_time": "2022-04-14T16:27:32.997Z"
   },
   {
    "duration": 306,
    "start_time": "2022-04-14T16:27:35.353Z"
   },
   {
    "duration": 3,
    "start_time": "2022-04-14T16:27:35.660Z"
   },
   {
    "duration": 11,
    "start_time": "2022-04-14T16:27:35.665Z"
   },
   {
    "duration": 5,
    "start_time": "2022-04-14T16:27:35.678Z"
   },
   {
    "duration": 6,
    "start_time": "2022-04-14T16:27:35.684Z"
   },
   {
    "duration": 60,
    "start_time": "2022-04-14T16:27:35.691Z"
   },
   {
    "duration": 8,
    "start_time": "2022-04-14T16:27:35.753Z"
   },
   {
    "duration": 6,
    "start_time": "2022-04-14T16:27:35.762Z"
   },
   {
    "duration": 5,
    "start_time": "2022-04-14T16:27:35.769Z"
   },
   {
    "duration": 226,
    "start_time": "2022-04-14T16:27:35.775Z"
   },
   {
    "duration": 220,
    "start_time": "2022-04-14T16:27:36.003Z"
   },
   {
    "duration": 224,
    "start_time": "2022-04-14T16:27:36.226Z"
   },
   {
    "duration": 195,
    "start_time": "2022-04-14T16:27:36.452Z"
   },
   {
    "duration": 10,
    "start_time": "2022-04-14T16:27:36.649Z"
   },
   {
    "duration": 213,
    "start_time": "2022-04-14T16:27:36.661Z"
   },
   {
    "duration": 3,
    "start_time": "2022-04-14T16:27:36.876Z"
   },
   {
    "duration": 45,
    "start_time": "2022-04-14T16:27:36.880Z"
   },
   {
    "duration": 10,
    "start_time": "2022-04-14T16:27:36.928Z"
   },
   {
    "duration": 7,
    "start_time": "2022-04-14T16:27:36.940Z"
   },
   {
    "duration": 9,
    "start_time": "2022-04-14T16:27:36.948Z"
   },
   {
    "duration": 10,
    "start_time": "2022-04-14T16:27:36.958Z"
   },
   {
    "duration": 48398,
    "start_time": "2022-04-14T16:27:36.970Z"
   },
   {
    "duration": 400,
    "start_time": "2022-04-14T16:28:25.371Z"
   },
   {
    "duration": 373063,
    "start_time": "2022-04-14T16:28:25.773Z"
   },
   {
    "duration": 6636,
    "start_time": "2022-04-14T16:34:38.838Z"
   },
   {
    "duration": 1855,
    "start_time": "2022-04-14T16:34:45.475Z"
   },
   {
    "duration": 2085,
    "start_time": "2022-04-14T16:34:47.332Z"
   },
   {
    "duration": 0,
    "start_time": "2022-04-14T16:34:49.418Z"
   },
   {
    "duration": 1769,
    "start_time": "2022-04-14T16:36:29.532Z"
   },
   {
    "duration": 11,
    "start_time": "2022-04-14T16:36:34.216Z"
   }
  ],
  "kernelspec": {
   "display_name": "Python 3 (ipykernel)",
   "language": "python",
   "name": "python3"
  },
  "language_info": {
   "codemirror_mode": {
    "name": "ipython",
    "version": 3
   },
   "file_extension": ".py",
   "mimetype": "text/x-python",
   "name": "python",
   "nbconvert_exporter": "python",
   "pygments_lexer": "ipython3",
   "version": "3.9.7"
  },
  "toc": {
   "base_numbering": 1,
   "nav_menu": {},
   "number_sections": true,
   "sideBar": true,
   "skip_h1_title": true,
   "title_cell": "Содержание",
   "title_sidebar": "Contents",
   "toc_cell": true,
   "toc_position": {
    "height": "calc(100% - 180px)",
    "left": "10px",
    "top": "150px",
    "width": "165px"
   },
   "toc_section_display": true,
   "toc_window_display": true
  }
 },
 "nbformat": 4,
 "nbformat_minor": 2
}
