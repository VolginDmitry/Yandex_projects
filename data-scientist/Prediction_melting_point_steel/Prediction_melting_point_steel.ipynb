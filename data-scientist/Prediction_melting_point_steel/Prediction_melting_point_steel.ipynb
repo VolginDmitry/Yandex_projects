{
 "cells": [
  {
   "cell_type": "markdown",
   "id": "ca3fd0af",
   "metadata": {},
   "source": [
    "# **Промышленность — задача проекта**"
   ]
  },
  {
   "cell_type": "markdown",
   "id": "c1a56f8f",
   "metadata": {},
   "source": [
    "Чтобы оптимизировать производственные расходы, металлургический комбинат ООО «Так закаляем сталь» решил уменьшить потребление электроэнергии на этапе обработки стали. Нам предстоит построить модель, которая предскажет температуру стали."
   ]
  },
  {
   "cell_type": "markdown",
   "id": "985a1de6",
   "metadata": {},
   "source": [
    "Данные состоят из файлов, полученных из разных источников:\n",
    "\n",
    "- `data_arc.csv` — данные об электродах;\n",
    "- `data_bulk.csv` — данные о подаче сыпучих материалов (объём);\n",
    "- `data_bulk_time.csv` *—* данные о подаче сыпучих материалов (время);\n",
    "- `data_gas.csv` — данные о продувке сплава газом;\n",
    "- `data_temp.csv` — результаты измерения температуры;\n",
    "- `data_wire.csv` — данные о проволочных материалах (объём);\n",
    "- `data_wire_time.csv` — данные о проволочных материалах (время)."
   ]
  },
  {
   "cell_type": "markdown",
   "id": "b739451c",
   "metadata": {},
   "source": [
    "**Описание этапа обработки**"
   ]
  },
  {
   "cell_type": "markdown",
   "id": "5a43e1ff",
   "metadata": {},
   "source": [
    "Сталь обрабатывают в металлическом ковше вместимостью около 100 тонн. Чтобы ковш выдерживал высокие температуры, изнутри его облицовывают огнеупорным кирпичом. Расплавленную сталь заливают в ковш и подогревают до нужной температуры графитовыми электродами. Они установлены в крышке ковша. \n",
    "\n",
    "Из сплава выводится сера (десульфурация), добавлением примесей корректируется химический состав и отбираются пробы. Сталь легируют — изменяют её состав — подавая куски сплава из бункера для сыпучих материалов или проволоку через специальный трайб-аппарат (англ. tribe, «масса»).\n",
    "\n",
    "Перед тем как первый раз ввести легирующие добавки, измеряют температуру стали и производят её химический анализ. Потом температуру на несколько минут повышают, добавляют легирующие материалы и продувают сплав инертным газом. Затем его перемешивают и снова проводят измерения. Такой цикл повторяется до достижения целевого химического состава и оптимальной температуры плавки.\n",
    "\n",
    "Тогда расплавленная сталь отправляется на доводку металла или поступает в машину непрерывной разливки. Оттуда готовый продукт выходит в виде заготовок-слябов (англ. *slab*, «плита»)."
   ]
  },
  {
   "cell_type": "markdown",
   "id": "96842619",
   "metadata": {},
   "source": [
    "## Исследовательский анализ данных"
   ]
  },
  {
   "cell_type": "code",
   "execution_count": 10,
   "id": "276b8342",
   "metadata": {},
   "outputs": [],
   "source": [
    "# импортируем библиотеки\n",
    "import pandas as pd\n",
    "import sweetviz as sv\n",
    "import copy\n",
    "import matplotlib.pyplot as plt\n",
    "import plotly.express as px\n",
    "import seaborn as sns\n",
    "from sklearn.model_selection import train_test_split\n",
    "from sklearn.preprocessing import StandardScaler\n",
    "pd.options.mode.chained_assignment = None\n",
    "from sklearn.tree import DecisionTreeRegressor\n",
    "from sklearn.ensemble import RandomForestRegressor\n",
    "from sklearn.linear_model import LinearRegression\n",
    "from sklearn.model_selection import GridSearchCV\n",
    "import lightgbm as lgb\n",
    "from catboost import CatBoostRegressor, Pool\n",
    "from sklearn.metrics import mean_absolute_error\n",
    "from sklearn.model_selection import RandomizedSearchCV\n",
    "import plotly.io as pio\n",
    "pio.renderers.default='notebook'\n",
    "import warnings\n",
    "warnings.simplefilter('ignore')"
   ]
  },
  {
   "cell_type": "code",
   "execution_count": 4,
   "id": "be8af784",
   "metadata": {},
   "outputs": [],
   "source": [
    "# считываем данные\n",
    "try:\n",
    "    data_arc = pd.read_csv('/Users/dmitrijvolgin/Downloads/final_steel/data_arc.csv', \n",
    "                           parse_dates=['Начало нагрева дугой', 'Конец нагрева дугой'])\n",
    "    data_bulk = pd.read_csv('/Users/dmitrijvolgin/Downloads/final_steel/data_bulk.csv')\n",
    "    data_bulk_time = pd.read_csv('/Users/dmitrijvolgin/Downloads/final_steel/data_bulk_time.csv',\n",
    "                                parse_dates=['Bulk 1', 'Bulk 2', 'Bulk 3', 'Bulk 4', 'Bulk 5', 'Bulk 6',\n",
    "                               'Bulk 7', 'Bulk 8', 'Bulk 9', 'Bulk 10', 'Bulk 11', 'Bulk 12',\n",
    "                               'Bulk 13', 'Bulk 14', 'Bulk 15'])\n",
    "    data_gas = pd.read_csv('/Users/dmitrijvolgin/Downloads/final_steel/data_gas.csv')\n",
    "    data_temp = pd.read_csv('/Users/dmitrijvolgin/Downloads/final_steel/data_temp.csv')\n",
    "    data_wire = pd.read_csv('/Users/dmitrijvolgin/Downloads/final_steel/data_wire.csv')\n",
    "    data_wire_time = pd.read_csv('/Users/dmitrijvolgin/Downloads/final_steel/data_wire_time.csv', \n",
    "                                 parse_dates=['Wire 1', 'Wire 2', 'Wire 3', 'Wire 4', 'Wire 5', 'Wire 6',\n",
    "                                'Wire 7', 'Wire 8', 'Wire 9'])\n",
    "    \n",
    "except:\n",
    "    data_arc = pd.read_csv('/datasets/final_steel/data_arc.csv', \n",
    "                           parse_dates=['Начало нагрева дугой', 'Конец нагрева дугой'])\n",
    "    data_bulk = pd.read_csv('/datasets/final_steel/data_bulk.csv')\n",
    "    data_bulk_time = pd.read_csv('/datasets/final_steel/data_bulk_time.csv',\n",
    "                                parse_dates=['Bulk 1', 'Bulk 2', 'Bulk 3', 'Bulk 4', 'Bulk 5', 'Bulk 6',\n",
    "                               'Bulk 7', 'Bulk 8', 'Bulk 9', 'Bulk 10', 'Bulk 11', 'Bulk 12',\n",
    "                               'Bulk 13', 'Bulk 14', 'Bulk 15'])\n",
    "    data_gas = pd.read_csv('/datasets/final_steel/data_gas.csv')\n",
    "    data_temp = pd.read_csv('/datasets/final_steel/data_temp.csv')\n",
    "    data_wire = pd.read_csv('/datasets/final_steel/data_wire.csv')\n",
    "    data_wire_time = pd.read_csv('/datasets/final_steel/data_wire_time.csv', \n",
    "                                 parse_dates=['Wire 1', 'Wire 2', 'Wire 3', 'Wire 4', 'Wire 5', 'Wire 6',\n",
    "                                'Wire 7', 'Wire 8', 'Wire 9'])"
   ]
  },
  {
   "cell_type": "code",
   "execution_count": 6,
   "id": "8e2eee6a",
   "metadata": {},
   "outputs": [],
   "source": [
    "# функция для ознакомления с df\n",
    "def df_info(df):    \n",
    "    df.info()\n",
    "    display(df.head())\n",
    "    print(f'\\nКоличество пропусков:\\n\\n{df.isna().sum()}')\n",
    "    print(f'\\nКоличество дубликатов:\\n{df.duplicated().sum()}')\n",
    "    print(f'Описание данных:\\n{df.describe()}')\n",
    "    print(f'\\nКорреляция:\\n{df.corr()}')\n",
    "    "
   ]
  },
  {
   "cell_type": "markdown",
   "id": "9a4f582a",
   "metadata": {},
   "source": [
    "### Данные об электродах"
   ]
  },
  {
   "cell_type": "code",
   "execution_count": 7,
   "id": "cefbf3fe",
   "metadata": {
    "scrolled": true
   },
   "outputs": [
    {
     "name": "stdout",
     "output_type": "stream",
     "text": [
      "<class 'pandas.core.frame.DataFrame'>\n",
      "RangeIndex: 14876 entries, 0 to 14875\n",
      "Data columns (total 5 columns):\n",
      " #   Column                Non-Null Count  Dtype         \n",
      "---  ------                --------------  -----         \n",
      " 0   key                   14876 non-null  int64         \n",
      " 1   Начало нагрева дугой  14876 non-null  datetime64[ns]\n",
      " 2   Конец нагрева дугой   14876 non-null  datetime64[ns]\n",
      " 3   Активная мощность     14876 non-null  float64       \n",
      " 4   Реактивная мощность   14876 non-null  float64       \n",
      "dtypes: datetime64[ns](2), float64(2), int64(1)\n",
      "memory usage: 581.2 KB\n"
     ]
    },
    {
     "data": {
      "text/html": [
       "<div>\n",
       "<style scoped>\n",
       "    .dataframe tbody tr th:only-of-type {\n",
       "        vertical-align: middle;\n",
       "    }\n",
       "\n",
       "    .dataframe tbody tr th {\n",
       "        vertical-align: top;\n",
       "    }\n",
       "\n",
       "    .dataframe thead th {\n",
       "        text-align: right;\n",
       "    }\n",
       "</style>\n",
       "<table border=\"1\" class=\"dataframe\">\n",
       "  <thead>\n",
       "    <tr style=\"text-align: right;\">\n",
       "      <th></th>\n",
       "      <th>key</th>\n",
       "      <th>Начало нагрева дугой</th>\n",
       "      <th>Конец нагрева дугой</th>\n",
       "      <th>Активная мощность</th>\n",
       "      <th>Реактивная мощность</th>\n",
       "    </tr>\n",
       "  </thead>\n",
       "  <tbody>\n",
       "    <tr>\n",
       "      <th>0</th>\n",
       "      <td>1</td>\n",
       "      <td>2019-05-03 11:02:14</td>\n",
       "      <td>2019-05-03 11:06:02</td>\n",
       "      <td>0.976059</td>\n",
       "      <td>0.687084</td>\n",
       "    </tr>\n",
       "    <tr>\n",
       "      <th>1</th>\n",
       "      <td>1</td>\n",
       "      <td>2019-05-03 11:07:28</td>\n",
       "      <td>2019-05-03 11:10:33</td>\n",
       "      <td>0.805607</td>\n",
       "      <td>0.520285</td>\n",
       "    </tr>\n",
       "    <tr>\n",
       "      <th>2</th>\n",
       "      <td>1</td>\n",
       "      <td>2019-05-03 11:11:44</td>\n",
       "      <td>2019-05-03 11:14:36</td>\n",
       "      <td>0.744363</td>\n",
       "      <td>0.498805</td>\n",
       "    </tr>\n",
       "    <tr>\n",
       "      <th>3</th>\n",
       "      <td>1</td>\n",
       "      <td>2019-05-03 11:18:14</td>\n",
       "      <td>2019-05-03 11:24:19</td>\n",
       "      <td>1.659363</td>\n",
       "      <td>1.062669</td>\n",
       "    </tr>\n",
       "    <tr>\n",
       "      <th>4</th>\n",
       "      <td>1</td>\n",
       "      <td>2019-05-03 11:26:09</td>\n",
       "      <td>2019-05-03 11:28:37</td>\n",
       "      <td>0.692755</td>\n",
       "      <td>0.414397</td>\n",
       "    </tr>\n",
       "  </tbody>\n",
       "</table>\n",
       "</div>"
      ],
      "text/plain": [
       "   key Начало нагрева дугой Конец нагрева дугой  Активная мощность  \\\n",
       "0    1  2019-05-03 11:02:14 2019-05-03 11:06:02           0.976059   \n",
       "1    1  2019-05-03 11:07:28 2019-05-03 11:10:33           0.805607   \n",
       "2    1  2019-05-03 11:11:44 2019-05-03 11:14:36           0.744363   \n",
       "3    1  2019-05-03 11:18:14 2019-05-03 11:24:19           1.659363   \n",
       "4    1  2019-05-03 11:26:09 2019-05-03 11:28:37           0.692755   \n",
       "\n",
       "   Реактивная мощность  \n",
       "0             0.687084  \n",
       "1             0.520285  \n",
       "2             0.498805  \n",
       "3             1.062669  \n",
       "4             0.414397  "
      ]
     },
     "metadata": {},
     "output_type": "display_data"
    },
    {
     "name": "stdout",
     "output_type": "stream",
     "text": [
      "\n",
      "Количество пропусков:\n",
      "\n",
      "key                     0\n",
      "Начало нагрева дугой    0\n",
      "Конец нагрева дугой     0\n",
      "Активная мощность       0\n",
      "Реактивная мощность     0\n",
      "dtype: int64\n",
      "\n",
      "Количество дубликатов:\n",
      "0\n",
      "Описание данных:\n",
      "                key  Активная мощность  Реактивная мощность\n",
      "count  14876.000000       14876.000000         14876.000000\n",
      "mean    1615.220422           0.670441             0.452592\n",
      "std      934.571502           0.408159             5.878702\n",
      "min        1.000000           0.030002          -715.504924\n",
      "25%      806.000000           0.395297             0.290991\n",
      "50%     1617.000000           0.555517             0.415962\n",
      "75%     2429.000000           0.857034             0.637371\n",
      "max     3241.000000           3.731596             2.676388\n",
      "\n",
      "Корреляция:\n",
      "                          key  Активная мощность  Реактивная мощность\n",
      "key                  1.000000          -0.021382            -0.004396\n",
      "Активная мощность   -0.021382           1.000000             0.054437\n",
      "Реактивная мощность -0.004396           0.054437             1.000000\n"
     ]
    }
   ],
   "source": [
    "# проведем первичный осмотр df с помощью заранее подготовленной функциии\n",
    "df_info(data_arc)"
   ]
  },
  {
   "cell_type": "code",
   "execution_count": 11,
   "id": "5ad69486",
   "metadata": {},
   "outputs": [
    {
     "data": {
      "image/png": "[encoded data removed]",
      "text/plain": [
       "<Figure size 1440x720 with 2 Axes>"
      ]
     },
     "metadata": {
      "needs_background": "light"
     },
     "output_type": "display_data"
    }
   ],
   "source": [
    "# посмотрим на распределение количества иттераций для столбца key\n",
    "plt.figure(figsize=(20, 10))\n",
    "plt.subplot(2, 1, 1)\n",
    "data_arc.key.value_counts().hist(bins=100)\n",
    "plt.title('key', fontsize=15)\n",
    "plt.subplot(2, 1, 2)\n",
    "sns.boxplot(data_arc.key.value_counts())\n",
    "plt.show()"
   ]
  },
  {
   "cell_type": "code",
   "execution_count": 7,
   "id": "de1a8178",
   "metadata": {},
   "outputs": [
    {
     "data": {
      "text/plain": [
       "3214"
      ]
     },
     "execution_count": 7,
     "metadata": {},
     "output_type": "execute_result"
    }
   ],
   "source": [
    "# посмотрим количество уникальных значений в столбце key\n",
    "data_arc.key.nunique()"
   ]
  },
  {
   "cell_type": "code",
   "execution_count": 13,
   "id": "3c4fc6fd",
   "metadata": {
    "scrolled": true
   },
   "outputs": [
    {
     "data": {
      "image/png": "[encoded data removed]",
      "text/plain": [
       "<Figure size 1440x720 with 2 Axes>"
      ]
     },
     "metadata": {
      "needs_background": "light"
     },
     "output_type": "display_data"
    }
   ],
   "source": [
    "# построим гистограмму и boxplot для столбца \"Активная мощность\"\n",
    "plt.figure(figsize=(20, 10))\n",
    "plt.subplot(2, 1, 1)\n",
    "data_arc['Активная мощность'].hist(bins=100)\n",
    "plt.title('Активная мощность', fontsize=15)\n",
    "plt.subplot(2, 1, 2)\n",
    "sns.boxplot(data_arc['Активная мощность'])\n",
    "plt.show()"
   ]
  },
  {
   "cell_type": "code",
   "execution_count": 14,
   "id": "8451c27f",
   "metadata": {},
   "outputs": [
    {
     "data": {
      "image/png": "[encoded data removed]",
      "text/plain": [
       "<Figure size 1440x720 with 2 Axes>"
      ]
     },
     "metadata": {
      "needs_background": "light"
     },
     "output_type": "display_data"
    }
   ],
   "source": [
    "# построим гистограмму и boxplot для столбца \"Реактивная мощность\"\n",
    "plt.figure(figsize=(20, 10))\n",
    "plt.subplot(2, 1, 1)\n",
    "data_arc['Реактивная мощность'].hist(bins=100)\n",
    "plt.title('Реактивная мощность', fontsize=15)\n",
    "plt.subplot(2, 1, 2)\n",
    "sns.boxplot(data_arc['Реактивная мощность'])\n",
    "plt.show()"
   ]
  },
  {
   "cell_type": "markdown",
   "id": "36a793b9",
   "metadata": {},
   "source": [
    "#### Вывод"
   ]
  },
  {
   "cell_type": "markdown",
   "id": "aa603a2b",
   "metadata": {},
   "source": [
    "На входе имеем датафрейм состоящий из четеырех столбцов, без пропусков и дубликатов. Признаки между собой имеют слабую зависимость. \n",
    "\n",
    "Рассмотрев распределения значений столбцов можно сделать следующие выводы:\n",
    "\n",
    "* **\"Key\"** - содержит 3214 уникальных значений, которые из-за разного количества иттераций могут повторяться от 1 до 16 раз. Имеет нормальное распределение с пиком в 4 иттерации.\n",
    "\n",
    "\n",
    "* **\"Активная мощность\"** - видим распределение с перекосом в левую сторону и модой значений в пределах 0.44 - 0.46. Начиная со значений 1.5 - 2 видим хвост выбросов, особенно привлекает внимание значение 3.731596, которое с большим отрывом опережает блишайших конкурентов, но так как по информации заказчика, что все данные в датафрейме корректные мы не будем исключать выбросы.\n",
    "\n",
    "\n",
    "* **\"Реактивная мощность\"** - видим распределение с перекосом в левую сторону и модой значений в пределах 0.25 - 0.75, выбросов тут уже не так много, но есть отрицательные значения, чего быть не должно.\n",
    "\n",
    "Что нужно сделать в предобработке:\n",
    "\n",
    "1) Исключить отрицательные значения по столбцу \"Реактивная мощность\".\n",
    "\n",
    "2) Добавить новый признак общая можность, расчитанный по формуле $S=\\sqrt{P^2+Q^2}$, где: P — активная мощность,  Q — реактивная мощность.\n",
    "\n",
    "3) Добовить столбец с длительностью нагрева с помощью разницы столбцов с началом нагрева и концом нагрева.\n",
    "\n",
    "4) Сгруппировать датафрейм по значению key, в качестве агрегирующей функции использовать сумму, также добавить столбец с количеством иттераций для конкретного ключа.\n",
    "\n",
    "5) Проверить датафрейм на мультиколлинеарность и удалить лишние признаки.\n",
    "\n"
   ]
  },
  {
   "cell_type": "markdown",
   "id": "b6903148",
   "metadata": {},
   "source": [
    "### Данные о подаче сыпучих материалов (объём)"
   ]
  },
  {
   "cell_type": "code",
   "execution_count": 10,
   "id": "2f04d556",
   "metadata": {
    "scrolled": true
   },
   "outputs": [
    {
     "name": "stdout",
     "output_type": "stream",
     "text": [
      "<class 'pandas.core.frame.DataFrame'>\n",
      "RangeIndex: 3129 entries, 0 to 3128\n",
      "Data columns (total 16 columns):\n",
      " #   Column   Non-Null Count  Dtype  \n",
      "---  ------   --------------  -----  \n",
      " 0   key      3129 non-null   int64  \n",
      " 1   Bulk 1   252 non-null    float64\n",
      " 2   Bulk 2   22 non-null     float64\n",
      " 3   Bulk 3   1298 non-null   float64\n",
      " 4   Bulk 4   1014 non-null   float64\n",
      " 5   Bulk 5   77 non-null     float64\n",
      " 6   Bulk 6   576 non-null    float64\n",
      " 7   Bulk 7   25 non-null     float64\n",
      " 8   Bulk 8   1 non-null      float64\n",
      " 9   Bulk 9   19 non-null     float64\n",
      " 10  Bulk 10  176 non-null    float64\n",
      " 11  Bulk 11  177 non-null    float64\n",
      " 12  Bulk 12  2450 non-null   float64\n",
      " 13  Bulk 13  18 non-null     float64\n",
      " 14  Bulk 14  2806 non-null   float64\n",
      " 15  Bulk 15  2248 non-null   float64\n",
      "dtypes: float64(15), int64(1)\n",
      "memory usage: 391.2 KB\n"
     ]
    },
    {
     "data": {
      "text/html": [
       "<div>\n",
       "<style scoped>\n",
       "    .dataframe tbody tr th:only-of-type {\n",
       "        vertical-align: middle;\n",
       "    }\n",
       "\n",
       "    .dataframe tbody tr th {\n",
       "        vertical-align: top;\n",
       "    }\n",
       "\n",
       "    .dataframe thead th {\n",
       "        text-align: right;\n",
       "    }\n",
       "</style>\n",
       "<table border=\"1\" class=\"dataframe\">\n",
       "  <thead>\n",
       "    <tr style=\"text-align: right;\">\n",
       "      <th></th>\n",
       "      <th>key</th>\n",
       "      <th>Bulk 1</th>\n",
       "      <th>Bulk 2</th>\n",
       "      <th>Bulk 3</th>\n",
       "      <th>Bulk 4</th>\n",
       "      <th>Bulk 5</th>\n",
       "      <th>Bulk 6</th>\n",
       "      <th>Bulk 7</th>\n",
       "      <th>Bulk 8</th>\n",
       "      <th>Bulk 9</th>\n",
       "      <th>Bulk 10</th>\n",
       "      <th>Bulk 11</th>\n",
       "      <th>Bulk 12</th>\n",
       "      <th>Bulk 13</th>\n",
       "      <th>Bulk 14</th>\n",
       "      <th>Bulk 15</th>\n",
       "    </tr>\n",
       "  </thead>\n",
       "  <tbody>\n",
       "    <tr>\n",
       "      <th>0</th>\n",
       "      <td>1</td>\n",
       "      <td>NaN</td>\n",
       "      <td>NaN</td>\n",
       "      <td>NaN</td>\n",
       "      <td>43.0</td>\n",
       "      <td>NaN</td>\n",
       "      <td>NaN</td>\n",
       "      <td>NaN</td>\n",
       "      <td>NaN</td>\n",
       "      <td>NaN</td>\n",
       "      <td>NaN</td>\n",
       "      <td>NaN</td>\n",
       "      <td>206.0</td>\n",
       "      <td>NaN</td>\n",
       "      <td>150.0</td>\n",
       "      <td>154.0</td>\n",
       "    </tr>\n",
       "    <tr>\n",
       "      <th>1</th>\n",
       "      <td>2</td>\n",
       "      <td>NaN</td>\n",
       "      <td>NaN</td>\n",
       "      <td>NaN</td>\n",
       "      <td>73.0</td>\n",
       "      <td>NaN</td>\n",
       "      <td>NaN</td>\n",
       "      <td>NaN</td>\n",
       "      <td>NaN</td>\n",
       "      <td>NaN</td>\n",
       "      <td>NaN</td>\n",
       "      <td>NaN</td>\n",
       "      <td>206.0</td>\n",
       "      <td>NaN</td>\n",
       "      <td>149.0</td>\n",
       "      <td>154.0</td>\n",
       "    </tr>\n",
       "    <tr>\n",
       "      <th>2</th>\n",
       "      <td>3</td>\n",
       "      <td>NaN</td>\n",
       "      <td>NaN</td>\n",
       "      <td>NaN</td>\n",
       "      <td>34.0</td>\n",
       "      <td>NaN</td>\n",
       "      <td>NaN</td>\n",
       "      <td>NaN</td>\n",
       "      <td>NaN</td>\n",
       "      <td>NaN</td>\n",
       "      <td>NaN</td>\n",
       "      <td>NaN</td>\n",
       "      <td>205.0</td>\n",
       "      <td>NaN</td>\n",
       "      <td>152.0</td>\n",
       "      <td>153.0</td>\n",
       "    </tr>\n",
       "    <tr>\n",
       "      <th>3</th>\n",
       "      <td>4</td>\n",
       "      <td>NaN</td>\n",
       "      <td>NaN</td>\n",
       "      <td>NaN</td>\n",
       "      <td>81.0</td>\n",
       "      <td>NaN</td>\n",
       "      <td>NaN</td>\n",
       "      <td>NaN</td>\n",
       "      <td>NaN</td>\n",
       "      <td>NaN</td>\n",
       "      <td>NaN</td>\n",
       "      <td>NaN</td>\n",
       "      <td>207.0</td>\n",
       "      <td>NaN</td>\n",
       "      <td>153.0</td>\n",
       "      <td>154.0</td>\n",
       "    </tr>\n",
       "    <tr>\n",
       "      <th>4</th>\n",
       "      <td>5</td>\n",
       "      <td>NaN</td>\n",
       "      <td>NaN</td>\n",
       "      <td>NaN</td>\n",
       "      <td>78.0</td>\n",
       "      <td>NaN</td>\n",
       "      <td>NaN</td>\n",
       "      <td>NaN</td>\n",
       "      <td>NaN</td>\n",
       "      <td>NaN</td>\n",
       "      <td>NaN</td>\n",
       "      <td>NaN</td>\n",
       "      <td>203.0</td>\n",
       "      <td>NaN</td>\n",
       "      <td>151.0</td>\n",
       "      <td>152.0</td>\n",
       "    </tr>\n",
       "  </tbody>\n",
       "</table>\n",
       "</div>"
      ],
      "text/plain": [
       "   key  Bulk 1  Bulk 2  Bulk 3  Bulk 4  Bulk 5  Bulk 6  Bulk 7  Bulk 8  \\\n",
       "0    1     NaN     NaN     NaN    43.0     NaN     NaN     NaN     NaN   \n",
       "1    2     NaN     NaN     NaN    73.0     NaN     NaN     NaN     NaN   \n",
       "2    3     NaN     NaN     NaN    34.0     NaN     NaN     NaN     NaN   \n",
       "3    4     NaN     NaN     NaN    81.0     NaN     NaN     NaN     NaN   \n",
       "4    5     NaN     NaN     NaN    78.0     NaN     NaN     NaN     NaN   \n",
       "\n",
       "   Bulk 9  Bulk 10  Bulk 11  Bulk 12  Bulk 13  Bulk 14  Bulk 15  \n",
       "0     NaN      NaN      NaN    206.0      NaN    150.0    154.0  \n",
       "1     NaN      NaN      NaN    206.0      NaN    149.0    154.0  \n",
       "2     NaN      NaN      NaN    205.0      NaN    152.0    153.0  \n",
       "3     NaN      NaN      NaN    207.0      NaN    153.0    154.0  \n",
       "4     NaN      NaN      NaN    203.0      NaN    151.0    152.0  "
      ]
     },
     "metadata": {},
     "output_type": "display_data"
    },
    {
     "name": "stdout",
     "output_type": "stream",
     "text": [
      "\n",
      "Количество пропусков:\n",
      "\n",
      "key           0\n",
      "Bulk 1     2877\n",
      "Bulk 2     3107\n",
      "Bulk 3     1831\n",
      "Bulk 4     2115\n",
      "Bulk 5     3052\n",
      "Bulk 6     2553\n",
      "Bulk 7     3104\n",
      "Bulk 8     3128\n",
      "Bulk 9     3110\n",
      "Bulk 10    2953\n",
      "Bulk 11    2952\n",
      "Bulk 12     679\n",
      "Bulk 13    3111\n",
      "Bulk 14     323\n",
      "Bulk 15     881\n",
      "dtype: int64\n",
      "\n",
      "Количество дубликатов:\n",
      "0\n",
      "Описание данных:\n",
      "               key      Bulk 1      Bulk 2       Bulk 3       Bulk 4  \\\n",
      "count  3129.000000  252.000000   22.000000  1298.000000  1014.000000   \n",
      "mean   1624.383509   39.242063  253.045455   113.879045   104.394477   \n",
      "std     933.337642   18.277654   21.180578    75.483494    48.184126   \n",
      "min       1.000000   10.000000  228.000000     6.000000    12.000000   \n",
      "25%     816.000000   27.000000  242.000000    58.000000    72.000000   \n",
      "50%    1622.000000   31.000000  251.500000    97.500000   102.000000   \n",
      "75%    2431.000000   46.000000  257.750000   152.000000   133.000000   \n",
      "max    3241.000000  185.000000  325.000000   454.000000   281.000000   \n",
      "\n",
      "           Bulk 5      Bulk 6      Bulk 7  Bulk 8      Bulk 9     Bulk 10  \\\n",
      "count   77.000000  576.000000   25.000000     1.0   19.000000  176.000000   \n",
      "mean   107.025974  118.925347  305.600000    49.0   76.315789   83.284091   \n",
      "std     81.790646   72.057776  191.022904     NaN   21.720581   26.060347   \n",
      "min     11.000000   17.000000   47.000000    49.0   63.000000   24.000000   \n",
      "25%     70.000000   69.750000  155.000000    49.0   66.000000   64.000000   \n",
      "50%     86.000000  100.000000  298.000000    49.0   68.000000   86.500000   \n",
      "75%    132.000000  157.000000  406.000000    49.0   70.500000  102.000000   \n",
      "max    603.000000  503.000000  772.000000    49.0  147.000000  159.000000   \n",
      "\n",
      "          Bulk 11      Bulk 12     Bulk 13      Bulk 14      Bulk 15  \n",
      "count  177.000000  2450.000000   18.000000  2806.000000  2248.000000  \n",
      "mean    76.819209   260.471020  181.111111   170.284747   160.513345  \n",
      "std     59.655365   120.649269   46.088009    65.868652    51.765319  \n",
      "min      8.000000    53.000000  151.000000    16.000000     1.000000  \n",
      "25%     25.000000   204.000000  153.250000   119.000000   105.000000  \n",
      "50%     64.000000   208.000000  155.500000   151.000000   160.000000  \n",
      "75%    106.000000   316.000000  203.500000   205.750000   205.000000  \n",
      "max    313.000000  1849.000000  305.000000   636.000000   405.000000  \n",
      "\n",
      "Корреляция:\n",
      "              key    Bulk 1    Bulk 2    Bulk 3    Bulk 4    Bulk 5    Bulk 6  \\\n",
      "key      1.000000 -0.192066 -0.038643 -0.080335 -0.101955 -0.018074 -0.063539   \n",
      "Bulk 1  -0.192066  1.000000 -0.073762  0.016731 -0.040465 -0.368980  0.141745   \n",
      "Bulk 2  -0.038643 -0.073762  1.000000       NaN  0.393882  0.070350       NaN   \n",
      "Bulk 3  -0.080335  0.016731       NaN  1.000000 -0.260918  0.144410  0.253080   \n",
      "Bulk 4  -0.101955 -0.040465  0.393882 -0.260918  1.000000 -0.077214 -0.333841   \n",
      "Bulk 5  -0.018074 -0.368980  0.070350  0.144410 -0.077214  1.000000 -0.511112   \n",
      "Bulk 6  -0.063539  0.141745       NaN  0.253080 -0.333841 -0.511112  1.000000   \n",
      "Bulk 7  -0.049425 -0.086223 -0.010043       NaN  0.324940  0.304476       NaN   \n",
      "Bulk 8        NaN       NaN       NaN       NaN       NaN       NaN       NaN   \n",
      "Bulk 9   0.262741       NaN       NaN  0.072850  0.766565       NaN       NaN   \n",
      "Bulk 10  0.288135 -0.278055       NaN -0.244532 -0.516399       NaN       NaN   \n",
      "Bulk 11 -0.156748  0.461895       NaN  0.137997       NaN       NaN -0.104251   \n",
      "Bulk 12 -0.030981  0.370501       NaN  0.011648  0.051112  0.007650 -0.079822   \n",
      "Bulk 13  0.050304  1.000000       NaN -0.582598 -0.311659       NaN  0.844690   \n",
      "Bulk 14 -0.149840  0.409188       NaN  0.026257  0.022925 -0.256040  0.154429   \n",
      "Bulk 15 -0.169873 -0.119006       NaN -0.023689  0.041190 -0.248216 -0.038363   \n",
      "\n",
      "           Bulk 7  Bulk 8    Bulk 9   Bulk 10   Bulk 11   Bulk 12   Bulk 13  \\\n",
      "key     -0.049425     NaN  0.262741  0.288135 -0.156748 -0.030981  0.050304   \n",
      "Bulk 1  -0.086223     NaN       NaN -0.278055  0.461895  0.370501  1.000000   \n",
      "Bulk 2  -0.010043     NaN       NaN       NaN       NaN       NaN       NaN   \n",
      "Bulk 3        NaN     NaN  0.072850 -0.244532  0.137997  0.011648 -0.582598   \n",
      "Bulk 4   0.324940     NaN  0.766565 -0.516399       NaN  0.051112 -0.311659   \n",
      "Bulk 5   0.304476     NaN       NaN       NaN       NaN  0.007650       NaN   \n",
      "Bulk 6        NaN     NaN       NaN       NaN -0.104251 -0.079822  0.844690   \n",
      "Bulk 7   1.000000     NaN       NaN       NaN       NaN  0.538671       NaN   \n",
      "Bulk 8        NaN     NaN       NaN       NaN       NaN       NaN       NaN   \n",
      "Bulk 9        NaN     NaN  1.000000       NaN       NaN  0.946954       NaN   \n",
      "Bulk 10       NaN     NaN       NaN  1.000000       NaN -0.026418       NaN   \n",
      "Bulk 11       NaN     NaN       NaN       NaN  1.000000  0.050729       NaN   \n",
      "Bulk 12  0.538671     NaN  0.946954 -0.026418  0.050729  1.000000  0.695261   \n",
      "Bulk 13       NaN     NaN       NaN       NaN       NaN  0.695261  1.000000   \n",
      "Bulk 14  1.000000     NaN -0.479974 -0.248683 -0.039783  0.427247  0.365168   \n",
      "Bulk 15       NaN     NaN       NaN  0.076409  0.101309  0.418691  0.408845   \n",
      "\n",
      "          Bulk 14   Bulk 15  \n",
      "key     -0.149840 -0.169873  \n",
      "Bulk 1   0.409188 -0.119006  \n",
      "Bulk 2        NaN       NaN  \n",
      "Bulk 3   0.026257 -0.023689  \n",
      "Bulk 4   0.022925  0.041190  \n",
      "Bulk 5  -0.256040 -0.248216  \n",
      "Bulk 6   0.154429 -0.038363  \n",
      "Bulk 7   1.000000       NaN  \n",
      "Bulk 8        NaN       NaN  \n",
      "Bulk 9  -0.479974       NaN  \n",
      "Bulk 10 -0.248683  0.076409  \n",
      "Bulk 11 -0.039783  0.101309  \n",
      "Bulk 12  0.427247  0.418691  \n",
      "Bulk 13  0.365168  0.408845  \n",
      "Bulk 14  1.000000  0.099170  \n",
      "Bulk 15  0.099170  1.000000  \n"
     ]
    }
   ],
   "source": [
    "# проведем первичный осмотр df с помощью заранее подготовленной функциии\n",
    "df_info(data_bulk)"
   ]
  },
  {
   "cell_type": "code",
   "execution_count": 15,
   "id": "12b6fa41",
   "metadata": {
    "scrolled": true
   },
   "outputs": [
    {
     "data": {
      "image/png": "[encoded data removed]",
      "text/plain": [
       "<Figure size 1440x720 with 2 Axes>"
      ]
     },
     "metadata": {
      "needs_background": "light"
     },
     "output_type": "display_data"
    },
    {
     "data": {
      "image/png": "[encoded data removed]",
      "text/plain": [
       "<Figure size 1440x720 with 2 Axes>"
      ]
     },
     "metadata": {
      "needs_background": "light"
     },
     "output_type": "display_data"
    },
    {
     "data": {
      "image/png": "[encoded data removed]",
      "text/plain": [
       "<Figure size 1440x720 with 2 Axes>"
      ]
     },
     "metadata": {
      "needs_background": "light"
     },
     "output_type": "display_data"
    },
    {
     "data": {
      "image/png": "[encoded data removed]",
      "text/plain": [
       "<Figure size 1440x720 with 2 Axes>"
      ]
     },
     "metadata": {
      "needs_background": "light"
     },
     "output_type": "display_data"
    },
    {
     "data": {
      "image/png": "[encoded data removed]",
      "text/plain": [
       "<Figure size 1440x720 with 2 Axes>"
      ]
     },
     "metadata": {
      "needs_background": "light"
     },
     "output_type": "display_data"
    },
    {
     "data": {
      "image/png": "[encoded data removed]",
      "text/plain": [
       "<Figure size 1440x720 with 2 Axes>"
      ]
     },
     "metadata": {
      "needs_background": "light"
     },
     "output_type": "display_data"
    },
    {
     "data": {
      "image/png": "[encoded data removed]",
      "text/plain": [
       "<Figure size 1440x720 with 2 Axes>"
      ]
     },
     "metadata": {
      "needs_background": "light"
     },
     "output_type": "display_data"
    },
    {
     "data": {
      "image/png": "[encoded data removed]",
      "text/plain": [
       "<Figure size 1440x720 with 2 Axes>"
      ]
     },
     "metadata": {
      "needs_background": "light"
     },
     "output_type": "display_data"
    },
    {
     "data": {
      "image/png": "[encoded data removed]",
      "text/plain": [
       "<Figure size 1440x720 with 2 Axes>"
      ]
     },
     "metadata": {
      "needs_background": "light"
     },
     "output_type": "display_data"
    },
    {
     "data": {
      "image/png": "[encoded data removed]",
      "text/plain": [
       "<Figure size 1440x720 with 2 Axes>"
      ]
     },
     "metadata": {
      "needs_background": "light"
     },
     "output_type": "display_data"
    },
    {
     "data": {
      "image/png": "[encoded data removed]",
      "text/plain": [
       "<Figure size 1440x720 with 2 Axes>"
      ]
     },
     "metadata": {
      "needs_background": "light"
     },
     "output_type": "display_data"
    },
    {
     "data": {
      "image/png": "[encoded data removed]",
      "text/plain": [
       "<Figure size 1440x720 with 2 Axes>"
      ]
     },
     "metadata": {
      "needs_background": "light"
     },
     "output_type": "display_data"
    },
    {
     "data": {
      "image/png": "[encoded data removed]",
      "text/plain": [
       "<Figure size 1440x720 with 2 Axes>"
      ]
     },
     "metadata": {
      "needs_background": "light"
     },
     "output_type": "display_data"
    },
    {
     "data": {
      "image/png": "[encoded data removed]",
      "text/plain": [
       "<Figure size 1440x720 with 2 Axes>"
      ]
     },
     "metadata": {
      "needs_background": "light"
     },
     "output_type": "display_data"
    },
    {
     "data": {
      "image/png": "[encoded data removed]",
      "text/plain": [
       "<Figure size 1440x720 with 2 Axes>"
      ]
     },
     "metadata": {
      "needs_background": "light"
     },
     "output_type": "display_data"
    },
    {
     "data": {
      "image/png": "[encoded data removed]",
      "text/plain": [
       "<Figure size 1440x720 with 2 Axes>"
      ]
     },
     "metadata": {
      "needs_background": "light"
     },
     "output_type": "display_data"
    }
   ],
   "source": [
    "# посмотрим на распределения значений для столбцов исходного df\n",
    "for i in data_bulk.columns: \n",
    "    plt.figure(figsize=(20, 10))\n",
    "    plt.subplot(2, 1, 1)\n",
    "    data_bulk[i].hist(bins=100)\n",
    "    plt.title(i, fontsize=15)\n",
    "    plt.subplot(2, 1, 2)\n",
    "    sns.boxplot(data_bulk[i])\n",
    "    plt.show()"
   ]
  },
  {
   "cell_type": "code",
   "execution_count": 12,
   "id": "30a4f7ca",
   "metadata": {},
   "outputs": [
    {
     "data": {
      "text/plain": [
       "3129"
      ]
     },
     "execution_count": 12,
     "metadata": {},
     "output_type": "execute_result"
    }
   ],
   "source": [
    "#посмотрим количество уникальных значений в столбце key\n",
    "data_bulk.key.nunique()"
   ]
  },
  {
   "cell_type": "markdown",
   "id": "4d9db51c",
   "metadata": {},
   "source": [
    "#### Вывод"
   ]
  },
  {
   "cell_type": "markdown",
   "id": "3ce5ec25",
   "metadata": {},
   "source": [
    "На входе имеем датафрейм 16 столбцов, дубликатов нет, но очень много пропусков. Некоторые признаки имеют довольно высокую зависимость между собой - Bulk 9 и Bulk 12(0.946954), Bulk 6 и Bulk 13(0.844690). 3129 уникальных значений в столбце key, которые встречаются только по одному разу. В некоторых столбцах данные присутствуют для малого количества строк, мы можем это объснить спецификой производства, но столбец Bulk 8 имеет лишь одно значение, поэтому удалим его при подготовке выборок.\n",
    "\n",
    "Что нужно сделать в предобработке:\n",
    "\n",
    "1) ввиду специфики производства заполним пропуски 0.\n",
    "\n",
    "2) удалить один из признаков Bulk 9 и Bulk 12 ввиду высокой корреляции.\n",
    "\n",
    "3) удалить признак Bulk 8."
   ]
  },
  {
   "cell_type": "markdown",
   "id": "ae60e235",
   "metadata": {},
   "source": [
    "### Данные о подаче сыпучих материалов (время)"
   ]
  },
  {
   "cell_type": "code",
   "execution_count": 13,
   "id": "99e3e6ae",
   "metadata": {
    "scrolled": true
   },
   "outputs": [
    {
     "name": "stdout",
     "output_type": "stream",
     "text": [
      "<class 'pandas.core.frame.DataFrame'>\n",
      "RangeIndex: 3129 entries, 0 to 3128\n",
      "Data columns (total 16 columns):\n",
      " #   Column   Non-Null Count  Dtype         \n",
      "---  ------   --------------  -----         \n",
      " 0   key      3129 non-null   int64         \n",
      " 1   Bulk 1   252 non-null    datetime64[ns]\n",
      " 2   Bulk 2   22 non-null     datetime64[ns]\n",
      " 3   Bulk 3   1298 non-null   datetime64[ns]\n",
      " 4   Bulk 4   1014 non-null   datetime64[ns]\n",
      " 5   Bulk 5   77 non-null     datetime64[ns]\n",
      " 6   Bulk 6   576 non-null    datetime64[ns]\n",
      " 7   Bulk 7   25 non-null     datetime64[ns]\n",
      " 8   Bulk 8   1 non-null      datetime64[ns]\n",
      " 9   Bulk 9   19 non-null     datetime64[ns]\n",
      " 10  Bulk 10  176 non-null    datetime64[ns]\n",
      " 11  Bulk 11  177 non-null    datetime64[ns]\n",
      " 12  Bulk 12  2450 non-null   datetime64[ns]\n",
      " 13  Bulk 13  18 non-null     datetime64[ns]\n",
      " 14  Bulk 14  2806 non-null   datetime64[ns]\n",
      " 15  Bulk 15  2248 non-null   datetime64[ns]\n",
      "dtypes: datetime64[ns](15), int64(1)\n",
      "memory usage: 391.2 KB\n"
     ]
    },
    {
     "data": {
      "text/html": [
       "<div>\n",
       "<style scoped>\n",
       "    .dataframe tbody tr th:only-of-type {\n",
       "        vertical-align: middle;\n",
       "    }\n",
       "\n",
       "    .dataframe tbody tr th {\n",
       "        vertical-align: top;\n",
       "    }\n",
       "\n",
       "    .dataframe thead th {\n",
       "        text-align: right;\n",
       "    }\n",
       "</style>\n",
       "<table border=\"1\" class=\"dataframe\">\n",
       "  <thead>\n",
       "    <tr style=\"text-align: right;\">\n",
       "      <th></th>\n",
       "      <th>key</th>\n",
       "      <th>Bulk 1</th>\n",
       "      <th>Bulk 2</th>\n",
       "      <th>Bulk 3</th>\n",
       "      <th>Bulk 4</th>\n",
       "      <th>Bulk 5</th>\n",
       "      <th>Bulk 6</th>\n",
       "      <th>Bulk 7</th>\n",
       "      <th>Bulk 8</th>\n",
       "      <th>Bulk 9</th>\n",
       "      <th>Bulk 10</th>\n",
       "      <th>Bulk 11</th>\n",
       "      <th>Bulk 12</th>\n",
       "      <th>Bulk 13</th>\n",
       "      <th>Bulk 14</th>\n",
       "      <th>Bulk 15</th>\n",
       "    </tr>\n",
       "  </thead>\n",
       "  <tbody>\n",
       "    <tr>\n",
       "      <th>0</th>\n",
       "      <td>1</td>\n",
       "      <td>NaT</td>\n",
       "      <td>NaT</td>\n",
       "      <td>NaT</td>\n",
       "      <td>2019-05-03 11:21:30</td>\n",
       "      <td>NaT</td>\n",
       "      <td>NaT</td>\n",
       "      <td>NaT</td>\n",
       "      <td>NaT</td>\n",
       "      <td>NaT</td>\n",
       "      <td>NaT</td>\n",
       "      <td>NaT</td>\n",
       "      <td>2019-05-03 11:03:52</td>\n",
       "      <td>NaT</td>\n",
       "      <td>2019-05-03 11:03:52</td>\n",
       "      <td>2019-05-03 11:03:52</td>\n",
       "    </tr>\n",
       "    <tr>\n",
       "      <th>1</th>\n",
       "      <td>2</td>\n",
       "      <td>NaT</td>\n",
       "      <td>NaT</td>\n",
       "      <td>NaT</td>\n",
       "      <td>2019-05-03 11:46:38</td>\n",
       "      <td>NaT</td>\n",
       "      <td>NaT</td>\n",
       "      <td>NaT</td>\n",
       "      <td>NaT</td>\n",
       "      <td>NaT</td>\n",
       "      <td>NaT</td>\n",
       "      <td>NaT</td>\n",
       "      <td>2019-05-03 11:40:20</td>\n",
       "      <td>NaT</td>\n",
       "      <td>2019-05-03 11:40:20</td>\n",
       "      <td>2019-05-03 11:40:20</td>\n",
       "    </tr>\n",
       "    <tr>\n",
       "      <th>2</th>\n",
       "      <td>3</td>\n",
       "      <td>NaT</td>\n",
       "      <td>NaT</td>\n",
       "      <td>NaT</td>\n",
       "      <td>2019-05-03 12:31:06</td>\n",
       "      <td>NaT</td>\n",
       "      <td>NaT</td>\n",
       "      <td>NaT</td>\n",
       "      <td>NaT</td>\n",
       "      <td>NaT</td>\n",
       "      <td>NaT</td>\n",
       "      <td>NaT</td>\n",
       "      <td>2019-05-03 12:09:40</td>\n",
       "      <td>NaT</td>\n",
       "      <td>2019-05-03 12:09:40</td>\n",
       "      <td>2019-05-03 12:09:40</td>\n",
       "    </tr>\n",
       "    <tr>\n",
       "      <th>3</th>\n",
       "      <td>4</td>\n",
       "      <td>NaT</td>\n",
       "      <td>NaT</td>\n",
       "      <td>NaT</td>\n",
       "      <td>2019-05-03 12:48:43</td>\n",
       "      <td>NaT</td>\n",
       "      <td>NaT</td>\n",
       "      <td>NaT</td>\n",
       "      <td>NaT</td>\n",
       "      <td>NaT</td>\n",
       "      <td>NaT</td>\n",
       "      <td>NaT</td>\n",
       "      <td>2019-05-03 12:41:24</td>\n",
       "      <td>NaT</td>\n",
       "      <td>2019-05-03 12:41:24</td>\n",
       "      <td>2019-05-03 12:41:24</td>\n",
       "    </tr>\n",
       "    <tr>\n",
       "      <th>4</th>\n",
       "      <td>5</td>\n",
       "      <td>NaT</td>\n",
       "      <td>NaT</td>\n",
       "      <td>NaT</td>\n",
       "      <td>2019-05-03 13:18:50</td>\n",
       "      <td>NaT</td>\n",
       "      <td>NaT</td>\n",
       "      <td>NaT</td>\n",
       "      <td>NaT</td>\n",
       "      <td>NaT</td>\n",
       "      <td>NaT</td>\n",
       "      <td>NaT</td>\n",
       "      <td>2019-05-03 13:12:56</td>\n",
       "      <td>NaT</td>\n",
       "      <td>2019-05-03 13:12:56</td>\n",
       "      <td>2019-05-03 13:12:56</td>\n",
       "    </tr>\n",
       "  </tbody>\n",
       "</table>\n",
       "</div>"
      ],
      "text/plain": [
       "   key Bulk 1 Bulk 2 Bulk 3              Bulk 4 Bulk 5 Bulk 6 Bulk 7 Bulk 8  \\\n",
       "0    1    NaT    NaT    NaT 2019-05-03 11:21:30    NaT    NaT    NaT    NaT   \n",
       "1    2    NaT    NaT    NaT 2019-05-03 11:46:38    NaT    NaT    NaT    NaT   \n",
       "2    3    NaT    NaT    NaT 2019-05-03 12:31:06    NaT    NaT    NaT    NaT   \n",
       "3    4    NaT    NaT    NaT 2019-05-03 12:48:43    NaT    NaT    NaT    NaT   \n",
       "4    5    NaT    NaT    NaT 2019-05-03 13:18:50    NaT    NaT    NaT    NaT   \n",
       "\n",
       "  Bulk 9 Bulk 10 Bulk 11             Bulk 12 Bulk 13             Bulk 14  \\\n",
       "0    NaT     NaT     NaT 2019-05-03 11:03:52     NaT 2019-05-03 11:03:52   \n",
       "1    NaT     NaT     NaT 2019-05-03 11:40:20     NaT 2019-05-03 11:40:20   \n",
       "2    NaT     NaT     NaT 2019-05-03 12:09:40     NaT 2019-05-03 12:09:40   \n",
       "3    NaT     NaT     NaT 2019-05-03 12:41:24     NaT 2019-05-03 12:41:24   \n",
       "4    NaT     NaT     NaT 2019-05-03 13:12:56     NaT 2019-05-03 13:12:56   \n",
       "\n",
       "              Bulk 15  \n",
       "0 2019-05-03 11:03:52  \n",
       "1 2019-05-03 11:40:20  \n",
       "2 2019-05-03 12:09:40  \n",
       "3 2019-05-03 12:41:24  \n",
       "4 2019-05-03 13:12:56  "
      ]
     },
     "metadata": {},
     "output_type": "display_data"
    },
    {
     "name": "stdout",
     "output_type": "stream",
     "text": [
      "\n",
      "Количество пропусков:\n",
      "\n",
      "key           0\n",
      "Bulk 1     2877\n",
      "Bulk 2     3107\n",
      "Bulk 3     1831\n",
      "Bulk 4     2115\n",
      "Bulk 5     3052\n",
      "Bulk 6     2553\n",
      "Bulk 7     3104\n",
      "Bulk 8     3128\n",
      "Bulk 9     3110\n",
      "Bulk 10    2953\n",
      "Bulk 11    2952\n",
      "Bulk 12     679\n",
      "Bulk 13    3111\n",
      "Bulk 14     323\n",
      "Bulk 15     881\n",
      "dtype: int64\n",
      "\n",
      "Количество дубликатов:\n",
      "0\n",
      "Описание данных:\n",
      "               key\n",
      "count  3129.000000\n",
      "mean   1624.383509\n",
      "std     933.337642\n",
      "min       1.000000\n",
      "25%     816.000000\n",
      "50%    1622.000000\n",
      "75%    2431.000000\n",
      "max    3241.000000\n",
      "\n",
      "Корреляция:\n",
      "     key\n",
      "key  1.0\n"
     ]
    }
   ],
   "source": [
    "# проведем первичный осмотр df с помощью заранее подготовленной функциии\n",
    "df_info(data_bulk_time)\n"
   ]
  },
  {
   "cell_type": "code",
   "execution_count": 14,
   "id": "601c8774",
   "metadata": {
    "scrolled": true
   },
   "outputs": [
    {
     "name": "stdout",
     "output_type": "stream",
     "text": [
      "key\n",
      "\n",
      "1\n",
      "3241\n",
      "######################\n",
      "\n",
      "Bulk 1\n",
      "\n",
      "2019-05-03 17:50:19\n",
      "2019-08-30 23:01:32\n",
      "######################\n",
      "\n",
      "Bulk 2\n",
      "\n",
      "2019-05-07 08:36:19\n",
      "2019-08-08 17:34:38\n",
      "######################\n",
      "\n",
      "Bulk 3\n",
      "\n",
      "2019-05-03 20:13:36\n",
      "2019-08-31 23:39:11\n",
      "######################\n",
      "\n",
      "Bulk 4\n",
      "\n",
      "2019-05-03 11:21:30\n",
      "2019-08-30 17:36:30\n",
      "######################\n",
      "\n",
      "Bulk 5\n",
      "\n",
      "2019-05-07 08:36:19\n",
      "2019-08-28 09:01:08\n",
      "######################\n",
      "\n",
      "Bulk 6\n",
      "\n",
      "2019-05-03 18:52:57\n",
      "2019-09-01 03:12:40\n",
      "######################\n",
      "\n",
      "Bulk 7\n",
      "\n",
      "2019-05-07 11:37:42\n",
      "2019-08-31 07:22:25\n",
      "######################\n",
      "\n",
      "Bulk 8\n",
      "\n",
      "2019-07-05 17:46:11\n",
      "2019-07-05 17:46:11\n",
      "######################\n",
      "\n",
      "Bulk 9\n",
      "\n",
      "2019-05-14 00:04:56\n",
      "2019-08-11 15:09:33\n",
      "######################\n",
      "\n",
      "Bulk 10\n",
      "\n",
      "2019-05-06 01:36:24\n",
      "2019-08-30 01:30:42\n",
      "######################\n",
      "\n",
      "Bulk 11\n",
      "\n",
      "2019-05-05 16:45:05\n",
      "2019-08-31 16:00:49\n",
      "######################\n",
      "\n",
      "Bulk 12\n",
      "\n",
      "2019-05-03 11:03:52\n",
      "2019-09-01 01:39:41\n",
      "######################\n",
      "\n",
      "Bulk 13\n",
      "\n",
      "2019-05-05 00:39:35\n",
      "2019-08-26 20:31:16\n",
      "######################\n",
      "\n",
      "Bulk 14\n",
      "\n",
      "2019-05-03 11:03:52\n",
      "2019-09-01 04:05:34\n",
      "######################\n",
      "\n",
      "Bulk 15\n",
      "\n",
      "2019-05-03 11:03:52\n",
      "2019-09-01 04:05:34\n",
      "######################\n",
      "\n"
     ]
    }
   ],
   "source": [
    "# рассмотрим минимальное и максимальное значение каждой колонки df на предмет поиска аномалий \n",
    "for i in data_bulk_time.columns:\n",
    "    print(i)\n",
    "    print()\n",
    "    print(data_bulk_time[i].min())\n",
    "    print(data_bulk_time[i].max())\n",
    "    print('######################')\n",
    "    print()"
   ]
  },
  {
   "cell_type": "markdown",
   "id": "6d10bdb1",
   "metadata": {},
   "source": [
    "#### Вывод"
   ]
  },
  {
   "cell_type": "markdown",
   "id": "30c554dd",
   "metadata": {},
   "source": [
    "Датафрейм очень похож на предыдущий, только в качестве значений у нас выступают дата и время, количество пропусков совпадает, дубликатов нет. Аномальных значений даты нет. Ввиду того, что мы не работаем с временными рядами данные признаки для нас не интересны."
   ]
  },
  {
   "cell_type": "markdown",
   "id": "47d728d6",
   "metadata": {},
   "source": [
    "### Данные о продувке сплава газом"
   ]
  },
  {
   "cell_type": "code",
   "execution_count": 15,
   "id": "713c84d2",
   "metadata": {
    "scrolled": true
   },
   "outputs": [
    {
     "name": "stdout",
     "output_type": "stream",
     "text": [
      "<class 'pandas.core.frame.DataFrame'>\n",
      "RangeIndex: 3239 entries, 0 to 3238\n",
      "Data columns (total 2 columns):\n",
      " #   Column  Non-Null Count  Dtype  \n",
      "---  ------  --------------  -----  \n",
      " 0   key     3239 non-null   int64  \n",
      " 1   Газ 1   3239 non-null   float64\n",
      "dtypes: float64(1), int64(1)\n",
      "memory usage: 50.7 KB\n"
     ]
    },
    {
     "data": {
      "text/html": [
       "<div>\n",
       "<style scoped>\n",
       "    .dataframe tbody tr th:only-of-type {\n",
       "        vertical-align: middle;\n",
       "    }\n",
       "\n",
       "    .dataframe tbody tr th {\n",
       "        vertical-align: top;\n",
       "    }\n",
       "\n",
       "    .dataframe thead th {\n",
       "        text-align: right;\n",
       "    }\n",
       "</style>\n",
       "<table border=\"1\" class=\"dataframe\">\n",
       "  <thead>\n",
       "    <tr style=\"text-align: right;\">\n",
       "      <th></th>\n",
       "      <th>key</th>\n",
       "      <th>Газ 1</th>\n",
       "    </tr>\n",
       "  </thead>\n",
       "  <tbody>\n",
       "    <tr>\n",
       "      <th>0</th>\n",
       "      <td>1</td>\n",
       "      <td>29.749986</td>\n",
       "    </tr>\n",
       "    <tr>\n",
       "      <th>1</th>\n",
       "      <td>2</td>\n",
       "      <td>12.555561</td>\n",
       "    </tr>\n",
       "    <tr>\n",
       "      <th>2</th>\n",
       "      <td>3</td>\n",
       "      <td>28.554793</td>\n",
       "    </tr>\n",
       "    <tr>\n",
       "      <th>3</th>\n",
       "      <td>4</td>\n",
       "      <td>18.841219</td>\n",
       "    </tr>\n",
       "    <tr>\n",
       "      <th>4</th>\n",
       "      <td>5</td>\n",
       "      <td>5.413692</td>\n",
       "    </tr>\n",
       "  </tbody>\n",
       "</table>\n",
       "</div>"
      ],
      "text/plain": [
       "   key      Газ 1\n",
       "0    1  29.749986\n",
       "1    2  12.555561\n",
       "2    3  28.554793\n",
       "3    4  18.841219\n",
       "4    5   5.413692"
      ]
     },
     "metadata": {},
     "output_type": "display_data"
    },
    {
     "name": "stdout",
     "output_type": "stream",
     "text": [
      "\n",
      "Количество пропусков:\n",
      "\n",
      "key      0\n",
      "Газ 1    0\n",
      "dtype: int64\n",
      "\n",
      "Количество дубликатов:\n",
      "0\n",
      "Описание данных:\n",
      "               key        Газ 1\n",
      "count  3239.000000  3239.000000\n",
      "mean   1621.861377    11.002062\n",
      "std     935.386334     6.220327\n",
      "min       1.000000     0.008399\n",
      "25%     812.500000     7.043089\n",
      "50%    1622.000000     9.836267\n",
      "75%    2431.500000    13.769915\n",
      "max    3241.000000    77.995040\n",
      "\n",
      "Корреляция:\n",
      "            key     Газ 1\n",
      "key    1.000000 -0.040655\n",
      "Газ 1 -0.040655  1.000000\n"
     ]
    }
   ],
   "source": [
    "# проведем первичный осмотр df с помощью заранее подготовленной функциии\n",
    "df_info(data_gas)"
   ]
  },
  {
   "cell_type": "code",
   "execution_count": 16,
   "id": "c495bed9",
   "metadata": {},
   "outputs": [
    {
     "data": {
      "image/png": "[encoded data removed]",
      "text/plain": [
       "<Figure size 1440x720 with 2 Axes>"
      ]
     },
     "metadata": {
      "needs_background": "light"
     },
     "output_type": "display_data"
    }
   ],
   "source": [
    "# посмотрим на распределения значений для столбцов исходного df\n",
    "\n",
    "plt.figure(figsize=(20, 10))\n",
    "plt.subplot(2, 1, 1)\n",
    "data_gas['Газ 1'].hist(bins=100)\n",
    "plt.title('Газ 1', fontsize=15)\n",
    "plt.subplot(2, 1, 2)\n",
    "sns.boxplot(data_gas['Газ 1'])\n",
    "plt.show()"
   ]
  },
  {
   "cell_type": "code",
   "execution_count": 17,
   "id": "447da3f7",
   "metadata": {},
   "outputs": [
    {
     "data": {
      "text/plain": [
       "3239"
      ]
     },
     "execution_count": 17,
     "metadata": {},
     "output_type": "execute_result"
    }
   ],
   "source": [
    "#посмотрим количество уникальных значений в столбце key\n",
    "data_gas['Газ 1'].nunique()"
   ]
  },
  {
   "cell_type": "markdown",
   "id": "55ec79ac",
   "metadata": {},
   "source": [
    "#### Вывод"
   ]
  },
  {
   "cell_type": "markdown",
   "id": "c1324c52",
   "metadata": {},
   "source": [
    "На входе имеем датафрейм состоящий из двух столбцов, пропусков и дубликатов нет. Распределение близкое к нормальному, с хвостом выбросов в правую сторону. Здесь также наблюдаем несколько аномально больших значений объемов газа(относительно всего df), но их мы также считаем особенностями технического процесса, поэтому убирать их из выборки не будем."
   ]
  },
  {
   "cell_type": "markdown",
   "id": "0e6dbbb3",
   "metadata": {},
   "source": [
    "### Данные о проволочных материалах (объём)"
   ]
  },
  {
   "cell_type": "code",
   "execution_count": 18,
   "id": "41047160",
   "metadata": {
    "scrolled": true
   },
   "outputs": [
    {
     "name": "stdout",
     "output_type": "stream",
     "text": [
      "<class 'pandas.core.frame.DataFrame'>\n",
      "RangeIndex: 3081 entries, 0 to 3080\n",
      "Data columns (total 10 columns):\n",
      " #   Column  Non-Null Count  Dtype  \n",
      "---  ------  --------------  -----  \n",
      " 0   key     3081 non-null   int64  \n",
      " 1   Wire 1  3055 non-null   float64\n",
      " 2   Wire 2  1079 non-null   float64\n",
      " 3   Wire 3  63 non-null     float64\n",
      " 4   Wire 4  14 non-null     float64\n",
      " 5   Wire 5  1 non-null      float64\n",
      " 6   Wire 6  73 non-null     float64\n",
      " 7   Wire 7  11 non-null     float64\n",
      " 8   Wire 8  19 non-null     float64\n",
      " 9   Wire 9  29 non-null     float64\n",
      "dtypes: float64(9), int64(1)\n",
      "memory usage: 240.8 KB\n"
     ]
    },
    {
     "data": {
      "text/html": [
       "<div>\n",
       "<style scoped>\n",
       "    .dataframe tbody tr th:only-of-type {\n",
       "        vertical-align: middle;\n",
       "    }\n",
       "\n",
       "    .dataframe tbody tr th {\n",
       "        vertical-align: top;\n",
       "    }\n",
       "\n",
       "    .dataframe thead th {\n",
       "        text-align: right;\n",
       "    }\n",
       "</style>\n",
       "<table border=\"1\" class=\"dataframe\">\n",
       "  <thead>\n",
       "    <tr style=\"text-align: right;\">\n",
       "      <th></th>\n",
       "      <th>key</th>\n",
       "      <th>Wire 1</th>\n",
       "      <th>Wire 2</th>\n",
       "      <th>Wire 3</th>\n",
       "      <th>Wire 4</th>\n",
       "      <th>Wire 5</th>\n",
       "      <th>Wire 6</th>\n",
       "      <th>Wire 7</th>\n",
       "      <th>Wire 8</th>\n",
       "      <th>Wire 9</th>\n",
       "    </tr>\n",
       "  </thead>\n",
       "  <tbody>\n",
       "    <tr>\n",
       "      <th>0</th>\n",
       "      <td>1</td>\n",
       "      <td>60.059998</td>\n",
       "      <td>NaN</td>\n",
       "      <td>NaN</td>\n",
       "      <td>NaN</td>\n",
       "      <td>NaN</td>\n",
       "      <td>NaN</td>\n",
       "      <td>NaN</td>\n",
       "      <td>NaN</td>\n",
       "      <td>NaN</td>\n",
       "    </tr>\n",
       "    <tr>\n",
       "      <th>1</th>\n",
       "      <td>2</td>\n",
       "      <td>96.052315</td>\n",
       "      <td>NaN</td>\n",
       "      <td>NaN</td>\n",
       "      <td>NaN</td>\n",
       "      <td>NaN</td>\n",
       "      <td>NaN</td>\n",
       "      <td>NaN</td>\n",
       "      <td>NaN</td>\n",
       "      <td>NaN</td>\n",
       "    </tr>\n",
       "    <tr>\n",
       "      <th>2</th>\n",
       "      <td>3</td>\n",
       "      <td>91.160157</td>\n",
       "      <td>NaN</td>\n",
       "      <td>NaN</td>\n",
       "      <td>NaN</td>\n",
       "      <td>NaN</td>\n",
       "      <td>NaN</td>\n",
       "      <td>NaN</td>\n",
       "      <td>NaN</td>\n",
       "      <td>NaN</td>\n",
       "    </tr>\n",
       "    <tr>\n",
       "      <th>3</th>\n",
       "      <td>4</td>\n",
       "      <td>89.063515</td>\n",
       "      <td>NaN</td>\n",
       "      <td>NaN</td>\n",
       "      <td>NaN</td>\n",
       "      <td>NaN</td>\n",
       "      <td>NaN</td>\n",
       "      <td>NaN</td>\n",
       "      <td>NaN</td>\n",
       "      <td>NaN</td>\n",
       "    </tr>\n",
       "    <tr>\n",
       "      <th>4</th>\n",
       "      <td>5</td>\n",
       "      <td>89.238236</td>\n",
       "      <td>9.11456</td>\n",
       "      <td>NaN</td>\n",
       "      <td>NaN</td>\n",
       "      <td>NaN</td>\n",
       "      <td>NaN</td>\n",
       "      <td>NaN</td>\n",
       "      <td>NaN</td>\n",
       "      <td>NaN</td>\n",
       "    </tr>\n",
       "  </tbody>\n",
       "</table>\n",
       "</div>"
      ],
      "text/plain": [
       "   key     Wire 1   Wire 2  Wire 3  Wire 4  Wire 5  Wire 6  Wire 7  Wire 8  \\\n",
       "0    1  60.059998      NaN     NaN     NaN     NaN     NaN     NaN     NaN   \n",
       "1    2  96.052315      NaN     NaN     NaN     NaN     NaN     NaN     NaN   \n",
       "2    3  91.160157      NaN     NaN     NaN     NaN     NaN     NaN     NaN   \n",
       "3    4  89.063515      NaN     NaN     NaN     NaN     NaN     NaN     NaN   \n",
       "4    5  89.238236  9.11456     NaN     NaN     NaN     NaN     NaN     NaN   \n",
       "\n",
       "   Wire 9  \n",
       "0     NaN  \n",
       "1     NaN  \n",
       "2     NaN  \n",
       "3     NaN  \n",
       "4     NaN  "
      ]
     },
     "metadata": {},
     "output_type": "display_data"
    },
    {
     "name": "stdout",
     "output_type": "stream",
     "text": [
      "\n",
      "Количество пропусков:\n",
      "\n",
      "key          0\n",
      "Wire 1      26\n",
      "Wire 2    2002\n",
      "Wire 3    3018\n",
      "Wire 4    3067\n",
      "Wire 5    3080\n",
      "Wire 6    3008\n",
      "Wire 7    3070\n",
      "Wire 8    3062\n",
      "Wire 9    3052\n",
      "dtype: int64\n",
      "\n",
      "Количество дубликатов:\n",
      "0\n",
      "Описание данных:\n",
      "               key       Wire 1       Wire 2      Wire 3      Wire 4  Wire 5  \\\n",
      "count  3081.000000  3055.000000  1079.000000   63.000000   14.000000   1.000   \n",
      "mean   1623.426485   100.895853    50.577323  189.482681   57.442842  15.132   \n",
      "std     932.996726    42.012518    39.320216   99.513444   28.824667     NaN   \n",
      "min       1.000000     1.918800     0.030160    0.144144   24.148801  15.132   \n",
      "25%     823.000000    72.115684    20.193680   95.135044   40.807002  15.132   \n",
      "50%    1619.000000   100.158234    40.142956  235.194977   45.234282  15.132   \n",
      "75%    2434.000000   126.060483    70.227558  276.252014   76.124619  15.132   \n",
      "max    3241.000000   330.314424   282.780152  385.008668  113.231044  15.132   \n",
      "\n",
      "           Wire 6     Wire 7      Wire 8     Wire 9  \n",
      "count   73.000000  11.000000   19.000000  29.000000  \n",
      "mean    48.016974  10.039007   53.625193  34.155752  \n",
      "std     33.919845   8.610584   16.881728  19.931616  \n",
      "min      0.034320   0.234208   45.076721   4.622800  \n",
      "25%     25.053600   6.762756   46.094879  22.058401  \n",
      "50%     42.076324   9.017009   46.279999  30.066399  \n",
      "75%     64.212723  11.886057   48.089603  43.862003  \n",
      "max    180.454575  32.847674  102.762401  90.053604  \n",
      "\n",
      "Корреляция:\n",
      "             key    Wire 1    Wire 2    Wire 3    Wire 4  Wire 5    Wire 6  \\\n",
      "key     1.000000 -0.083352 -0.005461 -0.084460  0.389064     NaN  0.082274   \n",
      "Wire 1 -0.083352  1.000000 -0.030892  0.724370  0.054001     NaN -0.280807   \n",
      "Wire 2 -0.005461 -0.030892  1.000000 -0.081852       NaN     NaN -0.265706   \n",
      "Wire 3 -0.084460  0.724370 -0.081852  1.000000  0.069854     NaN -0.221602   \n",
      "Wire 4  0.389064  0.054001       NaN  0.069854  1.000000     NaN  0.237456   \n",
      "Wire 5       NaN       NaN       NaN       NaN       NaN     NaN       NaN   \n",
      "Wire 6  0.082274 -0.280807 -0.265706 -0.221602  0.237456     NaN  1.000000   \n",
      "Wire 7  0.578898 -0.035072       NaN -0.056948 -0.404865     NaN -0.224093   \n",
      "Wire 8  0.323891  0.068697  0.250477       NaN       NaN     NaN       NaN   \n",
      "Wire 9 -0.012200  0.010104  0.011019       NaN       NaN     NaN       NaN   \n",
      "\n",
      "          Wire 7    Wire 8    Wire 9  \n",
      "key     0.578898  0.323891 -0.012200  \n",
      "Wire 1 -0.035072  0.068697  0.010104  \n",
      "Wire 2       NaN  0.250477  0.011019  \n",
      "Wire 3 -0.056948       NaN       NaN  \n",
      "Wire 4 -0.404865       NaN       NaN  \n",
      "Wire 5       NaN       NaN       NaN  \n",
      "Wire 6 -0.224093       NaN       NaN  \n",
      "Wire 7  1.000000       NaN       NaN  \n",
      "Wire 8       NaN  1.000000       NaN  \n",
      "Wire 9       NaN       NaN  1.000000  \n"
     ]
    }
   ],
   "source": [
    "df_info(data_wire)"
   ]
  },
  {
   "cell_type": "code",
   "execution_count": 17,
   "id": "959c6db4",
   "metadata": {
    "scrolled": true
   },
   "outputs": [
    {
     "data": {
      "image/png": "[encoded data removed]",
      "text/plain": [
       "<Figure size 1440x720 with 2 Axes>"
      ]
     },
     "metadata": {
      "needs_background": "light"
     },
     "output_type": "display_data"
    },
    {
     "data": {
      "image/png": "[encoded data removed]",
      "text/plain": [
       "<Figure size 1440x720 with 2 Axes>"
      ]
     },
     "metadata": {
      "needs_background": "light"
     },
     "output_type": "display_data"
    },
    {
     "data": {
      "image/png": "[encoded data removed]",
      "text/plain": [
       "<Figure size 1440x720 with 2 Axes>"
      ]
     },
     "metadata": {
      "needs_background": "light"
     },
     "output_type": "display_data"
    },
    {
     "data": {
      "image/png": "[encoded data removed]",
      "text/plain": [
       "<Figure size 1440x720 with 2 Axes>"
      ]
     },
     "metadata": {
      "needs_background": "light"
     },
     "output_type": "display_data"
    },
    {
     "data": {
      "image/png": "[encoded data removed]",
      "text/plain": [
       "<Figure size 1440x720 with 2 Axes>"
      ]
     },
     "metadata": {
      "needs_background": "light"
     },
     "output_type": "display_data"
    },
    {
     "data": {
      "image/png": "[encoded data removed]",
      "text/plain": [
       "<Figure size 1440x720 with 2 Axes>"
      ]
     },
     "metadata": {
      "needs_background": "light"
     },
     "output_type": "display_data"
    },
    {
     "data": {
      "image/png": "[encoded data removed]",
      "text/plain": [
       "<Figure size 1440x720 with 2 Axes>"
      ]
     },
     "metadata": {
      "needs_background": "light"
     },
     "output_type": "display_data"
    },
    {
     "data": {
      "image/png": "[encoded data removed]",
      "text/plain": [
       "<Figure size 1440x720 with 2 Axes>"
      ]
     },
     "metadata": {
      "needs_background": "light"
     },
     "output_type": "display_data"
    },
    {
     "data": {
      "image/png": "[encoded data removed]",
      "text/plain": [
       "<Figure size 1440x720 with 2 Axes>"
      ]
     },
     "metadata": {
      "needs_background": "light"
     },
     "output_type": "display_data"
    },
    {
     "data": {
      "image/png": "[encoded data removed]",
      "text/plain": [
       "<Figure size 1440x720 with 2 Axes>"
      ]
     },
     "metadata": {
      "needs_background": "light"
     },
     "output_type": "display_data"
    }
   ],
   "source": [
    "# посмотрим на распределения значений для столбцов исходного df\n",
    "for i in data_wire.columns: \n",
    "    plt.figure(figsize=(20, 10))\n",
    "    plt.subplot(2, 1, 1)\n",
    "    data_wire[i].hist(bins=100)\n",
    "    plt.title(i, fontsize=15)\n",
    "    plt.subplot(2, 1, 2)\n",
    "    sns.boxplot(data_wire[i])\n",
    "    plt.show()"
   ]
  },
  {
   "cell_type": "code",
   "execution_count": 20,
   "id": "27502ed4",
   "metadata": {},
   "outputs": [
    {
     "data": {
      "text/plain": [
       "3081"
      ]
     },
     "execution_count": 20,
     "metadata": {},
     "output_type": "execute_result"
    }
   ],
   "source": [
    "#посмотрим количество уникальных значений в столбце key\n",
    "data_wire.key.nunique()"
   ]
  },
  {
   "cell_type": "markdown",
   "id": "8d4ce433",
   "metadata": {},
   "source": [
    "#### Вывод"
   ]
  },
  {
   "cell_type": "markdown",
   "id": "c6497c2b",
   "metadata": {},
   "source": [
    "На входе имеем датафрейм 10 столбцов, дубликатов нет, но очень много пропусков. 3081 уникальных значений в столбце key, которые встречаются только по одному разу. В некоторых столбцах данные присутствуют для малого количества строк, мы можем это объснить спецификой производства, но столбец Wire 5 имеет лишь одно значение, поэтому удалим его при подготовке выборок.\n",
    "\n",
    "Что нужно сделать в предобработке:\n",
    "\n",
    "1) ввиду специфики производства заполним пропуски 0.\n",
    "\n",
    "2) удалить признак Wire 5."
   ]
  },
  {
   "cell_type": "markdown",
   "id": "b820e6bd",
   "metadata": {},
   "source": [
    "### Данные о проволочных материалах (время)"
   ]
  },
  {
   "cell_type": "code",
   "execution_count": 21,
   "id": "e32758fa",
   "metadata": {
    "scrolled": true
   },
   "outputs": [
    {
     "name": "stdout",
     "output_type": "stream",
     "text": [
      "<class 'pandas.core.frame.DataFrame'>\n",
      "RangeIndex: 3081 entries, 0 to 3080\n",
      "Data columns (total 10 columns):\n",
      " #   Column  Non-Null Count  Dtype         \n",
      "---  ------  --------------  -----         \n",
      " 0   key     3081 non-null   int64         \n",
      " 1   Wire 1  3055 non-null   datetime64[ns]\n",
      " 2   Wire 2  1079 non-null   datetime64[ns]\n",
      " 3   Wire 3  63 non-null     datetime64[ns]\n",
      " 4   Wire 4  14 non-null     datetime64[ns]\n",
      " 5   Wire 5  1 non-null      datetime64[ns]\n",
      " 6   Wire 6  73 non-null     datetime64[ns]\n",
      " 7   Wire 7  11 non-null     datetime64[ns]\n",
      " 8   Wire 8  19 non-null     datetime64[ns]\n",
      " 9   Wire 9  29 non-null     datetime64[ns]\n",
      "dtypes: datetime64[ns](9), int64(1)\n",
      "memory usage: 240.8 KB\n"
     ]
    },
    {
     "data": {
      "text/html": [
       "<div>\n",
       "<style scoped>\n",
       "    .dataframe tbody tr th:only-of-type {\n",
       "        vertical-align: middle;\n",
       "    }\n",
       "\n",
       "    .dataframe tbody tr th {\n",
       "        vertical-align: top;\n",
       "    }\n",
       "\n",
       "    .dataframe thead th {\n",
       "        text-align: right;\n",
       "    }\n",
       "</style>\n",
       "<table border=\"1\" class=\"dataframe\">\n",
       "  <thead>\n",
       "    <tr style=\"text-align: right;\">\n",
       "      <th></th>\n",
       "      <th>key</th>\n",
       "      <th>Wire 1</th>\n",
       "      <th>Wire 2</th>\n",
       "      <th>Wire 3</th>\n",
       "      <th>Wire 4</th>\n",
       "      <th>Wire 5</th>\n",
       "      <th>Wire 6</th>\n",
       "      <th>Wire 7</th>\n",
       "      <th>Wire 8</th>\n",
       "      <th>Wire 9</th>\n",
       "    </tr>\n",
       "  </thead>\n",
       "  <tbody>\n",
       "    <tr>\n",
       "      <th>0</th>\n",
       "      <td>1</td>\n",
       "      <td>2019-05-03 11:11:41</td>\n",
       "      <td>NaT</td>\n",
       "      <td>NaT</td>\n",
       "      <td>NaT</td>\n",
       "      <td>NaT</td>\n",
       "      <td>NaT</td>\n",
       "      <td>NaT</td>\n",
       "      <td>NaT</td>\n",
       "      <td>NaT</td>\n",
       "    </tr>\n",
       "    <tr>\n",
       "      <th>1</th>\n",
       "      <td>2</td>\n",
       "      <td>2019-05-03 11:46:10</td>\n",
       "      <td>NaT</td>\n",
       "      <td>NaT</td>\n",
       "      <td>NaT</td>\n",
       "      <td>NaT</td>\n",
       "      <td>NaT</td>\n",
       "      <td>NaT</td>\n",
       "      <td>NaT</td>\n",
       "      <td>NaT</td>\n",
       "    </tr>\n",
       "    <tr>\n",
       "      <th>2</th>\n",
       "      <td>3</td>\n",
       "      <td>2019-05-03 12:13:47</td>\n",
       "      <td>NaT</td>\n",
       "      <td>NaT</td>\n",
       "      <td>NaT</td>\n",
       "      <td>NaT</td>\n",
       "      <td>NaT</td>\n",
       "      <td>NaT</td>\n",
       "      <td>NaT</td>\n",
       "      <td>NaT</td>\n",
       "    </tr>\n",
       "    <tr>\n",
       "      <th>3</th>\n",
       "      <td>4</td>\n",
       "      <td>2019-05-03 12:48:05</td>\n",
       "      <td>NaT</td>\n",
       "      <td>NaT</td>\n",
       "      <td>NaT</td>\n",
       "      <td>NaT</td>\n",
       "      <td>NaT</td>\n",
       "      <td>NaT</td>\n",
       "      <td>NaT</td>\n",
       "      <td>NaT</td>\n",
       "    </tr>\n",
       "    <tr>\n",
       "      <th>4</th>\n",
       "      <td>5</td>\n",
       "      <td>2019-05-03 13:18:15</td>\n",
       "      <td>2019-05-03 13:32:06</td>\n",
       "      <td>NaT</td>\n",
       "      <td>NaT</td>\n",
       "      <td>NaT</td>\n",
       "      <td>NaT</td>\n",
       "      <td>NaT</td>\n",
       "      <td>NaT</td>\n",
       "      <td>NaT</td>\n",
       "    </tr>\n",
       "  </tbody>\n",
       "</table>\n",
       "</div>"
      ],
      "text/plain": [
       "   key              Wire 1              Wire 2 Wire 3 Wire 4 Wire 5 Wire 6  \\\n",
       "0    1 2019-05-03 11:11:41                 NaT    NaT    NaT    NaT    NaT   \n",
       "1    2 2019-05-03 11:46:10                 NaT    NaT    NaT    NaT    NaT   \n",
       "2    3 2019-05-03 12:13:47                 NaT    NaT    NaT    NaT    NaT   \n",
       "3    4 2019-05-03 12:48:05                 NaT    NaT    NaT    NaT    NaT   \n",
       "4    5 2019-05-03 13:18:15 2019-05-03 13:32:06    NaT    NaT    NaT    NaT   \n",
       "\n",
       "  Wire 7 Wire 8 Wire 9  \n",
       "0    NaT    NaT    NaT  \n",
       "1    NaT    NaT    NaT  \n",
       "2    NaT    NaT    NaT  \n",
       "3    NaT    NaT    NaT  \n",
       "4    NaT    NaT    NaT  "
      ]
     },
     "metadata": {},
     "output_type": "display_data"
    },
    {
     "name": "stdout",
     "output_type": "stream",
     "text": [
      "\n",
      "Количество пропусков:\n",
      "\n",
      "key          0\n",
      "Wire 1      26\n",
      "Wire 2    2002\n",
      "Wire 3    3018\n",
      "Wire 4    3067\n",
      "Wire 5    3080\n",
      "Wire 6    3008\n",
      "Wire 7    3070\n",
      "Wire 8    3062\n",
      "Wire 9    3052\n",
      "dtype: int64\n",
      "\n",
      "Количество дубликатов:\n",
      "0\n",
      "Описание данных:\n",
      "               key\n",
      "count  3081.000000\n",
      "mean   1623.426485\n",
      "std     932.996726\n",
      "min       1.000000\n",
      "25%     823.000000\n",
      "50%    1619.000000\n",
      "75%    2434.000000\n",
      "max    3241.000000\n",
      "\n",
      "Корреляция:\n",
      "     key\n",
      "key  1.0\n"
     ]
    }
   ],
   "source": [
    "# проведем первичный осмотр df с помощью заранее подготовленной функциии\n",
    "df_info(data_wire_time)"
   ]
  },
  {
   "cell_type": "code",
   "execution_count": 22,
   "id": "31c4823f",
   "metadata": {
    "scrolled": true
   },
   "outputs": [
    {
     "name": "stdout",
     "output_type": "stream",
     "text": [
      "key\n",
      "\n",
      "1\n",
      "3241\n",
      "######################\n",
      "\n",
      "Wire 1\n",
      "\n",
      "2019-05-03 11:11:41\n",
      "2019-09-01 04:16:01\n",
      "######################\n",
      "\n",
      "Wire 2\n",
      "\n",
      "2019-05-03 13:32:06\n",
      "2019-08-31 18:50:15\n",
      "######################\n",
      "\n",
      "Wire 3\n",
      "\n",
      "2019-05-04 04:47:53\n",
      "2019-08-28 02:11:18\n",
      "######################\n",
      "\n",
      "Wire 4\n",
      "\n",
      "2019-05-07 08:48:23\n",
      "2019-08-08 12:03:12\n",
      "######################\n",
      "\n",
      "Wire 5\n",
      "\n",
      "2019-08-08 16:01:07\n",
      "2019-08-08 16:01:07\n",
      "######################\n",
      "\n",
      "Wire 6\n",
      "\n",
      "2019-05-07 08:37:20\n",
      "2019-08-14 00:59:11\n",
      "######################\n",
      "\n",
      "Wire 7\n",
      "\n",
      "2019-07-23 12:08:44\n",
      "2019-08-08 18:27:34\n",
      "######################\n",
      "\n",
      "Wire 8\n",
      "\n",
      "2019-05-14 00:03:32\n",
      "2019-08-11 15:09:29\n",
      "######################\n",
      "\n",
      "Wire 9\n",
      "\n",
      "2019-05-04 16:09:11\n",
      "2019-08-29 03:51:31\n",
      "######################\n",
      "\n"
     ]
    }
   ],
   "source": [
    "# рассмотрим минимальное и максимальное значение каждой колонки df на предмет поиска аномалий \n",
    "for i in data_wire_time.columns:\n",
    "    print(i)\n",
    "    print()\n",
    "    print(data_wire_time[i].min())\n",
    "    print(data_wire_time[i].max())\n",
    "    print('######################')\n",
    "    print()"
   ]
  },
  {
   "cell_type": "markdown",
   "id": "f9d5d788",
   "metadata": {},
   "source": [
    "#### Вывод"
   ]
  },
  {
   "cell_type": "markdown",
   "id": "e878df5e",
   "metadata": {},
   "source": [
    "Датафрейм очень похож на предыдущий, только в качестве значений у нас выступают дата и время, количество пропусков совпадает, дубликатов нет. Аномальных значений даты нет. Ввиду того, что мы не работаем с временными рядами данные признаки для нас не интересны."
   ]
  },
  {
   "cell_type": "markdown",
   "id": "71f40860",
   "metadata": {},
   "source": [
    "### Результаты измерения температуры"
   ]
  },
  {
   "cell_type": "code",
   "execution_count": 20,
   "id": "623d3424",
   "metadata": {
    "scrolled": true
   },
   "outputs": [
    {
     "name": "stdout",
     "output_type": "stream",
     "text": [
      "<class 'pandas.core.frame.DataFrame'>\n",
      "RangeIndex: 15907 entries, 0 to 15906\n",
      "Data columns (total 3 columns):\n",
      " #   Column        Non-Null Count  Dtype  \n",
      "---  ------        --------------  -----  \n",
      " 0   key           15907 non-null  int64  \n",
      " 1   Время замера  15907 non-null  object \n",
      " 2   Температура   13006 non-null  float64\n",
      "dtypes: float64(1), int64(1), object(1)\n",
      "memory usage: 372.9+ KB\n"
     ]
    },
    {
     "data": {
      "text/html": [
       "<div>\n",
       "<style scoped>\n",
       "    .dataframe tbody tr th:only-of-type {\n",
       "        vertical-align: middle;\n",
       "    }\n",
       "\n",
       "    .dataframe tbody tr th {\n",
       "        vertical-align: top;\n",
       "    }\n",
       "\n",
       "    .dataframe thead th {\n",
       "        text-align: right;\n",
       "    }\n",
       "</style>\n",
       "<table border=\"1\" class=\"dataframe\">\n",
       "  <thead>\n",
       "    <tr style=\"text-align: right;\">\n",
       "      <th></th>\n",
       "      <th>key</th>\n",
       "      <th>Время замера</th>\n",
       "      <th>Температура</th>\n",
       "    </tr>\n",
       "  </thead>\n",
       "  <tbody>\n",
       "    <tr>\n",
       "      <th>0</th>\n",
       "      <td>1</td>\n",
       "      <td>2019-05-03 11:16:18</td>\n",
       "      <td>1571.0</td>\n",
       "    </tr>\n",
       "    <tr>\n",
       "      <th>1</th>\n",
       "      <td>1</td>\n",
       "      <td>2019-05-03 11:25:53</td>\n",
       "      <td>1604.0</td>\n",
       "    </tr>\n",
       "    <tr>\n",
       "      <th>2</th>\n",
       "      <td>1</td>\n",
       "      <td>2019-05-03 11:29:11</td>\n",
       "      <td>1618.0</td>\n",
       "    </tr>\n",
       "    <tr>\n",
       "      <th>3</th>\n",
       "      <td>1</td>\n",
       "      <td>2019-05-03 11:30:01</td>\n",
       "      <td>1601.0</td>\n",
       "    </tr>\n",
       "    <tr>\n",
       "      <th>4</th>\n",
       "      <td>1</td>\n",
       "      <td>2019-05-03 11:30:39</td>\n",
       "      <td>1613.0</td>\n",
       "    </tr>\n",
       "  </tbody>\n",
       "</table>\n",
       "</div>"
      ],
      "text/plain": [
       "   key         Время замера  Температура\n",
       "0    1  2019-05-03 11:16:18       1571.0\n",
       "1    1  2019-05-03 11:25:53       1604.0\n",
       "2    1  2019-05-03 11:29:11       1618.0\n",
       "3    1  2019-05-03 11:30:01       1601.0\n",
       "4    1  2019-05-03 11:30:39       1613.0"
      ]
     },
     "metadata": {},
     "output_type": "display_data"
    },
    {
     "name": "stdout",
     "output_type": "stream",
     "text": [
      "\n",
      "Количество пропусков:\n",
      "\n",
      "key                0\n",
      "Время замера       0\n",
      "Температура     2901\n",
      "dtype: int64\n",
      "\n",
      "Количество дубликатов:\n",
      "0\n",
      "Описание данных:\n",
      "                key   Температура\n",
      "count  15907.000000  13006.000000\n",
      "mean    1607.880870   1591.840920\n",
      "std      942.212073     21.375851\n",
      "min        1.000000   1191.000000\n",
      "25%      790.000000   1581.000000\n",
      "50%     1618.000000   1591.000000\n",
      "75%     2427.000000   1601.000000\n",
      "max     3241.000000   1705.000000\n",
      "\n",
      "Корреляция:\n",
      "                  key  Температура\n",
      "key          1.000000    -0.046895\n",
      "Температура -0.046895     1.000000\n"
     ]
    }
   ],
   "source": [
    "# проведем первичный осмотр df с помощью заранее подготовленной функциии\n",
    "df_info(data_temp)"
   ]
  },
  {
   "cell_type": "code",
   "execution_count": 21,
   "id": "4c885a1b",
   "metadata": {},
   "outputs": [
    {
     "data": {
      "image/png": "[encoded data removed]",
      "text/plain": [
       "<Figure size 1440x720 with 2 Axes>"
      ]
     },
     "metadata": {
      "needs_background": "light"
     },
     "output_type": "display_data"
    }
   ],
   "source": [
    "# посмотрим на распределение значений температуры\n",
    "plt.figure(figsize=(20, 10))\n",
    "plt.subplot(2, 1, 1)\n",
    "data_temp['Температура'].hist(bins=100)\n",
    "plt.title('Температура', fontsize=15)\n",
    "plt.subplot(2, 1, 2)\n",
    "sns.boxplot(data_temp['Температура'])\n",
    "plt.show()"
   ]
  },
  {
   "cell_type": "code",
   "execution_count": 22,
   "id": "9bafcc4d",
   "metadata": {
    "scrolled": true
   },
   "outputs": [
    {
     "data": {
      "text/html": [
       "<div>\n",
       "<style scoped>\n",
       "    .dataframe tbody tr th:only-of-type {\n",
       "        vertical-align: middle;\n",
       "    }\n",
       "\n",
       "    .dataframe tbody tr th {\n",
       "        vertical-align: top;\n",
       "    }\n",
       "\n",
       "    .dataframe thead th {\n",
       "        text-align: right;\n",
       "    }\n",
       "</style>\n",
       "<table border=\"1\" class=\"dataframe\">\n",
       "  <thead>\n",
       "    <tr style=\"text-align: right;\">\n",
       "      <th></th>\n",
       "      <th>key</th>\n",
       "      <th>count_key</th>\n",
       "    </tr>\n",
       "  </thead>\n",
       "  <tbody>\n",
       "    <tr>\n",
       "      <th>0</th>\n",
       "      <td>1</td>\n",
       "      <td>5</td>\n",
       "    </tr>\n",
       "    <tr>\n",
       "      <th>1</th>\n",
       "      <td>2</td>\n",
       "      <td>6</td>\n",
       "    </tr>\n",
       "    <tr>\n",
       "      <th>2</th>\n",
       "      <td>3</td>\n",
       "      <td>5</td>\n",
       "    </tr>\n",
       "    <tr>\n",
       "      <th>3</th>\n",
       "      <td>4</td>\n",
       "      <td>3</td>\n",
       "    </tr>\n",
       "    <tr>\n",
       "      <th>4</th>\n",
       "      <td>5</td>\n",
       "      <td>2</td>\n",
       "    </tr>\n",
       "  </tbody>\n",
       "</table>\n",
       "</div>"
      ],
      "text/plain": [
       "   key  count_key\n",
       "0    1          5\n",
       "1    2          6\n",
       "2    3          5\n",
       "3    4          3\n",
       "4    5          2"
      ]
     },
     "execution_count": 22,
     "metadata": {},
     "output_type": "execute_result"
    }
   ],
   "source": [
    "# сгруппируем данные по ключу и посчитаем количество измерений температуры\n",
    "data_temp_group = data_temp.groupby('key', as_index=False) \\\n",
    "                 .agg(count_key = ('Температура', 'count')) \\\n",
    "                 .sort_values('key')\n",
    "data_temp_group.head() "
   ]
  },
  {
   "cell_type": "code",
   "execution_count": 25,
   "id": "dbb40c40",
   "metadata": {},
   "outputs": [
    {
     "data": {
      "text/plain": [
       "<AxesSubplot:xlabel='key', ylabel='count_key'>"
      ]
     },
     "execution_count": 25,
     "metadata": {},
     "output_type": "execute_result"
    },
    {
     "data": {
      "image/png": "[encoded data removed]",
      "text/plain": [
       "<Figure size 1440x720 with 1 Axes>"
      ]
     },
     "metadata": {
      "needs_background": "light"
     },
     "output_type": "display_data"
    }
   ],
   "source": [
    "# построим график количества измерений температуры\n",
    "plt.figure(figsize=(20, 10))\n",
    "sns.lineplot(x =data_temp_group['key'], \n",
    "              y=data_temp_group['count_key'], \n",
    "              )"
   ]
  },
  {
   "cell_type": "markdown",
   "id": "57207d87",
   "metadata": {},
   "source": [
    "#### Вывод"
   ]
  },
  {
   "cell_type": "markdown",
   "id": "afb0e31d",
   "metadata": {},
   "source": [
    "На входе имеем датафрейм из трех столбцов, в котором нет дубликатов, но есть пропуски в столбце 'Температура' - 2901. Рассмотрев распределение значений по температуре мы видим близкое к нормальному распределение с большим хвостом выбросов в левую сторону. Данные выбросы рассматриваем как особенности технологического процесса и не будем их удалять. \n",
    "\n",
    "Также рассмотрев график количества измерений температуры мы видим, далеко не все ключи имеют начальную и конечную температуры, поэтому из df нужно убрать ключи 195, 279, а также ключи, которые больше или равны 2500.\n",
    "\n",
    "Что нужно делать в предобработке:\n",
    "\n",
    "1) Сгрупировать данные по ключу и выделить начальную и конечную теспературы.\n",
    "\n",
    "2) Оставить только те ключи, в которых есть и начальная, и конечная температуры."
   ]
  },
  {
   "cell_type": "markdown",
   "id": "cc8ff6b2",
   "metadata": {},
   "source": [
    "# План\n",
    "\n",
    "* **Исследовательский анализ данных** - описан выше.\n",
    "\n",
    "\n",
    "* **Предобработка данных:**\n",
    "\n",
    "   **для data_arc**\n",
    "   \n",
    "    1) Исключить отрицательные значения по столбцу \"Реактивная мощность\".\n",
    "\n",
    "    2) Добавить новый признак общая можность, расчитанный по формуле $S=\\sqrt{P^2+Q^2}$, где: P — активная мощность,  Q — реактивная мощность.\n",
    "\n",
    "    3) Добовить столбец с длительностью нагрева с помощью разницы столбцов с началом нагрева и концом нагрева.\n",
    "\n",
    "    4) Сгруппировать датафрейм по значению key, в качестве агрегирующей функции использовать сумму, также добавить столбец с количеством иттераций для конкретного ключа.\n",
    "\n",
    "    5) Проверить датафрейм на мультиколлинеарность и удалить лишние признаки.\n",
    "    \n",
    "    **для data_bulk**\n",
    "    \n",
    "    1) ввиду специфики производства заполним пропуски 0.\n",
    "\n",
    "    2) удалить один из признаков Bulk 9 и Bulk 12 ввиду высокой корреляции.\n",
    "\n",
    "    3) удалить признак Bulk 8.\n",
    "    \n",
    "    **для data_wire**\n",
    "    \n",
    "    1) ввиду специфики производства заполним пропуски 0.\n",
    "\n",
    "    2) удалить признак Wire 5.\n",
    "    \n",
    "    **для data_temp**\n",
    "    \n",
    "    1) Сгруппировать данные по ключу и выделить начальную и конечную теспературы.\n",
    "\n",
    "    2) Оставить только те ключи, в которых есть и начальная, и конечная температуры.\n",
    "    \n",
    "***Далее объединяем все df(кроме data_bulk_time,data_wire_time) через INNER JOIN, что бы остались только те значения, которые присутствую во всех df.***\n",
    "   \n",
    "   \n",
    "* **Обучение моделей**\n",
    "\n",
    "    1)Делим данные на обучающую и тестовую выборки.\n",
    "    \n",
    "    2) Проводим масштабирование признаков.\n",
    "    \n",
    "    3) Выделяем целевой и остальные признаки.\n",
    "    \n",
    "    4) Обучение 2-3 моделей и подбор гиперпараметров с помощью GridSearchCV.\n",
    "    \n",
    "    5) Проверка на тестовой выборке лучшей модели.\n",
    "    \n",
    "    \n",
    "* **Общий вывод**"
   ]
  },
  {
   "cell_type": "markdown",
   "id": "3779db9b",
   "metadata": {},
   "source": [
    "## Предобработка данных"
   ]
  },
  {
   "cell_type": "markdown",
   "id": "d0055cc0",
   "metadata": {},
   "source": [
    "### Результаты измерения температуры"
   ]
  },
  {
   "cell_type": "code",
   "execution_count": 27,
   "id": "d26c6ff2",
   "metadata": {},
   "outputs": [
    {
     "data": {
      "text/html": [
       "<div>\n",
       "<style scoped>\n",
       "    .dataframe tbody tr th:only-of-type {\n",
       "        vertical-align: middle;\n",
       "    }\n",
       "\n",
       "    .dataframe tbody tr th {\n",
       "        vertical-align: top;\n",
       "    }\n",
       "\n",
       "    .dataframe thead th {\n",
       "        text-align: right;\n",
       "    }\n",
       "</style>\n",
       "<table border=\"1\" class=\"dataframe\">\n",
       "  <thead>\n",
       "    <tr style=\"text-align: right;\">\n",
       "      <th></th>\n",
       "      <th>key</th>\n",
       "      <th>count_key</th>\n",
       "    </tr>\n",
       "  </thead>\n",
       "  <tbody>\n",
       "    <tr>\n",
       "      <th>0</th>\n",
       "      <td>1</td>\n",
       "      <td>5</td>\n",
       "    </tr>\n",
       "    <tr>\n",
       "      <th>1</th>\n",
       "      <td>2</td>\n",
       "      <td>6</td>\n",
       "    </tr>\n",
       "    <tr>\n",
       "      <th>2</th>\n",
       "      <td>3</td>\n",
       "      <td>5</td>\n",
       "    </tr>\n",
       "    <tr>\n",
       "      <th>3</th>\n",
       "      <td>4</td>\n",
       "      <td>3</td>\n",
       "    </tr>\n",
       "    <tr>\n",
       "      <th>4</th>\n",
       "      <td>5</td>\n",
       "      <td>2</td>\n",
       "    </tr>\n",
       "    <tr>\n",
       "      <th>5</th>\n",
       "      <td>6</td>\n",
       "      <td>5</td>\n",
       "    </tr>\n",
       "    <tr>\n",
       "      <th>6</th>\n",
       "      <td>7</td>\n",
       "      <td>5</td>\n",
       "    </tr>\n",
       "    <tr>\n",
       "      <th>7</th>\n",
       "      <td>8</td>\n",
       "      <td>4</td>\n",
       "    </tr>\n",
       "    <tr>\n",
       "      <th>8</th>\n",
       "      <td>9</td>\n",
       "      <td>5</td>\n",
       "    </tr>\n",
       "    <tr>\n",
       "      <th>9</th>\n",
       "      <td>10</td>\n",
       "      <td>8</td>\n",
       "    </tr>\n",
       "  </tbody>\n",
       "</table>\n",
       "</div>"
      ],
      "text/plain": [
       "   key  count_key\n",
       "0    1          5\n",
       "1    2          6\n",
       "2    3          5\n",
       "3    4          3\n",
       "4    5          2\n",
       "5    6          5\n",
       "6    7          5\n",
       "7    8          4\n",
       "8    9          5\n",
       "9   10          8"
      ]
     },
     "metadata": {},
     "output_type": "display_data"
    },
    {
     "data": {
      "text/plain": [
       "(3216, 2)"
      ]
     },
     "execution_count": 27,
     "metadata": {},
     "output_type": "execute_result"
    }
   ],
   "source": [
    "# берем ранее подготовленную таблицу с количеством измерений температуры\n",
    "display(data_temp_group.head(10))\n",
    "data_temp_group.shape"
   ]
  },
  {
   "cell_type": "code",
   "execution_count": 28,
   "id": "16b4f272",
   "metadata": {},
   "outputs": [
    {
     "data": {
      "text/html": [
       "<div>\n",
       "<style scoped>\n",
       "    .dataframe tbody tr th:only-of-type {\n",
       "        vertical-align: middle;\n",
       "    }\n",
       "\n",
       "    .dataframe tbody tr th {\n",
       "        vertical-align: top;\n",
       "    }\n",
       "\n",
       "    .dataframe thead th {\n",
       "        text-align: right;\n",
       "    }\n",
       "</style>\n",
       "<table border=\"1\" class=\"dataframe\">\n",
       "  <thead>\n",
       "    <tr style=\"text-align: right;\">\n",
       "      <th></th>\n",
       "      <th>key</th>\n",
       "      <th>count_key</th>\n",
       "    </tr>\n",
       "  </thead>\n",
       "  <tbody>\n",
       "    <tr>\n",
       "      <th>0</th>\n",
       "      <td>1</td>\n",
       "      <td>5</td>\n",
       "    </tr>\n",
       "    <tr>\n",
       "      <th>1</th>\n",
       "      <td>2</td>\n",
       "      <td>6</td>\n",
       "    </tr>\n",
       "    <tr>\n",
       "      <th>2</th>\n",
       "      <td>3</td>\n",
       "      <td>5</td>\n",
       "    </tr>\n",
       "    <tr>\n",
       "      <th>3</th>\n",
       "      <td>4</td>\n",
       "      <td>3</td>\n",
       "    </tr>\n",
       "    <tr>\n",
       "      <th>4</th>\n",
       "      <td>5</td>\n",
       "      <td>2</td>\n",
       "    </tr>\n",
       "    <tr>\n",
       "      <th>5</th>\n",
       "      <td>6</td>\n",
       "      <td>5</td>\n",
       "    </tr>\n",
       "    <tr>\n",
       "      <th>6</th>\n",
       "      <td>7</td>\n",
       "      <td>5</td>\n",
       "    </tr>\n",
       "    <tr>\n",
       "      <th>7</th>\n",
       "      <td>8</td>\n",
       "      <td>4</td>\n",
       "    </tr>\n",
       "    <tr>\n",
       "      <th>8</th>\n",
       "      <td>9</td>\n",
       "      <td>5</td>\n",
       "    </tr>\n",
       "    <tr>\n",
       "      <th>9</th>\n",
       "      <td>10</td>\n",
       "      <td>8</td>\n",
       "    </tr>\n",
       "  </tbody>\n",
       "</table>\n",
       "</div>"
      ],
      "text/plain": [
       "   key  count_key\n",
       "0    1          5\n",
       "1    2          6\n",
       "2    3          5\n",
       "3    4          3\n",
       "4    5          2\n",
       "5    6          5\n",
       "6    7          5\n",
       "7    8          4\n",
       "8    9          5\n",
       "9   10          8"
      ]
     },
     "metadata": {},
     "output_type": "display_data"
    },
    {
     "data": {
      "text/plain": [
       "(2475, 2)"
      ]
     },
     "execution_count": 28,
     "metadata": {},
     "output_type": "execute_result"
    }
   ],
   "source": [
    "# фильтруем таблицу по количеству измерений = не менее 2\n",
    "data_temp_group = data_temp_group.query('count_key >= 2')\n",
    "display(data_temp_group.head(10))\n",
    "data_temp_group.shape"
   ]
  },
  {
   "cell_type": "code",
   "execution_count": 29,
   "id": "327600fe",
   "metadata": {},
   "outputs": [
    {
     "name": "stdout",
     "output_type": "stream",
     "text": [
      "(3216, 3)\n"
     ]
    },
    {
     "data": {
      "text/html": [
       "<div>\n",
       "<style scoped>\n",
       "    .dataframe tbody tr th:only-of-type {\n",
       "        vertical-align: middle;\n",
       "    }\n",
       "\n",
       "    .dataframe tbody tr th {\n",
       "        vertical-align: top;\n",
       "    }\n",
       "\n",
       "    .dataframe thead th {\n",
       "        text-align: right;\n",
       "    }\n",
       "</style>\n",
       "<table border=\"1\" class=\"dataframe\">\n",
       "  <thead>\n",
       "    <tr style=\"text-align: right;\">\n",
       "      <th></th>\n",
       "      <th>key</th>\n",
       "      <th>first_temp</th>\n",
       "      <th>last_temp</th>\n",
       "    </tr>\n",
       "  </thead>\n",
       "  <tbody>\n",
       "    <tr>\n",
       "      <th>0</th>\n",
       "      <td>1</td>\n",
       "      <td>1571.0</td>\n",
       "      <td>1613.0</td>\n",
       "    </tr>\n",
       "    <tr>\n",
       "      <th>1</th>\n",
       "      <td>2</td>\n",
       "      <td>1581.0</td>\n",
       "      <td>1602.0</td>\n",
       "    </tr>\n",
       "    <tr>\n",
       "      <th>2</th>\n",
       "      <td>3</td>\n",
       "      <td>1596.0</td>\n",
       "      <td>1599.0</td>\n",
       "    </tr>\n",
       "    <tr>\n",
       "      <th>3</th>\n",
       "      <td>4</td>\n",
       "      <td>1601.0</td>\n",
       "      <td>1625.0</td>\n",
       "    </tr>\n",
       "    <tr>\n",
       "      <th>4</th>\n",
       "      <td>5</td>\n",
       "      <td>1576.0</td>\n",
       "      <td>1602.0</td>\n",
       "    </tr>\n",
       "  </tbody>\n",
       "</table>\n",
       "</div>"
      ],
      "text/plain": [
       "   key  first_temp  last_temp\n",
       "0    1      1571.0     1613.0\n",
       "1    2      1581.0     1602.0\n",
       "2    3      1596.0     1599.0\n",
       "3    4      1601.0     1625.0\n",
       "4    5      1576.0     1602.0"
      ]
     },
     "execution_count": 29,
     "metadata": {},
     "output_type": "execute_result"
    }
   ],
   "source": [
    "# сгруппируем начальный df по key и найдем первое и последнее измерение температуры\n",
    "temp = data_temp \\\n",
    "      .groupby(by = 'key', as_index=False) \\\n",
    "      .agg(['first', 'last']) \\\n",
    "      .reset_index()\n",
    "\n",
    "temp.columns = ['key',2,3,'first_temp','last_temp']\n",
    "temp = temp[['key', 'first_temp', 'last_temp']]\n",
    "\n",
    "print(temp.shape)\n",
    "temp.head()"
   ]
  },
  {
   "cell_type": "code",
   "execution_count": 30,
   "id": "d9ab293e",
   "metadata": {},
   "outputs": [
    {
     "name": "stdout",
     "output_type": "stream",
     "text": [
      "(2475, 3)\n"
     ]
    },
    {
     "data": {
      "text/html": [
       "<div>\n",
       "<style scoped>\n",
       "    .dataframe tbody tr th:only-of-type {\n",
       "        vertical-align: middle;\n",
       "    }\n",
       "\n",
       "    .dataframe tbody tr th {\n",
       "        vertical-align: top;\n",
       "    }\n",
       "\n",
       "    .dataframe thead th {\n",
       "        text-align: right;\n",
       "    }\n",
       "</style>\n",
       "<table border=\"1\" class=\"dataframe\">\n",
       "  <thead>\n",
       "    <tr style=\"text-align: right;\">\n",
       "      <th></th>\n",
       "      <th>key</th>\n",
       "      <th>first_temp</th>\n",
       "      <th>last_temp</th>\n",
       "    </tr>\n",
       "  </thead>\n",
       "  <tbody>\n",
       "    <tr>\n",
       "      <th>0</th>\n",
       "      <td>1</td>\n",
       "      <td>1571.0</td>\n",
       "      <td>1613.0</td>\n",
       "    </tr>\n",
       "    <tr>\n",
       "      <th>1</th>\n",
       "      <td>2</td>\n",
       "      <td>1581.0</td>\n",
       "      <td>1602.0</td>\n",
       "    </tr>\n",
       "    <tr>\n",
       "      <th>2</th>\n",
       "      <td>3</td>\n",
       "      <td>1596.0</td>\n",
       "      <td>1599.0</td>\n",
       "    </tr>\n",
       "    <tr>\n",
       "      <th>3</th>\n",
       "      <td>4</td>\n",
       "      <td>1601.0</td>\n",
       "      <td>1625.0</td>\n",
       "    </tr>\n",
       "    <tr>\n",
       "      <th>4</th>\n",
       "      <td>5</td>\n",
       "      <td>1576.0</td>\n",
       "      <td>1602.0</td>\n",
       "    </tr>\n",
       "    <tr>\n",
       "      <th>5</th>\n",
       "      <td>6</td>\n",
       "      <td>1543.0</td>\n",
       "      <td>1596.0</td>\n",
       "    </tr>\n",
       "    <tr>\n",
       "      <th>6</th>\n",
       "      <td>7</td>\n",
       "      <td>1586.0</td>\n",
       "      <td>1599.0</td>\n",
       "    </tr>\n",
       "    <tr>\n",
       "      <th>7</th>\n",
       "      <td>8</td>\n",
       "      <td>1577.0</td>\n",
       "      <td>1598.0</td>\n",
       "    </tr>\n",
       "    <tr>\n",
       "      <th>8</th>\n",
       "      <td>9</td>\n",
       "      <td>1587.0</td>\n",
       "      <td>1592.0</td>\n",
       "    </tr>\n",
       "    <tr>\n",
       "      <th>9</th>\n",
       "      <td>10</td>\n",
       "      <td>1574.0</td>\n",
       "      <td>1593.0</td>\n",
       "    </tr>\n",
       "  </tbody>\n",
       "</table>\n",
       "</div>"
      ],
      "text/plain": [
       "   key  first_temp  last_temp\n",
       "0    1      1571.0     1613.0\n",
       "1    2      1581.0     1602.0\n",
       "2    3      1596.0     1599.0\n",
       "3    4      1601.0     1625.0\n",
       "4    5      1576.0     1602.0\n",
       "5    6      1543.0     1596.0\n",
       "6    7      1586.0     1599.0\n",
       "7    8      1577.0     1598.0\n",
       "8    9      1587.0     1592.0\n",
       "9   10      1574.0     1593.0"
      ]
     },
     "execution_count": 30,
     "metadata": {},
     "output_type": "execute_result"
    }
   ],
   "source": [
    "# фильтруем temp так, чтобы там остались ключи, для которых как минимум 2 раза измерялась температура\n",
    "temp_final = temp.loc[temp.key.isin(data_temp_group.key) == True]\n",
    "print(temp_final.shape)\n",
    "temp_final.head(10)"
   ]
  },
  {
   "cell_type": "markdown",
   "id": "2daeff84",
   "metadata": {},
   "source": [
    "### Данные об электродах"
   ]
  },
  {
   "cell_type": "code",
   "execution_count": 31,
   "id": "79d6a135",
   "metadata": {
    "scrolled": true
   },
   "outputs": [
    {
     "name": "stdout",
     "output_type": "stream",
     "text": [
      "(14876, 5)\n"
     ]
    },
    {
     "data": {
      "text/html": [
       "<div>\n",
       "<style scoped>\n",
       "    .dataframe tbody tr th:only-of-type {\n",
       "        vertical-align: middle;\n",
       "    }\n",
       "\n",
       "    .dataframe tbody tr th {\n",
       "        vertical-align: top;\n",
       "    }\n",
       "\n",
       "    .dataframe thead th {\n",
       "        text-align: right;\n",
       "    }\n",
       "</style>\n",
       "<table border=\"1\" class=\"dataframe\">\n",
       "  <thead>\n",
       "    <tr style=\"text-align: right;\">\n",
       "      <th></th>\n",
       "      <th>key</th>\n",
       "      <th>Начало нагрева дугой</th>\n",
       "      <th>Конец нагрева дугой</th>\n",
       "      <th>Активная мощность</th>\n",
       "      <th>Реактивная мощность</th>\n",
       "    </tr>\n",
       "  </thead>\n",
       "  <tbody>\n",
       "    <tr>\n",
       "      <th>0</th>\n",
       "      <td>1</td>\n",
       "      <td>2019-05-03 11:02:14</td>\n",
       "      <td>2019-05-03 11:06:02</td>\n",
       "      <td>0.976059</td>\n",
       "      <td>0.687084</td>\n",
       "    </tr>\n",
       "    <tr>\n",
       "      <th>1</th>\n",
       "      <td>1</td>\n",
       "      <td>2019-05-03 11:07:28</td>\n",
       "      <td>2019-05-03 11:10:33</td>\n",
       "      <td>0.805607</td>\n",
       "      <td>0.520285</td>\n",
       "    </tr>\n",
       "    <tr>\n",
       "      <th>2</th>\n",
       "      <td>1</td>\n",
       "      <td>2019-05-03 11:11:44</td>\n",
       "      <td>2019-05-03 11:14:36</td>\n",
       "      <td>0.744363</td>\n",
       "      <td>0.498805</td>\n",
       "    </tr>\n",
       "    <tr>\n",
       "      <th>3</th>\n",
       "      <td>1</td>\n",
       "      <td>2019-05-03 11:18:14</td>\n",
       "      <td>2019-05-03 11:24:19</td>\n",
       "      <td>1.659363</td>\n",
       "      <td>1.062669</td>\n",
       "    </tr>\n",
       "    <tr>\n",
       "      <th>4</th>\n",
       "      <td>1</td>\n",
       "      <td>2019-05-03 11:26:09</td>\n",
       "      <td>2019-05-03 11:28:37</td>\n",
       "      <td>0.692755</td>\n",
       "      <td>0.414397</td>\n",
       "    </tr>\n",
       "    <tr>\n",
       "      <th>5</th>\n",
       "      <td>2</td>\n",
       "      <td>2019-05-03 11:34:14</td>\n",
       "      <td>2019-05-03 11:36:31</td>\n",
       "      <td>0.438063</td>\n",
       "      <td>0.283043</td>\n",
       "    </tr>\n",
       "    <tr>\n",
       "      <th>6</th>\n",
       "      <td>2</td>\n",
       "      <td>2019-05-03 11:38:50</td>\n",
       "      <td>2019-05-03 11:44:28</td>\n",
       "      <td>1.296415</td>\n",
       "      <td>0.892914</td>\n",
       "    </tr>\n",
       "    <tr>\n",
       "      <th>7</th>\n",
       "      <td>2</td>\n",
       "      <td>2019-05-03 11:46:19</td>\n",
       "      <td>2019-05-03 11:48:25</td>\n",
       "      <td>0.490377</td>\n",
       "      <td>0.305281</td>\n",
       "    </tr>\n",
       "    <tr>\n",
       "      <th>8</th>\n",
       "      <td>2</td>\n",
       "      <td>2019-05-03 11:49:48</td>\n",
       "      <td>2019-05-03 11:53:18</td>\n",
       "      <td>0.827743</td>\n",
       "      <td>0.516874</td>\n",
       "    </tr>\n",
       "    <tr>\n",
       "      <th>9</th>\n",
       "      <td>3</td>\n",
       "      <td>2019-05-03 12:06:54</td>\n",
       "      <td>2019-05-03 12:11:34</td>\n",
       "      <td>1.062053</td>\n",
       "      <td>0.671494</td>\n",
       "    </tr>\n",
       "  </tbody>\n",
       "</table>\n",
       "</div>"
      ],
      "text/plain": [
       "   key Начало нагрева дугой Конец нагрева дугой  Активная мощность  \\\n",
       "0    1  2019-05-03 11:02:14 2019-05-03 11:06:02           0.976059   \n",
       "1    1  2019-05-03 11:07:28 2019-05-03 11:10:33           0.805607   \n",
       "2    1  2019-05-03 11:11:44 2019-05-03 11:14:36           0.744363   \n",
       "3    1  2019-05-03 11:18:14 2019-05-03 11:24:19           1.659363   \n",
       "4    1  2019-05-03 11:26:09 2019-05-03 11:28:37           0.692755   \n",
       "5    2  2019-05-03 11:34:14 2019-05-03 11:36:31           0.438063   \n",
       "6    2  2019-05-03 11:38:50 2019-05-03 11:44:28           1.296415   \n",
       "7    2  2019-05-03 11:46:19 2019-05-03 11:48:25           0.490377   \n",
       "8    2  2019-05-03 11:49:48 2019-05-03 11:53:18           0.827743   \n",
       "9    3  2019-05-03 12:06:54 2019-05-03 12:11:34           1.062053   \n",
       "\n",
       "   Реактивная мощность  \n",
       "0             0.687084  \n",
       "1             0.520285  \n",
       "2             0.498805  \n",
       "3             1.062669  \n",
       "4             0.414397  \n",
       "5             0.283043  \n",
       "6             0.892914  \n",
       "7             0.305281  \n",
       "8             0.516874  \n",
       "9             0.671494  "
      ]
     },
     "execution_count": 31,
     "metadata": {},
     "output_type": "execute_result"
    }
   ],
   "source": [
    "# данные по исходному df\n",
    "print(data_arc.shape)\n",
    "data_arc.head(10)"
   ]
  },
  {
   "cell_type": "code",
   "execution_count": 32,
   "id": "2e96cd9d",
   "metadata": {},
   "outputs": [
    {
     "data": {
      "text/plain": [
       "(14875, 5)"
      ]
     },
     "execution_count": 32,
     "metadata": {},
     "output_type": "execute_result"
    }
   ],
   "source": [
    "# убираем ключ с отрицательной реактивной мощностью\n",
    "data_arc = data_arc[data_arc['Реактивная мощность'] >= 0]\n",
    "data_arc.shape"
   ]
  },
  {
   "cell_type": "code",
   "execution_count": 33,
   "id": "e7929ac2",
   "metadata": {},
   "outputs": [
    {
     "data": {
      "text/html": [
       "<div>\n",
       "<style scoped>\n",
       "    .dataframe tbody tr th:only-of-type {\n",
       "        vertical-align: middle;\n",
       "    }\n",
       "\n",
       "    .dataframe tbody tr th {\n",
       "        vertical-align: top;\n",
       "    }\n",
       "\n",
       "    .dataframe thead th {\n",
       "        text-align: right;\n",
       "    }\n",
       "</style>\n",
       "<table border=\"1\" class=\"dataframe\">\n",
       "  <thead>\n",
       "    <tr style=\"text-align: right;\">\n",
       "      <th></th>\n",
       "      <th>key</th>\n",
       "      <th>Начало нагрева дугой</th>\n",
       "      <th>Конец нагрева дугой</th>\n",
       "      <th>Активная мощность</th>\n",
       "      <th>Реактивная мощность</th>\n",
       "      <th>full_power</th>\n",
       "    </tr>\n",
       "  </thead>\n",
       "  <tbody>\n",
       "    <tr>\n",
       "      <th>0</th>\n",
       "      <td>1</td>\n",
       "      <td>2019-05-03 11:02:14</td>\n",
       "      <td>2019-05-03 11:06:02</td>\n",
       "      <td>0.976059</td>\n",
       "      <td>0.687084</td>\n",
       "      <td>1.193639</td>\n",
       "    </tr>\n",
       "    <tr>\n",
       "      <th>1</th>\n",
       "      <td>1</td>\n",
       "      <td>2019-05-03 11:07:28</td>\n",
       "      <td>2019-05-03 11:10:33</td>\n",
       "      <td>0.805607</td>\n",
       "      <td>0.520285</td>\n",
       "      <td>0.959010</td>\n",
       "    </tr>\n",
       "    <tr>\n",
       "      <th>2</th>\n",
       "      <td>1</td>\n",
       "      <td>2019-05-03 11:11:44</td>\n",
       "      <td>2019-05-03 11:14:36</td>\n",
       "      <td>0.744363</td>\n",
       "      <td>0.498805</td>\n",
       "      <td>0.896038</td>\n",
       "    </tr>\n",
       "    <tr>\n",
       "      <th>3</th>\n",
       "      <td>1</td>\n",
       "      <td>2019-05-03 11:18:14</td>\n",
       "      <td>2019-05-03 11:24:19</td>\n",
       "      <td>1.659363</td>\n",
       "      <td>1.062669</td>\n",
       "      <td>1.970470</td>\n",
       "    </tr>\n",
       "    <tr>\n",
       "      <th>4</th>\n",
       "      <td>1</td>\n",
       "      <td>2019-05-03 11:26:09</td>\n",
       "      <td>2019-05-03 11:28:37</td>\n",
       "      <td>0.692755</td>\n",
       "      <td>0.414397</td>\n",
       "      <td>0.807239</td>\n",
       "    </tr>\n",
       "  </tbody>\n",
       "</table>\n",
       "</div>"
      ],
      "text/plain": [
       "   key Начало нагрева дугой Конец нагрева дугой  Активная мощность  \\\n",
       "0    1  2019-05-03 11:02:14 2019-05-03 11:06:02           0.976059   \n",
       "1    1  2019-05-03 11:07:28 2019-05-03 11:10:33           0.805607   \n",
       "2    1  2019-05-03 11:11:44 2019-05-03 11:14:36           0.744363   \n",
       "3    1  2019-05-03 11:18:14 2019-05-03 11:24:19           1.659363   \n",
       "4    1  2019-05-03 11:26:09 2019-05-03 11:28:37           0.692755   \n",
       "\n",
       "   Реактивная мощность  full_power  \n",
       "0             0.687084    1.193639  \n",
       "1             0.520285    0.959010  \n",
       "2             0.498805    0.896038  \n",
       "3             1.062669    1.970470  \n",
       "4             0.414397    0.807239  "
      ]
     },
     "execution_count": 33,
     "metadata": {},
     "output_type": "execute_result"
    }
   ],
   "source": [
    "# добавляем признак полная мощность\n",
    "data_arc['full_power'] = (data_arc['Активная мощность'] ** 2 + data_arc['Реактивная мощность'] ** 2) ** 0.5\n",
    "data_arc.head()"
   ]
  },
  {
   "cell_type": "code",
   "execution_count": 34,
   "id": "cb8748ac",
   "metadata": {},
   "outputs": [
    {
     "data": {
      "text/html": [
       "<div>\n",
       "<style scoped>\n",
       "    .dataframe tbody tr th:only-of-type {\n",
       "        vertical-align: middle;\n",
       "    }\n",
       "\n",
       "    .dataframe tbody tr th {\n",
       "        vertical-align: top;\n",
       "    }\n",
       "\n",
       "    .dataframe thead th {\n",
       "        text-align: right;\n",
       "    }\n",
       "</style>\n",
       "<table border=\"1\" class=\"dataframe\">\n",
       "  <thead>\n",
       "    <tr style=\"text-align: right;\">\n",
       "      <th></th>\n",
       "      <th>key</th>\n",
       "      <th>Начало нагрева дугой</th>\n",
       "      <th>Конец нагрева дугой</th>\n",
       "      <th>Активная мощность</th>\n",
       "      <th>Реактивная мощность</th>\n",
       "      <th>full_power</th>\n",
       "      <th>heating_duration</th>\n",
       "    </tr>\n",
       "  </thead>\n",
       "  <tbody>\n",
       "    <tr>\n",
       "      <th>0</th>\n",
       "      <td>1</td>\n",
       "      <td>2019-05-03 11:02:14</td>\n",
       "      <td>2019-05-03 11:06:02</td>\n",
       "      <td>0.976059</td>\n",
       "      <td>0.687084</td>\n",
       "      <td>1.193639</td>\n",
       "      <td>228.0</td>\n",
       "    </tr>\n",
       "    <tr>\n",
       "      <th>1</th>\n",
       "      <td>1</td>\n",
       "      <td>2019-05-03 11:07:28</td>\n",
       "      <td>2019-05-03 11:10:33</td>\n",
       "      <td>0.805607</td>\n",
       "      <td>0.520285</td>\n",
       "      <td>0.959010</td>\n",
       "      <td>185.0</td>\n",
       "    </tr>\n",
       "    <tr>\n",
       "      <th>2</th>\n",
       "      <td>1</td>\n",
       "      <td>2019-05-03 11:11:44</td>\n",
       "      <td>2019-05-03 11:14:36</td>\n",
       "      <td>0.744363</td>\n",
       "      <td>0.498805</td>\n",
       "      <td>0.896038</td>\n",
       "      <td>172.0</td>\n",
       "    </tr>\n",
       "    <tr>\n",
       "      <th>3</th>\n",
       "      <td>1</td>\n",
       "      <td>2019-05-03 11:18:14</td>\n",
       "      <td>2019-05-03 11:24:19</td>\n",
       "      <td>1.659363</td>\n",
       "      <td>1.062669</td>\n",
       "      <td>1.970470</td>\n",
       "      <td>365.0</td>\n",
       "    </tr>\n",
       "    <tr>\n",
       "      <th>4</th>\n",
       "      <td>1</td>\n",
       "      <td>2019-05-03 11:26:09</td>\n",
       "      <td>2019-05-03 11:28:37</td>\n",
       "      <td>0.692755</td>\n",
       "      <td>0.414397</td>\n",
       "      <td>0.807239</td>\n",
       "      <td>148.0</td>\n",
       "    </tr>\n",
       "  </tbody>\n",
       "</table>\n",
       "</div>"
      ],
      "text/plain": [
       "   key Начало нагрева дугой Конец нагрева дугой  Активная мощность  \\\n",
       "0    1  2019-05-03 11:02:14 2019-05-03 11:06:02           0.976059   \n",
       "1    1  2019-05-03 11:07:28 2019-05-03 11:10:33           0.805607   \n",
       "2    1  2019-05-03 11:11:44 2019-05-03 11:14:36           0.744363   \n",
       "3    1  2019-05-03 11:18:14 2019-05-03 11:24:19           1.659363   \n",
       "4    1  2019-05-03 11:26:09 2019-05-03 11:28:37           0.692755   \n",
       "\n",
       "   Реактивная мощность  full_power  heating_duration  \n",
       "0             0.687084    1.193639             228.0  \n",
       "1             0.520285    0.959010             185.0  \n",
       "2             0.498805    0.896038             172.0  \n",
       "3             1.062669    1.970470             365.0  \n",
       "4             0.414397    0.807239             148.0  "
      ]
     },
     "execution_count": 34,
     "metadata": {},
     "output_type": "execute_result"
    }
   ],
   "source": [
    "# добавляем признак продолжительность нагрева в секундах\n",
    "data_arc['heating_duration'] = (data_arc['Конец нагрева дугой'] - data_arc['Начало нагрева дугой'])/ pd.Timedelta('1s')\n",
    "data_arc.head()"
   ]
  },
  {
   "cell_type": "code",
   "execution_count": 35,
   "id": "809f81c2",
   "metadata": {},
   "outputs": [
    {
     "name": "stdout",
     "output_type": "stream",
     "text": [
      "(3214, 6)\n"
     ]
    },
    {
     "data": {
      "text/html": [
       "<div>\n",
       "<style scoped>\n",
       "    .dataframe tbody tr th:only-of-type {\n",
       "        vertical-align: middle;\n",
       "    }\n",
       "\n",
       "    .dataframe tbody tr th {\n",
       "        vertical-align: top;\n",
       "    }\n",
       "\n",
       "    .dataframe thead th {\n",
       "        text-align: right;\n",
       "    }\n",
       "</style>\n",
       "<table border=\"1\" class=\"dataframe\">\n",
       "  <thead>\n",
       "    <tr style=\"text-align: right;\">\n",
       "      <th></th>\n",
       "      <th>key</th>\n",
       "      <th>active_power</th>\n",
       "      <th>reactive_power</th>\n",
       "      <th>full_power</th>\n",
       "      <th>heating_duration</th>\n",
       "      <th>count_iterations</th>\n",
       "    </tr>\n",
       "  </thead>\n",
       "  <tbody>\n",
       "    <tr>\n",
       "      <th>0</th>\n",
       "      <td>1</td>\n",
       "      <td>4.878147</td>\n",
       "      <td>3.183241</td>\n",
       "      <td>5.826395</td>\n",
       "      <td>1098.0</td>\n",
       "      <td>5</td>\n",
       "    </tr>\n",
       "    <tr>\n",
       "      <th>1</th>\n",
       "      <td>2</td>\n",
       "      <td>3.052598</td>\n",
       "      <td>1.998112</td>\n",
       "      <td>3.649216</td>\n",
       "      <td>811.0</td>\n",
       "      <td>4</td>\n",
       "    </tr>\n",
       "    <tr>\n",
       "      <th>2</th>\n",
       "      <td>3</td>\n",
       "      <td>2.525882</td>\n",
       "      <td>1.599076</td>\n",
       "      <td>2.989534</td>\n",
       "      <td>655.0</td>\n",
       "      <td>5</td>\n",
       "    </tr>\n",
       "    <tr>\n",
       "      <th>3</th>\n",
       "      <td>4</td>\n",
       "      <td>3.209250</td>\n",
       "      <td>2.060298</td>\n",
       "      <td>3.814962</td>\n",
       "      <td>741.0</td>\n",
       "      <td>4</td>\n",
       "    </tr>\n",
       "    <tr>\n",
       "      <th>4</th>\n",
       "      <td>5</td>\n",
       "      <td>3.347173</td>\n",
       "      <td>2.252643</td>\n",
       "      <td>4.035758</td>\n",
       "      <td>869.0</td>\n",
       "      <td>4</td>\n",
       "    </tr>\n",
       "    <tr>\n",
       "      <th>5</th>\n",
       "      <td>6</td>\n",
       "      <td>3.955108</td>\n",
       "      <td>2.689175</td>\n",
       "      <td>4.786837</td>\n",
       "      <td>952.0</td>\n",
       "      <td>4</td>\n",
       "    </tr>\n",
       "    <tr>\n",
       "      <th>6</th>\n",
       "      <td>7</td>\n",
       "      <td>2.547375</td>\n",
       "      <td>1.561295</td>\n",
       "      <td>2.987777</td>\n",
       "      <td>673.0</td>\n",
       "      <td>4</td>\n",
       "    </tr>\n",
       "    <tr>\n",
       "      <th>7</th>\n",
       "      <td>8</td>\n",
       "      <td>3.762755</td>\n",
       "      <td>2.680698</td>\n",
       "      <td>4.627389</td>\n",
       "      <td>913.0</td>\n",
       "      <td>4</td>\n",
       "    </tr>\n",
       "    <tr>\n",
       "      <th>8</th>\n",
       "      <td>9</td>\n",
       "      <td>2.081951</td>\n",
       "      <td>1.478671</td>\n",
       "      <td>2.555348</td>\n",
       "      <td>625.0</td>\n",
       "      <td>5</td>\n",
       "    </tr>\n",
       "    <tr>\n",
       "      <th>9</th>\n",
       "      <td>10</td>\n",
       "      <td>2.923622</td>\n",
       "      <td>2.496116</td>\n",
       "      <td>3.851739</td>\n",
       "      <td>825.0</td>\n",
       "      <td>6</td>\n",
       "    </tr>\n",
       "  </tbody>\n",
       "</table>\n",
       "</div>"
      ],
      "text/plain": [
       "   key  active_power  reactive_power  full_power  heating_duration  \\\n",
       "0    1      4.878147        3.183241    5.826395            1098.0   \n",
       "1    2      3.052598        1.998112    3.649216             811.0   \n",
       "2    3      2.525882        1.599076    2.989534             655.0   \n",
       "3    4      3.209250        2.060298    3.814962             741.0   \n",
       "4    5      3.347173        2.252643    4.035758             869.0   \n",
       "5    6      3.955108        2.689175    4.786837             952.0   \n",
       "6    7      2.547375        1.561295    2.987777             673.0   \n",
       "7    8      3.762755        2.680698    4.627389             913.0   \n",
       "8    9      2.081951        1.478671    2.555348             625.0   \n",
       "9   10      2.923622        2.496116    3.851739             825.0   \n",
       "\n",
       "   count_iterations  \n",
       "0                 5  \n",
       "1                 4  \n",
       "2                 5  \n",
       "3                 4  \n",
       "4                 4  \n",
       "5                 4  \n",
       "6                 4  \n",
       "7                 4  \n",
       "8                 5  \n",
       "9                 6  "
      ]
     },
     "execution_count": 35,
     "metadata": {},
     "output_type": "execute_result"
    }
   ],
   "source": [
    "# группируем данные по ключу, в качестве агрегирующей функции используем сумму для необходимых признаков, а также количество для создания\n",
    "# нового признака по количеству иттераций\n",
    "data_arc_final = data_arc.groupby('key', as_index=False) \\\n",
    "                         .agg(active_power = ('Активная мощность', 'sum'),\n",
    "                              reactive_power = ('Реактивная мощность', 'sum'),\n",
    "                              full_power = ('full_power', 'sum'),\n",
    "                              heating_duration = ('heating_duration', 'sum'),\n",
    "                              count_iterations = ('Начало нагрева дугой', 'count'))\n",
    "print(data_arc_final.shape)\n",
    "data_arc_final.head(10)\n"
   ]
  },
  {
   "cell_type": "code",
   "execution_count": 36,
   "id": "5acad847",
   "metadata": {
    "scrolled": true
   },
   "outputs": [
    {
     "data": {
      "text/html": [
       "<div>\n",
       "<style scoped>\n",
       "    .dataframe tbody tr th:only-of-type {\n",
       "        vertical-align: middle;\n",
       "    }\n",
       "\n",
       "    .dataframe tbody tr th {\n",
       "        vertical-align: top;\n",
       "    }\n",
       "\n",
       "    .dataframe thead th {\n",
       "        text-align: right;\n",
       "    }\n",
       "</style>\n",
       "<table border=\"1\" class=\"dataframe\">\n",
       "  <thead>\n",
       "    <tr style=\"text-align: right;\">\n",
       "      <th></th>\n",
       "      <th>key</th>\n",
       "      <th>active_power</th>\n",
       "      <th>reactive_power</th>\n",
       "      <th>full_power</th>\n",
       "      <th>heating_duration</th>\n",
       "      <th>count_iterations</th>\n",
       "    </tr>\n",
       "  </thead>\n",
       "  <tbody>\n",
       "    <tr>\n",
       "      <th>key</th>\n",
       "      <td>1.000000</td>\n",
       "      <td>-0.047595</td>\n",
       "      <td>-0.018740</td>\n",
       "      <td>-0.036823</td>\n",
       "      <td>-0.045207</td>\n",
       "      <td>-0.024242</td>\n",
       "    </tr>\n",
       "    <tr>\n",
       "      <th>active_power</th>\n",
       "      <td>-0.047595</td>\n",
       "      <td>1.000000</td>\n",
       "      <td>0.957892</td>\n",
       "      <td>0.993391</td>\n",
       "      <td>0.978012</td>\n",
       "      <td>0.730662</td>\n",
       "    </tr>\n",
       "    <tr>\n",
       "      <th>reactive_power</th>\n",
       "      <td>-0.018740</td>\n",
       "      <td>0.957892</td>\n",
       "      <td>1.000000</td>\n",
       "      <td>0.984382</td>\n",
       "      <td>0.966837</td>\n",
       "      <td>0.728851</td>\n",
       "    </tr>\n",
       "    <tr>\n",
       "      <th>full_power</th>\n",
       "      <td>-0.036823</td>\n",
       "      <td>0.993391</td>\n",
       "      <td>0.984382</td>\n",
       "      <td>1.000000</td>\n",
       "      <td>0.983356</td>\n",
       "      <td>0.737427</td>\n",
       "    </tr>\n",
       "    <tr>\n",
       "      <th>heating_duration</th>\n",
       "      <td>-0.045207</td>\n",
       "      <td>0.978012</td>\n",
       "      <td>0.966837</td>\n",
       "      <td>0.983356</td>\n",
       "      <td>1.000000</td>\n",
       "      <td>0.777533</td>\n",
       "    </tr>\n",
       "    <tr>\n",
       "      <th>count_iterations</th>\n",
       "      <td>-0.024242</td>\n",
       "      <td>0.730662</td>\n",
       "      <td>0.728851</td>\n",
       "      <td>0.737427</td>\n",
       "      <td>0.777533</td>\n",
       "      <td>1.000000</td>\n",
       "    </tr>\n",
       "  </tbody>\n",
       "</table>\n",
       "</div>"
      ],
      "text/plain": [
       "                       key  active_power  reactive_power  full_power  \\\n",
       "key               1.000000     -0.047595       -0.018740   -0.036823   \n",
       "active_power     -0.047595      1.000000        0.957892    0.993391   \n",
       "reactive_power   -0.018740      0.957892        1.000000    0.984382   \n",
       "full_power       -0.036823      0.993391        0.984382    1.000000   \n",
       "heating_duration -0.045207      0.978012        0.966837    0.983356   \n",
       "count_iterations -0.024242      0.730662        0.728851    0.737427   \n",
       "\n",
       "                  heating_duration  count_iterations  \n",
       "key                      -0.045207         -0.024242  \n",
       "active_power              0.978012          0.730662  \n",
       "reactive_power            0.966837          0.728851  \n",
       "full_power                0.983356          0.737427  \n",
       "heating_duration          1.000000          0.777533  \n",
       "count_iterations          0.777533          1.000000  "
      ]
     },
     "execution_count": 36,
     "metadata": {},
     "output_type": "execute_result"
    }
   ],
   "source": [
    "# посмотрим на корреляцию признаков\n",
    "data_arc_final.corr()"
   ]
  },
  {
   "cell_type": "markdown",
   "id": "c0ebd057",
   "metadata": {},
   "source": [
    "Ввиду того, что признаки active_power, reactive_power, full_power, heating_duration сильно коррелируют между собой для дальнейшего анализа оставим только key, full_power, count_iterations."
   ]
  },
  {
   "cell_type": "code",
   "execution_count": 37,
   "id": "0d026efa",
   "metadata": {},
   "outputs": [
    {
     "data": {
      "text/html": [
       "<div>\n",
       "<style scoped>\n",
       "    .dataframe tbody tr th:only-of-type {\n",
       "        vertical-align: middle;\n",
       "    }\n",
       "\n",
       "    .dataframe tbody tr th {\n",
       "        vertical-align: top;\n",
       "    }\n",
       "\n",
       "    .dataframe thead th {\n",
       "        text-align: right;\n",
       "    }\n",
       "</style>\n",
       "<table border=\"1\" class=\"dataframe\">\n",
       "  <thead>\n",
       "    <tr style=\"text-align: right;\">\n",
       "      <th></th>\n",
       "      <th>key</th>\n",
       "      <th>full_power</th>\n",
       "      <th>count_iterations</th>\n",
       "    </tr>\n",
       "  </thead>\n",
       "  <tbody>\n",
       "    <tr>\n",
       "      <th>0</th>\n",
       "      <td>1</td>\n",
       "      <td>5.826395</td>\n",
       "      <td>5</td>\n",
       "    </tr>\n",
       "    <tr>\n",
       "      <th>1</th>\n",
       "      <td>2</td>\n",
       "      <td>3.649216</td>\n",
       "      <td>4</td>\n",
       "    </tr>\n",
       "    <tr>\n",
       "      <th>2</th>\n",
       "      <td>3</td>\n",
       "      <td>2.989534</td>\n",
       "      <td>5</td>\n",
       "    </tr>\n",
       "    <tr>\n",
       "      <th>3</th>\n",
       "      <td>4</td>\n",
       "      <td>3.814962</td>\n",
       "      <td>4</td>\n",
       "    </tr>\n",
       "    <tr>\n",
       "      <th>4</th>\n",
       "      <td>5</td>\n",
       "      <td>4.035758</td>\n",
       "      <td>4</td>\n",
       "    </tr>\n",
       "  </tbody>\n",
       "</table>\n",
       "</div>"
      ],
      "text/plain": [
       "   key  full_power  count_iterations\n",
       "0    1    5.826395                 5\n",
       "1    2    3.649216                 4\n",
       "2    3    2.989534                 5\n",
       "3    4    3.814962                 4\n",
       "4    5    4.035758                 4"
      ]
     },
     "execution_count": 37,
     "metadata": {},
     "output_type": "execute_result"
    }
   ],
   "source": [
    "# оставляем только необходимые признаки\n",
    "data_arc_final = data_arc_final[['key', 'full_power', 'count_iterations']]\n",
    "data_arc_final.head()"
   ]
  },
  {
   "cell_type": "markdown",
   "id": "407adbe6",
   "metadata": {},
   "source": [
    "### Данные о подаче сыпучих материалов (объём)"
   ]
  },
  {
   "cell_type": "code",
   "execution_count": 38,
   "id": "7aa25bbf",
   "metadata": {},
   "outputs": [
    {
     "data": {
      "text/plain": [
       "key           0\n",
       "Bulk 1     2877\n",
       "Bulk 2     3107\n",
       "Bulk 3     1831\n",
       "Bulk 4     2115\n",
       "Bulk 5     3052\n",
       "Bulk 6     2553\n",
       "Bulk 7     3104\n",
       "Bulk 8     3128\n",
       "Bulk 9     3110\n",
       "Bulk 10    2953\n",
       "Bulk 11    2952\n",
       "Bulk 12     679\n",
       "Bulk 13    3111\n",
       "Bulk 14     323\n",
       "Bulk 15     881\n",
       "dtype: int64"
      ]
     },
     "execution_count": 38,
     "metadata": {},
     "output_type": "execute_result"
    }
   ],
   "source": [
    "# количество пропусков в df\n",
    "data_bulk.isna().sum()"
   ]
  },
  {
   "cell_type": "code",
   "execution_count": 39,
   "id": "e381ee8f",
   "metadata": {},
   "outputs": [
    {
     "data": {
      "text/plain": [
       "key        0\n",
       "Bulk 1     0\n",
       "Bulk 2     0\n",
       "Bulk 3     0\n",
       "Bulk 4     0\n",
       "Bulk 5     0\n",
       "Bulk 6     0\n",
       "Bulk 7     0\n",
       "Bulk 8     0\n",
       "Bulk 9     0\n",
       "Bulk 10    0\n",
       "Bulk 11    0\n",
       "Bulk 12    0\n",
       "Bulk 13    0\n",
       "Bulk 14    0\n",
       "Bulk 15    0\n",
       "dtype: int64"
      ]
     },
     "execution_count": 39,
     "metadata": {},
     "output_type": "execute_result"
    }
   ],
   "source": [
    "# заполняем пропуски 0\n",
    "data_bulk = data_bulk.fillna(0)\n",
    "data_bulk.isna().sum()"
   ]
  },
  {
   "cell_type": "code",
   "execution_count": 40,
   "id": "616b7753",
   "metadata": {
    "scrolled": true
   },
   "outputs": [
    {
     "data": {
      "text/plain": [
       "(3129, 16)"
      ]
     },
     "execution_count": 40,
     "metadata": {},
     "output_type": "execute_result"
    }
   ],
   "source": [
    "data_bulk.shape"
   ]
  },
  {
   "cell_type": "code",
   "execution_count": 41,
   "id": "29c5b432",
   "metadata": {},
   "outputs": [],
   "source": [
    "# создаем новый признак - сумма поданных материалов\n",
    "data_bulk['sum_bulk'] = (data_bulk['Bulk 1'] + data_bulk['Bulk 2']+data_bulk['Bulk 3']+\n",
    "                      data_bulk['Bulk 4'] +data_bulk['Bulk 5']+data_bulk['Bulk 6']+\n",
    "                      data_bulk['Bulk 7']+data_bulk['Bulk 10']+data_bulk['Bulk 11']+data_bulk['Bulk 12']+\n",
    "                      data_bulk['Bulk 13']+data_bulk['Bulk 14']+data_bulk['Bulk 15'])"
   ]
  },
  {
   "cell_type": "code",
   "execution_count": 42,
   "id": "166f6fc5",
   "metadata": {},
   "outputs": [
    {
     "data": {
      "text/html": [
       "<div>\n",
       "<style scoped>\n",
       "    .dataframe tbody tr th:only-of-type {\n",
       "        vertical-align: middle;\n",
       "    }\n",
       "\n",
       "    .dataframe tbody tr th {\n",
       "        vertical-align: top;\n",
       "    }\n",
       "\n",
       "    .dataframe thead th {\n",
       "        text-align: right;\n",
       "    }\n",
       "</style>\n",
       "<table border=\"1\" class=\"dataframe\">\n",
       "  <thead>\n",
       "    <tr style=\"text-align: right;\">\n",
       "      <th></th>\n",
       "      <th>key</th>\n",
       "      <th>Bulk 1</th>\n",
       "      <th>Bulk 2</th>\n",
       "      <th>Bulk 3</th>\n",
       "      <th>Bulk 4</th>\n",
       "      <th>Bulk 5</th>\n",
       "      <th>Bulk 6</th>\n",
       "      <th>Bulk 7</th>\n",
       "      <th>Bulk 8</th>\n",
       "      <th>Bulk 9</th>\n",
       "      <th>Bulk 10</th>\n",
       "      <th>Bulk 11</th>\n",
       "      <th>Bulk 12</th>\n",
       "      <th>Bulk 13</th>\n",
       "      <th>Bulk 14</th>\n",
       "      <th>Bulk 15</th>\n",
       "      <th>sum_bulk</th>\n",
       "    </tr>\n",
       "  </thead>\n",
       "  <tbody>\n",
       "    <tr>\n",
       "      <th>key</th>\n",
       "      <td>1.000000</td>\n",
       "      <td>-0.064900</td>\n",
       "      <td>0.011159</td>\n",
       "      <td>0.015479</td>\n",
       "      <td>-0.067873</td>\n",
       "      <td>0.024842</td>\n",
       "      <td>-0.011109</td>\n",
       "      <td>0.041140</td>\n",
       "      <td>0.003097</td>\n",
       "      <td>-0.020741</td>\n",
       "      <td>0.026804</td>\n",
       "      <td>0.025012</td>\n",
       "      <td>-0.015900</td>\n",
       "      <td>-0.006753</td>\n",
       "      <td>-0.087584</td>\n",
       "      <td>-0.049414</td>\n",
       "      <td>-0.052884</td>\n",
       "    </tr>\n",
       "    <tr>\n",
       "      <th>Bulk 1</th>\n",
       "      <td>-0.064900</td>\n",
       "      <td>1.000000</td>\n",
       "      <td>0.259609</td>\n",
       "      <td>-0.007222</td>\n",
       "      <td>0.050981</td>\n",
       "      <td>0.088394</td>\n",
       "      <td>0.010362</td>\n",
       "      <td>0.257701</td>\n",
       "      <td>-0.004762</td>\n",
       "      <td>-0.020056</td>\n",
       "      <td>-0.026729</td>\n",
       "      <td>-0.037120</td>\n",
       "      <td>0.285582</td>\n",
       "      <td>0.003179</td>\n",
       "      <td>0.183780</td>\n",
       "      <td>0.001814</td>\n",
       "      <td>0.315363</td>\n",
       "    </tr>\n",
       "    <tr>\n",
       "      <th>Bulk 2</th>\n",
       "      <td>0.011159</td>\n",
       "      <td>0.259609</td>\n",
       "      <td>1.000000</td>\n",
       "      <td>-0.053374</td>\n",
       "      <td>0.043135</td>\n",
       "      <td>0.412000</td>\n",
       "      <td>-0.033091</td>\n",
       "      <td>0.757486</td>\n",
       "      <td>-0.001500</td>\n",
       "      <td>-0.006316</td>\n",
       "      <td>-0.019493</td>\n",
       "      <td>-0.005740</td>\n",
       "      <td>-0.110075</td>\n",
       "      <td>-0.006192</td>\n",
       "      <td>-0.157956</td>\n",
       "      <td>-0.114487</td>\n",
       "      <td>0.050467</td>\n",
       "    </tr>\n",
       "    <tr>\n",
       "      <th>Bulk 3</th>\n",
       "      <td>0.015479</td>\n",
       "      <td>-0.007222</td>\n",
       "      <td>-0.053374</td>\n",
       "      <td>1.000000</td>\n",
       "      <td>-0.266968</td>\n",
       "      <td>-0.003587</td>\n",
       "      <td>0.073600</td>\n",
       "      <td>-0.043125</td>\n",
       "      <td>0.018249</td>\n",
       "      <td>0.041242</td>\n",
       "      <td>-0.087810</td>\n",
       "      <td>-0.011939</td>\n",
       "      <td>0.008833</td>\n",
       "      <td>-0.007709</td>\n",
       "      <td>0.020869</td>\n",
       "      <td>0.018668</td>\n",
       "      <td>0.228084</td>\n",
       "    </tr>\n",
       "    <tr>\n",
       "      <th>Bulk 4</th>\n",
       "      <td>-0.067873</td>\n",
       "      <td>0.050981</td>\n",
       "      <td>0.043135</td>\n",
       "      <td>-0.266968</td>\n",
       "      <td>1.000000</td>\n",
       "      <td>0.024622</td>\n",
       "      <td>-0.232814</td>\n",
       "      <td>0.045005</td>\n",
       "      <td>-0.010797</td>\n",
       "      <td>-0.004691</td>\n",
       "      <td>-0.078468</td>\n",
       "      <td>-0.115261</td>\n",
       "      <td>0.098192</td>\n",
       "      <td>0.010349</td>\n",
       "      <td>-0.093962</td>\n",
       "      <td>0.111832</td>\n",
       "      <td>0.142351</td>\n",
       "    </tr>\n",
       "    <tr>\n",
       "      <th>Bulk 5</th>\n",
       "      <td>0.024842</td>\n",
       "      <td>0.088394</td>\n",
       "      <td>0.412000</td>\n",
       "      <td>-0.003587</td>\n",
       "      <td>0.024622</td>\n",
       "      <td>1.000000</td>\n",
       "      <td>-0.003383</td>\n",
       "      <td>0.335044</td>\n",
       "      <td>-0.002252</td>\n",
       "      <td>-0.009483</td>\n",
       "      <td>-0.029270</td>\n",
       "      <td>-0.019058</td>\n",
       "      <td>-0.082443</td>\n",
       "      <td>-0.009297</td>\n",
       "      <td>-0.077825</td>\n",
       "      <td>-0.074282</td>\n",
       "      <td>0.058196</td>\n",
       "    </tr>\n",
       "    <tr>\n",
       "      <th>Bulk 6</th>\n",
       "      <td>-0.011109</td>\n",
       "      <td>0.010362</td>\n",
       "      <td>-0.033091</td>\n",
       "      <td>0.073600</td>\n",
       "      <td>-0.232814</td>\n",
       "      <td>-0.003383</td>\n",
       "      <td>1.000000</td>\n",
       "      <td>-0.029312</td>\n",
       "      <td>-0.007055</td>\n",
       "      <td>-0.029715</td>\n",
       "      <td>-0.091713</td>\n",
       "      <td>0.199409</td>\n",
       "      <td>-0.136876</td>\n",
       "      <td>0.025802</td>\n",
       "      <td>0.199680</td>\n",
       "      <td>-0.101289</td>\n",
       "      <td>0.131017</td>\n",
       "    </tr>\n",
       "    <tr>\n",
       "      <th>Bulk 7</th>\n",
       "      <td>0.041140</td>\n",
       "      <td>0.257701</td>\n",
       "      <td>0.757486</td>\n",
       "      <td>-0.043125</td>\n",
       "      <td>0.045005</td>\n",
       "      <td>0.335044</td>\n",
       "      <td>-0.029312</td>\n",
       "      <td>1.000000</td>\n",
       "      <td>-0.001367</td>\n",
       "      <td>-0.005757</td>\n",
       "      <td>-0.017769</td>\n",
       "      <td>-0.009379</td>\n",
       "      <td>-0.049310</td>\n",
       "      <td>-0.005644</td>\n",
       "      <td>-0.110137</td>\n",
       "      <td>-0.102531</td>\n",
       "      <td>0.108590</td>\n",
       "    </tr>\n",
       "    <tr>\n",
       "      <th>Bulk 8</th>\n",
       "      <td>0.003097</td>\n",
       "      <td>-0.004762</td>\n",
       "      <td>-0.001500</td>\n",
       "      <td>0.018249</td>\n",
       "      <td>-0.010797</td>\n",
       "      <td>-0.002252</td>\n",
       "      <td>-0.007055</td>\n",
       "      <td>-0.001367</td>\n",
       "      <td>1.000000</td>\n",
       "      <td>0.425791</td>\n",
       "      <td>-0.004156</td>\n",
       "      <td>-0.003423</td>\n",
       "      <td>-0.024087</td>\n",
       "      <td>-0.001320</td>\n",
       "      <td>-0.033676</td>\n",
       "      <td>-0.024408</td>\n",
       "      <td>-0.030487</td>\n",
       "    </tr>\n",
       "    <tr>\n",
       "      <th>Bulk 9</th>\n",
       "      <td>-0.020741</td>\n",
       "      <td>-0.020056</td>\n",
       "      <td>-0.006316</td>\n",
       "      <td>0.041242</td>\n",
       "      <td>-0.004691</td>\n",
       "      <td>-0.009483</td>\n",
       "      <td>-0.029715</td>\n",
       "      <td>-0.005757</td>\n",
       "      <td>0.425791</td>\n",
       "      <td>1.000000</td>\n",
       "      <td>-0.017505</td>\n",
       "      <td>-0.014419</td>\n",
       "      <td>-0.072405</td>\n",
       "      <td>-0.005560</td>\n",
       "      <td>0.035418</td>\n",
       "      <td>-0.096869</td>\n",
       "      <td>-0.060095</td>\n",
       "    </tr>\n",
       "    <tr>\n",
       "      <th>Bulk 10</th>\n",
       "      <td>0.026804</td>\n",
       "      <td>-0.026729</td>\n",
       "      <td>-0.019493</td>\n",
       "      <td>-0.087810</td>\n",
       "      <td>-0.078468</td>\n",
       "      <td>-0.029270</td>\n",
       "      <td>-0.091713</td>\n",
       "      <td>-0.017769</td>\n",
       "      <td>-0.004156</td>\n",
       "      <td>-0.017505</td>\n",
       "      <td>1.000000</td>\n",
       "      <td>-0.044504</td>\n",
       "      <td>0.032095</td>\n",
       "      <td>0.001358</td>\n",
       "      <td>-0.049872</td>\n",
       "      <td>0.058049</td>\n",
       "      <td>0.025175</td>\n",
       "    </tr>\n",
       "    <tr>\n",
       "      <th>Bulk 11</th>\n",
       "      <td>0.025012</td>\n",
       "      <td>-0.037120</td>\n",
       "      <td>-0.005740</td>\n",
       "      <td>-0.011939</td>\n",
       "      <td>-0.115261</td>\n",
       "      <td>-0.019058</td>\n",
       "      <td>0.199409</td>\n",
       "      <td>-0.009379</td>\n",
       "      <td>-0.003423</td>\n",
       "      <td>-0.014419</td>\n",
       "      <td>-0.044504</td>\n",
       "      <td>1.000000</td>\n",
       "      <td>-0.047728</td>\n",
       "      <td>-0.011235</td>\n",
       "      <td>0.065681</td>\n",
       "      <td>-0.040717</td>\n",
       "      <td>0.067768</td>\n",
       "    </tr>\n",
       "    <tr>\n",
       "      <th>Bulk 12</th>\n",
       "      <td>-0.015900</td>\n",
       "      <td>0.285582</td>\n",
       "      <td>-0.110075</td>\n",
       "      <td>0.008833</td>\n",
       "      <td>0.098192</td>\n",
       "      <td>-0.082443</td>\n",
       "      <td>-0.136876</td>\n",
       "      <td>-0.049310</td>\n",
       "      <td>-0.024087</td>\n",
       "      <td>-0.072405</td>\n",
       "      <td>0.032095</td>\n",
       "      <td>-0.047728</td>\n",
       "      <td>1.000000</td>\n",
       "      <td>0.061139</td>\n",
       "      <td>0.421548</td>\n",
       "      <td>0.591228</td>\n",
       "      <td>0.838998</td>\n",
       "    </tr>\n",
       "    <tr>\n",
       "      <th>Bulk 13</th>\n",
       "      <td>-0.006753</td>\n",
       "      <td>0.003179</td>\n",
       "      <td>-0.006192</td>\n",
       "      <td>-0.007709</td>\n",
       "      <td>0.010349</td>\n",
       "      <td>-0.009297</td>\n",
       "      <td>0.025802</td>\n",
       "      <td>-0.005644</td>\n",
       "      <td>-0.001320</td>\n",
       "      <td>-0.005560</td>\n",
       "      <td>0.001358</td>\n",
       "      <td>-0.011235</td>\n",
       "      <td>0.061139</td>\n",
       "      <td>1.000000</td>\n",
       "      <td>-0.089167</td>\n",
       "      <td>0.028906</td>\n",
       "      <td>0.069803</td>\n",
       "    </tr>\n",
       "    <tr>\n",
       "      <th>Bulk 14</th>\n",
       "      <td>-0.087584</td>\n",
       "      <td>0.183780</td>\n",
       "      <td>-0.157956</td>\n",
       "      <td>0.020869</td>\n",
       "      <td>-0.093962</td>\n",
       "      <td>-0.077825</td>\n",
       "      <td>0.199680</td>\n",
       "      <td>-0.110137</td>\n",
       "      <td>-0.033676</td>\n",
       "      <td>0.035418</td>\n",
       "      <td>-0.049872</td>\n",
       "      <td>0.065681</td>\n",
       "      <td>0.421548</td>\n",
       "      <td>-0.089167</td>\n",
       "      <td>1.000000</td>\n",
       "      <td>0.220010</td>\n",
       "      <td>0.591550</td>\n",
       "    </tr>\n",
       "    <tr>\n",
       "      <th>Bulk 15</th>\n",
       "      <td>-0.049414</td>\n",
       "      <td>0.001814</td>\n",
       "      <td>-0.114487</td>\n",
       "      <td>0.018668</td>\n",
       "      <td>0.111832</td>\n",
       "      <td>-0.074282</td>\n",
       "      <td>-0.101289</td>\n",
       "      <td>-0.102531</td>\n",
       "      <td>-0.024408</td>\n",
       "      <td>-0.096869</td>\n",
       "      <td>0.058049</td>\n",
       "      <td>-0.040717</td>\n",
       "      <td>0.591228</td>\n",
       "      <td>0.028906</td>\n",
       "      <td>0.220010</td>\n",
       "      <td>1.000000</td>\n",
       "      <td>0.676481</td>\n",
       "    </tr>\n",
       "    <tr>\n",
       "      <th>sum_bulk</th>\n",
       "      <td>-0.052884</td>\n",
       "      <td>0.315363</td>\n",
       "      <td>0.050467</td>\n",
       "      <td>0.228084</td>\n",
       "      <td>0.142351</td>\n",
       "      <td>0.058196</td>\n",
       "      <td>0.131017</td>\n",
       "      <td>0.108590</td>\n",
       "      <td>-0.030487</td>\n",
       "      <td>-0.060095</td>\n",
       "      <td>0.025175</td>\n",
       "      <td>0.067768</td>\n",
       "      <td>0.838998</td>\n",
       "      <td>0.069803</td>\n",
       "      <td>0.591550</td>\n",
       "      <td>0.676481</td>\n",
       "      <td>1.000000</td>\n",
       "    </tr>\n",
       "  </tbody>\n",
       "</table>\n",
       "</div>"
      ],
      "text/plain": [
       "               key    Bulk 1    Bulk 2    Bulk 3    Bulk 4    Bulk 5  \\\n",
       "key       1.000000 -0.064900  0.011159  0.015479 -0.067873  0.024842   \n",
       "Bulk 1   -0.064900  1.000000  0.259609 -0.007222  0.050981  0.088394   \n",
       "Bulk 2    0.011159  0.259609  1.000000 -0.053374  0.043135  0.412000   \n",
       "Bulk 3    0.015479 -0.007222 -0.053374  1.000000 -0.266968 -0.003587   \n",
       "Bulk 4   -0.067873  0.050981  0.043135 -0.266968  1.000000  0.024622   \n",
       "Bulk 5    0.024842  0.088394  0.412000 -0.003587  0.024622  1.000000   \n",
       "Bulk 6   -0.011109  0.010362 -0.033091  0.073600 -0.232814 -0.003383   \n",
       "Bulk 7    0.041140  0.257701  0.757486 -0.043125  0.045005  0.335044   \n",
       "Bulk 8    0.003097 -0.004762 -0.001500  0.018249 -0.010797 -0.002252   \n",
       "Bulk 9   -0.020741 -0.020056 -0.006316  0.041242 -0.004691 -0.009483   \n",
       "Bulk 10   0.026804 -0.026729 -0.019493 -0.087810 -0.078468 -0.029270   \n",
       "Bulk 11   0.025012 -0.037120 -0.005740 -0.011939 -0.115261 -0.019058   \n",
       "Bulk 12  -0.015900  0.285582 -0.110075  0.008833  0.098192 -0.082443   \n",
       "Bulk 13  -0.006753  0.003179 -0.006192 -0.007709  0.010349 -0.009297   \n",
       "Bulk 14  -0.087584  0.183780 -0.157956  0.020869 -0.093962 -0.077825   \n",
       "Bulk 15  -0.049414  0.001814 -0.114487  0.018668  0.111832 -0.074282   \n",
       "sum_bulk -0.052884  0.315363  0.050467  0.228084  0.142351  0.058196   \n",
       "\n",
       "            Bulk 6    Bulk 7    Bulk 8    Bulk 9   Bulk 10   Bulk 11  \\\n",
       "key      -0.011109  0.041140  0.003097 -0.020741  0.026804  0.025012   \n",
       "Bulk 1    0.010362  0.257701 -0.004762 -0.020056 -0.026729 -0.037120   \n",
       "Bulk 2   -0.033091  0.757486 -0.001500 -0.006316 -0.019493 -0.005740   \n",
       "Bulk 3    0.073600 -0.043125  0.018249  0.041242 -0.087810 -0.011939   \n",
       "Bulk 4   -0.232814  0.045005 -0.010797 -0.004691 -0.078468 -0.115261   \n",
       "Bulk 5   -0.003383  0.335044 -0.002252 -0.009483 -0.029270 -0.019058   \n",
       "Bulk 6    1.000000 -0.029312 -0.007055 -0.029715 -0.091713  0.199409   \n",
       "Bulk 7   -0.029312  1.000000 -0.001367 -0.005757 -0.017769 -0.009379   \n",
       "Bulk 8   -0.007055 -0.001367  1.000000  0.425791 -0.004156 -0.003423   \n",
       "Bulk 9   -0.029715 -0.005757  0.425791  1.000000 -0.017505 -0.014419   \n",
       "Bulk 10  -0.091713 -0.017769 -0.004156 -0.017505  1.000000 -0.044504   \n",
       "Bulk 11   0.199409 -0.009379 -0.003423 -0.014419 -0.044504  1.000000   \n",
       "Bulk 12  -0.136876 -0.049310 -0.024087 -0.072405  0.032095 -0.047728   \n",
       "Bulk 13   0.025802 -0.005644 -0.001320 -0.005560  0.001358 -0.011235   \n",
       "Bulk 14   0.199680 -0.110137 -0.033676  0.035418 -0.049872  0.065681   \n",
       "Bulk 15  -0.101289 -0.102531 -0.024408 -0.096869  0.058049 -0.040717   \n",
       "sum_bulk  0.131017  0.108590 -0.030487 -0.060095  0.025175  0.067768   \n",
       "\n",
       "           Bulk 12   Bulk 13   Bulk 14   Bulk 15  sum_bulk  \n",
       "key      -0.015900 -0.006753 -0.087584 -0.049414 -0.052884  \n",
       "Bulk 1    0.285582  0.003179  0.183780  0.001814  0.315363  \n",
       "Bulk 2   -0.110075 -0.006192 -0.157956 -0.114487  0.050467  \n",
       "Bulk 3    0.008833 -0.007709  0.020869  0.018668  0.228084  \n",
       "Bulk 4    0.098192  0.010349 -0.093962  0.111832  0.142351  \n",
       "Bulk 5   -0.082443 -0.009297 -0.077825 -0.074282  0.058196  \n",
       "Bulk 6   -0.136876  0.025802  0.199680 -0.101289  0.131017  \n",
       "Bulk 7   -0.049310 -0.005644 -0.110137 -0.102531  0.108590  \n",
       "Bulk 8   -0.024087 -0.001320 -0.033676 -0.024408 -0.030487  \n",
       "Bulk 9   -0.072405 -0.005560  0.035418 -0.096869 -0.060095  \n",
       "Bulk 10   0.032095  0.001358 -0.049872  0.058049  0.025175  \n",
       "Bulk 11  -0.047728 -0.011235  0.065681 -0.040717  0.067768  \n",
       "Bulk 12   1.000000  0.061139  0.421548  0.591228  0.838998  \n",
       "Bulk 13   0.061139  1.000000 -0.089167  0.028906  0.069803  \n",
       "Bulk 14   0.421548 -0.089167  1.000000  0.220010  0.591550  \n",
       "Bulk 15   0.591228  0.028906  0.220010  1.000000  0.676481  \n",
       "sum_bulk  0.838998  0.069803  0.591550  0.676481  1.000000  "
      ]
     },
     "execution_count": 42,
     "metadata": {},
     "output_type": "execute_result"
    }
   ],
   "source": [
    "# проверяем корреляцию\n",
    "data_bulk.corr()"
   ]
  },
  {
   "cell_type": "code",
   "execution_count": 43,
   "id": "12763c4b",
   "metadata": {},
   "outputs": [],
   "source": [
    "# убираем признаки Bulk 8, Bulk 9, Bulk 12\n",
    "data_bulk_final = data_bulk[['key', 'Bulk 1', 'Bulk 2', 'Bulk 3', 'Bulk 4', 'Bulk 5', 'Bulk 6',\n",
    "                             'Bulk 7', 'Bulk 10', 'Bulk 11', 'Bulk 13', 'Bulk 14', 'Bulk 15', 'sum_bulk']]"
   ]
  },
  {
   "cell_type": "code",
   "execution_count": 44,
   "id": "0cdd0e52",
   "metadata": {
    "scrolled": true
   },
   "outputs": [
    {
     "data": {
      "text/plain": [
       "(3129, 14)"
      ]
     },
     "execution_count": 44,
     "metadata": {},
     "output_type": "execute_result"
    }
   ],
   "source": [
    "data_bulk_final.shape"
   ]
  },
  {
   "cell_type": "markdown",
   "id": "f7ddd4e2",
   "metadata": {},
   "source": [
    "### Данные о проволочных материалах (объём)"
   ]
  },
  {
   "cell_type": "code",
   "execution_count": 45,
   "id": "e7720f00",
   "metadata": {},
   "outputs": [
    {
     "data": {
      "text/plain": [
       "key          0\n",
       "Wire 1      26\n",
       "Wire 2    2002\n",
       "Wire 3    3018\n",
       "Wire 4    3067\n",
       "Wire 5    3080\n",
       "Wire 6    3008\n",
       "Wire 7    3070\n",
       "Wire 8    3062\n",
       "Wire 9    3052\n",
       "dtype: int64"
      ]
     },
     "execution_count": 45,
     "metadata": {},
     "output_type": "execute_result"
    }
   ],
   "source": [
    "# количество пропусков в df\n",
    "data_wire.isna().sum()"
   ]
  },
  {
   "cell_type": "code",
   "execution_count": 46,
   "id": "5d17779d",
   "metadata": {},
   "outputs": [
    {
     "data": {
      "text/plain": [
       "key       0\n",
       "Wire 1    0\n",
       "Wire 2    0\n",
       "Wire 3    0\n",
       "Wire 4    0\n",
       "Wire 5    0\n",
       "Wire 6    0\n",
       "Wire 7    0\n",
       "Wire 8    0\n",
       "Wire 9    0\n",
       "dtype: int64"
      ]
     },
     "execution_count": 46,
     "metadata": {},
     "output_type": "execute_result"
    }
   ],
   "source": [
    "# заполняем пропуски 0\n",
    "data_wire = data_wire.fillna(0)\n",
    "data_wire.isna().sum()"
   ]
  },
  {
   "cell_type": "code",
   "execution_count": 47,
   "id": "87a37573",
   "metadata": {},
   "outputs": [
    {
     "data": {
      "text/plain": [
       "(3081, 10)"
      ]
     },
     "execution_count": 47,
     "metadata": {},
     "output_type": "execute_result"
    }
   ],
   "source": [
    "data_wire.shape"
   ]
  },
  {
   "cell_type": "code",
   "execution_count": 48,
   "id": "2e1de7a9",
   "metadata": {},
   "outputs": [],
   "source": [
    "# убираем признаки Wire 5\n",
    "data_wire_final = data_wire[['key', 'Wire 1', 'Wire 2', 'Wire 3', 'Wire 4', 'Wire 6',\n",
    "       'Wire 7', 'Wire 8', 'Wire 9']]"
   ]
  },
  {
   "cell_type": "code",
   "execution_count": 49,
   "id": "cbcc03ec",
   "metadata": {},
   "outputs": [
    {
     "data": {
      "text/html": [
       "<div>\n",
       "<style scoped>\n",
       "    .dataframe tbody tr th:only-of-type {\n",
       "        vertical-align: middle;\n",
       "    }\n",
       "\n",
       "    .dataframe tbody tr th {\n",
       "        vertical-align: top;\n",
       "    }\n",
       "\n",
       "    .dataframe thead th {\n",
       "        text-align: right;\n",
       "    }\n",
       "</style>\n",
       "<table border=\"1\" class=\"dataframe\">\n",
       "  <thead>\n",
       "    <tr style=\"text-align: right;\">\n",
       "      <th></th>\n",
       "      <th>key</th>\n",
       "      <th>Wire 1</th>\n",
       "      <th>Wire 2</th>\n",
       "      <th>Wire 3</th>\n",
       "      <th>Wire 4</th>\n",
       "      <th>Wire 6</th>\n",
       "      <th>Wire 7</th>\n",
       "      <th>Wire 8</th>\n",
       "      <th>Wire 9</th>\n",
       "      <th>sum_wire</th>\n",
       "    </tr>\n",
       "  </thead>\n",
       "  <tbody>\n",
       "    <tr>\n",
       "      <th>key</th>\n",
       "      <td>1.000000</td>\n",
       "      <td>-0.070648</td>\n",
       "      <td>0.014930</td>\n",
       "      <td>0.008904</td>\n",
       "      <td>0.016976</td>\n",
       "      <td>0.009915</td>\n",
       "      <td>0.043671</td>\n",
       "      <td>-0.018350</td>\n",
       "      <td>-0.010187</td>\n",
       "      <td>-0.032994</td>\n",
       "    </tr>\n",
       "    <tr>\n",
       "      <th>Wire 1</th>\n",
       "      <td>-0.070648</td>\n",
       "      <td>1.000000</td>\n",
       "      <td>-0.047824</td>\n",
       "      <td>0.063818</td>\n",
       "      <td>-0.132207</td>\n",
       "      <td>-0.139721</td>\n",
       "      <td>-0.098728</td>\n",
       "      <td>0.025705</td>\n",
       "      <td>0.019411</td>\n",
       "      <td>0.627498</td>\n",
       "    </tr>\n",
       "    <tr>\n",
       "      <th>Wire 2</th>\n",
       "      <td>0.014930</td>\n",
       "      <td>-0.047824</td>\n",
       "      <td>1.000000</td>\n",
       "      <td>0.143669</td>\n",
       "      <td>-0.032135</td>\n",
       "      <td>-0.064760</td>\n",
       "      <td>-0.024473</td>\n",
       "      <td>0.061162</td>\n",
       "      <td>0.205339</td>\n",
       "      <td>0.546885</td>\n",
       "    </tr>\n",
       "    <tr>\n",
       "      <th>Wire 3</th>\n",
       "      <td>0.008904</td>\n",
       "      <td>0.063818</td>\n",
       "      <td>0.143669</td>\n",
       "      <td>1.000000</td>\n",
       "      <td>0.150634</td>\n",
       "      <td>0.161709</td>\n",
       "      <td>0.126731</td>\n",
       "      <td>-0.009627</td>\n",
       "      <td>-0.010799</td>\n",
       "      <td>0.604895</td>\n",
       "    </tr>\n",
       "    <tr>\n",
       "      <th>Wire 4</th>\n",
       "      <td>0.016976</td>\n",
       "      <td>-0.132207</td>\n",
       "      <td>-0.032135</td>\n",
       "      <td>0.150634</td>\n",
       "      <td>1.000000</td>\n",
       "      <td>0.386320</td>\n",
       "      <td>0.221907</td>\n",
       "      <td>-0.004578</td>\n",
       "      <td>-0.005135</td>\n",
       "      <td>0.086436</td>\n",
       "    </tr>\n",
       "    <tr>\n",
       "      <th>Wire 6</th>\n",
       "      <td>0.009915</td>\n",
       "      <td>-0.139721</td>\n",
       "      <td>-0.064760</td>\n",
       "      <td>0.161709</td>\n",
       "      <td>0.386320</td>\n",
       "      <td>1.000000</td>\n",
       "      <td>0.269873</td>\n",
       "      <td>-0.009564</td>\n",
       "      <td>-0.010729</td>\n",
       "      <td>0.113322</td>\n",
       "    </tr>\n",
       "    <tr>\n",
       "      <th>Wire 7</th>\n",
       "      <td>0.043671</td>\n",
       "      <td>-0.098728</td>\n",
       "      <td>-0.024473</td>\n",
       "      <td>0.126731</td>\n",
       "      <td>0.221907</td>\n",
       "      <td>0.269873</td>\n",
       "      <td>1.000000</td>\n",
       "      <td>-0.003486</td>\n",
       "      <td>-0.003911</td>\n",
       "      <td>0.043975</td>\n",
       "    </tr>\n",
       "    <tr>\n",
       "      <th>Wire 8</th>\n",
       "      <td>-0.018350</td>\n",
       "      <td>0.025705</td>\n",
       "      <td>0.061162</td>\n",
       "      <td>-0.009627</td>\n",
       "      <td>-0.004578</td>\n",
       "      <td>-0.009564</td>\n",
       "      <td>-0.003486</td>\n",
       "      <td>1.000000</td>\n",
       "      <td>-0.006360</td>\n",
       "      <td>0.107751</td>\n",
       "    </tr>\n",
       "    <tr>\n",
       "      <th>Wire 9</th>\n",
       "      <td>-0.010187</td>\n",
       "      <td>0.019411</td>\n",
       "      <td>0.205339</td>\n",
       "      <td>-0.010799</td>\n",
       "      <td>-0.005135</td>\n",
       "      <td>-0.010729</td>\n",
       "      <td>-0.003911</td>\n",
       "      <td>-0.006360</td>\n",
       "      <td>1.000000</td>\n",
       "      <td>0.167145</td>\n",
       "    </tr>\n",
       "    <tr>\n",
       "      <th>sum_wire</th>\n",
       "      <td>-0.032994</td>\n",
       "      <td>0.627498</td>\n",
       "      <td>0.546885</td>\n",
       "      <td>0.604895</td>\n",
       "      <td>0.086436</td>\n",
       "      <td>0.113322</td>\n",
       "      <td>0.043975</td>\n",
       "      <td>0.107751</td>\n",
       "      <td>0.167145</td>\n",
       "      <td>1.000000</td>\n",
       "    </tr>\n",
       "  </tbody>\n",
       "</table>\n",
       "</div>"
      ],
      "text/plain": [
       "               key    Wire 1    Wire 2    Wire 3    Wire 4    Wire 6  \\\n",
       "key       1.000000 -0.070648  0.014930  0.008904  0.016976  0.009915   \n",
       "Wire 1   -0.070648  1.000000 -0.047824  0.063818 -0.132207 -0.139721   \n",
       "Wire 2    0.014930 -0.047824  1.000000  0.143669 -0.032135 -0.064760   \n",
       "Wire 3    0.008904  0.063818  0.143669  1.000000  0.150634  0.161709   \n",
       "Wire 4    0.016976 -0.132207 -0.032135  0.150634  1.000000  0.386320   \n",
       "Wire 6    0.009915 -0.139721 -0.064760  0.161709  0.386320  1.000000   \n",
       "Wire 7    0.043671 -0.098728 -0.024473  0.126731  0.221907  0.269873   \n",
       "Wire 8   -0.018350  0.025705  0.061162 -0.009627 -0.004578 -0.009564   \n",
       "Wire 9   -0.010187  0.019411  0.205339 -0.010799 -0.005135 -0.010729   \n",
       "sum_wire -0.032994  0.627498  0.546885  0.604895  0.086436  0.113322   \n",
       "\n",
       "            Wire 7    Wire 8    Wire 9  sum_wire  \n",
       "key       0.043671 -0.018350 -0.010187 -0.032994  \n",
       "Wire 1   -0.098728  0.025705  0.019411  0.627498  \n",
       "Wire 2   -0.024473  0.061162  0.205339  0.546885  \n",
       "Wire 3    0.126731 -0.009627 -0.010799  0.604895  \n",
       "Wire 4    0.221907 -0.004578 -0.005135  0.086436  \n",
       "Wire 6    0.269873 -0.009564 -0.010729  0.113322  \n",
       "Wire 7    1.000000 -0.003486 -0.003911  0.043975  \n",
       "Wire 8   -0.003486  1.000000 -0.006360  0.107751  \n",
       "Wire 9   -0.003911 -0.006360  1.000000  0.167145  \n",
       "sum_wire  0.043975  0.107751  0.167145  1.000000  "
      ]
     },
     "execution_count": 49,
     "metadata": {},
     "output_type": "execute_result"
    }
   ],
   "source": [
    "# создаем новый признак - сумма поданных проволочных материалов\n",
    "\n",
    "data_wire_final['sum_wire'] = (data_wire_final['Wire 1']+data_wire_final['Wire 2']+data_wire_final['Wire 3']+\n",
    "                              data_wire_final['Wire 4']+data_wire_final['Wire 6']+data_wire_final['Wire 7']+\n",
    "                              data_wire_final['Wire 8']+data_wire_final['Wire 9']) \n",
    "data_wire_final.corr()\n"
   ]
  },
  {
   "cell_type": "code",
   "execution_count": 50,
   "id": "b02bb010",
   "metadata": {},
   "outputs": [
    {
     "data": {
      "text/plain": [
       "(3081, 10)"
      ]
     },
     "execution_count": 50,
     "metadata": {},
     "output_type": "execute_result"
    }
   ],
   "source": [
    "data_wire_final.shape"
   ]
  },
  {
   "cell_type": "code",
   "execution_count": 51,
   "id": "0844e516",
   "metadata": {},
   "outputs": [],
   "source": [
    "# переимунуем столбец data_gas, чтобы в итоговом df привести наименования столбцов к единообразию\n",
    "data_gas.columns = ['key', 'gas_1']"
   ]
  },
  {
   "cell_type": "code",
   "execution_count": 52,
   "id": "4ada7573",
   "metadata": {},
   "outputs": [
    {
     "name": "stdout",
     "output_type": "stream",
     "text": [
      "(2329, 28)\n"
     ]
    },
    {
     "data": {
      "text/html": [
       "<div>\n",
       "<style scoped>\n",
       "    .dataframe tbody tr th:only-of-type {\n",
       "        vertical-align: middle;\n",
       "    }\n",
       "\n",
       "    .dataframe tbody tr th {\n",
       "        vertical-align: top;\n",
       "    }\n",
       "\n",
       "    .dataframe thead th {\n",
       "        text-align: right;\n",
       "    }\n",
       "</style>\n",
       "<table border=\"1\" class=\"dataframe\">\n",
       "  <thead>\n",
       "    <tr style=\"text-align: right;\">\n",
       "      <th></th>\n",
       "      <th>key</th>\n",
       "      <th>first_temp</th>\n",
       "      <th>last_temp</th>\n",
       "      <th>full_power</th>\n",
       "      <th>count_iterations</th>\n",
       "      <th>Bulk 1</th>\n",
       "      <th>Bulk 2</th>\n",
       "      <th>Bulk 3</th>\n",
       "      <th>Bulk 4</th>\n",
       "      <th>Bulk 5</th>\n",
       "      <th>...</th>\n",
       "      <th>Wire 1</th>\n",
       "      <th>Wire 2</th>\n",
       "      <th>Wire 3</th>\n",
       "      <th>Wire 4</th>\n",
       "      <th>Wire 6</th>\n",
       "      <th>Wire 7</th>\n",
       "      <th>Wire 8</th>\n",
       "      <th>Wire 9</th>\n",
       "      <th>sum_wire</th>\n",
       "      <th>gas_1</th>\n",
       "    </tr>\n",
       "  </thead>\n",
       "  <tbody>\n",
       "    <tr>\n",
       "      <th>0</th>\n",
       "      <td>1</td>\n",
       "      <td>1571.0</td>\n",
       "      <td>1613.0</td>\n",
       "      <td>5.826395</td>\n",
       "      <td>5</td>\n",
       "      <td>0.0</td>\n",
       "      <td>0.0</td>\n",
       "      <td>0.0</td>\n",
       "      <td>43.0</td>\n",
       "      <td>0.0</td>\n",
       "      <td>...</td>\n",
       "      <td>60.059998</td>\n",
       "      <td>0.000000</td>\n",
       "      <td>0.0</td>\n",
       "      <td>0.0</td>\n",
       "      <td>0.0</td>\n",
       "      <td>0.0</td>\n",
       "      <td>0.0</td>\n",
       "      <td>0.0</td>\n",
       "      <td>60.059998</td>\n",
       "      <td>29.749986</td>\n",
       "    </tr>\n",
       "    <tr>\n",
       "      <th>1</th>\n",
       "      <td>2</td>\n",
       "      <td>1581.0</td>\n",
       "      <td>1602.0</td>\n",
       "      <td>3.649216</td>\n",
       "      <td>4</td>\n",
       "      <td>0.0</td>\n",
       "      <td>0.0</td>\n",
       "      <td>0.0</td>\n",
       "      <td>73.0</td>\n",
       "      <td>0.0</td>\n",
       "      <td>...</td>\n",
       "      <td>96.052315</td>\n",
       "      <td>0.000000</td>\n",
       "      <td>0.0</td>\n",
       "      <td>0.0</td>\n",
       "      <td>0.0</td>\n",
       "      <td>0.0</td>\n",
       "      <td>0.0</td>\n",
       "      <td>0.0</td>\n",
       "      <td>96.052315</td>\n",
       "      <td>12.555561</td>\n",
       "    </tr>\n",
       "    <tr>\n",
       "      <th>2</th>\n",
       "      <td>3</td>\n",
       "      <td>1596.0</td>\n",
       "      <td>1599.0</td>\n",
       "      <td>2.989534</td>\n",
       "      <td>5</td>\n",
       "      <td>0.0</td>\n",
       "      <td>0.0</td>\n",
       "      <td>0.0</td>\n",
       "      <td>34.0</td>\n",
       "      <td>0.0</td>\n",
       "      <td>...</td>\n",
       "      <td>91.160157</td>\n",
       "      <td>0.000000</td>\n",
       "      <td>0.0</td>\n",
       "      <td>0.0</td>\n",
       "      <td>0.0</td>\n",
       "      <td>0.0</td>\n",
       "      <td>0.0</td>\n",
       "      <td>0.0</td>\n",
       "      <td>91.160157</td>\n",
       "      <td>28.554793</td>\n",
       "    </tr>\n",
       "    <tr>\n",
       "      <th>3</th>\n",
       "      <td>4</td>\n",
       "      <td>1601.0</td>\n",
       "      <td>1625.0</td>\n",
       "      <td>3.814962</td>\n",
       "      <td>4</td>\n",
       "      <td>0.0</td>\n",
       "      <td>0.0</td>\n",
       "      <td>0.0</td>\n",
       "      <td>81.0</td>\n",
       "      <td>0.0</td>\n",
       "      <td>...</td>\n",
       "      <td>89.063515</td>\n",
       "      <td>0.000000</td>\n",
       "      <td>0.0</td>\n",
       "      <td>0.0</td>\n",
       "      <td>0.0</td>\n",
       "      <td>0.0</td>\n",
       "      <td>0.0</td>\n",
       "      <td>0.0</td>\n",
       "      <td>89.063515</td>\n",
       "      <td>18.841219</td>\n",
       "    </tr>\n",
       "    <tr>\n",
       "      <th>4</th>\n",
       "      <td>5</td>\n",
       "      <td>1576.0</td>\n",
       "      <td>1602.0</td>\n",
       "      <td>4.035758</td>\n",
       "      <td>4</td>\n",
       "      <td>0.0</td>\n",
       "      <td>0.0</td>\n",
       "      <td>0.0</td>\n",
       "      <td>78.0</td>\n",
       "      <td>0.0</td>\n",
       "      <td>...</td>\n",
       "      <td>89.238236</td>\n",
       "      <td>9.114560</td>\n",
       "      <td>0.0</td>\n",
       "      <td>0.0</td>\n",
       "      <td>0.0</td>\n",
       "      <td>0.0</td>\n",
       "      <td>0.0</td>\n",
       "      <td>0.0</td>\n",
       "      <td>98.352796</td>\n",
       "      <td>5.413692</td>\n",
       "    </tr>\n",
       "    <tr>\n",
       "      <th>5</th>\n",
       "      <td>6</td>\n",
       "      <td>1543.0</td>\n",
       "      <td>1596.0</td>\n",
       "      <td>4.786837</td>\n",
       "      <td>4</td>\n",
       "      <td>0.0</td>\n",
       "      <td>0.0</td>\n",
       "      <td>0.0</td>\n",
       "      <td>117.0</td>\n",
       "      <td>0.0</td>\n",
       "      <td>...</td>\n",
       "      <td>99.109917</td>\n",
       "      <td>9.114560</td>\n",
       "      <td>0.0</td>\n",
       "      <td>0.0</td>\n",
       "      <td>0.0</td>\n",
       "      <td>0.0</td>\n",
       "      <td>0.0</td>\n",
       "      <td>0.0</td>\n",
       "      <td>108.224477</td>\n",
       "      <td>11.273392</td>\n",
       "    </tr>\n",
       "    <tr>\n",
       "      <th>6</th>\n",
       "      <td>7</td>\n",
       "      <td>1586.0</td>\n",
       "      <td>1599.0</td>\n",
       "      <td>2.987777</td>\n",
       "      <td>4</td>\n",
       "      <td>0.0</td>\n",
       "      <td>0.0</td>\n",
       "      <td>0.0</td>\n",
       "      <td>117.0</td>\n",
       "      <td>0.0</td>\n",
       "      <td>...</td>\n",
       "      <td>98.061600</td>\n",
       "      <td>0.000000</td>\n",
       "      <td>0.0</td>\n",
       "      <td>0.0</td>\n",
       "      <td>0.0</td>\n",
       "      <td>0.0</td>\n",
       "      <td>0.0</td>\n",
       "      <td>0.0</td>\n",
       "      <td>98.061600</td>\n",
       "      <td>9.836267</td>\n",
       "    </tr>\n",
       "    <tr>\n",
       "      <th>7</th>\n",
       "      <td>8</td>\n",
       "      <td>1577.0</td>\n",
       "      <td>1598.0</td>\n",
       "      <td>4.627389</td>\n",
       "      <td>4</td>\n",
       "      <td>0.0</td>\n",
       "      <td>0.0</td>\n",
       "      <td>0.0</td>\n",
       "      <td>99.0</td>\n",
       "      <td>0.0</td>\n",
       "      <td>...</td>\n",
       "      <td>155.282394</td>\n",
       "      <td>0.000000</td>\n",
       "      <td>0.0</td>\n",
       "      <td>0.0</td>\n",
       "      <td>0.0</td>\n",
       "      <td>0.0</td>\n",
       "      <td>0.0</td>\n",
       "      <td>0.0</td>\n",
       "      <td>155.282394</td>\n",
       "      <td>15.171553</td>\n",
       "    </tr>\n",
       "    <tr>\n",
       "      <th>8</th>\n",
       "      <td>9</td>\n",
       "      <td>1587.0</td>\n",
       "      <td>1592.0</td>\n",
       "      <td>2.555348</td>\n",
       "      <td>5</td>\n",
       "      <td>0.0</td>\n",
       "      <td>0.0</td>\n",
       "      <td>0.0</td>\n",
       "      <td>117.0</td>\n",
       "      <td>0.0</td>\n",
       "      <td>...</td>\n",
       "      <td>113.393279</td>\n",
       "      <td>9.143681</td>\n",
       "      <td>0.0</td>\n",
       "      <td>0.0</td>\n",
       "      <td>0.0</td>\n",
       "      <td>0.0</td>\n",
       "      <td>0.0</td>\n",
       "      <td>0.0</td>\n",
       "      <td>122.536960</td>\n",
       "      <td>8.216623</td>\n",
       "    </tr>\n",
       "    <tr>\n",
       "      <th>9</th>\n",
       "      <td>10</td>\n",
       "      <td>1574.0</td>\n",
       "      <td>1593.0</td>\n",
       "      <td>3.851739</td>\n",
       "      <td>6</td>\n",
       "      <td>0.0</td>\n",
       "      <td>0.0</td>\n",
       "      <td>0.0</td>\n",
       "      <td>0.0</td>\n",
       "      <td>0.0</td>\n",
       "      <td>...</td>\n",
       "      <td>81.244796</td>\n",
       "      <td>12.376000</td>\n",
       "      <td>0.0</td>\n",
       "      <td>0.0</td>\n",
       "      <td>0.0</td>\n",
       "      <td>0.0</td>\n",
       "      <td>0.0</td>\n",
       "      <td>0.0</td>\n",
       "      <td>93.620796</td>\n",
       "      <td>6.529891</td>\n",
       "    </tr>\n",
       "  </tbody>\n",
       "</table>\n",
       "<p>10 rows × 28 columns</p>\n",
       "</div>"
      ],
      "text/plain": [
       "   key  first_temp  last_temp  full_power  count_iterations  Bulk 1  Bulk 2  \\\n",
       "0    1      1571.0     1613.0    5.826395                 5     0.0     0.0   \n",
       "1    2      1581.0     1602.0    3.649216                 4     0.0     0.0   \n",
       "2    3      1596.0     1599.0    2.989534                 5     0.0     0.0   \n",
       "3    4      1601.0     1625.0    3.814962                 4     0.0     0.0   \n",
       "4    5      1576.0     1602.0    4.035758                 4     0.0     0.0   \n",
       "5    6      1543.0     1596.0    4.786837                 4     0.0     0.0   \n",
       "6    7      1586.0     1599.0    2.987777                 4     0.0     0.0   \n",
       "7    8      1577.0     1598.0    4.627389                 4     0.0     0.0   \n",
       "8    9      1587.0     1592.0    2.555348                 5     0.0     0.0   \n",
       "9   10      1574.0     1593.0    3.851739                 6     0.0     0.0   \n",
       "\n",
       "   Bulk 3  Bulk 4  Bulk 5  ...      Wire 1     Wire 2  Wire 3  Wire 4  Wire 6  \\\n",
       "0     0.0    43.0     0.0  ...   60.059998   0.000000     0.0     0.0     0.0   \n",
       "1     0.0    73.0     0.0  ...   96.052315   0.000000     0.0     0.0     0.0   \n",
       "2     0.0    34.0     0.0  ...   91.160157   0.000000     0.0     0.0     0.0   \n",
       "3     0.0    81.0     0.0  ...   89.063515   0.000000     0.0     0.0     0.0   \n",
       "4     0.0    78.0     0.0  ...   89.238236   9.114560     0.0     0.0     0.0   \n",
       "5     0.0   117.0     0.0  ...   99.109917   9.114560     0.0     0.0     0.0   \n",
       "6     0.0   117.0     0.0  ...   98.061600   0.000000     0.0     0.0     0.0   \n",
       "7     0.0    99.0     0.0  ...  155.282394   0.000000     0.0     0.0     0.0   \n",
       "8     0.0   117.0     0.0  ...  113.393279   9.143681     0.0     0.0     0.0   \n",
       "9     0.0     0.0     0.0  ...   81.244796  12.376000     0.0     0.0     0.0   \n",
       "\n",
       "   Wire 7  Wire 8  Wire 9    sum_wire      gas_1  \n",
       "0     0.0     0.0     0.0   60.059998  29.749986  \n",
       "1     0.0     0.0     0.0   96.052315  12.555561  \n",
       "2     0.0     0.0     0.0   91.160157  28.554793  \n",
       "3     0.0     0.0     0.0   89.063515  18.841219  \n",
       "4     0.0     0.0     0.0   98.352796   5.413692  \n",
       "5     0.0     0.0     0.0  108.224477  11.273392  \n",
       "6     0.0     0.0     0.0   98.061600   9.836267  \n",
       "7     0.0     0.0     0.0  155.282394  15.171553  \n",
       "8     0.0     0.0     0.0  122.536960   8.216623  \n",
       "9     0.0     0.0     0.0   93.620796   6.529891  \n",
       "\n",
       "[10 rows x 28 columns]"
      ]
     },
     "execution_count": 52,
     "metadata": {},
     "output_type": "execute_result"
    }
   ],
   "source": [
    "# объединяем подготовленные df в итоговый df\n",
    "df_final = temp_final.merge(data_arc_final, on = 'key', how='inner') \\\n",
    "          .merge(data_bulk_final, on = 'key', how='inner') \\\n",
    "          .merge(data_wire_final, on = 'key', how='inner') \\\n",
    "          .merge(data_gas, on = 'key', how='inner')\n",
    "\n",
    "print(df_final.shape)\n",
    "df_final.head(10)"
   ]
  },
  {
   "cell_type": "code",
   "execution_count": 53,
   "id": "c1ce9f9f",
   "metadata": {
    "scrolled": true
   },
   "outputs": [
    {
     "data": {
      "text/plain": [
       "Index(['key', 'first_temp', 'last_temp', 'full_power', 'count_iterations',\n",
       "       'bulk_1', 'bulk_2', 'bulk_3', 'bulk_4', 'bulk_5', 'bulk_6', 'bulk_7',\n",
       "       'bulk_10', 'bulk_11', 'bulk_13', 'bulk_14', 'bulk_15', 'sum_bulk',\n",
       "       'wire_1', 'wire_2', 'wire_3', 'wire_4', 'wire_6', 'wire_7', 'wire_8',\n",
       "       'wire_9', 'sum_wire', 'gas_1'],\n",
       "      dtype='object')"
      ]
     },
     "execution_count": 53,
     "metadata": {},
     "output_type": "execute_result"
    }
   ],
   "source": [
    "# приведем наименования столбцов итогового df к единообразию\n",
    "df_final.columns = df_final.columns.str.replace(' ', '_').str.lower()\n",
    "df_final.columns"
   ]
  },
  {
   "cell_type": "code",
   "execution_count": 54,
   "id": "11086300",
   "metadata": {},
   "outputs": [
    {
     "name": "stdout",
     "output_type": "stream",
     "text": [
      "(2329, 28)\n"
     ]
    },
    {
     "data": {
      "text/plain": [
       "(2329, 27)"
      ]
     },
     "execution_count": 54,
     "metadata": {},
     "output_type": "execute_result"
    }
   ],
   "source": [
    "#удаляем столбец key из финального df\n",
    "print(df_final.shape)\n",
    "df_final = df_final.drop('key', axis=1)\n",
    "df_final.shape"
   ]
  },
  {
   "cell_type": "code",
   "execution_count": 55,
   "id": "7f39e6da",
   "metadata": {
    "scrolled": false
   },
   "outputs": [
    {
     "name": "stdout",
     "output_type": "stream",
     "text": [
      "(2329, 27)\n"
     ]
    },
    {
     "data": {
      "text/plain": [
       "(2325, 27)"
      ]
     },
     "execution_count": 55,
     "metadata": {},
     "output_type": "execute_result"
    }
   ],
   "source": [
    "# для повышения точности модели уберем 4 ключа с начальной температурой менее 1500\n",
    "print(df_final.shape)\n",
    "df_final = df_final.query('first_temp >= 1500')\n",
    "df_final.shape"
   ]
  },
  {
   "cell_type": "markdown",
   "id": "a0d098e6",
   "metadata": {},
   "source": [
    "## Обучение моделей"
   ]
  },
  {
   "cell_type": "code",
   "execution_count": 56,
   "id": "26bbfc57",
   "metadata": {},
   "outputs": [],
   "source": [
    "# выделяем целевой и остальные признаки\n",
    "target = df_final['last_temp']\n",
    "features = df_final.drop('last_temp', axis=1)"
   ]
  },
  {
   "cell_type": "code",
   "execution_count": 57,
   "id": "8449728c",
   "metadata": {},
   "outputs": [],
   "source": [
    "# делим данные на обучающую и тестовую выборки\n",
    "features_train, features_test, target_train, target_test = train_test_split(features, \n",
    "                                                                              target, \n",
    "                                                                              test_size=0.25, \n",
    "                                                                              random_state=250722)"
   ]
  },
  {
   "cell_type": "markdown",
   "id": "7840e003",
   "metadata": {},
   "source": [
    "### LightGBM"
   ]
  },
  {
   "cell_type": "code",
   "execution_count": 59,
   "id": "97097e71",
   "metadata": {
    "scrolled": false
   },
   "outputs": [
    {
     "name": "stdout",
     "output_type": "stream",
     "text": [
      "\n",
      " best parameters:\n",
      " {'learning_rate': 0.01, 'max_depth': 10, 'min_child_samples': 5, 'n_estimators': 800, 'num_leaves': 20, 'reg_alpha': 0.01}\n",
      "\n",
      " best score:\n",
      " -6.056197484846043\n",
      "CPU times: user 1h 49min 58s, sys: 13min 29s, total: 2h 3min 28s\n",
      "Wall time: 17min 42s\n"
     ]
    }
   ],
   "source": [
    "%%time\n",
    "# подбор гиперпараметров для LightGBM\n",
    "model_lgbm = lgb.LGBMRegressor(random_state=250722)\n",
    "\n",
    "param_lgbm = {\n",
    "              'learning_rate': [0.01,0.03,0.1],\n",
    "              'max_depth': [5,10],\n",
    "              'n_estimators': [500,800],\n",
    "              'num_leaves':[20,60,100],\n",
    "              'min_child_samples':[5,10,15],\n",
    "              'reg_alpha':[0.01,0.02,0.03]}\n",
    "\n",
    "model_lgbm = GridSearchCV(estimator=model_lgbm, \n",
    "                          param_grid = param_lgbm, \n",
    "                          cv=5, \n",
    "                          scoring='neg_mean_absolute_error')\n",
    "                        \n",
    "model_lgbm.fit(features_train, target_train)\n",
    "\n",
    "print(\"\\n best parameters:\\n\", model_lgbm.best_params_)\n",
    "print(\"\\n best score:\\n\", model_lgbm.best_score_)"
   ]
  },
  {
   "cell_type": "markdown",
   "id": "29aab9f3",
   "metadata": {},
   "source": [
    "### CatBoost"
   ]
  },
  {
   "cell_type": "code",
   "execution_count": 60,
   "id": "d602ed18",
   "metadata": {
    "scrolled": true
   },
   "outputs": [
    {
     "name": "stdout",
     "output_type": "stream",
     "text": [
      "0:\tlearn: 7.9239704\ttotal: 200ms\tremaining: 9.82s\n",
      "49:\tlearn: 6.6529391\ttotal: 2.9s\tremaining: 0us\n",
      "0:\tlearn: 7.8982774\ttotal: 64.7ms\tremaining: 3.17s\n",
      "49:\tlearn: 3.4323978\ttotal: 2.67s\tremaining: 0us\n",
      "0:\tlearn: 8.0632702\ttotal: 61.1ms\tremaining: 4.21s\n",
      "69:\tlearn: 3.9069722\ttotal: 3.7s\tremaining: 0us\n",
      "0:\tlearn: 7.4256621\ttotal: 34.1ms\tremaining: 2.35s\n",
      "69:\tlearn: 2.8882285\ttotal: 3.62s\tremaining: 0us\n",
      "0:\tlearn: 7.7341496\ttotal: 75.7ms\tremaining: 7.49s\n",
      "99:\tlearn: 5.7112133\ttotal: 5.3s\tremaining: 0us\n",
      "0:\tlearn: 7.6375169\ttotal: 60.1ms\tremaining: 5.95s\n",
      "99:\tlearn: 2.1823461\ttotal: 7.56s\tremaining: 0us\n",
      "0:\tlearn: 7.8987087\ttotal: 5.18s\tremaining: 4m 13s\n",
      "49:\tlearn: 5.8630610\ttotal: 4m 1s\tremaining: 0us\n",
      "0:\tlearn: 7.7982056\ttotal: 5.89s\tremaining: 4m 48s\n",
      "49:\tlearn: 1.2464225\ttotal: 3m 53s\tremaining: 0us\n",
      "0:\tlearn: 7.9556375\ttotal: 3.82s\tremaining: 4m 23s\n",
      "69:\tlearn: 5.1681423\ttotal: 5m 54s\tremaining: 0us\n",
      "0:\tlearn: 7.3650169\ttotal: 4.84s\tremaining: 5m 33s\n",
      "69:\tlearn: 0.7691846\ttotal: 5m 43s\tremaining: 0us\n",
      "0:\tlearn: 7.7358670\ttotal: 5.69s\tremaining: 9m 23s\n",
      "99:\tlearn: 1.0788345\ttotal: 8m 30s\tremaining: 0us\n",
      "0:\tlearn: 8.0632702\ttotal: 189ms\tremaining: 9.28s\n",
      "49:\tlearn: 4.3877159\ttotal: 2.94s\tremaining: 0us\n",
      "0:\tlearn: 7.6143359\ttotal: 29.8ms\tremaining: 1.46s\n",
      "49:\tlearn: 3.4473472\ttotal: 2.56s\tremaining: 0us\n",
      "0:\tlearn: 7.7341496\ttotal: 48.9ms\tremaining: 3.37s\n",
      "69:\tlearn: 6.1592302\ttotal: 3.78s\tremaining: 0us\n",
      "0:\tlearn: 7.6143359\ttotal: 46.6ms\tremaining: 3.21s\n",
      "69:\tlearn: 2.9897687\ttotal: 3.7s\tremaining: 0us\n",
      "0:\tlearn: 8.0632702\ttotal: 52.3ms\tremaining: 5.18s\n",
      "99:\tlearn: 3.3678205\ttotal: 5.61s\tremaining: 0us\n",
      "0:\tlearn: 7.4256621\ttotal: 34.9ms\tremaining: 3.45s\n",
      "99:\tlearn: 2.2963427\ttotal: 7.88s\tremaining: 0us\n",
      "0:\tlearn: 8.0129474\ttotal: 4.54s\tremaining: 3m 42s\n",
      "49:\tlearn: 2.3678479\ttotal: 3m 50s\tremaining: 0us\n",
      "0:\tlearn: 7.5010743\ttotal: 7.19s\tremaining: 5m 52s\n",
      "49:\tlearn: 2.3128831\ttotal: 4m 2s\tremaining: 0us\n",
      "0:\tlearn: 7.8987087\ttotal: 4.58s\tremaining: 5m 16s\n",
      "69:\tlearn: 5.2361231\ttotal: 5m 50s\tremaining: 0us\n",
      "0:\tlearn: 7.4652788\ttotal: 3.94s\tremaining: 4m 31s\n",
      "69:\tlearn: 0.7228839\ttotal: 5m 36s\tremaining: 0us\n",
      "0:\tlearn: 7.7149811\ttotal: 4.53s\tremaining: 7m 28s\n",
      "99:\tlearn: 4.3199876\ttotal: 8m 12s\tremaining: 0us\n",
      "0:\tlearn: 7.4652788\ttotal: 4.41s\tremaining: 7m 16s\n",
      "99:\tlearn: 0.3867918\ttotal: 6m 7s\tremaining: 0us\n",
      "0:\tlearn: 7.8234208\ttotal: 206ms\tremaining: 10.1s\n",
      "49:\tlearn: 4.2278642\ttotal: 2.94s\tremaining: 0us\n",
      "0:\tlearn: 7.6375169\ttotal: 47.4ms\tremaining: 2.32s\n",
      "49:\tlearn: 3.1494626\ttotal: 2.6s\tremaining: 0us\n",
      "0:\tlearn: 7.9269359\ttotal: 41.5ms\tremaining: 2.87s\n",
      "69:\tlearn: 3.9253474\ttotal: 3.66s\tremaining: 0us\n",
      "0:\tlearn: 7.6375169\ttotal: 55.2ms\tremaining: 3.81s\n",
      "69:\tlearn: 2.7257965\ttotal: 3.74s\tremaining: 0us\n",
      "0:\tlearn: 7.9269359\ttotal: 81.7ms\tremaining: 8.09s\n",
      "99:\tlearn: 3.4259493\ttotal: 5.46s\tremaining: 0us\n",
      "0:\tlearn: 7.6143359\ttotal: 44ms\tremaining: 4.36s\n",
      "99:\tlearn: 2.4337795\ttotal: 8.18s\tremaining: 0us\n",
      "0:\tlearn: 7.7358670\ttotal: 4.31s\tremaining: 3m 31s\n",
      "49:\tlearn: 2.2189459\ttotal: 4m 5s\tremaining: 0us\n",
      "0:\tlearn: 7.3650169\ttotal: 4.96s\tremaining: 4m 3s\n",
      "49:\tlearn: 1.1641806\ttotal: 3m 56s\tremaining: 0us\n",
      "0:\tlearn: 8.0129474\ttotal: 3.87s\tremaining: 4m 27s\n",
      "69:\tlearn: 1.6857326\ttotal: 5m 41s\tremaining: 0us\n",
      "0:\tlearn: 7.7982056\ttotal: 4.26s\tremaining: 4m 53s\n",
      "69:\tlearn: 0.8137604\ttotal: 5m 36s\tremaining: 0us\n",
      "0:\tlearn: 7.8695471\ttotal: 3.98s\tremaining: 6m 33s\n",
      "99:\tlearn: 1.1123771\ttotal: 8m 21s\tremaining: 0us\n",
      "0:\tlearn: 7.2349811\ttotal: 5.01s\tremaining: 8m 15s\n",
      "99:\tlearn: 0.3964032\ttotal: 5m 57s\tremaining: 0us\n",
      "0:\tlearn: 7.8477041\ttotal: 78ms\tremaining: 7.72s\n",
      "99:\tlearn: 3.6288245\ttotal: 928ms\tremaining: 0us\n",
      "CPU times: user 5.04 s, sys: 2.09 s, total: 7.12 s\n",
      "Wall time: 34min 21s\n"
     ]
    },
    {
     "data": {
      "text/plain": [
       "GridSearchCV(cv=5,\n",
       "             estimator=<catboost.core.CatBoostRegressor object at 0x7f7ac8d30490>,\n",
       "             n_jobs=-1,\n",
       "             param_grid={'depth': [10, 15], 'iterations': [50, 70, 100],\n",
       "                         'learning_rate': [0.01, 0.05, 0.1]},\n",
       "             scoring='neg_mean_absolute_error')"
      ]
     },
     "execution_count": 60,
     "metadata": {},
     "output_type": "execute_result"
    }
   ],
   "source": [
    "%%time\n",
    "# Подбор гиперпараметров для CatBoost\n",
    "\n",
    "model_CBR = CatBoostRegressor(loss_function=\"MAE\", verbose=150)\n",
    "parameters = {'depth'         : [10,15],\n",
    "              'learning_rate' : [0.01, 0.05, 0.1],\n",
    "              'iterations'    : [50,70,100]}\n",
    "              \n",
    "grid = GridSearchCV(estimator=model_CBR, \n",
    "                    param_grid = parameters, \n",
    "                    cv = 5, n_jobs=-1, \n",
    "                    scoring='neg_mean_absolute_error')\n",
    "\n",
    "grid.fit(features_train, target_train)\n",
    "\n"
   ]
  },
  {
   "cell_type": "code",
   "execution_count": 61,
   "id": "78c498a6",
   "metadata": {
    "scrolled": true
   },
   "outputs": [
    {
     "name": "stdout",
     "output_type": "stream",
     "text": [
      "\n",
      " best parameters CatBoost:\n",
      " {'depth': 10, 'iterations': 100, 'learning_rate': 0.05}\n",
      "\n",
      " best score CatBoost:\n",
      " -6.304357808856027\n"
     ]
    }
   ],
   "source": [
    "# Лучшие гиперпараметры и значение метрики для CatBoost при подборе\n",
    "print(\"\\n best parameters CatBoost:\\n\", grid.best_params_)\n",
    "print(\"\\n best score CatBoost:\\n\", grid.best_score_)"
   ]
  },
  {
   "cell_type": "markdown",
   "id": "391f6de8",
   "metadata": {},
   "source": [
    "Ввиду того, что медель LightGBM показала лучшие результаты при подборе гиперпараметров проверим ее на тестовой выборке."
   ]
  },
  {
   "cell_type": "code",
   "execution_count": 142,
   "id": "82517f51",
   "metadata": {},
   "outputs": [
    {
     "name": "stdout",
     "output_type": "stream",
     "text": [
      "CPU times: user 4.13 s, sys: 300 ms, total: 4.43 s\n",
      "Wall time: 618 ms\n"
     ]
    },
    {
     "data": {
      "text/plain": [
       "LGBMRegressor(learning_rate=0.01, max_depth=20, min_child_samples=5,\n",
       "              n_estimators=800, num_leaves=20, reg_alpha=0.01)"
      ]
     },
     "execution_count": 142,
     "metadata": {},
     "output_type": "execute_result"
    }
   ],
   "source": [
    "%%time\n",
    "# обучаем модель LightGBM@\n",
    "\n",
    "model_lgb = lgb.LGBMRegressor(boosting_type='gbdt', learning_rate = 0.01, n_estimators=800, max_depth=20,\n",
    "                             min_child_samples=5, num_leaves=20, reg_alpha=0.01)\n",
    "                            \n",
    "model_lgb.fit(features_train, target_train)"
   ]
  },
  {
   "cell_type": "code",
   "execution_count": 143,
   "id": "ffce179b",
   "metadata": {
    "scrolled": true
   },
   "outputs": [
    {
     "name": "stdout",
     "output_type": "stream",
     "text": [
      "Лучший результат при подборе параметров -6.056197484846043\n",
      "MAE на тесте для lgb = 5.983178996396564\n"
     ]
    }
   ],
   "source": [
    "# предсказание и расчет MAE для LightGBM\n",
    "print('Лучший результат при подборе параметров', model_lgbm.best_score_)\n",
    "predictions_lgb = model_lgb.predict(features_test)\n",
    "print('MAE на тесте для lgb =',mean_absolute_error(target_test, predictions_lgb))"
   ]
  },
  {
   "cell_type": "markdown",
   "id": "d4f85292",
   "metadata": {},
   "source": [
    "## Общий вывод"
   ]
  },
  {
   "cell_type": "markdown",
   "id": "ef3e8acc",
   "metadata": {},
   "source": [
    "Процесс выполнения проекта состоял из следующих этапов:\n",
    "\n",
    "\n",
    "* **Исследовательский анализ данных** - в рамках которого были загружены все необходимые данные, которые были открыты, исследованы на предмет наличия пропусков, дубликатов, были изучены типы данных, распределения данных и т.д. На основании чего были сделаны выводы о том, какие действия необходимо выполнить на этапе предобработки.\n",
    "\n",
    "\n",
    "* **Предобработка данных:**\n",
    "\n",
    "     **для data_arc**\n",
    "   \n",
    "    1) Исключил отрицательные значения по столбцу \"Реактивная мощность\".\n",
    "\n",
    "    2) Добавил новый признак общая можность, расчитанный по формуле $S=\\sqrt{P^2+Q^2}$, где: P — активная мощность,  Q — реактивная мощность.\n",
    "\n",
    "    3) Добовил столбец с длительностью нагрева с помощью разницы столбцов с началом нагрева и концом нагрева.\n",
    "\n",
    "    4) Сгруппировал датафрейм по значению key, в качестве агрегирующей функции использовать сумму, также добавить столбец с количеством иттераций для конкретного ключа.\n",
    "\n",
    "    5) Проверил датафрейм на мультиколлинеарность и удалил лишние признаки - 'Начало нагрева дугой', 'Конец нагрева дугой',\t'Активная мощность', 'Реактивная мощность'.\n",
    "    \n",
    "     **для data_bulk**\n",
    "    \n",
    "    1) Ввиду специфики производства заполнил пропуски 0.\n",
    "\n",
    "    2) Создал новый признак - сумма поданных материалов.\n",
    "\n",
    "    3) Удалил признаки Bulk 8, Bulk 9, Bulk 12 ввиду высокой корреляции.\n",
    "       \n",
    "     **для data_wire**\n",
    "    \n",
    "    1) Ввиду специфики производства заполним пропуски 0.\n",
    "\n",
    "    2) Удалить признак Wire 5.\n",
    "    \n",
    "    3) Создал новый признак - сумма поданных проволочных материалов.\n",
    "    \n",
    "     **для data_temp**\n",
    "    \n",
    "    1) Сгруппировал данные по ключу и выделить начальную и конечную теспературы.\n",
    "\n",
    "    2) Оставил только те ключи, в которых есть и начальная, и конечная температуры.\n",
    "    \n",
    "    3) Убрал строки с начальной температурой равной более 1500.\n",
    "    \n",
    "***Далее объединил все df(кроме data_bulk_time,data_wire_time) через INNER JOIN по ключу key, что бы остались только те значения, которые присутствую во всех df. После объединения удалил столбец key, привел к единообразию названия столбцов.***\n",
    "   \n",
    "   \n",
    "* **Обучение моделей**\n",
    "\n",
    "    1) Разделил данные на обучающую и тестовую выборки.\n",
    "    \n",
    "    2) Выделил целевой и остальные признаки.\n",
    "    \n",
    "    3) Обучил LightGBM и CatBoost, подобрал гиперпараметры с помощью GridSearchCV.\n",
    "    \n",
    "    4) Проверил качество LightGBM на тестовой выборке лучшей модели.\n",
    "    \n",
    "Процесс выполнения практически полностью совпал с планом, единственный, пункт, который я не выполнил, связан с масштабированием признаков, так как я запамятовал, что масштабирование используется в основном для линейных моделей обучения. Также добавились два новых признака - сумма поданных материалов и сумма поданных проволочных материалов.\n",
    "\n",
    "Основной трудностью выполнения данного проекта был подбор гиперпараметров для моделей, ввиду того, что это занимает длительное время. \n",
    "\n",
    "Итоговый df состоит из следующих признаков: \n",
    "\n",
    "*начальная и конечная температуры('first_temp', 'last_temp')*\n",
    "\n",
    "*полная мощность и количество иттераций нагрева элетродов ('full_power', 'count_iterations')*\n",
    "\n",
    "*Данные о подаче сыпучих материалов и их сумма ('bulk_1', 'bulk_2', 'bulk_3', 'bulk_4', 'bulk_5', 'bulk_6', 'bulk_7', 'bulk_10', 'bulk_11', 'bulk_13', 'bulk_14', 'bulk_15', 'sum_bulk')*\n",
    " \n",
    "*Данные о проволочных материалах и их сумма ('wire_1', 'wire_2', 'wire_3', 'wire_4', 'wire_6', 'wire_8', 'wire_9', 'sum_wire')*\n",
    " \n",
    "*Данные о продувке сплава газом - 'gas_1'*\n",
    "\n",
    "Качество модели определялось по метрике **MAE**, наилучший результат на кросс-валидации показала модель LightGBM со значением на тестовой выборке **MAE = 5.983178996396564** и **гиперпараметрами = 'learning_rate': 0.01, 'max_depth': 10, 'min_child_samples': 5, 'n_estimators': 800, 'num_leaves': 20, 'reg_alpha': 0.01.**"
   ]
  }
 ],
 "metadata": {
  "kernelspec": {
   "display_name": "Python 3 (ipykernel)",
   "language": "python",
   "name": "python3"
  },
  "language_info": {
   "codemirror_mode": {
    "name": "ipython",
    "version": 3
   },
   "file_extension": ".py",
   "mimetype": "text/x-python",
   "name": "python",
   "nbconvert_exporter": "python",
   "pygments_lexer": "ipython3",
   "version": "3.9.7"
  }
 },
 "nbformat": 4,
 "nbformat_minor": 5
}
