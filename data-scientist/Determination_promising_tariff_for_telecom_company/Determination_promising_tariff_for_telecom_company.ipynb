{
 "cells": [
  {
   "cell_type": "markdown",
   "metadata": {},
   "source": [
    "# Определение перспективного тарифа для телеком-компании"
   ]
  },
  {
   "cell_type": "markdown",
   "metadata": {},
   "source": [
    "Смоделируем аналитическую задачу для «Мегалайн» — федерального оператора сотовой связи. Клиентам предлагают два тарифных плана: «Смарт» и «Ультра». Чтобы скорректировать рекламный бюджет, коммерческий департамент хочет понять, какой тариф приносит больше денег.\n",
    "Нам предстоит сделать предварительный анализ тарифов на небольшой выборке клиентов. В нашем распоряжении данные 500 пользователей «Мегалайна»: кто они, откуда, каким тарифом пользуются, сколько звонков и сообщений каждый отправил за 2018 год. Нужно проанализировать поведение клиентов и сделать вывод — какой тариф лучше.\n",
    "\n",
    "Необходимо проверить гипотезы:\n",
    "* средняя выручка пользователей тарифов «Ультра» и «Смарт» различаются;\n",
    "* средняя выручка пользователей из Москвы отличается от выручки пользователей из других регионов."
   ]
  },
  {
   "cell_type": "markdown",
   "metadata": {},
   "source": [
    "**Описание данных**\n",
    "\n",
    "Таблица users (информация о пользователях):\n",
    "\n",
    "* user_id — уникальный идентификатор пользователя\n",
    "\n",
    "* first_name — имя пользователя\n",
    "\n",
    "* last_name — фамилия пользователя\n",
    "\n",
    "* age — возраст пользователя (годы)\n",
    "\n",
    "* reg_date — дата подключения тарифа (день, месяц, год)\n",
    "\n",
    "* churn_date — дата прекращения пользования тарифом (если значение пропущено, то тариф ещё действовал на момент выгрузки данных)\n",
    "\n",
    "* city — город проживания пользователя\n",
    "\n",
    "* tariff — название тарифного плана\n",
    "\n",
    "Таблица calls (информация о звонках):\n",
    "\n",
    "* id — уникальный номер звонка\n",
    "\n",
    "* call_date — дата звонка\n",
    "\n",
    "* duration — длительность звонка в минутах\n",
    "\n",
    "* user_id — идентификатор пользователя, сделавшего звонок\n",
    "\n",
    "Таблица messages (информация о сообщениях):\n",
    "\n",
    "* id — уникальный номер сообщения\n",
    "\n",
    "* message_date — дата сообщения\n",
    "\n",
    "* user_id — идентификатор пользователя, отправившего сообщение\n",
    "\n",
    "* Таблица internet (информация об интернет-сессиях):\n",
    "\n",
    "* id — уникальный номер сессии\n",
    "\n",
    "* mb_used — объём потраченного за сессию интернет-трафика (в мегабайтах)\n",
    "\n",
    "* session_date — дата интернет-сессии\n",
    "\n",
    "* user_id — идентификатор пользователя\n",
    "\n",
    "Таблица tariffs (информация о тарифах):\n",
    "\n",
    "* tariff_name — название тарифа\n",
    "\n",
    "* rub_monthly_fee — ежемесячная абонентская плата в рублях\n",
    "\n",
    "* minutes_included — количество минут разговора в месяц, включённых в абонентскую плату\n",
    "\n",
    "* messages_included — количество сообщений в месяц, включённых в абонентскую плату\n",
    "\n",
    "* mb_per_month_included — объём интернет-трафика, включённого в абонентскую плату (в мегабайтах)\n",
    "\n",
    "* rub_per_minute — стоимость минуты разговора сверх тарифного пакета (например, если в тарифе 100 минут разговора в месяц, то со 101 минуты будет взиматься плата)\n",
    "\n",
    "* rub_per_message — стоимость отправки сообщения сверх тарифного пакета\n",
    "\n",
    "* rub_per_gb — стоимость дополнительного гигабайта интернет-трафика сверх тарифного пакета"
   ]
  },
  {
   "cell_type": "markdown",
   "metadata": {},
   "source": [
    "## Изучение данных из файлов"
   ]
  },
  {
   "cell_type": "code",
   "execution_count": 1,
   "metadata": {},
   "outputs": [],
   "source": [
    "# импортируем библиотеки\n",
    "import pandas as pd \n",
    "import matplotlib.pyplot as plt\n",
    "import seaborn as sns\n",
    "import math\n",
    "import numpy as np\n",
    "from scipy import stats as st\n",
    "from scipy.stats import mannwhitneyu\n",
    "from scipy.stats import norm\n",
    "import pingouin as pg\n",
    "from urllib.parse import urlencode \n",
    "from tqdm.auto import tqdm\n",
    "import seaborn as sns\n",
    "import warnings\n",
    "warnings.simplefilter('ignore')"
   ]
  },
  {
   "cell_type": "code",
   "execution_count": 2,
   "metadata": {},
   "outputs": [],
   "source": [
    "# открываем исходные файлы\n",
    "df_calls = pd.read_csv('/Users/dmitrijvolgin/Downloads/Я_Практикум/Проекты/Статистический анализ данных/calls.csv')\n",
    "df_internet = pd.read_csv('/Users/dmitrijvolgin/Downloads/Я_Практикум/Проекты/Статистический анализ данных/internet.csv',\n",
    "                         index_col=0)\n",
    "df_messages = pd.read_csv('/Users/dmitrijvolgin/Downloads/Я_Практикум/Проекты/Статистический анализ данных/messages.csv')\n",
    "df_tariffs = pd.read_csv('//Users/dmitrijvolgin/Downloads/Я_Практикум/Проекты/Статистический анализ данных/tariffs.csv')\n",
    "df_users = pd.read_csv('/Users/dmitrijvolgin/Downloads/Я_Практикум/Проекты/Статистический анализ данных/users.csv')"
   ]
  },
  {
   "cell_type": "code",
   "execution_count": 3,
   "metadata": {
    "scrolled": true
   },
   "outputs": [
    {
     "name": "stdout",
     "output_type": "stream",
     "text": [
      "df_calls\n",
      "\n",
      "<class 'pandas.core.frame.DataFrame'>\n",
      "RangeIndex: 202607 entries, 0 to 202606\n",
      "Data columns (total 4 columns):\n",
      " #   Column     Non-Null Count   Dtype  \n",
      "---  ------     --------------   -----  \n",
      " 0   id         202607 non-null  object \n",
      " 1   call_date  202607 non-null  object \n",
      " 2   duration   202607 non-null  float64\n",
      " 3   user_id    202607 non-null  int64  \n",
      "dtypes: float64(1), int64(1), object(2)\n",
      "memory usage: 6.2+ MB\n"
     ]
    },
    {
     "data": {
      "text/html": [
       "<div>\n",
       "<style scoped>\n",
       "    .dataframe tbody tr th:only-of-type {\n",
       "        vertical-align: middle;\n",
       "    }\n",
       "\n",
       "    .dataframe tbody tr th {\n",
       "        vertical-align: top;\n",
       "    }\n",
       "\n",
       "    .dataframe thead th {\n",
       "        text-align: right;\n",
       "    }\n",
       "</style>\n",
       "<table border=\"1\" class=\"dataframe\">\n",
       "  <thead>\n",
       "    <tr style=\"text-align: right;\">\n",
       "      <th></th>\n",
       "      <th>id</th>\n",
       "      <th>call_date</th>\n",
       "      <th>duration</th>\n",
       "      <th>user_id</th>\n",
       "    </tr>\n",
       "  </thead>\n",
       "  <tbody>\n",
       "    <tr>\n",
       "      <th>0</th>\n",
       "      <td>1000_0</td>\n",
       "      <td>2018-07-25</td>\n",
       "      <td>0.00</td>\n",
       "      <td>1000</td>\n",
       "    </tr>\n",
       "    <tr>\n",
       "      <th>1</th>\n",
       "      <td>1000_1</td>\n",
       "      <td>2018-08-17</td>\n",
       "      <td>0.00</td>\n",
       "      <td>1000</td>\n",
       "    </tr>\n",
       "    <tr>\n",
       "      <th>2</th>\n",
       "      <td>1000_2</td>\n",
       "      <td>2018-06-11</td>\n",
       "      <td>2.85</td>\n",
       "      <td>1000</td>\n",
       "    </tr>\n",
       "    <tr>\n",
       "      <th>3</th>\n",
       "      <td>1000_3</td>\n",
       "      <td>2018-09-21</td>\n",
       "      <td>13.80</td>\n",
       "      <td>1000</td>\n",
       "    </tr>\n",
       "    <tr>\n",
       "      <th>4</th>\n",
       "      <td>1000_4</td>\n",
       "      <td>2018-12-15</td>\n",
       "      <td>5.18</td>\n",
       "      <td>1000</td>\n",
       "    </tr>\n",
       "    <tr>\n",
       "      <th>5</th>\n",
       "      <td>1000_5</td>\n",
       "      <td>2018-11-02</td>\n",
       "      <td>0.00</td>\n",
       "      <td>1000</td>\n",
       "    </tr>\n",
       "    <tr>\n",
       "      <th>6</th>\n",
       "      <td>1000_6</td>\n",
       "      <td>2018-10-18</td>\n",
       "      <td>0.00</td>\n",
       "      <td>1000</td>\n",
       "    </tr>\n",
       "    <tr>\n",
       "      <th>7</th>\n",
       "      <td>1000_7</td>\n",
       "      <td>2018-08-22</td>\n",
       "      <td>18.31</td>\n",
       "      <td>1000</td>\n",
       "    </tr>\n",
       "    <tr>\n",
       "      <th>8</th>\n",
       "      <td>1000_8</td>\n",
       "      <td>2018-09-15</td>\n",
       "      <td>18.44</td>\n",
       "      <td>1000</td>\n",
       "    </tr>\n",
       "    <tr>\n",
       "      <th>9</th>\n",
       "      <td>1000_9</td>\n",
       "      <td>2018-08-15</td>\n",
       "      <td>0.00</td>\n",
       "      <td>1000</td>\n",
       "    </tr>\n",
       "  </tbody>\n",
       "</table>\n",
       "</div>"
      ],
      "text/plain": [
       "       id   call_date  duration  user_id\n",
       "0  1000_0  2018-07-25      0.00     1000\n",
       "1  1000_1  2018-08-17      0.00     1000\n",
       "2  1000_2  2018-06-11      2.85     1000\n",
       "3  1000_3  2018-09-21     13.80     1000\n",
       "4  1000_4  2018-12-15      5.18     1000\n",
       "5  1000_5  2018-11-02      0.00     1000\n",
       "6  1000_6  2018-10-18      0.00     1000\n",
       "7  1000_7  2018-08-22     18.31     1000\n",
       "8  1000_8  2018-09-15     18.44     1000\n",
       "9  1000_9  2018-08-15      0.00     1000"
      ]
     },
     "metadata": {},
     "output_type": "display_data"
    },
    {
     "data": {
      "text/plain": [
       "'Количество явных дубликатов ='"
      ]
     },
     "metadata": {},
     "output_type": "display_data"
    },
    {
     "data": {
      "text/plain": [
       "0"
      ]
     },
     "metadata": {},
     "output_type": "display_data"
    },
    {
     "name": "stdout",
     "output_type": "stream",
     "text": [
      "Количество пропусков значений: \n",
      " id           0\n",
      "call_date    0\n",
      "duration     0\n",
      "user_id      0\n",
      "dtype: int64\n",
      "###########################################################\n",
      "\n",
      "df_users\n",
      "\n",
      "<class 'pandas.core.frame.DataFrame'>\n",
      "RangeIndex: 500 entries, 0 to 499\n",
      "Data columns (total 8 columns):\n",
      " #   Column      Non-Null Count  Dtype \n",
      "---  ------      --------------  ----- \n",
      " 0   user_id     500 non-null    int64 \n",
      " 1   age         500 non-null    int64 \n",
      " 2   churn_date  38 non-null     object\n",
      " 3   city        500 non-null    object\n",
      " 4   first_name  500 non-null    object\n",
      " 5   last_name   500 non-null    object\n",
      " 6   reg_date    500 non-null    object\n",
      " 7   tariff      500 non-null    object\n",
      "dtypes: int64(2), object(6)\n",
      "memory usage: 31.4+ KB\n"
     ]
    },
    {
     "data": {
      "text/html": [
       "<div>\n",
       "<style scoped>\n",
       "    .dataframe tbody tr th:only-of-type {\n",
       "        vertical-align: middle;\n",
       "    }\n",
       "\n",
       "    .dataframe tbody tr th {\n",
       "        vertical-align: top;\n",
       "    }\n",
       "\n",
       "    .dataframe thead th {\n",
       "        text-align: right;\n",
       "    }\n",
       "</style>\n",
       "<table border=\"1\" class=\"dataframe\">\n",
       "  <thead>\n",
       "    <tr style=\"text-align: right;\">\n",
       "      <th></th>\n",
       "      <th>user_id</th>\n",
       "      <th>age</th>\n",
       "      <th>churn_date</th>\n",
       "      <th>city</th>\n",
       "      <th>first_name</th>\n",
       "      <th>last_name</th>\n",
       "      <th>reg_date</th>\n",
       "      <th>tariff</th>\n",
       "    </tr>\n",
       "  </thead>\n",
       "  <tbody>\n",
       "    <tr>\n",
       "      <th>0</th>\n",
       "      <td>1000</td>\n",
       "      <td>52</td>\n",
       "      <td>NaN</td>\n",
       "      <td>Краснодар</td>\n",
       "      <td>Рафаил</td>\n",
       "      <td>Верещагин</td>\n",
       "      <td>2018-05-25</td>\n",
       "      <td>ultra</td>\n",
       "    </tr>\n",
       "    <tr>\n",
       "      <th>1</th>\n",
       "      <td>1001</td>\n",
       "      <td>41</td>\n",
       "      <td>NaN</td>\n",
       "      <td>Москва</td>\n",
       "      <td>Иван</td>\n",
       "      <td>Ежов</td>\n",
       "      <td>2018-11-01</td>\n",
       "      <td>smart</td>\n",
       "    </tr>\n",
       "    <tr>\n",
       "      <th>2</th>\n",
       "      <td>1002</td>\n",
       "      <td>59</td>\n",
       "      <td>NaN</td>\n",
       "      <td>Стерлитамак</td>\n",
       "      <td>Евгений</td>\n",
       "      <td>Абрамович</td>\n",
       "      <td>2018-06-17</td>\n",
       "      <td>smart</td>\n",
       "    </tr>\n",
       "    <tr>\n",
       "      <th>3</th>\n",
       "      <td>1003</td>\n",
       "      <td>23</td>\n",
       "      <td>NaN</td>\n",
       "      <td>Москва</td>\n",
       "      <td>Белла</td>\n",
       "      <td>Белякова</td>\n",
       "      <td>2018-08-17</td>\n",
       "      <td>ultra</td>\n",
       "    </tr>\n",
       "    <tr>\n",
       "      <th>4</th>\n",
       "      <td>1004</td>\n",
       "      <td>68</td>\n",
       "      <td>NaN</td>\n",
       "      <td>Новокузнецк</td>\n",
       "      <td>Татьяна</td>\n",
       "      <td>Авдеенко</td>\n",
       "      <td>2018-05-14</td>\n",
       "      <td>ultra</td>\n",
       "    </tr>\n",
       "    <tr>\n",
       "      <th>5</th>\n",
       "      <td>1005</td>\n",
       "      <td>67</td>\n",
       "      <td>NaN</td>\n",
       "      <td>Набережные Челны</td>\n",
       "      <td>Афанасий</td>\n",
       "      <td>Горлов</td>\n",
       "      <td>2018-01-25</td>\n",
       "      <td>smart</td>\n",
       "    </tr>\n",
       "    <tr>\n",
       "      <th>6</th>\n",
       "      <td>1006</td>\n",
       "      <td>21</td>\n",
       "      <td>NaN</td>\n",
       "      <td>Ульяновск</td>\n",
       "      <td>Леонид</td>\n",
       "      <td>Ермолаев</td>\n",
       "      <td>2018-02-26</td>\n",
       "      <td>smart</td>\n",
       "    </tr>\n",
       "    <tr>\n",
       "      <th>7</th>\n",
       "      <td>1007</td>\n",
       "      <td>65</td>\n",
       "      <td>NaN</td>\n",
       "      <td>Москва</td>\n",
       "      <td>Юна</td>\n",
       "      <td>Березина</td>\n",
       "      <td>2018-04-19</td>\n",
       "      <td>smart</td>\n",
       "    </tr>\n",
       "    <tr>\n",
       "      <th>8</th>\n",
       "      <td>1008</td>\n",
       "      <td>63</td>\n",
       "      <td>NaN</td>\n",
       "      <td>Челябинск</td>\n",
       "      <td>Рустэм</td>\n",
       "      <td>Пономарёв</td>\n",
       "      <td>2018-12-19</td>\n",
       "      <td>smart</td>\n",
       "    </tr>\n",
       "    <tr>\n",
       "      <th>9</th>\n",
       "      <td>1009</td>\n",
       "      <td>24</td>\n",
       "      <td>NaN</td>\n",
       "      <td>Пермь</td>\n",
       "      <td>Василиса</td>\n",
       "      <td>Блинова</td>\n",
       "      <td>2018-03-22</td>\n",
       "      <td>smart</td>\n",
       "    </tr>\n",
       "  </tbody>\n",
       "</table>\n",
       "</div>"
      ],
      "text/plain": [
       "   user_id  age churn_date              city first_name  last_name  \\\n",
       "0     1000   52        NaN         Краснодар     Рафаил  Верещагин   \n",
       "1     1001   41        NaN            Москва       Иван       Ежов   \n",
       "2     1002   59        NaN       Стерлитамак    Евгений  Абрамович   \n",
       "3     1003   23        NaN            Москва      Белла   Белякова   \n",
       "4     1004   68        NaN       Новокузнецк    Татьяна   Авдеенко   \n",
       "5     1005   67        NaN  Набережные Челны   Афанасий     Горлов   \n",
       "6     1006   21        NaN         Ульяновск     Леонид   Ермолаев   \n",
       "7     1007   65        NaN            Москва        Юна   Березина   \n",
       "8     1008   63        NaN         Челябинск     Рустэм  Пономарёв   \n",
       "9     1009   24        NaN             Пермь   Василиса    Блинова   \n",
       "\n",
       "     reg_date tariff  \n",
       "0  2018-05-25  ultra  \n",
       "1  2018-11-01  smart  \n",
       "2  2018-06-17  smart  \n",
       "3  2018-08-17  ultra  \n",
       "4  2018-05-14  ultra  \n",
       "5  2018-01-25  smart  \n",
       "6  2018-02-26  smart  \n",
       "7  2018-04-19  smart  \n",
       "8  2018-12-19  smart  \n",
       "9  2018-03-22  smart  "
      ]
     },
     "metadata": {},
     "output_type": "display_data"
    },
    {
     "data": {
      "text/plain": [
       "'Количество явных дубликатов ='"
      ]
     },
     "metadata": {},
     "output_type": "display_data"
    },
    {
     "data": {
      "text/plain": [
       "0"
      ]
     },
     "metadata": {},
     "output_type": "display_data"
    },
    {
     "name": "stdout",
     "output_type": "stream",
     "text": [
      "Количество пропусков значений: \n",
      " user_id         0\n",
      "age             0\n",
      "churn_date    462\n",
      "city            0\n",
      "first_name      0\n",
      "last_name       0\n",
      "reg_date        0\n",
      "tariff          0\n",
      "dtype: int64\n",
      "###########################################################\n",
      "\n",
      "df_messages\n",
      "\n",
      "<class 'pandas.core.frame.DataFrame'>\n",
      "RangeIndex: 123036 entries, 0 to 123035\n",
      "Data columns (total 3 columns):\n",
      " #   Column        Non-Null Count   Dtype \n",
      "---  ------        --------------   ----- \n",
      " 0   id            123036 non-null  object\n",
      " 1   message_date  123036 non-null  object\n",
      " 2   user_id       123036 non-null  int64 \n",
      "dtypes: int64(1), object(2)\n",
      "memory usage: 2.8+ MB\n"
     ]
    },
    {
     "data": {
      "text/html": [
       "<div>\n",
       "<style scoped>\n",
       "    .dataframe tbody tr th:only-of-type {\n",
       "        vertical-align: middle;\n",
       "    }\n",
       "\n",
       "    .dataframe tbody tr th {\n",
       "        vertical-align: top;\n",
       "    }\n",
       "\n",
       "    .dataframe thead th {\n",
       "        text-align: right;\n",
       "    }\n",
       "</style>\n",
       "<table border=\"1\" class=\"dataframe\">\n",
       "  <thead>\n",
       "    <tr style=\"text-align: right;\">\n",
       "      <th></th>\n",
       "      <th>id</th>\n",
       "      <th>message_date</th>\n",
       "      <th>user_id</th>\n",
       "    </tr>\n",
       "  </thead>\n",
       "  <tbody>\n",
       "    <tr>\n",
       "      <th>0</th>\n",
       "      <td>1000_0</td>\n",
       "      <td>2018-06-27</td>\n",
       "      <td>1000</td>\n",
       "    </tr>\n",
       "    <tr>\n",
       "      <th>1</th>\n",
       "      <td>1000_1</td>\n",
       "      <td>2018-10-08</td>\n",
       "      <td>1000</td>\n",
       "    </tr>\n",
       "    <tr>\n",
       "      <th>2</th>\n",
       "      <td>1000_2</td>\n",
       "      <td>2018-08-04</td>\n",
       "      <td>1000</td>\n",
       "    </tr>\n",
       "    <tr>\n",
       "      <th>3</th>\n",
       "      <td>1000_3</td>\n",
       "      <td>2018-06-16</td>\n",
       "      <td>1000</td>\n",
       "    </tr>\n",
       "    <tr>\n",
       "      <th>4</th>\n",
       "      <td>1000_4</td>\n",
       "      <td>2018-12-05</td>\n",
       "      <td>1000</td>\n",
       "    </tr>\n",
       "    <tr>\n",
       "      <th>5</th>\n",
       "      <td>1000_5</td>\n",
       "      <td>2018-06-20</td>\n",
       "      <td>1000</td>\n",
       "    </tr>\n",
       "    <tr>\n",
       "      <th>6</th>\n",
       "      <td>1000_6</td>\n",
       "      <td>2018-11-19</td>\n",
       "      <td>1000</td>\n",
       "    </tr>\n",
       "    <tr>\n",
       "      <th>7</th>\n",
       "      <td>1000_7</td>\n",
       "      <td>2018-10-29</td>\n",
       "      <td>1000</td>\n",
       "    </tr>\n",
       "    <tr>\n",
       "      <th>8</th>\n",
       "      <td>1000_8</td>\n",
       "      <td>2018-06-25</td>\n",
       "      <td>1000</td>\n",
       "    </tr>\n",
       "    <tr>\n",
       "      <th>9</th>\n",
       "      <td>1000_9</td>\n",
       "      <td>2018-12-18</td>\n",
       "      <td>1000</td>\n",
       "    </tr>\n",
       "  </tbody>\n",
       "</table>\n",
       "</div>"
      ],
      "text/plain": [
       "       id message_date  user_id\n",
       "0  1000_0   2018-06-27     1000\n",
       "1  1000_1   2018-10-08     1000\n",
       "2  1000_2   2018-08-04     1000\n",
       "3  1000_3   2018-06-16     1000\n",
       "4  1000_4   2018-12-05     1000\n",
       "5  1000_5   2018-06-20     1000\n",
       "6  1000_6   2018-11-19     1000\n",
       "7  1000_7   2018-10-29     1000\n",
       "8  1000_8   2018-06-25     1000\n",
       "9  1000_9   2018-12-18     1000"
      ]
     },
     "metadata": {},
     "output_type": "display_data"
    },
    {
     "data": {
      "text/plain": [
       "'Количество явных дубликатов ='"
      ]
     },
     "metadata": {},
     "output_type": "display_data"
    },
    {
     "data": {
      "text/plain": [
       "0"
      ]
     },
     "metadata": {},
     "output_type": "display_data"
    },
    {
     "name": "stdout",
     "output_type": "stream",
     "text": [
      "Количество пропусков значений: \n",
      " id              0\n",
      "message_date    0\n",
      "user_id         0\n",
      "dtype: int64\n",
      "###########################################################\n",
      "\n",
      "df_tariffs\n",
      "\n",
      "<class 'pandas.core.frame.DataFrame'>\n",
      "RangeIndex: 2 entries, 0 to 1\n",
      "Data columns (total 8 columns):\n",
      " #   Column                 Non-Null Count  Dtype \n",
      "---  ------                 --------------  ----- \n",
      " 0   messages_included      2 non-null      int64 \n",
      " 1   mb_per_month_included  2 non-null      int64 \n",
      " 2   minutes_included       2 non-null      int64 \n",
      " 3   rub_monthly_fee        2 non-null      int64 \n",
      " 4   rub_per_gb             2 non-null      int64 \n",
      " 5   rub_per_message        2 non-null      int64 \n",
      " 6   rub_per_minute         2 non-null      int64 \n",
      " 7   tariff_name            2 non-null      object\n",
      "dtypes: int64(7), object(1)\n",
      "memory usage: 256.0+ bytes\n"
     ]
    },
    {
     "data": {
      "text/html": [
       "<div>\n",
       "<style scoped>\n",
       "    .dataframe tbody tr th:only-of-type {\n",
       "        vertical-align: middle;\n",
       "    }\n",
       "\n",
       "    .dataframe tbody tr th {\n",
       "        vertical-align: top;\n",
       "    }\n",
       "\n",
       "    .dataframe thead th {\n",
       "        text-align: right;\n",
       "    }\n",
       "</style>\n",
       "<table border=\"1\" class=\"dataframe\">\n",
       "  <thead>\n",
       "    <tr style=\"text-align: right;\">\n",
       "      <th></th>\n",
       "      <th>messages_included</th>\n",
       "      <th>mb_per_month_included</th>\n",
       "      <th>minutes_included</th>\n",
       "      <th>rub_monthly_fee</th>\n",
       "      <th>rub_per_gb</th>\n",
       "      <th>rub_per_message</th>\n",
       "      <th>rub_per_minute</th>\n",
       "      <th>tariff_name</th>\n",
       "    </tr>\n",
       "  </thead>\n",
       "  <tbody>\n",
       "    <tr>\n",
       "      <th>0</th>\n",
       "      <td>50</td>\n",
       "      <td>15360</td>\n",
       "      <td>500</td>\n",
       "      <td>550</td>\n",
       "      <td>200</td>\n",
       "      <td>3</td>\n",
       "      <td>3</td>\n",
       "      <td>smart</td>\n",
       "    </tr>\n",
       "    <tr>\n",
       "      <th>1</th>\n",
       "      <td>1000</td>\n",
       "      <td>30720</td>\n",
       "      <td>3000</td>\n",
       "      <td>1950</td>\n",
       "      <td>150</td>\n",
       "      <td>1</td>\n",
       "      <td>1</td>\n",
       "      <td>ultra</td>\n",
       "    </tr>\n",
       "  </tbody>\n",
       "</table>\n",
       "</div>"
      ],
      "text/plain": [
       "   messages_included  mb_per_month_included  minutes_included  \\\n",
       "0                 50                  15360               500   \n",
       "1               1000                  30720              3000   \n",
       "\n",
       "   rub_monthly_fee  rub_per_gb  rub_per_message  rub_per_minute tariff_name  \n",
       "0              550         200                3               3       smart  \n",
       "1             1950         150                1               1       ultra  "
      ]
     },
     "metadata": {},
     "output_type": "display_data"
    },
    {
     "data": {
      "text/plain": [
       "'Количество явных дубликатов ='"
      ]
     },
     "metadata": {},
     "output_type": "display_data"
    },
    {
     "data": {
      "text/plain": [
       "0"
      ]
     },
     "metadata": {},
     "output_type": "display_data"
    },
    {
     "name": "stdout",
     "output_type": "stream",
     "text": [
      "Количество пропусков значений: \n",
      " messages_included        0\n",
      "mb_per_month_included    0\n",
      "minutes_included         0\n",
      "rub_monthly_fee          0\n",
      "rub_per_gb               0\n",
      "rub_per_message          0\n",
      "rub_per_minute           0\n",
      "tariff_name              0\n",
      "dtype: int64\n",
      "###########################################################\n",
      "\n",
      "df_internet\n",
      "\n",
      "<class 'pandas.core.frame.DataFrame'>\n",
      "Int64Index: 149396 entries, 0 to 149395\n",
      "Data columns (total 4 columns):\n",
      " #   Column        Non-Null Count   Dtype  \n",
      "---  ------        --------------   -----  \n",
      " 0   id            149396 non-null  object \n",
      " 1   mb_used       149396 non-null  float64\n",
      " 2   session_date  149396 non-null  object \n",
      " 3   user_id       149396 non-null  int64  \n",
      "dtypes: float64(1), int64(1), object(2)\n",
      "memory usage: 5.7+ MB\n"
     ]
    },
    {
     "data": {
      "text/html": [
       "<div>\n",
       "<style scoped>\n",
       "    .dataframe tbody tr th:only-of-type {\n",
       "        vertical-align: middle;\n",
       "    }\n",
       "\n",
       "    .dataframe tbody tr th {\n",
       "        vertical-align: top;\n",
       "    }\n",
       "\n",
       "    .dataframe thead th {\n",
       "        text-align: right;\n",
       "    }\n",
       "</style>\n",
       "<table border=\"1\" class=\"dataframe\">\n",
       "  <thead>\n",
       "    <tr style=\"text-align: right;\">\n",
       "      <th></th>\n",
       "      <th>id</th>\n",
       "      <th>mb_used</th>\n",
       "      <th>session_date</th>\n",
       "      <th>user_id</th>\n",
       "    </tr>\n",
       "  </thead>\n",
       "  <tbody>\n",
       "    <tr>\n",
       "      <th>0</th>\n",
       "      <td>1000_0</td>\n",
       "      <td>112.95</td>\n",
       "      <td>2018-11-25</td>\n",
       "      <td>1000</td>\n",
       "    </tr>\n",
       "    <tr>\n",
       "      <th>1</th>\n",
       "      <td>1000_1</td>\n",
       "      <td>1052.81</td>\n",
       "      <td>2018-09-07</td>\n",
       "      <td>1000</td>\n",
       "    </tr>\n",
       "    <tr>\n",
       "      <th>2</th>\n",
       "      <td>1000_2</td>\n",
       "      <td>1197.26</td>\n",
       "      <td>2018-06-25</td>\n",
       "      <td>1000</td>\n",
       "    </tr>\n",
       "    <tr>\n",
       "      <th>3</th>\n",
       "      <td>1000_3</td>\n",
       "      <td>550.27</td>\n",
       "      <td>2018-08-22</td>\n",
       "      <td>1000</td>\n",
       "    </tr>\n",
       "    <tr>\n",
       "      <th>4</th>\n",
       "      <td>1000_4</td>\n",
       "      <td>302.56</td>\n",
       "      <td>2018-09-24</td>\n",
       "      <td>1000</td>\n",
       "    </tr>\n",
       "    <tr>\n",
       "      <th>5</th>\n",
       "      <td>1000_5</td>\n",
       "      <td>399.97</td>\n",
       "      <td>2018-10-02</td>\n",
       "      <td>1000</td>\n",
       "    </tr>\n",
       "    <tr>\n",
       "      <th>6</th>\n",
       "      <td>1000_6</td>\n",
       "      <td>540.08</td>\n",
       "      <td>2018-09-07</td>\n",
       "      <td>1000</td>\n",
       "    </tr>\n",
       "    <tr>\n",
       "      <th>7</th>\n",
       "      <td>1000_7</td>\n",
       "      <td>415.70</td>\n",
       "      <td>2018-07-11</td>\n",
       "      <td>1000</td>\n",
       "    </tr>\n",
       "    <tr>\n",
       "      <th>8</th>\n",
       "      <td>1000_8</td>\n",
       "      <td>505.40</td>\n",
       "      <td>2018-10-08</td>\n",
       "      <td>1000</td>\n",
       "    </tr>\n",
       "    <tr>\n",
       "      <th>9</th>\n",
       "      <td>1000_9</td>\n",
       "      <td>345.54</td>\n",
       "      <td>2018-09-03</td>\n",
       "      <td>1000</td>\n",
       "    </tr>\n",
       "  </tbody>\n",
       "</table>\n",
       "</div>"
      ],
      "text/plain": [
       "       id  mb_used session_date  user_id\n",
       "0  1000_0   112.95   2018-11-25     1000\n",
       "1  1000_1  1052.81   2018-09-07     1000\n",
       "2  1000_2  1197.26   2018-06-25     1000\n",
       "3  1000_3   550.27   2018-08-22     1000\n",
       "4  1000_4   302.56   2018-09-24     1000\n",
       "5  1000_5   399.97   2018-10-02     1000\n",
       "6  1000_6   540.08   2018-09-07     1000\n",
       "7  1000_7   415.70   2018-07-11     1000\n",
       "8  1000_8   505.40   2018-10-08     1000\n",
       "9  1000_9   345.54   2018-09-03     1000"
      ]
     },
     "metadata": {},
     "output_type": "display_data"
    },
    {
     "data": {
      "text/plain": [
       "'Количество явных дубликатов ='"
      ]
     },
     "metadata": {},
     "output_type": "display_data"
    },
    {
     "data": {
      "text/plain": [
       "0"
      ]
     },
     "metadata": {},
     "output_type": "display_data"
    },
    {
     "name": "stdout",
     "output_type": "stream",
     "text": [
      "Количество пропусков значений: \n",
      " id              0\n",
      "mb_used         0\n",
      "session_date    0\n",
      "user_id         0\n",
      "dtype: int64\n",
      "###########################################################\n",
      "\n"
     ]
    }
   ],
   "source": [
    "# изучаем исходные файлы\n",
    "name = [df_calls, \n",
    "        df_users, \n",
    "        df_messages, \n",
    "        df_tariffs, \n",
    "        df_internet]\n",
    "def info_df (row):\n",
    "    for i in range(len(name)):\n",
    "        name_str = ['df_calls', \n",
    "                'df_users', \n",
    "                'df_messages', \n",
    "                'df_tariffs', \n",
    "                'df_internet']\n",
    "        print(name_str[i])\n",
    "        print()\n",
    "        name[i].info()\n",
    "        display(name[i].head(10))\n",
    "        display('Количество явных дубликатов =',name[i].duplicated().sum())\n",
    "        print('Количество пропусков значений:','\\n',name[i].isna().sum())\n",
    "        print('###########################################################')\n",
    "        print()\n",
    "        \n",
    "info_df(name)\n",
    "   "
   ]
  },
  {
   "cell_type": "code",
   "execution_count": 4,
   "metadata": {
    "scrolled": true
   },
   "outputs": [
    {
     "data": {
      "text/plain": [
       "array(['Краснодар', 'Москва', 'Стерлитамак', 'Новокузнецк',\n",
       "       'Набережные Челны', 'Ульяновск', 'Челябинск', 'Пермь', 'Тюмень',\n",
       "       'Самара', 'Санкт-Петербург', 'Иваново', 'Чебоксары', 'Омск', 'Уфа',\n",
       "       'Томск', 'Чита', 'Мурманск', 'Петрозаводск', 'Тверь',\n",
       "       'Екатеринбург', 'Махачкала', 'Вологда', 'Череповец', 'Ярославль',\n",
       "       'Сочи', 'Хабаровск', 'Ставрополь', 'Рязань', 'Улан-Удэ', 'Тула',\n",
       "       'Саратов', 'Ростов-на-Дону', 'Казань', 'Иркутск', 'Курск',\n",
       "       'Калуга', 'Якутск', 'Астрахань', 'Химки', 'Владикавказ',\n",
       "       'Волгоград', 'Саранск', 'Ижевск', 'Новосибирск', 'Брянск',\n",
       "       'Тольятти', 'Нижний Тагил', 'Орёл', 'Белгород', 'Воронеж',\n",
       "       'Волжский', 'Курган', 'Барнаул', 'Красноярск', 'Архангельск',\n",
       "       'Липецк', 'Кемерово', 'Киров', 'Сургут', 'Пенза', 'Магнитогорск',\n",
       "       'Нижний Новгород', 'Кострома', 'Владивосток', 'Тамбов', 'Балашиха',\n",
       "       'Севастополь', 'Калининград', 'Оренбург', 'Смоленск',\n",
       "       'Нижневартовск', 'Владимир', 'Новороссийск', 'Грозный', 'Подольск'],\n",
       "      dtype=object)"
      ]
     },
     "execution_count": 4,
     "metadata": {},
     "output_type": "execute_result"
    }
   ],
   "source": [
    "# проверяем столбец 'city' на неявные дубликаты\n",
    "df_users['city'].unique() "
   ]
  },
  {
   "cell_type": "code",
   "execution_count": 5,
   "metadata": {
    "scrolled": true
   },
   "outputs": [],
   "source": [
    "# Функция по для построения гистограммы и боксплота\n",
    "def creating_box_hist(column, df):\n",
    "    # создание фигуры, состоящей из двух(ax_box and ax_hist)\n",
    "    f, (ax_box, ax_hist) = plt.subplots(2, sharex=True, gridspec_kw={\"height_ratios\": (.15, .85)})    \n",
    "\n",
    "    # присвоение графика каждому ax\n",
    "    sns.boxplot(df[column], ax=ax_box)\n",
    "    sns.histplot(data=df, x=column, ax=ax_hist)\n",
    "\n",
    "    # Удалить имя оси x для boxplot\n",
    "    ax_box.set(xlabel='')\n",
    "    \n",
    "    plt.show()"
   ]
  },
  {
   "cell_type": "code",
   "execution_count": 6,
   "metadata": {
    "scrolled": true
   },
   "outputs": [
    {
     "data": {
      "image/png": "[encoded data removed]",
      "text/plain": [
       "<Figure size 432x288 with 2 Axes>"
      ]
     },
     "metadata": {
      "needs_background": "light"
     },
     "output_type": "display_data"
    }
   ],
   "source": [
    "# рассмотрим распределение длительности звонков\n",
    "creating_box_hist('duration', df_calls)"
   ]
  },
  {
   "cell_type": "markdown",
   "metadata": {},
   "source": [
    "Видим распределение Фишера с большим хвостом выбросов в правой части."
   ]
  },
  {
   "cell_type": "code",
   "execution_count": 7,
   "metadata": {
    "scrolled": true
   },
   "outputs": [
    {
     "data": {
      "image/png": "[encoded data removed]",
      "text/plain": [
       "<Figure size 432x288 with 2 Axes>"
      ]
     },
     "metadata": {
      "needs_background": "light"
     },
     "output_type": "display_data"
    }
   ],
   "source": [
    "# рассмотрим распределение использованного трафика\n",
    "creating_box_hist('mb_used', df_internet)"
   ]
  },
  {
   "cell_type": "markdown",
   "metadata": {},
   "source": [
    "Видим распределение Фишера с большим хвостом выбросов в правой части."
   ]
  },
  {
   "cell_type": "code",
   "execution_count": 8,
   "metadata": {
    "scrolled": false
   },
   "outputs": [
    {
     "data": {
      "image/png": "[encoded data removed]",
      "text/plain": [
       "<Figure size 432x288 with 2 Axes>"
      ]
     },
     "metadata": {
      "needs_background": "light"
     },
     "output_type": "display_data"
    }
   ],
   "source": [
    "# рассмотрим распределение по возрасту\n",
    "creating_box_hist('age', df_users)"
   ]
  },
  {
   "cell_type": "markdown",
   "metadata": {},
   "source": [
    "### Вывод"
   ]
  },
  {
   "cell_type": "markdown",
   "metadata": {},
   "source": [
    "В процессе изучения файлов было выявлено следующее:\n",
    "\n",
    "* В файле \"users.csv\" в столбце \"churn_date\" 462 пропуска, но так как нам этот столбец не интересен, то мы оставим его без внимания.\n",
    "* В всех файлах, кроме \"users.csv\", где есть дата нужно изменить тип данных с object на datetime64[ns]\n",
    "* Рассмотрев распределения продолжительности звонков и использвонного интернет трафика, видно, что они отличны от нормального и похожи на распределения Фишера с большим хвостом выбросов.\n",
    "* Распределение возраста клиентов достаточно равномерно."
   ]
  },
  {
   "cell_type": "markdown",
   "metadata": {},
   "source": [
    "## Подготовка данных"
   ]
  },
  {
   "cell_type": "code",
   "execution_count": 9,
   "metadata": {
    "scrolled": true
   },
   "outputs": [
    {
     "name": "stdout",
     "output_type": "stream",
     "text": [
      "<class 'pandas.core.frame.DataFrame'>\n",
      "RangeIndex: 500 entries, 0 to 499\n",
      "Data columns (total 9 columns):\n",
      " #   Column      Non-Null Count  Dtype         \n",
      "---  ------      --------------  -----         \n",
      " 0   user_id     500 non-null    int64         \n",
      " 1   age         500 non-null    int64         \n",
      " 2   churn_date  38 non-null     object        \n",
      " 3   city        500 non-null    object        \n",
      " 4   first_name  500 non-null    object        \n",
      " 5   last_name   500 non-null    object        \n",
      " 6   reg_date    500 non-null    datetime64[ns]\n",
      " 7   tariff      500 non-null    object        \n",
      " 8   month       500 non-null    int64         \n",
      "dtypes: datetime64[ns](1), int64(3), object(5)\n",
      "memory usage: 35.3+ KB\n"
     ]
    }
   ],
   "source": [
    "# Изменяем тип данных в столбцах, а также создаем новые столбцы и выделяем в них номер месяца    \n",
    "df_calls['call_date'] = pd.to_datetime(df_calls['call_date'], format='%Y-%m-%d')\n",
    "df_internet['session_date'] = pd.to_datetime(df_internet['session_date'], format='%Y-%m-%d')\n",
    "df_messages['message_date'] = pd.to_datetime(df_messages['message_date'], format='%Y-%m-%d')\n",
    "df_users['reg_date'] = pd.to_datetime(df_users['reg_date'], format='%Y-%m-%d')\n",
    "df_calls['month'] = df_calls['call_date'].dt.month\n",
    "df_internet['month'] = df_internet['session_date'].dt.month\n",
    "df_messages['month'] = df_messages['message_date'].dt.month\n",
    "df_users['month'] = df_users['reg_date'].dt.month\n",
    "df_users.info() \n",
    "\n"
   ]
  },
  {
   "cell_type": "code",
   "execution_count": 10,
   "metadata": {},
   "outputs": [
    {
     "name": "stdout",
     "output_type": "stream",
     "text": [
      "[ 0.    2.85 13.8  ... 24.36 24.5  26.9 ]\n"
     ]
    },
    {
     "data": {
      "text/plain": [
       "array([ 0.,  3., 14.,  6., 19.,  8., 10.,  5., 13., 16.,  9.,  2., 15.,\n",
       "       11., 24., 12., 23.,  7., 20.,  1.,  4., 17., 21., 18., 25., 22.,\n",
       "       27., 26., 29., 28., 30., 37., 31., 33., 34., 32., 36., 35., 38.])"
      ]
     },
     "execution_count": 10,
     "metadata": {},
     "output_type": "execute_result"
    }
   ],
   "source": [
    "# округляем значения столбца с длительностью звонка в соотвествии с условиями тарификации\n",
    "print(df_calls['duration'].unique())\n",
    "df_calls['duration'] = np.ceil(df_calls['duration'])\n",
    "df_calls['duration'].unique()"
   ]
  },
  {
   "cell_type": "code",
   "execution_count": 11,
   "metadata": {},
   "outputs": [
    {
     "data": {
      "text/html": [
       "<div>\n",
       "<style scoped>\n",
       "    .dataframe tbody tr th:only-of-type {\n",
       "        vertical-align: middle;\n",
       "    }\n",
       "\n",
       "    .dataframe tbody tr th {\n",
       "        vertical-align: top;\n",
       "    }\n",
       "\n",
       "    .dataframe thead th {\n",
       "        text-align: right;\n",
       "    }\n",
       "</style>\n",
       "<table border=\"1\" class=\"dataframe\">\n",
       "  <thead>\n",
       "    <tr style=\"text-align: right;\">\n",
       "      <th></th>\n",
       "      <th>user_id</th>\n",
       "      <th>month</th>\n",
       "      <th>sum_duration</th>\n",
       "      <th>count_duration</th>\n",
       "    </tr>\n",
       "  </thead>\n",
       "  <tbody>\n",
       "    <tr>\n",
       "      <th>0</th>\n",
       "      <td>1000</td>\n",
       "      <td>5</td>\n",
       "      <td>159.0</td>\n",
       "      <td>22</td>\n",
       "    </tr>\n",
       "    <tr>\n",
       "      <th>1</th>\n",
       "      <td>1000</td>\n",
       "      <td>6</td>\n",
       "      <td>172.0</td>\n",
       "      <td>43</td>\n",
       "    </tr>\n",
       "    <tr>\n",
       "      <th>2</th>\n",
       "      <td>1000</td>\n",
       "      <td>7</td>\n",
       "      <td>340.0</td>\n",
       "      <td>47</td>\n",
       "    </tr>\n",
       "    <tr>\n",
       "      <th>3</th>\n",
       "      <td>1000</td>\n",
       "      <td>8</td>\n",
       "      <td>408.0</td>\n",
       "      <td>52</td>\n",
       "    </tr>\n",
       "    <tr>\n",
       "      <th>4</th>\n",
       "      <td>1000</td>\n",
       "      <td>9</td>\n",
       "      <td>466.0</td>\n",
       "      <td>58</td>\n",
       "    </tr>\n",
       "  </tbody>\n",
       "</table>\n",
       "</div>"
      ],
      "text/plain": [
       "   user_id  month  sum_duration  count_duration\n",
       "0     1000      5         159.0              22\n",
       "1     1000      6         172.0              43\n",
       "2     1000      7         340.0              47\n",
       "3     1000      8         408.0              52\n",
       "4     1000      9         466.0              58"
      ]
     },
     "metadata": {},
     "output_type": "display_data"
    }
   ],
   "source": [
    "# группируем данные по звонкам\n",
    "df_calls_pivot = df_calls.pivot_table(index=['user_id','month'], values='duration', aggfunc=['sum', 'count'])\n",
    "df_calls_pivot = df_calls_pivot.reset_index()\n",
    "df_calls_pivot.columns = ['user_id', 'month', 'sum_duration', 'count_duration']\n",
    "display(df_calls_pivot.head())"
   ]
  },
  {
   "cell_type": "code",
   "execution_count": 12,
   "metadata": {
    "scrolled": true
   },
   "outputs": [
    {
     "data": {
      "text/html": [
       "<div>\n",
       "<style scoped>\n",
       "    .dataframe tbody tr th:only-of-type {\n",
       "        vertical-align: middle;\n",
       "    }\n",
       "\n",
       "    .dataframe tbody tr th {\n",
       "        vertical-align: top;\n",
       "    }\n",
       "\n",
       "    .dataframe thead th {\n",
       "        text-align: right;\n",
       "    }\n",
       "</style>\n",
       "<table border=\"1\" class=\"dataframe\">\n",
       "  <thead>\n",
       "    <tr style=\"text-align: right;\">\n",
       "      <th></th>\n",
       "      <th>user_id</th>\n",
       "      <th>month</th>\n",
       "      <th>gb_used</th>\n",
       "    </tr>\n",
       "  </thead>\n",
       "  <tbody>\n",
       "    <tr>\n",
       "      <th>0</th>\n",
       "      <td>1000</td>\n",
       "      <td>5</td>\n",
       "      <td>2253.49</td>\n",
       "    </tr>\n",
       "    <tr>\n",
       "      <th>1</th>\n",
       "      <td>1000</td>\n",
       "      <td>6</td>\n",
       "      <td>23233.77</td>\n",
       "    </tr>\n",
       "    <tr>\n",
       "      <th>2</th>\n",
       "      <td>1000</td>\n",
       "      <td>7</td>\n",
       "      <td>14003.64</td>\n",
       "    </tr>\n",
       "    <tr>\n",
       "      <th>3</th>\n",
       "      <td>1000</td>\n",
       "      <td>8</td>\n",
       "      <td>14055.93</td>\n",
       "    </tr>\n",
       "    <tr>\n",
       "      <th>4</th>\n",
       "      <td>1000</td>\n",
       "      <td>9</td>\n",
       "      <td>14568.91</td>\n",
       "    </tr>\n",
       "  </tbody>\n",
       "</table>\n",
       "</div>"
      ],
      "text/plain": [
       "   user_id  month   gb_used\n",
       "0     1000      5   2253.49\n",
       "1     1000      6  23233.77\n",
       "2     1000      7  14003.64\n",
       "3     1000      8  14055.93\n",
       "4     1000      9  14568.91"
      ]
     },
     "metadata": {},
     "output_type": "display_data"
    }
   ],
   "source": [
    "# группируем данные по использованному интернет-трафику\n",
    "df_internet_pivot = df_internet.pivot_table(index=['user_id','month'], values='mb_used', aggfunc=['sum'])\n",
    "df_internet_pivot = df_internet_pivot.reset_index()\n",
    "df_internet_pivot.columns = ['user_id', 'month', 'gb_used']\n",
    "display(df_internet_pivot.head())"
   ]
  },
  {
   "cell_type": "code",
   "execution_count": 13,
   "metadata": {},
   "outputs": [],
   "source": [
    "# переводим мегабайты в гигабайты и округляем в большую сторону в соотвествии с условиями тарификации\n",
    "df_internet_pivot['gb_used'] = df_internet_pivot['gb_used'] / 1024\n",
    "df_internet_pivot['gb_used'] = np.ceil(df_internet_pivot['gb_used'])"
   ]
  },
  {
   "cell_type": "code",
   "execution_count": 14,
   "metadata": {},
   "outputs": [
    {
     "data": {
      "text/plain": [
       "0        3.0\n",
       "1       23.0\n",
       "2       14.0\n",
       "3       14.0\n",
       "4       15.0\n",
       "        ... \n",
       "3198    21.0\n",
       "3199     2.0\n",
       "3200    18.0\n",
       "3201    18.0\n",
       "3202    13.0\n",
       "Name: gb_used, Length: 3203, dtype: float64"
      ]
     },
     "execution_count": 14,
     "metadata": {},
     "output_type": "execute_result"
    }
   ],
   "source": [
    "df_internet_pivot['gb_used']"
   ]
  },
  {
   "cell_type": "code",
   "execution_count": 15,
   "metadata": {},
   "outputs": [
    {
     "data": {
      "text/html": [
       "<div>\n",
       "<style scoped>\n",
       "    .dataframe tbody tr th:only-of-type {\n",
       "        vertical-align: middle;\n",
       "    }\n",
       "\n",
       "    .dataframe tbody tr th {\n",
       "        vertical-align: top;\n",
       "    }\n",
       "\n",
       "    .dataframe thead th {\n",
       "        text-align: right;\n",
       "    }\n",
       "</style>\n",
       "<table border=\"1\" class=\"dataframe\">\n",
       "  <thead>\n",
       "    <tr style=\"text-align: right;\">\n",
       "      <th></th>\n",
       "      <th>user_id</th>\n",
       "      <th>month</th>\n",
       "      <th>count_messages</th>\n",
       "    </tr>\n",
       "  </thead>\n",
       "  <tbody>\n",
       "    <tr>\n",
       "      <th>0</th>\n",
       "      <td>1000</td>\n",
       "      <td>5</td>\n",
       "      <td>22</td>\n",
       "    </tr>\n",
       "    <tr>\n",
       "      <th>1</th>\n",
       "      <td>1000</td>\n",
       "      <td>6</td>\n",
       "      <td>60</td>\n",
       "    </tr>\n",
       "    <tr>\n",
       "      <th>2</th>\n",
       "      <td>1000</td>\n",
       "      <td>7</td>\n",
       "      <td>75</td>\n",
       "    </tr>\n",
       "    <tr>\n",
       "      <th>3</th>\n",
       "      <td>1000</td>\n",
       "      <td>8</td>\n",
       "      <td>81</td>\n",
       "    </tr>\n",
       "    <tr>\n",
       "      <th>4</th>\n",
       "      <td>1000</td>\n",
       "      <td>9</td>\n",
       "      <td>57</td>\n",
       "    </tr>\n",
       "  </tbody>\n",
       "</table>\n",
       "</div>"
      ],
      "text/plain": [
       "   user_id  month  count_messages\n",
       "0     1000      5              22\n",
       "1     1000      6              60\n",
       "2     1000      7              75\n",
       "3     1000      8              81\n",
       "4     1000      9              57"
      ]
     },
     "metadata": {},
     "output_type": "display_data"
    }
   ],
   "source": [
    "# группируем данные по сообщениям\n",
    "df_messages_pivot = df_messages.pivot_table(index=['user_id','month'], values='id', aggfunc=['count'])\n",
    "df_messages_pivot = df_messages_pivot.reset_index()\n",
    "df_messages_pivot.columns = ['user_id', 'month', 'count_messages']\n",
    "display(df_messages_pivot.head())"
   ]
  },
  {
   "cell_type": "code",
   "execution_count": 16,
   "metadata": {
    "scrolled": true
   },
   "outputs": [
    {
     "data": {
      "text/html": [
       "<div>\n",
       "<style scoped>\n",
       "    .dataframe tbody tr th:only-of-type {\n",
       "        vertical-align: middle;\n",
       "    }\n",
       "\n",
       "    .dataframe tbody tr th {\n",
       "        vertical-align: top;\n",
       "    }\n",
       "\n",
       "    .dataframe thead th {\n",
       "        text-align: right;\n",
       "    }\n",
       "</style>\n",
       "<table border=\"1\" class=\"dataframe\">\n",
       "  <thead>\n",
       "    <tr style=\"text-align: right;\">\n",
       "      <th></th>\n",
       "      <th>user_id</th>\n",
       "      <th>month</th>\n",
       "      <th>sum_duration</th>\n",
       "      <th>count_duration</th>\n",
       "      <th>gb_used</th>\n",
       "      <th>count_messages</th>\n",
       "    </tr>\n",
       "  </thead>\n",
       "  <tbody>\n",
       "    <tr>\n",
       "      <th>0</th>\n",
       "      <td>1000</td>\n",
       "      <td>5</td>\n",
       "      <td>159.0</td>\n",
       "      <td>22.0</td>\n",
       "      <td>3.0</td>\n",
       "      <td>22.0</td>\n",
       "    </tr>\n",
       "    <tr>\n",
       "      <th>1</th>\n",
       "      <td>1000</td>\n",
       "      <td>6</td>\n",
       "      <td>172.0</td>\n",
       "      <td>43.0</td>\n",
       "      <td>23.0</td>\n",
       "      <td>60.0</td>\n",
       "    </tr>\n",
       "    <tr>\n",
       "      <th>2</th>\n",
       "      <td>1000</td>\n",
       "      <td>7</td>\n",
       "      <td>340.0</td>\n",
       "      <td>47.0</td>\n",
       "      <td>14.0</td>\n",
       "      <td>75.0</td>\n",
       "    </tr>\n",
       "    <tr>\n",
       "      <th>3</th>\n",
       "      <td>1000</td>\n",
       "      <td>8</td>\n",
       "      <td>408.0</td>\n",
       "      <td>52.0</td>\n",
       "      <td>14.0</td>\n",
       "      <td>81.0</td>\n",
       "    </tr>\n",
       "    <tr>\n",
       "      <th>4</th>\n",
       "      <td>1000</td>\n",
       "      <td>9</td>\n",
       "      <td>466.0</td>\n",
       "      <td>58.0</td>\n",
       "      <td>15.0</td>\n",
       "      <td>57.0</td>\n",
       "    </tr>\n",
       "  </tbody>\n",
       "</table>\n",
       "</div>"
      ],
      "text/plain": [
       "   user_id  month  sum_duration  count_duration  gb_used  count_messages\n",
       "0     1000      5         159.0            22.0      3.0            22.0\n",
       "1     1000      6         172.0            43.0     23.0            60.0\n",
       "2     1000      7         340.0            47.0     14.0            75.0\n",
       "3     1000      8         408.0            52.0     14.0            81.0\n",
       "4     1000      9         466.0            58.0     15.0            57.0"
      ]
     },
     "metadata": {},
     "output_type": "display_data"
    }
   ],
   "source": [
    "# объединяем сгруппированные данные по звонкам,интернет-трафику, сообщениям в одну \n",
    "total = df_calls_pivot.merge(df_internet_pivot, on=['user_id','month'], how='outer') \\\n",
    "                      .merge(df_messages_pivot, on=['user_id','month'], how='outer')\n",
    "\n",
    "display(total.head())"
   ]
  },
  {
   "cell_type": "code",
   "execution_count": 17,
   "metadata": {},
   "outputs": [
    {
     "data": {
      "text/plain": [
       "user_id             0\n",
       "month               0\n",
       "sum_duration       40\n",
       "count_duration     40\n",
       "gb_used            11\n",
       "count_messages    497\n",
       "dtype: int64"
      ]
     },
     "execution_count": 17,
     "metadata": {},
     "output_type": "execute_result"
    }
   ],
   "source": [
    "# проверяем таблицу на пропуски\n",
    "total.isna().sum()"
   ]
  },
  {
   "cell_type": "code",
   "execution_count": 18,
   "metadata": {},
   "outputs": [],
   "source": [
    "# заменяем пропуски в таблице на 0, для дальнейших вычислений\n",
    "total = total.fillna(0)  "
   ]
  },
  {
   "cell_type": "code",
   "execution_count": 19,
   "metadata": {},
   "outputs": [
    {
     "data": {
      "text/plain": [
       "user_id           0\n",
       "month             0\n",
       "sum_duration      0\n",
       "count_duration    0\n",
       "gb_used           0\n",
       "count_messages    0\n",
       "dtype: int64"
      ]
     },
     "execution_count": 19,
     "metadata": {},
     "output_type": "execute_result"
    }
   ],
   "source": [
    "total.isna().sum()"
   ]
  },
  {
   "cell_type": "code",
   "execution_count": 20,
   "metadata": {},
   "outputs": [],
   "source": [
    "# добавляем в итогувую таблицу информацию по тарифу и городу\n",
    "df_users_tariff = df_users[['user_id','tariff']]\n",
    "df_users_city = df_users[['user_id','city']]\n",
    "total = total.merge(df_users_tariff, on='user_id', how='left')\n",
    "total = total.merge(df_users_city, on='user_id', how='left')\n",
    "total.columns = ['user_id', 'month', 'calls_sum','calls_count', 'gb_used', 'count_messages', 'tariff', 'cityy']"
   ]
  },
  {
   "cell_type": "code",
   "execution_count": 21,
   "metadata": {
    "scrolled": true
   },
   "outputs": [
    {
     "data": {
      "text/html": [
       "<div>\n",
       "<style scoped>\n",
       "    .dataframe tbody tr th:only-of-type {\n",
       "        vertical-align: middle;\n",
       "    }\n",
       "\n",
       "    .dataframe tbody tr th {\n",
       "        vertical-align: top;\n",
       "    }\n",
       "\n",
       "    .dataframe thead th {\n",
       "        text-align: right;\n",
       "    }\n",
       "</style>\n",
       "<table border=\"1\" class=\"dataframe\">\n",
       "  <thead>\n",
       "    <tr style=\"text-align: right;\">\n",
       "      <th></th>\n",
       "      <th>user_id</th>\n",
       "      <th>month</th>\n",
       "      <th>calls_sum</th>\n",
       "      <th>calls_count</th>\n",
       "      <th>gb_used</th>\n",
       "      <th>count_messages</th>\n",
       "      <th>tariff</th>\n",
       "      <th>cityy</th>\n",
       "    </tr>\n",
       "  </thead>\n",
       "  <tbody>\n",
       "    <tr>\n",
       "      <th>0</th>\n",
       "      <td>1000</td>\n",
       "      <td>5</td>\n",
       "      <td>159.0</td>\n",
       "      <td>22.0</td>\n",
       "      <td>3.0</td>\n",
       "      <td>22.0</td>\n",
       "      <td>ultra</td>\n",
       "      <td>Краснодар</td>\n",
       "    </tr>\n",
       "    <tr>\n",
       "      <th>1</th>\n",
       "      <td>1000</td>\n",
       "      <td>6</td>\n",
       "      <td>172.0</td>\n",
       "      <td>43.0</td>\n",
       "      <td>23.0</td>\n",
       "      <td>60.0</td>\n",
       "      <td>ultra</td>\n",
       "      <td>Краснодар</td>\n",
       "    </tr>\n",
       "    <tr>\n",
       "      <th>2</th>\n",
       "      <td>1000</td>\n",
       "      <td>7</td>\n",
       "      <td>340.0</td>\n",
       "      <td>47.0</td>\n",
       "      <td>14.0</td>\n",
       "      <td>75.0</td>\n",
       "      <td>ultra</td>\n",
       "      <td>Краснодар</td>\n",
       "    </tr>\n",
       "    <tr>\n",
       "      <th>3</th>\n",
       "      <td>1000</td>\n",
       "      <td>8</td>\n",
       "      <td>408.0</td>\n",
       "      <td>52.0</td>\n",
       "      <td>14.0</td>\n",
       "      <td>81.0</td>\n",
       "      <td>ultra</td>\n",
       "      <td>Краснодар</td>\n",
       "    </tr>\n",
       "    <tr>\n",
       "      <th>4</th>\n",
       "      <td>1000</td>\n",
       "      <td>9</td>\n",
       "      <td>466.0</td>\n",
       "      <td>58.0</td>\n",
       "      <td>15.0</td>\n",
       "      <td>57.0</td>\n",
       "      <td>ultra</td>\n",
       "      <td>Краснодар</td>\n",
       "    </tr>\n",
       "  </tbody>\n",
       "</table>\n",
       "</div>"
      ],
      "text/plain": [
       "   user_id  month  calls_sum  calls_count  gb_used  count_messages tariff  \\\n",
       "0     1000      5      159.0         22.0      3.0            22.0  ultra   \n",
       "1     1000      6      172.0         43.0     23.0            60.0  ultra   \n",
       "2     1000      7      340.0         47.0     14.0            75.0  ultra   \n",
       "3     1000      8      408.0         52.0     14.0            81.0  ultra   \n",
       "4     1000      9      466.0         58.0     15.0            57.0  ultra   \n",
       "\n",
       "       cityy  \n",
       "0  Краснодар  \n",
       "1  Краснодар  \n",
       "2  Краснодар  \n",
       "3  Краснодар  \n",
       "4  Краснодар  "
      ]
     },
     "execution_count": 21,
     "metadata": {},
     "output_type": "execute_result"
    }
   ],
   "source": [
    "total.head()"
   ]
  },
  {
   "cell_type": "code",
   "execution_count": 22,
   "metadata": {},
   "outputs": [],
   "source": [
    "# добавим в итогувую таблицу информацию по условиям тарифа, \n",
    "#для этого нужно заранее привести к общему наименованию столбец с информацией по названию тарифа.\n",
    "df_tariffs.rename(columns={'tariff_name':'tariff'}, inplace=True)\n",
    "total = total.merge(df_tariffs, on = 'tariff', how='outer')"
   ]
  },
  {
   "cell_type": "code",
   "execution_count": 23,
   "metadata": {},
   "outputs": [
    {
     "data": {
      "text/html": [
       "<div>\n",
       "<style scoped>\n",
       "    .dataframe tbody tr th:only-of-type {\n",
       "        vertical-align: middle;\n",
       "    }\n",
       "\n",
       "    .dataframe tbody tr th {\n",
       "        vertical-align: top;\n",
       "    }\n",
       "\n",
       "    .dataframe thead th {\n",
       "        text-align: right;\n",
       "    }\n",
       "</style>\n",
       "<table border=\"1\" class=\"dataframe\">\n",
       "  <thead>\n",
       "    <tr style=\"text-align: right;\">\n",
       "      <th></th>\n",
       "      <th>user_id</th>\n",
       "      <th>month</th>\n",
       "      <th>calls_sum</th>\n",
       "      <th>calls_count</th>\n",
       "      <th>gb_used</th>\n",
       "      <th>count_messages</th>\n",
       "      <th>tariff</th>\n",
       "      <th>cityy</th>\n",
       "      <th>messages_included</th>\n",
       "      <th>mb_per_month_included</th>\n",
       "      <th>minutes_included</th>\n",
       "      <th>rub_monthly_fee</th>\n",
       "      <th>rub_per_gb</th>\n",
       "      <th>rub_per_message</th>\n",
       "      <th>rub_per_minute</th>\n",
       "    </tr>\n",
       "  </thead>\n",
       "  <tbody>\n",
       "    <tr>\n",
       "      <th>0</th>\n",
       "      <td>1000</td>\n",
       "      <td>5</td>\n",
       "      <td>159.0</td>\n",
       "      <td>22.0</td>\n",
       "      <td>3.0</td>\n",
       "      <td>22.0</td>\n",
       "      <td>ultra</td>\n",
       "      <td>Краснодар</td>\n",
       "      <td>1000</td>\n",
       "      <td>30720</td>\n",
       "      <td>3000</td>\n",
       "      <td>1950</td>\n",
       "      <td>150</td>\n",
       "      <td>1</td>\n",
       "      <td>1</td>\n",
       "    </tr>\n",
       "    <tr>\n",
       "      <th>1</th>\n",
       "      <td>1000</td>\n",
       "      <td>6</td>\n",
       "      <td>172.0</td>\n",
       "      <td>43.0</td>\n",
       "      <td>23.0</td>\n",
       "      <td>60.0</td>\n",
       "      <td>ultra</td>\n",
       "      <td>Краснодар</td>\n",
       "      <td>1000</td>\n",
       "      <td>30720</td>\n",
       "      <td>3000</td>\n",
       "      <td>1950</td>\n",
       "      <td>150</td>\n",
       "      <td>1</td>\n",
       "      <td>1</td>\n",
       "    </tr>\n",
       "    <tr>\n",
       "      <th>2</th>\n",
       "      <td>1000</td>\n",
       "      <td>7</td>\n",
       "      <td>340.0</td>\n",
       "      <td>47.0</td>\n",
       "      <td>14.0</td>\n",
       "      <td>75.0</td>\n",
       "      <td>ultra</td>\n",
       "      <td>Краснодар</td>\n",
       "      <td>1000</td>\n",
       "      <td>30720</td>\n",
       "      <td>3000</td>\n",
       "      <td>1950</td>\n",
       "      <td>150</td>\n",
       "      <td>1</td>\n",
       "      <td>1</td>\n",
       "    </tr>\n",
       "    <tr>\n",
       "      <th>3</th>\n",
       "      <td>1000</td>\n",
       "      <td>8</td>\n",
       "      <td>408.0</td>\n",
       "      <td>52.0</td>\n",
       "      <td>14.0</td>\n",
       "      <td>81.0</td>\n",
       "      <td>ultra</td>\n",
       "      <td>Краснодар</td>\n",
       "      <td>1000</td>\n",
       "      <td>30720</td>\n",
       "      <td>3000</td>\n",
       "      <td>1950</td>\n",
       "      <td>150</td>\n",
       "      <td>1</td>\n",
       "      <td>1</td>\n",
       "    </tr>\n",
       "    <tr>\n",
       "      <th>4</th>\n",
       "      <td>1000</td>\n",
       "      <td>9</td>\n",
       "      <td>466.0</td>\n",
       "      <td>58.0</td>\n",
       "      <td>15.0</td>\n",
       "      <td>57.0</td>\n",
       "      <td>ultra</td>\n",
       "      <td>Краснодар</td>\n",
       "      <td>1000</td>\n",
       "      <td>30720</td>\n",
       "      <td>3000</td>\n",
       "      <td>1950</td>\n",
       "      <td>150</td>\n",
       "      <td>1</td>\n",
       "      <td>1</td>\n",
       "    </tr>\n",
       "  </tbody>\n",
       "</table>\n",
       "</div>"
      ],
      "text/plain": [
       "   user_id  month  calls_sum  calls_count  gb_used  count_messages tariff  \\\n",
       "0     1000      5      159.0         22.0      3.0            22.0  ultra   \n",
       "1     1000      6      172.0         43.0     23.0            60.0  ultra   \n",
       "2     1000      7      340.0         47.0     14.0            75.0  ultra   \n",
       "3     1000      8      408.0         52.0     14.0            81.0  ultra   \n",
       "4     1000      9      466.0         58.0     15.0            57.0  ultra   \n",
       "\n",
       "       cityy  messages_included  mb_per_month_included  minutes_included  \\\n",
       "0  Краснодар               1000                  30720              3000   \n",
       "1  Краснодар               1000                  30720              3000   \n",
       "2  Краснодар               1000                  30720              3000   \n",
       "3  Краснодар               1000                  30720              3000   \n",
       "4  Краснодар               1000                  30720              3000   \n",
       "\n",
       "   rub_monthly_fee  rub_per_gb  rub_per_message  rub_per_minute  \n",
       "0             1950         150                1               1  \n",
       "1             1950         150                1               1  \n",
       "2             1950         150                1               1  \n",
       "3             1950         150                1               1  \n",
       "4             1950         150                1               1  "
      ]
     },
     "execution_count": 23,
     "metadata": {},
     "output_type": "execute_result"
    }
   ],
   "source": [
    "total.head()"
   ]
  },
  {
   "cell_type": "code",
   "execution_count": 24,
   "metadata": {},
   "outputs": [],
   "source": [
    "# добавим всю информацию из total в df_users для дальнейшей работы\n",
    "df_users = df_users.merge(total, on=['user_id','month','tariff'], how='outer')"
   ]
  },
  {
   "cell_type": "code",
   "execution_count": 25,
   "metadata": {},
   "outputs": [],
   "source": [
    "# переведем информацию по включенным мегабайтам в тариф в гигабайты\n",
    "df_users['mb_per_month_included'] = df_users['mb_per_month_included'] / 1024"
   ]
  },
  {
   "cell_type": "code",
   "execution_count": 26,
   "metadata": {},
   "outputs": [
    {
     "data": {
      "text/html": [
       "<div>\n",
       "<style scoped>\n",
       "    .dataframe tbody tr th:only-of-type {\n",
       "        vertical-align: middle;\n",
       "    }\n",
       "\n",
       "    .dataframe tbody tr th {\n",
       "        vertical-align: top;\n",
       "    }\n",
       "\n",
       "    .dataframe thead th {\n",
       "        text-align: right;\n",
       "    }\n",
       "</style>\n",
       "<table border=\"1\" class=\"dataframe\">\n",
       "  <thead>\n",
       "    <tr style=\"text-align: right;\">\n",
       "      <th></th>\n",
       "      <th>user_id</th>\n",
       "      <th>age</th>\n",
       "      <th>churn_date</th>\n",
       "      <th>city</th>\n",
       "      <th>first_name</th>\n",
       "      <th>last_name</th>\n",
       "      <th>reg_date</th>\n",
       "      <th>tariff</th>\n",
       "      <th>month</th>\n",
       "      <th>calls_sum</th>\n",
       "      <th>...</th>\n",
       "      <th>gb_used</th>\n",
       "      <th>count_messages</th>\n",
       "      <th>cityy</th>\n",
       "      <th>messages_included</th>\n",
       "      <th>mb_per_month_included</th>\n",
       "      <th>minutes_included</th>\n",
       "      <th>rub_monthly_fee</th>\n",
       "      <th>rub_per_gb</th>\n",
       "      <th>rub_per_message</th>\n",
       "      <th>rub_per_minute</th>\n",
       "    </tr>\n",
       "  </thead>\n",
       "  <tbody>\n",
       "    <tr>\n",
       "      <th>0</th>\n",
       "      <td>1000</td>\n",
       "      <td>52.0</td>\n",
       "      <td>NaN</td>\n",
       "      <td>Краснодар</td>\n",
       "      <td>Рафаил</td>\n",
       "      <td>Верещагин</td>\n",
       "      <td>2018-05-25</td>\n",
       "      <td>ultra</td>\n",
       "      <td>5</td>\n",
       "      <td>159.0</td>\n",
       "      <td>...</td>\n",
       "      <td>3.0</td>\n",
       "      <td>22.0</td>\n",
       "      <td>Краснодар</td>\n",
       "      <td>1000.0</td>\n",
       "      <td>30.0</td>\n",
       "      <td>3000.0</td>\n",
       "      <td>1950.0</td>\n",
       "      <td>150.0</td>\n",
       "      <td>1.0</td>\n",
       "      <td>1.0</td>\n",
       "    </tr>\n",
       "    <tr>\n",
       "      <th>1</th>\n",
       "      <td>1001</td>\n",
       "      <td>41.0</td>\n",
       "      <td>NaN</td>\n",
       "      <td>Москва</td>\n",
       "      <td>Иван</td>\n",
       "      <td>Ежов</td>\n",
       "      <td>2018-11-01</td>\n",
       "      <td>smart</td>\n",
       "      <td>11</td>\n",
       "      <td>430.0</td>\n",
       "      <td>...</td>\n",
       "      <td>18.0</td>\n",
       "      <td>0.0</td>\n",
       "      <td>Москва</td>\n",
       "      <td>50.0</td>\n",
       "      <td>15.0</td>\n",
       "      <td>500.0</td>\n",
       "      <td>550.0</td>\n",
       "      <td>200.0</td>\n",
       "      <td>3.0</td>\n",
       "      <td>3.0</td>\n",
       "    </tr>\n",
       "    <tr>\n",
       "      <th>2</th>\n",
       "      <td>1002</td>\n",
       "      <td>59.0</td>\n",
       "      <td>NaN</td>\n",
       "      <td>Стерлитамак</td>\n",
       "      <td>Евгений</td>\n",
       "      <td>Абрамович</td>\n",
       "      <td>2018-06-17</td>\n",
       "      <td>smart</td>\n",
       "      <td>6</td>\n",
       "      <td>117.0</td>\n",
       "      <td>...</td>\n",
       "      <td>11.0</td>\n",
       "      <td>4.0</td>\n",
       "      <td>Стерлитамак</td>\n",
       "      <td>50.0</td>\n",
       "      <td>15.0</td>\n",
       "      <td>500.0</td>\n",
       "      <td>550.0</td>\n",
       "      <td>200.0</td>\n",
       "      <td>3.0</td>\n",
       "      <td>3.0</td>\n",
       "    </tr>\n",
       "    <tr>\n",
       "      <th>3</th>\n",
       "      <td>1003</td>\n",
       "      <td>23.0</td>\n",
       "      <td>NaN</td>\n",
       "      <td>Москва</td>\n",
       "      <td>Белла</td>\n",
       "      <td>Белякова</td>\n",
       "      <td>2018-08-17</td>\n",
       "      <td>ultra</td>\n",
       "      <td>8</td>\n",
       "      <td>380.0</td>\n",
       "      <td>...</td>\n",
       "      <td>9.0</td>\n",
       "      <td>37.0</td>\n",
       "      <td>Москва</td>\n",
       "      <td>1000.0</td>\n",
       "      <td>30.0</td>\n",
       "      <td>3000.0</td>\n",
       "      <td>1950.0</td>\n",
       "      <td>150.0</td>\n",
       "      <td>1.0</td>\n",
       "      <td>1.0</td>\n",
       "    </tr>\n",
       "    <tr>\n",
       "      <th>4</th>\n",
       "      <td>1004</td>\n",
       "      <td>68.0</td>\n",
       "      <td>NaN</td>\n",
       "      <td>Новокузнецк</td>\n",
       "      <td>Татьяна</td>\n",
       "      <td>Авдеенко</td>\n",
       "      <td>2018-05-14</td>\n",
       "      <td>ultra</td>\n",
       "      <td>5</td>\n",
       "      <td>35.0</td>\n",
       "      <td>...</td>\n",
       "      <td>14.0</td>\n",
       "      <td>95.0</td>\n",
       "      <td>Новокузнецк</td>\n",
       "      <td>1000.0</td>\n",
       "      <td>30.0</td>\n",
       "      <td>3000.0</td>\n",
       "      <td>1950.0</td>\n",
       "      <td>150.0</td>\n",
       "      <td>1.0</td>\n",
       "      <td>1.0</td>\n",
       "    </tr>\n",
       "  </tbody>\n",
       "</table>\n",
       "<p>5 rows × 21 columns</p>\n",
       "</div>"
      ],
      "text/plain": [
       "   user_id   age churn_date         city first_name  last_name   reg_date  \\\n",
       "0     1000  52.0        NaN    Краснодар     Рафаил  Верещагин 2018-05-25   \n",
       "1     1001  41.0        NaN       Москва       Иван       Ежов 2018-11-01   \n",
       "2     1002  59.0        NaN  Стерлитамак    Евгений  Абрамович 2018-06-17   \n",
       "3     1003  23.0        NaN       Москва      Белла   Белякова 2018-08-17   \n",
       "4     1004  68.0        NaN  Новокузнецк    Татьяна   Авдеенко 2018-05-14   \n",
       "\n",
       "  tariff  month  calls_sum  ...  gb_used  count_messages        cityy  \\\n",
       "0  ultra      5      159.0  ...      3.0            22.0    Краснодар   \n",
       "1  smart     11      430.0  ...     18.0             0.0       Москва   \n",
       "2  smart      6      117.0  ...     11.0             4.0  Стерлитамак   \n",
       "3  ultra      8      380.0  ...      9.0            37.0       Москва   \n",
       "4  ultra      5       35.0  ...     14.0            95.0  Новокузнецк   \n",
       "\n",
       "  messages_included  mb_per_month_included  minutes_included  rub_monthly_fee  \\\n",
       "0            1000.0                   30.0            3000.0           1950.0   \n",
       "1              50.0                   15.0             500.0            550.0   \n",
       "2              50.0                   15.0             500.0            550.0   \n",
       "3            1000.0                   30.0            3000.0           1950.0   \n",
       "4            1000.0                   30.0            3000.0           1950.0   \n",
       "\n",
       "   rub_per_gb  rub_per_message  rub_per_minute  \n",
       "0       150.0              1.0             1.0  \n",
       "1       200.0              3.0             3.0  \n",
       "2       200.0              3.0             3.0  \n",
       "3       150.0              1.0             1.0  \n",
       "4       150.0              1.0             1.0  \n",
       "\n",
       "[5 rows x 21 columns]"
      ]
     },
     "execution_count": 26,
     "metadata": {},
     "output_type": "execute_result"
    }
   ],
   "source": [
    "df_users.head()"
   ]
  },
  {
   "cell_type": "code",
   "execution_count": 27,
   "metadata": {},
   "outputs": [],
   "source": [
    "# посчитаем выручку по звонкам, там где значение отрицатеьное считаем, \n",
    "#что пользователь уложился в тариф, поэтому прировняем отрицательные значения к нулю.\n",
    "df_users['revenue_calls'] = (df_users['calls_sum'] - df_users['minutes_included']) * df_users['rub_per_minute']\n",
    "df_users.loc[df_users['revenue_calls'] < 0, 'revenue_calls'] = 0"
   ]
  },
  {
   "cell_type": "code",
   "execution_count": 28,
   "metadata": {},
   "outputs": [],
   "source": [
    "# посчитаем выручку по использованному трафику, там где значение отрицатеьное считаем, \n",
    "#что пользователь уложился в тариф, поэтому прировняем отрицательные значения к нулю.\n",
    "df_users['revenue_internet'] = (df_users['gb_used'] - df_users['mb_per_month_included']) * df_users['rub_per_gb']\n",
    "df_users.loc[df_users['revenue_internet'] < 0, 'revenue_internet'] = 0"
   ]
  },
  {
   "cell_type": "code",
   "execution_count": 29,
   "metadata": {},
   "outputs": [],
   "source": [
    "# посчитаем выручку по сообщениям, там где значение отрицатеьное считаем, \n",
    "#что пользователь уложился в тариф, поэтому прировняем отрицательные значения к нулю.\n",
    "df_users['revenue_message'] = (df_users['count_messages'] - df_users['messages_included']) * df_users['rub_per_message']\n",
    "df_users.loc[df_users['revenue_message'] < 0, 'revenue_message'] = 0"
   ]
  },
  {
   "cell_type": "code",
   "execution_count": 30,
   "metadata": {},
   "outputs": [],
   "source": [
    "# посчитаем итоговую выручку\n",
    "df_users['revenue_total'] = (df_users['revenue_calls'] + \n",
    "                            df_users['revenue_internet'] + \n",
    "                            df_users['revenue_message'] + \n",
    "                            df_users['rub_monthly_fee'])"
   ]
  },
  {
   "cell_type": "code",
   "execution_count": 31,
   "metadata": {},
   "outputs": [
    {
     "data": {
      "text/html": [
       "<div>\n",
       "<style scoped>\n",
       "    .dataframe tbody tr th:only-of-type {\n",
       "        vertical-align: middle;\n",
       "    }\n",
       "\n",
       "    .dataframe tbody tr th {\n",
       "        vertical-align: top;\n",
       "    }\n",
       "\n",
       "    .dataframe thead th {\n",
       "        text-align: right;\n",
       "    }\n",
       "</style>\n",
       "<table border=\"1\" class=\"dataframe\">\n",
       "  <thead>\n",
       "    <tr style=\"text-align: right;\">\n",
       "      <th></th>\n",
       "      <th>user_id</th>\n",
       "      <th>age</th>\n",
       "      <th>churn_date</th>\n",
       "      <th>city</th>\n",
       "      <th>first_name</th>\n",
       "      <th>last_name</th>\n",
       "      <th>reg_date</th>\n",
       "      <th>tariff</th>\n",
       "      <th>month</th>\n",
       "      <th>calls_sum</th>\n",
       "      <th>...</th>\n",
       "      <th>mb_per_month_included</th>\n",
       "      <th>minutes_included</th>\n",
       "      <th>rub_monthly_fee</th>\n",
       "      <th>rub_per_gb</th>\n",
       "      <th>rub_per_message</th>\n",
       "      <th>rub_per_minute</th>\n",
       "      <th>revenue_calls</th>\n",
       "      <th>revenue_internet</th>\n",
       "      <th>revenue_message</th>\n",
       "      <th>revenue_total</th>\n",
       "    </tr>\n",
       "  </thead>\n",
       "  <tbody>\n",
       "    <tr>\n",
       "      <th>128</th>\n",
       "      <td>1128</td>\n",
       "      <td>51.0</td>\n",
       "      <td>2018-12-23</td>\n",
       "      <td>Волжский</td>\n",
       "      <td>Ксения</td>\n",
       "      <td>Агаева</td>\n",
       "      <td>2018-12-15</td>\n",
       "      <td>ultra</td>\n",
       "      <td>12</td>\n",
       "      <td>NaN</td>\n",
       "      <td>...</td>\n",
       "      <td>NaN</td>\n",
       "      <td>NaN</td>\n",
       "      <td>NaN</td>\n",
       "      <td>NaN</td>\n",
       "      <td>NaN</td>\n",
       "      <td>NaN</td>\n",
       "      <td>NaN</td>\n",
       "      <td>NaN</td>\n",
       "      <td>NaN</td>\n",
       "      <td>NaN</td>\n",
       "    </tr>\n",
       "    <tr>\n",
       "      <th>371</th>\n",
       "      <td>1371</td>\n",
       "      <td>50.0</td>\n",
       "      <td>2018-12-30</td>\n",
       "      <td>Омск</td>\n",
       "      <td>Ириней</td>\n",
       "      <td>Трофимов</td>\n",
       "      <td>2018-12-25</td>\n",
       "      <td>smart</td>\n",
       "      <td>12</td>\n",
       "      <td>NaN</td>\n",
       "      <td>...</td>\n",
       "      <td>NaN</td>\n",
       "      <td>NaN</td>\n",
       "      <td>NaN</td>\n",
       "      <td>NaN</td>\n",
       "      <td>NaN</td>\n",
       "      <td>NaN</td>\n",
       "      <td>NaN</td>\n",
       "      <td>NaN</td>\n",
       "      <td>NaN</td>\n",
       "      <td>NaN</td>\n",
       "    </tr>\n",
       "  </tbody>\n",
       "</table>\n",
       "<p>2 rows × 25 columns</p>\n",
       "</div>"
      ],
      "text/plain": [
       "     user_id   age  churn_date      city first_name last_name   reg_date  \\\n",
       "128     1128  51.0  2018-12-23  Волжский     Ксения    Агаева 2018-12-15   \n",
       "371     1371  50.0  2018-12-30      Омск     Ириней  Трофимов 2018-12-25   \n",
       "\n",
       "    tariff  month  calls_sum  ...  mb_per_month_included  minutes_included  \\\n",
       "128  ultra     12        NaN  ...                    NaN               NaN   \n",
       "371  smart     12        NaN  ...                    NaN               NaN   \n",
       "\n",
       "     rub_monthly_fee rub_per_gb  rub_per_message  rub_per_minute  \\\n",
       "128              NaN        NaN              NaN             NaN   \n",
       "371              NaN        NaN              NaN             NaN   \n",
       "\n",
       "     revenue_calls  revenue_internet  revenue_message  revenue_total  \n",
       "128            NaN               NaN              NaN            NaN  \n",
       "371            NaN               NaN              NaN            NaN  \n",
       "\n",
       "[2 rows x 25 columns]"
      ]
     },
     "execution_count": 31,
     "metadata": {},
     "output_type": "execute_result"
    }
   ],
   "source": [
    "#проверим итогувую выручку на наличие пропусков\n",
    "df_users.loc[df_users['revenue_total'].isna() == True]"
   ]
  },
  {
   "cell_type": "code",
   "execution_count": 32,
   "metadata": {},
   "outputs": [],
   "source": [
    "# Ввиду того, что два пользователя отлючились, через несколько дней после подключения к тарифу, мы видим, что выручки по ним нет.\n",
    "# Поэтому мы их исключим из анализа.\n",
    "df_users_good = df_users.loc[df_users['revenue_total'].isna() != True]"
   ]
  },
  {
   "cell_type": "markdown",
   "metadata": {},
   "source": [
    "### Вывод"
   ]
  },
  {
   "cell_type": "markdown",
   "metadata": {},
   "source": [
    "В процессе подготовки данных:\n",
    "* Изменил тип данных с object на datetime64[ns] в небходимых столбцах.\n",
    "* Добавил столбец с номером месяца.\n",
    "* Округлил значения столбца с длительностью звонка в большую сторону в соотвествии с условиями тарификации.\n",
    "* Перевел значения интернет-трафика из мегабайт в гигабайты и округлил в большую сторону в соотвествии с условиями тарификации. \n",
    "* Сгруппировал данные звонкам, интернет-трафику, сообщениеям по пользователю и месяцу.\n",
    "* Все ранее сгруппированные данные объеденил в одну таблицу. В итоговой таблице были найдены пропуски, которые появились ввиду того, что абонент пользовался в конкретный месяц только частью услуг. Заменил пропуски на \"0\" для дальнейших вычислений.\n",
    "* Добавил в итоговую таблицу информацию по условиям тарифа и городу проживания абонента.\n",
    "* Объеденил итоговую таблицу с таблицей по абонентам и в новой таблице посчитал выручку от каждого абонента в разрезе месяца, услуг, а также общую выручку. Значения по выручке в разрезе услуг, которые получились меньше нуля расценил как факт того, что пользователь не израсходовал предоставленные лимиты в рамках тарифа и поэтому прировнял их к нулю.\n",
    "* в итоговой таблице df_users были найдены и исключены из анализа 2 абонента, которые подключились к тарифу и отключились через 5 и 8 дней соотвественно. Ни абонентской платы, ни пользование тарифом не зафиксированно, поэтому и было принято решение искючить их из анализа.\n",
    "\n",
    "В итоге получил таблицу со веми необходимыми данными для дальнейшего анализа."
   ]
  },
  {
   "cell_type": "markdown",
   "metadata": {},
   "source": [
    "## Анализ данных"
   ]
  },
  {
   "cell_type": "code",
   "execution_count": 33,
   "metadata": {},
   "outputs": [
    {
     "name": "stdout",
     "output_type": "stream",
     "text": [
      "(985, 25)\n"
     ]
    },
    {
     "data": {
      "text/plain": [
       "(2229, 25)"
      ]
     },
     "execution_count": 33,
     "metadata": {},
     "output_type": "execute_result"
    }
   ],
   "source": [
    "# сделаем из итоговой таблицы два среза по тарифам\n",
    "df_users_good_ultra = df_users_good.query('tariff == \"ultra\"')\n",
    "df_users_good_smart = df_users_good.query('tariff == \"smart\"')\n",
    "print(df_users_good_ultra.shape)\n",
    "df_users_good_smart.shape"
   ]
  },
  {
   "cell_type": "code",
   "execution_count": 34,
   "metadata": {
    "scrolled": true
   },
   "outputs": [
    {
     "data": {
      "image/png": "[encoded data removed]",
      "text/plain": [
       "<Figure size 432x288 with 1 Axes>"
      ]
     },
     "metadata": {
      "needs_background": "light"
     },
     "output_type": "display_data"
    },
    {
     "name": "stdout",
     "output_type": "stream",
     "text": [
      "Среднее количество тарифа ultra = 526.6233502538071\n",
      "Среднее количество тарифа smart = 417.9349484073576\n",
      "Дисперсия тарифа ultra = 100873.63339730089\n",
      "Дисперсия тарифа smart = 36219.31578434428\n",
      "Стандартное отклонение тарифа ultra = 317.60609785912624\n",
      "Стандартное отклонение тарифа smart = 190.31372988921288\n"
     ]
    },
    {
     "data": {
      "image/png": "[encoded data removed]",
      "text/plain": [
       "<Figure size 432x288 with 1 Axes>"
      ]
     },
     "metadata": {
      "needs_background": "light"
     },
     "output_type": "display_data"
    },
    {
     "name": "stdout",
     "output_type": "stream",
     "text": [
      "Среднее количество тарифа ultra = 19.494416243654822\n",
      "Среднее количество тарифа smart = 16.328847016599372\n",
      "Дисперсия тарифа ultra = 97.09168626965469\n",
      "Дисперсия тарифа smart = 33.02870517811148\n",
      "Стандартное отклонение тарифа ultra = 9.853511367510299\n",
      "Стандартное отклонение тарифа smart = 5.747060568509043\n"
     ]
    },
    {
     "data": {
      "image/png": "[encoded data removed]",
      "text/plain": [
       "<Figure size 432x288 with 1 Axes>"
      ]
     },
     "metadata": {
      "needs_background": "light"
     },
     "output_type": "display_data"
    },
    {
     "name": "stdout",
     "output_type": "stream",
     "text": [
      "Среднее количество тарифа ultra = 49.36345177664975\n",
      "Среднее количество тарифа smart = 33.384028712427096\n",
      "Дисперсия тарифа ultra = 2285.266142544685\n",
      "Дисперсия тарифа smart = 796.8129584480082\n",
      "Стандартное отклонение тарифа ultra = 47.804457350174836\n",
      "Стандартное отклонение тарифа smart = 28.227875556761408\n"
     ]
    }
   ],
   "source": [
    "# Посчитаем для услуг среднее количество, дисперсию, стандартное отклонение и построим гистограммы.\n",
    "colomns = ['calls_sum','gb_used','count_messages']\n",
    "for t in colomns:\n",
    "    ax = df_users_good_ultra.plot(\n",
    "    kind='hist',\n",
    "    y=t,\n",
    "    histtype='step',\n",
    "    #range=(0, 2000),\n",
    "    bins=25,\n",
    "    linewidth=5,\n",
    "    alpha=0.7,\n",
    "    label='ultra',\n",
    "    )\n",
    "    df_users_good_smart.plot(\n",
    "    kind='hist',\n",
    "    y=t,\n",
    "    histtype='step',\n",
    "    #range=(0, 2000),\n",
    "    bins=25,\n",
    "    linewidth=5,\n",
    "    alpha=0.7,\n",
    "    label='smart',\n",
    "    ax=ax,\n",
    "    grid=True,\n",
    "    legend=True,\n",
    "    ) \n",
    "    plt.title(t)\n",
    "    plt.show()\n",
    "    print('Среднее количество тарифа ultra =',df_users_good_ultra[t].mean())\n",
    "    print('Среднее количество тарифа smart =',df_users_good_smart[t].mean())\n",
    "    print('Дисперсия тарифа ultra =', np.var(df_users_good_ultra[t], ddof=1))\n",
    "    print('Дисперсия тарифа smart =', np.var(df_users_good_smart[t], ddof=1))\n",
    "    print('Стандартное отклонение тарифа ultra =', np.std(df_users_good_ultra[t], ddof=1))\n",
    "    print('Стандартное отклонение тарифа smart =', np.std(df_users_good_smart[t], ddof=1))\n",
    "    "
   ]
  },
  {
   "cell_type": "markdown",
   "metadata": {},
   "source": [
    "По гистограммам количества использованных минут и сообщений видно, что на тарифе smart большинство пользователей пытаются уложиться в предоставленный лимит, в то время как на тарифе ultra большинство не набирает даже половины предоставленного лимита. В части интернет-трафика ситуация немного отличается - видно, что пользователи активно поьзуются данной услугой и предоставленных лимитов на тарифе smart явно недостаточно и отношение пользователей, которые уложились в лимит и те, которые не уложились примерно 50% на 50%. На тарифе ultra ситуация немного иная, большинство пользователей все же уложились в лимит. Также стоит отметить, что на тарифе ultra дисперсия гараздо выше, что свидетельствует о неоднородности данных."
   ]
  },
  {
   "cell_type": "code",
   "execution_count": 35,
   "metadata": {},
   "outputs": [
    {
     "data": {
      "text/plain": [
       "NormaltestResult(statistic=684.073717195422, pvalue=2.8528550318274956e-149)"
      ]
     },
     "execution_count": 35,
     "metadata": {},
     "output_type": "execute_result"
    }
   ],
   "source": [
    "# проверим выручку по тарифу ultra на нормальность\n",
    "st.normaltest(np.log(df_users_good_ultra['revenue_total']))"
   ]
  },
  {
   "cell_type": "code",
   "execution_count": 36,
   "metadata": {
    "scrolled": true
   },
   "outputs": [
    {
     "data": {
      "image/png": "[encoded data removed]",
      "text/plain": [
       "<Figure size 432x288 with 2 Axes>"
      ]
     },
     "metadata": {
      "needs_background": "light"
     },
     "output_type": "display_data"
    }
   ],
   "source": [
    "# рассмотрим гистограмму выручки по тарифу ultra\n",
    "creating_box_hist('revenue_total', df_users_good_ultra)"
   ]
  },
  {
   "cell_type": "code",
   "execution_count": 37,
   "metadata": {
    "scrolled": true
   },
   "outputs": [
    {
     "data": {
      "text/plain": [
       "<AxesSubplot:title={'center':'Q-Q Plot'}, xlabel='Theoretical quantiles', ylabel='Ordered quantiles'>"
      ]
     },
     "execution_count": 37,
     "metadata": {},
     "output_type": "execute_result"
    },
    {
     "data": {
      "image/png": "[encoded data removed]",
      "text/plain": [
       "<Figure size 360x288 with 1 Axes>"
      ]
     },
     "metadata": {
      "needs_background": "light"
     },
     "output_type": "display_data"
    }
   ],
   "source": [
    "# проверим выручку по тарифу ultra на нормальность\n",
    "pg.qqplot(np.log([df_users_good_ultra['revenue_total']]), dist='norm')"
   ]
  },
  {
   "cell_type": "code",
   "execution_count": 38,
   "metadata": {},
   "outputs": [
    {
     "data": {
      "text/plain": [
       "NormaltestResult(statistic=626.586200207106, pvalue=8.68031342274237e-137)"
      ]
     },
     "execution_count": 38,
     "metadata": {},
     "output_type": "execute_result"
    }
   ],
   "source": [
    "# проверим выручку по тарифу smart на нормальность\n",
    "st.normaltest(np.log(df_users_good_smart['revenue_total']))"
   ]
  },
  {
   "cell_type": "code",
   "execution_count": 39,
   "metadata": {},
   "outputs": [
    {
     "data": {
      "image/png": "[encoded data removed]",
      "text/plain": [
       "<Figure size 432x288 with 2 Axes>"
      ]
     },
     "metadata": {
      "needs_background": "light"
     },
     "output_type": "display_data"
    }
   ],
   "source": [
    "# рассмотрим гистограмму выручки по тарифу smart\n",
    "creating_box_hist('revenue_total', df_users_good_smart)"
   ]
  },
  {
   "cell_type": "code",
   "execution_count": 40,
   "metadata": {},
   "outputs": [
    {
     "data": {
      "text/plain": [
       "<AxesSubplot:title={'center':'Q-Q Plot'}, xlabel='Theoretical quantiles', ylabel='Ordered quantiles'>"
      ]
     },
     "execution_count": 40,
     "metadata": {},
     "output_type": "execute_result"
    },
    {
     "data": {
      "image/png": "[encoded data removed]",
      "text/plain": [
       "<Figure size 360x288 with 1 Axes>"
      ]
     },
     "metadata": {
      "needs_background": "light"
     },
     "output_type": "display_data"
    }
   ],
   "source": [
    "# проверим выручку по тарифу smart на нормальность\n",
    "pg.qqplot(np.log(df_users_good_smart['revenue_total']), dist='norm')"
   ]
  },
  {
   "cell_type": "markdown",
   "metadata": {},
   "source": [
    "### Вывод"
   ]
  },
  {
   "cell_type": "markdown",
   "metadata": {},
   "source": [
    "В результате анализа количества минут разговора, сообщений и использованного интернет-трафика в разрезе двух тарифов можно сделать следующие выводы:\n",
    "* все услуги для двух тарифов имеют нормальное распределение с положительной скошенностью.\n",
    "* Разброс данных, а следовательно диспресия, среднее и стандартное отклонение для услуг тарифа ultra выше, чем у тарифа smart. Это видно и по гистограмме.\n",
    "* По гистограммам количества использованных минут и сообщений видно, что на тарифе smart большинство пользователей пытаются уложиться в предоставленный лимит, в то время как на тарифе ultra большинство не набирает даже половины предоставленного лимита. В части интернет-трафика ситуация немного отличается - видно, что пользователи активно поьзуются данной услугой и предоставленных лимитов на тарифе smart явно недостаточно и отношение пользователей, которые уложились в лимит и те, которые не уложились примерно 50% на 50%. На тарифе ultra ситуация немного иная, большинство пользователей все же уложились в лимит.\n",
    "* Рассмотрев распределения по выручке от каждого таоифа, видно, что они далеки от нормальных и с большой дисперсией, логарифмирование данных немного улучшает ситуацию, но глобально ничего не меняет. Данная картина связана с тем, что большинство пользователей либо укладываются в абонентскую плату по тарифу, либо незначительно превышают ее.\n"
   ]
  },
  {
   "cell_type": "markdown",
   "metadata": {},
   "source": [
    "## Формулировка и проверка гипотез"
   ]
  },
  {
   "cell_type": "markdown",
   "metadata": {},
   "source": [
    "У нас есть две гипотезы, сформулируем для них нулевую и алтернативную гипотезы:\n",
    "\n",
    "**средняя выручка пользователей тарифов «Ультра» и «Смарт» различаются:**\n",
    "* $H_0$ - средняя выручка пользователей тарифов «Ультра» и «Смарт» равны.\n",
    "* $H_1$ - средняя выручка пользователей тарифов «Ультра» и «Смарт» не равны.\n",
    "\n",
    "**средняя выручка пользователей из Москвы отличается от выручки пользователей из других регионов:**\n",
    "* $H_0$ - средняя выручка пользователей из Москвы равна выручке пользователей из других регионов.\n",
    "* $H_1$ - средняя выручка пользователей из Москвы не равна выручке пользователей из других регионов."
   ]
  },
  {
   "cell_type": "markdown",
   "metadata": {},
   "source": [
    "### Cредняя выручка пользователей тарифов «Ультра» и «Смарт» различаются"
   ]
  },
  {
   "cell_type": "code",
   "execution_count": 41,
   "metadata": {},
   "outputs": [],
   "source": [
    "# функция bootstrap с визуализацией\n",
    "\n",
    "def get_bootstrap(\n",
    "    data_column_1, # числовые значения первой выборки\n",
    "    data_column_2, # числовые значения второй выборки\n",
    "    boot_it = 1000, # количество бутстрэп-подвыборок\n",
    "    statistic = np.mean, # интересующая нас статистика\n",
    "    bootstrap_conf_level = 0.95 # уровень значимости\n",
    "):\n",
    "    boot_len = max([len(data_column_1), len(data_column_2)])\n",
    "    boot_data = []\n",
    "    for i in tqdm(range(boot_it)): # извлекаем подвыборки\n",
    "        samples_1 = data_column_1.sample(\n",
    "            boot_len, \n",
    "            replace = True # параметр возвращения\n",
    "        ).values\n",
    "        \n",
    "        samples_2 = data_column_2.sample(\n",
    "            boot_len, # чтобы сохранить дисперсию, берем такой же размер выборки\n",
    "            replace = True\n",
    "        ).values\n",
    "        \n",
    "        boot_data.append(statistic(samples_1-samples_2)) \n",
    "    pd_boot_data = pd.DataFrame(boot_data)\n",
    "        \n",
    "    left_quant = (1 - bootstrap_conf_level)/2\n",
    "    right_quant = 1 - (1 - bootstrap_conf_level) / 2\n",
    "    quants = pd_boot_data.quantile([left_quant, right_quant])\n",
    "        \n",
    "    p_1 = norm.cdf(\n",
    "        x = 0, \n",
    "        loc = np.mean(boot_data), \n",
    "        scale = np.std(boot_data)\n",
    "    )\n",
    "    p_2 = norm.cdf(\n",
    "        x = 0, \n",
    "        loc = -np.mean(boot_data), \n",
    "        scale = np.std(boot_data)\n",
    "    )\n",
    "    p_value = min(p_1, p_2) * 2\n",
    "        \n",
    "    # Визуализация\n",
    "    _, _, bars = plt.hist(pd_boot_data[0], bins = 50)\n",
    "    for bar in bars:\n",
    "        if abs(bar.get_x()) <= quants.iloc[0][0] or abs(bar.get_x()) >= quants.iloc[1][0]:\n",
    "            bar.set_facecolor('red')\n",
    "        else: \n",
    "            bar.set_facecolor('grey')\n",
    "            bar.set_edgecolor('black')\n",
    "    \n",
    "    plt.style.use('ggplot')\n",
    "    plt.vlines(quants,ymin=0,ymax=50,linestyle='--')\n",
    "    plt.xlabel('boot_data')\n",
    "    plt.ylabel('frequency')\n",
    "    plt.title(\"Histogram of boot_data\")\n",
    "    plt.show()\n",
    "       \n",
    "    return {\"boot_data\": boot_data, \n",
    "            \"quants\": quants, \n",
    "            \"p_value\": p_value}"
   ]
  },
  {
   "cell_type": "code",
   "execution_count": 42,
   "metadata": {},
   "outputs": [
    {
     "name": "stdout",
     "output_type": "stream",
     "text": [
      "p-значение:  0.0\n",
      "Отвергаем нулевую гипотезу\n",
      "\n",
      "ultra \n",
      " count     985.000000\n",
      "mean     2070.152284\n",
      "std       376.187114\n",
      "min      1950.000000\n",
      "25%      1950.000000\n",
      "50%      1950.000000\n",
      "75%      1950.000000\n",
      "max      4800.000000\n",
      "Name: revenue_total, dtype: float64\n"
     ]
    },
    {
     "data": {
      "text/plain": [
       "count    2229.000000\n",
       "mean     1289.973531\n",
       "std       818.404367\n",
       "min       550.000000\n",
       "25%       550.000000\n",
       "50%      1023.000000\n",
       "75%      1750.000000\n",
       "max      6770.000000\n",
       "Name: revenue_total, dtype: float64"
      ]
     },
     "execution_count": 42,
     "metadata": {},
     "output_type": "execute_result"
    }
   ],
   "source": [
    "# Проверим гипотезу - \"средняя выручка пользователей тарифов «Ультра» и «Смарт» различаются\" с помощью ttest\n",
    "alpha = .05\n",
    "results = st.ttest_ind(\n",
    "    np.log(df_users_good_ultra['revenue_total']), \n",
    "    np.log(df_users_good_smart['revenue_total']),\n",
    "    equal_var = False)\n",
    "\n",
    "print('p-значение: ', results.pvalue)\n",
    "\n",
    "if results.pvalue < alpha:\n",
    "    print(\"Отвергаем нулевую гипотезу\")\n",
    "else:\n",
    "    print(\"Не получилось отвергнуть нулевую гипотезу\")\n",
    "    \n",
    "print()\n",
    "print('ultra','\\n', df_users_good_ultra['revenue_total'].describe())\n",
    "df_users_good_smart['revenue_total'].describe()"
   ]
  },
  {
   "cell_type": "code",
   "execution_count": 43,
   "metadata": {},
   "outputs": [
    {
     "data": {
      "text/plain": [
       "MannwhitneyuResult(statistic=1796019.0, pvalue=1.9803845594554806e-187)"
      ]
     },
     "execution_count": 43,
     "metadata": {},
     "output_type": "execute_result"
    }
   ],
   "source": [
    "# Проверим гипотезу - \"средняя выручка пользователей тарифов «Ультра» и «Смарт» различаются\" с помощью mannwhitneyu\n",
    "mannwhitneyu(df_users_good_ultra['revenue_total'], \n",
    "             df_users_good_smart['revenue_total'])"
   ]
  },
  {
   "cell_type": "markdown",
   "metadata": {},
   "source": [
    "Критерий Манна-Уитни  также показал, что необходимо отклонить нулевую гипотезу, так как pvalue < 0.05."
   ]
  },
  {
   "cell_type": "code",
   "execution_count": 44,
   "metadata": {
    "scrolled": true
   },
   "outputs": [
    {
     "data": {
      "application/vnd.jupyter.widget-view+json": {
       "model_id": "577d355a2a3740748ee1b4ac332ecedc",
       "version_major": 2,
       "version_minor": 0
      },
      "text/plain": [
       "  0%|          | 0/1000 [00:00<?, ?it/s]"
      ]
     },
     "metadata": {},
     "output_type": "display_data"
    },
    {
     "data": {
      "image/png": "[encoded data removed]",
      "text/plain": [
       "<Figure size 432x288 with 1 Axes>"
      ]
     },
     "metadata": {
      "needs_background": "light"
     },
     "output_type": "display_data"
    },
    {
     "data": {
      "text/plain": [
       "{'boot_data': [1000.0,\n",
       "  1000.0,\n",
       "  1000.0,\n",
       "  1000.0,\n",
       "  1000.0,\n",
       "  983.0,\n",
       "  1000.0,\n",
       "  1000.0,\n",
       "  979.0,\n",
       "  1000.0,\n",
       "  1000.0,\n",
       "  1000.0,\n",
       "  1000.0,\n",
       "  1000.0,\n",
       "  997.0,\n",
       "  1000.0,\n",
       "  1000.0,\n",
       "  1000.0,\n",
       "  1000.0,\n",
       "  1000.0,\n",
       "  1000.0,\n",
       "  1000.0,\n",
       "  1000.0,\n",
       "  1000.0,\n",
       "  1000.0,\n",
       "  1000.0,\n",
       "  1000.0,\n",
       "  1000.0,\n",
       "  997.0,\n",
       "  988.0,\n",
       "  994.0,\n",
       "  1000.0,\n",
       "  931.0,\n",
       "  1000.0,\n",
       "  987.0,\n",
       "  1000.0,\n",
       "  1000.0,\n",
       "  1000.0,\n",
       "  1000.0,\n",
       "  1000.0,\n",
       "  1000.0,\n",
       "  992.0,\n",
       "  1000.0,\n",
       "  1000.0,\n",
       "  1000.0,\n",
       "  1000.0,\n",
       "  1000.0,\n",
       "  997.0,\n",
       "  1000.0,\n",
       "  1000.0,\n",
       "  1000.0,\n",
       "  997.0,\n",
       "  1000.0,\n",
       "  997.0,\n",
       "  1000.0,\n",
       "  1000.0,\n",
       "  1000.0,\n",
       "  1000.0,\n",
       "  1000.0,\n",
       "  1000.0,\n",
       "  1000.0,\n",
       "  940.0,\n",
       "  1000.0,\n",
       "  1000.0,\n",
       "  1000.0,\n",
       "  1000.0,\n",
       "  1000.0,\n",
       "  1000.0,\n",
       "  1000.0,\n",
       "  1000.0,\n",
       "  995.0,\n",
       "  1000.0,\n",
       "  1000.0,\n",
       "  970.0,\n",
       "  1000.0,\n",
       "  1000.0,\n",
       "  1000.0,\n",
       "  1000.0,\n",
       "  1000.0,\n",
       "  974.0,\n",
       "  1000.0,\n",
       "  1000.0,\n",
       "  1000.0,\n",
       "  1000.0,\n",
       "  1000.0,\n",
       "  977.0,\n",
       "  1000.0,\n",
       "  985.0,\n",
       "  1000.0,\n",
       "  985.0,\n",
       "  1000.0,\n",
       "  1000.0,\n",
       "  1000.0,\n",
       "  997.0,\n",
       "  1000.0,\n",
       "  1000.0,\n",
       "  1000.0,\n",
       "  1000.0,\n",
       "  1000.0,\n",
       "  1000.0,\n",
       "  1000.0,\n",
       "  1000.0,\n",
       "  1000.0,\n",
       "  1000.0,\n",
       "  995.0,\n",
       "  1000.0,\n",
       "  1000.0,\n",
       "  1000.0,\n",
       "  991.0,\n",
       "  974.0,\n",
       "  1000.0,\n",
       "  1000.0,\n",
       "  1000.0,\n",
       "  1000.0,\n",
       "  997.0,\n",
       "  992.0,\n",
       "  1000.0,\n",
       "  1000.0,\n",
       "  985.0,\n",
       "  1000.0,\n",
       "  1000.0,\n",
       "  1000.0,\n",
       "  1000.0,\n",
       "  1000.0,\n",
       "  1000.0,\n",
       "  997.0,\n",
       "  1000.0,\n",
       "  1000.0,\n",
       "  1000.0,\n",
       "  1000.0,\n",
       "  1000.0,\n",
       "  1000.0,\n",
       "  979.0,\n",
       "  970.0,\n",
       "  1000.0,\n",
       "  1000.0,\n",
       "  973.0,\n",
       "  1000.0,\n",
       "  1000.0,\n",
       "  1000.0,\n",
       "  976.0,\n",
       "  1000.0,\n",
       "  1000.0,\n",
       "  1000.0,\n",
       "  1000.0,\n",
       "  1000.0,\n",
       "  974.0,\n",
       "  1000.0,\n",
       "  1000.0,\n",
       "  1000.0,\n",
       "  987.0,\n",
       "  1000.0,\n",
       "  986.0,\n",
       "  1000.0,\n",
       "  1000.0,\n",
       "  964.0,\n",
       "  1000.0,\n",
       "  970.0,\n",
       "  1000.0,\n",
       "  1000.0,\n",
       "  1000.0,\n",
       "  997.0,\n",
       "  1000.0,\n",
       "  991.0,\n",
       "  1000.0,\n",
       "  1000.0,\n",
       "  997.0,\n",
       "  1000.0,\n",
       "  995.0,\n",
       "  1000.0,\n",
       "  979.0,\n",
       "  1000.0,\n",
       "  1000.0,\n",
       "  997.0,\n",
       "  1000.0,\n",
       "  1000.0,\n",
       "  1000.0,\n",
       "  1000.0,\n",
       "  1000.0,\n",
       "  987.0,\n",
       "  1000.0,\n",
       "  1000.0,\n",
       "  1000.0,\n",
       "  1000.0,\n",
       "  1000.0,\n",
       "  1000.0,\n",
       "  1000.0,\n",
       "  1000.0,\n",
       "  1000.0,\n",
       "  1000.0,\n",
       "  1000.0,\n",
       "  1000.0,\n",
       "  1000.0,\n",
       "  1000.0,\n",
       "  991.0,\n",
       "  1000.0,\n",
       "  1000.0,\n",
       "  1000.0,\n",
       "  997.0,\n",
       "  1000.0,\n",
       "  1000.0,\n",
       "  1000.0,\n",
       "  1000.0,\n",
       "  1000.0,\n",
       "  1000.0,\n",
       "  1000.0,\n",
       "  975.0,\n",
       "  1000.0,\n",
       "  973.0,\n",
       "  1000.0,\n",
       "  994.0,\n",
       "  1000.0,\n",
       "  1000.0,\n",
       "  1000.0,\n",
       "  1000.0,\n",
       "  1000.0,\n",
       "  1000.0,\n",
       "  987.0,\n",
       "  1000.0,\n",
       "  1000.0,\n",
       "  1000.0,\n",
       "  1000.0,\n",
       "  1000.0,\n",
       "  986.0,\n",
       "  979.0,\n",
       "  997.0,\n",
       "  1000.0,\n",
       "  979.0,\n",
       "  1000.0,\n",
       "  1000.0,\n",
       "  1000.0,\n",
       "  1000.0,\n",
       "  1000.0,\n",
       "  970.0,\n",
       "  1000.0,\n",
       "  1000.0,\n",
       "  1000.0,\n",
       "  1000.0,\n",
       "  995.0,\n",
       "  1000.0,\n",
       "  1000.0,\n",
       "  995.0,\n",
       "  1000.0,\n",
       "  956.0,\n",
       "  1000.0,\n",
       "  973.0,\n",
       "  1000.0,\n",
       "  1000.0,\n",
       "  1000.0,\n",
       "  1000.0,\n",
       "  1000.0,\n",
       "  1000.0,\n",
       "  1000.0,\n",
       "  1000.0,\n",
       "  1000.0,\n",
       "  1000.0,\n",
       "  1000.0,\n",
       "  1000.0,\n",
       "  988.0,\n",
       "  979.0,\n",
       "  1000.0,\n",
       "  1000.0,\n",
       "  1000.0,\n",
       "  1000.0,\n",
       "  1000.0,\n",
       "  1000.0,\n",
       "  1000.0,\n",
       "  1000.0,\n",
       "  1000.0,\n",
       "  1000.0,\n",
       "  991.0,\n",
       "  1000.0,\n",
       "  955.0,\n",
       "  1000.0,\n",
       "  969.0,\n",
       "  1000.0,\n",
       "  1000.0,\n",
       "  1000.0,\n",
       "  997.0,\n",
       "  970.0,\n",
       "  1000.0,\n",
       "  1000.0,\n",
       "  1000.0,\n",
       "  1000.0,\n",
       "  1000.0,\n",
       "  1000.0,\n",
       "  1000.0,\n",
       "  1000.0,\n",
       "  1000.0,\n",
       "  1000.0,\n",
       "  1000.0,\n",
       "  991.0,\n",
       "  1000.0,\n",
       "  996.0,\n",
       "  1000.0,\n",
       "  1000.0,\n",
       "  1000.0,\n",
       "  1000.0,\n",
       "  1000.0,\n",
       "  1000.0,\n",
       "  1000.0,\n",
       "  1000.0,\n",
       "  1000.0,\n",
       "  979.0,\n",
       "  1000.0,\n",
       "  1000.0,\n",
       "  1000.0,\n",
       "  1000.0,\n",
       "  946.0,\n",
       "  1000.0,\n",
       "  994.0,\n",
       "  987.0,\n",
       "  1000.0,\n",
       "  1000.0,\n",
       "  997.0,\n",
       "  1000.0,\n",
       "  1000.0,\n",
       "  1000.0,\n",
       "  1000.0,\n",
       "  995.0,\n",
       "  1000.0,\n",
       "  1000.0,\n",
       "  1000.0,\n",
       "  1000.0,\n",
       "  1000.0,\n",
       "  1000.0,\n",
       "  1000.0,\n",
       "  1000.0,\n",
       "  1000.0,\n",
       "  987.0,\n",
       "  1000.0,\n",
       "  1000.0,\n",
       "  1000.0,\n",
       "  1000.0,\n",
       "  1000.0,\n",
       "  1000.0,\n",
       "  1000.0,\n",
       "  1000.0,\n",
       "  1000.0,\n",
       "  1000.0,\n",
       "  991.0,\n",
       "  1000.0,\n",
       "  1000.0,\n",
       "  1000.0,\n",
       "  1000.0,\n",
       "  1000.0,\n",
       "  1000.0,\n",
       "  1000.0,\n",
       "  1000.0,\n",
       "  1049.0,\n",
       "  1000.0,\n",
       "  997.0,\n",
       "  1000.0,\n",
       "  988.0,\n",
       "  1000.0,\n",
       "  997.0,\n",
       "  997.0,\n",
       "  1000.0,\n",
       "  973.0,\n",
       "  1000.0,\n",
       "  1000.0,\n",
       "  994.0,\n",
       "  1000.0,\n",
       "  1000.0,\n",
       "  1000.0,\n",
       "  997.0,\n",
       "  1000.0,\n",
       "  991.0,\n",
       "  1000.0,\n",
       "  957.0,\n",
       "  1017.0,\n",
       "  991.0,\n",
       "  1000.0,\n",
       "  1000.0,\n",
       "  1000.0,\n",
       "  1000.0,\n",
       "  1000.0,\n",
       "  1000.0,\n",
       "  1000.0,\n",
       "  997.0,\n",
       "  1000.0,\n",
       "  1000.0,\n",
       "  1000.0,\n",
       "  989.0,\n",
       "  1000.0,\n",
       "  1000.0,\n",
       "  1000.0,\n",
       "  1000.0,\n",
       "  1000.0,\n",
       "  1000.0,\n",
       "  1000.0,\n",
       "  988.0,\n",
       "  997.0,\n",
       "  1000.0,\n",
       "  997.0,\n",
       "  1000.0,\n",
       "  1000.0,\n",
       "  1000.0,\n",
       "  1000.0,\n",
       "  998.0,\n",
       "  1000.0,\n",
       "  1000.0,\n",
       "  1000.0,\n",
       "  1000.0,\n",
       "  1000.0,\n",
       "  1000.0,\n",
       "  1000.0,\n",
       "  988.0,\n",
       "  1000.0,\n",
       "  1000.0,\n",
       "  1000.0,\n",
       "  992.0,\n",
       "  1000.0,\n",
       "  1000.0,\n",
       "  1000.0,\n",
       "  1000.0,\n",
       "  1000.0,\n",
       "  1000.0,\n",
       "  1000.0,\n",
       "  1000.0,\n",
       "  1000.0,\n",
       "  1000.0,\n",
       "  1001.0,\n",
       "  1000.0,\n",
       "  1000.0,\n",
       "  1000.0,\n",
       "  1000.0,\n",
       "  997.0,\n",
       "  1023.0,\n",
       "  1000.0,\n",
       "  1000.0,\n",
       "  1000.0,\n",
       "  1000.0,\n",
       "  987.0,\n",
       "  987.0,\n",
       "  1000.0,\n",
       "  1045.0,\n",
       "  997.0,\n",
       "  1000.0,\n",
       "  1000.0,\n",
       "  1000.0,\n",
       "  1000.0,\n",
       "  1000.0,\n",
       "  1000.0,\n",
       "  1000.0,\n",
       "  1000.0,\n",
       "  1000.0,\n",
       "  1000.0,\n",
       "  1000.0,\n",
       "  1000.0,\n",
       "  1000.0,\n",
       "  1000.0,\n",
       "  1000.0,\n",
       "  1000.0,\n",
       "  1000.0,\n",
       "  1000.0,\n",
       "  991.0,\n",
       "  1000.0,\n",
       "  1000.0,\n",
       "  1000.0,\n",
       "  1000.0,\n",
       "  1000.0,\n",
       "  992.0,\n",
       "  1000.0,\n",
       "  1000.0,\n",
       "  1000.0,\n",
       "  1000.0,\n",
       "  992.0,\n",
       "  1000.0,\n",
       "  1000.0,\n",
       "  1000.0,\n",
       "  1000.0,\n",
       "  995.0,\n",
       "  1000.0,\n",
       "  991.0,\n",
       "  1000.0,\n",
       "  988.0,\n",
       "  1000.0,\n",
       "  1000.0,\n",
       "  1000.0,\n",
       "  1000.0,\n",
       "  1000.0,\n",
       "  1000.0,\n",
       "  1000.0,\n",
       "  1000.0,\n",
       "  1000.0,\n",
       "  1000.0,\n",
       "  1000.0,\n",
       "  1000.0,\n",
       "  1000.0,\n",
       "  995.0,\n",
       "  1013.0,\n",
       "  1000.0,\n",
       "  1000.0,\n",
       "  1000.0,\n",
       "  1000.0,\n",
       "  1000.0,\n",
       "  1000.0,\n",
       "  1000.0,\n",
       "  1000.0,\n",
       "  1000.0,\n",
       "  1000.0,\n",
       "  1000.0,\n",
       "  1000.0,\n",
       "  1000.0,\n",
       "  1000.0,\n",
       "  995.0,\n",
       "  1000.0,\n",
       "  997.0,\n",
       "  1000.0,\n",
       "  1000.0,\n",
       "  1000.0,\n",
       "  1000.0,\n",
       "  1000.0,\n",
       "  1000.0,\n",
       "  991.0,\n",
       "  1000.0,\n",
       "  1000.0,\n",
       "  1000.0,\n",
       "  1000.0,\n",
       "  1000.0,\n",
       "  1000.0,\n",
       "  1000.0,\n",
       "  1000.0,\n",
       "  1000.0,\n",
       "  1000.0,\n",
       "  1000.0,\n",
       "  961.0,\n",
       "  1000.0,\n",
       "  1000.0,\n",
       "  1000.0,\n",
       "  1000.0,\n",
       "  1000.0,\n",
       "  1000.0,\n",
       "  1000.0,\n",
       "  1000.0,\n",
       "  1000.0,\n",
       "  1000.0,\n",
       "  1000.0,\n",
       "  1000.0,\n",
       "  997.0,\n",
       "  1000.0,\n",
       "  1000.0,\n",
       "  997.0,\n",
       "  1000.0,\n",
       "  1000.0,\n",
       "  1000.0,\n",
       "  1000.0,\n",
       "  1000.0,\n",
       "  979.0,\n",
       "  1000.0,\n",
       "  1000.0,\n",
       "  997.0,\n",
       "  992.0,\n",
       "  997.0,\n",
       "  1000.0,\n",
       "  1000.0,\n",
       "  1000.0,\n",
       "  1000.0,\n",
       "  1000.0,\n",
       "  1000.0,\n",
       "  1000.0,\n",
       "  1000.0,\n",
       "  992.0,\n",
       "  1000.0,\n",
       "  1000.0,\n",
       "  1000.0,\n",
       "  1000.0,\n",
       "  1000.0,\n",
       "  1000.0,\n",
       "  997.0,\n",
       "  1000.0,\n",
       "  1000.0,\n",
       "  1000.0,\n",
       "  1000.0,\n",
       "  1000.0,\n",
       "  1000.0,\n",
       "  1000.0,\n",
       "  1000.0,\n",
       "  985.0,\n",
       "  1000.0,\n",
       "  1016.0,\n",
       "  1000.0,\n",
       "  1000.0,\n",
       "  1000.0,\n",
       "  1000.0,\n",
       "  1000.0,\n",
       "  1000.0,\n",
       "  1000.0,\n",
       "  1000.0,\n",
       "  997.0,\n",
       "  1000.0,\n",
       "  1000.0,\n",
       "  1000.0,\n",
       "  976.0,\n",
       "  1000.0,\n",
       "  1000.0,\n",
       "  1000.0,\n",
       "  1000.0,\n",
       "  973.0,\n",
       "  1000.0,\n",
       "  1000.0,\n",
       "  1000.0,\n",
       "  1000.0,\n",
       "  1000.0,\n",
       "  995.0,\n",
       "  1000.0,\n",
       "  1000.0,\n",
       "  1000.0,\n",
       "  1000.0,\n",
       "  1000.0,\n",
       "  1000.0,\n",
       "  1000.0,\n",
       "  970.0,\n",
       "  1000.0,\n",
       "  1000.0,\n",
       "  1000.0,\n",
       "  1000.0,\n",
       "  1000.0,\n",
       "  1000.0,\n",
       "  1000.0,\n",
       "  970.0,\n",
       "  1000.0,\n",
       "  1000.0,\n",
       "  1000.0,\n",
       "  1000.0,\n",
       "  1000.0,\n",
       "  995.0,\n",
       "  1000.0,\n",
       "  1000.0,\n",
       "  1000.0,\n",
       "  1000.0,\n",
       "  1000.0,\n",
       "  1000.0,\n",
       "  1000.0,\n",
       "  1000.0,\n",
       "  1000.0,\n",
       "  1000.0,\n",
       "  1000.0,\n",
       "  976.0,\n",
       "  1000.0,\n",
       "  1000.0,\n",
       "  1000.0,\n",
       "  979.0,\n",
       "  1000.0,\n",
       "  1000.0,\n",
       "  1000.0,\n",
       "  1000.0,\n",
       "  1000.0,\n",
       "  1000.0,\n",
       "  1000.0,\n",
       "  998.0,\n",
       "  997.0,\n",
       "  1000.0,\n",
       "  997.0,\n",
       "  1000.0,\n",
       "  979.0,\n",
       "  970.0,\n",
       "  1000.0,\n",
       "  1000.0,\n",
       "  1000.0,\n",
       "  1000.0,\n",
       "  1000.0,\n",
       "  1000.0,\n",
       "  1000.0,\n",
       "  1000.0,\n",
       "  1000.0,\n",
       "  992.0,\n",
       "  1000.0,\n",
       "  1000.0,\n",
       "  1000.0,\n",
       "  1000.0,\n",
       "  1000.0,\n",
       "  1000.0,\n",
       "  991.0,\n",
       "  1000.0,\n",
       "  1000.0,\n",
       "  1000.0,\n",
       "  997.0,\n",
       "  1000.0,\n",
       "  1000.0,\n",
       "  1000.0,\n",
       "  1001.0,\n",
       "  1000.0,\n",
       "  1000.0,\n",
       "  1000.0,\n",
       "  1000.0,\n",
       "  1000.0,\n",
       "  1000.0,\n",
       "  997.0,\n",
       "  1000.0,\n",
       "  1000.0,\n",
       "  979.0,\n",
       "  1000.0,\n",
       "  992.0,\n",
       "  1000.0,\n",
       "  1000.0,\n",
       "  1000.0,\n",
       "  1000.0,\n",
       "  979.0,\n",
       "  1000.0,\n",
       "  1000.0,\n",
       "  964.0,\n",
       "  1000.0,\n",
       "  979.0,\n",
       "  1000.0,\n",
       "  1000.0,\n",
       "  1000.0,\n",
       "  1000.0,\n",
       "  1000.0,\n",
       "  1000.0,\n",
       "  1000.0,\n",
       "  1000.0,\n",
       "  1000.0,\n",
       "  1000.0,\n",
       "  997.0,\n",
       "  1000.0,\n",
       "  1000.0,\n",
       "  1000.0,\n",
       "  1000.0,\n",
       "  1000.0,\n",
       "  1000.0,\n",
       "  1000.0,\n",
       "  1000.0,\n",
       "  955.0,\n",
       "  1000.0,\n",
       "  1000.0,\n",
       "  1000.0,\n",
       "  970.0,\n",
       "  941.0,\n",
       "  1000.0,\n",
       "  1000.0,\n",
       "  1000.0,\n",
       "  1000.0,\n",
       "  1000.0,\n",
       "  1000.0,\n",
       "  973.0,\n",
       "  997.0,\n",
       "  1000.0,\n",
       "  1000.0,\n",
       "  1000.0,\n",
       "  986.0,\n",
       "  1000.0,\n",
       "  1000.0,\n",
       "  986.0,\n",
       "  1000.0,\n",
       "  1000.0,\n",
       "  1000.0,\n",
       "  985.0,\n",
       "  1000.0,\n",
       "  1000.0,\n",
       "  1000.0,\n",
       "  1000.0,\n",
       "  985.0,\n",
       "  1000.0,\n",
       "  1000.0,\n",
       "  997.0,\n",
       "  1000.0,\n",
       "  1000.0,\n",
       "  1000.0,\n",
       "  1000.0,\n",
       "  1000.0,\n",
       "  1000.0,\n",
       "  1000.0,\n",
       "  1000.0,\n",
       "  970.0,\n",
       "  1000.0,\n",
       "  1000.0,\n",
       "  1000.0,\n",
       "  1000.0,\n",
       "  973.0,\n",
       "  1000.0,\n",
       "  979.0,\n",
       "  1000.0,\n",
       "  1000.0,\n",
       "  1000.0,\n",
       "  1000.0,\n",
       "  1000.0,\n",
       "  1000.0,\n",
       "  1000.0,\n",
       "  1000.0,\n",
       "  1000.0,\n",
       "  1000.0,\n",
       "  1000.0,\n",
       "  1000.0,\n",
       "  997.0,\n",
       "  1000.0,\n",
       "  1000.0,\n",
       "  1000.0,\n",
       "  1000.0,\n",
       "  1000.0,\n",
       "  977.0,\n",
       "  1000.0,\n",
       "  997.0,\n",
       "  1000.0,\n",
       "  1000.0,\n",
       "  1000.0,\n",
       "  1000.0,\n",
       "  991.0,\n",
       "  1000.0,\n",
       "  1000.0,\n",
       "  1000.0,\n",
       "  1000.0,\n",
       "  955.0,\n",
       "  1000.0,\n",
       "  1000.0,\n",
       "  1000.0,\n",
       "  1000.0,\n",
       "  1000.0,\n",
       "  1000.0,\n",
       "  1000.0,\n",
       "  1000.0,\n",
       "  1000.0,\n",
       "  970.0,\n",
       "  1000.0,\n",
       "  1000.0,\n",
       "  995.0,\n",
       "  1000.0,\n",
       "  1000.0,\n",
       "  1000.0,\n",
       "  948.0,\n",
       "  1000.0,\n",
       "  1000.0,\n",
       "  1000.0,\n",
       "  1000.0,\n",
       "  1000.0,\n",
       "  1000.0,\n",
       "  1000.0,\n",
       "  997.0,\n",
       "  1000.0,\n",
       "  1000.0,\n",
       "  1000.0,\n",
       "  1000.0,\n",
       "  1000.0,\n",
       "  1000.0,\n",
       "  997.0,\n",
       "  1000.0,\n",
       "  956.0,\n",
       "  1000.0,\n",
       "  1000.0,\n",
       "  1000.0,\n",
       "  1000.0,\n",
       "  997.0,\n",
       "  1000.0,\n",
       "  997.0,\n",
       "  1000.0,\n",
       "  976.0,\n",
       "  1000.0,\n",
       "  1000.0,\n",
       "  1000.0,\n",
       "  1000.0,\n",
       "  1000.0,\n",
       "  985.0,\n",
       "  1000.0,\n",
       "  1000.0,\n",
       "  1000.0,\n",
       "  1000.0,\n",
       "  1000.0,\n",
       "  1000.0,\n",
       "  985.0,\n",
       "  997.0,\n",
       "  1000.0,\n",
       "  1000.0,\n",
       "  1000.0,\n",
       "  1000.0,\n",
       "  1000.0,\n",
       "  1000.0,\n",
       "  995.0,\n",
       "  1000.0,\n",
       "  1026.0,\n",
       "  1000.0,\n",
       "  1000.0,\n",
       "  1000.0,\n",
       "  1000.0,\n",
       "  964.0,\n",
       "  977.0,\n",
       "  997.0,\n",
       "  1000.0,\n",
       "  975.0,\n",
       "  1000.0,\n",
       "  1000.0,\n",
       "  1000.0,\n",
       "  1000.0,\n",
       "  1041.0,\n",
       "  1000.0,\n",
       "  1000.0,\n",
       "  991.0,\n",
       "  1000.0,\n",
       "  1000.0,\n",
       "  997.0,\n",
       "  988.0,\n",
       "  1000.0,\n",
       "  1000.0,\n",
       "  1000.0,\n",
       "  970.0,\n",
       "  1000.0,\n",
       "  1000.0,\n",
       "  1000.0,\n",
       "  1000.0,\n",
       "  1000.0,\n",
       "  1000.0,\n",
       "  1000.0,\n",
       "  1000.0,\n",
       "  987.0,\n",
       "  1000.0,\n",
       "  1000.0,\n",
       "  1000.0,\n",
       "  997.0,\n",
       "  1000.0,\n",
       "  986.0,\n",
       "  1000.0,\n",
       "  1000.0,\n",
       "  1000.0,\n",
       "  1000.0,\n",
       "  1000.0,\n",
       "  1000.0,\n",
       "  994.0,\n",
       "  1000.0,\n",
       "  1000.0,\n",
       "  1000.0,\n",
       "  1000.0,\n",
       "  1000.0,\n",
       "  985.0,\n",
       "  1000.0,\n",
       "  1000.0,\n",
       "  1000.0,\n",
       "  1000.0,\n",
       "  1000.0,\n",
       "  997.0,\n",
       "  1000.0,\n",
       "  1000.0,\n",
       "  1000.0,\n",
       "  985.0,\n",
       "  979.0,\n",
       "  997.0,\n",
       "  1000.0,\n",
       "  1000.0,\n",
       "  1000.0,\n",
       "  1000.0,\n",
       "  1016.0,\n",
       "  1000.0,\n",
       "  1000.0,\n",
       "  1000.0,\n",
       "  969.0,\n",
       "  1000.0,\n",
       "  1000.0,\n",
       "  1000.0,\n",
       "  1000.0,\n",
       "  1000.0,\n",
       "  1000.0,\n",
       "  1000.0,\n",
       "  1000.0,\n",
       "  1000.0,\n",
       "  1000.0,\n",
       "  979.0,\n",
       "  1000.0,\n",
       "  1000.0,\n",
       "  1000.0,\n",
       "  1000.0,\n",
       "  1000.0,\n",
       "  1000.0,\n",
       "  1000.0,\n",
       "  1000.0,\n",
       "  1000.0,\n",
       "  992.0,\n",
       "  992.0,\n",
       "  1000.0,\n",
       "  1000.0,\n",
       "  979.0,\n",
       "  1000.0,\n",
       "  1000.0,\n",
       "  995.0,\n",
       "  1000.0,\n",
       "  979.0,\n",
       "  996.0,\n",
       "  1000.0,\n",
       "  1000.0,\n",
       "  1000.0,\n",
       "  1000.0,\n",
       "  1000.0,\n",
       "  1000.0,\n",
       "  1000.0,\n",
       "  986.0,\n",
       "  973.0,\n",
       "  1000.0,\n",
       "  1000.0,\n",
       "  1000.0,\n",
       "  955.0,\n",
       "  1000.0,\n",
       "  1000.0,\n",
       "  992.0,\n",
       "  1000.0,\n",
       "  994.0,\n",
       "  943.0,\n",
       "  1000.0,\n",
       "  997.0,\n",
       "  1000.0,\n",
       "  1000.0,\n",
       "  1000.0,\n",
       "  1000.0],\n",
       " 'quants':             0\n",
       " 0.025   970.0\n",
       " 0.975  1000.0,\n",
       " 'p_value': 0.0}"
      ]
     },
     "execution_count": 44,
     "metadata": {},
     "output_type": "execute_result"
    }
   ],
   "source": [
    "# проверка гипотез с помощью bootstrap median уровень значимости 0.95\n",
    "\n",
    "get_bootstrap(\n",
    "    df_users_good_ultra['revenue_total'], # числовые значения первой выборки\n",
    "    df_users_good_smart['revenue_total'], # числовые значения второй выборки\n",
    "    boot_it = 1000, # количество бутстрэп-подвыборок\n",
    "    statistic = np.median, # интересующая нас статистика\n",
    "    bootstrap_conf_level = 0.95 # уровень значимости\n",
    ")"
   ]
  },
  {
   "cell_type": "markdown",
   "metadata": {},
   "source": [
    "bootstrap также показал, что необходимо отклонить нулевую гипотезу, так как 0 не входит в доверительный интервал."
   ]
  },
  {
   "cell_type": "markdown",
   "metadata": {},
   "source": [
    "### Cредняя выручка пользователей из Москвы отличается от выручки пользователей из других регионов"
   ]
  },
  {
   "cell_type": "code",
   "execution_count": 45,
   "metadata": {
    "scrolled": true
   },
   "outputs": [
    {
     "name": "stdout",
     "output_type": "stream",
     "text": [
      "(611, 25)\n"
     ]
    },
    {
     "data": {
      "text/plain": [
       "(2603, 25)"
      ]
     },
     "execution_count": 45,
     "metadata": {},
     "output_type": "execute_result"
    }
   ],
   "source": [
    "# сделаем из итоговой таблицы два среза по городам\n",
    "df_users_good_moscow = df_users_good.query('cityy == \"Москва\"')\n",
    "df_users_good_regions = df_users_good.query('cityy != \"Москва\"')\n",
    "print(df_users_good_moscow.shape)\n",
    "df_users_good_regions.shape"
   ]
  },
  {
   "cell_type": "code",
   "execution_count": 46,
   "metadata": {},
   "outputs": [
    {
     "name": "stdout",
     "output_type": "stream",
     "text": [
      "p-значение:  0.26204868839218715\n",
      "Не получилось отвергнуть нулевую гипотезу\n",
      "\n",
      "moscow \n",
      " count     611.000000\n",
      "mean     1546.713584\n",
      "std       752.088071\n",
      "min       550.000000\n",
      "25%       780.500000\n",
      "50%      1750.000000\n",
      "75%      1950.000000\n",
      "max      5321.000000\n",
      "Name: revenue_total, dtype: float64\n"
     ]
    },
    {
     "data": {
      "text/plain": [
       "count    2603.000000\n",
       "mean     1524.936227\n",
       "std       808.787752\n",
       "min       550.000000\n",
       "25%       750.000000\n",
       "50%      1583.000000\n",
       "75%      1950.000000\n",
       "max      6770.000000\n",
       "Name: revenue_total, dtype: float64"
      ]
     },
     "execution_count": 46,
     "metadata": {},
     "output_type": "execute_result"
    }
   ],
   "source": [
    "# Проверим гипотезу - \"средняя выручка пользователей из Москвы отличается от выручки пользователей из других регионов.\"\n",
    "alpha = .05\n",
    "results = st.ttest_ind(\n",
    "    np.log(df_users_good_moscow['revenue_total']), \n",
    "    np.log(df_users_good_regions['revenue_total']),\n",
    "    equal_var = False)\n",
    "\n",
    "print('p-значение: ', results.pvalue)\n",
    "\n",
    "if results.pvalue < alpha:\n",
    "    print(\"Отвергаем нулевую гипотезу\")\n",
    "else:\n",
    "    print(\"Не получилось отвергнуть нулевую гипотезу\")\n",
    "    \n",
    "print()\n",
    "print('moscow','\\n', df_users_good_moscow['revenue_total'].describe())\n",
    "df_users_good_regions['revenue_total'].describe()"
   ]
  },
  {
   "cell_type": "code",
   "execution_count": 47,
   "metadata": {
    "scrolled": true
   },
   "outputs": [
    {
     "data": {
      "text/plain": [
       "MannwhitneyuResult(statistic=813301.5, pvalue=0.37423394910366004)"
      ]
     },
     "execution_count": 47,
     "metadata": {},
     "output_type": "execute_result"
    }
   ],
   "source": [
    "# Проверим гипотезу - \"средняя выручка пользователей из Москвы отличается от выручки пользователей из других регионов.\" \n",
    "# с помощью mannwhitneyu\n",
    "mannwhitneyu(df_users_good_moscow['revenue_total'], \n",
    "             df_users_good_regions['revenue_total'])"
   ]
  },
  {
   "cell_type": "markdown",
   "metadata": {},
   "source": [
    "Критерий Манна-Уитни  также показал, что необходимо принять нулевую гипотезу, так как pvalue > 0.05."
   ]
  },
  {
   "cell_type": "code",
   "execution_count": 48,
   "metadata": {
    "scrolled": true
   },
   "outputs": [
    {
     "data": {
      "application/vnd.jupyter.widget-view+json": {
       "model_id": "97f306fdd32e45af996e0e58e9647843",
       "version_major": 2,
       "version_minor": 0
      },
      "text/plain": [
       "  0%|          | 0/1000 [00:00<?, ?it/s]"
      ]
     },
     "metadata": {},
     "output_type": "display_data"
    },
    {
     "data": {
      "image/png": "[encoded data removed]",
      "text/plain": [
       "<Figure size 432x288 with 1 Axes>"
      ]
     },
     "metadata": {},
     "output_type": "display_data"
    },
    {
     "data": {
      "text/plain": [
       "{'boot_data': [49.99577410679985,\n",
       "  5.5155589704187475,\n",
       "  32.50787552823665,\n",
       "  8.19362274298886,\n",
       "  21.598540145985403,\n",
       "  6.262773722627737,\n",
       "  69.32039953899347,\n",
       "  19.393392239723397,\n",
       "  16.185555128697658,\n",
       "  30.689204763734153,\n",
       "  47.72570111409912,\n",
       "  5.884364195159431,\n",
       "  32.379946215904724,\n",
       "  60.653860929696506,\n",
       "  -21.64733000384172,\n",
       "  6.205147906262005,\n",
       "  31.20169035728006,\n",
       "  33.29504417979255,\n",
       "  52.640030733768725,\n",
       "  -0.44487130234344985,\n",
       "  34.81482904341145,\n",
       "  54.87552823665002,\n",
       "  22.28275067230119,\n",
       "  55.73953131002689,\n",
       "  49.7245485977718,\n",
       "  28.187091817134075,\n",
       "  52.68190549366116,\n",
       "  36.94429504417979,\n",
       "  44.9366116019977,\n",
       "  22.24010756819055,\n",
       "  7.606607760276604,\n",
       "  3.2082212831348444,\n",
       "  16.2992700729927,\n",
       "  23.310411064156742,\n",
       "  25.876680752977332,\n",
       "  26.349980791394543,\n",
       "  50.08912792931233,\n",
       "  17.75105647330004,\n",
       "  -9.33691893968498,\n",
       "  45.3703419131771,\n",
       "  15.619285439877064,\n",
       "  28.920860545524395,\n",
       "  18.04955820207453,\n",
       "  16.556281213983866,\n",
       "  12.295812524010756,\n",
       "  53.47637341529005,\n",
       "  15.51018056089128,\n",
       "  23.323472915866308,\n",
       "  52.93123319247022,\n",
       "  -13.072608528620822,\n",
       "  -2.2800614675374566,\n",
       "  7.164425662696888,\n",
       "  43.36496350364963,\n",
       "  30.280829811755666,\n",
       "  20.961198616980408,\n",
       "  7.244333461390703,\n",
       "  36.33192470226662,\n",
       "  14.65578179024203,\n",
       "  29.22512485593546,\n",
       "  14.381482904341144,\n",
       "  46.269688820591625,\n",
       "  34.63081060315021,\n",
       "  -5.352285824049174,\n",
       "  17.2912024587015,\n",
       "  -1.5820207452938917,\n",
       "  37.11371494429505,\n",
       "  14.324625432193622,\n",
       "  27.146369573568958,\n",
       "  51.25662696888206,\n",
       "  22.939684978870535,\n",
       "  43.2835190165194,\n",
       "  29.955820207452938,\n",
       "  -1.5770265078755283,\n",
       "  -13.776796004610066,\n",
       "  23.441413753361505,\n",
       "  6.202458701498271,\n",
       "  7.834421820975797,\n",
       "  10.846331156358048,\n",
       "  34.473684210526315,\n",
       "  36.81559738762966,\n",
       "  44.50211294660008,\n",
       "  -10.830580099884749,\n",
       "  -3.8524779101037265,\n",
       "  47.028044563964656,\n",
       "  20.415290049942374,\n",
       "  -9.69611986169804,\n",
       "  -2.646945831732616,\n",
       "  28.404533230887438,\n",
       "  14.514022281982328,\n",
       "  38.67076450249712,\n",
       "  15.308490203611218,\n",
       "  36.69727237802535,\n",
       "  30.913177103342296,\n",
       "  4.433730311179408,\n",
       "  43.23357664233577,\n",
       "  23.692662312716095,\n",
       "  -17.11333077218594,\n",
       "  16.612370341913177,\n",
       "  30.034191317710334,\n",
       "  -35.1417595082597,\n",
       "  -2.3472915866308104,\n",
       "  7.119861698040722,\n",
       "  50.481751824817515,\n",
       "  60.933922397233964,\n",
       "  34.92162888974261,\n",
       "  44.661928543987706,\n",
       "  1.590856703803304,\n",
       "  -23.447944679216288,\n",
       "  4.823280829811756,\n",
       "  18.33461390703035,\n",
       "  -3.384556281213984,\n",
       "  11.373031117940837,\n",
       "  28.5589704187476,\n",
       "  30.485209373799464,\n",
       "  -19.889358432577794,\n",
       "  38.213599692662314,\n",
       "  27.318478678447946,\n",
       "  6.6085286208221286,\n",
       "  -27.27391471379178,\n",
       "  1.8974260468689974,\n",
       "  42.21744141375336,\n",
       "  -12.56857472147522,\n",
       "  28.119093353822514,\n",
       "  12.023434498655398,\n",
       "  29.614291202458702,\n",
       "  6.2393392239723395,\n",
       "  46.07568190549366,\n",
       "  4.58739915482136,\n",
       "  -14.071456012293508,\n",
       "  54.10103726469458,\n",
       "  -12.579715712639262,\n",
       "  31.93545908567038,\n",
       "  43.39569727237802,\n",
       "  49.93622742988859,\n",
       "  7.406454091432962,\n",
       "  21.5589704187476,\n",
       "  -9.609681137149442,\n",
       "  9.845178640030733,\n",
       "  20.490203611217826,\n",
       "  24.57933154053016,\n",
       "  38.93853246254322,\n",
       "  6.52208989627353,\n",
       "  -22.432961966961198,\n",
       "  15.214752208989628,\n",
       "  14.664233576642335,\n",
       "  18.30157510564733,\n",
       "  41.73261621206301,\n",
       "  26.844410295812523,\n",
       "  17.210910487898577,\n",
       "  32.228582404917404,\n",
       "  45.11640414905878,\n",
       "  36.01882443334614,\n",
       "  32.94352669996158,\n",
       "  46.74606223588167,\n",
       "  39.2831348444103,\n",
       "  23.6772954283519,\n",
       "  48.923165578179024,\n",
       "  -10.69919323857088,\n",
       "  57.79869381482904,\n",
       "  24.203611217825586,\n",
       "  -2.2869765655013445,\n",
       "  9.49519784863619,\n",
       "  12.437187860161352,\n",
       "  20.676142912024588,\n",
       "  7.01651940069151,\n",
       "  18.824049174029966,\n",
       "  12.917402996542451,\n",
       "  26.583941605839417,\n",
       "  12.639262389550519,\n",
       "  31.50633883980023,\n",
       "  15.215136381098732,\n",
       "  0.30042258932001537,\n",
       "  57.4490971955436,\n",
       "  38.571263926238956,\n",
       "  24.33000384172109,\n",
       "  14.329619669611986,\n",
       "  12.628121398386478,\n",
       "  -33.63042643104111,\n",
       "  0.3822512485593546,\n",
       "  2.441797925470611,\n",
       "  -3.61890126776796,\n",
       "  28.10564733000384,\n",
       "  43.71724932769881,\n",
       "  -2.034575489819439,\n",
       "  32.500576258163655,\n",
       "  47.42681521321552,\n",
       "  40.476757587399156,\n",
       "  39.28198232808298,\n",
       "  7.5608912792931235,\n",
       "  17.780637725701116,\n",
       "  -21.073761044948135,\n",
       "  32.09873223203996,\n",
       "  34.48636189012678,\n",
       "  28.351517479830964,\n",
       "  20.205916250480215,\n",
       "  13.424126008451786,\n",
       "  47.439877064925085,\n",
       "  -1.7829427583557433,\n",
       "  8.459469842489435,\n",
       "  -8.323472915866308,\n",
       "  55.18017671917019,\n",
       "  35.27698809066462,\n",
       "  24.737994621590474,\n",
       "  0.2996542451018056,\n",
       "  -3.4490971955436036,\n",
       "  24.583557433730313,\n",
       "  -23.686899731079524,\n",
       "  17.43065693430657,\n",
       "  -1.139838647714176,\n",
       "  30.974260468689973,\n",
       "  9.161736457933154,\n",
       "  18.767575873991547,\n",
       "  10.056857472147522,\n",
       "  22.839800230503265,\n",
       "  40.79946215904725,\n",
       "  16.026892047637343,\n",
       "  31.45908567038033,\n",
       "  31.548597771801766,\n",
       "  39.87860161352286,\n",
       "  21.95889358432578,\n",
       "  -43.673837879369955,\n",
       "  22.751440645409144,\n",
       "  49.160583941605836,\n",
       "  -29.892431809450635,\n",
       "  35.56972723780254,\n",
       "  -1.2066845946984248,\n",
       "  57.560507107184016,\n",
       "  16.544756050710717,\n",
       "  35.98117556665386,\n",
       "  17.771033422973492,\n",
       "  -22.133691893968496,\n",
       "  19.36534767575874,\n",
       "  40.99270072992701,\n",
       "  44.67998463311564,\n",
       "  42.24010756819055,\n",
       "  42.280829811755666,\n",
       "  18.27314636957357,\n",
       "  43.29427583557434,\n",
       "  33.273530541682675,\n",
       "  51.50172877449097,\n",
       "  40.90703034959662,\n",
       "  5.402228198232808,\n",
       "  -6.038801383019592,\n",
       "  -10.635804840568575,\n",
       "  39.11563580484057,\n",
       "  31.291970802919707,\n",
       "  27.383019592777565,\n",
       "  -2.109873223203995,\n",
       "  45.11640414905878,\n",
       "  51.43104110641568,\n",
       "  -11.35113330772186,\n",
       "  43.322320399538995,\n",
       "  33.2047637341529,\n",
       "  40.432193622742986,\n",
       "  37.85900883595851,\n",
       "  -0.6085286208221283,\n",
       "  42.55397618132923,\n",
       "  33.76642335766423,\n",
       "  23.310411064156742,\n",
       "  10.771417595082598,\n",
       "  14.181713407606608,\n",
       "  16.13061851709566,\n",
       "  36.1260084517864,\n",
       "  -6.514022281982328,\n",
       "  14.424894352669996,\n",
       "  8.371878601613522,\n",
       "  5.229350749135612,\n",
       "  35.10679984633116,\n",
       "  24.743757203227045,\n",
       "  26.84095274683058,\n",
       "  -24.271993853246254,\n",
       "  3.9381482904341145,\n",
       "  20.565885516711486,\n",
       "  34.447176334998076,\n",
       "  24.233576642335766,\n",
       "  7.62043795620438,\n",
       "  46.270457164809834,\n",
       "  41.35574337303112,\n",
       "  37.59623511333077,\n",
       "  -6.402996542451018,\n",
       "  32.67422205147906,\n",
       "  50.91010372646946,\n",
       "  44.86323472915866,\n",
       "  19.513638109873224,\n",
       "  11.580099884748368,\n",
       "  47.530541682673835,\n",
       "  29.017671917018824,\n",
       "  10.04878985785632,\n",
       "  -9.978486361890127,\n",
       "  32.69535151747983,\n",
       "  -9.791778716865156,\n",
       "  50.12139838647714,\n",
       "  8.524779101037264,\n",
       "  17.116404149058777,\n",
       "  7.751440645409144,\n",
       "  3.1164041490587784,\n",
       "  -9.368036880522475,\n",
       "  23.45332308874376,\n",
       "  -17.202074529389165,\n",
       "  23.09604302727622,\n",
       "  38.142143680368804,\n",
       "  6.7748751440645405,\n",
       "  17.091817134076067,\n",
       "  25.18325009604303,\n",
       "  -7.066845946984249,\n",
       "  15.557049558202074,\n",
       "  27.502497118709183,\n",
       "  23.641951594314254,\n",
       "  23.377641183250095,\n",
       "  46.824433346139074,\n",
       "  10.137917787168652,\n",
       "  44.673453707260855,\n",
       "  51.89934690741452,\n",
       "  10.668459469842489,\n",
       "  -14.871302343449866,\n",
       "  51.44525547445255,\n",
       "  67.73837879369958,\n",
       "  19.112178255858623,\n",
       "  24.674606223588167,\n",
       "  28.161736457933156,\n",
       "  7.646177487514406,\n",
       "  8.724548597771802,\n",
       "  13.223972339608144,\n",
       "  0.2547061083365348,\n",
       "  30.979254706108335,\n",
       "  13.665001920860545,\n",
       "  -7.9227814060699195,\n",
       "  48.83326930464848,\n",
       "  18.680752977333846,\n",
       "  16.027276219746447,\n",
       "  6.673453707260853,\n",
       "  33.91970802919708,\n",
       "  20.40722243565117,\n",
       "  11.580868228966578,\n",
       "  26.665770265078756,\n",
       "  18.520937379946215,\n",
       "  33.3622742988859,\n",
       "  22.494813676527084,\n",
       "  0.9531310026892048,\n",
       "  41.323088743757204,\n",
       "  -1.1029581252401075,\n",
       "  49.41336918939685,\n",
       "  5.1202458701498275,\n",
       "  8.309258547829428,\n",
       "  32.3307721859393,\n",
       "  -2.684978870533999,\n",
       "  2.797541298501729,\n",
       "  26.06838263542067,\n",
       "  24.37495197848636,\n",
       "  18.87091817134076,\n",
       "  76.80637725701114,\n",
       "  17.676142912024588,\n",
       "  -4.679984633115636,\n",
       "  52.36573184786784,\n",
       "  -17.206684594698427,\n",
       "  10.842873607376104,\n",
       "  40.43142527852478,\n",
       "  11.230119093353823,\n",
       "  -3.4298885900883596,\n",
       "  17.118709181713406,\n",
       "  24.660391855551286,\n",
       "  22.382251248559356,\n",
       "  -2.2577794852093738,\n",
       "  35.75528236650019,\n",
       "  51.01344602381867,\n",
       "  9.325009604302728,\n",
       "  11.784479446792163,\n",
       "  44.17095658855167,\n",
       "  13.980023050326546,\n",
       "  47.13215520553208,\n",
       "  33.375720322704574,\n",
       "  4.369189396849789,\n",
       "  30.83711102573953,\n",
       "  35.00845178640031,\n",
       "  -26.296965040338073,\n",
       "  28.393392239723397,\n",
       "  1.39684978870534,\n",
       "  27.583557433730313,\n",
       "  69.58547829427583,\n",
       "  48.413753361505954,\n",
       "  43.27890895121014,\n",
       "  18.199385324625432,\n",
       "  7.328082981175567,\n",
       "  22.76296580868229,\n",
       "  46.17671917018824,\n",
       "  -6.329619669611986,\n",
       "  15.342297349212448,\n",
       "  66.36227429888591,\n",
       "  -10.26699961582789,\n",
       "  28.953899346907413,\n",
       "  26.153284671532848,\n",
       "  -14.122935074913562,\n",
       "  -1.9504417979254707,\n",
       "  21.924702266615444,\n",
       "  26.797541298501727,\n",
       "  4.1559738762965805,\n",
       "  33.443334613907034,\n",
       "  33.61621206300423,\n",
       "  50.38801383019593,\n",
       "  29.310795236265847,\n",
       "  11.296196696119862,\n",
       "  -12.674990395697272,\n",
       "  2.5451402228198234,\n",
       "  49.51094890510949,\n",
       "  41.578947368421055,\n",
       "  43.98079139454476,\n",
       "  8.756050710718402,\n",
       "  42.06146753745678,\n",
       "  29.580868228966576,\n",
       "  10.190933538225124,\n",
       "  16.082981175566655,\n",
       "  41.94083749519785,\n",
       "  -1.7890895121014214,\n",
       "  -1.0518632347291588,\n",
       "  22.533230887437572,\n",
       "  3.5136381098732232,\n",
       "  34.8186707645025,\n",
       "  9.231271609681137,\n",
       "  29.114099116404148,\n",
       "  -23.495197848636188,\n",
       "  8.559738762965809,\n",
       "  18.769112562427967,\n",
       "  78.3157894736842,\n",
       "  20.950825970034575,\n",
       "  23.495582020745292,\n",
       "  8.894352669996158,\n",
       "  34.533615059546676,\n",
       "  50.65001920860546,\n",
       "  59.27429888590088,\n",
       "  52.71801767191702,\n",
       "  25.842873607376106,\n",
       "  39.911256242796775,\n",
       "  2.291586630810603,\n",
       "  9.608144448713023,\n",
       "  17.756434882827506,\n",
       "  58.081444487130234,\n",
       "  30.854782942758355,\n",
       "  15.913177103342298,\n",
       "  35.29850172877449,\n",
       "  36.86400307337687,\n",
       "  -0.19515943142527853,\n",
       "  31.183634268152133,\n",
       "  25.65040338071456,\n",
       "  41.5747214752209,\n",
       "  11.105263157894736,\n",
       "  24.709181713407606,\n",
       "  26.54667691125624,\n",
       "  20.769112562427967,\n",
       "  37.235881674990395,\n",
       "  -7.038801383019592,\n",
       "  -11.981559738762966,\n",
       "  -4.9250864387245485,\n",
       "  49.13253937764118,\n",
       "  -15.679216288897425,\n",
       "  3.184402612370342,\n",
       "  4.607760276603918,\n",
       "  60.763349980791396,\n",
       "  56.99154821359969,\n",
       "  28.752977333845564,\n",
       "  23.31578947368421,\n",
       "  18.203611217825586,\n",
       "  19.918555512869766,\n",
       "  33.896657702650785,\n",
       "  22.753745678063773,\n",
       "  9.603534383403765,\n",
       "  50.7168651555897,\n",
       "  27.431425278524777,\n",
       "  43.86515558970419,\n",
       "  11.749903956972723,\n",
       "  -7.896657702650788,\n",
       "  33.77718017671917,\n",
       "  3.28582404917403,\n",
       "  8.805993084902036,\n",
       "  49.311563580484055,\n",
       "  10.548597771801766,\n",
       "  32.29850172877449,\n",
       "  32.17057241644257,\n",
       "  43.47714175950826,\n",
       "  20.016903572800615,\n",
       "  -23.38494045332309,\n",
       "  12.689588935843258,\n",
       "  -0.5339992316557818,\n",
       "  29.319247022666154,\n",
       "  2.8167499039569726,\n",
       "  26.99923165578179,\n",
       "  8.580099884748368,\n",
       "  8.584709950057626,\n",
       "  45.69150979638878,\n",
       "  37.00653092585478,\n",
       "  15.890895121014214,\n",
       "  32.828275067230116,\n",
       "  9.74644640799078,\n",
       "  22.556281213983866,\n",
       "  20.659239339223973,\n",
       "  64.54245101805608,\n",
       "  -27.371494429504416,\n",
       "  16.519400691509798,\n",
       "  0.8036880522474068,\n",
       "  35.760276603918555,\n",
       "  54.13292354975029,\n",
       "  24.44410295812524,\n",
       "  42.28928159815597,\n",
       "  -5.598540145985401,\n",
       "  41.41529004994237,\n",
       "  -3.0818286592393394,\n",
       "  21.524010756819056,\n",
       "  28.44717633499808,\n",
       "  18.56396465616596,\n",
       "  4.453323088743757,\n",
       "  56.638878217441416,\n",
       "  17.328082981175566,\n",
       "  25.379946215904724,\n",
       "  46.51402228198233,\n",
       "  24.66231271609681,\n",
       "  -1.631963119477526,\n",
       "  17.94967345370726,\n",
       "  24.986938148290434,\n",
       "  49.53668843641952,\n",
       "  50.09028044563965,\n",
       "  18.18286592393392,\n",
       "  8.416058394160585,\n",
       "  22.48981943910872,\n",
       "  3.155589704187476,\n",
       "  -7.064156742220515,\n",
       "  57.990779869381484,\n",
       "  40.61582789089512,\n",
       "  15.238955051863234,\n",
       "  32.56972723780254,\n",
       "  42.81943910872071,\n",
       "  25.742988859008836,\n",
       "  3.764502497118709,\n",
       "  6.685747214752209,\n",
       "  42.15943142527853,\n",
       "  7.128697656550134,\n",
       "  2.241260084517864,\n",
       "  7.358048405685747,\n",
       "  15.563964656165963,\n",
       "  88.46561659623511,\n",
       "  36.138301959277754,\n",
       "  45.66730695351517,\n",
       "  35.87706492508644,\n",
       "  14.976181329235498,\n",
       "  -2.1363810987322323,\n",
       "  41.084902036112176,\n",
       "  15.614291202458702,\n",
       "  25.027276219746447,\n",
       "  44.27084133691894,\n",
       "  17.47637341529005,\n",
       "  29.36457933154053,\n",
       "  30.88743757203227,\n",
       "  58.8743757203227,\n",
       "  15.177487514406454,\n",
       "  43.33960814444871,\n",
       "  41.76949673453707,\n",
       "  -2.317710334229735,\n",
       "  44.096427199385325,\n",
       "  69.60122935074914,\n",
       "  -10.834421820975797,\n",
       "  34.028812908182864,\n",
       "  4.059546676911256,\n",
       "  -10.476757587399154,\n",
       "  64.5593545908567,\n",
       "  -9.36534767575874,\n",
       "  10.77564348828275,\n",
       "  44.582789089512104,\n",
       "  -15.597771801767191,\n",
       "  29.240491740299653,\n",
       "  -10.74721475220899,\n",
       "  64.52324241260085,\n",
       "  2.292739147137918,\n",
       "  -13.79830964271994,\n",
       "  26.589320015366884,\n",
       "  52.417595082597,\n",
       "  55.67230119093354,\n",
       "  22.31578947368421,\n",
       "  -9.750288129081829,\n",
       "  21.814444871302342,\n",
       "  42.57664233576642,\n",
       "  4.0749135612754515,\n",
       "  68.55436035343834,\n",
       "  -1.7664233576642336,\n",
       "  35.02727621974645,\n",
       "  28.085670380330388,\n",
       "  -7.924702266615443,\n",
       "  -12.305416826738378,\n",
       "  20.28275067230119,\n",
       "  20.0945063388398,\n",
       "  17.593161736457933,\n",
       "  32.38148290434115,\n",
       "  11.320399538993469,\n",
       "  55.111409911640415,\n",
       "  -2.883211678832117,\n",
       "  28.726469458317325,\n",
       "  24.153668843641952,\n",
       "  41.119477525931615,\n",
       "  51.03419131771033,\n",
       "  15.981559738762966,\n",
       "  43.36573184786784,\n",
       "  20.93622742988859,\n",
       "  33.904341144832884,\n",
       "  17.425662696888207,\n",
       "  16.47330003841721,\n",
       "  -1.5885516711486747,\n",
       "  -6.092969650403381,\n",
       "  23.14560122935075,\n",
       "  28.42451018056089,\n",
       "  21.01344602381867,\n",
       "  41.90280445639647,\n",
       "  50.64464079907799,\n",
       "  -12.04802151363811,\n",
       "  12.542835190165194,\n",
       "  32.5278524779101,\n",
       "  10.994237418363427,\n",
       "  6.721475220898963,\n",
       "  53.09335382251248,\n",
       "  4.863618901267768,\n",
       "  43.49058778332693,\n",
       "  20.918555512869766,\n",
       "  12.563580484056857,\n",
       "  -2.1709565885516713,\n",
       "  12.569727237802535,\n",
       "  3.5036496350364965,\n",
       "  69.86361890126777,\n",
       "  11.555512869765655,\n",
       "  21.906646177487513,\n",
       "  37.78140606991932,\n",
       "  57.85247791010373,\n",
       "  30.17479830964272,\n",
       "  61.016903572800615,\n",
       "  39.01229350749136,\n",
       "  33.95466769112562,\n",
       "  22.69227814060699,\n",
       "  36.11179408374952,\n",
       "  44.85401459854015,\n",
       "  14.020361121782559,\n",
       "  20.647714175950824,\n",
       "  20.457548981943912,\n",
       "  54.59200922013062,\n",
       "  -8.377641183250097,\n",
       "  25.890126776796006,\n",
       "  -8.818670764502498,\n",
       "  -10.523242412600846,\n",
       "  37.26315789473684,\n",
       "  -1.565117172493277,\n",
       "  18.86784479446792,\n",
       "  -14.50557049558202,\n",
       "  28.919708029197082,\n",
       "  58.583941605839414,\n",
       "  -3.6073761044948136,\n",
       "  37.36073761044948,\n",
       "  40.39262389550519,\n",
       "  21.486361890126776,\n",
       "  46.824817518248175,\n",
       "  25.93853246254322,\n",
       "  -16.430272762197465,\n",
       "  29.234344986553975,\n",
       "  30.0630042258932,\n",
       "  25.72992700729927,\n",
       "  -5.934306569343065,\n",
       "  -5.945063388398002,\n",
       "  -15.950057625816365,\n",
       "  45.18017671917019,\n",
       "  31.82289665770265,\n",
       "  27.262389550518634,\n",
       "  -4.227814060699194,\n",
       "  71.3081060315021,\n",
       "  32.623895505186326,\n",
       "  33.409527468305804,\n",
       "  39.08759124087591,\n",
       "  35.488666922781405,\n",
       "  59.35958509412217,\n",
       "  26.004994237418362,\n",
       "  -4.994621590472532,\n",
       "  0.5482135996926624,\n",
       "  2.3703419131771035,\n",
       "  12.08029197080292,\n",
       "  -19.70341913177103,\n",
       "  49.96772954283519,\n",
       "  39.30964271993853,\n",
       "  23.075297733384556,\n",
       "  27.85977718017672,\n",
       "  40.67153284671533,\n",
       "  9.389166346523242,\n",
       "  44.68651555897042,\n",
       "  41.470610833653474,\n",
       "  9.77718017671917,\n",
       "  18.468689973107953,\n",
       "  -8.353822512485593,\n",
       "  39.12754514022282,\n",
       "  30.97003457548982,\n",
       "  6.895889358432578,\n",
       "  23.947752593161738,\n",
       "  40.16173645793315,\n",
       "  34.60737610449481,\n",
       "  21.7560507107184,\n",
       "  31.480215136381098,\n",
       "  18.274683058009987,\n",
       "  9.016903572800615,\n",
       "  37.605839416058394,\n",
       "  25.332693046484824,\n",
       "  8.945831732616211,\n",
       "  45.952362658470996,\n",
       "  29.55666538609297,\n",
       "  23.738762965808682,\n",
       "  15.701882443334615,\n",
       "  39.850941221667306,\n",
       "  25.13215520553208,\n",
       "  -1.7164809834805994,\n",
       "  13.418363426815214,\n",
       "  27.978102189781023,\n",
       "  27.870533999231657,\n",
       "  63.41183250096043,\n",
       "  11.08029197080292,\n",
       "  36.01651940069151,\n",
       "  3.976565501344602,\n",
       "  -9.68190549366116,\n",
       "  69.23357664233576,\n",
       "  66.91317710334229,\n",
       "  8.894736842105264,\n",
       "  -4.6346523242412605,\n",
       "  16.980023050326547,\n",
       "  33.98040722243565,\n",
       "  47.16941990011525,\n",
       "  63.84056857472147,\n",
       "  21.742604686899732,\n",
       "  47.08336534767576,\n",
       "  21.133307721859392,\n",
       "  9.74337303111794,\n",
       "  -1.5482135996926623,\n",
       "  -8.73146369573569,\n",
       "  -18.935843257779485,\n",
       "  47.835958509412215,\n",
       "  6.786400307337687,\n",
       "  29.509796388782174,\n",
       "  16.501344602381867,\n",
       "  17.72608528620822,\n",
       "  6.734921244717634,\n",
       "  9.163657318478679,\n",
       "  30.67153284671533,\n",
       "  4.6868997310795235,\n",
       "  40.575105647330005,\n",
       "  11.962735305416826,\n",
       "  -0.05724164425662697,\n",
       "  44.63618901267768,\n",
       "  -3.3034959661928545,\n",
       "  38.22166730695351,\n",
       "  12.71494429504418,\n",
       "  27.766423357664234,\n",
       "  11.991932385708797,\n",
       "  41.73300038417211,\n",
       "  2.314252785247791,\n",
       "  -12.034959661928545,\n",
       "  47.865923933922396,\n",
       "  45.69074145217057,\n",
       "  5.456396465616597,\n",
       "  10.151363810987322,\n",
       "  25.724164425662696,\n",
       "  9.198232808298117,\n",
       "  -13.108720706876682,\n",
       "  12.167114867460622,\n",
       "  21.991548213599692,\n",
       "  8.305032654629274,\n",
       "  39.04456396465616,\n",
       "  61.92470226661544,\n",
       "  1.1863234729158663,\n",
       "  15.540145985401459,\n",
       "  -12.11256242796773,\n",
       "  -19.736457933154053,\n",
       "  59.40376488666923,\n",
       "  18.902036112178255,\n",
       "  18.484825201690356,\n",
       "  37.7011140991164,\n",
       "  47.60276603918555,\n",
       "  34.06723011909335,\n",
       "  5.293507491356127,\n",
       "  7.836726853630426,\n",
       "  4.033422973492124,\n",
       "  14.894736842105264,\n",
       "  16.942758355743372,\n",
       "  39.77257011140991,\n",
       "  13.657702650787552,\n",
       "  51.94083749519785,\n",
       "  29.40875912408759,\n",
       "  28.813676527084134,\n",
       "  -0.5897041874759893,\n",
       "  9.075681905493662,\n",
       "  -0.21897810218978103,\n",
       "  -30.130234344986555,\n",
       "  54.476757587399156,\n",
       "  18.517095658855165,\n",
       "  40.3776411832501,\n",
       "  49.98655397618133,\n",
       "  33.39761813292355,\n",
       "  -27.52593161736458,\n",
       "  4.156742220514791,\n",
       "  26.310795236265847,\n",
       "  23.861698040722242,\n",
       "  21.88282750672301,\n",
       "  62.432193622742986,\n",
       "  32.67114867460622,\n",
       "  56.64195159431425,\n",
       "  7.923165578179024,\n",
       "  22.511333077218595,\n",
       "  28.995774106799846,\n",
       "  24.485593545908568,\n",
       "  31.990779869381484,\n",
       "  9.531694199001153,\n",
       "  23.146369573568958,\n",
       "  15.152900499423742,\n",
       "  41.167883211678834,\n",
       "  17.384172109104878,\n",
       "  45.48751440645409,\n",
       "  44.73645793315405,\n",
       "  31.20937379946216,\n",
       "  46.95927775643488,\n",
       "  18.42988859008836,\n",
       "  0.21129466000768343,\n",
       "  32.06377257011141,\n",
       "  49.58970418747599,\n",
       "  36.847483672685364,\n",
       "  49.122166730695355,\n",
       "  24.082981175566655,\n",
       "  -5.545524394928928,\n",
       "  25.944679216288897,\n",
       "  48.398770649250864,\n",
       "  3.472531694199001,\n",
       "  11.630042258932,\n",
       "  48.756819054936614,\n",
       "  24.673069535151747,\n",
       "  48.53592009220131,\n",
       "  13.167499039569726,\n",
       "  27.826354206684595,\n",
       "  50.998079139454475,\n",
       "  36.137917787168654,\n",
       "  39.96657702650788,\n",
       "  -15.475220898962736,\n",
       "  39.71379177871687,\n",
       "  18.116019976949673,\n",
       "  17.16941990011525,\n",
       "  30.611986169804073,\n",
       "  5.626584709950057,\n",
       "  27.570495582020744,\n",
       "  9.11409911640415,\n",
       "  1.558970418747599,\n",
       "  14.550134460238187,\n",
       "  -8.181329235497502,\n",
       "  -26.738762965808682,\n",
       "  3.225124855935459,\n",
       "  45.06915097963888,\n",
       "  15.608528620822128,\n",
       "  46.436803688052244,\n",
       "  52.95044179792547,\n",
       "  16.71571263926239,\n",
       "  20.710718401844026,\n",
       "  52.08182865923934,\n",
       "  19.470610833653478,\n",
       "  44.753361505954665,\n",
       "  36.19861698040722,\n",
       "  56.960430272762196,\n",
       "  57.01344602381867,\n",
       "  60.20822128313485,\n",
       "  53.51363810987322,\n",
       "  14.043795620437956,\n",
       "  7.30003841721091,\n",
       "  26.618517095658856,\n",
       "  -6.1774875144064545,\n",
       "  23.499807913945446,\n",
       "  8.997310795236265,\n",
       "  28.930849020361123,\n",
       "  -14.378793699577411,\n",
       "  35.949289281598155,\n",
       "  -8.69611986169804,\n",
       "  4.140222819823281,\n",
       "  29.800230503265464,\n",
       "  41.84556281213984,\n",
       "  22.875912408759124,\n",
       "  18.01882443334614,\n",
       "  54.78524779101037,\n",
       "  21.933154053015752,\n",
       "  14.39684978870534,\n",
       "  37.97426046868997,\n",
       "  3.5220898962735308,\n",
       "  2.8048405685747215,\n",
       "  39.511333077218595,\n",
       "  34.314636957356896,\n",
       "  39.81482904341145,\n",
       "  1.0468689973107952,\n",
       "  15.097195543603535,\n",
       "  17.869765655013445,\n",
       "  14.834421820975797,\n",
       "  22.92662312716097,\n",
       "  45.94237418363427,\n",
       "  53.00461006530926,\n",
       "  42.43872454859777,\n",
       "  29.553592009220132,\n",
       "  8.415674222051479,\n",
       "  -0.7114867460622358,\n",
       "  18.102573953131003,\n",
       "  -13.791010372646946,\n",
       "  17.68036880522474,\n",
       "  18.88513253937764,\n",
       "  14.4172109104879,\n",
       "  57.20092201306185,\n",
       "  26.50172877449097,\n",
       "  6.946600076834422,\n",
       "  27.96619285439877,\n",
       "  13.95197848636189,\n",
       "  20.893200153668843,\n",
       "  9.265462927391471,\n",
       "  22.076450249711872,\n",
       "  13.613522858240492,\n",
       "  1.409911640414906,\n",
       "  -2.114483288513254,\n",
       "  27.716865155589705,\n",
       "  7.006530925854783,\n",
       "  29.700345754898194,\n",
       "  46.81444487130234,\n",
       "  45.006146753745675,\n",
       "  20.825585862466387,\n",
       "  49.95735689588936,\n",
       "  4.2201306185170955,\n",
       "  31.985785631963118,\n",
       "  10.004994237418364,\n",
       "  14.69842489435267,\n",
       "  47.80407222435651,\n",
       "  8.025739531310027,\n",
       "  15.358048405685746,\n",
       "  36.66346523242412,\n",
       "  16.610065309258548,\n",
       "  4.7952362658471,\n",
       "  21.76142912024587,\n",
       "  -11.041106415674221,\n",
       "  21.085286208221284,\n",
       "  1.4629273914713792,\n",
       "  15.19131771033423,\n",
       "  27.933154053015752,\n",
       "  0.6346523242412601,\n",
       "  25.00883595850941,\n",
       "  34.352669996158276,\n",
       "  9.631578947368421,\n",
       "  0.8447944679216289,\n",
       "  39.4014598540146,\n",
       "  26.90626200537841,\n",
       "  2.787936995774107,\n",
       "  56.051094890510946,\n",
       "  28.93161736457933,\n",
       "  5.442182097579716,\n",
       "  14.547445255474452,\n",
       "  0.30157510564733,\n",
       "  47.22627737226277,\n",
       "  -11.721475220898963,\n",
       "  15.34805993084902,\n",
       "  23.276603918555512,\n",
       "  16.89934690741452,\n",
       "  67.260084517864,\n",
       "  50.35036496350365,\n",
       "  22.678063772570113,\n",
       "  22.97387629658087,\n",
       "  11.642335766423358,\n",
       "  1.1817134076066078,\n",
       "  39.87245485977718,\n",
       "  40.797925470610835,\n",
       "  27.739147137917787,\n",
       "  16.21667306953515,\n",
       "  9.134076066077602,\n",
       "  8.688820591625047,\n",
       "  24.732616212063004,\n",
       "  -10.480599308490204,\n",
       "  41.82174414137533,\n",
       "  2.683058009988475,\n",
       "  18.777564348828275,\n",
       "  25.29773338455628,\n",
       "  3.7187860161352284,\n",
       "  18.328851325393778,\n",
       "  58.97003457548982,\n",
       "  20.442950441797926,\n",
       "  38.450633883980025,\n",
       "  -21.080291970802918,\n",
       "  45.783326930464845,\n",
       "  49.590088359585096,\n",
       "  46.145601229350746,\n",
       "  28.842489435266998,\n",
       "  37.56473300038417,\n",
       "  31.181329235497504,\n",
       "  82.79600461006531,\n",
       "  30.70956588551671,\n",
       "  -0.3323088743757203,\n",
       "  53.2912024587015,\n",
       "  18.09757971571264,\n",
       "  10.238186707645024,\n",
       "  23.042643104110642,\n",
       "  24.974644640799077,\n",
       "  -11.092969650403381,\n",
       "  11.326162120630043,\n",
       "  40.04571648098348,\n",
       "  12.180560891279294,\n",
       "  50.986938148290434,\n",
       "  39.36918939684979,\n",
       "  19.721859393008067,\n",
       "  39.29389166346523],\n",
       " 'quants':                0\n",
       " 0.025 -17.202190\n",
       " 0.975  60.656598,\n",
       " 'p_value': 0.2801490402431387}"
      ]
     },
     "execution_count": 48,
     "metadata": {},
     "output_type": "execute_result"
    }
   ],
   "source": [
    "# проверка гипотез с помощью bootstrap median уровень значимости 0.95\n",
    "\n",
    "get_bootstrap(\n",
    "    df_users_good_moscow['revenue_total'], # числовые значения первой выборки\n",
    "    df_users_good_regions['revenue_total'], # числовые значения второй выборки\n",
    "    boot_it = 1000, # количество бутстрэп-подвыборок\n",
    "    statistic = np.mean, # интересующая нас статистика\n",
    "    bootstrap_conf_level = 0.95 # уровень значимости\n",
    ")"
   ]
  },
  {
   "cell_type": "markdown",
   "metadata": {},
   "source": [
    "bootstrap также показал, что необходимо принять нулевую гипотезу, так как 0 входит в доверительный интервал."
   ]
  },
  {
   "cell_type": "markdown",
   "metadata": {},
   "source": [
    "### Вывод"
   ]
  },
  {
   "cell_type": "markdown",
   "metadata": {},
   "source": [
    "У нас есть две гипотезы, сформулируем для них нулевую и алтернативную гипотезы:\n",
    "\n",
    "**средняя выручка пользователей тарифов «Ультра» и «Смарт» различаются:**\n",
    "* $H_0$ - средняя выручка пользователей тарифов «Ультра» и «Смарт» равны.\n",
    "* $H_1$ - средняя выручка пользователей тарифов «Ультра» и «Смарт» не равны.\n",
    "\n",
    "**средняя выручка пользователей из Москвы отличается от выручки пользователей из других регионов:**\n",
    "* $H_0$ - средняя выручка пользователей из Москвы равна выручке пользователей из других регионов.\n",
    "* $H_1$ - средняя выручка пользователей из Москвы не равна выручке пользователей из других регионов.\n",
    "\n",
    "Для проверки гипотез использовали t-критерий Стьюдента, критерий Манна-Уитни и bootstrap. Пороговое значение для p-value определим как 5%, ввиду того, что в данном исследовании сверхточность не требуется. Все они показали одиниковые результаты, поэтому принимаем следующие гипотезы:\n",
    "\n",
    "**средняя выручка пользователей тарифов «Ультра» и «Смарт» различаются:**\n",
    "* $H_1$ - средняя выручка пользователей тарифов «Ультра» и «Смарт» не равны.\n",
    "\n",
    "**средняя выручка пользователей из Москвы отличается от выручки пользователей из других регионов:**\n",
    "* $H_0$ - средняя выручка пользователей из Москвы равна выручке пользователей из других регионов.\n"
   ]
  },
  {
   "cell_type": "markdown",
   "metadata": {},
   "source": [
    "## Общий вывод"
   ]
  },
  {
   "cell_type": "markdown",
   "metadata": {},
   "source": [
    "В результате исследования удалось статистически подтвердить, что средняя выручка тарифа «Ультра» отличается от средней выручки тарифа «Смарт» в большую сторону, а предоставленные лимиты по тарифу «Ультра» редко используются полностью и даже наполовину. Ввиду доступности среди абонентов более популярен тариф «Смарт», но если получится привлечь в тариф «Ультра» дополнительных абонентов, то это принесет свои плоды ввиде выручки. Поэтому считаю логичным основные усилия направить именно на развитие тарифа «Ультра».\n",
    "\n",
    "Ввиду того, что статистически удалась подтвердить гипотезу о том, что выручка пользователей из Москвы равна выручке пользователей из других регионов, идею по развитию тарифа «Ультра» можно применять на всю РФ.\n"
   ]
  }
 ],
 "metadata": {
  "ExecuteTimeLog": [
   {
    "duration": 3,
    "start_time": "2022-02-05T15:35:00.304Z"
   },
   {
    "duration": 4,
    "start_time": "2022-02-05T15:35:15.041Z"
   },
   {
    "duration": 298,
    "start_time": "2022-02-05T15:45:37.517Z"
   },
   {
    "duration": 702,
    "start_time": "2022-02-05T15:46:12.387Z"
   },
   {
    "duration": 451,
    "start_time": "2022-02-05T15:46:14.067Z"
   },
   {
    "duration": 276,
    "start_time": "2022-02-05T15:47:28.239Z"
   },
   {
    "duration": 410,
    "start_time": "2022-02-05T15:48:20.756Z"
   },
   {
    "duration": 88,
    "start_time": "2022-02-05T15:49:13.525Z"
   },
   {
    "duration": 381,
    "start_time": "2022-02-05T15:49:23.068Z"
   },
   {
    "duration": 412,
    "start_time": "2022-02-05T15:49:37.871Z"
   },
   {
    "duration": 408,
    "start_time": "2022-02-05T15:50:21.814Z"
   },
   {
    "duration": 458,
    "start_time": "2022-02-05T15:51:32.752Z"
   },
   {
    "duration": 419,
    "start_time": "2022-02-05T15:51:51.723Z"
   },
   {
    "duration": 11,
    "start_time": "2022-02-05T16:07:06.501Z"
   },
   {
    "duration": 401,
    "start_time": "2022-02-05T16:07:38.837Z"
   },
   {
    "duration": 721,
    "start_time": "2022-02-05T16:08:04.850Z"
   },
   {
    "duration": 485,
    "start_time": "2022-02-05T16:57:29.952Z"
   },
   {
    "duration": 370,
    "start_time": "2022-02-05T17:01:39.211Z"
   },
   {
    "duration": 596,
    "start_time": "2022-02-06T06:25:11.757Z"
   },
   {
    "duration": 621,
    "start_time": "2022-02-06T06:25:23.660Z"
   },
   {
    "duration": 607,
    "start_time": "2022-02-06T06:25:53.412Z"
   },
   {
    "duration": 650,
    "start_time": "2022-02-06T06:26:58.336Z"
   },
   {
    "duration": 373,
    "start_time": "2022-02-06T06:27:29.083Z"
   },
   {
    "duration": 575,
    "start_time": "2022-02-06T06:27:29.844Z"
   },
   {
    "duration": 453,
    "start_time": "2022-02-06T06:27:47.741Z"
   },
   {
    "duration": 789,
    "start_time": "2022-02-06T06:30:06.197Z"
   },
   {
    "duration": 690,
    "start_time": "2022-02-06T06:30:20.873Z"
   },
   {
    "duration": 678,
    "start_time": "2022-02-06T06:31:10.341Z"
   },
   {
    "duration": 153,
    "start_time": "2022-02-06T06:31:47.244Z"
   },
   {
    "duration": 105,
    "start_time": "2022-02-06T06:32:14.485Z"
   },
   {
    "duration": 688,
    "start_time": "2022-02-06T06:32:24.004Z"
   },
   {
    "duration": 684,
    "start_time": "2022-02-06T06:32:47.743Z"
   },
   {
    "duration": 705,
    "start_time": "2022-02-06T06:33:04.396Z"
   },
   {
    "duration": 666,
    "start_time": "2022-02-06T06:33:44.933Z"
   },
   {
    "duration": 649,
    "start_time": "2022-02-06T06:41:50.348Z"
   },
   {
    "duration": 4,
    "start_time": "2022-02-06T06:51:21.537Z"
   },
   {
    "duration": 155,
    "start_time": "2022-02-06T06:53:05.479Z"
   },
   {
    "duration": 194,
    "start_time": "2022-02-06T06:53:30.906Z"
   },
   {
    "duration": 183,
    "start_time": "2022-02-06T06:54:00.819Z"
   },
   {
    "duration": 183,
    "start_time": "2022-02-06T06:55:17.983Z"
   },
   {
    "duration": 173,
    "start_time": "2022-02-06T06:55:34.687Z"
   },
   {
    "duration": 3,
    "start_time": "2022-02-06T07:05:13.164Z"
   },
   {
    "duration": 8773,
    "start_time": "2022-02-06T07:06:29.606Z"
   },
   {
    "duration": 7165,
    "start_time": "2022-02-06T07:09:31.648Z"
   },
   {
    "duration": 7158,
    "start_time": "2022-02-06T07:09:57.818Z"
   },
   {
    "duration": 8,
    "start_time": "2022-02-06T07:16:04.735Z"
   },
   {
    "duration": 7521,
    "start_time": "2022-02-06T07:16:09.911Z"
   },
   {
    "duration": 7121,
    "start_time": "2022-02-06T07:16:25.191Z"
   },
   {
    "duration": 21,
    "start_time": "2022-02-06T07:16:58.768Z"
   },
   {
    "duration": 521,
    "start_time": "2022-02-06T07:17:09.232Z"
   },
   {
    "duration": 365,
    "start_time": "2022-02-06T07:17:09.755Z"
   },
   {
    "duration": 598,
    "start_time": "2022-02-06T07:17:10.122Z"
   },
   {
    "duration": 19,
    "start_time": "2022-02-06T07:17:10.722Z"
   },
   {
    "duration": 6909,
    "start_time": "2022-02-06T07:17:10.743Z"
   },
   {
    "duration": -50,
    "start_time": "2022-02-06T07:17:17.704Z"
   },
   {
    "duration": 577,
    "start_time": "2022-02-06T07:18:32.253Z"
   },
   {
    "duration": 367,
    "start_time": "2022-02-06T07:18:32.832Z"
   },
   {
    "duration": 22,
    "start_time": "2022-02-06T07:18:33.201Z"
   },
   {
    "duration": 660,
    "start_time": "2022-02-06T07:18:33.224Z"
   },
   {
    "duration": 7025,
    "start_time": "2022-02-06T07:18:33.885Z"
   },
   {
    "duration": -51,
    "start_time": "2022-02-06T07:18:40.963Z"
   },
   {
    "duration": 7246,
    "start_time": "2022-02-06T07:23:31.353Z"
   },
   {
    "duration": 527,
    "start_time": "2022-02-06T07:24:14.800Z"
   },
   {
    "duration": 363,
    "start_time": "2022-02-06T07:24:15.328Z"
   },
   {
    "duration": 29,
    "start_time": "2022-02-06T07:24:15.693Z"
   },
   {
    "duration": 607,
    "start_time": "2022-02-06T07:24:15.724Z"
   },
   {
    "duration": 7269,
    "start_time": "2022-02-06T07:24:16.333Z"
   },
   {
    "duration": -53,
    "start_time": "2022-02-06T07:24:23.657Z"
   },
   {
    "duration": 102,
    "start_time": "2022-02-06T07:24:44.498Z"
   },
   {
    "duration": 652,
    "start_time": "2022-02-06T07:24:50.846Z"
   },
   {
    "duration": 6986,
    "start_time": "2022-02-06T07:24:52.590Z"
   },
   {
    "duration": 81,
    "start_time": "2022-02-06T07:26:21.425Z"
   },
   {
    "duration": 120,
    "start_time": "2022-02-06T07:26:30.713Z"
   },
   {
    "duration": 21,
    "start_time": "2022-02-06T07:27:17.864Z"
   },
   {
    "duration": 634,
    "start_time": "2022-02-06T07:27:23.789Z"
   },
   {
    "duration": 268,
    "start_time": "2022-02-06T07:28:05.728Z"
   },
   {
    "duration": 278,
    "start_time": "2022-02-06T07:29:08.911Z"
   },
   {
    "duration": 2,
    "start_time": "2022-02-06T07:29:21.218Z"
   },
   {
    "duration": 373,
    "start_time": "2022-02-06T07:29:21.707Z"
   },
   {
    "duration": 23,
    "start_time": "2022-02-06T07:29:23.748Z"
   },
   {
    "duration": 618,
    "start_time": "2022-02-06T07:29:39.396Z"
   },
   {
    "duration": 2,
    "start_time": "2022-02-06T07:30:17.284Z"
   },
   {
    "duration": 366,
    "start_time": "2022-02-06T07:30:18.360Z"
   },
   {
    "duration": 274,
    "start_time": "2022-02-06T07:30:20.575Z"
   },
   {
    "duration": 2,
    "start_time": "2022-02-06T07:30:32.908Z"
   },
   {
    "duration": 346,
    "start_time": "2022-02-06T07:30:33.414Z"
   },
   {
    "duration": 279,
    "start_time": "2022-02-06T07:30:34.025Z"
   },
   {
    "duration": 253,
    "start_time": "2022-02-06T07:30:46.374Z"
   },
   {
    "duration": 3,
    "start_time": "2022-02-06T07:30:50.958Z"
   },
   {
    "duration": 349,
    "start_time": "2022-02-06T07:30:51.376Z"
   },
   {
    "duration": 20,
    "start_time": "2022-02-06T07:30:52.683Z"
   },
   {
    "duration": 654,
    "start_time": "2022-02-06T07:32:53.600Z"
   },
   {
    "duration": 646,
    "start_time": "2022-02-06T07:33:11.450Z"
   },
   {
    "duration": 20,
    "start_time": "2022-02-06T07:35:35.441Z"
   },
   {
    "duration": 16402,
    "start_time": "2022-02-06T07:35:43.082Z"
   },
   {
    "duration": 518,
    "start_time": "2022-02-06T07:37:09.524Z"
   },
   {
    "duration": 359,
    "start_time": "2022-02-06T07:37:10.044Z"
   },
   {
    "duration": 593,
    "start_time": "2022-02-06T07:37:10.405Z"
   },
   {
    "duration": 28,
    "start_time": "2022-02-06T07:37:11.000Z"
   },
   {
    "duration": 484,
    "start_time": "2022-02-06T07:37:11.030Z"
   },
   {
    "duration": -24,
    "start_time": "2022-02-06T07:37:11.540Z"
   },
   {
    "duration": 110,
    "start_time": "2022-02-06T07:38:40.976Z"
   },
   {
    "duration": 581,
    "start_time": "2022-02-06T07:38:46.158Z"
   },
   {
    "duration": 379,
    "start_time": "2022-02-06T07:38:46.741Z"
   },
   {
    "duration": 590,
    "start_time": "2022-02-06T07:38:47.122Z"
   },
   {
    "duration": 97,
    "start_time": "2022-02-06T07:38:47.714Z"
   },
   {
    "duration": -27,
    "start_time": "2022-02-06T07:38:47.840Z"
   },
   {
    "duration": -28,
    "start_time": "2022-02-06T07:38:47.841Z"
   },
   {
    "duration": 21,
    "start_time": "2022-02-06T07:39:31.666Z"
   },
   {
    "duration": 7416,
    "start_time": "2022-02-06T07:39:40.825Z"
   },
   {
    "duration": 21,
    "start_time": "2022-02-06T09:55:10.186Z"
   },
   {
    "duration": 594,
    "start_time": "2022-02-06T09:55:24.555Z"
   },
   {
    "duration": 417,
    "start_time": "2022-02-06T09:55:25.151Z"
   },
   {
    "duration": 643,
    "start_time": "2022-02-06T09:55:25.573Z"
   },
   {
    "duration": 68,
    "start_time": "2022-02-06T09:55:26.218Z"
   },
   {
    "duration": 503,
    "start_time": "2022-02-06T09:55:26.289Z"
   },
   {
    "duration": -2,
    "start_time": "2022-02-06T09:55:26.796Z"
   },
   {
    "duration": 192,
    "start_time": "2022-02-06T09:55:59.314Z"
   },
   {
    "duration": 2,
    "start_time": "2022-02-06T09:57:03.757Z"
   },
   {
    "duration": 404,
    "start_time": "2022-02-06T09:57:04.183Z"
   },
   {
    "duration": 650,
    "start_time": "2022-02-06T09:57:04.592Z"
   },
   {
    "duration": 21,
    "start_time": "2022-02-06T09:57:05.530Z"
   },
   {
    "duration": 460,
    "start_time": "2022-02-06T09:57:06.517Z"
   },
   {
    "duration": 540,
    "start_time": "2022-02-06T09:58:04.286Z"
   },
   {
    "duration": 270,
    "start_time": "2022-02-06T09:58:42.329Z"
   },
   {
    "duration": 511,
    "start_time": "2022-02-06T09:59:02.279Z"
   },
   {
    "duration": 476,
    "start_time": "2022-02-06T09:59:29.102Z"
   },
   {
    "duration": 445,
    "start_time": "2022-02-06T10:01:18.367Z"
   },
   {
    "duration": 436,
    "start_time": "2022-02-06T10:02:03.169Z"
   },
   {
    "duration": 589,
    "start_time": "2022-02-06T10:02:10.176Z"
   },
   {
    "duration": 400,
    "start_time": "2022-02-06T10:02:10.767Z"
   },
   {
    "duration": 731,
    "start_time": "2022-02-06T10:02:11.169Z"
   },
   {
    "duration": 20,
    "start_time": "2022-02-06T10:02:11.901Z"
   },
   {
    "duration": 7964,
    "start_time": "2022-02-06T10:02:11.923Z"
   },
   {
    "duration": -30,
    "start_time": "2022-02-06T10:02:19.920Z"
   },
   {
    "duration": 7224,
    "start_time": "2022-02-06T10:03:20.334Z"
   },
   {
    "duration": 7721,
    "start_time": "2022-02-06T10:05:12.373Z"
   },
   {
    "duration": 7170,
    "start_time": "2022-02-06T10:07:22.425Z"
   },
   {
    "duration": 7484,
    "start_time": "2022-02-06T10:08:33.836Z"
   },
   {
    "duration": 27,
    "start_time": "2022-02-06T10:09:01.619Z"
   },
   {
    "duration": 19,
    "start_time": "2022-02-06T10:09:16.682Z"
   },
   {
    "duration": 465,
    "start_time": "2022-02-06T10:10:49.015Z"
   },
   {
    "duration": 7327,
    "start_time": "2022-02-06T10:11:28.921Z"
   },
   {
    "duration": 8061,
    "start_time": "2022-02-06T10:12:32.351Z"
   },
   {
    "duration": 6986,
    "start_time": "2022-02-06T10:16:46.539Z"
   },
   {
    "duration": 642,
    "start_time": "2022-02-06T10:16:59.875Z"
   },
   {
    "duration": 406,
    "start_time": "2022-02-06T10:17:00.519Z"
   },
   {
    "duration": 975,
    "start_time": "2022-02-06T10:17:00.929Z"
   },
   {
    "duration": 20,
    "start_time": "2022-02-06T10:17:01.905Z"
   },
   {
    "duration": 8160,
    "start_time": "2022-02-06T10:17:01.926Z"
   },
   {
    "duration": -4,
    "start_time": "2022-02-06T10:17:10.092Z"
   },
   {
    "duration": 86,
    "start_time": "2022-02-06T10:18:53.654Z"
   },
   {
    "duration": 96,
    "start_time": "2022-02-06T10:19:53.392Z"
   },
   {
    "duration": 829,
    "start_time": "2022-02-06T10:20:07.301Z"
   },
   {
    "duration": 416,
    "start_time": "2022-02-06T10:20:08.132Z"
   },
   {
    "duration": 680,
    "start_time": "2022-02-06T10:20:08.550Z"
   },
   {
    "duration": 58,
    "start_time": "2022-02-06T10:20:09.232Z"
   },
   {
    "duration": 884,
    "start_time": "2022-02-06T10:20:09.291Z"
   },
   {
    "duration": -3,
    "start_time": "2022-02-06T10:20:10.181Z"
   },
   {
    "duration": 7727,
    "start_time": "2022-02-06T10:20:37.564Z"
   },
   {
    "duration": 7460,
    "start_time": "2022-02-06T10:24:20.178Z"
   },
   {
    "duration": 563,
    "start_time": "2022-02-06T10:24:31.939Z"
   },
   {
    "duration": 388,
    "start_time": "2022-02-06T10:24:32.504Z"
   },
   {
    "duration": 704,
    "start_time": "2022-02-06T10:24:32.894Z"
   },
   {
    "duration": 22,
    "start_time": "2022-02-06T10:24:33.600Z"
   },
   {
    "duration": 7233,
    "start_time": "2022-02-06T10:24:33.623Z"
   },
   {
    "duration": -12,
    "start_time": "2022-02-06T10:24:40.870Z"
   },
   {
    "duration": 696,
    "start_time": "2022-02-06T11:33:42.697Z"
   },
   {
    "duration": 21,
    "start_time": "2022-02-06T11:33:52.512Z"
   },
   {
    "duration": 7265,
    "start_time": "2022-02-06T11:33:53.538Z"
   },
   {
    "duration": 708,
    "start_time": "2022-02-06T11:34:33.728Z"
   },
   {
    "duration": 515,
    "start_time": "2022-02-06T11:34:34.439Z"
   },
   {
    "duration": 820,
    "start_time": "2022-02-06T11:34:34.956Z"
   },
   {
    "duration": 20,
    "start_time": "2022-02-06T11:34:35.778Z"
   },
   {
    "duration": 6988,
    "start_time": "2022-02-06T11:34:35.799Z"
   },
   {
    "duration": 5,
    "start_time": "2022-02-06T11:34:42.784Z"
   },
   {
    "duration": 530,
    "start_time": "2022-02-06T11:38:40.991Z"
   },
   {
    "duration": 390,
    "start_time": "2022-02-06T11:38:41.523Z"
   },
   {
    "duration": 613,
    "start_time": "2022-02-06T11:38:41.915Z"
   },
   {
    "duration": 48,
    "start_time": "2022-02-06T11:38:42.530Z"
   },
   {
    "duration": 7421,
    "start_time": "2022-02-06T11:38:42.579Z"
   },
   {
    "duration": 16,
    "start_time": "2022-02-06T11:38:49.986Z"
   },
   {
    "duration": 130,
    "start_time": "2022-02-06T11:51:48.807Z"
   },
   {
    "duration": 7025,
    "start_time": "2022-02-06T11:51:54.592Z"
   },
   {
    "duration": 169,
    "start_time": "2022-02-06T11:54:34.532Z"
   },
   {
    "duration": 6801,
    "start_time": "2022-02-06T11:55:28.443Z"
   },
   {
    "duration": 5,
    "start_time": "2022-02-06T12:09:54.247Z"
   },
   {
    "duration": 6,
    "start_time": "2022-02-06T12:10:49.603Z"
   },
   {
    "duration": 6,
    "start_time": "2022-02-06T12:11:07.358Z"
   },
   {
    "duration": 6,
    "start_time": "2022-02-06T12:11:26.201Z"
   },
   {
    "duration": 287,
    "start_time": "2022-02-06T12:15:41.530Z"
   },
   {
    "duration": 440,
    "start_time": "2022-02-06T12:16:00.126Z"
   },
   {
    "duration": 13,
    "start_time": "2022-02-06T12:16:21.281Z"
   },
   {
    "duration": 73,
    "start_time": "2022-02-06T12:16:56.718Z"
   },
   {
    "duration": 100,
    "start_time": "2022-02-06T12:19:03.678Z"
   },
   {
    "duration": 547,
    "start_time": "2022-02-06T12:22:54.001Z"
   },
   {
    "duration": 318,
    "start_time": "2022-02-06T12:24:18.936Z"
   },
   {
    "duration": 258,
    "start_time": "2022-02-06T12:24:41.382Z"
   },
   {
    "duration": 721,
    "start_time": "2022-02-06T12:25:03.331Z"
   },
   {
    "duration": 610,
    "start_time": "2022-02-06T12:28:09.138Z"
   },
   {
    "duration": 589,
    "start_time": "2022-02-06T12:31:15.876Z"
   },
   {
    "duration": 586,
    "start_time": "2022-02-06T12:31:43.959Z"
   },
   {
    "duration": 265,
    "start_time": "2022-02-06T12:32:19.564Z"
   },
   {
    "duration": 613,
    "start_time": "2022-02-06T12:33:00.829Z"
   },
   {
    "duration": 377,
    "start_time": "2022-02-06T12:33:01.444Z"
   },
   {
    "duration": 656,
    "start_time": "2022-02-06T12:33:01.823Z"
   },
   {
    "duration": 6,
    "start_time": "2022-02-06T12:33:02.480Z"
   },
   {
    "duration": 164,
    "start_time": "2022-02-06T12:33:02.488Z"
   },
   {
    "duration": 328,
    "start_time": "2022-02-06T12:33:02.655Z"
   },
   {
    "duration": 592,
    "start_time": "2022-02-06T12:33:40.982Z"
   },
   {
    "duration": 134,
    "start_time": "2022-02-06T12:33:54.627Z"
   },
   {
    "duration": 11,
    "start_time": "2022-02-06T12:45:15.491Z"
   },
   {
    "duration": 275,
    "start_time": "2022-02-06T12:46:20.579Z"
   },
   {
    "duration": 1043,
    "start_time": "2022-02-06T12:46:53.197Z"
   },
   {
    "duration": 329,
    "start_time": "2022-02-06T12:49:04.028Z"
   },
   {
    "duration": 3587,
    "start_time": "2022-02-06T12:49:22.810Z"
   },
   {
    "duration": 13,
    "start_time": "2022-02-06T13:09:21.746Z"
   },
   {
    "duration": 12,
    "start_time": "2022-02-06T13:09:36.905Z"
   },
   {
    "duration": 234,
    "start_time": "2022-02-06T13:21:58.783Z"
   },
   {
    "duration": 239,
    "start_time": "2022-02-06T13:23:07.886Z"
   },
   {
    "duration": 254,
    "start_time": "2022-02-06T13:23:36.068Z"
   },
   {
    "duration": 246,
    "start_time": "2022-02-06T13:23:46.084Z"
   },
   {
    "duration": 399,
    "start_time": "2022-02-06T13:24:03.159Z"
   },
   {
    "duration": 243,
    "start_time": "2022-02-06T13:24:24.968Z"
   },
   {
    "duration": 377,
    "start_time": "2022-02-06T13:24:58.493Z"
   },
   {
    "duration": 367,
    "start_time": "2022-02-06T13:35:26.633Z"
   },
   {
    "duration": 429,
    "start_time": "2022-02-06T14:39:36.736Z"
   },
   {
    "duration": 92,
    "start_time": "2022-02-06T16:12:46.278Z"
   },
   {
    "duration": 88,
    "start_time": "2022-02-06T16:13:05.404Z"
   },
   {
    "duration": 365,
    "start_time": "2022-02-06T16:13:15.370Z"
   },
   {
    "duration": 89,
    "start_time": "2022-02-06T16:13:28.492Z"
   },
   {
    "duration": 121,
    "start_time": "2022-02-06T16:15:10.978Z"
   },
   {
    "duration": 96,
    "start_time": "2022-02-06T16:16:07.833Z"
   },
   {
    "duration": 48,
    "start_time": "2022-02-06T16:17:25.949Z"
   },
   {
    "duration": 63,
    "start_time": "2022-02-06T16:17:50.705Z"
   },
   {
    "duration": 123,
    "start_time": "2022-02-06T16:18:09.441Z"
   },
   {
    "duration": 36,
    "start_time": "2022-02-06T16:18:46.777Z"
   },
   {
    "duration": 1811,
    "start_time": "2022-02-06T16:20:16.711Z"
   },
   {
    "duration": 378,
    "start_time": "2022-02-06T16:20:18.524Z"
   },
   {
    "duration": 602,
    "start_time": "2022-02-06T16:20:18.904Z"
   },
   {
    "duration": 402,
    "start_time": "2022-02-06T16:20:19.507Z"
   },
   {
    "duration": 433,
    "start_time": "2022-02-06T16:20:19.911Z"
   },
   {
    "duration": 76,
    "start_time": "2022-02-06T16:20:20.346Z"
   },
   {
    "duration": 64,
    "start_time": "2022-02-06T16:28:50.468Z"
   },
   {
    "duration": 65,
    "start_time": "2022-02-06T16:35:49.836Z"
   },
   {
    "duration": 31,
    "start_time": "2022-02-06T16:36:06.624Z"
   },
   {
    "duration": 24,
    "start_time": "2022-02-06T16:36:22.199Z"
   },
   {
    "duration": 640,
    "start_time": "2022-02-06T16:38:33.083Z"
   },
   {
    "duration": 678,
    "start_time": "2022-02-06T16:39:09.470Z"
   },
   {
    "duration": 46,
    "start_time": "2022-02-06T16:54:23.930Z"
   },
   {
    "duration": 68,
    "start_time": "2022-02-06T17:01:23.019Z"
   },
   {
    "duration": 28,
    "start_time": "2022-02-07T03:39:09.023Z"
   },
   {
    "duration": 31,
    "start_time": "2022-02-07T03:39:21.349Z"
   },
   {
    "duration": 37,
    "start_time": "2022-02-07T03:39:47.171Z"
   },
   {
    "duration": 40,
    "start_time": "2022-02-07T03:40:35.188Z"
   },
   {
    "duration": 33,
    "start_time": "2022-02-07T04:39:46.311Z"
   },
   {
    "duration": 32,
    "start_time": "2022-02-07T04:40:36.482Z"
   },
   {
    "duration": 51,
    "start_time": "2022-02-07T04:42:41.801Z"
   },
   {
    "duration": 50,
    "start_time": "2022-02-07T05:07:54.256Z"
   },
   {
    "duration": 33,
    "start_time": "2022-02-07T05:10:32.016Z"
   },
   {
    "duration": 51,
    "start_time": "2022-02-07T05:10:41.231Z"
   },
   {
    "duration": 47,
    "start_time": "2022-02-07T05:12:07.050Z"
   },
   {
    "duration": 33,
    "start_time": "2022-02-07T05:14:51.922Z"
   },
   {
    "duration": 34,
    "start_time": "2022-02-07T05:15:11.173Z"
   },
   {
    "duration": 22,
    "start_time": "2022-02-07T05:16:32.453Z"
   },
   {
    "duration": 347,
    "start_time": "2022-02-07T05:25:17.326Z"
   },
   {
    "duration": 32,
    "start_time": "2022-02-07T05:25:47.475Z"
   },
   {
    "duration": 31,
    "start_time": "2022-02-07T05:26:11.403Z"
   },
   {
    "duration": 26,
    "start_time": "2022-02-07T05:26:44.597Z"
   },
   {
    "duration": 31,
    "start_time": "2022-02-07T05:26:45.265Z"
   },
   {
    "duration": 38,
    "start_time": "2022-02-07T05:27:05.215Z"
   },
   {
    "duration": 31,
    "start_time": "2022-02-07T05:27:05.672Z"
   },
   {
    "duration": 39,
    "start_time": "2022-02-07T05:28:11.818Z"
   },
   {
    "duration": 68,
    "start_time": "2022-02-07T05:31:00.861Z"
   },
   {
    "duration": 6905,
    "start_time": "2022-02-07T05:31:15.638Z"
   },
   {
    "duration": 6691,
    "start_time": "2022-02-07T05:31:39.871Z"
   },
   {
    "duration": 6994,
    "start_time": "2022-02-07T05:31:52.301Z"
   },
   {
    "duration": 39,
    "start_time": "2022-02-07T05:34:06.206Z"
   },
   {
    "duration": 17,
    "start_time": "2022-02-07T05:36:20.279Z"
   },
   {
    "duration": 40,
    "start_time": "2022-02-07T05:36:37.391Z"
   },
   {
    "duration": 29,
    "start_time": "2022-02-07T05:36:53.984Z"
   },
   {
    "duration": 26,
    "start_time": "2022-02-07T05:37:16.135Z"
   },
   {
    "duration": 608,
    "start_time": "2022-02-07T05:37:23.199Z"
   },
   {
    "duration": 382,
    "start_time": "2022-02-07T05:37:23.809Z"
   },
   {
    "duration": 603,
    "start_time": "2022-02-07T05:37:24.193Z"
   },
   {
    "duration": 416,
    "start_time": "2022-02-07T05:37:24.798Z"
   },
   {
    "duration": 408,
    "start_time": "2022-02-07T05:37:25.216Z"
   },
   {
    "duration": 123,
    "start_time": "2022-02-07T05:37:25.626Z"
   },
   {
    "duration": 56,
    "start_time": "2022-02-07T05:37:25.751Z"
   },
   {
    "duration": 29,
    "start_time": "2022-02-07T05:37:25.809Z"
   },
   {
    "duration": 45,
    "start_time": "2022-02-07T05:37:25.841Z"
   },
   {
    "duration": 18,
    "start_time": "2022-02-07T05:44:11.074Z"
   },
   {
    "duration": 19,
    "start_time": "2022-02-07T05:44:26.630Z"
   },
   {
    "duration": 26,
    "start_time": "2022-02-07T05:45:16.135Z"
   },
   {
    "duration": 19,
    "start_time": "2022-02-07T05:45:47.100Z"
   },
   {
    "duration": 28,
    "start_time": "2022-02-07T05:47:07.459Z"
   },
   {
    "duration": 97,
    "start_time": "2022-02-07T13:10:40.340Z"
   },
   {
    "duration": 516,
    "start_time": "2022-02-07T13:10:57.310Z"
   },
   {
    "duration": 27,
    "start_time": "2022-02-07T13:12:29.100Z"
   },
   {
    "duration": 30,
    "start_time": "2022-02-07T13:13:51.798Z"
   },
   {
    "duration": 29,
    "start_time": "2022-02-07T13:15:44.619Z"
   },
   {
    "duration": 35,
    "start_time": "2022-02-07T13:16:34.320Z"
   },
   {
    "duration": 1212,
    "start_time": "2022-02-07T13:19:04.824Z"
   },
   {
    "duration": 27,
    "start_time": "2022-02-07T13:19:17.296Z"
   },
   {
    "duration": 29,
    "start_time": "2022-02-07T13:19:31.942Z"
   },
   {
    "duration": 27,
    "start_time": "2022-02-07T13:20:45.891Z"
   },
   {
    "duration": 1192,
    "start_time": "2022-02-07T13:24:17.956Z"
   },
   {
    "duration": 54,
    "start_time": "2022-02-07T13:24:35.195Z"
   },
   {
    "duration": 52,
    "start_time": "2022-02-07T13:25:19.073Z"
   },
   {
    "duration": 392,
    "start_time": "2022-02-07T13:29:01.423Z"
   },
   {
    "duration": 29,
    "start_time": "2022-02-07T13:29:12.767Z"
   },
   {
    "duration": 20,
    "start_time": "2022-02-07T13:29:21.232Z"
   },
   {
    "duration": 595,
    "start_time": "2022-02-07T13:29:26.220Z"
   },
   {
    "duration": 378,
    "start_time": "2022-02-07T13:29:26.817Z"
   },
   {
    "duration": 610,
    "start_time": "2022-02-07T13:29:27.197Z"
   },
   {
    "duration": 401,
    "start_time": "2022-02-07T13:29:27.809Z"
   },
   {
    "duration": 414,
    "start_time": "2022-02-07T13:29:28.212Z"
   },
   {
    "duration": 122,
    "start_time": "2022-02-07T13:29:28.627Z"
   },
   {
    "duration": 64,
    "start_time": "2022-02-07T13:29:28.751Z"
   },
   {
    "duration": 27,
    "start_time": "2022-02-07T13:29:28.818Z"
   },
   {
    "duration": 38,
    "start_time": "2022-02-07T13:29:28.847Z"
   },
   {
    "duration": 16,
    "start_time": "2022-02-07T13:29:28.886Z"
   },
   {
    "duration": 95,
    "start_time": "2022-02-07T14:49:43.389Z"
   },
   {
    "duration": 7,
    "start_time": "2022-02-07T14:50:32.255Z"
   },
   {
    "duration": 22,
    "start_time": "2022-02-07T14:50:59.838Z"
   },
   {
    "duration": 28,
    "start_time": "2022-02-07T14:58:52.345Z"
   },
   {
    "duration": 40,
    "start_time": "2022-02-07T14:59:31.108Z"
   },
   {
    "duration": 54,
    "start_time": "2022-02-07T15:42:48.695Z"
   },
   {
    "duration": 62,
    "start_time": "2022-02-07T15:44:21.427Z"
   },
   {
    "duration": 669,
    "start_time": "2022-02-07T15:44:41.649Z"
   },
   {
    "duration": 402,
    "start_time": "2022-02-07T15:44:42.319Z"
   },
   {
    "duration": 758,
    "start_time": "2022-02-07T15:44:42.723Z"
   },
   {
    "duration": 417,
    "start_time": "2022-02-07T15:44:43.482Z"
   },
   {
    "duration": 453,
    "start_time": "2022-02-07T15:44:43.900Z"
   },
   {
    "duration": 139,
    "start_time": "2022-02-07T15:44:44.355Z"
   },
   {
    "duration": 49,
    "start_time": "2022-02-07T15:44:44.496Z"
   },
   {
    "duration": 53,
    "start_time": "2022-02-07T15:44:44.547Z"
   },
   {
    "duration": 28,
    "start_time": "2022-02-07T15:44:44.603Z"
   },
   {
    "duration": 17,
    "start_time": "2022-02-07T15:44:44.633Z"
   },
   {
    "duration": 52,
    "start_time": "2022-02-07T15:44:44.677Z"
   },
   {
    "duration": 11,
    "start_time": "2022-02-07T15:44:44.730Z"
   },
   {
    "duration": 51,
    "start_time": "2022-02-07T15:45:52.445Z"
   },
   {
    "duration": 654,
    "start_time": "2022-02-07T15:46:19.468Z"
   },
   {
    "duration": 372,
    "start_time": "2022-02-07T15:46:20.124Z"
   },
   {
    "duration": 717,
    "start_time": "2022-02-07T15:46:20.498Z"
   },
   {
    "duration": 430,
    "start_time": "2022-02-07T15:46:21.217Z"
   },
   {
    "duration": 488,
    "start_time": "2022-02-07T15:46:21.650Z"
   },
   {
    "duration": 141,
    "start_time": "2022-02-07T15:46:22.140Z"
   },
   {
    "duration": 51,
    "start_time": "2022-02-07T15:46:22.284Z"
   },
   {
    "duration": 50,
    "start_time": "2022-02-07T15:46:22.337Z"
   },
   {
    "duration": 30,
    "start_time": "2022-02-07T15:46:22.390Z"
   },
   {
    "duration": 16,
    "start_time": "2022-02-07T15:46:22.421Z"
   },
   {
    "duration": 68,
    "start_time": "2022-02-07T15:46:22.438Z"
   },
   {
    "duration": 10,
    "start_time": "2022-02-07T15:46:22.508Z"
   },
   {
    "duration": 362,
    "start_time": "2022-02-07T15:49:24.251Z"
   },
   {
    "duration": 17,
    "start_time": "2022-02-07T15:49:33.796Z"
   },
   {
    "duration": 18,
    "start_time": "2022-02-07T15:58:54.551Z"
   },
   {
    "duration": 26,
    "start_time": "2022-02-07T15:59:29.983Z"
   },
   {
    "duration": 35,
    "start_time": "2022-02-07T16:01:49.866Z"
   },
   {
    "duration": 37,
    "start_time": "2022-02-07T16:02:28.464Z"
   },
   {
    "duration": 31,
    "start_time": "2022-02-07T16:03:11.237Z"
   },
   {
    "duration": 25,
    "start_time": "2022-02-07T16:04:04.604Z"
   },
   {
    "duration": 648,
    "start_time": "2022-02-07T16:04:15.749Z"
   },
   {
    "duration": 512,
    "start_time": "2022-02-07T16:04:16.400Z"
   },
   {
    "duration": 806,
    "start_time": "2022-02-07T16:04:16.915Z"
   },
   {
    "duration": 439,
    "start_time": "2022-02-07T16:04:17.723Z"
   },
   {
    "duration": 493,
    "start_time": "2022-02-07T16:04:18.164Z"
   },
   {
    "duration": 134,
    "start_time": "2022-02-07T16:04:18.659Z"
   },
   {
    "duration": 55,
    "start_time": "2022-02-07T16:04:18.794Z"
   },
   {
    "duration": 54,
    "start_time": "2022-02-07T16:04:18.851Z"
   },
   {
    "duration": 26,
    "start_time": "2022-02-07T16:04:18.909Z"
   },
   {
    "duration": 46,
    "start_time": "2022-02-07T16:04:18.937Z"
   },
   {
    "duration": 36,
    "start_time": "2022-02-07T16:04:18.986Z"
   },
   {
    "duration": 10,
    "start_time": "2022-02-07T16:04:19.024Z"
   },
   {
    "duration": 662,
    "start_time": "2022-02-07T16:17:23.967Z"
   },
   {
    "duration": 399,
    "start_time": "2022-02-07T16:17:24.631Z"
   },
   {
    "duration": 655,
    "start_time": "2022-02-07T16:17:25.032Z"
   },
   {
    "duration": 421,
    "start_time": "2022-02-07T16:17:25.690Z"
   },
   {
    "duration": 443,
    "start_time": "2022-02-07T16:17:26.113Z"
   },
   {
    "duration": 153,
    "start_time": "2022-02-07T16:17:26.558Z"
   },
   {
    "duration": 81,
    "start_time": "2022-02-07T16:17:26.713Z"
   },
   {
    "duration": 28,
    "start_time": "2022-02-07T16:17:26.797Z"
   },
   {
    "duration": 26,
    "start_time": "2022-02-07T16:17:26.827Z"
   },
   {
    "duration": 39,
    "start_time": "2022-02-07T16:17:26.855Z"
   },
   {
    "duration": 34,
    "start_time": "2022-02-07T16:17:26.896Z"
   },
   {
    "duration": 11,
    "start_time": "2022-02-07T16:17:26.931Z"
   },
   {
    "duration": 642,
    "start_time": "2022-02-07T16:18:17.204Z"
   },
   {
    "duration": 419,
    "start_time": "2022-02-07T16:18:17.848Z"
   },
   {
    "duration": 727,
    "start_time": "2022-02-07T16:18:18.273Z"
   },
   {
    "duration": 416,
    "start_time": "2022-02-07T16:18:19.001Z"
   },
   {
    "duration": 446,
    "start_time": "2022-02-07T16:18:19.419Z"
   },
   {
    "duration": 138,
    "start_time": "2022-02-07T16:18:19.867Z"
   },
   {
    "duration": 51,
    "start_time": "2022-02-07T16:18:20.007Z"
   },
   {
    "duration": 41,
    "start_time": "2022-02-07T16:18:20.060Z"
   },
   {
    "duration": 26,
    "start_time": "2022-02-07T16:18:20.102Z"
   },
   {
    "duration": 17,
    "start_time": "2022-02-07T16:18:20.129Z"
   },
   {
    "duration": 69,
    "start_time": "2022-02-07T16:18:20.148Z"
   },
   {
    "duration": 9,
    "start_time": "2022-02-07T16:18:20.219Z"
   },
   {
    "duration": 619,
    "start_time": "2022-02-07T16:19:25.629Z"
   },
   {
    "duration": 390,
    "start_time": "2022-02-07T16:19:26.249Z"
   },
   {
    "duration": 661,
    "start_time": "2022-02-07T16:19:26.641Z"
   },
   {
    "duration": 429,
    "start_time": "2022-02-07T16:19:27.304Z"
   },
   {
    "duration": 452,
    "start_time": "2022-02-07T16:19:27.735Z"
   },
   {
    "duration": 129,
    "start_time": "2022-02-07T16:19:28.189Z"
   },
   {
    "duration": 52,
    "start_time": "2022-02-07T16:19:28.320Z"
   },
   {
    "duration": 34,
    "start_time": "2022-02-07T16:19:28.373Z"
   },
   {
    "duration": 25,
    "start_time": "2022-02-07T16:19:28.409Z"
   },
   {
    "duration": 38,
    "start_time": "2022-02-07T16:19:28.436Z"
   },
   {
    "duration": 52,
    "start_time": "2022-02-07T16:19:28.476Z"
   },
   {
    "duration": 10,
    "start_time": "2022-02-07T16:19:28.529Z"
   },
   {
    "duration": 23,
    "start_time": "2022-02-07T16:20:47.719Z"
   },
   {
    "duration": 720,
    "start_time": "2022-02-07T16:20:52.684Z"
   },
   {
    "duration": 380,
    "start_time": "2022-02-07T16:20:53.406Z"
   },
   {
    "duration": 700,
    "start_time": "2022-02-07T16:20:53.789Z"
   },
   {
    "duration": 409,
    "start_time": "2022-02-07T16:20:54.491Z"
   },
   {
    "duration": 454,
    "start_time": "2022-02-07T16:20:54.901Z"
   },
   {
    "duration": 129,
    "start_time": "2022-02-07T16:20:55.356Z"
   },
   {
    "duration": 43,
    "start_time": "2022-02-07T16:20:55.487Z"
   },
   {
    "duration": 44,
    "start_time": "2022-02-07T16:20:55.532Z"
   },
   {
    "duration": 31,
    "start_time": "2022-02-07T16:20:55.578Z"
   },
   {
    "duration": 20,
    "start_time": "2022-02-07T16:20:55.610Z"
   },
   {
    "duration": 353,
    "start_time": "2022-02-07T16:20:55.631Z"
   },
   {
    "duration": 170,
    "start_time": "2022-02-07T16:20:55.817Z"
   },
   {
    "duration": 635,
    "start_time": "2022-02-07T16:21:18.907Z"
   },
   {
    "duration": 380,
    "start_time": "2022-02-07T16:21:19.544Z"
   },
   {
    "duration": 678,
    "start_time": "2022-02-07T16:21:19.926Z"
   },
   {
    "duration": 435,
    "start_time": "2022-02-07T16:21:20.606Z"
   },
   {
    "duration": 466,
    "start_time": "2022-02-07T16:21:21.042Z"
   },
   {
    "duration": 132,
    "start_time": "2022-02-07T16:21:21.509Z"
   },
   {
    "duration": 64,
    "start_time": "2022-02-07T16:21:21.643Z"
   },
   {
    "duration": 29,
    "start_time": "2022-02-07T16:21:21.708Z"
   },
   {
    "duration": 50,
    "start_time": "2022-02-07T16:21:21.740Z"
   },
   {
    "duration": 27,
    "start_time": "2022-02-07T16:21:21.792Z"
   },
   {
    "duration": 56,
    "start_time": "2022-02-07T16:21:21.821Z"
   },
   {
    "duration": 15,
    "start_time": "2022-02-07T16:21:21.879Z"
   },
   {
    "duration": 53,
    "start_time": "2022-02-07T16:34:20.611Z"
   },
   {
    "duration": 349,
    "start_time": "2022-02-07T16:38:33.715Z"
   },
   {
    "duration": 59,
    "start_time": "2022-02-07T16:38:46.594Z"
   },
   {
    "duration": 23,
    "start_time": "2022-02-07T16:43:13.843Z"
   },
   {
    "duration": 614,
    "start_time": "2022-02-07T16:43:20.431Z"
   },
   {
    "duration": 381,
    "start_time": "2022-02-07T16:43:21.047Z"
   },
   {
    "duration": 655,
    "start_time": "2022-02-07T16:43:21.439Z"
   },
   {
    "duration": 484,
    "start_time": "2022-02-07T16:43:22.096Z"
   },
   {
    "duration": 417,
    "start_time": "2022-02-07T16:43:22.581Z"
   },
   {
    "duration": 123,
    "start_time": "2022-02-07T16:43:22.999Z"
   },
   {
    "duration": 55,
    "start_time": "2022-02-07T16:43:23.124Z"
   },
   {
    "duration": 26,
    "start_time": "2022-02-07T16:43:23.180Z"
   },
   {
    "duration": 24,
    "start_time": "2022-02-07T16:43:23.208Z"
   },
   {
    "duration": 38,
    "start_time": "2022-02-07T16:43:23.234Z"
   },
   {
    "duration": 49,
    "start_time": "2022-02-07T16:43:23.274Z"
   },
   {
    "duration": 10,
    "start_time": "2022-02-07T16:43:23.325Z"
   },
   {
    "duration": 68,
    "start_time": "2022-02-07T16:43:52.963Z"
   },
   {
    "duration": 66,
    "start_time": "2022-02-07T16:44:40.841Z"
   },
   {
    "duration": 3,
    "start_time": "2022-02-07T16:45:10.931Z"
   },
   {
    "duration": 367,
    "start_time": "2022-02-07T16:45:10.935Z"
   },
   {
    "duration": 628,
    "start_time": "2022-02-07T16:45:11.303Z"
   },
   {
    "duration": 420,
    "start_time": "2022-02-07T16:45:11.933Z"
   },
   {
    "duration": 367,
    "start_time": "2022-02-07T16:45:12.355Z"
   },
   {
    "duration": 121,
    "start_time": "2022-02-07T16:45:12.723Z"
   },
   {
    "duration": 55,
    "start_time": "2022-02-07T16:45:12.846Z"
   },
   {
    "duration": 25,
    "start_time": "2022-02-07T16:45:12.903Z"
   },
   {
    "duration": 27,
    "start_time": "2022-02-07T16:45:12.930Z"
   },
   {
    "duration": 23,
    "start_time": "2022-02-07T16:45:12.971Z"
   },
   {
    "duration": 44,
    "start_time": "2022-02-07T16:45:12.996Z"
   },
   {
    "duration": 30,
    "start_time": "2022-02-07T16:45:13.042Z"
   },
   {
    "duration": 419,
    "start_time": "2022-02-07T16:46:45.975Z"
   },
   {
    "duration": 3,
    "start_time": "2022-02-07T16:46:57.384Z"
   },
   {
    "duration": 371,
    "start_time": "2022-02-07T16:46:57.389Z"
   },
   {
    "duration": 642,
    "start_time": "2022-02-07T16:46:57.761Z"
   },
   {
    "duration": 410,
    "start_time": "2022-02-07T16:46:58.405Z"
   },
   {
    "duration": 406,
    "start_time": "2022-02-07T16:46:58.817Z"
   },
   {
    "duration": 132,
    "start_time": "2022-02-07T16:46:59.225Z"
   },
   {
    "duration": 59,
    "start_time": "2022-02-07T16:46:59.359Z"
   },
   {
    "duration": 26,
    "start_time": "2022-02-07T16:46:59.420Z"
   },
   {
    "duration": 50,
    "start_time": "2022-02-07T16:46:59.447Z"
   },
   {
    "duration": 22,
    "start_time": "2022-02-07T16:46:59.499Z"
   },
   {
    "duration": 88,
    "start_time": "2022-02-07T16:46:59.523Z"
   },
   {
    "duration": 11,
    "start_time": "2022-02-07T16:46:59.613Z"
   },
   {
    "duration": 68,
    "start_time": "2022-02-07T16:47:36.716Z"
   },
   {
    "duration": 4,
    "start_time": "2022-02-07T16:47:48.678Z"
   },
   {
    "duration": 400,
    "start_time": "2022-02-07T16:47:48.684Z"
   },
   {
    "duration": 625,
    "start_time": "2022-02-07T16:47:49.087Z"
   },
   {
    "duration": 445,
    "start_time": "2022-02-07T16:47:49.713Z"
   },
   {
    "duration": 404,
    "start_time": "2022-02-07T16:47:50.160Z"
   },
   {
    "duration": 134,
    "start_time": "2022-02-07T16:47:50.566Z"
   },
   {
    "duration": 47,
    "start_time": "2022-02-07T16:47:50.701Z"
   },
   {
    "duration": 49,
    "start_time": "2022-02-07T16:47:50.750Z"
   },
   {
    "duration": 29,
    "start_time": "2022-02-07T16:47:50.802Z"
   },
   {
    "duration": 43,
    "start_time": "2022-02-07T16:47:50.833Z"
   },
   {
    "duration": 48,
    "start_time": "2022-02-07T16:47:50.880Z"
   },
   {
    "duration": 10,
    "start_time": "2022-02-07T16:47:50.929Z"
   },
   {
    "duration": 37,
    "start_time": "2022-02-07T16:48:09.731Z"
   },
   {
    "duration": 57,
    "start_time": "2022-02-07T16:48:50.365Z"
   },
   {
    "duration": 51,
    "start_time": "2022-02-07T16:49:20.514Z"
   },
   {
    "duration": 680,
    "start_time": "2022-02-07T16:49:32.052Z"
   },
   {
    "duration": 401,
    "start_time": "2022-02-07T16:49:32.734Z"
   },
   {
    "duration": 664,
    "start_time": "2022-02-07T16:49:33.137Z"
   },
   {
    "duration": 420,
    "start_time": "2022-02-07T16:49:33.803Z"
   },
   {
    "duration": 433,
    "start_time": "2022-02-07T16:49:34.225Z"
   },
   {
    "duration": 144,
    "start_time": "2022-02-07T16:49:34.660Z"
   },
   {
    "duration": 50,
    "start_time": "2022-02-07T16:49:34.806Z"
   },
   {
    "duration": 54,
    "start_time": "2022-02-07T16:49:34.857Z"
   },
   {
    "duration": 28,
    "start_time": "2022-02-07T16:49:34.914Z"
   },
   {
    "duration": 44,
    "start_time": "2022-02-07T16:49:34.944Z"
   },
   {
    "duration": 35,
    "start_time": "2022-02-07T16:49:34.990Z"
   },
   {
    "duration": 10,
    "start_time": "2022-02-07T16:49:35.026Z"
   },
   {
    "duration": 49,
    "start_time": "2022-02-07T16:51:21.550Z"
   },
   {
    "duration": 639,
    "start_time": "2022-02-07T16:52:10.821Z"
   },
   {
    "duration": 415,
    "start_time": "2022-02-07T16:52:11.462Z"
   },
   {
    "duration": 697,
    "start_time": "2022-02-07T16:52:11.882Z"
   },
   {
    "duration": 416,
    "start_time": "2022-02-07T16:52:12.581Z"
   },
   {
    "duration": 469,
    "start_time": "2022-02-07T16:52:12.999Z"
   },
   {
    "duration": 137,
    "start_time": "2022-02-07T16:52:13.471Z"
   },
   {
    "duration": 49,
    "start_time": "2022-02-07T16:52:13.610Z"
   },
   {
    "duration": 33,
    "start_time": "2022-02-07T16:52:13.672Z"
   },
   {
    "duration": 27,
    "start_time": "2022-02-07T16:52:13.707Z"
   },
   {
    "duration": 49,
    "start_time": "2022-02-07T16:52:13.736Z"
   },
   {
    "duration": 38,
    "start_time": "2022-02-07T16:52:13.787Z"
   },
   {
    "duration": 10,
    "start_time": "2022-02-07T16:52:13.827Z"
   },
   {
    "duration": 644,
    "start_time": "2022-02-07T16:53:12.797Z"
   },
   {
    "duration": 384,
    "start_time": "2022-02-07T16:53:13.443Z"
   },
   {
    "duration": 645,
    "start_time": "2022-02-07T16:53:13.829Z"
   },
   {
    "duration": 410,
    "start_time": "2022-02-07T16:53:14.481Z"
   },
   {
    "duration": 457,
    "start_time": "2022-02-07T16:53:14.893Z"
   },
   {
    "duration": 134,
    "start_time": "2022-02-07T16:53:15.351Z"
   },
   {
    "duration": 51,
    "start_time": "2022-02-07T16:53:15.486Z"
   },
   {
    "duration": 51,
    "start_time": "2022-02-07T16:53:15.539Z"
   },
   {
    "duration": 26,
    "start_time": "2022-02-07T16:53:15.592Z"
   },
   {
    "duration": 21,
    "start_time": "2022-02-07T16:53:15.620Z"
   },
   {
    "duration": 384,
    "start_time": "2022-02-07T16:53:15.642Z"
   },
   {
    "duration": 136,
    "start_time": "2022-02-07T16:53:15.892Z"
   },
   {
    "duration": 665,
    "start_time": "2022-02-07T16:53:35.837Z"
   },
   {
    "duration": 365,
    "start_time": "2022-02-07T16:53:36.505Z"
   },
   {
    "duration": 652,
    "start_time": "2022-02-07T16:53:36.877Z"
   },
   {
    "duration": 417,
    "start_time": "2022-02-07T16:53:37.531Z"
   },
   {
    "duration": 467,
    "start_time": "2022-02-07T16:53:37.949Z"
   },
   {
    "duration": 133,
    "start_time": "2022-02-07T16:53:38.418Z"
   },
   {
    "duration": 66,
    "start_time": "2022-02-07T16:53:38.553Z"
   },
   {
    "duration": 28,
    "start_time": "2022-02-07T16:53:38.621Z"
   },
   {
    "duration": 45,
    "start_time": "2022-02-07T16:53:38.651Z"
   },
   {
    "duration": 21,
    "start_time": "2022-02-07T16:53:38.698Z"
   },
   {
    "duration": 73,
    "start_time": "2022-02-07T16:53:38.720Z"
   },
   {
    "duration": 10,
    "start_time": "2022-02-07T16:53:38.794Z"
   },
   {
    "duration": 627,
    "start_time": "2022-02-07T16:54:20.541Z"
   },
   {
    "duration": 411,
    "start_time": "2022-02-07T16:54:21.169Z"
   },
   {
    "duration": 708,
    "start_time": "2022-02-07T16:54:21.583Z"
   },
   {
    "duration": 417,
    "start_time": "2022-02-07T16:54:22.293Z"
   },
   {
    "duration": 455,
    "start_time": "2022-02-07T16:54:22.712Z"
   },
   {
    "duration": 142,
    "start_time": "2022-02-07T16:54:23.169Z"
   },
   {
    "duration": 65,
    "start_time": "2022-02-07T16:54:23.313Z"
   },
   {
    "duration": 32,
    "start_time": "2022-02-07T16:54:23.380Z"
   },
   {
    "duration": 29,
    "start_time": "2022-02-07T16:54:23.415Z"
   },
   {
    "duration": 53,
    "start_time": "2022-02-07T16:54:23.446Z"
   },
   {
    "duration": 47,
    "start_time": "2022-02-07T16:54:23.501Z"
   },
   {
    "duration": 31,
    "start_time": "2022-02-07T16:54:23.550Z"
   },
   {
    "duration": 642,
    "start_time": "2022-02-07T16:54:46.939Z"
   },
   {
    "duration": 401,
    "start_time": "2022-02-07T16:54:47.583Z"
   },
   {
    "duration": 710,
    "start_time": "2022-02-07T16:54:47.986Z"
   },
   {
    "duration": 421,
    "start_time": "2022-02-07T16:54:48.698Z"
   },
   {
    "duration": 471,
    "start_time": "2022-02-07T16:54:49.120Z"
   },
   {
    "duration": 137,
    "start_time": "2022-02-07T16:54:49.592Z"
   },
   {
    "duration": 76,
    "start_time": "2022-02-07T16:54:49.731Z"
   },
   {
    "duration": 31,
    "start_time": "2022-02-07T16:54:49.810Z"
   },
   {
    "duration": 47,
    "start_time": "2022-02-07T16:54:49.843Z"
   },
   {
    "duration": 21,
    "start_time": "2022-02-07T16:54:49.892Z"
   },
   {
    "duration": 66,
    "start_time": "2022-02-07T16:54:49.914Z"
   },
   {
    "duration": 14,
    "start_time": "2022-02-07T16:54:49.982Z"
   },
   {
    "duration": 43,
    "start_time": "2022-02-07T16:56:22.198Z"
   },
   {
    "duration": 653,
    "start_time": "2022-02-07T16:56:31.489Z"
   },
   {
    "duration": 400,
    "start_time": "2022-02-07T16:56:32.144Z"
   },
   {
    "duration": 660,
    "start_time": "2022-02-07T16:56:32.548Z"
   },
   {
    "duration": 434,
    "start_time": "2022-02-07T16:56:33.210Z"
   },
   {
    "duration": 451,
    "start_time": "2022-02-07T16:56:33.646Z"
   },
   {
    "duration": 130,
    "start_time": "2022-02-07T16:56:34.098Z"
   },
   {
    "duration": 64,
    "start_time": "2022-02-07T16:56:34.230Z"
   },
   {
    "duration": 29,
    "start_time": "2022-02-07T16:56:34.297Z"
   },
   {
    "duration": 26,
    "start_time": "2022-02-07T16:56:34.328Z"
   },
   {
    "duration": 42,
    "start_time": "2022-02-07T16:56:34.355Z"
   },
   {
    "duration": 31,
    "start_time": "2022-02-07T16:56:34.398Z"
   },
   {
    "duration": 9,
    "start_time": "2022-02-07T16:56:34.431Z"
   },
   {
    "duration": 353,
    "start_time": "2022-02-07T16:57:03.739Z"
   },
   {
    "duration": 640,
    "start_time": "2022-02-07T16:57:15.243Z"
   },
   {
    "duration": 400,
    "start_time": "2022-02-07T16:57:15.885Z"
   },
   {
    "duration": 659,
    "start_time": "2022-02-07T16:57:16.288Z"
   },
   {
    "duration": 422,
    "start_time": "2022-02-07T16:57:16.981Z"
   },
   {
    "duration": 446,
    "start_time": "2022-02-07T16:57:17.404Z"
   },
   {
    "duration": 133,
    "start_time": "2022-02-07T16:57:17.852Z"
   },
   {
    "duration": 54,
    "start_time": "2022-02-07T16:57:17.988Z"
   },
   {
    "duration": 50,
    "start_time": "2022-02-07T16:57:18.044Z"
   },
   {
    "duration": 37,
    "start_time": "2022-02-07T16:57:18.097Z"
   },
   {
    "duration": 35,
    "start_time": "2022-02-07T16:57:18.136Z"
   },
   {
    "duration": 41,
    "start_time": "2022-02-07T16:57:18.173Z"
   },
   {
    "duration": 16,
    "start_time": "2022-02-07T16:57:18.216Z"
   },
   {
    "duration": 681,
    "start_time": "2022-02-07T16:58:12.255Z"
   },
   {
    "duration": 391,
    "start_time": "2022-02-07T16:58:12.938Z"
   },
   {
    "duration": 682,
    "start_time": "2022-02-07T16:58:13.331Z"
   },
   {
    "duration": 427,
    "start_time": "2022-02-07T16:58:14.015Z"
   },
   {
    "duration": 451,
    "start_time": "2022-02-07T16:58:14.443Z"
   },
   {
    "duration": 133,
    "start_time": "2022-02-07T16:58:14.896Z"
   },
   {
    "duration": 58,
    "start_time": "2022-02-07T16:58:15.031Z"
   },
   {
    "duration": 28,
    "start_time": "2022-02-07T16:58:15.091Z"
   },
   {
    "duration": 26,
    "start_time": "2022-02-07T16:58:15.121Z"
   },
   {
    "duration": 31,
    "start_time": "2022-02-07T16:58:15.149Z"
   },
   {
    "duration": 40,
    "start_time": "2022-02-07T16:58:15.182Z"
   },
   {
    "duration": 11,
    "start_time": "2022-02-07T16:58:15.223Z"
   },
   {
    "duration": 34,
    "start_time": "2022-02-07T16:59:35.313Z"
   },
   {
    "duration": 30,
    "start_time": "2022-02-07T17:00:26.808Z"
   },
   {
    "duration": 22,
    "start_time": "2022-02-07T17:08:33.804Z"
   },
   {
    "duration": 33,
    "start_time": "2022-02-07T17:18:17.218Z"
   },
   {
    "duration": 46,
    "start_time": "2022-02-07T17:18:47.564Z"
   },
   {
    "duration": 33,
    "start_time": "2022-02-07T17:20:02.568Z"
   },
   {
    "duration": 26,
    "start_time": "2022-02-07T17:20:33.495Z"
   },
   {
    "duration": 29,
    "start_time": "2022-02-07T17:22:36.963Z"
   },
   {
    "duration": 45,
    "start_time": "2022-02-07T17:22:45.028Z"
   },
   {
    "duration": 36,
    "start_time": "2022-02-07T17:23:55.184Z"
   },
   {
    "duration": 28,
    "start_time": "2022-02-07T17:24:40.621Z"
   },
   {
    "duration": 31,
    "start_time": "2022-02-07T17:24:56.060Z"
   },
   {
    "duration": 20,
    "start_time": "2022-02-07T17:27:15.489Z"
   },
   {
    "duration": 663,
    "start_time": "2022-02-07T17:28:20.405Z"
   },
   {
    "duration": 383,
    "start_time": "2022-02-07T17:28:21.070Z"
   },
   {
    "duration": 662,
    "start_time": "2022-02-07T17:28:21.454Z"
   },
   {
    "duration": 433,
    "start_time": "2022-02-07T17:28:22.118Z"
   },
   {
    "duration": 455,
    "start_time": "2022-02-07T17:28:22.553Z"
   },
   {
    "duration": 129,
    "start_time": "2022-02-07T17:28:23.009Z"
   },
   {
    "duration": 66,
    "start_time": "2022-02-07T17:28:23.139Z"
   },
   {
    "duration": 30,
    "start_time": "2022-02-07T17:28:23.206Z"
   },
   {
    "duration": 43,
    "start_time": "2022-02-07T17:28:23.239Z"
   },
   {
    "duration": 24,
    "start_time": "2022-02-07T17:28:23.284Z"
   },
   {
    "duration": 32,
    "start_time": "2022-02-07T17:28:23.310Z"
   },
   {
    "duration": 34,
    "start_time": "2022-02-07T17:28:23.344Z"
   },
   {
    "duration": 436,
    "start_time": "2022-02-07T17:29:57.698Z"
   },
   {
    "duration": 273,
    "start_time": "2022-02-07T17:30:13.384Z"
   },
   {
    "duration": 735,
    "start_time": "2022-02-07T17:30:26.377Z"
   },
   {
    "duration": 398,
    "start_time": "2022-02-07T17:30:27.114Z"
   },
   {
    "duration": 635,
    "start_time": "2022-02-07T17:30:27.514Z"
   },
   {
    "duration": 420,
    "start_time": "2022-02-07T17:30:28.173Z"
   },
   {
    "duration": 454,
    "start_time": "2022-02-07T17:30:28.595Z"
   },
   {
    "duration": 142,
    "start_time": "2022-02-07T17:30:29.051Z"
   },
   {
    "duration": 48,
    "start_time": "2022-02-07T17:30:29.195Z"
   },
   {
    "duration": 50,
    "start_time": "2022-02-07T17:30:29.245Z"
   },
   {
    "duration": 26,
    "start_time": "2022-02-07T17:30:29.297Z"
   },
   {
    "duration": 22,
    "start_time": "2022-02-07T17:30:29.325Z"
   },
   {
    "duration": 69,
    "start_time": "2022-02-07T17:30:29.349Z"
   },
   {
    "duration": 10,
    "start_time": "2022-02-07T17:30:29.419Z"
   },
   {
    "duration": 46,
    "start_time": "2022-02-07T17:33:01.818Z"
   },
   {
    "duration": 668,
    "start_time": "2022-02-07T17:33:29.068Z"
   },
   {
    "duration": 397,
    "start_time": "2022-02-07T17:33:29.739Z"
   },
   {
    "duration": 675,
    "start_time": "2022-02-07T17:33:30.140Z"
   },
   {
    "duration": 440,
    "start_time": "2022-02-07T17:33:30.816Z"
   },
   {
    "duration": 457,
    "start_time": "2022-02-07T17:33:31.257Z"
   },
   {
    "duration": 121,
    "start_time": "2022-02-07T17:33:31.716Z"
   },
   {
    "duration": 58,
    "start_time": "2022-02-07T17:33:31.839Z"
   },
   {
    "duration": 29,
    "start_time": "2022-02-07T17:33:31.900Z"
   },
   {
    "duration": 43,
    "start_time": "2022-02-07T17:33:31.931Z"
   },
   {
    "duration": 28,
    "start_time": "2022-02-07T17:33:31.976Z"
   },
   {
    "duration": 29,
    "start_time": "2022-02-07T17:33:32.005Z"
   },
   {
    "duration": 360,
    "start_time": "2022-02-07T17:33:32.035Z"
   },
   {
    "duration": 39,
    "start_time": "2022-02-07T17:34:46.628Z"
   },
   {
    "duration": 655,
    "start_time": "2022-02-07T17:34:57.435Z"
   },
   {
    "duration": 384,
    "start_time": "2022-02-07T17:34:58.092Z"
   },
   {
    "duration": 641,
    "start_time": "2022-02-07T17:34:58.479Z"
   },
   {
    "duration": 402,
    "start_time": "2022-02-07T17:34:59.122Z"
   },
   {
    "duration": 449,
    "start_time": "2022-02-07T17:34:59.525Z"
   },
   {
    "duration": 136,
    "start_time": "2022-02-07T17:34:59.976Z"
   },
   {
    "duration": 47,
    "start_time": "2022-02-07T17:35:00.114Z"
   },
   {
    "duration": 33,
    "start_time": "2022-02-07T17:35:00.173Z"
   },
   {
    "duration": 28,
    "start_time": "2022-02-07T17:35:00.208Z"
   },
   {
    "duration": 42,
    "start_time": "2022-02-07T17:35:00.238Z"
   },
   {
    "duration": 42,
    "start_time": "2022-02-07T17:35:00.282Z"
   },
   {
    "duration": 41,
    "start_time": "2022-02-07T17:40:19.756Z"
   },
   {
    "duration": 26,
    "start_time": "2022-02-07T17:43:07.112Z"
   },
   {
    "duration": 85,
    "start_time": "2022-02-07T17:44:22.973Z"
   },
   {
    "duration": 751,
    "start_time": "2022-02-07T17:44:54.789Z"
   },
   {
    "duration": 426,
    "start_time": "2022-02-07T17:44:55.542Z"
   },
   {
    "duration": 752,
    "start_time": "2022-02-07T17:44:55.970Z"
   },
   {
    "duration": 452,
    "start_time": "2022-02-07T17:44:56.723Z"
   },
   {
    "duration": 459,
    "start_time": "2022-02-07T17:44:57.182Z"
   },
   {
    "duration": 121,
    "start_time": "2022-02-07T17:44:57.643Z"
   },
   {
    "duration": 69,
    "start_time": "2022-02-07T17:44:57.765Z"
   },
   {
    "duration": 26,
    "start_time": "2022-02-07T17:44:57.836Z"
   },
   {
    "duration": 38,
    "start_time": "2022-02-07T17:44:57.878Z"
   },
   {
    "duration": 24,
    "start_time": "2022-02-07T17:44:57.918Z"
   },
   {
    "duration": 69,
    "start_time": "2022-02-07T17:44:57.944Z"
   },
   {
    "duration": 25,
    "start_time": "2022-02-07T17:45:47.709Z"
   },
   {
    "duration": 91,
    "start_time": "2022-02-07T17:46:26.413Z"
   },
   {
    "duration": 689,
    "start_time": "2022-02-07T17:46:55.001Z"
   },
   {
    "duration": 457,
    "start_time": "2022-02-07T17:46:55.693Z"
   },
   {
    "duration": 751,
    "start_time": "2022-02-07T17:46:56.152Z"
   },
   {
    "duration": 446,
    "start_time": "2022-02-07T17:46:56.905Z"
   },
   {
    "duration": 475,
    "start_time": "2022-02-07T17:46:57.353Z"
   },
   {
    "duration": 122,
    "start_time": "2022-02-07T17:46:57.830Z"
   },
   {
    "duration": 62,
    "start_time": "2022-02-07T17:46:57.953Z"
   },
   {
    "duration": 28,
    "start_time": "2022-02-07T17:46:58.017Z"
   },
   {
    "duration": 51,
    "start_time": "2022-02-07T17:46:58.047Z"
   },
   {
    "duration": 26,
    "start_time": "2022-02-07T17:46:58.099Z"
   },
   {
    "duration": 56,
    "start_time": "2022-02-07T17:46:58.126Z"
   },
   {
    "duration": 685,
    "start_time": "2022-02-07T17:47:06.439Z"
   },
   {
    "duration": 395,
    "start_time": "2022-02-07T17:47:07.126Z"
   },
   {
    "duration": 705,
    "start_time": "2022-02-07T17:47:07.524Z"
   },
   {
    "duration": 468,
    "start_time": "2022-02-07T17:47:08.231Z"
   },
   {
    "duration": 481,
    "start_time": "2022-02-07T17:47:08.702Z"
   },
   {
    "duration": 118,
    "start_time": "2022-02-07T17:47:09.186Z"
   },
   {
    "duration": 52,
    "start_time": "2022-02-07T17:47:09.306Z"
   },
   {
    "duration": 52,
    "start_time": "2022-02-07T17:47:09.360Z"
   },
   {
    "duration": 25,
    "start_time": "2022-02-07T17:47:09.413Z"
   },
   {
    "duration": 61,
    "start_time": "2022-02-07T17:47:09.440Z"
   },
   {
    "duration": 35,
    "start_time": "2022-02-07T17:47:09.503Z"
   },
   {
    "duration": 672,
    "start_time": "2022-02-07T17:47:20.053Z"
   },
   {
    "duration": 417,
    "start_time": "2022-02-07T17:47:20.726Z"
   },
   {
    "duration": 764,
    "start_time": "2022-02-07T17:47:21.145Z"
   },
   {
    "duration": 447,
    "start_time": "2022-02-07T17:47:21.911Z"
   },
   {
    "duration": 496,
    "start_time": "2022-02-07T17:47:22.360Z"
   },
   {
    "duration": 122,
    "start_time": "2022-02-07T17:47:22.857Z"
   },
   {
    "duration": 63,
    "start_time": "2022-02-07T17:47:22.982Z"
   },
   {
    "duration": 52,
    "start_time": "2022-02-07T17:47:23.046Z"
   },
   {
    "duration": 29,
    "start_time": "2022-02-07T17:47:23.101Z"
   },
   {
    "duration": 54,
    "start_time": "2022-02-07T17:47:23.132Z"
   },
   {
    "duration": 41,
    "start_time": "2022-02-07T17:47:23.192Z"
   },
   {
    "duration": 48,
    "start_time": "2022-02-07T17:48:30.257Z"
   },
   {
    "duration": 32,
    "start_time": "2022-02-07T17:49:24.729Z"
   },
   {
    "duration": 39,
    "start_time": "2022-02-07T17:50:01.253Z"
   },
   {
    "duration": 35,
    "start_time": "2022-02-07T17:50:30.649Z"
   },
   {
    "duration": 706,
    "start_time": "2022-02-07T17:50:37.390Z"
   },
   {
    "duration": 419,
    "start_time": "2022-02-07T17:50:38.101Z"
   },
   {
    "duration": 779,
    "start_time": "2022-02-07T17:50:38.522Z"
   },
   {
    "duration": 490,
    "start_time": "2022-02-07T17:50:39.303Z"
   },
   {
    "duration": 496,
    "start_time": "2022-02-07T17:50:39.795Z"
   },
   {
    "duration": 120,
    "start_time": "2022-02-07T17:50:40.296Z"
   },
   {
    "duration": 77,
    "start_time": "2022-02-07T17:50:40.419Z"
   },
   {
    "duration": 31,
    "start_time": "2022-02-07T17:50:40.498Z"
   },
   {
    "duration": 27,
    "start_time": "2022-02-07T17:50:40.531Z"
   },
   {
    "duration": 50,
    "start_time": "2022-02-07T17:50:40.560Z"
   },
   {
    "duration": 41,
    "start_time": "2022-02-07T17:50:40.611Z"
   },
   {
    "duration": 21,
    "start_time": "2022-02-08T04:45:21.465Z"
   },
   {
    "duration": 18,
    "start_time": "2022-02-08T04:46:26.827Z"
   },
   {
    "duration": 590,
    "start_time": "2022-02-08T04:53:52.804Z"
   },
   {
    "duration": 362,
    "start_time": "2022-02-08T04:53:53.396Z"
   },
   {
    "duration": 618,
    "start_time": "2022-02-08T04:53:53.759Z"
   },
   {
    "duration": 378,
    "start_time": "2022-02-08T04:53:54.378Z"
   },
   {
    "duration": 423,
    "start_time": "2022-02-08T04:53:54.757Z"
   },
   {
    "duration": 116,
    "start_time": "2022-02-08T04:53:55.181Z"
   },
   {
    "duration": 55,
    "start_time": "2022-02-08T04:53:55.298Z"
   },
   {
    "duration": 40,
    "start_time": "2022-02-08T04:53:55.355Z"
   },
   {
    "duration": 27,
    "start_time": "2022-02-08T04:53:55.397Z"
   },
   {
    "duration": 16,
    "start_time": "2022-02-08T04:53:55.426Z"
   },
   {
    "duration": 3,
    "start_time": "2022-02-08T04:53:55.443Z"
   },
   {
    "duration": 325,
    "start_time": "2022-02-08T05:08:00.593Z"
   },
   {
    "duration": 4,
    "start_time": "2022-02-08T05:08:11.541Z"
   },
   {
    "duration": 7,
    "start_time": "2022-02-08T05:11:18.896Z"
   },
   {
    "duration": 10,
    "start_time": "2022-02-08T05:11:34.075Z"
   },
   {
    "duration": 16,
    "start_time": "2022-02-08T05:12:16.718Z"
   },
   {
    "duration": 10,
    "start_time": "2022-02-08T05:12:42.946Z"
   },
   {
    "duration": 8,
    "start_time": "2022-02-08T05:28:01.414Z"
   },
   {
    "duration": 11,
    "start_time": "2022-02-08T05:28:20.931Z"
   },
   {
    "duration": 22,
    "start_time": "2022-02-08T05:29:07.805Z"
   },
   {
    "duration": 23,
    "start_time": "2022-02-08T05:29:47.829Z"
   },
   {
    "duration": 21,
    "start_time": "2022-02-08T05:30:27.458Z"
   },
   {
    "duration": 3,
    "start_time": "2022-02-08T05:31:49.636Z"
   },
   {
    "duration": 2,
    "start_time": "2022-02-08T05:31:50.442Z"
   },
   {
    "duration": 23,
    "start_time": "2022-02-08T05:31:51.269Z"
   },
   {
    "duration": 2,
    "start_time": "2022-02-08T05:32:10.612Z"
   },
   {
    "duration": 379,
    "start_time": "2022-02-08T05:32:10.615Z"
   },
   {
    "duration": 616,
    "start_time": "2022-02-08T05:32:10.995Z"
   },
   {
    "duration": 397,
    "start_time": "2022-02-08T05:32:11.612Z"
   },
   {
    "duration": 376,
    "start_time": "2022-02-08T05:32:12.011Z"
   },
   {
    "duration": 112,
    "start_time": "2022-02-08T05:32:12.389Z"
   },
   {
    "duration": 50,
    "start_time": "2022-02-08T05:32:12.503Z"
   },
   {
    "duration": 39,
    "start_time": "2022-02-08T05:32:12.555Z"
   },
   {
    "duration": 27,
    "start_time": "2022-02-08T05:32:12.596Z"
   },
   {
    "duration": 17,
    "start_time": "2022-02-08T05:32:12.625Z"
   },
   {
    "duration": 8,
    "start_time": "2022-02-08T05:32:12.672Z"
   },
   {
    "duration": 9,
    "start_time": "2022-02-08T05:32:12.683Z"
   },
   {
    "duration": 4,
    "start_time": "2022-02-08T05:32:12.694Z"
   },
   {
    "duration": 4,
    "start_time": "2022-02-08T05:32:12.699Z"
   },
   {
    "duration": 19,
    "start_time": "2022-02-08T05:32:12.705Z"
   },
   {
    "duration": 665,
    "start_time": "2022-02-08T05:33:11.049Z"
   },
   {
    "duration": 379,
    "start_time": "2022-02-08T05:33:11.716Z"
   },
   {
    "duration": 606,
    "start_time": "2022-02-08T05:33:12.097Z"
   },
   {
    "duration": 391,
    "start_time": "2022-02-08T05:33:12.704Z"
   },
   {
    "duration": 412,
    "start_time": "2022-02-08T05:33:13.096Z"
   },
   {
    "duration": 113,
    "start_time": "2022-02-08T05:33:13.510Z"
   },
   {
    "duration": 63,
    "start_time": "2022-02-08T05:33:13.624Z"
   },
   {
    "duration": 27,
    "start_time": "2022-02-08T05:33:13.688Z"
   },
   {
    "duration": 27,
    "start_time": "2022-02-08T05:33:13.717Z"
   },
   {
    "duration": 37,
    "start_time": "2022-02-08T05:33:13.745Z"
   },
   {
    "duration": 6,
    "start_time": "2022-02-08T05:33:13.784Z"
   },
   {
    "duration": 8,
    "start_time": "2022-02-08T05:33:13.792Z"
   },
   {
    "duration": 4,
    "start_time": "2022-02-08T05:33:13.802Z"
   },
   {
    "duration": 8,
    "start_time": "2022-02-08T05:33:13.807Z"
   },
   {
    "duration": 22,
    "start_time": "2022-02-08T05:33:13.816Z"
   },
   {
    "duration": 12,
    "start_time": "2022-02-08T05:33:31.961Z"
   },
   {
    "duration": 12,
    "start_time": "2022-02-08T05:34:30.375Z"
   },
   {
    "duration": 10,
    "start_time": "2022-02-08T05:44:42.255Z"
   },
   {
    "duration": 17,
    "start_time": "2022-02-08T05:44:54.630Z"
   },
   {
    "duration": 14,
    "start_time": "2022-02-08T05:46:32.761Z"
   },
   {
    "duration": 327,
    "start_time": "2022-02-08T06:31:47.869Z"
   },
   {
    "duration": 3,
    "start_time": "2022-02-08T06:32:25.513Z"
   },
   {
    "duration": 399,
    "start_time": "2022-02-08T06:32:30.215Z"
   },
   {
    "duration": 642,
    "start_time": "2022-02-08T06:32:30.766Z"
   },
   {
    "duration": 402,
    "start_time": "2022-02-08T06:32:31.410Z"
   },
   {
    "duration": 403,
    "start_time": "2022-02-08T06:32:31.814Z"
   },
   {
    "duration": 116,
    "start_time": "2022-02-08T06:32:32.219Z"
   },
   {
    "duration": 294,
    "start_time": "2022-02-08T06:32:33.783Z"
   },
   {
    "duration": 347,
    "start_time": "2022-02-08T06:40:38.701Z"
   },
   {
    "duration": 4,
    "start_time": "2022-02-08T06:40:51.203Z"
   },
   {
    "duration": 249,
    "start_time": "2022-02-08T06:46:48.704Z"
   },
   {
    "duration": 261,
    "start_time": "2022-02-08T06:48:26.268Z"
   },
   {
    "duration": 3,
    "start_time": "2022-02-08T06:49:03.687Z"
   },
   {
    "duration": 6,
    "start_time": "2022-02-08T06:58:57.913Z"
   },
   {
    "duration": 7,
    "start_time": "2022-02-08T06:59:11.715Z"
   },
   {
    "duration": 7,
    "start_time": "2022-02-08T07:00:08.041Z"
   },
   {
    "duration": 5,
    "start_time": "2022-02-08T07:01:00.972Z"
   },
   {
    "duration": 606,
    "start_time": "2022-02-08T07:17:07.690Z"
   },
   {
    "duration": 363,
    "start_time": "2022-02-08T07:17:08.298Z"
   },
   {
    "duration": 623,
    "start_time": "2022-02-08T07:17:08.665Z"
   },
   {
    "duration": 383,
    "start_time": "2022-02-08T07:17:09.289Z"
   },
   {
    "duration": 410,
    "start_time": "2022-02-08T07:17:09.674Z"
   },
   {
    "duration": 108,
    "start_time": "2022-02-08T07:17:10.086Z"
   },
   {
    "duration": 7,
    "start_time": "2022-02-08T07:17:10.195Z"
   },
   {
    "duration": 70,
    "start_time": "2022-02-08T07:17:10.205Z"
   },
   {
    "duration": 28,
    "start_time": "2022-02-08T07:17:10.276Z"
   },
   {
    "duration": 26,
    "start_time": "2022-02-08T07:17:10.306Z"
   },
   {
    "duration": 16,
    "start_time": "2022-02-08T07:17:10.333Z"
   },
   {
    "duration": 6,
    "start_time": "2022-02-08T07:17:10.372Z"
   },
   {
    "duration": 8,
    "start_time": "2022-02-08T07:17:10.380Z"
   },
   {
    "duration": 3,
    "start_time": "2022-02-08T07:17:10.389Z"
   },
   {
    "duration": 7,
    "start_time": "2022-02-08T07:17:10.394Z"
   },
   {
    "duration": 10,
    "start_time": "2022-02-08T07:17:10.402Z"
   },
   {
    "duration": 8,
    "start_time": "2022-02-08T07:17:10.414Z"
   },
   {
    "duration": 13,
    "start_time": "2022-02-08T07:17:10.424Z"
   },
   {
    "duration": 43,
    "start_time": "2022-02-08T07:17:10.439Z"
   },
   {
    "duration": 9,
    "start_time": "2022-02-08T07:24:00.596Z"
   },
   {
    "duration": 11,
    "start_time": "2022-02-08T07:24:18.902Z"
   },
   {
    "duration": 7,
    "start_time": "2022-02-08T07:24:44.179Z"
   },
   {
    "duration": 6,
    "start_time": "2022-02-08T07:24:45.563Z"
   },
   {
    "duration": 642,
    "start_time": "2022-02-08T07:25:06.423Z"
   },
   {
    "duration": 366,
    "start_time": "2022-02-08T07:25:07.066Z"
   },
   {
    "duration": 606,
    "start_time": "2022-02-08T07:25:07.436Z"
   },
   {
    "duration": 413,
    "start_time": "2022-02-08T07:25:08.043Z"
   },
   {
    "duration": 429,
    "start_time": "2022-02-08T07:25:08.457Z"
   },
   {
    "duration": 117,
    "start_time": "2022-02-08T07:25:08.888Z"
   },
   {
    "duration": 10,
    "start_time": "2022-02-08T07:25:09.007Z"
   },
   {
    "duration": 6,
    "start_time": "2022-02-08T07:25:09.019Z"
   },
   {
    "duration": 75,
    "start_time": "2022-02-08T07:25:09.026Z"
   },
   {
    "duration": 29,
    "start_time": "2022-02-08T07:25:09.103Z"
   },
   {
    "duration": 40,
    "start_time": "2022-02-08T07:25:09.134Z"
   },
   {
    "duration": 17,
    "start_time": "2022-02-08T07:25:09.176Z"
   },
   {
    "duration": 6,
    "start_time": "2022-02-08T07:25:09.194Z"
   },
   {
    "duration": 8,
    "start_time": "2022-02-08T07:25:09.202Z"
   },
   {
    "duration": 3,
    "start_time": "2022-02-08T07:25:09.211Z"
   },
   {
    "duration": 7,
    "start_time": "2022-02-08T07:25:09.215Z"
   },
   {
    "duration": 10,
    "start_time": "2022-02-08T07:25:09.224Z"
   },
   {
    "duration": 40,
    "start_time": "2022-02-08T07:25:09.235Z"
   },
   {
    "duration": 15,
    "start_time": "2022-02-08T07:25:09.276Z"
   },
   {
    "duration": 14,
    "start_time": "2022-02-08T07:25:09.293Z"
   },
   {
    "duration": 7,
    "start_time": "2022-02-08T07:25:36.454Z"
   },
   {
    "duration": 11,
    "start_time": "2022-02-08T07:29:11.280Z"
   },
   {
    "duration": 314,
    "start_time": "2022-02-08T07:29:26.933Z"
   },
   {
    "duration": 11,
    "start_time": "2022-02-08T07:29:41.984Z"
   },
   {
    "duration": 8,
    "start_time": "2022-02-08T07:30:13.007Z"
   },
   {
    "duration": 652,
    "start_time": "2022-02-08T07:39:52.147Z"
   },
   {
    "duration": 383,
    "start_time": "2022-02-08T07:39:52.801Z"
   },
   {
    "duration": 631,
    "start_time": "2022-02-08T07:39:53.186Z"
   },
   {
    "duration": 395,
    "start_time": "2022-02-08T07:39:53.819Z"
   },
   {
    "duration": 417,
    "start_time": "2022-02-08T07:39:54.215Z"
   },
   {
    "duration": 116,
    "start_time": "2022-02-08T07:39:54.634Z"
   },
   {
    "duration": 9,
    "start_time": "2022-02-08T07:39:54.752Z"
   },
   {
    "duration": 8,
    "start_time": "2022-02-08T07:39:54.771Z"
   },
   {
    "duration": 54,
    "start_time": "2022-02-08T07:39:54.781Z"
   },
   {
    "duration": 45,
    "start_time": "2022-02-08T07:39:54.837Z"
   },
   {
    "duration": 27,
    "start_time": "2022-02-08T07:39:54.883Z"
   },
   {
    "duration": 16,
    "start_time": "2022-02-08T07:39:54.911Z"
   },
   {
    "duration": 7,
    "start_time": "2022-02-08T07:39:54.928Z"
   },
   {
    "duration": 9,
    "start_time": "2022-02-08T07:39:54.936Z"
   },
   {
    "duration": 4,
    "start_time": "2022-02-08T07:39:54.971Z"
   },
   {
    "duration": 8,
    "start_time": "2022-02-08T07:39:54.976Z"
   },
   {
    "duration": 11,
    "start_time": "2022-02-08T07:39:54.986Z"
   },
   {
    "duration": 9,
    "start_time": "2022-02-08T07:39:54.998Z"
   },
   {
    "duration": 14,
    "start_time": "2022-02-08T07:39:55.009Z"
   },
   {
    "duration": 15,
    "start_time": "2022-02-08T07:39:55.025Z"
   },
   {
    "duration": 5,
    "start_time": "2022-02-08T07:57:43.889Z"
   },
   {
    "duration": 4,
    "start_time": "2022-02-08T07:58:53.813Z"
   },
   {
    "duration": 6,
    "start_time": "2022-02-08T07:59:02.605Z"
   },
   {
    "duration": 5,
    "start_time": "2022-02-08T07:59:19.234Z"
   },
   {
    "duration": 621,
    "start_time": "2022-02-08T07:59:27.768Z"
   },
   {
    "duration": 359,
    "start_time": "2022-02-08T07:59:28.391Z"
   },
   {
    "duration": 623,
    "start_time": "2022-02-08T07:59:28.752Z"
   },
   {
    "duration": 374,
    "start_time": "2022-02-08T07:59:29.377Z"
   },
   {
    "duration": 430,
    "start_time": "2022-02-08T07:59:29.753Z"
   },
   {
    "duration": 112,
    "start_time": "2022-02-08T07:59:30.184Z"
   },
   {
    "duration": 8,
    "start_time": "2022-02-08T07:59:30.297Z"
   },
   {
    "duration": 18,
    "start_time": "2022-02-08T07:59:30.307Z"
   },
   {
    "duration": 58,
    "start_time": "2022-02-08T07:59:30.327Z"
   },
   {
    "duration": 28,
    "start_time": "2022-02-08T07:59:30.386Z"
   },
   {
    "duration": 9,
    "start_time": "2022-02-08T07:59:30.415Z"
   },
   {
    "duration": 29,
    "start_time": "2022-02-08T07:59:30.425Z"
   },
   {
    "duration": 31,
    "start_time": "2022-02-08T07:59:30.456Z"
   },
   {
    "duration": 28,
    "start_time": "2022-02-08T07:59:30.489Z"
   },
   {
    "duration": 21,
    "start_time": "2022-02-08T07:59:30.519Z"
   },
   {
    "duration": 4,
    "start_time": "2022-02-08T07:59:30.542Z"
   },
   {
    "duration": 13,
    "start_time": "2022-02-08T07:59:30.547Z"
   },
   {
    "duration": 43,
    "start_time": "2022-02-08T07:59:30.561Z"
   },
   {
    "duration": 12,
    "start_time": "2022-02-08T07:59:30.606Z"
   },
   {
    "duration": 18,
    "start_time": "2022-02-08T07:59:30.619Z"
   },
   {
    "duration": 30,
    "start_time": "2022-02-08T07:59:30.638Z"
   },
   {
    "duration": 619,
    "start_time": "2022-02-08T08:00:34.970Z"
   },
   {
    "duration": 373,
    "start_time": "2022-02-08T08:00:35.591Z"
   },
   {
    "duration": 660,
    "start_time": "2022-02-08T08:00:35.966Z"
   },
   {
    "duration": 400,
    "start_time": "2022-02-08T08:00:36.627Z"
   },
   {
    "duration": 420,
    "start_time": "2022-02-08T08:00:37.028Z"
   },
   {
    "duration": 108,
    "start_time": "2022-02-08T08:00:37.449Z"
   },
   {
    "duration": 16,
    "start_time": "2022-02-08T08:00:37.559Z"
   },
   {
    "duration": 6,
    "start_time": "2022-02-08T08:00:37.577Z"
   },
   {
    "duration": 52,
    "start_time": "2022-02-08T08:00:37.586Z"
   },
   {
    "duration": 49,
    "start_time": "2022-02-08T08:00:37.640Z"
   },
   {
    "duration": 7,
    "start_time": "2022-02-08T08:00:37.691Z"
   },
   {
    "duration": 5,
    "start_time": "2022-02-08T08:00:37.699Z"
   },
   {
    "duration": 28,
    "start_time": "2022-02-08T08:00:37.706Z"
   },
   {
    "duration": 51,
    "start_time": "2022-02-08T08:00:37.736Z"
   },
   {
    "duration": 7,
    "start_time": "2022-02-08T08:00:37.789Z"
   },
   {
    "duration": 9,
    "start_time": "2022-02-08T08:00:37.797Z"
   },
   {
    "duration": 3,
    "start_time": "2022-02-08T08:00:37.807Z"
   },
   {
    "duration": 8,
    "start_time": "2022-02-08T08:00:37.812Z"
   },
   {
    "duration": 11,
    "start_time": "2022-02-08T08:00:37.821Z"
   },
   {
    "duration": 39,
    "start_time": "2022-02-08T08:00:37.833Z"
   },
   {
    "duration": 13,
    "start_time": "2022-02-08T08:00:37.874Z"
   },
   {
    "duration": 15,
    "start_time": "2022-02-08T08:00:37.889Z"
   },
   {
    "duration": 623,
    "start_time": "2022-02-08T10:18:27.353Z"
   },
   {
    "duration": 365,
    "start_time": "2022-02-08T10:18:27.978Z"
   },
   {
    "duration": 629,
    "start_time": "2022-02-08T10:18:28.347Z"
   },
   {
    "duration": 395,
    "start_time": "2022-02-08T10:18:28.978Z"
   },
   {
    "duration": 418,
    "start_time": "2022-02-08T10:18:29.374Z"
   },
   {
    "duration": 119,
    "start_time": "2022-02-08T10:18:29.793Z"
   },
   {
    "duration": 10,
    "start_time": "2022-02-08T10:18:29.914Z"
   },
   {
    "duration": 7,
    "start_time": "2022-02-08T10:18:29.926Z"
   },
   {
    "duration": 74,
    "start_time": "2022-02-08T10:18:29.934Z"
   },
   {
    "duration": 30,
    "start_time": "2022-02-08T10:18:30.009Z"
   },
   {
    "duration": 7,
    "start_time": "2022-02-08T10:18:30.040Z"
   },
   {
    "duration": 9,
    "start_time": "2022-02-08T10:18:30.048Z"
   },
   {
    "duration": 39,
    "start_time": "2022-02-08T10:18:30.059Z"
   },
   {
    "duration": 17,
    "start_time": "2022-02-08T10:18:30.099Z"
   },
   {
    "duration": 6,
    "start_time": "2022-02-08T10:18:30.118Z"
   },
   {
    "duration": 31,
    "start_time": "2022-02-08T10:18:30.126Z"
   },
   {
    "duration": 37,
    "start_time": "2022-02-08T10:18:30.159Z"
   },
   {
    "duration": 37,
    "start_time": "2022-02-08T10:18:30.197Z"
   },
   {
    "duration": 35,
    "start_time": "2022-02-08T10:18:30.235Z"
   },
   {
    "duration": 50,
    "start_time": "2022-02-08T10:18:30.272Z"
   },
   {
    "duration": 37,
    "start_time": "2022-02-08T10:18:30.324Z"
   },
   {
    "duration": 21,
    "start_time": "2022-02-08T10:18:30.363Z"
   },
   {
    "duration": 4,
    "start_time": "2022-02-08T10:52:05.671Z"
   },
   {
    "duration": 5,
    "start_time": "2022-02-08T10:58:36.001Z"
   },
   {
    "duration": 22,
    "start_time": "2022-02-08T10:58:37.568Z"
   },
   {
    "duration": 4,
    "start_time": "2022-02-08T11:01:54.311Z"
   },
   {
    "duration": 4,
    "start_time": "2022-02-08T11:04:23.635Z"
   },
   {
    "duration": 21,
    "start_time": "2022-02-08T11:04:38.615Z"
   },
   {
    "duration": 7,
    "start_time": "2022-02-08T11:07:18.062Z"
   },
   {
    "duration": 303,
    "start_time": "2022-02-08T11:10:16.467Z"
   },
   {
    "duration": 5,
    "start_time": "2022-02-08T11:10:25.599Z"
   },
   {
    "duration": 7,
    "start_time": "2022-02-08T11:11:41.617Z"
   },
   {
    "duration": 641,
    "start_time": "2022-02-08T11:12:56.338Z"
   },
   {
    "duration": 374,
    "start_time": "2022-02-08T11:12:56.981Z"
   },
   {
    "duration": 643,
    "start_time": "2022-02-08T11:12:57.357Z"
   },
   {
    "duration": 431,
    "start_time": "2022-02-08T11:12:58.002Z"
   },
   {
    "duration": 433,
    "start_time": "2022-02-08T11:12:58.435Z"
   },
   {
    "duration": 117,
    "start_time": "2022-02-08T11:12:58.871Z"
   },
   {
    "duration": 10,
    "start_time": "2022-02-08T11:12:58.990Z"
   },
   {
    "duration": 8,
    "start_time": "2022-02-08T11:12:59.001Z"
   },
   {
    "duration": 101,
    "start_time": "2022-02-08T11:12:59.013Z"
   },
   {
    "duration": 40,
    "start_time": "2022-02-08T11:12:59.117Z"
   },
   {
    "duration": 18,
    "start_time": "2022-02-08T11:12:59.159Z"
   },
   {
    "duration": 5,
    "start_time": "2022-02-08T11:12:59.178Z"
   },
   {
    "duration": 29,
    "start_time": "2022-02-08T11:12:59.184Z"
   },
   {
    "duration": 5,
    "start_time": "2022-02-08T11:12:59.215Z"
   },
   {
    "duration": 18,
    "start_time": "2022-02-08T11:12:59.221Z"
   },
   {
    "duration": 36,
    "start_time": "2022-02-08T11:12:59.240Z"
   },
   {
    "duration": 7,
    "start_time": "2022-02-08T11:12:59.278Z"
   },
   {
    "duration": 9,
    "start_time": "2022-02-08T11:12:59.286Z"
   },
   {
    "duration": 4,
    "start_time": "2022-02-08T11:12:59.296Z"
   },
   {
    "duration": 9,
    "start_time": "2022-02-08T11:12:59.301Z"
   },
   {
    "duration": 22,
    "start_time": "2022-02-08T11:12:59.311Z"
   },
   {
    "duration": 19,
    "start_time": "2022-02-08T11:12:59.335Z"
   },
   {
    "duration": 27,
    "start_time": "2022-02-08T11:12:59.356Z"
   },
   {
    "duration": 4,
    "start_time": "2022-02-08T11:12:59.384Z"
   },
   {
    "duration": 29,
    "start_time": "2022-02-08T11:12:59.389Z"
   },
   {
    "duration": 7,
    "start_time": "2022-02-08T11:12:59.419Z"
   },
   {
    "duration": 16,
    "start_time": "2022-02-08T11:12:59.429Z"
   },
   {
    "duration": 21,
    "start_time": "2022-02-08T11:12:59.446Z"
   },
   {
    "duration": 19,
    "start_time": "2022-02-08T11:12:59.469Z"
   },
   {
    "duration": 6,
    "start_time": "2022-02-08T11:31:54.616Z"
   },
   {
    "duration": 31,
    "start_time": "2022-02-08T11:32:50.673Z"
   },
   {
    "duration": 16,
    "start_time": "2022-02-08T11:33:05.526Z"
   },
   {
    "duration": 6,
    "start_time": "2022-02-08T11:33:25.462Z"
   },
   {
    "duration": 6,
    "start_time": "2022-02-08T11:33:27.766Z"
   },
   {
    "duration": 6,
    "start_time": "2022-02-08T11:34:04.191Z"
   },
   {
    "duration": 6,
    "start_time": "2022-02-08T11:36:28.450Z"
   },
   {
    "duration": 6,
    "start_time": "2022-02-08T11:36:35.249Z"
   },
   {
    "duration": 6,
    "start_time": "2022-02-08T11:36:35.896Z"
   },
   {
    "duration": 5,
    "start_time": "2022-02-08T11:56:04.383Z"
   },
   {
    "duration": 21,
    "start_time": "2022-02-08T11:56:13.039Z"
   },
   {
    "duration": 637,
    "start_time": "2022-02-08T11:56:46.279Z"
   },
   {
    "duration": 392,
    "start_time": "2022-02-08T11:56:46.917Z"
   },
   {
    "duration": 669,
    "start_time": "2022-02-08T11:56:47.312Z"
   },
   {
    "duration": 394,
    "start_time": "2022-02-08T11:56:47.983Z"
   },
   {
    "duration": 424,
    "start_time": "2022-02-08T11:56:48.378Z"
   },
   {
    "duration": 119,
    "start_time": "2022-02-08T11:56:48.803Z"
   },
   {
    "duration": 8,
    "start_time": "2022-02-08T11:56:48.924Z"
   },
   {
    "duration": 6,
    "start_time": "2022-02-08T11:56:48.935Z"
   },
   {
    "duration": 80,
    "start_time": "2022-02-08T11:56:48.943Z"
   },
   {
    "duration": 30,
    "start_time": "2022-02-08T11:56:49.025Z"
   },
   {
    "duration": 20,
    "start_time": "2022-02-08T11:56:49.056Z"
   },
   {
    "duration": 6,
    "start_time": "2022-02-08T11:56:49.078Z"
   },
   {
    "duration": 29,
    "start_time": "2022-02-08T11:56:49.085Z"
   },
   {
    "duration": 6,
    "start_time": "2022-02-08T11:56:49.116Z"
   },
   {
    "duration": 16,
    "start_time": "2022-02-08T11:56:49.124Z"
   },
   {
    "duration": 6,
    "start_time": "2022-02-08T11:56:49.172Z"
   },
   {
    "duration": 7,
    "start_time": "2022-02-08T11:56:49.179Z"
   },
   {
    "duration": 10,
    "start_time": "2022-02-08T11:56:49.187Z"
   },
   {
    "duration": 4,
    "start_time": "2022-02-08T11:56:49.199Z"
   },
   {
    "duration": 9,
    "start_time": "2022-02-08T11:56:49.205Z"
   },
   {
    "duration": 15,
    "start_time": "2022-02-08T11:56:49.215Z"
   },
   {
    "duration": 42,
    "start_time": "2022-02-08T11:56:49.231Z"
   },
   {
    "duration": 15,
    "start_time": "2022-02-08T11:56:49.276Z"
   },
   {
    "duration": 3,
    "start_time": "2022-02-08T11:56:49.293Z"
   },
   {
    "duration": 19,
    "start_time": "2022-02-08T11:56:49.297Z"
   },
   {
    "duration": 9,
    "start_time": "2022-02-08T11:56:49.317Z"
   },
   {
    "duration": 10,
    "start_time": "2022-02-08T11:56:49.328Z"
   },
   {
    "duration": 10,
    "start_time": "2022-02-08T11:56:49.340Z"
   },
   {
    "duration": 22,
    "start_time": "2022-02-08T11:56:49.352Z"
   },
   {
    "duration": 24,
    "start_time": "2022-02-08T11:56:49.376Z"
   },
   {
    "duration": 317,
    "start_time": "2022-02-08T11:57:14.398Z"
   },
   {
    "duration": 7,
    "start_time": "2022-02-08T11:57:20.034Z"
   },
   {
    "duration": 612,
    "start_time": "2022-02-08T12:14:12.187Z"
   },
   {
    "duration": 373,
    "start_time": "2022-02-08T12:14:12.801Z"
   },
   {
    "duration": 749,
    "start_time": "2022-02-08T12:14:13.176Z"
   },
   {
    "duration": 403,
    "start_time": "2022-02-08T12:14:13.927Z"
   },
   {
    "duration": 424,
    "start_time": "2022-02-08T12:14:14.332Z"
   },
   {
    "duration": 124,
    "start_time": "2022-02-08T12:14:14.758Z"
   },
   {
    "duration": 11,
    "start_time": "2022-02-08T12:14:14.884Z"
   },
   {
    "duration": 9,
    "start_time": "2022-02-08T12:14:14.898Z"
   },
   {
    "duration": 78,
    "start_time": "2022-02-08T12:14:14.909Z"
   },
   {
    "duration": 31,
    "start_time": "2022-02-08T12:14:14.989Z"
   },
   {
    "duration": 8,
    "start_time": "2022-02-08T12:14:15.022Z"
   },
   {
    "duration": 18,
    "start_time": "2022-02-08T12:14:15.031Z"
   },
   {
    "duration": 43,
    "start_time": "2022-02-08T12:14:15.051Z"
   },
   {
    "duration": 5,
    "start_time": "2022-02-08T12:14:15.096Z"
   },
   {
    "duration": 31,
    "start_time": "2022-02-08T12:14:15.102Z"
   },
   {
    "duration": 10,
    "start_time": "2022-02-08T12:14:15.135Z"
   },
   {
    "duration": 6,
    "start_time": "2022-02-08T12:14:15.147Z"
   },
   {
    "duration": 20,
    "start_time": "2022-02-08T12:14:15.154Z"
   },
   {
    "duration": 4,
    "start_time": "2022-02-08T12:14:15.176Z"
   },
   {
    "duration": 6,
    "start_time": "2022-02-08T12:14:15.181Z"
   },
   {
    "duration": 11,
    "start_time": "2022-02-08T12:14:15.189Z"
   },
   {
    "duration": 104,
    "start_time": "2022-02-08T12:14:15.201Z"
   },
   {
    "duration": 213,
    "start_time": "2022-02-08T12:14:15.094Z"
   },
   {
    "duration": 213,
    "start_time": "2022-02-08T12:14:15.095Z"
   },
   {
    "duration": 213,
    "start_time": "2022-02-08T12:14:15.096Z"
   },
   {
    "duration": 212,
    "start_time": "2022-02-08T12:14:15.098Z"
   },
   {
    "duration": 212,
    "start_time": "2022-02-08T12:14:15.099Z"
   },
   {
    "duration": 212,
    "start_time": "2022-02-08T12:14:15.100Z"
   },
   {
    "duration": 211,
    "start_time": "2022-02-08T12:14:15.102Z"
   },
   {
    "duration": 211,
    "start_time": "2022-02-08T12:14:15.103Z"
   },
   {
    "duration": 8,
    "start_time": "2022-02-08T12:14:34.606Z"
   },
   {
    "duration": 12,
    "start_time": "2022-02-08T12:14:39.516Z"
   },
   {
    "duration": 10,
    "start_time": "2022-02-08T12:15:23.365Z"
   },
   {
    "duration": 17,
    "start_time": "2022-02-08T12:15:24.935Z"
   },
   {
    "duration": 615,
    "start_time": "2022-02-08T12:16:05.415Z"
   },
   {
    "duration": 377,
    "start_time": "2022-02-08T12:16:06.032Z"
   },
   {
    "duration": 661,
    "start_time": "2022-02-08T12:16:06.411Z"
   },
   {
    "duration": 383,
    "start_time": "2022-02-08T12:16:07.074Z"
   },
   {
    "duration": 455,
    "start_time": "2022-02-08T12:16:07.458Z"
   },
   {
    "duration": 115,
    "start_time": "2022-02-08T12:16:07.915Z"
   },
   {
    "duration": 9,
    "start_time": "2022-02-08T12:16:08.031Z"
   },
   {
    "duration": 6,
    "start_time": "2022-02-08T12:16:08.043Z"
   },
   {
    "duration": 74,
    "start_time": "2022-02-08T12:16:08.051Z"
   },
   {
    "duration": 29,
    "start_time": "2022-02-08T12:16:08.126Z"
   },
   {
    "duration": 18,
    "start_time": "2022-02-08T12:16:08.157Z"
   },
   {
    "duration": 6,
    "start_time": "2022-02-08T12:16:08.176Z"
   },
   {
    "duration": 45,
    "start_time": "2022-02-08T12:16:08.183Z"
   },
   {
    "duration": 5,
    "start_time": "2022-02-08T12:16:08.229Z"
   },
   {
    "duration": 38,
    "start_time": "2022-02-08T12:16:08.236Z"
   },
   {
    "duration": 16,
    "start_time": "2022-02-08T12:16:08.275Z"
   },
   {
    "duration": 8,
    "start_time": "2022-02-08T12:16:08.293Z"
   },
   {
    "duration": 20,
    "start_time": "2022-02-08T12:16:08.303Z"
   },
   {
    "duration": 12,
    "start_time": "2022-02-08T12:16:08.324Z"
   },
   {
    "duration": 19,
    "start_time": "2022-02-08T12:16:08.337Z"
   },
   {
    "duration": 22,
    "start_time": "2022-02-08T12:16:08.358Z"
   },
   {
    "duration": 13,
    "start_time": "2022-02-08T12:16:08.382Z"
   },
   {
    "duration": 13,
    "start_time": "2022-02-08T12:16:08.398Z"
   },
   {
    "duration": 3,
    "start_time": "2022-02-08T12:16:08.413Z"
   },
   {
    "duration": 23,
    "start_time": "2022-02-08T12:16:08.417Z"
   },
   {
    "duration": 13,
    "start_time": "2022-02-08T12:16:08.442Z"
   },
   {
    "duration": 25,
    "start_time": "2022-02-08T12:16:08.456Z"
   },
   {
    "duration": 10,
    "start_time": "2022-02-08T12:16:08.482Z"
   },
   {
    "duration": 11,
    "start_time": "2022-02-08T12:16:08.493Z"
   },
   {
    "duration": 20,
    "start_time": "2022-02-08T12:16:08.506Z"
   },
   {
    "duration": 9912,
    "start_time": "2022-02-08T12:19:55.515Z"
   },
   {
    "duration": 8,
    "start_time": "2022-02-08T12:20:48.193Z"
   },
   {
    "duration": 35,
    "start_time": "2022-02-08T12:21:12.075Z"
   },
   {
    "duration": 17,
    "start_time": "2022-02-08T12:24:21.951Z"
   },
   {
    "duration": 5,
    "start_time": "2022-02-08T12:24:25.061Z"
   },
   {
    "duration": 17,
    "start_time": "2022-02-08T12:24:38.233Z"
   },
   {
    "duration": 2,
    "start_time": "2022-02-08T12:26:55.786Z"
   },
   {
    "duration": 6,
    "start_time": "2022-02-08T12:29:03.668Z"
   },
   {
    "duration": 20,
    "start_time": "2022-02-08T12:29:26.004Z"
   },
   {
    "duration": 5,
    "start_time": "2022-02-08T12:29:26.600Z"
   },
   {
    "duration": 6,
    "start_time": "2022-02-08T12:29:27.459Z"
   },
   {
    "duration": 5,
    "start_time": "2022-02-08T12:29:28.573Z"
   },
   {
    "duration": 13,
    "start_time": "2022-02-08T12:31:08.731Z"
   },
   {
    "duration": 579,
    "start_time": "2022-02-08T12:31:17.321Z"
   },
   {
    "duration": 393,
    "start_time": "2022-02-08T12:31:17.902Z"
   },
   {
    "duration": 791,
    "start_time": "2022-02-08T12:31:18.297Z"
   },
   {
    "duration": 417,
    "start_time": "2022-02-08T12:31:19.089Z"
   },
   {
    "duration": 446,
    "start_time": "2022-02-08T12:31:19.507Z"
   },
   {
    "duration": 131,
    "start_time": "2022-02-08T12:31:19.955Z"
   },
   {
    "duration": 9,
    "start_time": "2022-02-08T12:31:20.087Z"
   },
   {
    "duration": 6,
    "start_time": "2022-02-08T12:31:20.098Z"
   },
   {
    "duration": 77,
    "start_time": "2022-02-08T12:31:20.106Z"
   },
   {
    "duration": 30,
    "start_time": "2022-02-08T12:31:20.185Z"
   },
   {
    "duration": 5,
    "start_time": "2022-02-08T12:31:20.217Z"
   },
   {
    "duration": 4,
    "start_time": "2022-02-08T12:31:20.224Z"
   },
   {
    "duration": 53,
    "start_time": "2022-02-08T12:31:20.230Z"
   },
   {
    "duration": 5,
    "start_time": "2022-02-08T12:31:20.284Z"
   },
   {
    "duration": 17,
    "start_time": "2022-02-08T12:31:20.291Z"
   },
   {
    "duration": 5,
    "start_time": "2022-02-08T12:31:20.309Z"
   },
   {
    "duration": 13,
    "start_time": "2022-02-08T12:31:20.315Z"
   },
   {
    "duration": 7,
    "start_time": "2022-02-08T12:31:20.329Z"
   },
   {
    "duration": 35,
    "start_time": "2022-02-08T12:31:20.337Z"
   },
   {
    "duration": 8,
    "start_time": "2022-02-08T12:31:20.373Z"
   },
   {
    "duration": 4,
    "start_time": "2022-02-08T12:31:20.383Z"
   },
   {
    "duration": 11,
    "start_time": "2022-02-08T12:31:20.389Z"
   },
   {
    "duration": 12,
    "start_time": "2022-02-08T12:31:20.403Z"
   },
   {
    "duration": 8,
    "start_time": "2022-02-08T12:31:20.417Z"
   },
   {
    "duration": 11,
    "start_time": "2022-02-08T12:31:20.427Z"
   },
   {
    "duration": 3,
    "start_time": "2022-02-08T12:31:20.440Z"
   },
   {
    "duration": 44,
    "start_time": "2022-02-08T12:31:20.444Z"
   },
   {
    "duration": 7,
    "start_time": "2022-02-08T12:31:20.489Z"
   },
   {
    "duration": 7,
    "start_time": "2022-02-08T12:31:20.497Z"
   },
   {
    "duration": 9,
    "start_time": "2022-02-08T12:31:20.506Z"
   },
   {
    "duration": 15,
    "start_time": "2022-02-08T12:31:20.517Z"
   },
   {
    "duration": 25,
    "start_time": "2022-02-08T12:31:20.533Z"
   },
   {
    "duration": 31,
    "start_time": "2022-02-08T14:27:23.024Z"
   },
   {
    "duration": 29,
    "start_time": "2022-02-08T14:27:54.619Z"
   },
   {
    "duration": 20,
    "start_time": "2022-02-08T14:28:31.783Z"
   },
   {
    "duration": 4,
    "start_time": "2022-02-08T14:30:58.685Z"
   },
   {
    "duration": 425,
    "start_time": "2022-02-08T15:28:34.626Z"
   },
   {
    "duration": 258,
    "start_time": "2022-02-08T15:29:01.676Z"
   },
   {
    "duration": 5,
    "start_time": "2022-02-08T15:29:16.739Z"
   },
   {
    "duration": 28,
    "start_time": "2022-02-08T15:29:37.347Z"
   },
   {
    "duration": 6,
    "start_time": "2022-02-08T15:30:15.567Z"
   },
   {
    "duration": 146,
    "start_time": "2022-02-09T06:56:37.385Z"
   },
   {
    "duration": 169,
    "start_time": "2022-02-09T06:58:17.099Z"
   },
   {
    "duration": 169,
    "start_time": "2022-02-09T06:58:41.761Z"
   },
   {
    "duration": 172,
    "start_time": "2022-02-09T06:59:24.625Z"
   },
   {
    "duration": 174,
    "start_time": "2022-02-09T06:59:37.002Z"
   },
   {
    "duration": 183,
    "start_time": "2022-02-09T07:04:51.101Z"
   },
   {
    "duration": 187,
    "start_time": "2022-02-09T07:05:27.824Z"
   },
   {
    "duration": 172,
    "start_time": "2022-02-09T07:05:56.459Z"
   },
   {
    "duration": 168,
    "start_time": "2022-02-09T07:06:15.341Z"
   },
   {
    "duration": 222,
    "start_time": "2022-02-09T07:06:40.980Z"
   },
   {
    "duration": 184,
    "start_time": "2022-02-09T07:06:54.803Z"
   },
   {
    "duration": 185,
    "start_time": "2022-02-09T07:07:18.645Z"
   },
   {
    "duration": 188,
    "start_time": "2022-02-09T07:19:30.952Z"
   },
   {
    "duration": 500,
    "start_time": "2022-02-09T07:23:27.660Z"
   },
   {
    "duration": 486,
    "start_time": "2022-02-09T07:30:39.659Z"
   },
   {
    "duration": 616,
    "start_time": "2022-02-09T07:30:58.120Z"
   },
   {
    "duration": 566,
    "start_time": "2022-02-09T07:31:31.829Z"
   },
   {
    "duration": 619,
    "start_time": "2022-02-09T07:42:01.118Z"
   },
   {
    "duration": 590,
    "start_time": "2022-02-09T07:42:10.253Z"
   },
   {
    "duration": 489,
    "start_time": "2022-02-09T07:43:23.064Z"
   },
   {
    "duration": 514,
    "start_time": "2022-02-09T07:43:38.763Z"
   },
   {
    "duration": 598,
    "start_time": "2022-02-09T07:44:14.885Z"
   },
   {
    "duration": 494,
    "start_time": "2022-02-09T07:44:27.617Z"
   },
   {
    "duration": 515,
    "start_time": "2022-02-09T07:47:04.844Z"
   },
   {
    "duration": 504,
    "start_time": "2022-02-09T07:48:00.368Z"
   },
   {
    "duration": 604,
    "start_time": "2022-02-09T09:24:10.771Z"
   },
   {
    "duration": 504,
    "start_time": "2022-02-09T09:24:55.596Z"
   },
   {
    "duration": 605,
    "start_time": "2022-02-09T09:26:46.383Z"
   },
   {
    "duration": 519,
    "start_time": "2022-02-09T09:31:42.182Z"
   },
   {
    "duration": 920,
    "start_time": "2022-02-09T10:20:45.624Z"
   },
   {
    "duration": 394,
    "start_time": "2022-02-09T10:20:46.546Z"
   },
   {
    "duration": 650,
    "start_time": "2022-02-09T10:20:46.945Z"
   },
   {
    "duration": 384,
    "start_time": "2022-02-09T10:20:47.597Z"
   },
   {
    "duration": 388,
    "start_time": "2022-02-09T10:20:47.983Z"
   },
   {
    "duration": 107,
    "start_time": "2022-02-09T10:20:48.373Z"
   },
   {
    "duration": 8,
    "start_time": "2022-02-09T10:20:48.482Z"
   },
   {
    "duration": 50,
    "start_time": "2022-02-09T10:20:48.492Z"
   },
   {
    "duration": 56,
    "start_time": "2022-02-09T10:20:48.543Z"
   },
   {
    "duration": 28,
    "start_time": "2022-02-09T10:20:48.600Z"
   },
   {
    "duration": 7,
    "start_time": "2022-02-09T10:20:48.629Z"
   },
   {
    "duration": 6,
    "start_time": "2022-02-09T10:20:48.637Z"
   },
   {
    "duration": 42,
    "start_time": "2022-02-09T10:20:48.644Z"
   },
   {
    "duration": 5,
    "start_time": "2022-02-09T10:20:48.687Z"
   },
   {
    "duration": 17,
    "start_time": "2022-02-09T10:20:48.694Z"
   },
   {
    "duration": 5,
    "start_time": "2022-02-09T10:20:48.712Z"
   },
   {
    "duration": 15,
    "start_time": "2022-02-09T10:20:48.719Z"
   },
   {
    "duration": 5,
    "start_time": "2022-02-09T10:20:48.735Z"
   },
   {
    "duration": 34,
    "start_time": "2022-02-09T10:20:48.741Z"
   },
   {
    "duration": 8,
    "start_time": "2022-02-09T10:20:48.776Z"
   },
   {
    "duration": 10,
    "start_time": "2022-02-09T10:20:48.786Z"
   },
   {
    "duration": 9,
    "start_time": "2022-02-09T10:20:48.800Z"
   },
   {
    "duration": 15,
    "start_time": "2022-02-09T10:20:48.810Z"
   },
   {
    "duration": 13,
    "start_time": "2022-02-09T10:20:48.826Z"
   },
   {
    "duration": 12,
    "start_time": "2022-02-09T10:20:48.840Z"
   },
   {
    "duration": 2,
    "start_time": "2022-02-09T10:20:48.854Z"
   },
   {
    "duration": 28,
    "start_time": "2022-02-09T10:20:48.857Z"
   },
   {
    "duration": 5,
    "start_time": "2022-02-09T10:20:48.886Z"
   },
   {
    "duration": 8,
    "start_time": "2022-02-09T10:20:48.893Z"
   },
   {
    "duration": 11,
    "start_time": "2022-02-09T10:20:48.902Z"
   },
   {
    "duration": 18,
    "start_time": "2022-02-09T10:20:48.915Z"
   },
   {
    "duration": 34,
    "start_time": "2022-02-09T10:20:48.934Z"
   },
   {
    "duration": 4,
    "start_time": "2022-02-09T10:20:48.969Z"
   },
   {
    "duration": 16,
    "start_time": "2022-02-09T10:20:48.974Z"
   },
   {
    "duration": 25,
    "start_time": "2022-02-09T10:20:48.991Z"
   },
   {
    "duration": 519,
    "start_time": "2022-02-09T10:20:49.018Z"
   },
   {
    "duration": 4,
    "start_time": "2022-02-09T10:26:43.510Z"
   },
   {
    "duration": 5,
    "start_time": "2022-02-09T10:27:21.958Z"
   },
   {
    "duration": 6,
    "start_time": "2022-02-09T10:28:06.490Z"
   },
   {
    "duration": 5,
    "start_time": "2022-02-09T10:30:51.095Z"
   },
   {
    "duration": 6,
    "start_time": "2022-02-09T10:31:53.253Z"
   },
   {
    "duration": 6,
    "start_time": "2022-02-09T10:32:03.897Z"
   },
   {
    "duration": 23,
    "start_time": "2022-02-09T13:37:34.444Z"
   },
   {
    "duration": 7,
    "start_time": "2022-02-09T13:41:36.326Z"
   },
   {
    "duration": 24,
    "start_time": "2022-02-09T13:41:40.006Z"
   },
   {
    "duration": 44,
    "start_time": "2022-02-09T13:46:53.322Z"
   },
   {
    "duration": 13,
    "start_time": "2022-02-09T13:46:54.990Z"
   },
   {
    "duration": 999,
    "start_time": "2022-02-09T13:47:10.225Z"
   },
   {
    "duration": 375,
    "start_time": "2022-02-09T13:47:11.226Z"
   },
   {
    "duration": 641,
    "start_time": "2022-02-09T13:47:11.603Z"
   },
   {
    "duration": 397,
    "start_time": "2022-02-09T13:47:12.245Z"
   },
   {
    "duration": 391,
    "start_time": "2022-02-09T13:47:12.644Z"
   },
   {
    "duration": 115,
    "start_time": "2022-02-09T13:47:13.037Z"
   },
   {
    "duration": 18,
    "start_time": "2022-02-09T13:47:13.154Z"
   },
   {
    "duration": 8,
    "start_time": "2022-02-09T13:47:13.175Z"
   },
   {
    "duration": 66,
    "start_time": "2022-02-09T13:47:13.185Z"
   },
   {
    "duration": 40,
    "start_time": "2022-02-09T13:47:13.253Z"
   },
   {
    "duration": 7,
    "start_time": "2022-02-09T13:47:13.295Z"
   },
   {
    "duration": 10,
    "start_time": "2022-02-09T13:47:13.304Z"
   },
   {
    "duration": 48,
    "start_time": "2022-02-09T13:47:13.316Z"
   },
   {
    "duration": 5,
    "start_time": "2022-02-09T13:47:13.366Z"
   },
   {
    "duration": 40,
    "start_time": "2022-02-09T13:47:13.372Z"
   },
   {
    "duration": 5,
    "start_time": "2022-02-09T13:47:13.413Z"
   },
   {
    "duration": 33,
    "start_time": "2022-02-09T13:47:13.419Z"
   },
   {
    "duration": 14,
    "start_time": "2022-02-09T13:47:13.454Z"
   },
   {
    "duration": 21,
    "start_time": "2022-02-09T13:47:13.469Z"
   },
   {
    "duration": 19,
    "start_time": "2022-02-09T13:47:13.491Z"
   },
   {
    "duration": 5,
    "start_time": "2022-02-09T13:47:13.512Z"
   },
   {
    "duration": 7,
    "start_time": "2022-02-09T13:47:13.519Z"
   },
   {
    "duration": 12,
    "start_time": "2022-02-09T13:47:13.530Z"
   },
   {
    "duration": 15,
    "start_time": "2022-02-09T13:47:13.544Z"
   },
   {
    "duration": 16,
    "start_time": "2022-02-09T13:47:13.560Z"
   },
   {
    "duration": 3,
    "start_time": "2022-02-09T13:47:13.577Z"
   },
   {
    "duration": 25,
    "start_time": "2022-02-09T13:47:13.582Z"
   },
   {
    "duration": 7,
    "start_time": "2022-02-09T13:47:13.608Z"
   },
   {
    "duration": 10,
    "start_time": "2022-02-09T13:47:13.616Z"
   },
   {
    "duration": 10,
    "start_time": "2022-02-09T13:47:13.627Z"
   },
   {
    "duration": 8,
    "start_time": "2022-02-09T13:47:13.639Z"
   },
   {
    "duration": 36,
    "start_time": "2022-02-09T13:47:13.649Z"
   },
   {
    "duration": 4,
    "start_time": "2022-02-09T13:47:13.686Z"
   },
   {
    "duration": 8,
    "start_time": "2022-02-09T13:47:13.692Z"
   },
   {
    "duration": 10,
    "start_time": "2022-02-09T13:47:13.701Z"
   },
   {
    "duration": 516,
    "start_time": "2022-02-09T13:47:13.712Z"
   },
   {
    "duration": 4,
    "start_time": "2022-02-09T13:47:14.230Z"
   },
   {
    "duration": 37,
    "start_time": "2022-02-09T13:47:14.236Z"
   },
   {
    "duration": 390,
    "start_time": "2022-02-09T13:47:14.274Z"
   },
   {
    "duration": 322,
    "start_time": "2022-02-09T13:49:54.255Z"
   },
   {
    "duration": 334,
    "start_time": "2022-02-09T13:50:15.425Z"
   },
   {
    "duration": 998,
    "start_time": "2022-02-09T13:50:27.381Z"
   },
   {
    "duration": 360,
    "start_time": "2022-02-09T13:50:28.381Z"
   },
   {
    "duration": 642,
    "start_time": "2022-02-09T13:50:28.746Z"
   },
   {
    "duration": 382,
    "start_time": "2022-02-09T13:50:29.389Z"
   },
   {
    "duration": 389,
    "start_time": "2022-02-09T13:50:29.773Z"
   },
   {
    "duration": 116,
    "start_time": "2022-02-09T13:50:30.163Z"
   },
   {
    "duration": 8,
    "start_time": "2022-02-09T13:50:30.280Z"
   },
   {
    "duration": 6,
    "start_time": "2022-02-09T13:50:30.291Z"
   },
   {
    "duration": 55,
    "start_time": "2022-02-09T13:50:30.299Z"
   },
   {
    "duration": 43,
    "start_time": "2022-02-09T13:50:30.355Z"
   },
   {
    "duration": 7,
    "start_time": "2022-02-09T13:50:30.399Z"
   },
   {
    "duration": 36,
    "start_time": "2022-02-09T13:50:30.408Z"
   },
   {
    "duration": 54,
    "start_time": "2022-02-09T13:50:30.445Z"
   },
   {
    "duration": 5,
    "start_time": "2022-02-09T13:50:30.500Z"
   },
   {
    "duration": 31,
    "start_time": "2022-02-09T13:50:30.507Z"
   },
   {
    "duration": 5,
    "start_time": "2022-02-09T13:50:30.540Z"
   },
   {
    "duration": 29,
    "start_time": "2022-02-09T13:50:30.546Z"
   },
   {
    "duration": 12,
    "start_time": "2022-02-09T13:50:30.576Z"
   },
   {
    "duration": 24,
    "start_time": "2022-02-09T13:50:30.590Z"
   },
   {
    "duration": 19,
    "start_time": "2022-02-09T13:50:30.615Z"
   },
   {
    "duration": 14,
    "start_time": "2022-02-09T13:50:30.635Z"
   },
   {
    "duration": 17,
    "start_time": "2022-02-09T13:50:30.650Z"
   },
   {
    "duration": 24,
    "start_time": "2022-02-09T13:50:30.669Z"
   },
   {
    "duration": 16,
    "start_time": "2022-02-09T13:50:30.695Z"
   },
   {
    "duration": 20,
    "start_time": "2022-02-09T13:50:30.712Z"
   },
   {
    "duration": 3,
    "start_time": "2022-02-09T13:50:30.735Z"
   },
   {
    "duration": 26,
    "start_time": "2022-02-09T13:50:30.739Z"
   },
   {
    "duration": 6,
    "start_time": "2022-02-09T13:50:30.766Z"
   },
   {
    "duration": 9,
    "start_time": "2022-02-09T13:50:30.773Z"
   },
   {
    "duration": 15,
    "start_time": "2022-02-09T13:50:30.784Z"
   },
   {
    "duration": 12,
    "start_time": "2022-02-09T13:50:30.800Z"
   },
   {
    "duration": 25,
    "start_time": "2022-02-09T13:50:30.813Z"
   },
   {
    "duration": 4,
    "start_time": "2022-02-09T13:50:30.839Z"
   },
   {
    "duration": 24,
    "start_time": "2022-02-09T13:50:30.845Z"
   },
   {
    "duration": 9,
    "start_time": "2022-02-09T13:50:30.871Z"
   },
   {
    "duration": 541,
    "start_time": "2022-02-09T13:50:30.882Z"
   },
   {
    "duration": 5,
    "start_time": "2022-02-09T13:50:31.424Z"
   },
   {
    "duration": 26,
    "start_time": "2022-02-09T13:50:31.430Z"
   },
   {
    "duration": 363,
    "start_time": "2022-02-09T13:50:31.457Z"
   },
   {
    "duration": 281,
    "start_time": "2022-02-09T13:50:50.756Z"
   },
   {
    "duration": 281,
    "start_time": "2022-02-09T13:51:04.446Z"
   },
   {
    "duration": 322,
    "start_time": "2022-02-09T13:52:24.472Z"
   },
   {
    "duration": 977,
    "start_time": "2022-02-09T13:52:32.458Z"
   },
   {
    "duration": 357,
    "start_time": "2022-02-09T13:52:33.437Z"
   },
   {
    "duration": 603,
    "start_time": "2022-02-09T13:52:33.796Z"
   },
   {
    "duration": 389,
    "start_time": "2022-02-09T13:52:34.401Z"
   },
   {
    "duration": 394,
    "start_time": "2022-02-09T13:52:34.792Z"
   },
   {
    "duration": 112,
    "start_time": "2022-02-09T13:52:35.187Z"
   },
   {
    "duration": 8,
    "start_time": "2022-02-09T13:52:35.301Z"
   },
   {
    "duration": 58,
    "start_time": "2022-02-09T13:52:35.311Z"
   },
   {
    "duration": 73,
    "start_time": "2022-02-09T13:52:35.371Z"
   },
   {
    "duration": 27,
    "start_time": "2022-02-09T13:52:35.446Z"
   },
   {
    "duration": 7,
    "start_time": "2022-02-09T13:52:35.474Z"
   },
   {
    "duration": 9,
    "start_time": "2022-02-09T13:52:35.483Z"
   },
   {
    "duration": 47,
    "start_time": "2022-02-09T13:52:35.493Z"
   },
   {
    "duration": 4,
    "start_time": "2022-02-09T13:52:35.542Z"
   },
   {
    "duration": 31,
    "start_time": "2022-02-09T13:52:35.547Z"
   },
   {
    "duration": 10,
    "start_time": "2022-02-09T13:52:35.580Z"
   },
   {
    "duration": 24,
    "start_time": "2022-02-09T13:52:35.591Z"
   },
   {
    "duration": 25,
    "start_time": "2022-02-09T13:52:35.617Z"
   },
   {
    "duration": 14,
    "start_time": "2022-02-09T13:52:35.644Z"
   },
   {
    "duration": 28,
    "start_time": "2022-02-09T13:52:35.659Z"
   },
   {
    "duration": 11,
    "start_time": "2022-02-09T13:52:35.689Z"
   },
   {
    "duration": 26,
    "start_time": "2022-02-09T13:52:35.702Z"
   },
   {
    "duration": 24,
    "start_time": "2022-02-09T13:52:35.732Z"
   },
   {
    "duration": 29,
    "start_time": "2022-02-09T13:52:35.758Z"
   },
   {
    "duration": 15,
    "start_time": "2022-02-09T13:52:35.789Z"
   },
   {
    "duration": 9,
    "start_time": "2022-02-09T13:52:35.806Z"
   },
   {
    "duration": 37,
    "start_time": "2022-02-09T13:52:35.816Z"
   },
   {
    "duration": 15,
    "start_time": "2022-02-09T13:52:35.855Z"
   },
   {
    "duration": 20,
    "start_time": "2022-02-09T13:52:35.872Z"
   },
   {
    "duration": 14,
    "start_time": "2022-02-09T13:52:35.894Z"
   },
   {
    "duration": 8,
    "start_time": "2022-02-09T13:52:35.909Z"
   },
   {
    "duration": 33,
    "start_time": "2022-02-09T13:52:35.919Z"
   },
   {
    "duration": 5,
    "start_time": "2022-02-09T13:52:35.954Z"
   },
   {
    "duration": 20,
    "start_time": "2022-02-09T13:52:35.961Z"
   },
   {
    "duration": 16,
    "start_time": "2022-02-09T13:52:35.984Z"
   },
   {
    "duration": 512,
    "start_time": "2022-02-09T13:52:36.001Z"
   },
   {
    "duration": 4,
    "start_time": "2022-02-09T13:52:36.515Z"
   },
   {
    "duration": 54,
    "start_time": "2022-02-09T13:52:36.521Z"
   },
   {
    "duration": 335,
    "start_time": "2022-02-09T13:52:36.576Z"
   },
   {
    "duration": 272,
    "start_time": "2022-02-09T13:55:24.872Z"
   },
   {
    "duration": 973,
    "start_time": "2022-02-09T13:55:35.772Z"
   },
   {
    "duration": 381,
    "start_time": "2022-02-09T13:55:36.747Z"
   },
   {
    "duration": 642,
    "start_time": "2022-02-09T13:55:37.133Z"
   },
   {
    "duration": 431,
    "start_time": "2022-02-09T13:55:37.776Z"
   },
   {
    "duration": 381,
    "start_time": "2022-02-09T13:55:38.209Z"
   },
   {
    "duration": 116,
    "start_time": "2022-02-09T13:55:38.592Z"
   },
   {
    "duration": 9,
    "start_time": "2022-02-09T13:55:38.710Z"
   },
   {
    "duration": 7,
    "start_time": "2022-02-09T13:55:38.722Z"
   },
   {
    "duration": 75,
    "start_time": "2022-02-09T13:55:38.731Z"
   },
   {
    "duration": 26,
    "start_time": "2022-02-09T13:55:38.808Z"
   },
   {
    "duration": 7,
    "start_time": "2022-02-09T13:55:38.836Z"
   },
   {
    "duration": 5,
    "start_time": "2022-02-09T13:55:38.845Z"
   },
   {
    "duration": 29,
    "start_time": "2022-02-09T13:55:38.872Z"
   },
   {
    "duration": 5,
    "start_time": "2022-02-09T13:55:38.903Z"
   },
   {
    "duration": 28,
    "start_time": "2022-02-09T13:55:38.910Z"
   },
   {
    "duration": 5,
    "start_time": "2022-02-09T13:55:38.939Z"
   },
   {
    "duration": 37,
    "start_time": "2022-02-09T13:55:38.946Z"
   },
   {
    "duration": 6,
    "start_time": "2022-02-09T13:55:38.985Z"
   },
   {
    "duration": 11,
    "start_time": "2022-02-09T13:55:38.992Z"
   },
   {
    "duration": 9,
    "start_time": "2022-02-09T13:55:39.004Z"
   },
   {
    "duration": 4,
    "start_time": "2022-02-09T13:55:39.015Z"
   },
   {
    "duration": 11,
    "start_time": "2022-02-09T13:55:39.021Z"
   },
   {
    "duration": 16,
    "start_time": "2022-02-09T13:55:39.033Z"
   },
   {
    "duration": 28,
    "start_time": "2022-02-09T13:55:39.050Z"
   },
   {
    "duration": 14,
    "start_time": "2022-02-09T13:55:39.080Z"
   },
   {
    "duration": 2,
    "start_time": "2022-02-09T13:55:39.097Z"
   },
   {
    "duration": 23,
    "start_time": "2022-02-09T13:55:39.101Z"
   },
   {
    "duration": 6932,
    "start_time": "2022-02-09T13:55:39.125Z"
   },
   {
    "duration": 432,
    "start_time": "2022-02-09T13:55:45.627Z"
   },
   {
    "duration": 432,
    "start_time": "2022-02-09T13:55:45.628Z"
   },
   {
    "duration": 427,
    "start_time": "2022-02-09T13:55:45.634Z"
   },
   {
    "duration": 426,
    "start_time": "2022-02-09T13:55:45.636Z"
   },
   {
    "duration": 426,
    "start_time": "2022-02-09T13:55:45.637Z"
   },
   {
    "duration": 426,
    "start_time": "2022-02-09T13:55:45.638Z"
   },
   {
    "duration": 425,
    "start_time": "2022-02-09T13:55:45.640Z"
   },
   {
    "duration": 425,
    "start_time": "2022-02-09T13:55:45.641Z"
   },
   {
    "duration": 424,
    "start_time": "2022-02-09T13:55:45.643Z"
   },
   {
    "duration": 424,
    "start_time": "2022-02-09T13:55:45.644Z"
   },
   {
    "duration": 424,
    "start_time": "2022-02-09T13:55:45.645Z"
   },
   {
    "duration": 6,
    "start_time": "2022-02-09T13:56:56.557Z"
   },
   {
    "duration": 979,
    "start_time": "2022-02-09T13:57:04.857Z"
   },
   {
    "duration": 374,
    "start_time": "2022-02-09T13:57:05.838Z"
   },
   {
    "duration": 590,
    "start_time": "2022-02-09T13:57:06.214Z"
   },
   {
    "duration": 412,
    "start_time": "2022-02-09T13:57:06.806Z"
   },
   {
    "duration": 404,
    "start_time": "2022-02-09T13:57:07.220Z"
   },
   {
    "duration": 126,
    "start_time": "2022-02-09T13:57:07.625Z"
   },
   {
    "duration": 10,
    "start_time": "2022-02-09T13:57:07.753Z"
   },
   {
    "duration": 7,
    "start_time": "2022-02-09T13:57:07.773Z"
   },
   {
    "duration": 66,
    "start_time": "2022-02-09T13:57:07.782Z"
   },
   {
    "duration": 45,
    "start_time": "2022-02-09T13:57:07.850Z"
   },
   {
    "duration": 8,
    "start_time": "2022-02-09T13:57:07.896Z"
   },
   {
    "duration": 7,
    "start_time": "2022-02-09T13:57:07.905Z"
   },
   {
    "duration": 38,
    "start_time": "2022-02-09T13:57:07.914Z"
   },
   {
    "duration": 6,
    "start_time": "2022-02-09T13:57:07.954Z"
   },
   {
    "duration": 20,
    "start_time": "2022-02-09T13:57:07.971Z"
   },
   {
    "duration": 8,
    "start_time": "2022-02-09T13:57:07.993Z"
   },
   {
    "duration": 19,
    "start_time": "2022-02-09T13:57:08.003Z"
   },
   {
    "duration": 21,
    "start_time": "2022-02-09T13:57:08.023Z"
   },
   {
    "duration": 25,
    "start_time": "2022-02-09T13:57:08.046Z"
   },
   {
    "duration": 18,
    "start_time": "2022-02-09T13:57:08.073Z"
   },
   {
    "duration": 16,
    "start_time": "2022-02-09T13:57:08.093Z"
   },
   {
    "duration": 25,
    "start_time": "2022-02-09T13:57:08.110Z"
   },
   {
    "duration": 29,
    "start_time": "2022-02-09T13:57:08.138Z"
   },
   {
    "duration": 10,
    "start_time": "2022-02-09T13:57:08.169Z"
   },
   {
    "duration": 29,
    "start_time": "2022-02-09T13:57:08.181Z"
   },
   {
    "duration": 4,
    "start_time": "2022-02-09T13:57:08.212Z"
   },
   {
    "duration": 36,
    "start_time": "2022-02-09T13:57:08.218Z"
   },
   {
    "duration": 21,
    "start_time": "2022-02-09T13:57:08.255Z"
   },
   {
    "duration": 26,
    "start_time": "2022-02-09T13:57:08.278Z"
   },
   {
    "duration": 19,
    "start_time": "2022-02-09T13:57:08.306Z"
   },
   {
    "duration": 14,
    "start_time": "2022-02-09T13:57:08.327Z"
   },
   {
    "duration": 47,
    "start_time": "2022-02-09T13:57:08.343Z"
   },
   {
    "duration": 7,
    "start_time": "2022-02-09T13:57:08.392Z"
   },
   {
    "duration": 19,
    "start_time": "2022-02-09T13:57:08.401Z"
   },
   {
    "duration": 19,
    "start_time": "2022-02-09T13:57:08.422Z"
   },
   {
    "duration": 6979,
    "start_time": "2022-02-09T13:57:08.443Z"
   },
   {
    "duration": 424,
    "start_time": "2022-02-09T13:57:15.000Z"
   },
   {
    "duration": 423,
    "start_time": "2022-02-09T13:57:15.002Z"
   },
   {
    "duration": 421,
    "start_time": "2022-02-09T13:57:15.005Z"
   },
   {
    "duration": 519,
    "start_time": "2022-02-09T13:57:41.454Z"
   },
   {
    "duration": 5,
    "start_time": "2022-02-09T13:59:26.049Z"
   },
   {
    "duration": 8,
    "start_time": "2022-02-09T14:00:19.817Z"
   },
   {
    "duration": 4,
    "start_time": "2022-02-09T14:03:13.561Z"
   },
   {
    "duration": 5,
    "start_time": "2022-02-09T14:05:39.558Z"
   },
   {
    "duration": 25,
    "start_time": "2022-02-09T14:10:00.518Z"
   },
   {
    "duration": 14,
    "start_time": "2022-02-09T14:10:24.369Z"
   },
   {
    "duration": 5,
    "start_time": "2022-02-09T14:11:12.002Z"
   },
   {
    "duration": 52,
    "start_time": "2022-02-09T14:25:22.287Z"
   },
   {
    "duration": 60,
    "start_time": "2022-02-09T14:25:34.983Z"
   },
   {
    "duration": 906,
    "start_time": "2022-02-09T14:26:11.624Z"
   },
   {
    "duration": 382,
    "start_time": "2022-02-09T14:26:12.532Z"
   },
   {
    "duration": 612,
    "start_time": "2022-02-09T14:26:12.916Z"
   },
   {
    "duration": 3,
    "start_time": "2022-02-09T14:26:13.530Z"
   },
   {
    "duration": 391,
    "start_time": "2022-02-09T14:26:13.535Z"
   },
   {
    "duration": 379,
    "start_time": "2022-02-09T14:26:13.928Z"
   },
   {
    "duration": 7618,
    "start_time": "2022-02-09T14:26:14.309Z"
   },
   {
    "duration": 446,
    "start_time": "2022-02-09T14:26:21.484Z"
   },
   {
    "duration": 446,
    "start_time": "2022-02-09T14:26:21.485Z"
   },
   {
    "duration": 446,
    "start_time": "2022-02-09T14:26:21.486Z"
   },
   {
    "duration": 445,
    "start_time": "2022-02-09T14:26:21.487Z"
   },
   {
    "duration": 445,
    "start_time": "2022-02-09T14:26:21.488Z"
   },
   {
    "duration": 443,
    "start_time": "2022-02-09T14:26:21.491Z"
   },
   {
    "duration": 439,
    "start_time": "2022-02-09T14:26:21.496Z"
   },
   {
    "duration": 438,
    "start_time": "2022-02-09T14:26:21.498Z"
   },
   {
    "duration": 438,
    "start_time": "2022-02-09T14:26:21.499Z"
   },
   {
    "duration": 436,
    "start_time": "2022-02-09T14:26:21.501Z"
   },
   {
    "duration": 435,
    "start_time": "2022-02-09T14:26:21.503Z"
   },
   {
    "duration": 433,
    "start_time": "2022-02-09T14:26:21.506Z"
   },
   {
    "duration": 428,
    "start_time": "2022-02-09T14:26:21.512Z"
   },
   {
    "duration": 426,
    "start_time": "2022-02-09T14:26:21.515Z"
   },
   {
    "duration": 425,
    "start_time": "2022-02-09T14:26:21.517Z"
   },
   {
    "duration": 424,
    "start_time": "2022-02-09T14:26:21.518Z"
   },
   {
    "duration": 424,
    "start_time": "2022-02-09T14:26:21.519Z"
   },
   {
    "duration": 423,
    "start_time": "2022-02-09T14:26:21.521Z"
   },
   {
    "duration": 423,
    "start_time": "2022-02-09T14:26:21.522Z"
   },
   {
    "duration": 418,
    "start_time": "2022-02-09T14:26:21.528Z"
   },
   {
    "duration": 417,
    "start_time": "2022-02-09T14:26:21.531Z"
   },
   {
    "duration": 417,
    "start_time": "2022-02-09T14:26:21.532Z"
   },
   {
    "duration": 417,
    "start_time": "2022-02-09T14:26:21.533Z"
   },
   {
    "duration": 417,
    "start_time": "2022-02-09T14:26:21.534Z"
   },
   {
    "duration": 416,
    "start_time": "2022-02-09T14:26:21.536Z"
   },
   {
    "duration": 416,
    "start_time": "2022-02-09T14:26:21.537Z"
   },
   {
    "duration": 415,
    "start_time": "2022-02-09T14:26:21.539Z"
   },
   {
    "duration": 413,
    "start_time": "2022-02-09T14:26:21.541Z"
   },
   {
    "duration": 410,
    "start_time": "2022-02-09T14:26:21.545Z"
   },
   {
    "duration": 408,
    "start_time": "2022-02-09T14:26:21.548Z"
   },
   {
    "duration": 408,
    "start_time": "2022-02-09T14:26:21.549Z"
   },
   {
    "duration": 408,
    "start_time": "2022-02-09T14:26:21.550Z"
   },
   {
    "duration": 407,
    "start_time": "2022-02-09T14:26:21.552Z"
   },
   {
    "duration": 7177,
    "start_time": "2022-02-09T14:27:34.232Z"
   },
   {
    "duration": 986,
    "start_time": "2022-02-09T14:28:06.959Z"
   },
   {
    "duration": 393,
    "start_time": "2022-02-09T14:28:07.947Z"
   },
   {
    "duration": 632,
    "start_time": "2022-02-09T14:28:08.342Z"
   },
   {
    "duration": 3,
    "start_time": "2022-02-09T14:28:08.976Z"
   },
   {
    "duration": 382,
    "start_time": "2022-02-09T14:28:08.981Z"
   },
   {
    "duration": 380,
    "start_time": "2022-02-09T14:28:09.365Z"
   },
   {
    "duration": 7800,
    "start_time": "2022-02-09T14:28:09.747Z"
   },
   {
    "duration": 449,
    "start_time": "2022-02-09T14:28:17.102Z"
   },
   {
    "duration": 449,
    "start_time": "2022-02-09T14:28:17.103Z"
   },
   {
    "duration": 447,
    "start_time": "2022-02-09T14:28:17.106Z"
   },
   {
    "duration": 448,
    "start_time": "2022-02-09T14:28:17.107Z"
   },
   {
    "duration": 442,
    "start_time": "2022-02-09T14:28:17.114Z"
   },
   {
    "duration": 442,
    "start_time": "2022-02-09T14:28:17.116Z"
   },
   {
    "duration": 440,
    "start_time": "2022-02-09T14:28:17.119Z"
   },
   {
    "duration": 440,
    "start_time": "2022-02-09T14:28:17.120Z"
   },
   {
    "duration": 439,
    "start_time": "2022-02-09T14:28:17.122Z"
   },
   {
    "duration": 440,
    "start_time": "2022-02-09T14:28:17.123Z"
   },
   {
    "duration": 433,
    "start_time": "2022-02-09T14:28:17.130Z"
   },
   {
    "duration": 431,
    "start_time": "2022-02-09T14:28:17.133Z"
   },
   {
    "duration": 429,
    "start_time": "2022-02-09T14:28:17.136Z"
   },
   {
    "duration": 429,
    "start_time": "2022-02-09T14:28:17.137Z"
   },
   {
    "duration": 429,
    "start_time": "2022-02-09T14:28:17.138Z"
   },
   {
    "duration": 428,
    "start_time": "2022-02-09T14:28:17.140Z"
   },
   {
    "duration": 423,
    "start_time": "2022-02-09T14:28:17.146Z"
   },
   {
    "duration": 422,
    "start_time": "2022-02-09T14:28:17.148Z"
   },
   {
    "duration": 420,
    "start_time": "2022-02-09T14:28:17.150Z"
   },
   {
    "duration": 420,
    "start_time": "2022-02-09T14:28:17.151Z"
   },
   {
    "duration": 420,
    "start_time": "2022-02-09T14:28:17.152Z"
   },
   {
    "duration": 420,
    "start_time": "2022-02-09T14:28:17.153Z"
   },
   {
    "duration": 419,
    "start_time": "2022-02-09T14:28:17.155Z"
   },
   {
    "duration": 419,
    "start_time": "2022-02-09T14:28:17.156Z"
   },
   {
    "duration": 417,
    "start_time": "2022-02-09T14:28:17.158Z"
   },
   {
    "duration": 416,
    "start_time": "2022-02-09T14:28:17.160Z"
   },
   {
    "duration": 416,
    "start_time": "2022-02-09T14:28:17.161Z"
   },
   {
    "duration": 416,
    "start_time": "2022-02-09T14:28:17.162Z"
   },
   {
    "duration": 414,
    "start_time": "2022-02-09T14:28:17.164Z"
   },
   {
    "duration": 414,
    "start_time": "2022-02-09T14:28:17.165Z"
   },
   {
    "duration": 414,
    "start_time": "2022-02-09T14:28:17.166Z"
   },
   {
    "duration": 414,
    "start_time": "2022-02-09T14:28:17.167Z"
   },
   {
    "duration": 413,
    "start_time": "2022-02-09T14:28:17.169Z"
   },
   {
    "duration": 8086,
    "start_time": "2022-02-09T14:30:12.151Z"
   },
   {
    "duration": 1042,
    "start_time": "2022-02-09T14:30:39.399Z"
   },
   {
    "duration": 377,
    "start_time": "2022-02-09T14:30:40.443Z"
   },
   {
    "duration": 668,
    "start_time": "2022-02-09T14:30:40.824Z"
   },
   {
    "duration": 5,
    "start_time": "2022-02-09T14:30:41.493Z"
   },
   {
    "duration": 392,
    "start_time": "2022-02-09T14:30:41.501Z"
   },
   {
    "duration": 408,
    "start_time": "2022-02-09T14:30:41.895Z"
   },
   {
    "duration": 7118,
    "start_time": "2022-02-09T14:30:42.305Z"
   },
   {
    "duration": 447,
    "start_time": "2022-02-09T14:30:48.980Z"
   },
   {
    "duration": 445,
    "start_time": "2022-02-09T14:30:48.983Z"
   },
   {
    "duration": 443,
    "start_time": "2022-02-09T14:30:48.986Z"
   },
   {
    "duration": 441,
    "start_time": "2022-02-09T14:30:48.989Z"
   },
   {
    "duration": 439,
    "start_time": "2022-02-09T14:30:48.992Z"
   },
   {
    "duration": 437,
    "start_time": "2022-02-09T14:30:48.994Z"
   },
   {
    "duration": 436,
    "start_time": "2022-02-09T14:30:48.996Z"
   },
   {
    "duration": 435,
    "start_time": "2022-02-09T14:30:48.998Z"
   },
   {
    "duration": 425,
    "start_time": "2022-02-09T14:30:49.010Z"
   },
   {
    "duration": 424,
    "start_time": "2022-02-09T14:30:49.012Z"
   },
   {
    "duration": 422,
    "start_time": "2022-02-09T14:30:49.015Z"
   },
   {
    "duration": 421,
    "start_time": "2022-02-09T14:30:49.017Z"
   },
   {
    "duration": 420,
    "start_time": "2022-02-09T14:30:49.019Z"
   },
   {
    "duration": 419,
    "start_time": "2022-02-09T14:30:49.021Z"
   },
   {
    "duration": 418,
    "start_time": "2022-02-09T14:30:49.022Z"
   },
   {
    "duration": 418,
    "start_time": "2022-02-09T14:30:49.024Z"
   },
   {
    "duration": 417,
    "start_time": "2022-02-09T14:30:49.026Z"
   },
   {
    "duration": 415,
    "start_time": "2022-02-09T14:30:49.029Z"
   },
   {
    "duration": 415,
    "start_time": "2022-02-09T14:30:49.031Z"
   },
   {
    "duration": 414,
    "start_time": "2022-02-09T14:30:49.033Z"
   },
   {
    "duration": 413,
    "start_time": "2022-02-09T14:30:49.035Z"
   },
   {
    "duration": 412,
    "start_time": "2022-02-09T14:30:49.038Z"
   },
   {
    "duration": 407,
    "start_time": "2022-02-09T14:30:49.044Z"
   },
   {
    "duration": 404,
    "start_time": "2022-02-09T14:30:49.048Z"
   },
   {
    "duration": 403,
    "start_time": "2022-02-09T14:30:49.050Z"
   },
   {
    "duration": 401,
    "start_time": "2022-02-09T14:30:49.052Z"
   },
   {
    "duration": 400,
    "start_time": "2022-02-09T14:30:49.054Z"
   },
   {
    "duration": 399,
    "start_time": "2022-02-09T14:30:49.056Z"
   },
   {
    "duration": 399,
    "start_time": "2022-02-09T14:30:49.057Z"
   },
   {
    "duration": 398,
    "start_time": "2022-02-09T14:30:49.059Z"
   },
   {
    "duration": 396,
    "start_time": "2022-02-09T14:30:49.062Z"
   },
   {
    "duration": 395,
    "start_time": "2022-02-09T14:30:49.063Z"
   },
   {
    "duration": 394,
    "start_time": "2022-02-09T14:30:49.065Z"
   },
   {
    "duration": 51,
    "start_time": "2022-02-09T14:31:19.932Z"
   },
   {
    "duration": 7200,
    "start_time": "2022-02-09T14:31:51.232Z"
   },
   {
    "duration": 49,
    "start_time": "2022-02-09T14:33:09.392Z"
   },
   {
    "duration": 305,
    "start_time": "2022-02-09T14:38:26.443Z"
   },
   {
    "duration": 52,
    "start_time": "2022-02-09T14:39:16.014Z"
   },
   {
    "duration": 4973,
    "start_time": "2022-02-09T14:43:35.152Z"
   },
   {
    "duration": 51,
    "start_time": "2022-02-09T14:44:10.929Z"
   },
   {
    "duration": 1141,
    "start_time": "2022-02-09T14:44:51.622Z"
   },
   {
    "duration": 408,
    "start_time": "2022-02-09T14:44:52.766Z"
   },
   {
    "duration": 630,
    "start_time": "2022-02-09T14:44:53.178Z"
   },
   {
    "duration": 5,
    "start_time": "2022-02-09T14:44:53.810Z"
   },
   {
    "duration": 416,
    "start_time": "2022-02-09T14:44:53.817Z"
   },
   {
    "duration": 404,
    "start_time": "2022-02-09T14:44:54.234Z"
   },
   {
    "duration": 60,
    "start_time": "2022-02-09T14:44:54.640Z"
   },
   {
    "duration": 8,
    "start_time": "2022-02-09T14:44:54.702Z"
   },
   {
    "duration": 6,
    "start_time": "2022-02-09T14:44:54.712Z"
   },
   {
    "duration": 384,
    "start_time": "2022-02-09T14:44:54.719Z"
   },
   {
    "duration": 453,
    "start_time": "2022-02-09T14:44:54.652Z"
   },
   {
    "duration": 453,
    "start_time": "2022-02-09T14:44:54.653Z"
   },
   {
    "duration": 453,
    "start_time": "2022-02-09T14:44:54.654Z"
   },
   {
    "duration": 453,
    "start_time": "2022-02-09T14:44:54.655Z"
   },
   {
    "duration": 453,
    "start_time": "2022-02-09T14:44:54.656Z"
   },
   {
    "duration": 441,
    "start_time": "2022-02-09T14:44:54.669Z"
   },
   {
    "duration": 440,
    "start_time": "2022-02-09T14:44:54.671Z"
   },
   {
    "duration": 439,
    "start_time": "2022-02-09T14:44:54.673Z"
   },
   {
    "duration": 439,
    "start_time": "2022-02-09T14:44:54.674Z"
   },
   {
    "duration": 434,
    "start_time": "2022-02-09T14:44:54.680Z"
   },
   {
    "duration": 433,
    "start_time": "2022-02-09T14:44:54.682Z"
   },
   {
    "duration": 432,
    "start_time": "2022-02-09T14:44:54.685Z"
   },
   {
    "duration": 432,
    "start_time": "2022-02-09T14:44:54.686Z"
   },
   {
    "duration": 432,
    "start_time": "2022-02-09T14:44:54.687Z"
   },
   {
    "duration": 431,
    "start_time": "2022-02-09T14:44:54.689Z"
   },
   {
    "duration": 431,
    "start_time": "2022-02-09T14:44:54.690Z"
   },
   {
    "duration": 430,
    "start_time": "2022-02-09T14:44:54.692Z"
   },
   {
    "duration": 425,
    "start_time": "2022-02-09T14:44:54.698Z"
   },
   {
    "duration": 425,
    "start_time": "2022-02-09T14:44:54.700Z"
   },
   {
    "duration": 424,
    "start_time": "2022-02-09T14:44:54.702Z"
   },
   {
    "duration": 423,
    "start_time": "2022-02-09T14:44:54.704Z"
   },
   {
    "duration": 423,
    "start_time": "2022-02-09T14:44:54.705Z"
   },
   {
    "duration": 423,
    "start_time": "2022-02-09T14:44:54.706Z"
   },
   {
    "duration": 422,
    "start_time": "2022-02-09T14:44:54.708Z"
   },
   {
    "duration": 418,
    "start_time": "2022-02-09T14:44:54.714Z"
   },
   {
    "duration": 417,
    "start_time": "2022-02-09T14:44:54.716Z"
   },
   {
    "duration": 415,
    "start_time": "2022-02-09T14:44:54.719Z"
   },
   {
    "duration": 415,
    "start_time": "2022-02-09T14:44:54.720Z"
   },
   {
    "duration": 414,
    "start_time": "2022-02-09T14:44:54.722Z"
   },
   {
    "duration": 414,
    "start_time": "2022-02-09T14:44:54.723Z"
   },
   {
    "duration": 114,
    "start_time": "2022-02-09T14:46:00.915Z"
   },
   {
    "duration": 17,
    "start_time": "2022-02-09T14:46:52.932Z"
   },
   {
    "duration": 7,
    "start_time": "2022-02-09T14:47:11.443Z"
   },
   {
    "duration": 1362,
    "start_time": "2022-02-09T14:47:23.650Z"
   },
   {
    "duration": 375,
    "start_time": "2022-02-09T14:47:25.015Z"
   },
   {
    "duration": 621,
    "start_time": "2022-02-09T14:47:25.392Z"
   },
   {
    "duration": 5,
    "start_time": "2022-02-09T14:47:26.016Z"
   },
   {
    "duration": 415,
    "start_time": "2022-02-09T14:47:26.023Z"
   },
   {
    "duration": 384,
    "start_time": "2022-02-09T14:47:26.440Z"
   },
   {
    "duration": 119,
    "start_time": "2022-02-09T14:47:26.826Z"
   },
   {
    "duration": 12,
    "start_time": "2022-02-09T14:47:26.947Z"
   },
   {
    "duration": 6,
    "start_time": "2022-02-09T14:47:26.972Z"
   },
   {
    "duration": 54,
    "start_time": "2022-02-09T14:47:26.980Z"
   },
   {
    "duration": 51,
    "start_time": "2022-02-09T14:47:27.036Z"
   },
   {
    "duration": 7,
    "start_time": "2022-02-09T14:47:27.088Z"
   },
   {
    "duration": 4,
    "start_time": "2022-02-09T14:47:27.096Z"
   },
   {
    "duration": 27,
    "start_time": "2022-02-09T14:47:27.102Z"
   },
   {
    "duration": 5,
    "start_time": "2022-02-09T14:47:27.130Z"
   },
   {
    "duration": 46,
    "start_time": "2022-02-09T14:47:27.136Z"
   },
   {
    "duration": 5,
    "start_time": "2022-02-09T14:47:27.183Z"
   },
   {
    "duration": 12,
    "start_time": "2022-02-09T14:47:27.190Z"
   },
   {
    "duration": 5,
    "start_time": "2022-02-09T14:47:27.203Z"
   },
   {
    "duration": 9,
    "start_time": "2022-02-09T14:47:27.210Z"
   },
   {
    "duration": 12,
    "start_time": "2022-02-09T14:47:27.220Z"
   },
   {
    "duration": 40,
    "start_time": "2022-02-09T14:47:27.234Z"
   },
   {
    "duration": 8,
    "start_time": "2022-02-09T14:47:27.276Z"
   },
   {
    "duration": 11,
    "start_time": "2022-02-09T14:47:27.286Z"
   },
   {
    "duration": 12,
    "start_time": "2022-02-09T14:47:27.299Z"
   },
   {
    "duration": 17,
    "start_time": "2022-02-09T14:47:27.312Z"
   },
   {
    "duration": 2,
    "start_time": "2022-02-09T14:47:27.332Z"
   },
   {
    "duration": 43,
    "start_time": "2022-02-09T14:47:27.336Z"
   },
   {
    "duration": 7,
    "start_time": "2022-02-09T14:47:27.380Z"
   },
   {
    "duration": 7,
    "start_time": "2022-02-09T14:47:27.388Z"
   },
   {
    "duration": 13,
    "start_time": "2022-02-09T14:47:27.396Z"
   },
   {
    "duration": 7,
    "start_time": "2022-02-09T14:47:27.411Z"
   },
   {
    "duration": 24,
    "start_time": "2022-02-09T14:47:27.420Z"
   },
   {
    "duration": 4,
    "start_time": "2022-02-09T14:47:27.445Z"
   },
   {
    "duration": 8,
    "start_time": "2022-02-09T14:47:27.450Z"
   },
   {
    "duration": 18,
    "start_time": "2022-02-09T14:47:27.459Z"
   },
   {
    "duration": 529,
    "start_time": "2022-02-09T14:47:27.478Z"
   },
   {
    "duration": 5,
    "start_time": "2022-02-09T14:47:28.008Z"
   },
   {
    "duration": 11,
    "start_time": "2022-02-09T14:47:28.014Z"
   },
   {
    "duration": 6,
    "start_time": "2022-02-09T14:47:28.027Z"
   },
   {
    "duration": 113,
    "start_time": "2022-02-09T15:07:36.693Z"
   },
   {
    "duration": 1003,
    "start_time": "2022-02-09T15:08:04.175Z"
   },
   {
    "duration": 365,
    "start_time": "2022-02-09T15:08:05.180Z"
   },
   {
    "duration": 643,
    "start_time": "2022-02-09T15:08:05.547Z"
   },
   {
    "duration": 4,
    "start_time": "2022-02-09T15:08:06.192Z"
   },
   {
    "duration": 414,
    "start_time": "2022-02-09T15:08:06.198Z"
   },
   {
    "duration": 396,
    "start_time": "2022-02-09T15:08:06.613Z"
   },
   {
    "duration": 116,
    "start_time": "2022-02-09T15:08:07.011Z"
   },
   {
    "duration": 13,
    "start_time": "2022-02-09T15:08:07.130Z"
   },
   {
    "duration": 63,
    "start_time": "2022-02-09T15:08:07.144Z"
   },
   {
    "duration": 26,
    "start_time": "2022-02-09T15:08:07.208Z"
   },
   {
    "duration": 6,
    "start_time": "2022-02-09T15:08:07.236Z"
   },
   {
    "duration": 19,
    "start_time": "2022-02-09T15:08:07.244Z"
   },
   {
    "duration": 74,
    "start_time": "2022-02-09T15:08:07.265Z"
   },
   {
    "duration": 16,
    "start_time": "2022-02-09T15:08:07.341Z"
   },
   {
    "duration": 35,
    "start_time": "2022-02-09T15:08:07.358Z"
   },
   {
    "duration": 14,
    "start_time": "2022-02-09T15:08:07.394Z"
   },
   {
    "duration": 22,
    "start_time": "2022-02-09T15:08:07.409Z"
   },
   {
    "duration": 13,
    "start_time": "2022-02-09T15:08:07.433Z"
   },
   {
    "duration": 35,
    "start_time": "2022-02-09T15:08:07.448Z"
   },
   {
    "duration": 22,
    "start_time": "2022-02-09T15:08:07.485Z"
   },
   {
    "duration": 20,
    "start_time": "2022-02-09T15:08:07.509Z"
   },
   {
    "duration": 14,
    "start_time": "2022-02-09T15:08:07.531Z"
   },
   {
    "duration": 27,
    "start_time": "2022-02-09T15:08:07.548Z"
   },
   {
    "duration": 26,
    "start_time": "2022-02-09T15:08:07.577Z"
   },
   {
    "duration": 18,
    "start_time": "2022-02-09T15:08:07.605Z"
   },
   {
    "duration": 10,
    "start_time": "2022-02-09T15:08:07.625Z"
   },
   {
    "duration": 39,
    "start_time": "2022-02-09T15:08:07.636Z"
   },
   {
    "duration": 7,
    "start_time": "2022-02-09T15:08:07.677Z"
   },
   {
    "duration": 15,
    "start_time": "2022-02-09T15:08:07.685Z"
   },
   {
    "duration": 26,
    "start_time": "2022-02-09T15:08:07.702Z"
   },
   {
    "duration": 11,
    "start_time": "2022-02-09T15:08:07.730Z"
   },
   {
    "duration": 33,
    "start_time": "2022-02-09T15:08:07.743Z"
   },
   {
    "duration": 5,
    "start_time": "2022-02-09T15:08:07.777Z"
   },
   {
    "duration": 28,
    "start_time": "2022-02-09T15:08:07.783Z"
   },
   {
    "duration": 23,
    "start_time": "2022-02-09T15:08:07.812Z"
   },
   {
    "duration": 551,
    "start_time": "2022-02-09T15:08:07.837Z"
   },
   {
    "duration": 4,
    "start_time": "2022-02-09T15:08:08.390Z"
   },
   {
    "duration": 28,
    "start_time": "2022-02-09T15:08:08.396Z"
   },
   {
    "duration": 14,
    "start_time": "2022-02-09T15:08:08.425Z"
   },
   {
    "duration": 703,
    "start_time": "2022-02-09T16:10:37.839Z"
   },
   {
    "duration": 691,
    "start_time": "2022-02-09T16:11:18.303Z"
   },
   {
    "duration": 689,
    "start_time": "2022-02-09T16:11:37.866Z"
   },
   {
    "duration": 687,
    "start_time": "2022-02-09T16:14:44.475Z"
   },
   {
    "duration": 715,
    "start_time": "2022-02-09T16:15:20.465Z"
   },
   {
    "duration": 667,
    "start_time": "2022-02-09T16:15:47.043Z"
   },
   {
    "duration": 994,
    "start_time": "2022-02-10T11:22:06.051Z"
   },
   {
    "duration": 469,
    "start_time": "2022-02-10T11:22:07.047Z"
   },
   {
    "duration": 661,
    "start_time": "2022-02-10T11:22:07.517Z"
   },
   {
    "duration": 5,
    "start_time": "2022-02-10T11:22:08.180Z"
   },
   {
    "duration": 128,
    "start_time": "2022-02-10T11:22:08.187Z"
   },
   {
    "duration": 13,
    "start_time": "2022-02-10T11:22:08.316Z"
   },
   {
    "duration": 73,
    "start_time": "2022-02-10T11:22:08.331Z"
   },
   {
    "duration": 26,
    "start_time": "2022-02-10T11:22:08.406Z"
   },
   {
    "duration": 7,
    "start_time": "2022-02-10T11:22:08.436Z"
   },
   {
    "duration": 5,
    "start_time": "2022-02-10T11:22:08.445Z"
   },
   {
    "duration": 47,
    "start_time": "2022-02-10T11:22:08.451Z"
   },
   {
    "duration": 17,
    "start_time": "2022-02-10T11:22:08.500Z"
   },
   {
    "duration": 5,
    "start_time": "2022-02-10T11:22:08.518Z"
   },
   {
    "duration": 12,
    "start_time": "2022-02-10T11:22:08.524Z"
   },
   {
    "duration": 7,
    "start_time": "2022-02-10T11:22:08.537Z"
   },
   {
    "duration": 11,
    "start_time": "2022-02-10T11:22:08.571Z"
   },
   {
    "duration": 10,
    "start_time": "2022-02-10T11:22:08.584Z"
   },
   {
    "duration": 3,
    "start_time": "2022-02-10T11:22:08.596Z"
   },
   {
    "duration": 8,
    "start_time": "2022-02-10T11:22:08.601Z"
   },
   {
    "duration": 15,
    "start_time": "2022-02-10T11:22:08.611Z"
   },
   {
    "duration": 13,
    "start_time": "2022-02-10T11:22:08.627Z"
   },
   {
    "duration": 41,
    "start_time": "2022-02-10T11:22:08.641Z"
   },
   {
    "duration": 3,
    "start_time": "2022-02-10T11:22:08.684Z"
   },
   {
    "duration": 21,
    "start_time": "2022-02-10T11:22:08.688Z"
   },
   {
    "duration": 5,
    "start_time": "2022-02-10T11:22:08.711Z"
   },
   {
    "duration": 9,
    "start_time": "2022-02-10T11:22:08.718Z"
   },
   {
    "duration": 9,
    "start_time": "2022-02-10T11:22:08.729Z"
   },
   {
    "duration": 8,
    "start_time": "2022-02-10T11:22:08.739Z"
   },
   {
    "duration": 35,
    "start_time": "2022-02-10T11:22:08.749Z"
   },
   {
    "duration": 4,
    "start_time": "2022-02-10T11:22:08.785Z"
   },
   {
    "duration": 9,
    "start_time": "2022-02-10T11:22:08.791Z"
   },
   {
    "duration": 10,
    "start_time": "2022-02-10T11:22:08.801Z"
   },
   {
    "duration": 523,
    "start_time": "2022-02-10T11:22:08.812Z"
   },
   {
    "duration": 5,
    "start_time": "2022-02-10T11:22:09.337Z"
   },
   {
    "duration": 8,
    "start_time": "2022-02-10T11:22:09.344Z"
   },
   {
    "duration": 19,
    "start_time": "2022-02-10T11:22:09.354Z"
   },
   {
    "duration": 1112,
    "start_time": "2022-02-10T11:40:20.823Z"
   },
   {
    "duration": 373,
    "start_time": "2022-02-10T11:40:21.937Z"
   },
   {
    "duration": 670,
    "start_time": "2022-02-10T11:40:22.311Z"
   },
   {
    "duration": 4,
    "start_time": "2022-02-10T11:40:22.983Z"
   },
   {
    "duration": 124,
    "start_time": "2022-02-10T11:40:22.988Z"
   },
   {
    "duration": 13,
    "start_time": "2022-02-10T11:40:23.113Z"
   },
   {
    "duration": 70,
    "start_time": "2022-02-10T11:40:23.127Z"
   },
   {
    "duration": 27,
    "start_time": "2022-02-10T11:40:23.198Z"
   },
   {
    "duration": 7,
    "start_time": "2022-02-10T11:40:23.228Z"
   },
   {
    "duration": 5,
    "start_time": "2022-02-10T11:40:23.237Z"
   },
   {
    "duration": 49,
    "start_time": "2022-02-10T11:40:23.243Z"
   },
   {
    "duration": 17,
    "start_time": "2022-02-10T11:40:23.293Z"
   },
   {
    "duration": 4,
    "start_time": "2022-02-10T11:40:23.312Z"
   },
   {
    "duration": 11,
    "start_time": "2022-02-10T11:40:23.318Z"
   },
   {
    "duration": 4,
    "start_time": "2022-02-10T11:40:23.331Z"
   },
   {
    "duration": 40,
    "start_time": "2022-02-10T11:40:23.337Z"
   },
   {
    "duration": 10,
    "start_time": "2022-02-10T11:40:23.378Z"
   },
   {
    "duration": 4,
    "start_time": "2022-02-10T11:40:23.389Z"
   },
   {
    "duration": 7,
    "start_time": "2022-02-10T11:40:23.395Z"
   },
   {
    "duration": 15,
    "start_time": "2022-02-10T11:40:23.404Z"
   },
   {
    "duration": 13,
    "start_time": "2022-02-10T11:40:23.420Z"
   },
   {
    "duration": 15,
    "start_time": "2022-02-10T11:40:23.435Z"
   },
   {
    "duration": 4,
    "start_time": "2022-02-10T11:40:23.471Z"
   },
   {
    "duration": 13,
    "start_time": "2022-02-10T11:40:23.476Z"
   },
   {
    "duration": 20255,
    "start_time": "2022-02-10T11:40:23.491Z"
   },
   {
    "duration": 6,
    "start_time": "2022-02-10T11:40:43.742Z"
   },
   {
    "duration": 5,
    "start_time": "2022-02-10T11:40:43.744Z"
   },
   {
    "duration": 5,
    "start_time": "2022-02-10T11:40:43.745Z"
   },
   {
    "duration": 4,
    "start_time": "2022-02-10T11:40:43.747Z"
   },
   {
    "duration": 4,
    "start_time": "2022-02-10T11:40:43.748Z"
   },
   {
    "duration": 3,
    "start_time": "2022-02-10T11:40:43.749Z"
   },
   {
    "duration": 3,
    "start_time": "2022-02-10T11:40:43.750Z"
   },
   {
    "duration": -7,
    "start_time": "2022-02-10T11:40:43.761Z"
   },
   {
    "duration": -8,
    "start_time": "2022-02-10T11:40:43.763Z"
   },
   {
    "duration": -9,
    "start_time": "2022-02-10T11:40:43.765Z"
   },
   {
    "duration": -9,
    "start_time": "2022-02-10T11:40:43.766Z"
   },
   {
    "duration": -8,
    "start_time": "2022-02-10T11:41:26.064Z"
   },
   {
    "duration": -9,
    "start_time": "2022-02-10T11:41:26.066Z"
   },
   {
    "duration": -10,
    "start_time": "2022-02-10T11:41:26.068Z"
   },
   {
    "duration": -10,
    "start_time": "2022-02-10T11:41:26.069Z"
   },
   {
    "duration": -11,
    "start_time": "2022-02-10T11:41:26.071Z"
   },
   {
    "duration": -11,
    "start_time": "2022-02-10T11:41:26.072Z"
   },
   {
    "duration": -12,
    "start_time": "2022-02-10T11:41:26.073Z"
   },
   {
    "duration": -13,
    "start_time": "2022-02-10T11:41:26.075Z"
   },
   {
    "duration": -16,
    "start_time": "2022-02-10T11:41:26.079Z"
   },
   {
    "duration": -22,
    "start_time": "2022-02-10T11:41:26.086Z"
   },
   {
    "duration": -24,
    "start_time": "2022-02-10T11:41:26.089Z"
   },
   {
    "duration": -27,
    "start_time": "2022-02-10T11:41:26.093Z"
   },
   {
    "duration": -28,
    "start_time": "2022-02-10T11:41:26.096Z"
   },
   {
    "duration": -29,
    "start_time": "2022-02-10T11:41:26.098Z"
   },
   {
    "duration": -30,
    "start_time": "2022-02-10T11:41:26.099Z"
   },
   {
    "duration": -31,
    "start_time": "2022-02-10T11:41:26.101Z"
   },
   {
    "duration": -31,
    "start_time": "2022-02-10T11:41:26.102Z"
   },
   {
    "duration": -31,
    "start_time": "2022-02-10T11:41:26.103Z"
   },
   {
    "duration": -31,
    "start_time": "2022-02-10T11:41:26.104Z"
   },
   {
    "duration": -30,
    "start_time": "2022-02-10T11:41:26.105Z"
   },
   {
    "duration": -30,
    "start_time": "2022-02-10T11:41:26.106Z"
   },
   {
    "duration": -32,
    "start_time": "2022-02-10T11:41:26.108Z"
   },
   {
    "duration": -32,
    "start_time": "2022-02-10T11:41:26.109Z"
   },
   {
    "duration": -32,
    "start_time": "2022-02-10T11:41:26.110Z"
   },
   {
    "duration": -32,
    "start_time": "2022-02-10T11:41:26.111Z"
   },
   {
    "duration": -33,
    "start_time": "2022-02-10T11:41:26.113Z"
   },
   {
    "duration": -33,
    "start_time": "2022-02-10T11:41:26.114Z"
   },
   {
    "duration": -34,
    "start_time": "2022-02-10T11:41:26.115Z"
   },
   {
    "duration": -35,
    "start_time": "2022-02-10T11:41:26.117Z"
   },
   {
    "duration": -35,
    "start_time": "2022-02-10T11:41:26.118Z"
   },
   {
    "duration": -35,
    "start_time": "2022-02-10T11:41:26.119Z"
   },
   {
    "duration": -35,
    "start_time": "2022-02-10T11:41:26.120Z"
   },
   {
    "duration": -35,
    "start_time": "2022-02-10T11:41:26.121Z"
   },
   {
    "duration": -36,
    "start_time": "2022-02-10T11:41:26.123Z"
   },
   {
    "duration": -37,
    "start_time": "2022-02-10T11:41:26.124Z"
   },
   {
    "duration": -42,
    "start_time": "2022-02-10T11:41:26.130Z"
   },
   {
    "duration": 976,
    "start_time": "2022-02-10T11:41:50.121Z"
   },
   {
    "duration": 370,
    "start_time": "2022-02-10T11:41:51.099Z"
   },
   {
    "duration": 634,
    "start_time": "2022-02-10T11:41:51.473Z"
   },
   {
    "duration": 5,
    "start_time": "2022-02-10T11:41:52.108Z"
   },
   {
    "duration": 134,
    "start_time": "2022-02-10T11:41:52.114Z"
   },
   {
    "duration": 21,
    "start_time": "2022-02-10T11:41:52.250Z"
   },
   {
    "duration": 54,
    "start_time": "2022-02-10T11:41:52.274Z"
   },
   {
    "duration": 42,
    "start_time": "2022-02-10T11:41:52.330Z"
   },
   {
    "duration": 8,
    "start_time": "2022-02-10T11:41:52.373Z"
   },
   {
    "duration": 7,
    "start_time": "2022-02-10T11:41:52.382Z"
   },
   {
    "duration": 29,
    "start_time": "2022-02-10T11:41:52.391Z"
   },
   {
    "duration": 17,
    "start_time": "2022-02-10T11:41:52.422Z"
   },
   {
    "duration": 5,
    "start_time": "2022-02-10T11:41:52.440Z"
   },
   {
    "duration": 34,
    "start_time": "2022-02-10T11:41:52.447Z"
   },
   {
    "duration": 6,
    "start_time": "2022-02-10T11:41:52.482Z"
   },
   {
    "duration": 10,
    "start_time": "2022-02-10T11:41:52.490Z"
   },
   {
    "duration": 9,
    "start_time": "2022-02-10T11:41:52.502Z"
   },
   {
    "duration": 6,
    "start_time": "2022-02-10T11:41:52.512Z"
   },
   {
    "duration": 11,
    "start_time": "2022-02-10T11:41:52.519Z"
   },
   {
    "duration": 16,
    "start_time": "2022-02-10T11:41:52.531Z"
   },
   {
    "duration": 31,
    "start_time": "2022-02-10T11:41:52.548Z"
   },
   {
    "duration": 13,
    "start_time": "2022-02-10T11:41:52.582Z"
   },
   {
    "duration": 3,
    "start_time": "2022-02-10T11:41:52.597Z"
   },
   {
    "duration": 18,
    "start_time": "2022-02-10T11:41:52.601Z"
   },
   {
    "duration": 10,
    "start_time": "2022-02-10T11:41:52.620Z"
   },
   {
    "duration": 9,
    "start_time": "2022-02-10T11:41:52.632Z"
   },
   {
    "duration": 6755,
    "start_time": "2022-02-10T11:41:52.642Z"
   },
   {
    "duration": -2,
    "start_time": "2022-02-10T11:41:59.401Z"
   },
   {
    "duration": -17,
    "start_time": "2022-02-10T11:41:59.416Z"
   },
   {
    "duration": -18,
    "start_time": "2022-02-10T11:41:59.418Z"
   },
   {
    "duration": -18,
    "start_time": "2022-02-10T11:41:59.419Z"
   },
   {
    "duration": -19,
    "start_time": "2022-02-10T11:41:59.421Z"
   },
   {
    "duration": -19,
    "start_time": "2022-02-10T11:41:59.422Z"
   },
   {
    "duration": -19,
    "start_time": "2022-02-10T11:41:59.423Z"
   },
   {
    "duration": -20,
    "start_time": "2022-02-10T11:41:59.424Z"
   },
   {
    "duration": -21,
    "start_time": "2022-02-10T11:41:59.426Z"
   },
   {
    "duration": 956,
    "start_time": "2022-02-10T11:42:33.889Z"
   },
   {
    "duration": 373,
    "start_time": "2022-02-10T11:42:34.846Z"
   },
   {
    "duration": 658,
    "start_time": "2022-02-10T11:42:35.222Z"
   },
   {
    "duration": 5,
    "start_time": "2022-02-10T11:42:35.881Z"
   },
   {
    "duration": 122,
    "start_time": "2022-02-10T11:42:35.887Z"
   },
   {
    "duration": 12,
    "start_time": "2022-02-10T11:42:36.011Z"
   },
   {
    "duration": 71,
    "start_time": "2022-02-10T11:42:36.024Z"
   },
   {
    "duration": 28,
    "start_time": "2022-02-10T11:42:36.096Z"
   },
   {
    "duration": 7,
    "start_time": "2022-02-10T11:42:36.127Z"
   },
   {
    "duration": 5,
    "start_time": "2022-02-10T11:42:36.135Z"
   },
   {
    "duration": 48,
    "start_time": "2022-02-10T11:42:36.141Z"
   },
   {
    "duration": 18,
    "start_time": "2022-02-10T11:42:36.191Z"
   },
   {
    "duration": 5,
    "start_time": "2022-02-10T11:42:36.210Z"
   },
   {
    "duration": 12,
    "start_time": "2022-02-10T11:42:36.216Z"
   },
   {
    "duration": 4,
    "start_time": "2022-02-10T11:42:36.229Z"
   },
   {
    "duration": 37,
    "start_time": "2022-02-10T11:42:36.235Z"
   },
   {
    "duration": 9,
    "start_time": "2022-02-10T11:42:36.273Z"
   },
   {
    "duration": 4,
    "start_time": "2022-02-10T11:42:36.284Z"
   },
   {
    "duration": 7,
    "start_time": "2022-02-10T11:42:36.289Z"
   },
   {
    "duration": 14,
    "start_time": "2022-02-10T11:42:36.297Z"
   },
   {
    "duration": 9,
    "start_time": "2022-02-10T11:42:36.312Z"
   },
   {
    "duration": 14,
    "start_time": "2022-02-10T11:42:36.322Z"
   },
   {
    "duration": 2,
    "start_time": "2022-02-10T11:42:36.338Z"
   },
   {
    "duration": 12,
    "start_time": "2022-02-10T11:42:36.371Z"
   },
   {
    "duration": 7,
    "start_time": "2022-02-10T11:42:36.384Z"
   },
   {
    "duration": 7,
    "start_time": "2022-02-10T11:42:36.393Z"
   },
   {
    "duration": 7,
    "start_time": "2022-02-10T11:42:36.403Z"
   },
   {
    "duration": 15,
    "start_time": "2022-02-10T11:42:36.412Z"
   },
   {
    "duration": 18,
    "start_time": "2022-02-10T11:42:36.429Z"
   },
   {
    "duration": 7471,
    "start_time": "2022-02-10T11:42:36.448Z"
   },
   {
    "duration": 5,
    "start_time": "2022-02-10T11:42:43.915Z"
   },
   {
    "duration": 1,
    "start_time": "2022-02-10T11:42:43.920Z"
   },
   {
    "duration": -2,
    "start_time": "2022-02-10T11:42:43.924Z"
   },
   {
    "duration": -3,
    "start_time": "2022-02-10T11:42:43.926Z"
   },
   {
    "duration": -4,
    "start_time": "2022-02-10T11:42:43.928Z"
   },
   {
    "duration": -5,
    "start_time": "2022-02-10T11:42:43.929Z"
   },
   {
    "duration": 969,
    "start_time": "2022-02-10T11:43:49.369Z"
   },
   {
    "duration": 371,
    "start_time": "2022-02-10T11:43:50.340Z"
   },
   {
    "duration": 695,
    "start_time": "2022-02-10T11:43:50.714Z"
   },
   {
    "duration": 5,
    "start_time": "2022-02-10T11:43:51.411Z"
   },
   {
    "duration": 141,
    "start_time": "2022-02-10T11:43:51.418Z"
   },
   {
    "duration": 18,
    "start_time": "2022-02-10T11:43:51.561Z"
   },
   {
    "duration": 52,
    "start_time": "2022-02-10T11:43:51.580Z"
   },
   {
    "duration": 52,
    "start_time": "2022-02-10T11:43:51.634Z"
   },
   {
    "duration": 7,
    "start_time": "2022-02-10T11:43:51.689Z"
   },
   {
    "duration": 5,
    "start_time": "2022-02-10T11:43:51.698Z"
   },
   {
    "duration": 28,
    "start_time": "2022-02-10T11:43:51.705Z"
   },
   {
    "duration": 41,
    "start_time": "2022-02-10T11:43:51.735Z"
   },
   {
    "duration": 5,
    "start_time": "2022-02-10T11:43:51.777Z"
   },
   {
    "duration": 11,
    "start_time": "2022-02-10T11:43:51.784Z"
   },
   {
    "duration": 4,
    "start_time": "2022-02-10T11:43:51.797Z"
   },
   {
    "duration": 13,
    "start_time": "2022-02-10T11:43:51.802Z"
   },
   {
    "duration": 10,
    "start_time": "2022-02-10T11:43:51.817Z"
   },
   {
    "duration": 5,
    "start_time": "2022-02-10T11:43:51.829Z"
   },
   {
    "duration": 38,
    "start_time": "2022-02-10T11:43:51.836Z"
   },
   {
    "duration": 11,
    "start_time": "2022-02-10T11:43:51.875Z"
   },
   {
    "duration": 11,
    "start_time": "2022-02-10T11:43:51.888Z"
   },
   {
    "duration": 14,
    "start_time": "2022-02-10T11:43:51.900Z"
   },
   {
    "duration": 3,
    "start_time": "2022-02-10T11:43:51.916Z"
   },
   {
    "duration": 16,
    "start_time": "2022-02-10T11:43:51.920Z"
   },
   {
    "duration": 9,
    "start_time": "2022-02-10T11:43:51.937Z"
   },
   {
    "duration": 27,
    "start_time": "2022-02-10T11:43:51.947Z"
   },
   {
    "duration": 6,
    "start_time": "2022-02-10T11:43:51.977Z"
   },
   {
    "duration": 6,
    "start_time": "2022-02-10T11:43:51.984Z"
   },
   {
    "duration": 19,
    "start_time": "2022-02-10T11:43:51.992Z"
   },
   {
    "duration": 6546,
    "start_time": "2022-02-10T11:43:52.013Z"
   },
   {
    "duration": 0,
    "start_time": "2022-02-10T11:43:58.560Z"
   },
   {
    "duration": -1,
    "start_time": "2022-02-10T11:43:58.562Z"
   },
   {
    "duration": -1,
    "start_time": "2022-02-10T11:43:58.563Z"
   },
   {
    "duration": -2,
    "start_time": "2022-02-10T11:43:58.565Z"
   },
   {
    "duration": -4,
    "start_time": "2022-02-10T11:43:58.568Z"
   },
   {
    "duration": -10,
    "start_time": "2022-02-10T11:43:58.575Z"
   },
   {
    "duration": 1082,
    "start_time": "2022-02-10T11:47:06.852Z"
   },
   {
    "duration": 365,
    "start_time": "2022-02-10T11:47:07.936Z"
   },
   {
    "duration": 607,
    "start_time": "2022-02-10T11:47:08.303Z"
   },
   {
    "duration": 5,
    "start_time": "2022-02-10T11:47:08.911Z"
   },
   {
    "duration": 137,
    "start_time": "2022-02-10T11:47:08.917Z"
   },
   {
    "duration": 21,
    "start_time": "2022-02-10T11:47:09.056Z"
   },
   {
    "duration": 51,
    "start_time": "2022-02-10T11:47:09.079Z"
   },
   {
    "duration": 44,
    "start_time": "2022-02-10T11:47:09.132Z"
   },
   {
    "duration": 6,
    "start_time": "2022-02-10T11:47:09.178Z"
   },
   {
    "duration": 4,
    "start_time": "2022-02-10T11:47:09.186Z"
   },
   {
    "duration": 28,
    "start_time": "2022-02-10T11:47:09.191Z"
   },
   {
    "duration": 17,
    "start_time": "2022-02-10T11:47:09.220Z"
   },
   {
    "duration": 33,
    "start_time": "2022-02-10T11:47:09.238Z"
   },
   {
    "duration": 13,
    "start_time": "2022-02-10T11:47:09.273Z"
   },
   {
    "duration": 5,
    "start_time": "2022-02-10T11:47:09.288Z"
   },
   {
    "duration": 11,
    "start_time": "2022-02-10T11:47:09.294Z"
   },
   {
    "duration": 9,
    "start_time": "2022-02-10T11:47:09.306Z"
   },
   {
    "duration": 3,
    "start_time": "2022-02-10T11:47:09.317Z"
   },
   {
    "duration": 10,
    "start_time": "2022-02-10T11:47:09.321Z"
   },
   {
    "duration": 42,
    "start_time": "2022-02-10T11:47:09.332Z"
   },
   {
    "duration": 10,
    "start_time": "2022-02-10T11:47:09.375Z"
   },
   {
    "duration": 14,
    "start_time": "2022-02-10T11:47:09.387Z"
   },
   {
    "duration": 3,
    "start_time": "2022-02-10T11:47:09.405Z"
   },
   {
    "duration": 22,
    "start_time": "2022-02-10T11:47:09.410Z"
   },
   {
    "duration": 7,
    "start_time": "2022-02-10T11:47:09.434Z"
   },
   {
    "duration": 34,
    "start_time": "2022-02-10T11:47:09.442Z"
   },
   {
    "duration": 7,
    "start_time": "2022-02-10T11:47:09.478Z"
   },
   {
    "duration": 16,
    "start_time": "2022-02-10T11:47:09.486Z"
   },
   {
    "duration": 23,
    "start_time": "2022-02-10T11:47:09.504Z"
   },
   {
    "duration": 4,
    "start_time": "2022-02-10T11:47:09.529Z"
   },
   {
    "duration": 10,
    "start_time": "2022-02-10T11:47:09.534Z"
   },
   {
    "duration": 13,
    "start_time": "2022-02-10T11:47:09.545Z"
   },
   {
    "duration": 534,
    "start_time": "2022-02-10T11:47:09.560Z"
   },
   {
    "duration": 5,
    "start_time": "2022-02-10T11:47:10.096Z"
   },
   {
    "duration": 10,
    "start_time": "2022-02-10T11:47:10.103Z"
   },
   {
    "duration": 6,
    "start_time": "2022-02-10T11:47:10.114Z"
   },
   {
    "duration": 24,
    "start_time": "2022-02-10T12:10:10.025Z"
   },
   {
    "duration": 17,
    "start_time": "2022-02-10T12:12:30.961Z"
   },
   {
    "duration": 930,
    "start_time": "2022-02-10T12:13:02.011Z"
   },
   {
    "duration": 355,
    "start_time": "2022-02-10T12:13:02.943Z"
   },
   {
    "duration": 617,
    "start_time": "2022-02-10T12:13:03.300Z"
   },
   {
    "duration": 4,
    "start_time": "2022-02-10T12:13:03.919Z"
   },
   {
    "duration": 138,
    "start_time": "2022-02-10T12:13:03.924Z"
   },
   {
    "duration": 18,
    "start_time": "2022-02-10T12:13:04.063Z"
   },
   {
    "duration": 55,
    "start_time": "2022-02-10T12:13:04.082Z"
   },
   {
    "duration": 42,
    "start_time": "2022-02-10T12:13:04.139Z"
   },
   {
    "duration": 7,
    "start_time": "2022-02-10T12:13:04.183Z"
   },
   {
    "duration": 5,
    "start_time": "2022-02-10T12:13:04.191Z"
   },
   {
    "duration": 29,
    "start_time": "2022-02-10T12:13:04.198Z"
   },
   {
    "duration": 16,
    "start_time": "2022-02-10T12:13:04.228Z"
   },
   {
    "duration": 29,
    "start_time": "2022-02-10T12:13:04.246Z"
   },
   {
    "duration": 12,
    "start_time": "2022-02-10T12:13:04.277Z"
   },
   {
    "duration": 5,
    "start_time": "2022-02-10T12:13:04.290Z"
   },
   {
    "duration": 10,
    "start_time": "2022-02-10T12:13:04.297Z"
   },
   {
    "duration": 9,
    "start_time": "2022-02-10T12:13:04.308Z"
   },
   {
    "duration": 5,
    "start_time": "2022-02-10T12:13:04.318Z"
   },
   {
    "duration": 11,
    "start_time": "2022-02-10T12:13:04.324Z"
   },
   {
    "duration": 39,
    "start_time": "2022-02-10T12:13:04.337Z"
   },
   {
    "duration": 9,
    "start_time": "2022-02-10T12:13:04.377Z"
   },
   {
    "duration": 15,
    "start_time": "2022-02-10T12:13:04.387Z"
   },
   {
    "duration": 2,
    "start_time": "2022-02-10T12:13:04.404Z"
   },
   {
    "duration": 27,
    "start_time": "2022-02-10T12:13:04.407Z"
   },
   {
    "duration": 5,
    "start_time": "2022-02-10T12:13:04.436Z"
   },
   {
    "duration": 31,
    "start_time": "2022-02-10T12:13:04.442Z"
   },
   {
    "duration": 6,
    "start_time": "2022-02-10T12:13:04.476Z"
   },
   {
    "duration": 4,
    "start_time": "2022-02-10T12:13:04.483Z"
   },
   {
    "duration": 20,
    "start_time": "2022-02-10T12:13:04.489Z"
   },
   {
    "duration": 4,
    "start_time": "2022-02-10T12:13:04.511Z"
   },
   {
    "duration": 10,
    "start_time": "2022-02-10T12:13:04.516Z"
   },
   {
    "duration": 8,
    "start_time": "2022-02-10T12:13:04.527Z"
   },
   {
    "duration": 563,
    "start_time": "2022-02-10T12:13:04.536Z"
   },
   {
    "duration": 5,
    "start_time": "2022-02-10T12:13:05.100Z"
   },
   {
    "duration": 8,
    "start_time": "2022-02-10T12:13:05.107Z"
   },
   {
    "duration": 4,
    "start_time": "2022-02-10T12:13:05.117Z"
   },
   {
    "duration": 95,
    "start_time": "2022-02-10T12:24:40.898Z"
   },
   {
    "duration": 4,
    "start_time": "2022-02-10T12:24:59.993Z"
   },
   {
    "duration": 3,
    "start_time": "2022-02-10T12:25:18.258Z"
   },
   {
    "duration": 19,
    "start_time": "2022-02-10T12:25:19.910Z"
   },
   {
    "duration": 409,
    "start_time": "2022-02-10T14:24:33.121Z"
   },
   {
    "duration": 309,
    "start_time": "2022-02-10T14:24:41.814Z"
   },
   {
    "duration": 431,
    "start_time": "2022-02-10T14:25:30.201Z"
   },
   {
    "duration": 12,
    "start_time": "2022-02-10T14:25:47.080Z"
   },
   {
    "duration": 18,
    "start_time": "2022-02-10T14:26:38.943Z"
   },
   {
    "duration": 94,
    "start_time": "2022-02-10T14:28:29.500Z"
   },
   {
    "duration": 15,
    "start_time": "2022-02-10T14:28:34.922Z"
   },
   {
    "duration": 107,
    "start_time": "2022-02-10T14:28:47.853Z"
   },
   {
    "duration": 14,
    "start_time": "2022-02-10T14:28:56.782Z"
   },
   {
    "duration": 13,
    "start_time": "2022-02-10T14:29:12.947Z"
   },
   {
    "duration": 14,
    "start_time": "2022-02-10T14:29:33.099Z"
   },
   {
    "duration": 14,
    "start_time": "2022-02-10T14:29:40.314Z"
   },
   {
    "duration": 14,
    "start_time": "2022-02-10T14:30:55.539Z"
   },
   {
    "duration": 14,
    "start_time": "2022-02-10T14:31:06.401Z"
   },
   {
    "duration": 14,
    "start_time": "2022-02-10T14:42:00.688Z"
   },
   {
    "duration": 508,
    "start_time": "2022-02-11T08:22:32.407Z"
   },
   {
    "duration": 511,
    "start_time": "2022-02-11T08:22:49.067Z"
   },
   {
    "duration": 601,
    "start_time": "2022-02-11T08:23:02.560Z"
   },
   {
    "duration": 17,
    "start_time": "2022-02-11T12:24:56.874Z"
   },
   {
    "duration": 17,
    "start_time": "2022-02-11T12:25:08.792Z"
   },
   {
    "duration": 294,
    "start_time": "2022-02-11T14:34:57.020Z"
   },
   {
    "duration": 31,
    "start_time": "2022-02-11T14:35:12.958Z"
   },
   {
    "duration": 963,
    "start_time": "2022-02-11T14:42:57.286Z"
   },
   {
    "duration": 351,
    "start_time": "2022-02-11T14:42:58.251Z"
   },
   {
    "duration": 623,
    "start_time": "2022-02-11T14:42:58.604Z"
   },
   {
    "duration": 4,
    "start_time": "2022-02-11T14:42:59.229Z"
   },
   {
    "duration": 142,
    "start_time": "2022-02-11T14:42:59.235Z"
   },
   {
    "duration": 13,
    "start_time": "2022-02-11T14:42:59.378Z"
   },
   {
    "duration": 52,
    "start_time": "2022-02-11T14:42:59.392Z"
   },
   {
    "duration": 43,
    "start_time": "2022-02-11T14:42:59.447Z"
   },
   {
    "duration": 7,
    "start_time": "2022-02-11T14:42:59.492Z"
   },
   {
    "duration": 5,
    "start_time": "2022-02-11T14:42:59.500Z"
   },
   {
    "duration": 27,
    "start_time": "2022-02-11T14:42:59.506Z"
   },
   {
    "duration": 45,
    "start_time": "2022-02-11T14:42:59.535Z"
   },
   {
    "duration": 5,
    "start_time": "2022-02-11T14:42:59.581Z"
   },
   {
    "duration": 11,
    "start_time": "2022-02-11T14:42:59.587Z"
   },
   {
    "duration": 5,
    "start_time": "2022-02-11T14:42:59.599Z"
   },
   {
    "duration": 9,
    "start_time": "2022-02-11T14:42:59.605Z"
   },
   {
    "duration": 8,
    "start_time": "2022-02-11T14:42:59.616Z"
   },
   {
    "duration": 5,
    "start_time": "2022-02-11T14:42:59.625Z"
   },
   {
    "duration": 9,
    "start_time": "2022-02-11T14:42:59.631Z"
   },
   {
    "duration": 38,
    "start_time": "2022-02-11T14:42:59.642Z"
   },
   {
    "duration": 9,
    "start_time": "2022-02-11T14:42:59.682Z"
   },
   {
    "duration": 14,
    "start_time": "2022-02-11T14:42:59.693Z"
   },
   {
    "duration": 3,
    "start_time": "2022-02-11T14:42:59.709Z"
   },
   {
    "duration": 25,
    "start_time": "2022-02-11T14:42:59.713Z"
   },
   {
    "duration": 6,
    "start_time": "2022-02-11T14:42:59.739Z"
   },
   {
    "duration": 6,
    "start_time": "2022-02-11T14:42:59.771Z"
   },
   {
    "duration": 15,
    "start_time": "2022-02-11T14:42:59.779Z"
   },
   {
    "duration": 13,
    "start_time": "2022-02-11T14:42:59.795Z"
   },
   {
    "duration": 25,
    "start_time": "2022-02-11T14:42:59.809Z"
   },
   {
    "duration": 4,
    "start_time": "2022-02-11T14:42:59.835Z"
   },
   {
    "duration": 11,
    "start_time": "2022-02-11T14:42:59.841Z"
   },
   {
    "duration": 531,
    "start_time": "2022-02-11T14:42:59.853Z"
   },
   {
    "duration": 14,
    "start_time": "2022-02-11T14:43:00.385Z"
   },
   {
    "duration": 8,
    "start_time": "2022-02-11T14:43:00.400Z"
   },
   {
    "duration": 17,
    "start_time": "2022-02-11T14:43:00.409Z"
   }
  ],
  "kernelspec": {
   "display_name": "Python 3 (ipykernel)",
   "language": "python",
   "name": "python3"
  },
  "language_info": {
   "codemirror_mode": {
    "name": "ipython",
    "version": 3
   },
   "file_extension": ".py",
   "mimetype": "text/x-python",
   "name": "python",
   "nbconvert_exporter": "python",
   "pygments_lexer": "ipython3",
   "version": "3.9.7"
  },
  "toc": {
   "base_numbering": 1,
   "nav_menu": {},
   "number_sections": true,
   "sideBar": true,
   "skip_h1_title": true,
   "title_cell": "Table of Contents",
   "title_sidebar": "Contents",
   "toc_cell": false,
   "toc_position": {},
   "toc_section_display": true,
   "toc_window_display": false
  }
 },
 "nbformat": 4,
 "nbformat_minor": 2
}
